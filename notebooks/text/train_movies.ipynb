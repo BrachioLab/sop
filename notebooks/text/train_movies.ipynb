{
 "cells": [
  {
   "cell_type": "code",
   "execution_count": 1,
   "id": "5e7838f6-1134-4508-ab0c-63e9b48b99cc",
   "metadata": {
    "tags": []
   },
   "outputs": [],
   "source": [
    "import json\n",
    "import os\n",
    "import argparse\n",
    "\n",
    "import numpy as np\n",
    "import random\n",
    "import torch\n",
    "from torch import nn, optim\n",
    "from tqdm.auto import tqdm\n",
    "from transformers import AutoImageProcessor, AutoModelForImageClassification, AutoConfig\n",
    "from transformers import AutoTokenizer, AutoModelForSequenceClassification\n",
    "\n",
    "from pathlib import Path\n",
    "from torch.utils.data import DataLoader, Subset\n",
    "import sys\n",
    "sys.path.append('../../lib/exlib/src')\n",
    "from exlib.modules.sop import SOPTextCls, SOPConfig, get_chained_attr\n",
    "from exlib.datasets.eraser_movies import EraserMovies"
   ]
  },
  {
   "cell_type": "code",
   "execution_count": 2,
   "id": "ebdbef0b-ef0b-403b-97f2-24c9b67fdaa1",
   "metadata": {
    "tags": []
   },
   "outputs": [],
   "source": [
    "device = torch.device('cuda' if torch.cuda.is_available() else 'cpu')\n",
    "\n",
    "SEED = 42\n",
    "if SEED != -1:\n",
    "    # Torch RNG\n",
    "    torch.manual_seed(SEED)\n",
    "    torch.cuda.manual_seed(SEED)\n",
    "    torch.cuda.manual_seed_all(SEED)\n",
    "    # Python RNG\n",
    "    np.random.seed(SEED)\n",
    "    random.seed(SEED)"
   ]
  },
  {
   "cell_type": "code",
   "execution_count": 3,
   "id": "c936663e-2c91-49af-a263-30ffbeeda7d1",
   "metadata": {
    "tags": []
   },
   "outputs": [],
   "source": [
    "# model paths\n",
    "backbone_model_name = '../../pt_models/movies_vanilla_lr000001_ep100/best'\n",
    "backbone_processor_name = 'bert-base-uncased'\n",
    "# sop_config_path = 'configs/imagenet_m.json'\n",
    "\n",
    "# data paths\n",
    "# TRAIN_DATA_DIR = '../data/imagenet_m/train'\n",
    "# VAL_DATA_DIR = '../data/imagenet_m/val'\n",
    "\n",
    "# training args\n",
    "batch_size = 2\n",
    "lr = 0.000005\n",
    "num_epochs = 20\n",
    "warmup_steps = 2000\n",
    "mask_batch_size = 4\n",
    "\n",
    "# experiment args\n",
    "exp_dir = '../../exps/movies'\n",
    "os.makedirs(exp_dir, exist_ok=True)"
   ]
  },
  {
   "cell_type": "code",
   "execution_count": 4,
   "id": "4a3e71e3-0fef-4072-a32f-12097a830cb9",
   "metadata": {
    "tags": []
   },
   "outputs": [],
   "source": [
    "backbone_model = AutoModelForSequenceClassification.from_pretrained(backbone_model_name)\n",
    "processor = AutoTokenizer.from_pretrained(backbone_processor_name)\n",
    "backbone_config = AutoConfig.from_pretrained(backbone_model_name)\n",
    "\n",
    "config = SOPConfig(\n",
    "    # attn_patch_size=16,\n",
    "    num_heads=1,\n",
    "    num_masks_sample=8,\n",
    "    num_masks_max=16,\n",
    "    finetune_layers=['model.classifier']\n",
    ")\n",
    "config.__dict__.update(backbone_config.__dict__)\n",
    "config.num_labels = len(backbone_config.label2id)\n",
    "# config.save_pretrained(exp_dir)"
   ]
  },
  {
   "cell_type": "code",
   "execution_count": 5,
   "id": "aef0835b-02b8-40b1-bac9-35a92d9cde77",
   "metadata": {
    "tags": []
   },
   "outputs": [
    {
     "name": "stdout",
     "output_type": "stream",
     "text": [
      "SEP 102 SENT_SEPS [1025, 1010, 1012, 1029, 999, 1025]\n"
     ]
    }
   ],
   "source": [
    "from torch.utils.data import DataLoader\n",
    "from datasets import load_dataset\n",
    "\n",
    "SENT_SEPS = [processor.convert_tokens_to_ids(processor.tokenize(token)[0]) for token in [';',',','.','?','!',';']]\n",
    "SEP = processor.convert_tokens_to_ids(processor.tokenize('[SEP]')[0])\n",
    "print('SEP', SEP, 'SENT_SEPS', SENT_SEPS)\n",
    "\n",
    "def sent_seg(input_ids):\n",
    "    segs = []\n",
    "    count = 1\n",
    "    for i, input_id in enumerate(input_ids):\n",
    "        if count in [0, -1]:\n",
    "            if input_id == SEP:\n",
    "                count = -1\n",
    "            segs.append(count)\n",
    "            continue\n",
    "        else:\n",
    "            if input_id in SENT_SEPS:\n",
    "                segs.append(count)\n",
    "                count += 1\n",
    "            elif input_id == SEP:\n",
    "                if count > 0:\n",
    "                    count = 0\n",
    "                    segs.append(count)\n",
    "                else:\n",
    "                    segs.append(count)\n",
    "                    count = -1\n",
    "            else: # normal character\n",
    "                segs.append(count)\n",
    "    return segs\n",
    "\n",
    "def convert_idx_masks_to_bool_text(masks):\n",
    "    \"\"\"\n",
    "    input: masks (1, seq_len)\n",
    "    output: masks_bool (num_masks, seq_len)\n",
    "    \"\"\"\n",
    "    unique_idxs = torch.sort(torch.unique(masks)).values\n",
    "    unique_idxs = unique_idxs[unique_idxs != -1]\n",
    "    unique_idxs = unique_idxs[unique_idxs != 0]\n",
    "    idxs = unique_idxs.view(-1, 1)\n",
    "    broadcasted_masks = masks.expand(unique_idxs.shape[0], \n",
    "                                     masks.shape[1])\n",
    "    masks_bool = (broadcasted_masks == idxs)\n",
    "    return masks_bool\n",
    "\n",
    "\n",
    "def get_mask_transform_text(num_masks_max=200, processor=None):\n",
    "    def mask_transform(mask):\n",
    "        seg_mask_cut_off = num_masks_max\n",
    "        # print('mask 1', mask)\n",
    "        # if mask.max(dim=-1) > seg_mask_cut_off:\n",
    "        # import pdb; pdb.set_trace()\n",
    "        if mask.max(dim=-1).values.item() > seg_mask_cut_off:\n",
    "            mask_new = (mask / (mask.max(dim=-1).values / seg_mask_cut_off)).int().float() + 1\n",
    "            # bsz, seq_len = mask_new.shape\n",
    "            # print('mask 2', mask_new)\n",
    "            # import pdb; pdb.set_trace()\n",
    "            mask_new[mask == 0] = 0\n",
    "            mask_new[mask == -1] = -1\n",
    "            mask = mask_new\n",
    "        \n",
    "        if mask.dtype != torch.bool:\n",
    "            if len(mask.shape) == 1:\n",
    "                mask = mask.unsqueeze(0)\n",
    "            # print('mask', mask.shape)\n",
    "            mask_bool = convert_idx_masks_to_bool_text(mask)\n",
    "        # print(mask.shape)\n",
    "        bsz, seq_len = mask.shape\n",
    "        mask_bool = mask_bool.float()\n",
    "        \n",
    "        \n",
    "\n",
    "        if bsz < seg_mask_cut_off:\n",
    "            repeat_count = seg_mask_cut_off // bsz + 1\n",
    "            mask_bool = torch.cat([mask_bool] * repeat_count, dim=0)\n",
    "\n",
    "        # add additional mask afterwards\n",
    "        mask_bool_sum = torch.sum(mask_bool[:seg_mask_cut_off - 1], dim=0, keepdim=True).bool()\n",
    "        if False in mask_bool_sum:\n",
    "            mask_bool = mask_bool[:seg_mask_cut_off - 1]\n",
    "            # import pdb; pdb.set_trace()\n",
    "            compensation_mask = (1 - mask_bool_sum.int()).bool()\n",
    "            compensation_mask[mask == 0] = False\n",
    "            compensation_mask[mask == -1] = False\n",
    "            mask_bool = torch.cat([mask_bool, compensation_mask])\n",
    "        else:\n",
    "            mask_bool = mask_bool[:seg_mask_cut_off]\n",
    "        return mask_bool\n",
    "    return mask_transform\n",
    "\n",
    "mask_transform = get_mask_transform_text(config.num_masks_max)\n",
    "\n",
    "def transform(batch):\n",
    "    # Preprocess the image using the ViTImageProcessor\n",
    "    if processor is not None:\n",
    "        inputs = processor(batch['passage'], \n",
    "                           batch['query'], \n",
    "                           padding='max_length', \n",
    "                           truncation=True, \n",
    "                           max_length=512)\n",
    "        # import pdb; pdb.set_trace()\n",
    "        seg = sent_seg(inputs['input_ids'])\n",
    "        seg_bool = mask_transform(torch.tensor(seg))\n",
    "        \n",
    "        inputs = {k: torch.tensor(v) for k, v in inputs.items()}\n",
    "        inputs['segs'] = seg_bool\n",
    "        inputs['label'] = batch['label']\n",
    "        \n",
    "        # segs_bool = []\n",
    "        # for seg in segs:\n",
    "        #     seg_bool = mask_transform(torch.tensor(seg))\n",
    "        #     segs_bool.append(seg_bool)\n",
    "        # inputs['segs'] = torch.stack(segs_bool)\n",
    "        # print(\"inputs['segs']\", inputs['segs'].shape)\n",
    "        # for k, v in inputs.items():\n",
    "        #     print(k, v.shape)\n",
    "        # import pdb; pdb.set_trace()\n",
    "        return inputs\n",
    "    else:\n",
    "        return batch\n",
    "\n",
    "\n",
    "train_size, val_size = -1, -1\n",
    "# train_size, val_size = 100, 100\n",
    "\n",
    "train_dataset = EraserMovies('../../data/movies', split='train',\n",
    "                                         transform=transform, data_size=train_size)\n",
    "val_dataset = EraserMovies('../../data/movies', split='val',\n",
    "                                         transform=transform, data_size=val_size)\n",
    "\n",
    "if train_size != -1:\n",
    "    train_dataset = Subset(train_dataset, list(range(train_size)))\n",
    "if val_size != -1:\n",
    "    val_dataset = Subset(val_dataset, list(range(val_size)))\n",
    "\n",
    "# Create a DataLoader to batch and shuffle the data\n",
    "train_dataloader = DataLoader(train_dataset, batch_size=batch_size, shuffle=True)\n",
    "val_dataloader = DataLoader(val_dataset, batch_size=batch_size, shuffle=False)"
   ]
  },
  {
   "cell_type": "code",
   "execution_count": 6,
   "id": "4cea2f26-b9e6-4abe-83bd-5050dcbb16f3",
   "metadata": {
    "tags": []
   },
   "outputs": [],
   "source": [
    "from collections import namedtuple\n",
    "\n",
    "WrappedBackboneOutput = namedtuple(\"WrappedBackboneOutput\", \n",
    "                                  [\"logits\",\n",
    "                                   \"pooler_output\"])\n",
    "\n",
    "\n",
    "class WrappedBackboneModel(nn.Module):\n",
    "    def __init__(self, model):\n",
    "        super().__init__()\n",
    "        self.model = model\n",
    "    \n",
    "    def forward(self, inputs=None, **kwargs):\n",
    "        outputs = self.model(inputs, output_hidden_states=True, **kwargs)\n",
    "        return WrappedBackboneOutput(outputs.logits, outputs.hidden_states[-1][:,0])"
   ]
  },
  {
   "cell_type": "code",
   "execution_count": 7,
   "id": "5e4b54a6-80d5-4bfd-ad56-39a862f28d09",
   "metadata": {
    "tags": []
   },
   "outputs": [],
   "source": [
    "wrapped_backbone_model = WrappedBackboneModel(backbone_model)\n",
    "wrapped_backbone_model = wrapped_backbone_model.to(device)\n",
    "class_weights = get_chained_attr(wrapped_backbone_model, config.finetune_layers[0]).weight #.clone().to(device)\n",
    "projection_layer = wrapped_backbone_model.model.bert.embeddings.word_embeddings"
   ]
  },
  {
   "cell_type": "code",
   "execution_count": 8,
   "id": "0bf3ed2f-bae5-4a0a-8481-392821c34cc3",
   "metadata": {
    "tags": []
   },
   "outputs": [
    {
     "name": "stdout",
     "output_type": "stream",
     "text": [
      "deep copy class weights\n"
     ]
    }
   ],
   "source": [
    "model = SOPTextCls(config, wrapped_backbone_model, class_weights=class_weights, projection_layer=projection_layer)\n",
    "model = model.to(device)"
   ]
  },
  {
   "cell_type": "code",
   "execution_count": 9,
   "id": "d698838c-d435-4bad-b200-9c0d0a4701d5",
   "metadata": {
    "tags": []
   },
   "outputs": [],
   "source": [
    "from transformers import get_scheduler\n",
    "\n",
    "optimizer = optim.AdamW(filter(lambda p: p.requires_grad, model.parameters()), lr=lr)\n",
    "num_training_steps = len(train_dataloader) * num_epochs\n",
    "lr_scheduler = get_scheduler(\n",
    "            'inverse_sqrt',\n",
    "            optimizer=optimizer, \n",
    "            num_warmup_steps=warmup_steps\n",
    "        )\n",
    "criterion = nn.CrossEntropyLoss()"
   ]
  },
  {
   "cell_type": "code",
   "execution_count": 10,
   "id": "4128a754-4503-41c2-8970-a1d432844876",
   "metadata": {
    "tags": []
   },
   "outputs": [],
   "source": [
    "def eval(model, dataloader, criterion, sop=True):\n",
    "    print('Eval ...')\n",
    "    model.eval()\n",
    "    total_loss = 0.0\n",
    "    correct = 0\n",
    "    total = 0\n",
    "    with torch.no_grad():\n",
    "        progress_bar_eval = tqdm(range(len(dataloader)))\n",
    "        for i, batch in enumerate(dataloader):\n",
    "            # Now you can use `inputs` and `labels` in your training loop.\n",
    "            if not isinstance(batch['input_ids'], torch.Tensor):\n",
    "                inputs = torch.stack(batch['input_ids']).transpose(0, 1).to(device)\n",
    "                if 'token_type_ids' in batch:\n",
    "                    token_type_ids = torch.stack(batch['token_type_ids']).transpose(0, 1).to(device)\n",
    "                else:\n",
    "                    token_type_ids = None\n",
    "                attention_mask = torch.stack(batch['attention_mask']).transpose(0, 1).to(device)\n",
    "\n",
    "                concatenated_rows = [torch.stack(sublist) for sublist in batch['segs']]\n",
    "                segs = torch.stack(concatenated_rows).permute(2, 0, 1).to(device).float()\n",
    "                # print('segs', segs.shape)\n",
    "            else:\n",
    "                inputs = batch['input_ids'].to(device)\n",
    "                if 'token_type_ids' in batch:\n",
    "                    token_type_ids = batch['token_type_ids'].to(device)\n",
    "                else:\n",
    "                    token_type_ids = None\n",
    "                attention_mask = batch['attention_mask'].to(device)\n",
    "                segs = batch['segs'].to(device).float()\n",
    "            kwargs = {\n",
    "                'token_type_ids': token_type_ids,\n",
    "                'attention_mask': attention_mask,\n",
    "            }\n",
    "            labels = batch['label'].to(device)\n",
    "\n",
    "            if sop:\n",
    "                logits = model(inputs, segs=segs, kwargs=kwargs)\n",
    "            else:\n",
    "                logits = model(inputs, **kwargs).logits\n",
    "            \n",
    "            # val loss\n",
    "            loss = criterion(logits, labels)\n",
    "            total_loss += loss.item()\n",
    "            \n",
    "            # acc\n",
    "            _, predicted = torch.max(logits.data, 1)\n",
    "            correct += (predicted == labels).sum().item()\n",
    "            \n",
    "            total += labels.size(0)\n",
    "            \n",
    "            progress_bar_eval.update(1)\n",
    "    \n",
    "    val_acc = correct / total\n",
    "    val_loss = total_loss / total\n",
    "    \n",
    "    model.train()\n",
    "    \n",
    "    return {\n",
    "        'val_acc': val_acc,\n",
    "        'val_loss': val_loss\n",
    "    }"
   ]
  },
  {
   "cell_type": "code",
   "execution_count": 11,
   "id": "e655f0f4-1b2e-4143-9ceb-8b90d35de5c5",
   "metadata": {
    "tags": []
   },
   "outputs": [
    {
     "name": "stdout",
     "output_type": "stream",
     "text": [
      "Eval ...\n"
     ]
    },
    {
     "data": {
      "application/vnd.jupyter.widget-view+json": {
       "model_id": "ff1c88e4b6794924b43e31c935b779e3",
       "version_major": 2,
       "version_minor": 0
      },
      "text/plain": [
       "  0%|          | 0/100 [00:00<?, ?it/s]"
      ]
     },
     "metadata": {},
     "output_type": "display_data"
    },
    {
     "data": {
      "text/plain": [
       "0.88"
      ]
     },
     "execution_count": 11,
     "metadata": {},
     "output_type": "execute_result"
    }
   ],
   "source": [
    "backbone_val_results = eval(wrapped_backbone_model, val_dataloader, criterion, sop=False)\n",
    "backbone_val_acc = backbone_val_results['val_acc']\n",
    "backbone_val_acc"
   ]
  },
  {
   "cell_type": "code",
   "execution_count": null,
   "id": "ae07940a-296b-478b-bc20-691898613b40",
   "metadata": {
    "tags": []
   },
   "outputs": [
    {
     "name": "stderr",
     "output_type": "stream",
     "text": [
      "\u001b[34m\u001b[1mwandb\u001b[0m: Currently logged in as: \u001b[33mfallcat\u001b[0m. Use \u001b[1m`wandb login --relogin`\u001b[0m to force relogin\n"
     ]
    },
    {
     "data": {
      "text/html": [
       "wandb version 0.16.0 is available!  To upgrade, please run:\n",
       " $ pip install wandb --upgrade"
      ],
      "text/plain": [
       "<IPython.core.display.HTML object>"
      ]
     },
     "metadata": {},
     "output_type": "display_data"
    },
    {
     "data": {
      "text/html": [
       "Tracking run with wandb version 0.15.12"
      ],
      "text/plain": [
       "<IPython.core.display.HTML object>"
      ]
     },
     "metadata": {},
     "output_type": "display_data"
    },
    {
     "data": {
      "text/html": [
       "Run data is saved locally in <code>/shared_data0/weiqiuy/sop/notebooks/text/wandb/run-20231117_195908-l4wd1vap</code>"
      ],
      "text/plain": [
       "<IPython.core.display.HTML object>"
      ]
     },
     "metadata": {},
     "output_type": "display_data"
    },
    {
     "data": {
      "text/html": [
       "Syncing run <strong><a href='https://wandb.ai/fallcat/sop/runs/l4wd1vap' target=\"_blank\">twilight-snowflake-42</a></strong> to <a href='https://wandb.ai/fallcat/sop' target=\"_blank\">Weights & Biases</a> (<a href='https://wandb.me/run' target=\"_blank\">docs</a>)<br/>"
      ],
      "text/plain": [
       "<IPython.core.display.HTML object>"
      ]
     },
     "metadata": {},
     "output_type": "display_data"
    },
    {
     "data": {
      "text/html": [
       " View project at <a href='https://wandb.ai/fallcat/sop' target=\"_blank\">https://wandb.ai/fallcat/sop</a>"
      ],
      "text/plain": [
       "<IPython.core.display.HTML object>"
      ]
     },
     "metadata": {},
     "output_type": "display_data"
    },
    {
     "data": {
      "text/html": [
       " View run at <a href='https://wandb.ai/fallcat/sop/runs/l4wd1vap' target=\"_blank\">https://wandb.ai/fallcat/sop/runs/l4wd1vap</a>"
      ],
      "text/plain": [
       "<IPython.core.display.HTML object>"
      ]
     },
     "metadata": {},
     "output_type": "display_data"
    },
    {
     "data": {
      "application/vnd.jupyter.widget-view+json": {
       "model_id": "2be0e666d89e49b2ac661573ed8a4f1d",
       "version_major": 2,
       "version_minor": 0
      },
      "text/plain": [
       "  0%|          | 0/16000 [00:00<?, ?it/s]"
      ]
     },
     "metadata": {},
     "output_type": "display_data"
    },
    {
     "name": "stdout",
     "output_type": "stream",
     "text": [
      "Epoch 0, Batch 100, Loss 0.8972, LR 0.00000025\n",
      "Epoch 0, Batch 200, Loss 0.8564, LR 0.00000050\n",
      "Epoch 0, Batch 300, Loss 0.9070, LR 0.00000075\n",
      "Epoch 0, Batch 400, Loss 0.7835, LR 0.00000100\n",
      "Epoch 0, Batch 500, Loss 0.7336, LR 0.00000125\n",
      "Epoch 0, Batch 600, Loss 0.7277, LR 0.00000150\n",
      "Epoch 0, Batch 700, Loss 0.8650, LR 0.00000175\n",
      "Epoch 0, Batch 800, Loss 0.6705, LR 0.00000200\n",
      "Eval ...\n"
     ]
    },
    {
     "data": {
      "application/vnd.jupyter.widget-view+json": {
       "model_id": "13cc0b084fb14defa8bdcd43299dc920",
       "version_major": 2,
       "version_minor": 0
      },
      "text/plain": [
       "  0%|          | 0/100 [00:00<?, ?it/s]"
      ]
     },
     "metadata": {},
     "output_type": "display_data"
    },
    {
     "name": "stdout",
     "output_type": "stream",
     "text": [
      "Epoch 0, Step 799, Val acc 0.7400, Val loss 0.2821\n",
      "Best checkpoint saved at ../../exps/movies/best/checkpoint.pth\n",
      "Last checkpoint saved at ../../exps/movies/last/checkpoint.pth\n",
      "Epoch 1, Batch 100, Loss 0.7022, LR 0.00000225\n",
      "Epoch 1, Batch 200, Loss 0.6496, LR 0.00000250\n",
      "Epoch 1, Batch 300, Loss 0.6669, LR 0.00000275\n",
      "Epoch 1, Batch 400, Loss 0.5844, LR 0.00000300\n",
      "Epoch 1, Batch 500, Loss 0.5636, LR 0.00000325\n",
      "Epoch 1, Batch 600, Loss 0.5139, LR 0.00000350\n",
      "Epoch 1, Batch 700, Loss 0.5363, LR 0.00000375\n",
      "Epoch 1, Batch 800, Loss 0.5091, LR 0.00000400\n",
      "Eval ...\n"
     ]
    },
    {
     "data": {
      "application/vnd.jupyter.widget-view+json": {
       "model_id": "d4d65cfb901d4908b8371d68bf534176",
       "version_major": 2,
       "version_minor": 0
      },
      "text/plain": [
       "  0%|          | 0/100 [00:00<?, ?it/s]"
      ]
     },
     "metadata": {},
     "output_type": "display_data"
    },
    {
     "name": "stdout",
     "output_type": "stream",
     "text": [
      "Epoch 1, Step 1599, Val acc 0.7650, Val loss 0.3060\n",
      "Best checkpoint saved at ../../exps/movies/best/checkpoint.pth\n",
      "Last checkpoint saved at ../../exps/movies/last/checkpoint.pth\n",
      "Epoch 2, Batch 100, Loss 0.4649, LR 0.00000425\n",
      "Epoch 2, Batch 200, Loss 0.4800, LR 0.00000450\n",
      "Epoch 2, Batch 300, Loss 0.4737, LR 0.00000475\n",
      "Epoch 2, Batch 400, Loss 0.4451, LR 0.00000500\n",
      "Epoch 2, Batch 500, Loss 0.5233, LR 0.00000488\n",
      "Epoch 2, Batch 600, Loss 0.4893, LR 0.00000477\n",
      "Epoch 2, Batch 700, Loss 0.4476, LR 0.00000466\n",
      "Epoch 2, Batch 800, Loss 0.4554, LR 0.00000457\n",
      "Eval ...\n"
     ]
    },
    {
     "data": {
      "application/vnd.jupyter.widget-view+json": {
       "model_id": "6f9b201169fd491caf2a8f4b61ea5c31",
       "version_major": 2,
       "version_minor": 0
      },
      "text/plain": [
       "  0%|          | 0/100 [00:00<?, ?it/s]"
      ]
     },
     "metadata": {},
     "output_type": "display_data"
    },
    {
     "name": "stdout",
     "output_type": "stream",
     "text": [
      "Epoch 2, Step 2399, Val acc 0.7850, Val loss 0.2849\n",
      "Best checkpoint saved at ../../exps/movies/best/checkpoint.pth\n",
      "Last checkpoint saved at ../../exps/movies/last/checkpoint.pth\n",
      "Epoch 3, Batch 100, Loss 0.4957, LR 0.00000447\n",
      "Epoch 3, Batch 200, Loss 0.4651, LR 0.00000439\n",
      "Epoch 3, Batch 300, Loss 0.4310, LR 0.00000430\n",
      "Epoch 3, Batch 400, Loss 0.3960, LR 0.00000423\n",
      "Epoch 3, Batch 500, Loss 0.4543, LR 0.00000415\n",
      "Epoch 3, Batch 600, Loss 0.4201, LR 0.00000408\n",
      "Epoch 3, Batch 700, Loss 0.4244, LR 0.00000402\n",
      "Epoch 3, Batch 800, Loss 0.3985, LR 0.00000395\n",
      "Eval ...\n"
     ]
    },
    {
     "data": {
      "application/vnd.jupyter.widget-view+json": {
       "model_id": "7c0b68cdcc0c4da391fdf6d5f41ee0e1",
       "version_major": 2,
       "version_minor": 0
      },
      "text/plain": [
       "  0%|          | 0/100 [00:00<?, ?it/s]"
      ]
     },
     "metadata": {},
     "output_type": "display_data"
    },
    {
     "name": "stdout",
     "output_type": "stream",
     "text": [
      "Epoch 3, Step 3199, Val acc 0.7800, Val loss 0.2720\n",
      "Last checkpoint saved at ../../exps/movies/last/checkpoint.pth\n",
      "Epoch 4, Batch 100, Loss 0.4305, LR 0.00000389\n",
      "Epoch 4, Batch 200, Loss 0.3878, LR 0.00000384\n",
      "Epoch 4, Batch 300, Loss 0.4128, LR 0.00000378\n",
      "Epoch 4, Batch 400, Loss 0.3975, LR 0.00000373\n",
      "Epoch 4, Batch 500, Loss 0.3972, LR 0.00000368\n",
      "Epoch 4, Batch 600, Loss 0.3411, LR 0.00000363\n",
      "Epoch 4, Batch 700, Loss 0.4083, LR 0.00000358\n",
      "Epoch 4, Batch 800, Loss 0.3697, LR 0.00000354\n",
      "Eval ...\n"
     ]
    },
    {
     "data": {
      "application/vnd.jupyter.widget-view+json": {
       "model_id": "2431f8c0e36b4893ae8051151b7bc026",
       "version_major": 2,
       "version_minor": 0
      },
      "text/plain": [
       "  0%|          | 0/100 [00:00<?, ?it/s]"
      ]
     },
     "metadata": {},
     "output_type": "display_data"
    },
    {
     "name": "stdout",
     "output_type": "stream",
     "text": [
      "Epoch 4, Step 3999, Val acc 0.8100, Val loss 0.2471\n",
      "Best checkpoint saved at ../../exps/movies/best/checkpoint.pth\n",
      "Last checkpoint saved at ../../exps/movies/last/checkpoint.pth\n",
      "Epoch 5, Batch 100, Loss 0.4003, LR 0.00000349\n",
      "Epoch 5, Batch 200, Loss 0.3478, LR 0.00000345\n",
      "Epoch 5, Batch 300, Loss 0.3441, LR 0.00000341\n",
      "Epoch 5, Batch 400, Loss 0.4380, LR 0.00000337\n",
      "Epoch 5, Batch 500, Loss 0.4595, LR 0.00000333\n",
      "Epoch 5, Batch 600, Loss 0.3980, LR 0.00000330\n",
      "Epoch 5, Batch 700, Loss 0.3512, LR 0.00000326\n",
      "Epoch 5, Batch 800, Loss 0.3194, LR 0.00000323\n",
      "Eval ...\n"
     ]
    },
    {
     "data": {
      "application/vnd.jupyter.widget-view+json": {
       "model_id": "59bee6328fae4edbbbeb894eff863901",
       "version_major": 2,
       "version_minor": 0
      },
      "text/plain": [
       "  0%|          | 0/100 [00:00<?, ?it/s]"
      ]
     },
     "metadata": {},
     "output_type": "display_data"
    },
    {
     "name": "stdout",
     "output_type": "stream",
     "text": [
      "Epoch 5, Step 4799, Val acc 0.8350, Val loss 0.2306\n",
      "Best checkpoint saved at ../../exps/movies/best/checkpoint.pth\n",
      "Last checkpoint saved at ../../exps/movies/last/checkpoint.pth\n",
      "Epoch 6, Batch 100, Loss 0.4078, LR 0.00000319\n",
      "Epoch 6, Batch 200, Loss 0.4148, LR 0.00000316\n",
      "Epoch 6, Batch 300, Loss 0.3865, LR 0.00000313\n",
      "Epoch 6, Batch 400, Loss 0.3350, LR 0.00000310\n",
      "Epoch 6, Batch 500, Loss 0.2978, LR 0.00000307\n",
      "Epoch 6, Batch 600, Loss 0.3267, LR 0.00000304\n",
      "Epoch 6, Batch 700, Loss 0.3344, LR 0.00000302\n"
     ]
    }
   ],
   "source": [
    "import logging\n",
    "\n",
    "track = True\n",
    "# track = False\n",
    "\n",
    "if track:\n",
    "    import wandb\n",
    "    wandb.init(project='sop')\n",
    "    wandb.run.name = os.path.basename(exp_dir)\n",
    "\n",
    "# Iterate over the data\n",
    "best_val_acc = 0.0\n",
    "step = 0\n",
    "train_log_interval = 100\n",
    "val_eval_interval = 1000\n",
    "\n",
    "logging.basicConfig(filename=os.path.join(exp_dir, 'train.log'), level=logging.INFO)\n",
    "\n",
    "model.train()\n",
    "\n",
    "progress_bar = tqdm(range(num_training_steps))\n",
    "for epoch in range(num_epochs):\n",
    "    running_loss = 0.0\n",
    "    running_total = 0\n",
    "    for i, batch in enumerate(train_dataloader):\n",
    "        # import pdb; pdb.set_trace()\n",
    "        # inputs, labels = batch\n",
    "        # inputs, labels = inputs.to(device), labels.to(device)\n",
    "        if not isinstance(batch['input_ids'], torch.Tensor):\n",
    "            inputs = torch.stack(batch['input_ids']).transpose(0, 1).to(device)\n",
    "            if 'token_type_ids' in batch:\n",
    "                token_type_ids = torch.stack(batch['token_type_ids']).transpose(0, 1).to(device)\n",
    "            else:\n",
    "                token_type_ids = None\n",
    "            attention_mask = torch.stack(batch['attention_mask']).transpose(0, 1).to(device)\n",
    "            \n",
    "            concatenated_rows = [torch.stack(sublist) for sublist in batch['segs']]\n",
    "            segs = torch.stack(concatenated_rows).permute(2, 0, 1).to(device).float()\n",
    "            # print('segs', segs.shape)\n",
    "        else:\n",
    "            inputs = batch['input_ids'].to(device)\n",
    "            if 'token_type_ids' in batch:\n",
    "                token_type_ids = batch['token_type_ids'].to(device)\n",
    "            else:\n",
    "                token_type_ids = None\n",
    "            attention_mask = batch['attention_mask'].to(device)\n",
    "            segs = batch['segs'].to(device).float()\n",
    "        kwargs = {\n",
    "            'token_type_ids': token_type_ids,\n",
    "            'attention_mask': attention_mask,\n",
    "        }\n",
    "        labels = batch['label'].to(device)\n",
    "            \n",
    "        \n",
    "        optimizer.zero_grad()\n",
    "        logits = model(inputs, segs=segs, mask_batch_size=mask_batch_size, kwargs=kwargs)\n",
    "        loss = criterion(logits, labels)\n",
    "        loss.backward()\n",
    "        optimizer.step()\n",
    "        \n",
    "        running_loss += loss.item() * labels.size(0)\n",
    "        running_total += labels.size(0)\n",
    "        \n",
    "        if i % train_log_interval == train_log_interval - 1 or i == len(train_dataloader) - 1:\n",
    "            # Print training loss every 100 batches\n",
    "            curr_lr = float(optimizer.param_groups[0]['lr'])\n",
    "            log_message = f'Epoch {epoch}, Batch {i + 1}, Loss {running_loss / running_total:.4f}, LR {curr_lr:.8f}'\n",
    "            print(log_message)\n",
    "            logging.info(log_message)\n",
    "            if track:\n",
    "                wandb.log({'train_loss': running_loss / running_total,\n",
    "                        'lr': curr_lr,\n",
    "                        'epoch': epoch,\n",
    "                        'step': step})\n",
    "            running_loss = 0.0\n",
    "            running_total = 0\n",
    "            \n",
    "        if i % val_eval_interval == val_eval_interval - 1 or i == len(train_dataloader) - 1:\n",
    "            val_results = eval(model, val_dataloader, criterion)\n",
    "            val_acc = val_results['val_acc']\n",
    "            val_loss = val_results['val_loss']\n",
    "            log_message = f'Epoch {epoch}, Step {step}, Val acc {val_acc:.4f}, Val loss {val_loss:.4f}'\n",
    "            print(log_message)\n",
    "            logging.info(log_message)\n",
    "            if track:\n",
    "                wandb.log({'val_acc': val_acc,\n",
    "                           'val_loss': val_loss,\n",
    "                        'epoch': epoch,\n",
    "                        'step': step})\n",
    "            \n",
    "            last_dir = os.path.join(exp_dir, 'last')\n",
    "            best_dir = os.path.join(exp_dir, 'best')\n",
    "            checkpoint = {\n",
    "                    'model': model.state_dict(),\n",
    "                    'optimizer': optimizer.state_dict(),\n",
    "                    'lr_scheduler': lr_scheduler.state_dict(),\n",
    "                    'epoch': epoch,\n",
    "                    'step': step,\n",
    "                    'val_loss': val_loss,\n",
    "                    'val_acc': val_acc,\n",
    "                }\n",
    "            if val_acc > best_val_acc:\n",
    "                best_val_acc = val_acc\n",
    "                os.makedirs(best_dir, exist_ok=True)\n",
    "                best_checkpoint_path = os.path.join(best_dir, 'checkpoint.pth')\n",
    "                torch.save(checkpoint, best_checkpoint_path)\n",
    "                config_best_checkpoint_path = os.path.join(best_dir, 'config.json')\n",
    "                config.save_to_json(config_best_checkpoint_path)\n",
    "                print(f'Best checkpoint saved at {best_checkpoint_path}')\n",
    "                \n",
    "                # model.save_pretrained(best_dir)\n",
    "            # model.save_pretrained(last_dir)\n",
    "            os.makedirs(last_dir, exist_ok=True)\n",
    "            last_checkpoint_path = os.path.join(last_dir, 'checkpoint.pth')\n",
    "            torch.save(checkpoint, last_checkpoint_path)\n",
    "            config_last_checkpoint_path = os.path.join(last_dir, 'config.json')\n",
    "            config.save_to_json(config_best_checkpoint_path)\n",
    "            print(f'Last checkpoint saved at {last_checkpoint_path}')\n",
    "            \n",
    "        lr_scheduler.step()\n",
    "        progress_bar.update(1)\n",
    "        \n",
    "        step += 1\n",
    "        \n",
    "model.save(exp_dir)"
   ]
  },
  {
   "cell_type": "code",
   "execution_count": null,
   "id": "6e69067c-a16b-4417-a3db-f4a304f520a5",
   "metadata": {},
   "outputs": [],
   "source": []
  },
  {
   "cell_type": "code",
   "execution_count": null,
   "id": "2cea88d7-d7f6-481a-8297-03fbfc12a3cc",
   "metadata": {},
   "outputs": [],
   "source": []
  },
  {
   "cell_type": "code",
   "execution_count": null,
   "id": "5a1b7edd-16ef-4c7d-9a67-a30cc3c518da",
   "metadata": {},
   "outputs": [],
   "source": []
  },
  {
   "cell_type": "code",
   "execution_count": null,
   "id": "66ac0489-cd1f-46cf-8346-8d389118834b",
   "metadata": {},
   "outputs": [],
   "source": []
  }
 ],
 "metadata": {
  "kernelspec": {
   "display_name": "Python 3 (ipykernel)",
   "language": "python",
   "name": "python3"
  },
  "language_info": {
   "codemirror_mode": {
    "name": "ipython",
    "version": 3
   },
   "file_extension": ".py",
   "mimetype": "text/x-python",
   "name": "python",
   "nbconvert_exporter": "python",
   "pygments_lexer": "ipython3",
   "version": "3.10.10"
  }
 },
 "nbformat": 4,
 "nbformat_minor": 5
}
