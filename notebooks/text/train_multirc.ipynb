{
 "cells": [
  {
   "cell_type": "code",
   "execution_count": 1,
   "id": "5e7838f6-1134-4508-ab0c-63e9b48b99cc",
   "metadata": {
    "tags": []
   },
   "outputs": [],
   "source": [
    "import json\n",
    "import os\n",
    "import argparse\n",
    "\n",
    "import numpy as np\n",
    "import random\n",
    "import torch\n",
    "from torch import nn, optim\n",
    "from tqdm.auto import tqdm\n",
    "from transformers import AutoImageProcessor, AutoModelForImageClassification, AutoConfig\n",
    "from transformers import AutoTokenizer, AutoModelForSequenceClassification\n",
    "\n",
    "from pathlib import Path\n",
    "from torch.utils.data import DataLoader, Subset\n",
    "import sys\n",
    "sys.path.append('../../lib/exlib/src')\n",
    "from exlib.modules.sop import SOPConfig, get_chained_attr"
   ]
  },
  {
   "cell_type": "code",
   "execution_count": 2,
   "id": "2d08f485-6200-4e6f-a3e3-8c9b73bd931b",
   "metadata": {
    "tags": []
   },
   "outputs": [],
   "source": [
    "from exlib.modules.sop import SOP\n",
    "import copy\n",
    "\n",
    "class SOPText(SOP):\n",
    "    def __init__(self, \n",
    "                 config,\n",
    "                 blackbox_model,\n",
    "                 class_weights=None,\n",
    "                 projection_layer=None,\n",
    "                 ):\n",
    "        super().__init__(config,\n",
    "                            blackbox_model,\n",
    "                            class_weights\n",
    "                            )\n",
    "\n",
    "        if projection_layer is not None:\n",
    "            self.projection = copy.deepcopy(projection_layer)\n",
    "        else:\n",
    "            self.init_projection()\n",
    "\n",
    "        # Initialize the weights of the model\n",
    "        self.init_grads()\n",
    "\n",
    "    def init_projection(self):\n",
    "        self.projection = nn.Linear(1, self.hidden_size)\n",
    "\n",
    "    def forward(self, \n",
    "                inputs, \n",
    "                segs=None, \n",
    "                input_mask_weights=None,\n",
    "                epoch=-1, \n",
    "                mask_batch_size=16,\n",
    "                label=None,\n",
    "                return_tuple=False,\n",
    "                kwargs={}):\n",
    "        if epoch == -1:\n",
    "            epoch = self.num_heads\n",
    "        bsz, seq_len = inputs.shape\n",
    "        \n",
    "        # Mask (Group) generation\n",
    "        if input_mask_weights is None:\n",
    "            grouped_inputs_embeds, input_mask_weights, grouped_kwargs = self.group_generate(inputs, epoch, mask_batch_size, \n",
    "                                                                                            segs, kwargs)\n",
    "            grouped_inputs = None\n",
    "        else:\n",
    "            grouped_inputs = inputs.unsqueeze(1) * input_mask_weights.unsqueeze(2) # directly apply mask\n",
    "        \n",
    "        # Backbone model\n",
    "        logits, pooler_outputs = self.run_backbone(grouped_inputs, mask_batch_size, kwargs=grouped_kwargs)\n",
    "\n",
    "        # Mask (Group) selection & aggregation\n",
    "        weighted_logits, output_mask_weights, logits, pooler_outputs = self.group_select(logits, pooler_outputs, seq_len)\n",
    "\n",
    "        if return_tuple:\n",
    "            return self.get_results_tuple(weighted_logits, logits, pooler_outputs, input_mask_weights, output_mask_weights, bsz, label)\n",
    "        else:\n",
    "            return weighted_logits\n",
    "\n",
    "    def get_results_tuple(self, weighted_logits, logits, pooler_outputs, input_mask_weights, output_mask_weights, bsz, label):\n",
    "        raise NotImplementedError\n",
    "\n",
    "    def run_backbone(self, masked_inputs=None, mask_batch_size=16, kwargs={}):  # TODO: Fix so that we don't need to know the input\n",
    "        if masked_inputs is not None:\n",
    "            bsz, num_masks, seq_len = masked_inputs.shape\n",
    "            masked_inputs = masked_inputs.reshape(-1, seq_len)\n",
    "            kwargs_flat = {k: v.reshape(-1, seq_len) for k, v in kwargs.items()}\n",
    "        else:\n",
    "            bsz, num_masks, seq_len, hidden_size = kwargs['inputs_embeds'].shape\n",
    "            \n",
    "            kwargs_flat = {k: v.reshape(-1, seq_len, hidden_size) if k == 'inputs_embeds' else v.reshape(-1, seq_len)\n",
    "                           for k, v in kwargs.items()}\n",
    "        logits = []\n",
    "        pooler_outputs = []\n",
    "        for i in range(0, bsz * num_masks, mask_batch_size):\n",
    "            kwargs_i = {k: v[i:i+mask_batch_size] for k, v in kwargs_flat.items()}\n",
    "            output_i = self.blackbox_model(\n",
    "                masked_inputs[i:i+mask_batch_size] if masked_inputs is not None else None,\n",
    "                **kwargs_i\n",
    "            )\n",
    "            pooler_i = output_i.pooler_output\n",
    "            logits_i = output_i.logits\n",
    "            logits.append(logits_i)\n",
    "            pooler_outputs.append(pooler_i)\n",
    "\n",
    "        logits = torch.cat(logits).view(bsz, num_masks, self.num_classes, -1)\n",
    "        pooler_outputs = torch.cat(pooler_outputs).view(bsz, num_masks, self.hidden_size, -1)\n",
    "        return logits, pooler_outputs\n",
    "    \n",
    "    def group_generate(self, inputs, epoch, mask_batch_size=16, segs=None, kwargs={}):\n",
    "        bsz, seq_len = inputs.shape\n",
    "        mask_embed = self.projection(torch.tensor([0]).int().to(inputs.device))\n",
    "        projected_inputs = self.projection(inputs)\n",
    "        \n",
    "        if segs is None:   # word level\n",
    "            projected_inputs = projected_inputs * self.projected_input_scale\n",
    "\n",
    "            if self.num_masks_max != -1:\n",
    "                input_dropout_idxs = torch.randperm(projected_inputs.shape[1])\n",
    "                if 'attention_mask' in kwargs:\n",
    "                    attention_mask_mult = kwargs['attention_mask'] * input_dropout_idxs\n",
    "                else:\n",
    "                    attention_mask_mult = input_dropout_idxs\n",
    "                input_dropout_idxs = torch.argsort(attention_mask_mult, dim=-1).flip(-1)[:, :self.num_masks_max]\n",
    "                batch_indices = torch.arange(bsz).unsqueeze(1).repeat(1, input_dropout_idxs.shape[-1])\n",
    "                selected_projected_inputs = projected_inputs[batch_indices, input_dropout_idxs]\n",
    "                projected_query = selected_projected_inputs\n",
    "            else:\n",
    "                projected_query = projected_inputs\n",
    "            input_mask_weights_cand = self.input_attn(projected_query, projected_inputs, epoch=epoch)\n",
    "            input_mask_weights_cand = input_mask_weights_cand.squeeze(1)\n",
    "\n",
    "            input_mask_weights_cand = torch.clip(input_mask_weights_cand, max=1.0)\n",
    "        else: # sentence level\n",
    "            # With/without masks are a bit different. Should we make them the same? Need to experiment.\n",
    "            bsz, num_segs, seq_len = segs.shape\n",
    "\n",
    "            seged_inputs_embeds = projected_inputs.unsqueeze(1) * segs.unsqueeze(-1) + \\\n",
    "                               mask_embed.view(1,1,1,-1) * (1 - segs.unsqueeze(-1))\n",
    "            \n",
    "            seged_kwargs = {}\n",
    "            for k, v in kwargs.items():\n",
    "                seged_kwargs[k] = v.unsqueeze(1).expand(segs.shape).reshape(-1, seq_len)\n",
    "            seged_kwargs['inputs_embeds'] = seged_inputs_embeds\n",
    "\n",
    "            # TODO: always have seg for the part after sep token\n",
    "            _, interm_outputs = self.run_backbone(None, mask_batch_size, kwargs=seged_kwargs)\n",
    "            \n",
    "            interm_outputs = interm_outputs.view(bsz, -1, self.hidden_size)\n",
    "            interm_outputs = interm_outputs * self.projected_input_scale\n",
    "            segment_mask_weights = self.input_attn(interm_outputs, interm_outputs, epoch=epoch)\n",
    "            segment_mask_weights = segment_mask_weights.reshape(bsz, -1, num_segs)\n",
    "            \n",
    "            new_masks =  segs.unsqueeze(1) * segment_mask_weights.unsqueeze(-1)\n",
    "            # (bsz, num_new_masks, num_masks, seq_len)\n",
    "            input_mask_weights_cand = new_masks.sum(2)  # if one mask has it, then have it\n",
    "            # todo: Can we simplify the above to be dot product?\n",
    "            \n",
    "        scale_factor = 1.0 / input_mask_weights_cand.max(dim=-1).values\n",
    "        input_mask_weights_cand = input_mask_weights_cand * scale_factor.view(bsz, -1,1)\n",
    "\n",
    "        # we are using iterative training\n",
    "        # we will train some masks every epoch\n",
    "        # the masks to train are selected by mod of epoch number\n",
    "        # Dropout for training\n",
    "        if self.training:\n",
    "            dropout_idxs = torch.randperm(input_mask_weights_cand.shape[1])[:self.num_masks_sample]\n",
    "            dropout_mask = torch.zeros(bsz, input_mask_weights_cand.shape[1]).to(inputs.device)\n",
    "            dropout_mask[:,dropout_idxs] = 1\n",
    "        else:\n",
    "            dropout_mask = torch.ones(bsz, input_mask_weights_cand.shape[1]).to(inputs.device)\n",
    "        \n",
    "        input_mask_weights = input_mask_weights_cand[dropout_mask.bool()].clone()\n",
    "        input_mask_weights = input_mask_weights.reshape(bsz, -1, seq_len)\n",
    "        \n",
    "        # Always add the second part of the sequence (in question answering, it would be the qa pair)\n",
    "        input_mask_weights = input_mask_weights  + kwargs['token_type_ids'].unsqueeze(1)\n",
    "        \n",
    "        masked_inputs_embeds = projected_inputs.unsqueeze(1) * input_mask_weights.unsqueeze(-1) + \\\n",
    "                               mask_embed.view(1,1,1,-1) * (1 - input_mask_weights.unsqueeze(-1))\n",
    "        \n",
    "        masked_kwargs = {}\n",
    "        for k, v in kwargs.items():\n",
    "            masked_kwargs[k] = v.unsqueeze(1).expand(input_mask_weights.shape).reshape(-1, seq_len)\n",
    "        masked_kwargs['inputs_embeds'] = masked_inputs_embeds\n",
    "        \n",
    "        return masked_inputs_embeds, input_mask_weights, masked_kwargs\n",
    "    \n",
    "    def group_select(self, logits, pooler_outputs, seq_len):\n",
    "        raise NotImplementedError\n",
    "\n",
    "\n",
    "class SOPTextCls(SOPText):\n",
    "    def group_select(self, logits, pooler_outputs, seq_len):\n",
    "        bsz, num_masks = logits.shape[:2]\n",
    "\n",
    "        logits = logits.view(bsz, num_masks, self.num_classes)\n",
    "        pooler_outputs = pooler_outputs.view(bsz, num_masks, self.hidden_size)\n",
    "\n",
    "        query = self.class_weights.unsqueeze(0).expand(bsz, \n",
    "                                                    self.num_classes, \n",
    "                                                    self.hidden_size) #.to(logits.device)\n",
    "        \n",
    "        key = pooler_outputs\n",
    "        weighted_logits, output_mask_weights = self.output_attn(query, key, logits)\n",
    "\n",
    "        return weighted_logits, output_mask_weights, logits, pooler_outputs\n",
    "    \n",
    "    def get_results_tuple(self, weighted_logits, logits, pooler_outputs, input_mask_weights, output_mask_weights, bsz, label):\n",
    "        # todo: debug for segmentation\n",
    "        masks_aggr = None\n",
    "        masks_aggr_pred_cls = None\n",
    "        masks_max_pred_cls = None\n",
    "        flat_masks = None\n",
    "\n",
    "        if label is not None:\n",
    "            predicted = label  # allow labels to be different\n",
    "        else:\n",
    "            _, predicted = torch.max(weighted_logits.data, -1)\n",
    "        \n",
    "        masks_mult = input_mask_weights.unsqueeze(2) * \\\n",
    "        output_mask_weights.unsqueeze(-1).unsqueeze(-1) # bsz, n_masks, n_cls\n",
    "        \n",
    "        masks_aggr = masks_mult.sum(1) # bsz, n_cls\n",
    "        masks_aggr_pred_cls = masks_aggr[range(bsz), predicted].unsqueeze(1)\n",
    "        max_mask_indices = output_mask_weights.max(2).values.max(1).indices\n",
    "        masks_max_pred_cls = masks_mult[range(bsz),max_mask_indices,predicted].unsqueeze(1)\n",
    "        flat_masks = compress_masks_image(input_mask_weights, output_mask_weights)\n",
    "        return AttributionOutputSOP(weighted_logits,\n",
    "                                    logits,\n",
    "                                    pooler_outputs,\n",
    "                                    input_mask_weights,\n",
    "                                    output_mask_weights,\n",
    "                                    masks_aggr_pred_cls,\n",
    "                                    masks_max_pred_cls,\n",
    "                                    masks_aggr,\n",
    "                                    flat_masks)"
   ]
  },
  {
   "cell_type": "code",
   "execution_count": 3,
   "id": "ebdbef0b-ef0b-403b-97f2-24c9b67fdaa1",
   "metadata": {
    "tags": []
   },
   "outputs": [],
   "source": [
    "device = torch.device('cuda' if torch.cuda.is_available() else 'cpu')\n",
    "\n",
    "SEED = 42\n",
    "if SEED != -1:\n",
    "    # Torch RNG\n",
    "    torch.manual_seed(SEED)\n",
    "    torch.cuda.manual_seed(SEED)\n",
    "    torch.cuda.manual_seed_all(SEED)\n",
    "    # Python RNG\n",
    "    np.random.seed(SEED)\n",
    "    random.seed(SEED)"
   ]
  },
  {
   "cell_type": "code",
   "execution_count": 4,
   "id": "c936663e-2c91-49af-a263-30ffbeeda7d1",
   "metadata": {
    "tags": []
   },
   "outputs": [],
   "source": [
    "# model paths\n",
    "backbone_model_name = '../../pt_models/multirc_vanilla/best'\n",
    "backbone_processor_name = 'bert-base-uncased'\n",
    "# sop_config_path = 'configs/imagenet_m.json'\n",
    "\n",
    "# data paths\n",
    "# TRAIN_DATA_DIR = '../data/imagenet_m/train'\n",
    "# VAL_DATA_DIR = '../data/imagenet_m/val'\n",
    "\n",
    "# training args\n",
    "batch_size = 2\n",
    "lr = 0.0000005\n",
    "num_epochs = 20\n",
    "warmup_steps = 50\n",
    "mask_batch_size = 4\n",
    "\n",
    "# experiment args\n",
    "exp_dir = '../../exps/multirc'\n",
    "os.makedirs(exp_dir, exist_ok=True)"
   ]
  },
  {
   "cell_type": "code",
   "execution_count": 5,
   "id": "4a3e71e3-0fef-4072-a32f-12097a830cb9",
   "metadata": {
    "tags": []
   },
   "outputs": [],
   "source": [
    "backbone_model = AutoModelForSequenceClassification.from_pretrained(backbone_model_name)\n",
    "processor = AutoTokenizer.from_pretrained(backbone_processor_name)\n",
    "backbone_config = AutoConfig.from_pretrained(backbone_model_name)\n",
    "\n",
    "config = SOPConfig(\n",
    "    # attn_patch_size=16,\n",
    "    num_heads=1,\n",
    "    num_masks_sample=8,\n",
    "    num_masks_max=16,\n",
    "    finetune_layers=['model.classifier']\n",
    ")\n",
    "config.__dict__.update(backbone_config.__dict__)\n",
    "config.num_labels = len(backbone_config.label2id)\n",
    "# config.save_pretrained(exp_dir)"
   ]
  },
  {
   "cell_type": "code",
   "execution_count": 6,
   "id": "aef0835b-02b8-40b1-bac9-35a92d9cde77",
   "metadata": {
    "tags": []
   },
   "outputs": [
    {
     "name": "stdout",
     "output_type": "stream",
     "text": [
      "SEP 102 SENT_SEPS [1025, 1010, 1012, 1029, 999, 1025]\n"
     ]
    }
   ],
   "source": [
    "from torch.utils.data import DataLoader\n",
    "from datasets import load_dataset\n",
    "\n",
    "SENT_SEPS = [processor.convert_tokens_to_ids(processor.tokenize(token)[0]) for token in [';',',','.','?','!',';']]\n",
    "SEP = processor.convert_tokens_to_ids(processor.tokenize('[SEP]')[0])\n",
    "print('SEP', SEP, 'SENT_SEPS', SENT_SEPS)\n",
    "\n",
    "def sent_seg(input_ids):\n",
    "    segs = []\n",
    "    count = 1\n",
    "    for i, input_id in enumerate(input_ids):\n",
    "        if count in [0, -1]:\n",
    "            if input_id == SEP:\n",
    "                count = -1\n",
    "            segs.append(count)\n",
    "            continue\n",
    "        else:\n",
    "            if input_id in SENT_SEPS:\n",
    "                segs.append(count)\n",
    "                count += 1\n",
    "            elif input_id == SEP:\n",
    "                if count > 0:\n",
    "                    count = 0\n",
    "                    segs.append(count)\n",
    "                else:\n",
    "                    segs.append(count)\n",
    "                    count = -1\n",
    "            else: # normal character\n",
    "                segs.append(count)\n",
    "    return segs\n",
    "\n",
    "def convert_idx_masks_to_bool_text(masks):\n",
    "    \"\"\"\n",
    "    input: masks (1, seq_len)\n",
    "    output: masks_bool (num_masks, seq_len)\n",
    "    \"\"\"\n",
    "    unique_idxs = torch.sort(torch.unique(masks)).values\n",
    "    unique_idxs = unique_idxs[unique_idxs != -1]\n",
    "    unique_idxs = unique_idxs[unique_idxs != 0]\n",
    "    idxs = unique_idxs.view(-1, 1)\n",
    "    broadcasted_masks = masks.expand(unique_idxs.shape[0], \n",
    "                                     masks.shape[1])\n",
    "    masks_bool = (broadcasted_masks == idxs)\n",
    "    return masks_bool\n",
    "\n",
    "\n",
    "def get_mask_transform_text(num_masks_max=200, processor=None):\n",
    "    def mask_transform(mask):\n",
    "        seg_mask_cut_off = num_masks_max\n",
    "        # print('mask 1', mask)\n",
    "        # if mask.max(dim=-1) > seg_mask_cut_off:\n",
    "        # import pdb; pdb.set_trace()\n",
    "        if mask.max(dim=-1).values.item() > seg_mask_cut_off:\n",
    "            mask_new = (mask / (mask.max(dim=-1).values / seg_mask_cut_off)).int().float() + 1\n",
    "            # bsz, seq_len = mask_new.shape\n",
    "            # print('mask 2', mask_new)\n",
    "            # import pdb; pdb.set_trace()\n",
    "            mask_new[mask == 0] = 0\n",
    "            mask_new[mask == -1] = -1\n",
    "            mask = mask_new\n",
    "        \n",
    "        if mask.dtype != torch.bool:\n",
    "            if len(mask.shape) == 1:\n",
    "                mask = mask.unsqueeze(0)\n",
    "            # print('mask', mask.shape)\n",
    "            mask_bool = convert_idx_masks_to_bool_text(mask)\n",
    "        # print(mask.shape)\n",
    "        bsz, seq_len = mask.shape\n",
    "        mask_bool = mask_bool.float()\n",
    "        \n",
    "        \n",
    "\n",
    "        if bsz < seg_mask_cut_off:\n",
    "            repeat_count = seg_mask_cut_off // bsz + 1\n",
    "            mask_bool = torch.cat([mask_bool] * repeat_count, dim=0)\n",
    "\n",
    "        # add additional mask afterwards\n",
    "        mask_bool_sum = torch.sum(mask_bool[:seg_mask_cut_off - 1], dim=0, keepdim=True).bool()\n",
    "        if False in mask_bool_sum:\n",
    "            mask_bool = mask_bool[:seg_mask_cut_off - 1]\n",
    "            # import pdb; pdb.set_trace()\n",
    "            compensation_mask = (1 - mask_bool_sum.int()).bool()\n",
    "            compensation_mask[mask == 0] = False\n",
    "            compensation_mask[mask == -1] = False\n",
    "            mask_bool = torch.cat([mask_bool, compensation_mask])\n",
    "        else:\n",
    "            mask_bool = mask_bool[:seg_mask_cut_off]\n",
    "        return mask_bool\n",
    "    return mask_transform\n",
    "\n",
    "mask_transform = get_mask_transform_text(config.num_masks_max)\n",
    "\n",
    "def transform(batch):\n",
    "    # Preprocess the image using the ViTImageProcessor\n",
    "    if processor is not None:\n",
    "        inputs = processor(batch['passage'], \n",
    "                           batch['query_and_answer'], \n",
    "                           padding='max_length', \n",
    "                           truncation=True, \n",
    "                           max_length=512)\n",
    "        segs = [sent_seg(input_id) for input_id in inputs['input_ids']]\n",
    "        inputs = {k: torch.tensor(v) for k, v in inputs.items()}\n",
    "        \n",
    "        segs_bool = []\n",
    "        for seg in segs:\n",
    "            seg_bool = mask_transform(torch.tensor(seg))\n",
    "            segs_bool.append(seg_bool)\n",
    "        inputs['segs'] = torch.stack(segs_bool)\n",
    "        # print(\"inputs['segs']\", inputs['segs'].shape)\n",
    "        # for k, v in inputs.items():\n",
    "        #     print(k, v.shape)\n",
    "        # import pdb; pdb.set_trace()\n",
    "        return inputs\n",
    "    else:\n",
    "        return batch\n",
    "\n",
    "\n",
    "# train_size, val_size = -1, -1\n",
    "train_size, val_size = 100, 100\n",
    "\n",
    "train_dataset = load_dataset('eraser_multi_rc', split='train')\n",
    "train_dataset = train_dataset.map(transform, batched=True,\n",
    "                            remove_columns=['passage', \n",
    "                                            'query_and_answer',\n",
    "                                            'evidences'])\n",
    "\n",
    "val_dataset = load_dataset('eraser_multi_rc', split='validation')\n",
    "val_dataset = val_dataset.map(transform, batched=True,\n",
    "                            remove_columns=['passage', \n",
    "                                            'query_and_answer',\n",
    "                                            'evidences'])\n",
    "\n",
    "if train_size != -1:\n",
    "    train_dataset = Subset(train_dataset, list(range(train_size)))\n",
    "if val_size != -1:\n",
    "    val_dataset = Subset(val_dataset, list(range(val_size)))\n",
    "\n",
    "# Create a DataLoader to batch and shuffle the data\n",
    "train_dataloader = DataLoader(train_dataset, batch_size=batch_size, shuffle=True)\n",
    "val_dataloader = DataLoader(val_dataset, batch_size=batch_size, shuffle=False)"
   ]
  },
  {
   "cell_type": "code",
   "execution_count": 7,
   "id": "4cea2f26-b9e6-4abe-83bd-5050dcbb16f3",
   "metadata": {
    "tags": []
   },
   "outputs": [],
   "source": [
    "from collections import namedtuple\n",
    "\n",
    "WrappedBackboneOutput = namedtuple(\"WrappedBackboneOutput\", \n",
    "                                  [\"logits\",\n",
    "                                   \"pooler_output\"])\n",
    "\n",
    "\n",
    "class WrappedBackboneModel(nn.Module):\n",
    "    def __init__(self, model):\n",
    "        super().__init__()\n",
    "        self.model = model\n",
    "    \n",
    "    def forward(self, inputs=None, **kwargs):\n",
    "        outputs = self.model(inputs, output_hidden_states=True, **kwargs)\n",
    "        return WrappedBackboneOutput(outputs.logits, outputs.hidden_states[-1][:,0])"
   ]
  },
  {
   "cell_type": "code",
   "execution_count": 8,
   "id": "5e4b54a6-80d5-4bfd-ad56-39a862f28d09",
   "metadata": {
    "tags": []
   },
   "outputs": [],
   "source": [
    "wrapped_backbone_model = WrappedBackboneModel(backbone_model)\n",
    "wrapped_backbone_model = wrapped_backbone_model.to(device)\n",
    "class_weights = get_chained_attr(wrapped_backbone_model, config.finetune_layers[0]).weight #.clone().to(device)\n",
    "projection_layer = wrapped_backbone_model.model.bert.embeddings.word_embeddings"
   ]
  },
  {
   "cell_type": "code",
   "execution_count": 9,
   "id": "0bf3ed2f-bae5-4a0a-8481-392821c34cc3",
   "metadata": {
    "tags": []
   },
   "outputs": [
    {
     "name": "stdout",
     "output_type": "stream",
     "text": [
      "deep copy class weights\n"
     ]
    }
   ],
   "source": [
    "model = SOPTextCls(config, wrapped_backbone_model, class_weights=class_weights, projection_layer=projection_layer)\n",
    "model = model.to(device)"
   ]
  },
  {
   "cell_type": "code",
   "execution_count": 10,
   "id": "d698838c-d435-4bad-b200-9c0d0a4701d5",
   "metadata": {
    "tags": []
   },
   "outputs": [],
   "source": [
    "from transformers import get_scheduler\n",
    "\n",
    "optimizer = optim.AdamW(filter(lambda p: p.requires_grad, model.parameters()), lr=lr)\n",
    "num_training_steps = len(train_dataloader) * num_epochs\n",
    "lr_scheduler = get_scheduler(\n",
    "            'inverse_sqrt',\n",
    "            optimizer=optimizer, \n",
    "            num_warmup_steps=warmup_steps\n",
    "        )\n",
    "criterion = nn.CrossEntropyLoss()"
   ]
  },
  {
   "cell_type": "code",
   "execution_count": 11,
   "id": "4128a754-4503-41c2-8970-a1d432844876",
   "metadata": {
    "tags": []
   },
   "outputs": [],
   "source": [
    "def eval(model, dataloader, criterion, sop=True):\n",
    "    print('Eval ...')\n",
    "    model.eval()\n",
    "    total_loss = 0.0\n",
    "    correct = 0\n",
    "    total = 0\n",
    "    with torch.no_grad():\n",
    "        progress_bar_eval = tqdm(range(len(dataloader)))\n",
    "        for i, batch in enumerate(dataloader):\n",
    "            # Now you can use `inputs` and `labels` in your training loop.\n",
    "            if not isinstance(batch['input_ids'], torch.Tensor):\n",
    "                inputs = torch.stack(batch['input_ids']).transpose(0, 1).to(device)\n",
    "                if 'token_type_ids' in batch:\n",
    "                    token_type_ids = torch.stack(batch['token_type_ids']).transpose(0, 1).to(device)\n",
    "                else:\n",
    "                    token_type_ids = None\n",
    "                attention_mask = torch.stack(batch['attention_mask']).transpose(0, 1).to(device)\n",
    "\n",
    "                concatenated_rows = [torch.stack(sublist) for sublist in batch['segs']]\n",
    "                segs = torch.stack(concatenated_rows).permute(2, 0, 1).to(device).float()\n",
    "                # print('segs', segs.shape)\n",
    "            else:\n",
    "                inputs = batch['input_ids'].to(device)\n",
    "                if 'token_type_ids' in batch:\n",
    "                    token_type_ids = batch['token_type_ids'].to(device)\n",
    "                else:\n",
    "                    token_type_ids = None\n",
    "                attention_mask = batch['attention_mask'].to(device)\n",
    "                segs = batch['segs'].to(device).float()\n",
    "            kwargs = {\n",
    "                'token_type_ids': token_type_ids,\n",
    "                'attention_mask': attention_mask,\n",
    "            }\n",
    "            labels = batch['label'].to(device)\n",
    "\n",
    "            if sop:\n",
    "                logits = model(inputs, segs=segs, kwargs=kwargs)\n",
    "            else:\n",
    "                logits = model(inputs, **kwargs).logits\n",
    "            \n",
    "            # val loss\n",
    "            loss = criterion(logits, labels)\n",
    "            total_loss += loss.item()\n",
    "            \n",
    "            # acc\n",
    "            _, predicted = torch.max(logits.data, 1)\n",
    "            correct += (predicted == labels).sum().item()\n",
    "            \n",
    "            total += labels.size(0)\n",
    "            \n",
    "            progress_bar_eval.update(1)\n",
    "    \n",
    "    val_acc = correct / total\n",
    "    val_loss = total_loss / total\n",
    "    \n",
    "    model.train()\n",
    "    \n",
    "    return {\n",
    "        'val_acc': val_acc,\n",
    "        'val_loss': val_loss\n",
    "    }"
   ]
  },
  {
   "cell_type": "code",
   "execution_count": 12,
   "id": "e655f0f4-1b2e-4143-9ceb-8b90d35de5c5",
   "metadata": {
    "tags": []
   },
   "outputs": [
    {
     "name": "stdout",
     "output_type": "stream",
     "text": [
      "Eval ...\n"
     ]
    },
    {
     "data": {
      "application/vnd.jupyter.widget-view+json": {
       "model_id": "28d6733c20a04ea2a0e2bcf3b92731ff",
       "version_major": 2,
       "version_minor": 0
      },
      "text/plain": [
       "  0%|          | 0/50 [00:00<?, ?it/s]"
      ]
     },
     "metadata": {},
     "output_type": "display_data"
    },
    {
     "data": {
      "text/plain": [
       "0.66"
      ]
     },
     "execution_count": 12,
     "metadata": {},
     "output_type": "execute_result"
    }
   ],
   "source": [
    "backbone_val_results = eval(wrapped_backbone_model, val_dataloader, criterion, sop=False)\n",
    "backbone_val_acc = backbone_val_results['val_acc']\n",
    "backbone_val_acc"
   ]
  },
  {
   "cell_type": "code",
   "execution_count": null,
   "id": "ae07940a-296b-478b-bc20-691898613b40",
   "metadata": {
    "tags": []
   },
   "outputs": [
    {
     "data": {
      "application/vnd.jupyter.widget-view+json": {
       "model_id": "b96e4c92f09d4f4aba25cc2bda268e4f",
       "version_major": 2,
       "version_minor": 0
      },
      "text/plain": [
       "  0%|          | 0/1000 [00:00<?, ?it/s]"
      ]
     },
     "metadata": {},
     "output_type": "display_data"
    },
    {
     "name": "stdout",
     "output_type": "stream",
     "text": [
      "Epoch 0, Batch 50, Loss 1.1663, LR 0.00000049\n",
      "Eval ...\n"
     ]
    },
    {
     "data": {
      "application/vnd.jupyter.widget-view+json": {
       "model_id": "32c7676d1e5c45f2a5ef93b108aaa565",
       "version_major": 2,
       "version_minor": 0
      },
      "text/plain": [
       "  0%|          | 0/50 [00:00<?, ?it/s]"
      ]
     },
     "metadata": {},
     "output_type": "display_data"
    },
    {
     "name": "stdout",
     "output_type": "stream",
     "text": [
      "Epoch 0, Step 49, Val acc 0.4700, Val loss 1.0321\n",
      "Best checkpoint saved at ../../exps/multirc/best/checkpoint.pth\n",
      "Last checkpoint saved at ../../exps/multirc/last/checkpoint.pth\n",
      "Epoch 1, Batch 50, Loss 1.1369, LR 0.00000036\n",
      "Eval ...\n"
     ]
    },
    {
     "data": {
      "application/vnd.jupyter.widget-view+json": {
       "model_id": "84d41b7b8c5d4a55b76e16aa796abccd",
       "version_major": 2,
       "version_minor": 0
      },
      "text/plain": [
       "  0%|          | 0/50 [00:00<?, ?it/s]"
      ]
     },
     "metadata": {},
     "output_type": "display_data"
    },
    {
     "name": "stdout",
     "output_type": "stream",
     "text": [
      "Epoch 1, Step 99, Val acc 0.4300, Val loss 1.0331\n",
      "Last checkpoint saved at ../../exps/multirc/last/checkpoint.pth\n",
      "Epoch 2, Batch 50, Loss 1.0119, LR 0.00000029\n",
      "Eval ...\n"
     ]
    },
    {
     "data": {
      "application/vnd.jupyter.widget-view+json": {
       "model_id": "9806e88048874329874e3ec3482a8769",
       "version_major": 2,
       "version_minor": 0
      },
      "text/plain": [
       "  0%|          | 0/50 [00:00<?, ?it/s]"
      ]
     },
     "metadata": {},
     "output_type": "display_data"
    },
    {
     "name": "stdout",
     "output_type": "stream",
     "text": [
      "Epoch 2, Step 149, Val acc 0.4400, Val loss 1.0257\n",
      "Last checkpoint saved at ../../exps/multirc/last/checkpoint.pth\n",
      "Epoch 3, Batch 50, Loss 1.0897, LR 0.00000025\n",
      "Eval ...\n"
     ]
    },
    {
     "data": {
      "application/vnd.jupyter.widget-view+json": {
       "model_id": "9141443e264e4a5e8d4acc2185b60a7b",
       "version_major": 2,
       "version_minor": 0
      },
      "text/plain": [
       "  0%|          | 0/50 [00:00<?, ?it/s]"
      ]
     },
     "metadata": {},
     "output_type": "display_data"
    },
    {
     "name": "stdout",
     "output_type": "stream",
     "text": [
      "Epoch 3, Step 199, Val acc 0.4500, Val loss 1.0202\n",
      "Last checkpoint saved at ../../exps/multirc/last/checkpoint.pth\n",
      "Epoch 4, Batch 50, Loss 1.0293, LR 0.00000022\n",
      "Eval ...\n"
     ]
    },
    {
     "data": {
      "application/vnd.jupyter.widget-view+json": {
       "model_id": "dc306b33f99545e896ece03084ebdc19",
       "version_major": 2,
       "version_minor": 0
      },
      "text/plain": [
       "  0%|          | 0/50 [00:00<?, ?it/s]"
      ]
     },
     "metadata": {},
     "output_type": "display_data"
    },
    {
     "name": "stdout",
     "output_type": "stream",
     "text": [
      "Epoch 4, Step 249, Val acc 0.4300, Val loss 1.0219\n",
      "Last checkpoint saved at ../../exps/multirc/last/checkpoint.pth\n",
      "Epoch 5, Batch 50, Loss 0.9356, LR 0.00000020\n",
      "Eval ...\n"
     ]
    },
    {
     "data": {
      "application/vnd.jupyter.widget-view+json": {
       "model_id": "aa4f066113f94dc9b0e68e10f585e90c",
       "version_major": 2,
       "version_minor": 0
      },
      "text/plain": [
       "  0%|          | 0/50 [00:00<?, ?it/s]"
      ]
     },
     "metadata": {},
     "output_type": "display_data"
    },
    {
     "name": "stdout",
     "output_type": "stream",
     "text": [
      "Epoch 5, Step 299, Val acc 0.4300, Val loss 1.0236\n",
      "Last checkpoint saved at ../../exps/multirc/last/checkpoint.pth\n",
      "Epoch 6, Batch 50, Loss 0.9700, LR 0.00000019\n",
      "Eval ...\n"
     ]
    },
    {
     "data": {
      "application/vnd.jupyter.widget-view+json": {
       "model_id": "d0745ac0683440708ca8d02cfcebe4e4",
       "version_major": 2,
       "version_minor": 0
      },
      "text/plain": [
       "  0%|          | 0/50 [00:00<?, ?it/s]"
      ]
     },
     "metadata": {},
     "output_type": "display_data"
    },
    {
     "name": "stdout",
     "output_type": "stream",
     "text": [
      "Epoch 6, Step 349, Val acc 0.4400, Val loss 1.0222\n",
      "Last checkpoint saved at ../../exps/multirc/last/checkpoint.pth\n",
      "Epoch 7, Batch 50, Loss 1.0250, LR 0.00000018\n",
      "Eval ...\n"
     ]
    },
    {
     "data": {
      "application/vnd.jupyter.widget-view+json": {
       "model_id": "09353bf74ee54e658db41b3e8b450fa0",
       "version_major": 2,
       "version_minor": 0
      },
      "text/plain": [
       "  0%|          | 0/50 [00:00<?, ?it/s]"
      ]
     },
     "metadata": {},
     "output_type": "display_data"
    },
    {
     "name": "stdout",
     "output_type": "stream",
     "text": [
      "Epoch 7, Step 399, Val acc 0.4600, Val loss 1.0193\n",
      "Last checkpoint saved at ../../exps/multirc/last/checkpoint.pth\n",
      "Epoch 8, Batch 50, Loss 1.0006, LR 0.00000017\n",
      "Eval ...\n"
     ]
    },
    {
     "data": {
      "application/vnd.jupyter.widget-view+json": {
       "model_id": "f5967146839943cfacebdbd9f56ef3f5",
       "version_major": 2,
       "version_minor": 0
      },
      "text/plain": [
       "  0%|          | 0/50 [00:00<?, ?it/s]"
      ]
     },
     "metadata": {},
     "output_type": "display_data"
    },
    {
     "name": "stdout",
     "output_type": "stream",
     "text": [
      "Epoch 8, Step 449, Val acc 0.4700, Val loss 1.0152\n",
      "Last checkpoint saved at ../../exps/multirc/last/checkpoint.pth\n",
      "Epoch 9, Batch 50, Loss 0.9656, LR 0.00000016\n",
      "Eval ...\n"
     ]
    },
    {
     "data": {
      "application/vnd.jupyter.widget-view+json": {
       "model_id": "eca432012c3b45658d20182b21919680",
       "version_major": 2,
       "version_minor": 0
      },
      "text/plain": [
       "  0%|          | 0/50 [00:00<?, ?it/s]"
      ]
     },
     "metadata": {},
     "output_type": "display_data"
    },
    {
     "name": "stdout",
     "output_type": "stream",
     "text": [
      "Epoch 9, Step 499, Val acc 0.4700, Val loss 1.0144\n",
      "Last checkpoint saved at ../../exps/multirc/last/checkpoint.pth\n",
      "Epoch 10, Batch 50, Loss 1.0919, LR 0.00000015\n",
      "Eval ...\n"
     ]
    },
    {
     "data": {
      "application/vnd.jupyter.widget-view+json": {
       "model_id": "9839410660ff47959498f28b9c22f6ca",
       "version_major": 2,
       "version_minor": 0
      },
      "text/plain": [
       "  0%|          | 0/50 [00:00<?, ?it/s]"
      ]
     },
     "metadata": {},
     "output_type": "display_data"
    },
    {
     "name": "stdout",
     "output_type": "stream",
     "text": [
      "Epoch 10, Step 549, Val acc 0.4600, Val loss 1.0123\n",
      "Last checkpoint saved at ../../exps/multirc/last/checkpoint.pth\n",
      "Epoch 11, Batch 50, Loss 1.0179, LR 0.00000014\n",
      "Eval ...\n"
     ]
    },
    {
     "data": {
      "application/vnd.jupyter.widget-view+json": {
       "model_id": "63bbc84f462f46ff9f7b5b9cd4a49cb0",
       "version_major": 2,
       "version_minor": 0
      },
      "text/plain": [
       "  0%|          | 0/50 [00:00<?, ?it/s]"
      ]
     },
     "metadata": {},
     "output_type": "display_data"
    },
    {
     "name": "stdout",
     "output_type": "stream",
     "text": [
      "Epoch 11, Step 599, Val acc 0.4600, Val loss 1.0118\n",
      "Last checkpoint saved at ../../exps/multirc/last/checkpoint.pth\n"
     ]
    }
   ],
   "source": [
    "import logging\n",
    "\n",
    "# track = True\n",
    "track = False\n",
    "\n",
    "if track:\n",
    "    import wandb\n",
    "    wandb.init(project='sop')\n",
    "    wandb.run.name = os.path.basename(exp_dir)\n",
    "\n",
    "# Iterate over the data\n",
    "best_val_acc = 0.0\n",
    "step = 0\n",
    "train_log_interval = 100\n",
    "val_eval_interval = 1000\n",
    "\n",
    "logging.basicConfig(filename=os.path.join(exp_dir, 'train.log'), level=logging.INFO)\n",
    "\n",
    "model.train()\n",
    "\n",
    "progress_bar = tqdm(range(num_training_steps))\n",
    "for epoch in range(num_epochs):\n",
    "    running_loss = 0.0\n",
    "    running_total = 0\n",
    "    for i, batch in enumerate(train_dataloader):\n",
    "        # import pdb; pdb.set_trace()\n",
    "        # inputs, labels = batch\n",
    "        # inputs, labels = inputs.to(device), labels.to(device)\n",
    "        if not isinstance(batch['input_ids'], torch.Tensor):\n",
    "            inputs = torch.stack(batch['input_ids']).transpose(0, 1).to(device)\n",
    "            if 'token_type_ids' in batch:\n",
    "                token_type_ids = torch.stack(batch['token_type_ids']).transpose(0, 1).to(device)\n",
    "            else:\n",
    "                token_type_ids = None\n",
    "            attention_mask = torch.stack(batch['attention_mask']).transpose(0, 1).to(device)\n",
    "            \n",
    "            concatenated_rows = [torch.stack(sublist) for sublist in batch['segs']]\n",
    "            segs = torch.stack(concatenated_rows).permute(2, 0, 1).to(device).float()\n",
    "            # print('segs', segs.shape)\n",
    "        else:\n",
    "            inputs = batch['input_ids'].to(device)\n",
    "            if 'token_type_ids' in batch:\n",
    "                token_type_ids = batch['token_type_ids'].to(device)\n",
    "            else:\n",
    "                token_type_ids = None\n",
    "            attention_mask = batch['attention_mask'].to(device)\n",
    "            segs = batch['segs'].to(device).float()\n",
    "        kwargs = {\n",
    "            'token_type_ids': token_type_ids,\n",
    "            'attention_mask': attention_mask,\n",
    "        }\n",
    "        labels = batch['label'].to(device)\n",
    "            \n",
    "        \n",
    "        optimizer.zero_grad()\n",
    "        logits = model(inputs, segs=segs, mask_batch_size=mask_batch_size, kwargs=kwargs)\n",
    "        loss = criterion(logits, labels)\n",
    "        loss.backward()\n",
    "        optimizer.step()\n",
    "        \n",
    "        running_loss += loss.item() * labels.size(0)\n",
    "        running_total += labels.size(0)\n",
    "        \n",
    "        if i % train_log_interval == train_log_interval - 1 or i == len(train_dataloader) - 1:\n",
    "            # Print training loss every 100 batches\n",
    "            curr_lr = float(optimizer.param_groups[0]['lr'])\n",
    "            log_message = f'Epoch {epoch}, Batch {i + 1}, Loss {running_loss / running_total:.4f}, LR {curr_lr:.8f}'\n",
    "            print(log_message)\n",
    "            logging.info(log_message)\n",
    "            if track:\n",
    "                wandb.log({'train_loss': running_loss / running_total,\n",
    "                        'lr': curr_lr,\n",
    "                        'epoch': epoch,\n",
    "                        'step': step})\n",
    "            running_loss = 0.0\n",
    "            running_total = 0\n",
    "            \n",
    "        if i % val_eval_interval == val_eval_interval - 1 or i == len(train_dataloader) - 1:\n",
    "            val_results = eval(model, val_dataloader, criterion)\n",
    "            val_acc = val_results['val_acc']\n",
    "            val_loss = val_results['val_loss']\n",
    "            log_message = f'Epoch {epoch}, Step {step}, Val acc {val_acc:.4f}, Val loss {val_loss:.4f}'\n",
    "            print(log_message)\n",
    "            logging.info(log_message)\n",
    "            if track:\n",
    "                wandb.log({'val_acc': val_acc,\n",
    "                           'val_loss': val_loss,\n",
    "                        'epoch': epoch,\n",
    "                        'step': step})\n",
    "            \n",
    "            last_dir = os.path.join(exp_dir, 'last')\n",
    "            best_dir = os.path.join(exp_dir, 'best')\n",
    "            checkpoint = {\n",
    "                    'model': model.state_dict(),\n",
    "                    'optimizer': optimizer.state_dict(),\n",
    "                    'lr_scheduler': lr_scheduler.state_dict(),\n",
    "                    'epoch': epoch,\n",
    "                    'step': step,\n",
    "                    'val_loss': val_loss,\n",
    "                    'val_acc': val_acc,\n",
    "                }\n",
    "            if val_acc > best_val_acc:\n",
    "                best_val_acc = val_acc\n",
    "                os.makedirs(best_dir, exist_ok=True)\n",
    "                best_checkpoint_path = os.path.join(best_dir, 'checkpoint.pth')\n",
    "                torch.save(checkpoint, best_checkpoint_path)\n",
    "                config_best_checkpoint_path = os.path.join(best_dir, 'config.json')\n",
    "                config.save_to_json(config_best_checkpoint_path)\n",
    "                print(f'Best checkpoint saved at {best_checkpoint_path}')\n",
    "                \n",
    "                # model.save_pretrained(best_dir)\n",
    "            # model.save_pretrained(last_dir)\n",
    "            os.makedirs(last_dir, exist_ok=True)\n",
    "            last_checkpoint_path = os.path.join(last_dir, 'checkpoint.pth')\n",
    "            torch.save(checkpoint, last_checkpoint_path)\n",
    "            config_last_checkpoint_path = os.path.join(last_dir, 'config.json')\n",
    "            config.save_to_json(config_best_checkpoint_path)\n",
    "            print(f'Last checkpoint saved at {last_checkpoint_path}')\n",
    "            \n",
    "        lr_scheduler.step()\n",
    "        progress_bar.update(1)\n",
    "        \n",
    "        step += 1\n",
    "        \n",
    "model.save(exp_dir)"
   ]
  },
  {
   "cell_type": "code",
   "execution_count": null,
   "id": "6e69067c-a16b-4417-a3db-f4a304f520a5",
   "metadata": {},
   "outputs": [],
   "source": []
  },
  {
   "cell_type": "code",
   "execution_count": null,
   "id": "2cea88d7-d7f6-481a-8297-03fbfc12a3cc",
   "metadata": {},
   "outputs": [],
   "source": []
  },
  {
   "cell_type": "code",
   "execution_count": null,
   "id": "5a1b7edd-16ef-4c7d-9a67-a30cc3c518da",
   "metadata": {},
   "outputs": [],
   "source": []
  },
  {
   "cell_type": "code",
   "execution_count": null,
   "id": "66ac0489-cd1f-46cf-8346-8d389118834b",
   "metadata": {},
   "outputs": [],
   "source": []
  }
 ],
 "metadata": {
  "kernelspec": {
   "display_name": "Python 3 (ipykernel)",
   "language": "python",
   "name": "python3"
  },
  "language_info": {
   "codemirror_mode": {
    "name": "ipython",
    "version": 3
   },
   "file_extension": ".py",
   "mimetype": "text/x-python",
   "name": "python",
   "nbconvert_exporter": "python",
   "pygments_lexer": "ipython3",
   "version": "3.10.10"
  }
 },
 "nbformat": 4,
 "nbformat_minor": 5
}
