{
 "cells": [
  {
   "cell_type": "code",
   "execution_count": 1,
   "id": "a168dd1f-1fa4-4a08-9d62-d52f3f148a34",
   "metadata": {
    "tags": []
   },
   "outputs": [],
   "source": [
    "import json\n",
    "import os\n",
    "import argparse\n",
    "\n",
    "import numpy as np\n",
    "import random\n",
    "import torch\n",
    "from torch import nn, optim\n",
    "from tqdm.auto import tqdm\n",
    "from transformers import AutoImageProcessor, AutoModelForImageClassification, AutoConfig\n",
    "from transformers import AutoTokenizer, AutoModelForSequenceClassification\n",
    "\n",
    "from pathlib import Path\n",
    "from torch.utils.data import DataLoader, Subset\n",
    "import sys\n",
    "sys.path.append('../../lib/exlib/src')\n",
    "from exlib.modules.sop import SOPConfig, SOPTextCls, get_chained_attr, compress_masks_text, AttributionOutputSOP"
   ]
  },
  {
   "cell_type": "code",
   "execution_count": 2,
   "id": "b076a691-03f3-4bd0-aaab-3dc90d486c8c",
   "metadata": {
    "tags": []
   },
   "outputs": [],
   "source": [
    "device = torch.device('cuda' if torch.cuda.is_available() else 'cpu')\n",
    "\n",
    "SEED = 42\n",
    "if SEED != -1:\n",
    "    # Torch RNG\n",
    "    torch.manual_seed(SEED)\n",
    "    torch.cuda.manual_seed(SEED)\n",
    "    torch.cuda.manual_seed_all(SEED)\n",
    "    # Python RNG\n",
    "    np.random.seed(SEED)\n",
    "    random.seed(SEED)"
   ]
  },
  {
   "cell_type": "code",
   "execution_count": 3,
   "id": "54d04a6c-fc0a-4ff7-97da-6d788fa04447",
   "metadata": {
    "tags": []
   },
   "outputs": [],
   "source": [
    "# model paths\n",
    "backbone_model_name = 'textattack/bert-base-uncased-SST-2'\n",
    "backbone_processor_name = 'textattack/bert-base-uncased-SST-2'\n",
    "# sop_config_path = 'configs/imagenet_m.json'\n",
    "\n",
    "# data paths\n",
    "# TRAIN_DATA_DIR = '../data/imagenet_m/train'\n",
    "# VAL_DATA_DIR = '../data/imagenet_m/val'\n",
    "\n",
    "# training args\n",
    "batch_size = 1\n",
    "lr = 0.000005\n",
    "num_epochs = 20\n",
    "warmup_steps = 2000\n",
    "mask_batch_size = 4\n",
    "\n",
    "# experiment args\n",
    "exp_dir = '../../exps/sst_m_1h_gg2.0_gs1.0_ggta1.0_ggtb0.1/best'"
   ]
  },
  {
   "cell_type": "code",
   "execution_count": 4,
   "id": "0e3da73c-bf7f-4d76-a1eb-098f6fccac3b",
   "metadata": {
    "tags": []
   },
   "outputs": [
    {
     "name": "stdout",
     "output_type": "stream",
     "text": [
      "{'hidden_size': 768, 'input_hidden_size': None, 'num_labels': 2, 'projected_input_scale': 2, 'num_heads': 1, 'num_masks_sample': 8, 'num_masks_max': 16, 'image_size': [224, 224], 'num_channels': 3, 'attn_patch_size': 16, 'finetune_layers': ['model.classifier'], 'group_gen_scale': 2.0, 'group_gen_temp_alpha': 1.0, 'group_gen_temp_beta': 0.1, 'group_sel_scale': 1.0, 'freeze_projection': False}\n"
     ]
    }
   ],
   "source": [
    "backbone_model = AutoModelForSequenceClassification.from_pretrained(backbone_model_name)\n",
    "processor = AutoTokenizer.from_pretrained(backbone_processor_name)\n",
    "backbone_config = AutoConfig.from_pretrained(backbone_model_name)\n",
    "\n",
    "config = SOPConfig(json_file=os.path.join(exp_dir, 'config.json'),\n",
    "                   projected_input_scale=2)\n",
    "print(config.__dict__)"
   ]
  },
  {
   "cell_type": "code",
   "execution_count": 5,
   "id": "3c082f2f-17e7-4cc1-a872-25d5bc6c1975",
   "metadata": {
    "tags": []
   },
   "outputs": [
    {
     "name": "stdout",
     "output_type": "stream",
     "text": [
      "Loaded 6920 documents of 2 classes\n",
      "Loaded 872 documents of 2 classes\n"
     ]
    }
   ],
   "source": [
    "from torch.utils.data import DataLoader, Dataset\n",
    "from datasets import load_dataset\n",
    "import jsonlines\n",
    "\n",
    "\n",
    "class SSTDataset(Dataset):\n",
    "    def __init__(self, data_path, data_size=-1, transform=None):\n",
    "        self.data_path = data_path\n",
    "        self.data_size = data_size\n",
    "        self.transform = transform\n",
    "        self.documents = []\n",
    "        self.labels = []\n",
    "        with jsonlines.open(data_path) as reader:\n",
    "            for obj in reader:\n",
    "                self.documents.append(obj['document'])\n",
    "                self.labels.append(obj['label'])\n",
    "        self.classes = sorted(set(self.labels))\n",
    "        \n",
    "        if data_size != -1:\n",
    "            # select a subset of the data so that each class has data_size number of documents\n",
    "            documents = []\n",
    "            labels = []\n",
    "            for c in self.classes:\n",
    "                c_docs = [doc for doc, label in zip(self.documents, self.labels) if label == c]\n",
    "                documents.extend(c_docs[:data_size])\n",
    "                labels.extend([c]*data_size)\n",
    "            self.documents = documents\n",
    "            self.labels = labels\n",
    "\n",
    "        assert len(self.documents) == len(self.labels)\n",
    "        \n",
    "        print(f'Loaded {len(self.labels)} documents of {len(self.classes)} classes')\n",
    "        \n",
    "    def __len__(self):\n",
    "        return len(self.labels)\n",
    "        \n",
    "    def __getitem__(self, idx):\n",
    "        inputs = self.transform(self.documents[idx])\n",
    "        inputs['label'] = self.labels[idx]\n",
    "        return inputs\n",
    "\n",
    "        \n",
    "# Path to your dataset file\n",
    "train_path = '../../data/SST/data/train.jsonl'\n",
    "val_path = '../../data/SST/data/dev.jsonl'\n",
    "\n",
    "# Tokenization function\n",
    "def transform(batch):\n",
    "    return processor(batch, \n",
    "                   # padding=\"max_length\", \n",
    "                   truncation=True)\n",
    "                   #   , \n",
    "                   # max_length=512)\n",
    "\n",
    "# Load the dataset from the file\n",
    "train_size, val_size = -1, -1 #100, 100\n",
    "train_dataset = SSTDataset(train_path, data_size=train_size, transform=transform)\n",
    "val_dataset = SSTDataset(val_path, data_size=val_size, transform=transform)\n",
    "\n",
    "# Create a DataLoader to batch and shuffle the data\n",
    "train_dataloader = DataLoader(train_dataset, batch_size=batch_size, shuffle=True)\n",
    "val_dataloader = DataLoader(val_dataset, batch_size=batch_size, shuffle=False)"
   ]
  },
  {
   "cell_type": "code",
   "execution_count": 6,
   "id": "06dfb621-4137-4492-a79d-ab53bfb934e5",
   "metadata": {
    "tags": []
   },
   "outputs": [],
   "source": [
    "from collections import namedtuple\n",
    "\n",
    "WrappedBackboneOutput = namedtuple(\"WrappedBackboneOutput\", \n",
    "                                  [\"logits\",\n",
    "                                   \"pooler_output\"])\n",
    "\n",
    "\n",
    "class WrappedBackboneModel(nn.Module):\n",
    "    def __init__(self, model):\n",
    "        super().__init__()\n",
    "        self.model = model\n",
    "    \n",
    "    def forward(self, inputs=None, **kwargs):\n",
    "        outputs = self.model(inputs, output_hidden_states=True, **kwargs)\n",
    "        return WrappedBackboneOutput(outputs.logits, outputs.hidden_states[-1][:,0])"
   ]
  },
  {
   "cell_type": "code",
   "execution_count": 7,
   "id": "99468925-695f-4b8b-9f92-a392eced0b93",
   "metadata": {
    "tags": []
   },
   "outputs": [],
   "source": [
    "class WrappedModel(nn.Module):\n",
    "    def __init__(self, model):\n",
    "        super().__init__()\n",
    "        self.model = model\n",
    "    \n",
    "    def forward(self, **kwargs):\n",
    "        outputs = self.model(**kwargs)\n",
    "        return outputs.logits"
   ]
  },
  {
   "cell_type": "code",
   "execution_count": 8,
   "id": "b9570a13-f061-4b38-b916-98917546c8c2",
   "metadata": {
    "tags": []
   },
   "outputs": [],
   "source": [
    "class WrappedBackboneModel2(nn.Module):\n",
    "    def __init__(self, model):\n",
    "        super().__init__()\n",
    "        self.model = model\n",
    "    \n",
    "    def forward(self, inputs=None, **kwargs):\n",
    "        # device = next(self.model.parameters()).device\n",
    "        # inputs = inputs.to(device)\n",
    "        # kwargs = {k: v.to(device) for k, v in kwargs.items()}\n",
    "        outputs = self.model(inputs, output_hidden_states=True, **kwargs)\n",
    "        # import pdb; pdb.set_trace()\n",
    "        return torch.softmax(outputs.logits, dim=-1)\n",
    "original_model2 = WrappedBackboneModel2(backbone_model).to(device)"
   ]
  },
  {
   "cell_type": "code",
   "execution_count": 9,
   "id": "1368cf08-5059-480a-b30b-f952ccc4fa98",
   "metadata": {
    "tags": []
   },
   "outputs": [],
   "source": [
    "class WrappedBackboneModel3(nn.Module):\n",
    "    def __init__(self, model):\n",
    "        super().__init__()\n",
    "        self.model = model\n",
    "    \n",
    "    def forward(self, inputs=None, **kwargs):\n",
    "        # device = next(self.model.parameters()).device\n",
    "        # inputs = inputs.to(device)\n",
    "        # kwargs = {k: v.to(device) for k, v in kwargs.items()}\n",
    "        outputs = self.model(inputs, output_hidden_states=True, **kwargs)\n",
    "        # import pdb; pdb.set_trace()\n",
    "        return outputs.logits\n",
    "original_model3 = WrappedBackboneModel3(backbone_model).to(device)"
   ]
  },
  {
   "cell_type": "code",
   "execution_count": 10,
   "id": "2b16baee-5c58-480c-86f6-c8f7bb104dea",
   "metadata": {
    "tags": []
   },
   "outputs": [],
   "source": [
    "wrapped_backbone_model = WrappedBackboneModel(backbone_model)\n",
    "wrapped_backbone_model = wrapped_backbone_model.to(device)\n",
    "class_weights = get_chained_attr(wrapped_backbone_model, config.finetune_layers[0]).weight #.clone().to(device)\n",
    "projection_layer = wrapped_backbone_model.model.bert.embeddings.word_embeddings"
   ]
  },
  {
   "cell_type": "code",
   "execution_count": 11,
   "id": "38996149-b4cc-437c-9fb8-a243f90abc63",
   "metadata": {
    "tags": []
   },
   "outputs": [
    {
     "name": "stdout",
     "output_type": "stream",
     "text": [
      "projection layer is not frozen\n"
     ]
    }
   ],
   "source": [
    "model = SOPTextCls(config, wrapped_backbone_model, class_weights=class_weights, projection_layer=projection_layer)\n",
    "state_dict = torch.load(os.path.join(exp_dir, 'checkpoint.pth'))\n",
    "model.load_state_dict(state_dict['model'], strict=False)\n",
    "model = model.to(device)\n",
    "model.eval();"
   ]
  },
  {
   "cell_type": "code",
   "execution_count": 12,
   "id": "06933526-7b73-43cd-96c4-b6d9e6f16a7c",
   "metadata": {
    "tags": []
   },
   "outputs": [],
   "source": [
    "original_model = WrappedModel(backbone_model)\n",
    "original_model = original_model.to(device)"
   ]
  },
  {
   "cell_type": "code",
   "execution_count": 13,
   "id": "e37337c5-f501-4df1-8ad9-7c780b115cf0",
   "metadata": {
    "tags": []
   },
   "outputs": [
    {
     "name": "stdout",
     "output_type": "stream",
     "text": [
      "dict_keys(['input_ids', 'token_type_ids', 'attention_mask', 'label'])\n"
     ]
    }
   ],
   "source": [
    "batch = next(iter(val_dataloader))\n",
    "print(batch.keys())"
   ]
  },
  {
   "cell_type": "code",
   "execution_count": 14,
   "id": "434789cb-5b4b-4345-acd3-40d6f3ec7300",
   "metadata": {
    "tags": []
   },
   "outputs": [],
   "source": [
    "if not isinstance(batch['input_ids'], torch.Tensor):\n",
    "    inputs = torch.stack(batch['input_ids']).transpose(0, 1).to(device)\n",
    "    if 'token_type_ids' in batch:\n",
    "        token_type_ids = torch.stack(batch['token_type_ids']).transpose(0, 1).to(device)\n",
    "    else:\n",
    "        token_type_ids = None\n",
    "    attention_mask = torch.stack(batch['attention_mask']).transpose(0, 1).to(device)\n",
    "\n",
    "    # concatenated_rows = [torch.stack(sublist) for sublist in batch['segs']]\n",
    "    # segs = torch.stack(concatenated_rows).permute(2, 0, 1).to(device).float()\n",
    "    # print('segs', segs.shape)\n",
    "else:\n",
    "    inputs = batch['input_ids'].to(device)\n",
    "    if 'token_type_ids' in batch:\n",
    "        token_type_ids = batch['token_type_ids'].to(device)\n",
    "    else:\n",
    "        token_type_ids = None\n",
    "    attention_mask = batch['attention_mask'].to(device)\n",
    "    # segs = batch['segs'].to(device).float()\n",
    "kwargs = {\n",
    "    'token_type_ids': token_type_ids,\n",
    "    'attention_mask': attention_mask,\n",
    "}\n",
    "labels = batch['label'].to(device)"
   ]
  },
  {
   "cell_type": "markdown",
   "id": "633cade5-f797-469f-a534-ccc9e4e278a8",
   "metadata": {
    "tags": []
   },
   "source": [
    "## Archipelago"
   ]
  },
  {
   "cell_type": "code",
   "execution_count": 15,
   "id": "b6669b2b-8b04-4cbb-bab1-d45ace5fcdb4",
   "metadata": {
    "tags": []
   },
   "outputs": [
    {
     "name": "stderr",
     "output_type": "stream",
     "text": [
      "We strongly recommend passing in an `attention_mask` since your input_ids may be padded. See https://huggingface.co/docs/transformers/troubleshooting#incorrect-output-when-padding-tokens-arent-masked.\n"
     ]
    }
   ],
   "source": [
    "from exlib.explainers.archipelago import ArchipelagoTextCls\n",
    "\n",
    "explainer = ArchipelagoTextCls(backbone_model).to(device)\n",
    "arc_expln = explainer(inputs, labels, **kwargs)"
   ]
  },
  {
   "cell_type": "code",
   "execution_count": 16,
   "id": "6cf84af4-63f3-4d1a-8eea-e6a7e53df939",
   "metadata": {
    "tags": []
   },
   "outputs": [
    {
     "data": {
      "text/plain": [
       "(torch.Size([1, 16]), torch.Size([16]))"
      ]
     },
     "execution_count": 16,
     "metadata": {},
     "output_type": "execute_result"
    }
   ],
   "source": [
    "arc_expln.attributions.shape, arc_expln.explainer_output['expln_flat_masks'][0].shape"
   ]
  },
  {
   "cell_type": "code",
   "execution_count": 17,
   "id": "3e07c7ae-2338-4d28-a0b7-c48c384dacb1",
   "metadata": {
    "tags": []
   },
   "outputs": [
    {
     "data": {
      "application/vnd.jupyter.widget-view+json": {
       "model_id": "90eebdc982e340538dbead6a319316f2",
       "version_major": 2,
       "version_minor": 0
      },
      "text/plain": [
       "  0%|          | 0/2 [00:00<?, ?it/s]"
      ]
     },
     "metadata": {},
     "output_type": "display_data"
    },
    {
     "data": {
      "text/plain": [
       "(tensor(0, device='cuda:0'), tensor([ 2.1138, -2.9271], device='cuda:0'))"
      ]
     },
     "execution_count": 17,
     "metadata": {},
     "output_type": "execute_result"
    }
   ],
   "source": [
    "j = 0\n",
    "grouped_attrs = []\n",
    "for i in tqdm(range(2)):\n",
    "    expln_i = explainer(inputs, torch.tensor([i]), **kwargs)\n",
    "    grouped_attrs.append(expln_i.explainer_output['mask_weights'][j])\n",
    "grouped_attrs_aggr = torch.tensor([sum(ga) for ga in grouped_attrs]).to(device)\n",
    "aggr_pred = torch.argmax(grouped_attrs_aggr)\n",
    "aggr_pred, grouped_attrs_aggr"
   ]
  },
  {
   "cell_type": "markdown",
   "id": "b6490583-44cc-4a9c-abf5-ff270bba82ca",
   "metadata": {
    "tags": []
   },
   "source": [
    "## Lime"
   ]
  },
  {
   "cell_type": "code",
   "execution_count": 28,
   "id": "b8e0ce14-f495-47ee-8742-f28730da6d42",
   "metadata": {
    "tags": []
   },
   "outputs": [],
   "source": [
    "from exlib.explainers.lime import LimeTextCls\n",
    "\n",
    "eik = {\n",
    "    \"top_labels\": 2, \n",
    "    \"num_samples\": 1000\n",
    "}\n",
    "\n",
    "def split_expression(x):\n",
    "    # return processor.tokenize(x)\n",
    "    # import pdb; pdb.set_trace()\n",
    "    tokens = x.split()\n",
    "    # tokens = [' ' + a for a in x.split()]\n",
    "    # tokens[0] = tokens[0][1:]\n",
    "    # tokens = processor.tokenize(x)\n",
    "    # import pdb; pdb.set_trace()\n",
    "    return tokens\n",
    "    \n",
    "ltek = {\n",
    "    \"mask_string\": \"[PAD]\",\n",
    "    \"split_expression\": split_expression,\n",
    "    # \"feature_selection\": 'none'\n",
    "}\n",
    "\n",
    "lime_explainer = LimeTextCls(original_model, processor,\n",
    "                             LimeTextExplainerKwargs=ltek,\n",
    "                             explain_instance_kwargs=eik)\n",
    "\n",
    "lime_expln = lime_explainer(inputs, labels)"
   ]
  },
  {
   "cell_type": "code",
   "execution_count": 29,
   "id": "0da74d43-9557-4019-89cf-dc1fa83d09be",
   "metadata": {
    "tags": []
   },
   "outputs": [
    {
     "data": {
      "text/plain": [
       "{0: [(4, -1.592656293443421),\n",
       "  (7, -0.5441038290068904),\n",
       "  (5, -0.27116549053330047),\n",
       "  (9, 0.263618523919542),\n",
       "  (12, -0.261171586233251),\n",
       "  (3, -0.13977285823498853),\n",
       "  (6, -0.1383914754140747),\n",
       "  (10, -0.09634597021900294),\n",
       "  (8, 0.0940371753952921),\n",
       "  (1, -0.07112639941394419)],\n",
       " 1: [(4, 1.6026213682368888),\n",
       "  (7, 0.5123724939228225),\n",
       "  (9, -0.2730581651722103),\n",
       "  (5, 0.24266287354136043),\n",
       "  (12, 0.2349818081003179),\n",
       "  (3, 0.1249267494976049),\n",
       "  (6, 0.09655836112529485),\n",
       "  (1, 0.0888565240840873),\n",
       "  (8, -0.08660559611596468),\n",
       "  (10, 0.08242956527716251)]}"
      ]
     },
     "execution_count": 29,
     "metadata": {},
     "output_type": "execute_result"
    }
   ],
   "source": [
    "lime_expln.explainer_output[0].local_exp"
   ]
  },
  {
   "cell_type": "code",
   "execution_count": 30,
   "id": "2bae8531-380a-4c8d-8207-825e8bb795d0",
   "metadata": {
    "tags": []
   },
   "outputs": [
    {
     "data": {
      "text/plain": [
       "[('lovely', 1.6026213682368888),\n",
       " ('performances', 0.5123724939228225),\n",
       " ('buy', -0.2730581651722103),\n",
       " ('film', 0.24266287354136043),\n",
       " ('##ors', 0.2349818081003179),\n",
       " ('a', 0.1249267494976049),\n",
       " ('with', 0.09655836112529485),\n",
       " ('it', 0.0888565240840873),\n",
       " ('by', -0.08660559611596468),\n",
       " ('and', 0.08242956527716251)]"
      ]
     },
     "execution_count": 30,
     "metadata": {},
     "output_type": "execute_result"
    }
   ],
   "source": [
    "lime_expln.explainer_output[0].as_list()"
   ]
  },
  {
   "cell_type": "code",
   "execution_count": 31,
   "id": "7f658772-7904-435f-84f0-43eb53df45ef",
   "metadata": {
    "tags": []
   },
   "outputs": [],
   "source": [
    "from IPython.display import Markdown, display\n",
    "def printmd(string):\n",
    "    display(Markdown(string))\n",
    "\n",
    "def show_attrs(tokens, masks):\n",
    "    print_str = \"\"\n",
    "    for i in range(len(tokens)):\n",
    "        expln_val = masks[i].item()\n",
    "        if expln_val == 0:\n",
    "            print_str += f\" {tokens[i]}\"\n",
    "        else:\n",
    "            print_str += f\"<span style='background-color:rgb({255 * (1-expln_val)},{255 * expln_val},{255 * expln_val})'> {tokens[i]}</span>\"\n",
    "    return print_str"
   ]
  },
  {
   "cell_type": "code",
   "execution_count": 32,
   "id": "bbe2159f-2db9-4dd9-b14d-9a39d8e242bd",
   "metadata": {
    "tags": []
   },
   "outputs": [],
   "source": [
    "tokens = processor.convert_ids_to_tokens(inputs[0])"
   ]
  },
  {
   "cell_type": "code",
   "execution_count": 33,
   "id": "1468f429-c513-4765-9169-e4a400e364f4",
   "metadata": {
    "tags": []
   },
   "outputs": [
    {
     "data": {
      "text/markdown": [
       " [CLS]<span style='background-color:rgb(232.34158594161272,22.65841405838728,22.65841405838728)'> it</span> s<span style='background-color:rgb(223.14367979764938,31.856320202350616,31.856320202350616)'> a</span><span style='background-color:rgb(-153.66843581199646,408.66843581199646,408.66843581199646)'> lovely</span><span style='background-color:rgb(193.12096640467644,61.87903359532356,61.87903359532356)'> film</span><span style='background-color:rgb(230.37761762738228,24.62238237261772,24.62238237261772)'> with</span><span style='background-color:rgb(-153.66843581199646,408.66843581199646,408.66843581199646)'> lovely</span><span style='background-color:rgb(124.3450140953064,130.6549859046936,130.6549859046936)'> performances</span><span style='background-color:rgb(277.08442635834217,-22.08442635834217,-22.08442635834217)'> by</span><span style='background-color:rgb(324.6298348903656,-69.6298348903656,-69.6298348903656)'> buy</span><span style='background-color:rgb(233.9804608002305,21.019539199769497,21.019539199769497)'> and</span> acc<span style='background-color:rgb(195.07963970303535,59.920360296964645,59.920360296964645)'> ##ors</span> ##i [SEP]"
      ],
      "text/plain": [
       "<IPython.core.display.Markdown object>"
      ]
     },
     "metadata": {},
     "output_type": "display_data"
    }
   ],
   "source": [
    "printmd(show_attrs(tokens, lime_expln.attributions[0]))"
   ]
  },
  {
   "cell_type": "code",
   "execution_count": 29,
   "id": "fd159dbe-0328-401d-bf8e-20492b06b73e",
   "metadata": {
    "tags": []
   },
   "outputs": [
    {
     "ename": "IndexError",
     "evalue": "index 1 is out of bounds for dimension 0 with size 1",
     "output_type": "error",
     "traceback": [
      "\u001b[0;31m---------------------------------------------------------------------------\u001b[0m",
      "\u001b[0;31mIndexError\u001b[0m                                Traceback (most recent call last)",
      "\u001b[0;32m/tmp/ipykernel_21289/1659400552.py\u001b[0m in \u001b[0;36m<module>\u001b[0;34m\u001b[0m\n\u001b[0;32m----> 1\u001b[0;31m \u001b[0mtokens1\u001b[0m \u001b[0;34m=\u001b[0m \u001b[0mprocessor\u001b[0m\u001b[0;34m.\u001b[0m\u001b[0mconvert_ids_to_tokens\u001b[0m\u001b[0;34m(\u001b[0m\u001b[0minputs\u001b[0m\u001b[0;34m[\u001b[0m\u001b[0;36m1\u001b[0m\u001b[0;34m]\u001b[0m\u001b[0;34m)\u001b[0m\u001b[0;34m\u001b[0m\u001b[0;34m\u001b[0m\u001b[0m\n\u001b[0m\u001b[1;32m      2\u001b[0m \u001b[0mprintmd\u001b[0m\u001b[0;34m(\u001b[0m\u001b[0mshow_attrs\u001b[0m\u001b[0;34m(\u001b[0m\u001b[0mtokens1\u001b[0m\u001b[0;34m,\u001b[0m \u001b[0mlime_expln\u001b[0m\u001b[0;34m.\u001b[0m\u001b[0mattributions\u001b[0m\u001b[0;34m[\u001b[0m\u001b[0;36m1\u001b[0m\u001b[0;34m]\u001b[0m\u001b[0;34m)\u001b[0m\u001b[0;34m)\u001b[0m\u001b[0;34m\u001b[0m\u001b[0;34m\u001b[0m\u001b[0m\n",
      "\u001b[0;31mIndexError\u001b[0m: index 1 is out of bounds for dimension 0 with size 1"
     ]
    }
   ],
   "source": [
    "tokens1 = processor.convert_ids_to_tokens(inputs[1])\n",
    "printmd(show_attrs(tokens1, lime_expln.attributions[1]))"
   ]
  },
  {
   "cell_type": "code",
   "execution_count": 20,
   "id": "b58b970e-6c5b-4c08-b85f-8b7adae122f0",
   "metadata": {
    "tags": []
   },
   "outputs": [
    {
     "data": {
      "text/plain": [
       "[('[PAD]', 0.5767190980600844),\n",
       " ('the', 0.31360959520663556),\n",
       " ('[SEP]', 0.24867316109376783),\n",
       " ('–', 0.19954130976062953),\n",
       " ('or', 0.16558237185584104),\n",
       " ('|', -0.1487878343240845),\n",
       " ('.', -0.1309357914639342),\n",
       " ('erase', -0.12731568318035072),\n",
       " ('allan', -0.12423464436928029),\n",
       " ('so', -0.07478245937713171)]"
      ]
     },
     "execution_count": 20,
     "metadata": {},
     "output_type": "execute_result"
    }
   ],
   "source": [
    "lime_expln.explainer_output[0].as_list()"
   ]
  },
  {
   "cell_type": "code",
   "execution_count": 21,
   "id": "fb5c1927-d7e7-4423-9b4d-cdb9f2a33765",
   "metadata": {
    "tags": []
   },
   "outputs": [
    {
     "data": {
      "text/plain": [
       "{0: [(208, -0.7893760245796537),\n",
       "  (198, -0.30193107376986145),\n",
       "  (9, -0.30047980664344687),\n",
       "  (141, -0.2145088359383795),\n",
       "  (203, -0.21344021701543137),\n",
       "  (96, -0.21216588209013354),\n",
       "  (1, 0.13338063608778614),\n",
       "  (207, 0.12451006101765646),\n",
       "  (205, 0.11947097009523455),\n",
       "  (178, 0.08199956342861209)],\n",
       " 1: [(208, 0.5767190980600844),\n",
       "  (9, 0.31360959520663556),\n",
       "  (198, 0.24867316109376783),\n",
       "  (141, 0.19954130976062953),\n",
       "  (203, 0.16558237185584104),\n",
       "  (205, -0.1487878343240845),\n",
       "  (13, -0.1309357914639342),\n",
       "  (206, -0.12731568318035072),\n",
       "  (1, -0.12423464436928029),\n",
       "  (178, -0.07478245937713171)]}"
      ]
     },
     "execution_count": 21,
     "metadata": {},
     "output_type": "execute_result"
    }
   ],
   "source": [
    "lime_expln.explainer_output[0].local_exp"
   ]
  },
  {
   "cell_type": "code",
   "execution_count": 22,
   "id": "7faaafb7-7984-4e39-b1f7-16647cf37f66",
   "metadata": {
    "tags": []
   },
   "outputs": [
    {
     "data": {
      "application/vnd.jupyter.widget-view+json": {
       "model_id": "825058c55a1743849ad8ea0c3833544b",
       "version_major": 2,
       "version_minor": 0
      },
      "text/plain": [
       "  0%|          | 0/2 [00:00<?, ?it/s]"
      ]
     },
     "metadata": {},
     "output_type": "display_data"
    }
   ],
   "source": [
    "j = 0\n",
    "grouped_attrs = []\n",
    "for i in tqdm(range(2)):\n",
    "    grouped_attrs.append([v for k, v in lime_expln.explainer_output[j].local_exp[i]])\n",
    "grouped_attrs_aggr = torch.tensor([sum(ga) for ga in grouped_attrs]).to(device)\n",
    "aggr_pred = torch.argmax(grouped_attrs_aggr)"
   ]
  },
  {
   "cell_type": "code",
   "execution_count": 23,
   "id": "03803d4b-55bf-4d18-a440-e85048eac320",
   "metadata": {
    "tags": []
   },
   "outputs": [
    {
     "data": {
      "text/plain": [
       "tensor(1, device='cuda:0')"
      ]
     },
     "execution_count": 23,
     "metadata": {},
     "output_type": "execute_result"
    }
   ],
   "source": [
    "aggr_pred"
   ]
  },
  {
   "cell_type": "markdown",
   "id": "bb1e75dd-1e1d-4909-93b5-bdabe9221842",
   "metadata": {
    "tags": []
   },
   "source": [
    "## SHAP"
   ]
  },
  {
   "cell_type": "code",
   "execution_count": 34,
   "id": "f8338bcd-cc05-4be5-aeeb-53f641942b29",
   "metadata": {
    "tags": []
   },
   "outputs": [],
   "source": [
    "from exlib.explainers.shap import ShapTextCls\n",
    "\n",
    "shap_explainer = ShapTextCls(original_model, processor).to(device)\n",
    "\n"
   ]
  },
  {
   "cell_type": "code",
   "execution_count": 35,
   "id": "0ff6f76f-2bae-4c8a-ab02-d6f7c9529b22",
   "metadata": {
    "tags": []
   },
   "outputs": [
    {
     "data": {
      "application/vnd.jupyter.widget-view+json": {
       "model_id": "",
       "version_major": 2,
       "version_minor": 0
      },
      "text/plain": [
       "  0%|          | 0/272 [00:00<?, ?it/s]"
      ]
     },
     "metadata": {},
     "output_type": "display_data"
    }
   ],
   "source": [
    "inputs_dict = {\n",
    "    'input_ids': inputs,\n",
    "    'token_type_ids': token_type_ids,\n",
    "    'attention_mask': attention_mask\n",
    "}\n",
    "\n",
    "inputs_raw = [processor.decode(input_ids_i).replace('[CLS]', '').replace('[PAD]', '').strip() \n",
    "              for input_ids_i in inputs]\n",
    "\n",
    "shap_expln = shap_explainer(inputs_raw, labels)"
   ]
  },
  {
   "cell_type": "code",
   "execution_count": 36,
   "id": "fb4980d0-a0a8-4710-878a-0b50f9e75c12",
   "metadata": {
    "tags": []
   },
   "outputs": [
    {
     "data": {
      "text/plain": [
       "(17, 2)"
      ]
     },
     "execution_count": 36,
     "metadata": {},
     "output_type": "execute_result"
    }
   ],
   "source": [
    "shap_expln.explainer_output.values[0].shape"
   ]
  },
  {
   "cell_type": "code",
   "execution_count": 37,
   "id": "5d8b8074-263b-4ab8-b883-41908f5e1fe5",
   "metadata": {
    "tags": []
   },
   "outputs": [],
   "source": [
    "# bsz = len(shap_expln.explainer_output.values)\n",
    "j = 0\n",
    "grouped_attrs_aggr = torch.tensor(shap_expln.explainer_output.values[j]).mean(0)\n",
    "aggr_pred = torch.argmax(grouped_attrs_aggr)"
   ]
  },
  {
   "cell_type": "code",
   "execution_count": 38,
   "id": "42b88b64-2179-41fa-9d63-e4d3b5b1cd18",
   "metadata": {
    "tags": []
   },
   "outputs": [
    {
     "data": {
      "text/plain": [
       "tensor(1)"
      ]
     },
     "execution_count": 38,
     "metadata": {},
     "output_type": "execute_result"
    }
   ],
   "source": [
    "aggr_pred"
   ]
  },
  {
   "cell_type": "code",
   "execution_count": 39,
   "id": "8ae9aed7-8a20-4373-9356-89eec23cf9a1",
   "metadata": {
    "tags": []
   },
   "outputs": [
    {
     "data": {
      "text/plain": [
       "tensor([1], device='cuda:0')"
      ]
     },
     "execution_count": 39,
     "metadata": {},
     "output_type": "execute_result"
    }
   ],
   "source": [
    "labels"
   ]
  },
  {
   "cell_type": "code",
   "execution_count": 41,
   "id": "f73ec791-5efd-494a-b4bb-2d410d86ca44",
   "metadata": {
    "tags": []
   },
   "outputs": [],
   "source": [
    "import shap"
   ]
  },
  {
   "cell_type": "code",
   "execution_count": 40,
   "id": "384c6bff-7742-4744-ad6c-e73b1d42eb64",
   "metadata": {
    "tags": []
   },
   "outputs": [
    {
     "data": {
      "text/markdown": [
       "<span style='background-color:rgb(255.00001899898052,-1.8998980522155762e-05,-1.8998980522155762e-05)'> </span><span style='background-color:rgb(327.6527286018245,-72.65272860182449,-72.65272860182449)'> it </span><span style='background-color:rgb(265.7481879845727,-10.748187984572724,-10.748187984572724)'> s </span><span style='background-color:rgb(177.70922014606185,77.29077985393815,77.29077985393815)'> a </span><span style='background-color:rgb(28.020851612091064,226.97914838790894,226.97914838790894)'> lovely </span><span style='background-color:rgb(106.52848072350025,148.47151927649975,148.47151927649975)'> film </span><span style='background-color:rgb(221.14634547382593,33.85365452617407,33.85365452617407)'> with </span><span style='background-color:rgb(50.45535508543253,204.54464491456747,204.54464491456747)'> lovely </span><span style='background-color:rgb(142.81062935013324,112.18937064986676,112.18937064986676)'> performances </span><span style='background-color:rgb(342.9165296209976,-87.91652962099761,-87.91652962099761)'> by </span><span style='background-color:rgb(368.9148986712098,-113.91489867120981,-113.91489867120981)'> buy </span><span style='background-color:rgb(224.96657498180866,30.033425018191338,30.033425018191338)'> and </span><span style='background-color:rgb(157.95395177789032,97.04604822210968,97.04604822210968)'> acc</span><span style='background-color:rgb(196.26526015810668,58.734739841893315,58.734739841893315)'> ors</span><span style='background-color:rgb(294.9926260113716,-39.99262601137161,-39.99262601137161)'> i </span><span style='background-color:rgb(255.00006079673767,-6.079673767089844e-05,-6.079673767089844e-05)'> [SEP]</span><span style='background-color:rgb(255.00006079673767,-6.079673767089844e-05,-6.079673767089844e-05)'> </span>"
      ],
      "text/plain": [
       "<IPython.core.display.Markdown object>"
      ]
     },
     "metadata": {},
     "output_type": "display_data"
    }
   ],
   "source": [
    "from IPython.display import Markdown, display\n",
    "def printmd(string):\n",
    "    display(Markdown(string))\n",
    "\n",
    "def show_attrs(tokens, masks):\n",
    "    print_str = \"\"\n",
    "    for i in range(len(tokens)):\n",
    "        expln_val = masks[i].item()\n",
    "        if expln_val == 0:\n",
    "            print_str += f\" {tokens[i]}\"\n",
    "        else:\n",
    "            print_str += f\"<span style='background-color:rgb({255 * (1-expln_val)},{255 * expln_val},{255 * expln_val})'> {tokens[i]}</span>\"\n",
    "    return print_str\n",
    "\n",
    "# tokens = processor.convert_ids_to_tokens(inputs[0])\n",
    "tokens = shap_expln.explainer_output.data[0]\n",
    "printmd(show_attrs(tokens, shap_expln.attributions[0]))"
   ]
  },
  {
   "cell_type": "code",
   "execution_count": 42,
   "id": "1b8f1fae-c0ea-4b7c-9063-20f00b99613e",
   "metadata": {
    "tags": []
   },
   "outputs": [
    {
     "data": {
      "text/html": [
       "\n",
       "<br>\n",
       "<hr style=\"height: 1px; background-color: #fff; border: none; margin-top: 18px; margin-bottom: 18px; border-top: 1px dashed #ccc;\"\">\n",
       "<div align=\"center\" style=\"margin-top: -35px;\"><div style=\"display: inline-block; background: #fff; padding: 5px; color: #999; font-family: monospace\">[0]</div>\n",
       "</div>\n",
       "            <div align='center'>\n",
       "<script>\n",
       "    document._hover_usieyiccwpusnzjovqwp = '_tp_usieyiccwpusnzjovqwp_output_0';\n",
       "    document._zoom_usieyiccwpusnzjovqwp = undefined;\n",
       "    function _output_onclick_usieyiccwpusnzjovqwp(i) {\n",
       "        var next_id = undefined;\n",
       "\n",
       "        if (document._zoom_usieyiccwpusnzjovqwp !== undefined) {\n",
       "            document.getElementById(document._zoom_usieyiccwpusnzjovqwp+ '_zoom').style.display = 'none';\n",
       "\n",
       "            if (document._zoom_usieyiccwpusnzjovqwp === '_tp_usieyiccwpusnzjovqwp_output_' + i) {\n",
       "                document.getElementById(document._zoom_usieyiccwpusnzjovqwp).style.display = 'block';\n",
       "                document.getElementById(document._zoom_usieyiccwpusnzjovqwp+'_name').style.borderBottom = '3px solid #000000';\n",
       "            } else {\n",
       "                document.getElementById(document._zoom_usieyiccwpusnzjovqwp).style.display = 'none';\n",
       "                document.getElementById(document._zoom_usieyiccwpusnzjovqwp+'_name').style.borderBottom = 'none';\n",
       "            }\n",
       "        }\n",
       "        if (document._zoom_usieyiccwpusnzjovqwp !== '_tp_usieyiccwpusnzjovqwp_output_' + i) {\n",
       "            next_id = '_tp_usieyiccwpusnzjovqwp_output_' + i;\n",
       "            document.getElementById(next_id).style.display = 'none';\n",
       "            document.getElementById(next_id + '_zoom').style.display = 'block';\n",
       "            document.getElementById(next_id+'_name').style.borderBottom = '3px solid #000000';\n",
       "        }\n",
       "        document._zoom_usieyiccwpusnzjovqwp = next_id;\n",
       "    }\n",
       "    function _output_onmouseover_usieyiccwpusnzjovqwp(i, el) {\n",
       "        if (document._zoom_usieyiccwpusnzjovqwp !== undefined) { return; }\n",
       "        if (document._hover_usieyiccwpusnzjovqwp !== undefined) {\n",
       "            document.getElementById(document._hover_usieyiccwpusnzjovqwp + '_name').style.borderBottom = 'none';\n",
       "            document.getElementById(document._hover_usieyiccwpusnzjovqwp).style.display = 'none';\n",
       "        }\n",
       "        document.getElementById('_tp_usieyiccwpusnzjovqwp_output_' + i).style.display = 'block';\n",
       "        el.style.borderBottom = '3px solid #000000';\n",
       "        document._hover_usieyiccwpusnzjovqwp = '_tp_usieyiccwpusnzjovqwp_output_' + i;\n",
       "    }\n",
       "</script>\n",
       "<div style=\"color: rgb(120,120,120); font-size: 12px;\">outputs</div>\n",
       "<div style=\"display: inline; border-bottom: 3px solid #000000; background: rgba(30.0, 136.0, 229.0, 1.0); border-radius: 3px; padding: 0px\" id=\"_tp_usieyiccwpusnzjovqwp_output_0_name\"\n",
       "    onclick=\"_output_onclick_usieyiccwpusnzjovqwp(0)\"\n",
       "    onmouseover=\"_output_onmouseover_usieyiccwpusnzjovqwp(0, this);\">Output 0</div>\n",
       "<div style=\"display: inline; border-bottom: none; background: rgba(255.0, 13.0, 87.0, 0.9527035056446822); border-radius: 3px; padding: 0px\" id=\"_tp_usieyiccwpusnzjovqwp_output_1_name\"\n",
       "    onclick=\"_output_onclick_usieyiccwpusnzjovqwp(1)\"\n",
       "    onmouseover=\"_output_onmouseover_usieyiccwpusnzjovqwp(1, this);\">Output 1</div><br><br><div id='_tp_usieyiccwpusnzjovqwp_output_0' style='display: block';><svg width=\"100%\" height=\"80px\"><line x1=\"0\" y1=\"33\" x2=\"100%\" y2=\"33\" style=\"stroke:rgb(150,150,150);stroke-width:1\" /><line x1=\"51.963645280959135%\" y1=\"33\" x2=\"51.963645280959135%\" y2=\"37\" style=\"stroke:rgb(150,150,150);stroke-width:1\" /><text x=\"51.963645280959135%\" y=\"27\" font-size=\"12px\" fill=\"rgb(120,120,120)\" dominant-baseline=\"bottom\" text-anchor=\"middle\">-0</text><line x1=\"35.29935826610112%\" y1=\"33\" x2=\"35.29935826610112%\" y2=\"37\" style=\"stroke:rgb(150,150,150);stroke-width:1\" /><text x=\"35.29935826610112%\" y=\"27\" font-size=\"12px\" fill=\"rgb(120,120,120)\" dominant-baseline=\"bottom\" text-anchor=\"middle\">-2</text><line x1=\"18.635071251243104%\" y1=\"33\" x2=\"18.635071251243104%\" y2=\"37\" style=\"stroke:rgb(150,150,150);stroke-width:1\" /><text x=\"18.635071251243104%\" y=\"27\" font-size=\"12px\" fill=\"rgb(120,120,120)\" dominant-baseline=\"bottom\" text-anchor=\"middle\">-4</text><line x1=\"68.62793229581715%\" y1=\"33\" x2=\"68.62793229581715%\" y2=\"37\" style=\"stroke:rgb(150,150,150);stroke-width:1\" /><text x=\"68.62793229581715%\" y=\"27\" font-size=\"12px\" fill=\"rgb(120,120,120)\" dominant-baseline=\"bottom\" text-anchor=\"middle\">2</text><line x1=\"85.29221931067516%\" y1=\"33\" x2=\"85.29221931067516%\" y2=\"37\" style=\"stroke:rgb(150,150,150);stroke-width:1\" /><text x=\"85.29221931067516%\" y=\"27\" font-size=\"12px\" fill=\"rgb(120,120,120)\" dominant-baseline=\"bottom\" text-anchor=\"middle\">4</text><line x1=\"39.620905408709035%\" y1=\"33\" x2=\"39.620905408709035%\" y2=\"37\" style=\"stroke:rgb(150,150,150);stroke-width:1\" /><text x=\"39.620905408709035%\" y=\"27\" font-size=\"13px\" style=\"stroke:#ffffff;stroke-width:8px;\" fill=\"rgb(255,255,255)\" dominant-baseline=\"bottom\" text-anchor=\"middle\">-1.48134</text><text x=\"39.620905408709035%\" y=\"27\" font-size=\"12px\" fill=\"rgb(120,120,120)\" dominant-baseline=\"bottom\" text-anchor=\"middle\">-1.48134</text><text x=\"39.620905408709035%\" y=\"10\" font-size=\"12px\" fill=\"rgb(120,120,120)\" dominant-baseline=\"bottom\" text-anchor=\"middle\">base value</text><line x1=\"16.975442071393605%\" y1=\"33\" x2=\"16.975442071393605%\" y2=\"37\" style=\"stroke:rgb(150,150,150);stroke-width:1\" /><text x=\"16.975442071393605%\" y=\"27\" font-size=\"13px\" style=\"stroke:#ffffff;stroke-width:8px;\" font-weight=\"bold\" fill=\"rgb(255,255,255)\" dominant-baseline=\"bottom\" text-anchor=\"middle\">-4.19918</text><text x=\"16.975442071393605%\" y=\"27\" font-size=\"13px\" font-weight=\"bold\" fill=\"rgb(0,0,0)\" dominant-baseline=\"bottom\" text-anchor=\"middle\">-4.19918</text><text x=\"16.975442071393605%\" y=\"10\" font-size=\"12px\" fill=\"rgb(120,120,120)\" dominant-baseline=\"bottom\" text-anchor=\"middle\">f<tspan baseline-shift=\"sub\" font-size=\"8px\">Output 0</tspan>(inputs)</text><rect x=\"4.716362290008553%\" width=\"12.259079781385052%\" y=\"40\" height=\"18\" style=\"fill:rgb(255.0, 0.0, 81.08083606031792); stroke-width:0; stroke:rgb(0,0,0)\" /><line x1=\"12.948330515801144%\" x2=\"16.975442071393605%\" y1=\"60\" y2=\"60\" id=\"_fb_sbfhcgchqjjfgyqpesej_ind_10\" style=\"stroke:rgb(255.0, 0.0, 81.08083606031792);stroke-width:2; opacity: 0\"/><text x=\"14.961886293597374%\" y=\"71\" font-size=\"12px\" id=\"_fs_sbfhcgchqjjfgyqpesej_ind_10\" fill=\"rgb(255.0, 0.0, 81.08083606031792)\" style=\"opacity: 0\" dominant-baseline=\"middle\" text-anchor=\"middle\">0.483</text><svg x=\"12.948330515801144%\" y=\"40\" height=\"20\" width=\"4.027111555592461%\">  <svg x=\"0\" y=\"0\" width=\"100%\" height=\"100%\">    <text x=\"50%\" y=\"9\" font-size=\"12px\" fill=\"rgb(255,255,255)\" dominant-baseline=\"middle\" text-anchor=\"middle\">buy</text>  </svg></svg><line x1=\"9.570813644447282%\" x2=\"12.948330515801144%\" y1=\"60\" y2=\"60\" id=\"_fb_sbfhcgchqjjfgyqpesej_ind_9\" style=\"stroke:rgb(255.0, 0.0, 81.08083606031792);stroke-width:2; opacity: 0\"/><text x=\"11.259572080124213%\" y=\"71\" font-size=\"12px\" id=\"_fs_sbfhcgchqjjfgyqpesej_ind_9\" fill=\"rgb(255.0, 0.0, 81.08083606031792)\" style=\"opacity: 0\" dominant-baseline=\"middle\" text-anchor=\"middle\">0.405</text><svg x=\"9.570813644447282%\" y=\"40\" height=\"20\" width=\"3.377516871353862%\">  <svg x=\"0\" y=\"0\" width=\"100%\" height=\"100%\">    <text x=\"50%\" y=\"9\" font-size=\"12px\" fill=\"rgb(255,255,255)\" dominant-baseline=\"middle\" text-anchor=\"middle\">by</text>  </svg></svg><line x1=\"6.730361010933345%\" x2=\"9.570813644447282%\" y1=\"60\" y2=\"60\" id=\"_fb_sbfhcgchqjjfgyqpesej_ind_1\" style=\"stroke:rgb(255.0, 0.0, 81.08083606031792);stroke-width:2; opacity: 0\"/><text x=\"8.150587327690314%\" y=\"71\" font-size=\"12px\" id=\"_fs_sbfhcgchqjjfgyqpesej_ind_1\" fill=\"rgb(255.0, 0.0, 81.08083606031792)\" style=\"opacity: 0\" dominant-baseline=\"middle\" text-anchor=\"middle\">0.341</text><svg x=\"6.730361010933345%\" y=\"40\" height=\"20\" width=\"2.8404526335139373%\">  <svg x=\"0\" y=\"0\" width=\"100%\" height=\"100%\">    <text x=\"50%\" y=\"9\" font-size=\"12px\" fill=\"rgb(255,255,255)\" dominant-baseline=\"middle\" text-anchor=\"middle\">it</text>  </svg></svg><line x1=\"5.231356698471937%\" x2=\"6.730361010933345%\" y1=\"60\" y2=\"60\" id=\"_fb_sbfhcgchqjjfgyqpesej_ind_14\" style=\"stroke:rgb(255.0, 0.0, 81.08083606031792);stroke-width:2; opacity: 0\"/><text x=\"5.980858854702641%\" y=\"71\" font-size=\"12px\" id=\"_fs_sbfhcgchqjjfgyqpesej_ind_14\" fill=\"rgb(255.0, 0.0, 81.08083606031792)\" style=\"opacity: 0\" dominant-baseline=\"middle\" text-anchor=\"middle\">0.18</text><svg x=\"5.231356698471937%\" y=\"40\" height=\"20\" width=\"1.499004312461408%\">  <svg x=\"0\" y=\"0\" width=\"100%\" height=\"100%\">    <text x=\"50%\" y=\"9\" font-size=\"12px\" fill=\"rgb(255,255,255)\" dominant-baseline=\"middle\" text-anchor=\"middle\">i</text>  </svg></svg><line x1=\"4.716385383510663%\" x2=\"5.231356698471937%\" y1=\"60\" y2=\"60\" id=\"_fb_sbfhcgchqjjfgyqpesej_ind_2\" style=\"stroke:rgb(255.0, 0.0, 81.08083606031792);stroke-width:2; opacity: 0\"/><text x=\"4.9738710409913%\" y=\"71\" font-size=\"12px\" id=\"_fs_sbfhcgchqjjfgyqpesej_ind_2\" fill=\"rgb(255.0, 0.0, 81.08083606031792)\" style=\"opacity: 0\" dominant-baseline=\"middle\" text-anchor=\"middle\">0.062</text><svg x=\"4.716385383510663%\" y=\"40\" height=\"20\" width=\"0.514971314961274%\">  <svg x=\"0\" y=\"0\" width=\"100%\" height=\"100%\">    <text x=\"50%\" y=\"9\" font-size=\"12px\" fill=\"rgb(255,255,255)\" dominant-baseline=\"middle\" text-anchor=\"middle\">s</text>  </svg></svg><line x1=\"4.716374457552676%\" x2=\"4.716385383510663%\" y1=\"60\" y2=\"60\" id=\"_fb_sbfhcgchqjjfgyqpesej_ind_16\" style=\"stroke:rgb(255.0, 0.0, 81.08083606031792);stroke-width:2; opacity: 0\"/><text x=\"4.716379920531669%\" y=\"71\" font-size=\"12px\" id=\"_fs_sbfhcgchqjjfgyqpesej_ind_16\" fill=\"rgb(255.0, 0.0, 81.08083606031792)\" style=\"opacity: 0\" dominant-baseline=\"middle\" text-anchor=\"middle\">0.0</text><svg x=\"4.716374457552676%\" y=\"40\" height=\"20\" width=\"1.0925957987240054e-05%\">  <svg x=\"0\" y=\"0\" width=\"100%\" height=\"100%\">    <text x=\"50%\" y=\"9\" font-size=\"12px\" fill=\"rgb(255,255,255)\" dominant-baseline=\"middle\" text-anchor=\"middle\"></text>  </svg></svg><line x1=\"4.716363531594688%\" x2=\"4.716374457552676%\" y1=\"60\" y2=\"60\" id=\"_fb_sbfhcgchqjjfgyqpesej_ind_15\" style=\"stroke:rgb(255.0, 0.0, 81.08083606031792);stroke-width:2; opacity: 0\"/><text x=\"4.716368994573681%\" y=\"71\" font-size=\"12px\" id=\"_fs_sbfhcgchqjjfgyqpesej_ind_15\" fill=\"rgb(255.0, 0.0, 81.08083606031792)\" style=\"opacity: 0\" dominant-baseline=\"middle\" text-anchor=\"middle\">0.0</text><svg x=\"4.716363531594688%\" y=\"40\" height=\"20\" width=\"1.0925957988128232e-05%\">  <svg x=\"0\" y=\"0\" width=\"100%\" height=\"100%\">    <text x=\"50%\" y=\"9\" font-size=\"12px\" fill=\"rgb(255,255,255)\" dominant-baseline=\"middle\" text-anchor=\"middle\">[SEP]</text>  </svg></svg><line x1=\"4.716362290008553%\" x2=\"4.716363531594688%\" y1=\"60\" y2=\"60\" id=\"_fb_sbfhcgchqjjfgyqpesej_ind_0\" style=\"stroke:rgb(255.0, 0.0, 81.08083606031792);stroke-width:2; opacity: 0\"/><text x=\"4.716362910801621%\" y=\"71\" font-size=\"12px\" id=\"_fs_sbfhcgchqjjfgyqpesej_ind_0\" fill=\"rgb(255.0, 0.0, 81.08083606031792)\" style=\"opacity: 0\" dominant-baseline=\"middle\" text-anchor=\"middle\">0.0</text><svg x=\"4.716362290008553%\" y=\"40\" height=\"20\" width=\"1.241586134348438e-06%\">  <svg x=\"0\" y=\"0\" width=\"100%\" height=\"100%\">    <text x=\"50%\" y=\"9\" font-size=\"12px\" fill=\"rgb(255,255,255)\" dominant-baseline=\"middle\" text-anchor=\"middle\"></text>  </svg></svg><g transform=\"translate(0,0)\">  <svg x=\"12.948330515801144%\" y=\"40\" height=\"18\" overflow=\"visible\" width=\"30\">    <path d=\"M 0 -9 l 6 18 L 0 25\" fill=\"none\" style=\"stroke:rgb(255.0, 0.0, 81.08083606031792);stroke-width:2\" />  </svg></g><g transform=\"translate(2,0)\">  <svg x=\"12.948330515801144%\" y=\"40\" height=\"18\" overflow=\"visible\" width=\"30\">    <path d=\"M 0 -9 l 6 18 L 0 25\" fill=\"none\" style=\"stroke:rgb(255.0, 0.0, 81.08083606031792);stroke-width:2\" />  </svg></g><g transform=\"translate(4,0)\">  <svg x=\"12.948330515801144%\" y=\"40\" height=\"18\" overflow=\"visible\" width=\"30\">    <path d=\"M 0 -9 l 6 18 L 0 25\" fill=\"none\" style=\"stroke:rgb(255.0, 0.0, 81.08083606031792);stroke-width:2\" />  </svg></g><g transform=\"translate(6,0)\">  <svg x=\"12.948330515801144%\" y=\"40\" height=\"18\" overflow=\"visible\" width=\"30\">    <path d=\"M 0 -9 l 6 18 L 0 25\" fill=\"none\" style=\"stroke:rgb(255.0, 0.0, 81.08083606031792);stroke-width:2\" />  </svg></g><g transform=\"translate(-8,0)\">  <svg x=\"12.948330515801144%\" y=\"40\" height=\"18\" overflow=\"visible\" width=\"30\">    <path d=\"M 0 -9 l 6 18 L 0 25\" fill=\"none\" style=\"stroke:rgb(255.0, 0.0, 81.08083606031792);stroke-width:2\" />  </svg></g><g transform=\"translate(-6,0)\">  <svg x=\"12.948330515801144%\" y=\"40\" height=\"18\" overflow=\"visible\" width=\"30\">    <path d=\"M 0 -9 l 6 18 L 0 25\" fill=\"none\" style=\"stroke:rgb(255.0, 0.0, 81.08083606031792);stroke-width:2\" />  </svg></g><g transform=\"translate(-4,0)\">  <svg x=\"12.948330515801144%\" y=\"40\" height=\"18\" overflow=\"visible\" width=\"30\">    <path d=\"M 0 -9 l 6 18 L 0 25\" fill=\"none\" style=\"stroke:rgb(255.0, 0.0, 81.08083606031792);stroke-width:2\" />  </svg></g><g transform=\"translate(-2,0)\">  <svg x=\"12.948330515801144%\" y=\"40\" height=\"18\" overflow=\"visible\" width=\"30\">    <path d=\"M 0 -9 l 6 18 L 0 25\" fill=\"none\" style=\"stroke:rgb(255.0, 0.0, 81.08083606031792);stroke-width:2\" />  </svg></g><g transform=\"translate(0,0)\">  <svg x=\"9.570813644447282%\" y=\"40\" height=\"18\" overflow=\"visible\" width=\"30\">    <path d=\"M 0 -9 l 6 18 L 0 25\" fill=\"none\" style=\"stroke:rgb(255.0, 0.0, 81.08083606031792);stroke-width:2\" />  </svg></g><g transform=\"translate(2,0)\">  <svg x=\"9.570813644447282%\" y=\"40\" height=\"18\" overflow=\"visible\" width=\"30\">    <path d=\"M 0 -9 l 6 18 L 0 25\" fill=\"none\" style=\"stroke:rgb(255.0, 0.0, 81.08083606031792);stroke-width:2\" />  </svg></g><g transform=\"translate(4,0)\">  <svg x=\"9.570813644447282%\" y=\"40\" height=\"18\" overflow=\"visible\" width=\"30\">    <path d=\"M 0 -9 l 6 18 L 0 25\" fill=\"none\" style=\"stroke:rgb(255.0, 0.0, 81.08083606031792);stroke-width:2\" />  </svg></g><g transform=\"translate(6,0)\">  <svg x=\"9.570813644447282%\" y=\"40\" height=\"18\" overflow=\"visible\" width=\"30\">    <path d=\"M 0 -9 l 6 18 L 0 25\" fill=\"none\" style=\"stroke:rgb(255.0, 0.0, 81.08083606031792);stroke-width:2\" />  </svg></g><g transform=\"translate(-8,0)\">  <svg x=\"9.570813644447282%\" y=\"40\" height=\"18\" overflow=\"visible\" width=\"30\">    <path d=\"M 0 -9 l 6 18 L 0 25\" fill=\"none\" style=\"stroke:rgb(255.0, 0.0, 81.08083606031792);stroke-width:2\" />  </svg></g><g transform=\"translate(-6,0)\">  <svg x=\"9.570813644447282%\" y=\"40\" height=\"18\" overflow=\"visible\" width=\"30\">    <path d=\"M 0 -9 l 6 18 L 0 25\" fill=\"none\" style=\"stroke:rgb(255.0, 0.0, 81.08083606031792);stroke-width:2\" />  </svg></g><g transform=\"translate(-4,0)\">  <svg x=\"9.570813644447282%\" y=\"40\" height=\"18\" overflow=\"visible\" width=\"30\">    <path d=\"M 0 -9 l 6 18 L 0 25\" fill=\"none\" style=\"stroke:rgb(255.0, 0.0, 81.08083606031792);stroke-width:2\" />  </svg></g><g transform=\"translate(-2,0)\">  <svg x=\"9.570813644447282%\" y=\"40\" height=\"18\" overflow=\"visible\" width=\"30\">    <path d=\"M 0 -9 l 6 18 L 0 25\" fill=\"none\" style=\"stroke:rgb(255.0, 0.0, 81.08083606031792);stroke-width:2\" />  </svg></g><g transform=\"translate(0,0)\">  <svg x=\"6.730361010933345%\" y=\"40\" height=\"18\" overflow=\"visible\" width=\"30\">    <path d=\"M 0 -9 l 6 18 L 0 25\" fill=\"none\" style=\"stroke:rgb(255.0, 0.0, 81.08083606031792);stroke-width:2\" />  </svg></g><g transform=\"translate(2,0)\">  <svg x=\"6.730361010933345%\" y=\"40\" height=\"18\" overflow=\"visible\" width=\"30\">    <path d=\"M 0 -9 l 6 18 L 0 25\" fill=\"none\" style=\"stroke:rgb(255.0, 0.0, 81.08083606031792);stroke-width:2\" />  </svg></g><g transform=\"translate(4,0)\">  <svg x=\"6.730361010933345%\" y=\"40\" height=\"18\" overflow=\"visible\" width=\"30\">    <path d=\"M 0 -9 l 6 18 L 0 25\" fill=\"none\" style=\"stroke:rgb(255.0, 0.0, 81.08083606031792);stroke-width:2\" />  </svg></g><g transform=\"translate(6,0)\">  <svg x=\"6.730361010933345%\" y=\"40\" height=\"18\" overflow=\"visible\" width=\"30\">    <path d=\"M 0 -9 l 6 18 L 0 25\" fill=\"none\" style=\"stroke:rgb(255.0, 0.0, 81.08083606031792);stroke-width:2\" />  </svg></g><g transform=\"translate(-8,0)\">  <svg x=\"6.730361010933345%\" y=\"40\" height=\"18\" overflow=\"visible\" width=\"30\">    <path d=\"M 0 -9 l 6 18 L 0 25\" fill=\"none\" style=\"stroke:rgb(255.0, 0.0, 81.08083606031792);stroke-width:2\" />  </svg></g><g transform=\"translate(-6,0)\">  <svg x=\"6.730361010933345%\" y=\"40\" height=\"18\" overflow=\"visible\" width=\"30\">    <path d=\"M 0 -9 l 6 18 L 0 25\" fill=\"none\" style=\"stroke:rgb(255.0, 0.0, 81.08083606031792);stroke-width:2\" />  </svg></g><g transform=\"translate(-4,0)\">  <svg x=\"6.730361010933345%\" y=\"40\" height=\"18\" overflow=\"visible\" width=\"30\">    <path d=\"M 0 -9 l 6 18 L 0 25\" fill=\"none\" style=\"stroke:rgb(255.0, 0.0, 81.08083606031792);stroke-width:2\" />  </svg></g><g transform=\"translate(-2,0)\">  <svg x=\"6.730361010933345%\" y=\"40\" height=\"18\" overflow=\"visible\" width=\"30\">    <path d=\"M 0 -9 l 6 18 L 0 25\" fill=\"none\" style=\"stroke:rgb(255.0, 0.0, 81.08083606031792);stroke-width:2\" />  </svg></g><g transform=\"translate(0,0)\">  <svg x=\"5.231356698471937%\" y=\"40\" height=\"18\" overflow=\"visible\" width=\"30\">    <path d=\"M 0 -9 l 6 18 L 0 25\" fill=\"none\" style=\"stroke:rgb(255.0, 0.0, 81.08083606031792);stroke-width:2\" />  </svg></g><g transform=\"translate(2,0)\">  <svg x=\"5.231356698471937%\" y=\"40\" height=\"18\" overflow=\"visible\" width=\"30\">    <path d=\"M 0 -9 l 6 18 L 0 25\" fill=\"none\" style=\"stroke:rgb(255.0, 0.0, 81.08083606031792);stroke-width:2\" />  </svg></g><g transform=\"translate(4,0)\">  <svg x=\"5.231356698471937%\" y=\"40\" height=\"18\" overflow=\"visible\" width=\"30\">    <path d=\"M 0 -9 l 6 18 L 0 25\" fill=\"none\" style=\"stroke:rgb(255.0, 0.0, 81.08083606031792);stroke-width:2\" />  </svg></g><g transform=\"translate(6,0)\">  <svg x=\"5.231356698471937%\" y=\"40\" height=\"18\" overflow=\"visible\" width=\"30\">    <path d=\"M 0 -9 l 6 18 L 0 25\" fill=\"none\" style=\"stroke:rgb(255.0, 0.0, 81.08083606031792);stroke-width:2\" />  </svg></g><g transform=\"translate(-8,0)\">  <svg x=\"5.231356698471937%\" y=\"40\" height=\"18\" overflow=\"visible\" width=\"30\">    <path d=\"M 0 -9 l 6 18 L 0 25\" fill=\"none\" style=\"stroke:rgb(255.0, 0.0, 81.08083606031792);stroke-width:2\" />  </svg></g><g transform=\"translate(-6,0)\">  <svg x=\"5.231356698471937%\" y=\"40\" height=\"18\" overflow=\"visible\" width=\"30\">    <path d=\"M 0 -9 l 6 18 L 0 25\" fill=\"none\" style=\"stroke:rgb(255.0, 0.0, 81.08083606031792);stroke-width:2\" />  </svg></g><g transform=\"translate(-4,0)\">  <svg x=\"5.231356698471937%\" y=\"40\" height=\"18\" overflow=\"visible\" width=\"30\">    <path d=\"M 0 -9 l 6 18 L 0 25\" fill=\"none\" style=\"stroke:rgb(255.0, 0.0, 81.08083606031792);stroke-width:2\" />  </svg></g><g transform=\"translate(-2,0)\">  <svg x=\"5.231356698471937%\" y=\"40\" height=\"18\" overflow=\"visible\" width=\"30\">    <path d=\"M 0 -9 l 6 18 L 0 25\" fill=\"none\" style=\"stroke:rgb(255.0, 0.0, 81.08083606031792);stroke-width:2\" />  </svg></g><g transform=\"translate(0,0)\">  <svg x=\"4.716385383510663%\" y=\"40\" height=\"18\" overflow=\"visible\" width=\"30\">    <path d=\"M 0 -9 l 6 18 L 0 25\" fill=\"none\" style=\"stroke:rgb(255.0, 0.0, 81.08083606031792);stroke-width:2\" />  </svg></g><g transform=\"translate(2,0)\">  <svg x=\"4.716385383510663%\" y=\"40\" height=\"18\" overflow=\"visible\" width=\"30\">    <path d=\"M 0 -9 l 6 18 L 0 25\" fill=\"none\" style=\"stroke:rgb(255.0, 0.0, 81.08083606031792);stroke-width:2\" />  </svg></g><g transform=\"translate(4,0)\">  <svg x=\"4.716385383510663%\" y=\"40\" height=\"18\" overflow=\"visible\" width=\"30\">    <path d=\"M 0 -9 l 6 18 L 0 25\" fill=\"none\" style=\"stroke:rgb(255.0, 0.0, 81.08083606031792);stroke-width:2\" />  </svg></g><g transform=\"translate(6,0)\">  <svg x=\"4.716385383510663%\" y=\"40\" height=\"18\" overflow=\"visible\" width=\"30\">    <path d=\"M 0 -9 l 6 18 L 0 25\" fill=\"none\" style=\"stroke:rgb(255.0, 0.0, 81.08083606031792);stroke-width:2\" />  </svg></g><g transform=\"translate(-8,0)\">  <svg x=\"4.716385383510663%\" y=\"40\" height=\"18\" overflow=\"visible\" width=\"30\">    <path d=\"M 0 -9 l 6 18 L 0 25\" fill=\"none\" style=\"stroke:rgb(255.0, 0.0, 81.08083606031792);stroke-width:2\" />  </svg></g><g transform=\"translate(-6,0)\">  <svg x=\"4.716385383510663%\" y=\"40\" height=\"18\" overflow=\"visible\" width=\"30\">    <path d=\"M 0 -9 l 6 18 L 0 25\" fill=\"none\" style=\"stroke:rgb(255.0, 0.0, 81.08083606031792);stroke-width:2\" />  </svg></g><g transform=\"translate(-4,0)\">  <svg x=\"4.716385383510663%\" y=\"40\" height=\"18\" overflow=\"visible\" width=\"30\">    <path d=\"M 0 -9 l 6 18 L 0 25\" fill=\"none\" style=\"stroke:rgb(255.0, 0.0, 81.08083606031792);stroke-width:2\" />  </svg></g><g transform=\"translate(-2,0)\">  <svg x=\"4.716385383510663%\" y=\"40\" height=\"18\" overflow=\"visible\" width=\"30\">    <path d=\"M 0 -9 l 6 18 L 0 25\" fill=\"none\" style=\"stroke:rgb(255.0, 0.0, 81.08083606031792);stroke-width:2\" />  </svg></g><g transform=\"translate(0,0)\">  <svg x=\"4.716374457552676%\" y=\"40\" height=\"18\" overflow=\"visible\" width=\"30\">    <path d=\"M 0 -9 l 6 18 L 0 25\" fill=\"none\" style=\"stroke:rgb(255.0, 0.0, 81.08083606031792);stroke-width:2\" />  </svg></g><g transform=\"translate(2,0)\">  <svg x=\"4.716374457552676%\" y=\"40\" height=\"18\" overflow=\"visible\" width=\"30\">    <path d=\"M 0 -9 l 6 18 L 0 25\" fill=\"none\" style=\"stroke:rgb(255.0, 0.0, 81.08083606031792);stroke-width:2\" />  </svg></g><g transform=\"translate(4,0)\">  <svg x=\"4.716374457552676%\" y=\"40\" height=\"18\" overflow=\"visible\" width=\"30\">    <path d=\"M 0 -9 l 6 18 L 0 25\" fill=\"none\" style=\"stroke:rgb(255.0, 0.0, 81.08083606031792);stroke-width:2\" />  </svg></g><g transform=\"translate(6,0)\">  <svg x=\"4.716374457552676%\" y=\"40\" height=\"18\" overflow=\"visible\" width=\"30\">    <path d=\"M 0 -9 l 6 18 L 0 25\" fill=\"none\" style=\"stroke:rgb(255.0, 0.0, 81.08083606031792);stroke-width:2\" />  </svg></g><g transform=\"translate(-8,0)\">  <svg x=\"4.716374457552676%\" y=\"40\" height=\"18\" overflow=\"visible\" width=\"30\">    <path d=\"M 0 -9 l 6 18 L 0 25\" fill=\"none\" style=\"stroke:rgb(255.0, 0.0, 81.08083606031792);stroke-width:2\" />  </svg></g><g transform=\"translate(-6,0)\">  <svg x=\"4.716374457552676%\" y=\"40\" height=\"18\" overflow=\"visible\" width=\"30\">    <path d=\"M 0 -9 l 6 18 L 0 25\" fill=\"none\" style=\"stroke:rgb(255.0, 0.0, 81.08083606031792);stroke-width:2\" />  </svg></g><g transform=\"translate(-4,0)\">  <svg x=\"4.716374457552676%\" y=\"40\" height=\"18\" overflow=\"visible\" width=\"30\">    <path d=\"M 0 -9 l 6 18 L 0 25\" fill=\"none\" style=\"stroke:rgb(255.0, 0.0, 81.08083606031792);stroke-width:2\" />  </svg></g><g transform=\"translate(-2,0)\">  <svg x=\"4.716374457552676%\" y=\"40\" height=\"18\" overflow=\"visible\" width=\"30\">    <path d=\"M 0 -9 l 6 18 L 0 25\" fill=\"none\" style=\"stroke:rgb(255.0, 0.0, 81.08083606031792);stroke-width:2\" />  </svg></g><g transform=\"translate(0,0)\">  <svg x=\"4.716363531594688%\" y=\"40\" height=\"18\" overflow=\"visible\" width=\"30\">    <path d=\"M 0 -9 l 6 18 L 0 25\" fill=\"none\" style=\"stroke:rgb(255.0, 0.0, 81.08083606031792);stroke-width:2\" />  </svg></g><g transform=\"translate(2,0)\">  <svg x=\"4.716363531594688%\" y=\"40\" height=\"18\" overflow=\"visible\" width=\"30\">    <path d=\"M 0 -9 l 6 18 L 0 25\" fill=\"none\" style=\"stroke:rgb(255.0, 0.0, 81.08083606031792);stroke-width:2\" />  </svg></g><g transform=\"translate(4,0)\">  <svg x=\"4.716363531594688%\" y=\"40\" height=\"18\" overflow=\"visible\" width=\"30\">    <path d=\"M 0 -9 l 6 18 L 0 25\" fill=\"none\" style=\"stroke:rgb(255.0, 0.0, 81.08083606031792);stroke-width:2\" />  </svg></g><g transform=\"translate(6,0)\">  <svg x=\"4.716363531594688%\" y=\"40\" height=\"18\" overflow=\"visible\" width=\"30\">    <path d=\"M 0 -9 l 6 18 L 0 25\" fill=\"none\" style=\"stroke:rgb(255.0, 0.0, 81.08083606031792);stroke-width:2\" />  </svg></g><g transform=\"translate(-8,0)\">  <svg x=\"4.716363531594688%\" y=\"40\" height=\"18\" overflow=\"visible\" width=\"30\">    <path d=\"M 0 -9 l 6 18 L 0 25\" fill=\"none\" style=\"stroke:rgb(255.0, 0.0, 81.08083606031792);stroke-width:2\" />  </svg></g><g transform=\"translate(-6,0)\">  <svg x=\"4.716363531594688%\" y=\"40\" height=\"18\" overflow=\"visible\" width=\"30\">    <path d=\"M 0 -9 l 6 18 L 0 25\" fill=\"none\" style=\"stroke:rgb(255.0, 0.0, 81.08083606031792);stroke-width:2\" />  </svg></g><g transform=\"translate(-4,0)\">  <svg x=\"4.716363531594688%\" y=\"40\" height=\"18\" overflow=\"visible\" width=\"30\">    <path d=\"M 0 -9 l 6 18 L 0 25\" fill=\"none\" style=\"stroke:rgb(255.0, 0.0, 81.08083606031792);stroke-width:2\" />  </svg></g><g transform=\"translate(-2,0)\">  <svg x=\"4.716363531594688%\" y=\"40\" height=\"18\" overflow=\"visible\" width=\"30\">    <path d=\"M 0 -9 l 6 18 L 0 25\" fill=\"none\" style=\"stroke:rgb(255.0, 0.0, 81.08083606031792);stroke-width:2\" />  </svg></g><rect transform=\"translate(-8,0)\" x=\"16.975442071393605%\" y=\"40\" width=\"8\" height=\"18\" style=\"fill:rgb(255.0, 0.0, 81.08083606031792)\"/><g transform=\"translate(-11.5,0)\">  <svg x=\"4.716362290008553%\" y=\"40\" height=\"18\" overflow=\"visible\" width=\"30\">    <path d=\"M 10 -9 l 6 18 L 10 25 L 0 25 L 0 -9\" fill=\"#ffffff\" style=\"stroke:rgb(255,255,255);stroke-width:2\" />  </svg></g><g transform=\"translate(-1.5,0)\">  <svg x=\"16.975442071393605%\" y=\"40\" height=\"18\" overflow=\"visible\" width=\"30\">    <path d=\"M 0 -9 l 6 18 L 0 25\" fill=\"none\" style=\"stroke:rgb(255, 195, 213);stroke-width:2\" />  </svg></g><rect x=\"12.948330515801144%\" y=\"40\" height=\"20\" width=\"4.027111555592461%\"      onmouseover=\"document.getElementById('_tp_sbfhcgchqjjfgyqpesej_ind_10').style.textDecoration = 'underline';document.getElementById('_fs_sbfhcgchqjjfgyqpesej_ind_10').style.opacity = 1;document.getElementById('_fb_sbfhcgchqjjfgyqpesej_ind_10').style.opacity = 1;\"      onmouseout=\"document.getElementById('_tp_sbfhcgchqjjfgyqpesej_ind_10').style.textDecoration = 'none';document.getElementById('_fs_sbfhcgchqjjfgyqpesej_ind_10').style.opacity = 0;document.getElementById('_fb_sbfhcgchqjjfgyqpesej_ind_10').style.opacity = 0;\" style=\"fill:rgb(0,0,0,0)\" /><g transform=\"translate(-1.5,0)\">  <svg x=\"12.948330515801144%\" y=\"40\" height=\"18\" overflow=\"visible\" width=\"30\">    <path d=\"M 0 -9 l 6 18 L 0 25\" fill=\"none\" style=\"stroke:rgb(255, 195, 213);stroke-width:2\" />  </svg></g><rect x=\"9.570813644447282%\" y=\"40\" height=\"20\" width=\"3.377516871353862%\"      onmouseover=\"document.getElementById('_tp_sbfhcgchqjjfgyqpesej_ind_9').style.textDecoration = 'underline';document.getElementById('_fs_sbfhcgchqjjfgyqpesej_ind_9').style.opacity = 1;document.getElementById('_fb_sbfhcgchqjjfgyqpesej_ind_9').style.opacity = 1;\"      onmouseout=\"document.getElementById('_tp_sbfhcgchqjjfgyqpesej_ind_9').style.textDecoration = 'none';document.getElementById('_fs_sbfhcgchqjjfgyqpesej_ind_9').style.opacity = 0;document.getElementById('_fb_sbfhcgchqjjfgyqpesej_ind_9').style.opacity = 0;\" style=\"fill:rgb(0,0,0,0)\" /><g transform=\"translate(-1.5,0)\">  <svg x=\"9.570813644447282%\" y=\"40\" height=\"18\" overflow=\"visible\" width=\"30\">    <path d=\"M 0 -9 l 6 18 L 0 25\" fill=\"none\" style=\"stroke:rgb(255, 195, 213);stroke-width:2\" />  </svg></g><rect x=\"6.730361010933345%\" y=\"40\" height=\"20\" width=\"2.8404526335139373%\"      onmouseover=\"document.getElementById('_tp_sbfhcgchqjjfgyqpesej_ind_1').style.textDecoration = 'underline';document.getElementById('_fs_sbfhcgchqjjfgyqpesej_ind_1').style.opacity = 1;document.getElementById('_fb_sbfhcgchqjjfgyqpesej_ind_1').style.opacity = 1;\"      onmouseout=\"document.getElementById('_tp_sbfhcgchqjjfgyqpesej_ind_1').style.textDecoration = 'none';document.getElementById('_fs_sbfhcgchqjjfgyqpesej_ind_1').style.opacity = 0;document.getElementById('_fb_sbfhcgchqjjfgyqpesej_ind_1').style.opacity = 0;\" style=\"fill:rgb(0,0,0,0)\" /><g transform=\"translate(-1.5,0)\">  <svg x=\"6.730361010933345%\" y=\"40\" height=\"18\" overflow=\"visible\" width=\"30\">    <path d=\"M 0 -9 l 6 18 L 0 25\" fill=\"none\" style=\"stroke:rgb(255, 195, 213);stroke-width:2\" />  </svg></g><rect x=\"5.231356698471937%\" y=\"40\" height=\"20\" width=\"1.499004312461408%\"      onmouseover=\"document.getElementById('_tp_sbfhcgchqjjfgyqpesej_ind_14').style.textDecoration = 'underline';document.getElementById('_fs_sbfhcgchqjjfgyqpesej_ind_14').style.opacity = 1;document.getElementById('_fb_sbfhcgchqjjfgyqpesej_ind_14').style.opacity = 1;\"      onmouseout=\"document.getElementById('_tp_sbfhcgchqjjfgyqpesej_ind_14').style.textDecoration = 'none';document.getElementById('_fs_sbfhcgchqjjfgyqpesej_ind_14').style.opacity = 0;document.getElementById('_fb_sbfhcgchqjjfgyqpesej_ind_14').style.opacity = 0;\" style=\"fill:rgb(0,0,0,0)\" /><g transform=\"translate(-1.5,0)\">  <svg x=\"5.231356698471937%\" y=\"40\" height=\"18\" overflow=\"visible\" width=\"30\">    <path d=\"M 0 -9 l 6 18 L 0 25\" fill=\"none\" style=\"stroke:rgb(255, 195, 213);stroke-width:2\" />  </svg></g><rect x=\"4.716385383510663%\" y=\"40\" height=\"20\" width=\"0.514971314961274%\"      onmouseover=\"document.getElementById('_tp_sbfhcgchqjjfgyqpesej_ind_2').style.textDecoration = 'underline';document.getElementById('_fs_sbfhcgchqjjfgyqpesej_ind_2').style.opacity = 1;document.getElementById('_fb_sbfhcgchqjjfgyqpesej_ind_2').style.opacity = 1;\"      onmouseout=\"document.getElementById('_tp_sbfhcgchqjjfgyqpesej_ind_2').style.textDecoration = 'none';document.getElementById('_fs_sbfhcgchqjjfgyqpesej_ind_2').style.opacity = 0;document.getElementById('_fb_sbfhcgchqjjfgyqpesej_ind_2').style.opacity = 0;\" style=\"fill:rgb(0,0,0,0)\" /><g transform=\"translate(-1.5,0)\">  <svg x=\"4.716385383510663%\" y=\"40\" height=\"18\" overflow=\"visible\" width=\"30\">    <path d=\"M 0 -9 l 6 18 L 0 25\" fill=\"none\" style=\"stroke:rgb(255, 195, 213);stroke-width:2\" />  </svg></g><rect x=\"4.716374457552676%\" y=\"40\" height=\"20\" width=\"1.0925957987240054e-05%\"      onmouseover=\"document.getElementById('_tp_sbfhcgchqjjfgyqpesej_ind_16').style.textDecoration = 'underline';document.getElementById('_fs_sbfhcgchqjjfgyqpesej_ind_16').style.opacity = 1;document.getElementById('_fb_sbfhcgchqjjfgyqpesej_ind_16').style.opacity = 1;\"      onmouseout=\"document.getElementById('_tp_sbfhcgchqjjfgyqpesej_ind_16').style.textDecoration = 'none';document.getElementById('_fs_sbfhcgchqjjfgyqpesej_ind_16').style.opacity = 0;document.getElementById('_fb_sbfhcgchqjjfgyqpesej_ind_16').style.opacity = 0;\" style=\"fill:rgb(0,0,0,0)\" /><g transform=\"translate(-1.5,0)\">  <svg x=\"4.716374457552676%\" y=\"40\" height=\"18\" overflow=\"visible\" width=\"30\">    <path d=\"M 0 -9 l 6 18 L 0 25\" fill=\"none\" style=\"stroke:rgb(255, 195, 213);stroke-width:2\" />  </svg></g><rect x=\"4.716363531594688%\" y=\"40\" height=\"20\" width=\"1.0925957988128232e-05%\"      onmouseover=\"document.getElementById('_tp_sbfhcgchqjjfgyqpesej_ind_15').style.textDecoration = 'underline';document.getElementById('_fs_sbfhcgchqjjfgyqpesej_ind_15').style.opacity = 1;document.getElementById('_fb_sbfhcgchqjjfgyqpesej_ind_15').style.opacity = 1;\"      onmouseout=\"document.getElementById('_tp_sbfhcgchqjjfgyqpesej_ind_15').style.textDecoration = 'none';document.getElementById('_fs_sbfhcgchqjjfgyqpesej_ind_15').style.opacity = 0;document.getElementById('_fb_sbfhcgchqjjfgyqpesej_ind_15').style.opacity = 0;\" style=\"fill:rgb(0,0,0,0)\" /><rect x=\"4.716362290008553%\" y=\"40\" height=\"20\" width=\"1.241586134348438e-06%\"      onmouseover=\"document.getElementById('_tp_sbfhcgchqjjfgyqpesej_ind_0').style.textDecoration = 'underline';document.getElementById('_fs_sbfhcgchqjjfgyqpesej_ind_0').style.opacity = 1;document.getElementById('_fb_sbfhcgchqjjfgyqpesej_ind_0').style.opacity = 1;\"      onmouseout=\"document.getElementById('_tp_sbfhcgchqjjfgyqpesej_ind_0').style.textDecoration = 'none';document.getElementById('_fs_sbfhcgchqjjfgyqpesej_ind_0').style.opacity = 0;document.getElementById('_fb_sbfhcgchqjjfgyqpesej_ind_0').style.opacity = 0;\" style=\"fill:rgb(0,0,0,0)\" /><rect x=\"16.975442071393605%\" width=\"34.90454311870048%\" y=\"40\" height=\"18\" style=\"fill:rgb(0.0, 138.56128015770727, 250.76166088685727); stroke-width:0; stroke:rgb(0,0,0)\" /><line x1=\"16.975442071393605%\" x2=\"25.174927004569003%\" y1=\"60\" y2=\"60\" id=\"_fb_sbfhcgchqjjfgyqpesej_ind_4\" style=\"stroke:rgb(0.0, 138.56128015770727, 250.76166088685727);stroke-width:2; opacity: 0\"/><text x=\"21.075184537981304%\" y=\"71\" font-size=\"12px\" fill=\"rgb(0.0, 138.56128015770727, 250.76166088685727)\" id=\"_fs_sbfhcgchqjjfgyqpesej_ind_4\" style=\"opacity: 0\" dominant-baseline=\"middle\" text-anchor=\"middle\">-0.984</text><svg x=\"16.975442071393605%\" y=\"40\" height=\"20\" width=\"8.199484933175398%\">  <svg x=\"0\" y=\"0\" width=\"100%\" height=\"100%\">    <text x=\"50%\" y=\"9\" font-size=\"12px\" fill=\"rgb(255,255,255)\" dominant-baseline=\"middle\" text-anchor=\"middle\">lovely</text>  </svg></svg><line x1=\"25.174927004569003%\" x2=\"32.88400974952949%\" y1=\"60\" y2=\"60\" id=\"_fb_sbfhcgchqjjfgyqpesej_ind_7\" style=\"stroke:rgb(0.0, 138.56128015770727, 250.76166088685727);stroke-width:2; opacity: 0\"/><text x=\"29.02946837704925%\" y=\"71\" font-size=\"12px\" fill=\"rgb(0.0, 138.56128015770727, 250.76166088685727)\" id=\"_fs_sbfhcgchqjjfgyqpesej_ind_7\" style=\"opacity: 0\" dominant-baseline=\"middle\" text-anchor=\"middle\">-0.925</text><svg x=\"25.174927004569003%\" y=\"40\" height=\"20\" width=\"7.709082744960487%\">  <svg x=\"0\" y=\"0\" width=\"100%\" height=\"100%\">    <text x=\"50%\" y=\"9\" font-size=\"12px\" fill=\"rgb(255,255,255)\" dominant-baseline=\"middle\" text-anchor=\"middle\">lovely</text>  </svg></svg><line x1=\"32.88400974952949%\" x2=\"37.61604085025611%\" y1=\"60\" y2=\"60\" id=\"_fb_sbfhcgchqjjfgyqpesej_ind_5\" style=\"stroke:rgb(0.0, 138.56128015770727, 250.76166088685727);stroke-width:2; opacity: 0\"/><text x=\"35.2500252998928%\" y=\"71\" font-size=\"12px\" fill=\"rgb(0.0, 138.56128015770727, 250.76166088685727)\" id=\"_fs_sbfhcgchqjjfgyqpesej_ind_5\" style=\"opacity: 0\" dominant-baseline=\"middle\" text-anchor=\"middle\">-0.568</text><svg x=\"32.88400974952949%\" y=\"40\" height=\"20\" width=\"4.732031100726623%\">  <svg x=\"0\" y=\"0\" width=\"100%\" height=\"100%\">    <text x=\"50%\" y=\"9\" font-size=\"12px\" fill=\"rgb(255,255,255)\" dominant-baseline=\"middle\" text-anchor=\"middle\">film</text>  </svg></svg><line x1=\"37.61604085025611%\" x2=\"41.634223601238425%\" y1=\"60\" y2=\"60\" id=\"_fb_sbfhcgchqjjfgyqpesej_ind_8\" style=\"stroke:rgb(0.0, 138.56128015770727, 250.76166088685727);stroke-width:2; opacity: 0\"/><text x=\"39.625132225747265%\" y=\"71\" font-size=\"12px\" fill=\"rgb(0.0, 138.56128015770727, 250.76166088685727)\" id=\"_fs_sbfhcgchqjjfgyqpesej_ind_8\" style=\"opacity: 0\" dominant-baseline=\"middle\" text-anchor=\"middle\">-0.482</text><svg x=\"37.61604085025611%\" y=\"40\" height=\"20\" width=\"4.018182750982312%\">  <svg x=\"0\" y=\"0\" width=\"100%\" height=\"100%\">    <text x=\"50%\" y=\"9\" font-size=\"12px\" fill=\"rgb(255,255,255)\" dominant-baseline=\"middle\" text-anchor=\"middle\">performances</text>  </svg></svg><line x1=\"41.634223601238425%\" x2=\"44.87878688195319%\" y1=\"60\" y2=\"60\" id=\"_fb_sbfhcgchqjjfgyqpesej_ind_12\" style=\"stroke:rgb(0.0, 138.56128015770727, 250.76166088685727);stroke-width:2; opacity: 0\"/><text x=\"43.256505241595804%\" y=\"71\" font-size=\"12px\" fill=\"rgb(0.0, 138.56128015770727, 250.76166088685727)\" id=\"_fs_sbfhcgchqjjfgyqpesej_ind_12\" style=\"opacity: 0\" dominant-baseline=\"middle\" text-anchor=\"middle\">-0.389</text><svg x=\"41.634223601238425%\" y=\"40\" height=\"20\" width=\"3.2445632807147646%\">  <svg x=\"0\" y=\"0\" width=\"100%\" height=\"100%\">    <text x=\"50%\" y=\"9\" font-size=\"12px\" fill=\"rgb(255,255,255)\" dominant-baseline=\"middle\" text-anchor=\"middle\">acc</text>  </svg></svg><line x1=\"44.87878688195319%\" x2=\"47.621106160938076%\" y1=\"60\" y2=\"60\" id=\"_fb_sbfhcgchqjjfgyqpesej_ind_3\" style=\"stroke:rgb(0.0, 138.56128015770727, 250.76166088685727);stroke-width:2; opacity: 0\"/><text x=\"46.24994652144564%\" y=\"71\" font-size=\"12px\" fill=\"rgb(0.0, 138.56128015770727, 250.76166088685727)\" id=\"_fs_sbfhcgchqjjfgyqpesej_ind_3\" style=\"opacity: 0\" dominant-baseline=\"middle\" text-anchor=\"middle\">-0.329</text><svg x=\"44.87878688195319%\" y=\"40\" height=\"20\" width=\"2.742319278984887%\">  <svg x=\"0\" y=\"0\" width=\"100%\" height=\"100%\">    <text x=\"50%\" y=\"9\" font-size=\"12px\" fill=\"rgb(255,255,255)\" dominant-baseline=\"middle\" text-anchor=\"middle\">a</text>  </svg></svg><line x1=\"47.621106160938076%\" x2=\"49.72576613823442%\" y1=\"60\" y2=\"60\" id=\"_fb_sbfhcgchqjjfgyqpesej_ind_13\" style=\"stroke:rgb(0.0, 138.56128015770727, 250.76166088685727);stroke-width:2; opacity: 0\"/><text x=\"48.67343614958625%\" y=\"71\" font-size=\"12px\" fill=\"rgb(0.0, 138.56128015770727, 250.76166088685727)\" id=\"_fs_sbfhcgchqjjfgyqpesej_ind_13\" style=\"opacity: 0\" dominant-baseline=\"middle\" text-anchor=\"middle\">-0.253</text><svg x=\"47.621106160938076%\" y=\"40\" height=\"20\" width=\"2.1046599772963432%\">  <svg x=\"0\" y=\"0\" width=\"100%\" height=\"100%\">    <text x=\"50%\" y=\"9\" font-size=\"12px\" fill=\"rgb(255,255,255)\" dominant-baseline=\"middle\" text-anchor=\"middle\">ors</text>  </svg></svg><line x1=\"49.72576613823442%\" x2=\"50.924352358488285%\" y1=\"60\" y2=\"60\" id=\"_fb_sbfhcgchqjjfgyqpesej_ind_6\" style=\"stroke:rgb(0.0, 138.56128015770727, 250.76166088685727);stroke-width:2; opacity: 0\"/><text x=\"50.325059248361356%\" y=\"71\" font-size=\"12px\" fill=\"rgb(0.0, 138.56128015770727, 250.76166088685727)\" id=\"_fs_sbfhcgchqjjfgyqpesej_ind_6\" style=\"opacity: 0\" dominant-baseline=\"middle\" text-anchor=\"middle\">-0.144</text><svg x=\"49.72576613823442%\" y=\"40\" height=\"20\" width=\"1.1985862202538655%\">  <svg x=\"0\" y=\"0\" width=\"100%\" height=\"100%\">    <text x=\"50%\" y=\"9\" font-size=\"12px\" fill=\"rgb(255,255,255)\" dominant-baseline=\"middle\" text-anchor=\"middle\">with</text>  </svg></svg><line x1=\"50.924352358488285%\" x2=\"51.87998519009408%\" y1=\"60\" y2=\"60\" id=\"_fb_sbfhcgchqjjfgyqpesej_ind_11\" style=\"stroke:rgb(0.0, 138.56128015770727, 250.76166088685727);stroke-width:2; opacity: 0\"/><text x=\"51.402168774291184%\" y=\"71\" font-size=\"12px\" fill=\"rgb(0.0, 138.56128015770727, 250.76166088685727)\" id=\"_fs_sbfhcgchqjjfgyqpesej_ind_11\" style=\"opacity: 0\" dominant-baseline=\"middle\" text-anchor=\"middle\">-0.115</text><svg x=\"50.924352358488285%\" y=\"40\" height=\"20\" width=\"0.9556328316057972%\">  <svg x=\"0\" y=\"0\" width=\"100%\" height=\"100%\">    <text x=\"50%\" y=\"9\" font-size=\"12px\" fill=\"rgb(255,255,255)\" dominant-baseline=\"middle\" text-anchor=\"middle\">and</text>  </svg></svg><g transform=\"translate(-8,0)\">  <svg x=\"25.174927004569003%\" y=\"40\" height=\"18\" overflow=\"visible\" width=\"30\">    <path d=\"M 8 -9 l -6 18 L 8 25\" fill=\"none\" style=\"stroke:rgb(0.0, 138.56128015770727, 250.76166088685727);stroke-width:2\" />  </svg></g><g transform=\"translate(-10,0)\">  <svg x=\"25.174927004569003%\" y=\"40\" height=\"18\" overflow=\"visible\" width=\"30\">    <path d=\"M 8 -9 l -6 18 L 8 25\" fill=\"none\" style=\"stroke:rgb(0.0, 138.56128015770727, 250.76166088685727);stroke-width:2\" />  </svg></g><g transform=\"translate(-12,0)\">  <svg x=\"25.174927004569003%\" y=\"40\" height=\"18\" overflow=\"visible\" width=\"30\">    <path d=\"M 8 -9 l -6 18 L 8 25\" fill=\"none\" style=\"stroke:rgb(0.0, 138.56128015770727, 250.76166088685727);stroke-width:2\" />  </svg></g><g transform=\"translate(-14,0)\">  <svg x=\"25.174927004569003%\" y=\"40\" height=\"18\" overflow=\"visible\" width=\"30\">    <path d=\"M 8 -9 l -6 18 L 8 25\" fill=\"none\" style=\"stroke:rgb(0.0, 138.56128015770727, 250.76166088685727);stroke-width:2\" />  </svg></g><g transform=\"translate(2,0)\">  <svg x=\"25.174927004569003%\" y=\"40\" height=\"18\" overflow=\"visible\" width=\"30\">    <path d=\"M 8 -9 l -6 18 L 8 25\" fill=\"none\" style=\"stroke:rgb(0.0, 138.56128015770727, 250.76166088685727);stroke-width:2\" />  </svg></g><g transform=\"translate(0,0)\">  <svg x=\"25.174927004569003%\" y=\"40\" height=\"18\" overflow=\"visible\" width=\"30\">    <path d=\"M 8 -9 l -6 18 L 8 25\" fill=\"none\" style=\"stroke:rgb(0.0, 138.56128015770727, 250.76166088685727);stroke-width:2\" />  </svg></g><g transform=\"translate(-2,0)\">  <svg x=\"25.174927004569003%\" y=\"40\" height=\"18\" overflow=\"visible\" width=\"30\">    <path d=\"M 8 -9 l -6 18 L 8 25\" fill=\"none\" style=\"stroke:rgb(0.0, 138.56128015770727, 250.76166088685727);stroke-width:2\" />  </svg></g><g transform=\"translate(-4,0)\">  <svg x=\"25.174927004569003%\" y=\"40\" height=\"18\" overflow=\"visible\" width=\"30\">    <path d=\"M 8 -9 l -6 18 L 8 25\" fill=\"none\" style=\"stroke:rgb(0.0, 138.56128015770727, 250.76166088685727);stroke-width:2\" />  </svg></g><g transform=\"translate(-8,0)\">  <svg x=\"32.88400974952949%\" y=\"40\" height=\"18\" overflow=\"visible\" width=\"30\">    <path d=\"M 8 -9 l -6 18 L 8 25\" fill=\"none\" style=\"stroke:rgb(0.0, 138.56128015770727, 250.76166088685727);stroke-width:2\" />  </svg></g><g transform=\"translate(-10,0)\">  <svg x=\"32.88400974952949%\" y=\"40\" height=\"18\" overflow=\"visible\" width=\"30\">    <path d=\"M 8 -9 l -6 18 L 8 25\" fill=\"none\" style=\"stroke:rgb(0.0, 138.56128015770727, 250.76166088685727);stroke-width:2\" />  </svg></g><g transform=\"translate(-12,0)\">  <svg x=\"32.88400974952949%\" y=\"40\" height=\"18\" overflow=\"visible\" width=\"30\">    <path d=\"M 8 -9 l -6 18 L 8 25\" fill=\"none\" style=\"stroke:rgb(0.0, 138.56128015770727, 250.76166088685727);stroke-width:2\" />  </svg></g><g transform=\"translate(-14,0)\">  <svg x=\"32.88400974952949%\" y=\"40\" height=\"18\" overflow=\"visible\" width=\"30\">    <path d=\"M 8 -9 l -6 18 L 8 25\" fill=\"none\" style=\"stroke:rgb(0.0, 138.56128015770727, 250.76166088685727);stroke-width:2\" />  </svg></g><g transform=\"translate(2,0)\">  <svg x=\"32.88400974952949%\" y=\"40\" height=\"18\" overflow=\"visible\" width=\"30\">    <path d=\"M 8 -9 l -6 18 L 8 25\" fill=\"none\" style=\"stroke:rgb(0.0, 138.56128015770727, 250.76166088685727);stroke-width:2\" />  </svg></g><g transform=\"translate(0,0)\">  <svg x=\"32.88400974952949%\" y=\"40\" height=\"18\" overflow=\"visible\" width=\"30\">    <path d=\"M 8 -9 l -6 18 L 8 25\" fill=\"none\" style=\"stroke:rgb(0.0, 138.56128015770727, 250.76166088685727);stroke-width:2\" />  </svg></g><g transform=\"translate(-2,0)\">  <svg x=\"32.88400974952949%\" y=\"40\" height=\"18\" overflow=\"visible\" width=\"30\">    <path d=\"M 8 -9 l -6 18 L 8 25\" fill=\"none\" style=\"stroke:rgb(0.0, 138.56128015770727, 250.76166088685727);stroke-width:2\" />  </svg></g><g transform=\"translate(-4,0)\">  <svg x=\"32.88400974952949%\" y=\"40\" height=\"18\" overflow=\"visible\" width=\"30\">    <path d=\"M 8 -9 l -6 18 L 8 25\" fill=\"none\" style=\"stroke:rgb(0.0, 138.56128015770727, 250.76166088685727);stroke-width:2\" />  </svg></g><g transform=\"translate(-8,0)\">  <svg x=\"37.61604085025611%\" y=\"40\" height=\"18\" overflow=\"visible\" width=\"30\">    <path d=\"M 8 -9 l -6 18 L 8 25\" fill=\"none\" style=\"stroke:rgb(0.0, 138.56128015770727, 250.76166088685727);stroke-width:2\" />  </svg></g><g transform=\"translate(-10,0)\">  <svg x=\"37.61604085025611%\" y=\"40\" height=\"18\" overflow=\"visible\" width=\"30\">    <path d=\"M 8 -9 l -6 18 L 8 25\" fill=\"none\" style=\"stroke:rgb(0.0, 138.56128015770727, 250.76166088685727);stroke-width:2\" />  </svg></g><g transform=\"translate(-12,0)\">  <svg x=\"37.61604085025611%\" y=\"40\" height=\"18\" overflow=\"visible\" width=\"30\">    <path d=\"M 8 -9 l -6 18 L 8 25\" fill=\"none\" style=\"stroke:rgb(0.0, 138.56128015770727, 250.76166088685727);stroke-width:2\" />  </svg></g><g transform=\"translate(-14,0)\">  <svg x=\"37.61604085025611%\" y=\"40\" height=\"18\" overflow=\"visible\" width=\"30\">    <path d=\"M 8 -9 l -6 18 L 8 25\" fill=\"none\" style=\"stroke:rgb(0.0, 138.56128015770727, 250.76166088685727);stroke-width:2\" />  </svg></g><g transform=\"translate(2,0)\">  <svg x=\"37.61604085025611%\" y=\"40\" height=\"18\" overflow=\"visible\" width=\"30\">    <path d=\"M 8 -9 l -6 18 L 8 25\" fill=\"none\" style=\"stroke:rgb(0.0, 138.56128015770727, 250.76166088685727);stroke-width:2\" />  </svg></g><g transform=\"translate(0,0)\">  <svg x=\"37.61604085025611%\" y=\"40\" height=\"18\" overflow=\"visible\" width=\"30\">    <path d=\"M 8 -9 l -6 18 L 8 25\" fill=\"none\" style=\"stroke:rgb(0.0, 138.56128015770727, 250.76166088685727);stroke-width:2\" />  </svg></g><g transform=\"translate(-2,0)\">  <svg x=\"37.61604085025611%\" y=\"40\" height=\"18\" overflow=\"visible\" width=\"30\">    <path d=\"M 8 -9 l -6 18 L 8 25\" fill=\"none\" style=\"stroke:rgb(0.0, 138.56128015770727, 250.76166088685727);stroke-width:2\" />  </svg></g><g transform=\"translate(-4,0)\">  <svg x=\"37.61604085025611%\" y=\"40\" height=\"18\" overflow=\"visible\" width=\"30\">    <path d=\"M 8 -9 l -6 18 L 8 25\" fill=\"none\" style=\"stroke:rgb(0.0, 138.56128015770727, 250.76166088685727);stroke-width:2\" />  </svg></g><g transform=\"translate(-8,0)\">  <svg x=\"41.634223601238425%\" y=\"40\" height=\"18\" overflow=\"visible\" width=\"30\">    <path d=\"M 8 -9 l -6 18 L 8 25\" fill=\"none\" style=\"stroke:rgb(0.0, 138.56128015770727, 250.76166088685727);stroke-width:2\" />  </svg></g><g transform=\"translate(-10,0)\">  <svg x=\"41.634223601238425%\" y=\"40\" height=\"18\" overflow=\"visible\" width=\"30\">    <path d=\"M 8 -9 l -6 18 L 8 25\" fill=\"none\" style=\"stroke:rgb(0.0, 138.56128015770727, 250.76166088685727);stroke-width:2\" />  </svg></g><g transform=\"translate(-12,0)\">  <svg x=\"41.634223601238425%\" y=\"40\" height=\"18\" overflow=\"visible\" width=\"30\">    <path d=\"M 8 -9 l -6 18 L 8 25\" fill=\"none\" style=\"stroke:rgb(0.0, 138.56128015770727, 250.76166088685727);stroke-width:2\" />  </svg></g><g transform=\"translate(-14,0)\">  <svg x=\"41.634223601238425%\" y=\"40\" height=\"18\" overflow=\"visible\" width=\"30\">    <path d=\"M 8 -9 l -6 18 L 8 25\" fill=\"none\" style=\"stroke:rgb(0.0, 138.56128015770727, 250.76166088685727);stroke-width:2\" />  </svg></g><g transform=\"translate(2,0)\">  <svg x=\"41.634223601238425%\" y=\"40\" height=\"18\" overflow=\"visible\" width=\"30\">    <path d=\"M 8 -9 l -6 18 L 8 25\" fill=\"none\" style=\"stroke:rgb(0.0, 138.56128015770727, 250.76166088685727);stroke-width:2\" />  </svg></g><g transform=\"translate(0,0)\">  <svg x=\"41.634223601238425%\" y=\"40\" height=\"18\" overflow=\"visible\" width=\"30\">    <path d=\"M 8 -9 l -6 18 L 8 25\" fill=\"none\" style=\"stroke:rgb(0.0, 138.56128015770727, 250.76166088685727);stroke-width:2\" />  </svg></g><g transform=\"translate(-2,0)\">  <svg x=\"41.634223601238425%\" y=\"40\" height=\"18\" overflow=\"visible\" width=\"30\">    <path d=\"M 8 -9 l -6 18 L 8 25\" fill=\"none\" style=\"stroke:rgb(0.0, 138.56128015770727, 250.76166088685727);stroke-width:2\" />  </svg></g><g transform=\"translate(-4,0)\">  <svg x=\"41.634223601238425%\" y=\"40\" height=\"18\" overflow=\"visible\" width=\"30\">    <path d=\"M 8 -9 l -6 18 L 8 25\" fill=\"none\" style=\"stroke:rgb(0.0, 138.56128015770727, 250.76166088685727);stroke-width:2\" />  </svg></g><g transform=\"translate(-8,0)\">  <svg x=\"44.87878688195319%\" y=\"40\" height=\"18\" overflow=\"visible\" width=\"30\">    <path d=\"M 8 -9 l -6 18 L 8 25\" fill=\"none\" style=\"stroke:rgb(0.0, 138.56128015770727, 250.76166088685727);stroke-width:2\" />  </svg></g><g transform=\"translate(-10,0)\">  <svg x=\"44.87878688195319%\" y=\"40\" height=\"18\" overflow=\"visible\" width=\"30\">    <path d=\"M 8 -9 l -6 18 L 8 25\" fill=\"none\" style=\"stroke:rgb(0.0, 138.56128015770727, 250.76166088685727);stroke-width:2\" />  </svg></g><g transform=\"translate(-12,0)\">  <svg x=\"44.87878688195319%\" y=\"40\" height=\"18\" overflow=\"visible\" width=\"30\">    <path d=\"M 8 -9 l -6 18 L 8 25\" fill=\"none\" style=\"stroke:rgb(0.0, 138.56128015770727, 250.76166088685727);stroke-width:2\" />  </svg></g><g transform=\"translate(-14,0)\">  <svg x=\"44.87878688195319%\" y=\"40\" height=\"18\" overflow=\"visible\" width=\"30\">    <path d=\"M 8 -9 l -6 18 L 8 25\" fill=\"none\" style=\"stroke:rgb(0.0, 138.56128015770727, 250.76166088685727);stroke-width:2\" />  </svg></g><g transform=\"translate(2,0)\">  <svg x=\"44.87878688195319%\" y=\"40\" height=\"18\" overflow=\"visible\" width=\"30\">    <path d=\"M 8 -9 l -6 18 L 8 25\" fill=\"none\" style=\"stroke:rgb(0.0, 138.56128015770727, 250.76166088685727);stroke-width:2\" />  </svg></g><g transform=\"translate(0,0)\">  <svg x=\"44.87878688195319%\" y=\"40\" height=\"18\" overflow=\"visible\" width=\"30\">    <path d=\"M 8 -9 l -6 18 L 8 25\" fill=\"none\" style=\"stroke:rgb(0.0, 138.56128015770727, 250.76166088685727);stroke-width:2\" />  </svg></g><g transform=\"translate(-2,0)\">  <svg x=\"44.87878688195319%\" y=\"40\" height=\"18\" overflow=\"visible\" width=\"30\">    <path d=\"M 8 -9 l -6 18 L 8 25\" fill=\"none\" style=\"stroke:rgb(0.0, 138.56128015770727, 250.76166088685727);stroke-width:2\" />  </svg></g><g transform=\"translate(-4,0)\">  <svg x=\"44.87878688195319%\" y=\"40\" height=\"18\" overflow=\"visible\" width=\"30\">    <path d=\"M 8 -9 l -6 18 L 8 25\" fill=\"none\" style=\"stroke:rgb(0.0, 138.56128015770727, 250.76166088685727);stroke-width:2\" />  </svg></g><g transform=\"translate(-8,0)\">  <svg x=\"47.621106160938076%\" y=\"40\" height=\"18\" overflow=\"visible\" width=\"30\">    <path d=\"M 8 -9 l -6 18 L 8 25\" fill=\"none\" style=\"stroke:rgb(0.0, 138.56128015770727, 250.76166088685727);stroke-width:2\" />  </svg></g><g transform=\"translate(-10,0)\">  <svg x=\"47.621106160938076%\" y=\"40\" height=\"18\" overflow=\"visible\" width=\"30\">    <path d=\"M 8 -9 l -6 18 L 8 25\" fill=\"none\" style=\"stroke:rgb(0.0, 138.56128015770727, 250.76166088685727);stroke-width:2\" />  </svg></g><g transform=\"translate(-12,0)\">  <svg x=\"47.621106160938076%\" y=\"40\" height=\"18\" overflow=\"visible\" width=\"30\">    <path d=\"M 8 -9 l -6 18 L 8 25\" fill=\"none\" style=\"stroke:rgb(0.0, 138.56128015770727, 250.76166088685727);stroke-width:2\" />  </svg></g><g transform=\"translate(-14,0)\">  <svg x=\"47.621106160938076%\" y=\"40\" height=\"18\" overflow=\"visible\" width=\"30\">    <path d=\"M 8 -9 l -6 18 L 8 25\" fill=\"none\" style=\"stroke:rgb(0.0, 138.56128015770727, 250.76166088685727);stroke-width:2\" />  </svg></g><g transform=\"translate(2,0)\">  <svg x=\"47.621106160938076%\" y=\"40\" height=\"18\" overflow=\"visible\" width=\"30\">    <path d=\"M 8 -9 l -6 18 L 8 25\" fill=\"none\" style=\"stroke:rgb(0.0, 138.56128015770727, 250.76166088685727);stroke-width:2\" />  </svg></g><g transform=\"translate(0,0)\">  <svg x=\"47.621106160938076%\" y=\"40\" height=\"18\" overflow=\"visible\" width=\"30\">    <path d=\"M 8 -9 l -6 18 L 8 25\" fill=\"none\" style=\"stroke:rgb(0.0, 138.56128015770727, 250.76166088685727);stroke-width:2\" />  </svg></g><g transform=\"translate(-2,0)\">  <svg x=\"47.621106160938076%\" y=\"40\" height=\"18\" overflow=\"visible\" width=\"30\">    <path d=\"M 8 -9 l -6 18 L 8 25\" fill=\"none\" style=\"stroke:rgb(0.0, 138.56128015770727, 250.76166088685727);stroke-width:2\" />  </svg></g><g transform=\"translate(-4,0)\">  <svg x=\"47.621106160938076%\" y=\"40\" height=\"18\" overflow=\"visible\" width=\"30\">    <path d=\"M 8 -9 l -6 18 L 8 25\" fill=\"none\" style=\"stroke:rgb(0.0, 138.56128015770727, 250.76166088685727);stroke-width:2\" />  </svg></g><g transform=\"translate(-8,0)\">  <svg x=\"49.72576613823442%\" y=\"40\" height=\"18\" overflow=\"visible\" width=\"30\">    <path d=\"M 8 -9 l -6 18 L 8 25\" fill=\"none\" style=\"stroke:rgb(0.0, 138.56128015770727, 250.76166088685727);stroke-width:2\" />  </svg></g><g transform=\"translate(-10,0)\">  <svg x=\"49.72576613823442%\" y=\"40\" height=\"18\" overflow=\"visible\" width=\"30\">    <path d=\"M 8 -9 l -6 18 L 8 25\" fill=\"none\" style=\"stroke:rgb(0.0, 138.56128015770727, 250.76166088685727);stroke-width:2\" />  </svg></g><g transform=\"translate(-12,0)\">  <svg x=\"49.72576613823442%\" y=\"40\" height=\"18\" overflow=\"visible\" width=\"30\">    <path d=\"M 8 -9 l -6 18 L 8 25\" fill=\"none\" style=\"stroke:rgb(0.0, 138.56128015770727, 250.76166088685727);stroke-width:2\" />  </svg></g><g transform=\"translate(-14,0)\">  <svg x=\"49.72576613823442%\" y=\"40\" height=\"18\" overflow=\"visible\" width=\"30\">    <path d=\"M 8 -9 l -6 18 L 8 25\" fill=\"none\" style=\"stroke:rgb(0.0, 138.56128015770727, 250.76166088685727);stroke-width:2\" />  </svg></g><g transform=\"translate(2,0)\">  <svg x=\"49.72576613823442%\" y=\"40\" height=\"18\" overflow=\"visible\" width=\"30\">    <path d=\"M 8 -9 l -6 18 L 8 25\" fill=\"none\" style=\"stroke:rgb(0.0, 138.56128015770727, 250.76166088685727);stroke-width:2\" />  </svg></g><g transform=\"translate(0,0)\">  <svg x=\"49.72576613823442%\" y=\"40\" height=\"18\" overflow=\"visible\" width=\"30\">    <path d=\"M 8 -9 l -6 18 L 8 25\" fill=\"none\" style=\"stroke:rgb(0.0, 138.56128015770727, 250.76166088685727);stroke-width:2\" />  </svg></g><g transform=\"translate(-2,0)\">  <svg x=\"49.72576613823442%\" y=\"40\" height=\"18\" overflow=\"visible\" width=\"30\">    <path d=\"M 8 -9 l -6 18 L 8 25\" fill=\"none\" style=\"stroke:rgb(0.0, 138.56128015770727, 250.76166088685727);stroke-width:2\" />  </svg></g><g transform=\"translate(-4,0)\">  <svg x=\"49.72576613823442%\" y=\"40\" height=\"18\" overflow=\"visible\" width=\"30\">    <path d=\"M 8 -9 l -6 18 L 8 25\" fill=\"none\" style=\"stroke:rgb(0.0, 138.56128015770727, 250.76166088685727);stroke-width:2\" />  </svg></g><g transform=\"translate(-8,0)\">  <svg x=\"50.924352358488285%\" y=\"40\" height=\"18\" overflow=\"visible\" width=\"30\">    <path d=\"M 8 -9 l -6 18 L 8 25\" fill=\"none\" style=\"stroke:rgb(0.0, 138.56128015770727, 250.76166088685727);stroke-width:2\" />  </svg></g><g transform=\"translate(-10,0)\">  <svg x=\"50.924352358488285%\" y=\"40\" height=\"18\" overflow=\"visible\" width=\"30\">    <path d=\"M 8 -9 l -6 18 L 8 25\" fill=\"none\" style=\"stroke:rgb(0.0, 138.56128015770727, 250.76166088685727);stroke-width:2\" />  </svg></g><g transform=\"translate(-12,0)\">  <svg x=\"50.924352358488285%\" y=\"40\" height=\"18\" overflow=\"visible\" width=\"30\">    <path d=\"M 8 -9 l -6 18 L 8 25\" fill=\"none\" style=\"stroke:rgb(0.0, 138.56128015770727, 250.76166088685727);stroke-width:2\" />  </svg></g><g transform=\"translate(-14,0)\">  <svg x=\"50.924352358488285%\" y=\"40\" height=\"18\" overflow=\"visible\" width=\"30\">    <path d=\"M 8 -9 l -6 18 L 8 25\" fill=\"none\" style=\"stroke:rgb(0.0, 138.56128015770727, 250.76166088685727);stroke-width:2\" />  </svg></g><g transform=\"translate(2,0)\">  <svg x=\"50.924352358488285%\" y=\"40\" height=\"18\" overflow=\"visible\" width=\"30\">    <path d=\"M 8 -9 l -6 18 L 8 25\" fill=\"none\" style=\"stroke:rgb(0.0, 138.56128015770727, 250.76166088685727);stroke-width:2\" />  </svg></g><g transform=\"translate(0,0)\">  <svg x=\"50.924352358488285%\" y=\"40\" height=\"18\" overflow=\"visible\" width=\"30\">    <path d=\"M 8 -9 l -6 18 L 8 25\" fill=\"none\" style=\"stroke:rgb(0.0, 138.56128015770727, 250.76166088685727);stroke-width:2\" />  </svg></g><g transform=\"translate(-2,0)\">  <svg x=\"50.924352358488285%\" y=\"40\" height=\"18\" overflow=\"visible\" width=\"30\">    <path d=\"M 8 -9 l -6 18 L 8 25\" fill=\"none\" style=\"stroke:rgb(0.0, 138.56128015770727, 250.76166088685727);stroke-width:2\" />  </svg></g><g transform=\"translate(-4,0)\">  <svg x=\"50.924352358488285%\" y=\"40\" height=\"18\" overflow=\"visible\" width=\"30\">    <path d=\"M 8 -9 l -6 18 L 8 25\" fill=\"none\" style=\"stroke:rgb(0.0, 138.56128015770727, 250.76166088685727);stroke-width:2\" />  </svg></g><rect transform=\"translate(0,0)\" x=\"16.975442071393605%\" y=\"40\" width=\"8\" height=\"18\" style=\"fill:rgb(0.0, 138.56128015770727, 250.76166088685727)\"/><g transform=\"translate(-6.0,0)\">  <svg x=\"51.87998519009408%\" y=\"40\" height=\"18\" overflow=\"visible\" width=\"30\">    <path d=\"M 8 -9 l -6 18 L 8 25 L 20 25 L 20 -9\" fill=\"#ffffff\" style=\"stroke:rgb(255,255,255);stroke-width:2\" />  </svg></g><g transform=\"translate(-6.0,0)\">  <svg x=\"25.174927004569003%\" y=\"40\" height=\"18\" overflow=\"visible\" width=\"30\">    <path d=\"M 8 -9 l -6 18 L 8 25\" fill=\"none\" style=\"stroke:rgb(208, 230, 250);stroke-width:2\" />  </svg></g><rect x=\"16.975442071393605%\" y=\"40\" height=\"20\" width=\"8.199484933175398%\"      onmouseover=\"document.getElementById('_tp_sbfhcgchqjjfgyqpesej_ind_4').style.textDecoration = 'underline';document.getElementById('_fs_sbfhcgchqjjfgyqpesej_ind_4').style.opacity = 1;document.getElementById('_fb_sbfhcgchqjjfgyqpesej_ind_4').style.opacity = 1;\"      onmouseout=\"document.getElementById('_tp_sbfhcgchqjjfgyqpesej_ind_4').style.textDecoration = 'none';document.getElementById('_fs_sbfhcgchqjjfgyqpesej_ind_4').style.opacity = 0;document.getElementById('_fb_sbfhcgchqjjfgyqpesej_ind_4').style.opacity = 0;\" style=\"fill:rgb(0,0,0,0)\" /><g transform=\"translate(-6.0,0)\">  <svg x=\"32.88400974952949%\" y=\"40\" height=\"18\" overflow=\"visible\" width=\"30\">    <path d=\"M 8 -9 l -6 18 L 8 25\" fill=\"none\" style=\"stroke:rgb(208, 230, 250);stroke-width:2\" />  </svg></g><rect x=\"25.174927004569003%\" y=\"40\" height=\"20\" width=\"7.709082744960487%\"      onmouseover=\"document.getElementById('_tp_sbfhcgchqjjfgyqpesej_ind_7').style.textDecoration = 'underline';document.getElementById('_fs_sbfhcgchqjjfgyqpesej_ind_7').style.opacity = 1;document.getElementById('_fb_sbfhcgchqjjfgyqpesej_ind_7').style.opacity = 1;\"      onmouseout=\"document.getElementById('_tp_sbfhcgchqjjfgyqpesej_ind_7').style.textDecoration = 'none';document.getElementById('_fs_sbfhcgchqjjfgyqpesej_ind_7').style.opacity = 0;document.getElementById('_fb_sbfhcgchqjjfgyqpesej_ind_7').style.opacity = 0;\" style=\"fill:rgb(0,0,0,0)\" /><g transform=\"translate(-6.0,0)\">  <svg x=\"37.61604085025611%\" y=\"40\" height=\"18\" overflow=\"visible\" width=\"30\">    <path d=\"M 8 -9 l -6 18 L 8 25\" fill=\"none\" style=\"stroke:rgb(208, 230, 250);stroke-width:2\" />  </svg></g><rect x=\"32.88400974952949%\" y=\"40\" height=\"20\" width=\"4.732031100726623%\"      onmouseover=\"document.getElementById('_tp_sbfhcgchqjjfgyqpesej_ind_5').style.textDecoration = 'underline';document.getElementById('_fs_sbfhcgchqjjfgyqpesej_ind_5').style.opacity = 1;document.getElementById('_fb_sbfhcgchqjjfgyqpesej_ind_5').style.opacity = 1;\"      onmouseout=\"document.getElementById('_tp_sbfhcgchqjjfgyqpesej_ind_5').style.textDecoration = 'none';document.getElementById('_fs_sbfhcgchqjjfgyqpesej_ind_5').style.opacity = 0;document.getElementById('_fb_sbfhcgchqjjfgyqpesej_ind_5').style.opacity = 0;\" style=\"fill:rgb(0,0,0,0)\" /><g transform=\"translate(-6.0,0)\">  <svg x=\"41.634223601238425%\" y=\"40\" height=\"18\" overflow=\"visible\" width=\"30\">    <path d=\"M 8 -9 l -6 18 L 8 25\" fill=\"none\" style=\"stroke:rgb(208, 230, 250);stroke-width:2\" />  </svg></g><rect x=\"37.61604085025611%\" y=\"40\" height=\"20\" width=\"4.018182750982312%\"      onmouseover=\"document.getElementById('_tp_sbfhcgchqjjfgyqpesej_ind_8').style.textDecoration = 'underline';document.getElementById('_fs_sbfhcgchqjjfgyqpesej_ind_8').style.opacity = 1;document.getElementById('_fb_sbfhcgchqjjfgyqpesej_ind_8').style.opacity = 1;\"      onmouseout=\"document.getElementById('_tp_sbfhcgchqjjfgyqpesej_ind_8').style.textDecoration = 'none';document.getElementById('_fs_sbfhcgchqjjfgyqpesej_ind_8').style.opacity = 0;document.getElementById('_fb_sbfhcgchqjjfgyqpesej_ind_8').style.opacity = 0;\" style=\"fill:rgb(0,0,0,0)\" /><g transform=\"translate(-6.0,0)\">  <svg x=\"44.87878688195319%\" y=\"40\" height=\"18\" overflow=\"visible\" width=\"30\">    <path d=\"M 8 -9 l -6 18 L 8 25\" fill=\"none\" style=\"stroke:rgb(208, 230, 250);stroke-width:2\" />  </svg></g><rect x=\"41.634223601238425%\" y=\"40\" height=\"20\" width=\"3.2445632807147646%\"      onmouseover=\"document.getElementById('_tp_sbfhcgchqjjfgyqpesej_ind_12').style.textDecoration = 'underline';document.getElementById('_fs_sbfhcgchqjjfgyqpesej_ind_12').style.opacity = 1;document.getElementById('_fb_sbfhcgchqjjfgyqpesej_ind_12').style.opacity = 1;\"      onmouseout=\"document.getElementById('_tp_sbfhcgchqjjfgyqpesej_ind_12').style.textDecoration = 'none';document.getElementById('_fs_sbfhcgchqjjfgyqpesej_ind_12').style.opacity = 0;document.getElementById('_fb_sbfhcgchqjjfgyqpesej_ind_12').style.opacity = 0;\" style=\"fill:rgb(0,0,0,0)\" /><g transform=\"translate(-6.0,0)\">  <svg x=\"47.621106160938076%\" y=\"40\" height=\"18\" overflow=\"visible\" width=\"30\">    <path d=\"M 8 -9 l -6 18 L 8 25\" fill=\"none\" style=\"stroke:rgb(208, 230, 250);stroke-width:2\" />  </svg></g><rect x=\"44.87878688195319%\" y=\"40\" height=\"20\" width=\"2.742319278984887%\"      onmouseover=\"document.getElementById('_tp_sbfhcgchqjjfgyqpesej_ind_3').style.textDecoration = 'underline';document.getElementById('_fs_sbfhcgchqjjfgyqpesej_ind_3').style.opacity = 1;document.getElementById('_fb_sbfhcgchqjjfgyqpesej_ind_3').style.opacity = 1;\"      onmouseout=\"document.getElementById('_tp_sbfhcgchqjjfgyqpesej_ind_3').style.textDecoration = 'none';document.getElementById('_fs_sbfhcgchqjjfgyqpesej_ind_3').style.opacity = 0;document.getElementById('_fb_sbfhcgchqjjfgyqpesej_ind_3').style.opacity = 0;\" style=\"fill:rgb(0,0,0,0)\" /><g transform=\"translate(-6.0,0)\">  <svg x=\"49.72576613823442%\" y=\"40\" height=\"18\" overflow=\"visible\" width=\"30\">    <path d=\"M 8 -9 l -6 18 L 8 25\" fill=\"none\" style=\"stroke:rgb(208, 230, 250);stroke-width:2\" />  </svg></g><rect x=\"47.621106160938076%\" y=\"40\" height=\"20\" width=\"2.1046599772963432%\"      onmouseover=\"document.getElementById('_tp_sbfhcgchqjjfgyqpesej_ind_13').style.textDecoration = 'underline';document.getElementById('_fs_sbfhcgchqjjfgyqpesej_ind_13').style.opacity = 1;document.getElementById('_fb_sbfhcgchqjjfgyqpesej_ind_13').style.opacity = 1;\"      onmouseout=\"document.getElementById('_tp_sbfhcgchqjjfgyqpesej_ind_13').style.textDecoration = 'none';document.getElementById('_fs_sbfhcgchqjjfgyqpesej_ind_13').style.opacity = 0;document.getElementById('_fb_sbfhcgchqjjfgyqpesej_ind_13').style.opacity = 0;\" style=\"fill:rgb(0,0,0,0)\" /><g transform=\"translate(-6.0,0)\">  <svg x=\"50.924352358488285%\" y=\"40\" height=\"18\" overflow=\"visible\" width=\"30\">    <path d=\"M 8 -9 l -6 18 L 8 25\" fill=\"none\" style=\"stroke:rgb(208, 230, 250);stroke-width:2\" />  </svg></g><rect x=\"49.72576613823442%\" y=\"40\" height=\"20\" width=\"1.1985862202538655%\"      onmouseover=\"document.getElementById('_tp_sbfhcgchqjjfgyqpesej_ind_6').style.textDecoration = 'underline';document.getElementById('_fs_sbfhcgchqjjfgyqpesej_ind_6').style.opacity = 1;document.getElementById('_fb_sbfhcgchqjjfgyqpesej_ind_6').style.opacity = 1;\"      onmouseout=\"document.getElementById('_tp_sbfhcgchqjjfgyqpesej_ind_6').style.textDecoration = 'none';document.getElementById('_fs_sbfhcgchqjjfgyqpesej_ind_6').style.opacity = 0;document.getElementById('_fb_sbfhcgchqjjfgyqpesej_ind_6').style.opacity = 0;\" style=\"fill:rgb(0,0,0,0)\" /><rect x=\"50.924352358488285%\" y=\"40\" height=\"20\" width=\"0.9556328316057972%\"      onmouseover=\"document.getElementById('_tp_sbfhcgchqjjfgyqpesej_ind_11').style.textDecoration = 'underline';document.getElementById('_fs_sbfhcgchqjjfgyqpesej_ind_11').style.opacity = 1;document.getElementById('_fb_sbfhcgchqjjfgyqpesej_ind_11').style.opacity = 1;\"      onmouseout=\"document.getElementById('_tp_sbfhcgchqjjfgyqpesej_ind_11').style.textDecoration = 'none';document.getElementById('_fs_sbfhcgchqjjfgyqpesej_ind_11').style.opacity = 0;document.getElementById('_fb_sbfhcgchqjjfgyqpesej_ind_11').style.opacity = 0;\" style=\"fill:rgb(0,0,0,0)\" /></svg><div align='center'><div style=\"color: rgb(120,120,120); font-size: 12px; margin-top: -15px;\">inputs</div><div style='display: inline; text-align: center;'\n",
       "    ><div style='display: none; color: #999; padding-top: 0px; font-size: 12px;'>0.0</div\n",
       "        ><div id='_tp_sbfhcgchqjjfgyqpesej_ind_0'\n",
       "            style='display: inline; background: rgba(230.2941176470614, 26.505882352939775, 102.59215686274348, 0.0); border-radius: 3px; padding: 0px'\n",
       "            onclick=\"\n",
       "            if (this.previousSibling.style.display == 'none') {\n",
       "                this.previousSibling.style.display = 'block';\n",
       "                this.parentNode.style.display = 'inline-block';\n",
       "            } else {\n",
       "                this.previousSibling.style.display = 'none';\n",
       "                this.parentNode.style.display = 'inline';\n",
       "            }\"\n",
       "            onmouseover=\"document.getElementById('_fb_sbfhcgchqjjfgyqpesej_ind_0').style.opacity = 1; document.getElementById('_fs_sbfhcgchqjjfgyqpesej_ind_0').style.opacity = 1;\"\n",
       "            onmouseout=\"document.getElementById('_fb_sbfhcgchqjjfgyqpesej_ind_0').style.opacity = 0; document.getElementById('_fs_sbfhcgchqjjfgyqpesej_ind_0').style.opacity = 0;\"\n",
       "        ></div></div><div style='display: inline; text-align: center;'\n",
       "    ><div style='display: none; color: #999; padding-top: 0px; font-size: 12px;'>0.341</div\n",
       "        ><div id='_tp_sbfhcgchqjjfgyqpesej_ind_1'\n",
       "            style='display: inline; background: rgba(255.0, 13.0, 87.0, 0.3457318280847692); border-radius: 3px; padding: 0px'\n",
       "            onclick=\"\n",
       "            if (this.previousSibling.style.display == 'none') {\n",
       "                this.previousSibling.style.display = 'block';\n",
       "                this.parentNode.style.display = 'inline-block';\n",
       "            } else {\n",
       "                this.previousSibling.style.display = 'none';\n",
       "                this.parentNode.style.display = 'inline';\n",
       "            }\"\n",
       "            onmouseover=\"document.getElementById('_fb_sbfhcgchqjjfgyqpesej_ind_1').style.opacity = 1; document.getElementById('_fs_sbfhcgchqjjfgyqpesej_ind_1').style.opacity = 1;\"\n",
       "            onmouseout=\"document.getElementById('_fb_sbfhcgchqjjfgyqpesej_ind_1').style.opacity = 0; document.getElementById('_fs_sbfhcgchqjjfgyqpesej_ind_1').style.opacity = 0;\"\n",
       "        >it </div></div><div style='display: inline; text-align: center;'\n",
       "    ><div style='display: none; color: #999; padding-top: 0px; font-size: 12px;'>0.062</div\n",
       "        ><div id='_tp_sbfhcgchqjjfgyqpesej_ind_2'\n",
       "            style='display: inline; background: rgba(255.0, 13.0, 87.0, 0.06195286195286207); border-radius: 3px; padding: 0px'\n",
       "            onclick=\"\n",
       "            if (this.previousSibling.style.display == 'none') {\n",
       "                this.previousSibling.style.display = 'block';\n",
       "                this.parentNode.style.display = 'inline-block';\n",
       "            } else {\n",
       "                this.previousSibling.style.display = 'none';\n",
       "                this.parentNode.style.display = 'inline';\n",
       "            }\"\n",
       "            onmouseover=\"document.getElementById('_fb_sbfhcgchqjjfgyqpesej_ind_2').style.opacity = 1; document.getElementById('_fs_sbfhcgchqjjfgyqpesej_ind_2').style.opacity = 1;\"\n",
       "            onmouseout=\"document.getElementById('_fb_sbfhcgchqjjfgyqpesej_ind_2').style.opacity = 0; document.getElementById('_fs_sbfhcgchqjjfgyqpesej_ind_2').style.opacity = 0;\"\n",
       "        >s </div></div><div style='display: inline; text-align: center;'\n",
       "    ><div style='display: none; color: #999; padding-top: 0px; font-size: 12px;'>-0.329</div\n",
       "        ><div id='_tp_sbfhcgchqjjfgyqpesej_ind_3'\n",
       "            style='display: inline; background: rgba(30.0, 136.0, 229.0, 0.3299663299663299); border-radius: 3px; padding: 0px'\n",
       "            onclick=\"\n",
       "            if (this.previousSibling.style.display == 'none') {\n",
       "                this.previousSibling.style.display = 'block';\n",
       "                this.parentNode.style.display = 'inline-block';\n",
       "            } else {\n",
       "                this.previousSibling.style.display = 'none';\n",
       "                this.parentNode.style.display = 'inline';\n",
       "            }\"\n",
       "            onmouseover=\"document.getElementById('_fb_sbfhcgchqjjfgyqpesej_ind_3').style.opacity = 1; document.getElementById('_fs_sbfhcgchqjjfgyqpesej_ind_3').style.opacity = 1;\"\n",
       "            onmouseout=\"document.getElementById('_fb_sbfhcgchqjjfgyqpesej_ind_3').style.opacity = 0; document.getElementById('_fs_sbfhcgchqjjfgyqpesej_ind_3').style.opacity = 0;\"\n",
       "        >a </div></div><div style='display: inline; text-align: center;'\n",
       "    ><div style='display: none; color: #999; padding-top: 0px; font-size: 12px;'>-0.984</div\n",
       "        ><div id='_tp_sbfhcgchqjjfgyqpesej_ind_4'\n",
       "            style='display: inline; background: rgba(30.0, 136.0, 229.0, 1.0); border-radius: 3px; padding: 0px'\n",
       "            onclick=\"\n",
       "            if (this.previousSibling.style.display == 'none') {\n",
       "                this.previousSibling.style.display = 'block';\n",
       "                this.parentNode.style.display = 'inline-block';\n",
       "            } else {\n",
       "                this.previousSibling.style.display = 'none';\n",
       "                this.parentNode.style.display = 'inline';\n",
       "            }\"\n",
       "            onmouseover=\"document.getElementById('_fb_sbfhcgchqjjfgyqpesej_ind_4').style.opacity = 1; document.getElementById('_fs_sbfhcgchqjjfgyqpesej_ind_4').style.opacity = 1;\"\n",
       "            onmouseout=\"document.getElementById('_fb_sbfhcgchqjjfgyqpesej_ind_4').style.opacity = 0; document.getElementById('_fs_sbfhcgchqjjfgyqpesej_ind_4').style.opacity = 0;\"\n",
       "        >lovely </div></div><div style='display: inline; text-align: center;'\n",
       "    ><div style='display: none; color: #999; padding-top: 0px; font-size: 12px;'>-0.568</div\n",
       "        ><div id='_tp_sbfhcgchqjjfgyqpesej_ind_5'\n",
       "            style='display: inline; background: rgba(30.0, 136.0, 229.0, 0.5743315508021389); border-radius: 3px; padding: 0px'\n",
       "            onclick=\"\n",
       "            if (this.previousSibling.style.display == 'none') {\n",
       "                this.previousSibling.style.display = 'block';\n",
       "                this.parentNode.style.display = 'inline-block';\n",
       "            } else {\n",
       "                this.previousSibling.style.display = 'none';\n",
       "                this.parentNode.style.display = 'inline';\n",
       "            }\"\n",
       "            onmouseover=\"document.getElementById('_fb_sbfhcgchqjjfgyqpesej_ind_5').style.opacity = 1; document.getElementById('_fs_sbfhcgchqjjfgyqpesej_ind_5').style.opacity = 1;\"\n",
       "            onmouseout=\"document.getElementById('_fb_sbfhcgchqjjfgyqpesej_ind_5').style.opacity = 0; document.getElementById('_fs_sbfhcgchqjjfgyqpesej_ind_5').style.opacity = 0;\"\n",
       "        >film </div></div><div style='display: inline; text-align: center;'\n",
       "    ><div style='display: none; color: #999; padding-top: 0px; font-size: 12px;'>-0.144</div\n",
       "        ><div id='_tp_sbfhcgchqjjfgyqpesej_ind_6'\n",
       "            style='display: inline; background: rgba(30.0, 136.0, 229.0, 0.14078035254505836); border-radius: 3px; padding: 0px'\n",
       "            onclick=\"\n",
       "            if (this.previousSibling.style.display == 'none') {\n",
       "                this.previousSibling.style.display = 'block';\n",
       "                this.parentNode.style.display = 'inline-block';\n",
       "            } else {\n",
       "                this.previousSibling.style.display = 'none';\n",
       "                this.parentNode.style.display = 'inline';\n",
       "            }\"\n",
       "            onmouseover=\"document.getElementById('_fb_sbfhcgchqjjfgyqpesej_ind_6').style.opacity = 1; document.getElementById('_fs_sbfhcgchqjjfgyqpesej_ind_6').style.opacity = 1;\"\n",
       "            onmouseout=\"document.getElementById('_fb_sbfhcgchqjjfgyqpesej_ind_6').style.opacity = 0; document.getElementById('_fs_sbfhcgchqjjfgyqpesej_ind_6').style.opacity = 0;\"\n",
       "        >with </div></div><div style='display: inline; text-align: center;'\n",
       "    ><div style='display: none; color: #999; padding-top: 0px; font-size: 12px;'>-0.925</div\n",
       "        ><div id='_tp_sbfhcgchqjjfgyqpesej_ind_7'\n",
       "            style='display: inline; background: rgba(30.0, 136.0, 229.0, 0.9448207565854625); border-radius: 3px; padding: 0px'\n",
       "            onclick=\"\n",
       "            if (this.previousSibling.style.display == 'none') {\n",
       "                this.previousSibling.style.display = 'block';\n",
       "                this.parentNode.style.display = 'inline-block';\n",
       "            } else {\n",
       "                this.previousSibling.style.display = 'none';\n",
       "                this.parentNode.style.display = 'inline';\n",
       "            }\"\n",
       "            onmouseover=\"document.getElementById('_fb_sbfhcgchqjjfgyqpesej_ind_7').style.opacity = 1; document.getElementById('_fs_sbfhcgchqjjfgyqpesej_ind_7').style.opacity = 1;\"\n",
       "            onmouseout=\"document.getElementById('_fb_sbfhcgchqjjfgyqpesej_ind_7').style.opacity = 0; document.getElementById('_fs_sbfhcgchqjjfgyqpesej_ind_7').style.opacity = 0;\"\n",
       "        >lovely </div></div><div style='display: inline; text-align: center;'\n",
       "    ><div style='display: none; color: #999; padding-top: 0px; font-size: 12px;'>-0.482</div\n",
       "        ><div id='_tp_sbfhcgchqjjfgyqpesej_ind_8'\n",
       "            style='display: inline; background: rgba(30.0, 136.0, 229.0, 0.4876213111507228); border-radius: 3px; padding: 0px'\n",
       "            onclick=\"\n",
       "            if (this.previousSibling.style.display == 'none') {\n",
       "                this.previousSibling.style.display = 'block';\n",
       "                this.parentNode.style.display = 'inline-block';\n",
       "            } else {\n",
       "                this.previousSibling.style.display = 'none';\n",
       "                this.parentNode.style.display = 'inline';\n",
       "            }\"\n",
       "            onmouseover=\"document.getElementById('_fb_sbfhcgchqjjfgyqpesej_ind_8').style.opacity = 1; document.getElementById('_fs_sbfhcgchqjjfgyqpesej_ind_8').style.opacity = 1;\"\n",
       "            onmouseout=\"document.getElementById('_fb_sbfhcgchqjjfgyqpesej_ind_8').style.opacity = 0; document.getElementById('_fs_sbfhcgchqjjfgyqpesej_ind_8').style.opacity = 0;\"\n",
       "        >performances </div></div><div style='display: inline; text-align: center;'\n",
       "    ><div style='display: none; color: #999; padding-top: 0px; font-size: 12px;'>0.405</div\n",
       "        ><div id='_tp_sbfhcgchqjjfgyqpesej_ind_9'\n",
       "            style='display: inline; background: rgba(255.0, 13.0, 87.0, 0.4087938205585263); border-radius: 3px; padding: 0px'\n",
       "            onclick=\"\n",
       "            if (this.previousSibling.style.display == 'none') {\n",
       "                this.previousSibling.style.display = 'block';\n",
       "                this.parentNode.style.display = 'inline-block';\n",
       "            } else {\n",
       "                this.previousSibling.style.display = 'none';\n",
       "                this.parentNode.style.display = 'inline';\n",
       "            }\"\n",
       "            onmouseover=\"document.getElementById('_fb_sbfhcgchqjjfgyqpesej_ind_9').style.opacity = 1; document.getElementById('_fs_sbfhcgchqjjfgyqpesej_ind_9').style.opacity = 1;\"\n",
       "            onmouseout=\"document.getElementById('_fb_sbfhcgchqjjfgyqpesej_ind_9').style.opacity = 0; document.getElementById('_fs_sbfhcgchqjjfgyqpesej_ind_9').style.opacity = 0;\"\n",
       "        >by </div></div><div style='display: inline; text-align: center;'\n",
       "    ><div style='display: none; color: #999; padding-top: 0px; font-size: 12px;'>0.483</div\n",
       "        ><div id='_tp_sbfhcgchqjjfgyqpesej_ind_10'\n",
       "            style='display: inline; background: rgba(255.0, 13.0, 87.0, 0.48762131115072294); border-radius: 3px; padding: 0px'\n",
       "            onclick=\"\n",
       "            if (this.previousSibling.style.display == 'none') {\n",
       "                this.previousSibling.style.display = 'block';\n",
       "                this.parentNode.style.display = 'inline-block';\n",
       "            } else {\n",
       "                this.previousSibling.style.display = 'none';\n",
       "                this.parentNode.style.display = 'inline';\n",
       "            }\"\n",
       "            onmouseover=\"document.getElementById('_fb_sbfhcgchqjjfgyqpesej_ind_10').style.opacity = 1; document.getElementById('_fs_sbfhcgchqjjfgyqpesej_ind_10').style.opacity = 1;\"\n",
       "            onmouseout=\"document.getElementById('_fb_sbfhcgchqjjfgyqpesej_ind_10').style.opacity = 0; document.getElementById('_fs_sbfhcgchqjjfgyqpesej_ind_10').style.opacity = 0;\"\n",
       "        >buy </div></div><div style='display: inline; text-align: center;'\n",
       "    ><div style='display: none; color: #999; padding-top: 0px; font-size: 12px;'>-0.115</div\n",
       "        ><div id='_tp_sbfhcgchqjjfgyqpesej_ind_11'\n",
       "            style='display: inline; background: rgba(30.0, 136.0, 229.0, 0.10924935630817977); border-radius: 3px; padding: 0px'\n",
       "            onclick=\"\n",
       "            if (this.previousSibling.style.display == 'none') {\n",
       "                this.previousSibling.style.display = 'block';\n",
       "                this.parentNode.style.display = 'inline-block';\n",
       "            } else {\n",
       "                this.previousSibling.style.display = 'none';\n",
       "                this.parentNode.style.display = 'inline';\n",
       "            }\"\n",
       "            onmouseover=\"document.getElementById('_fb_sbfhcgchqjjfgyqpesej_ind_11').style.opacity = 1; document.getElementById('_fs_sbfhcgchqjjfgyqpesej_ind_11').style.opacity = 1;\"\n",
       "            onmouseout=\"document.getElementById('_fb_sbfhcgchqjjfgyqpesej_ind_11').style.opacity = 0; document.getElementById('_fs_sbfhcgchqjjfgyqpesej_ind_11').style.opacity = 0;\"\n",
       "        >and </div></div><div style='display: inline; text-align: center;'\n",
       "    ><div style='display: none; color: #999; padding-top: 0px; font-size: 12px;'>-0.389</div\n",
       "        ><div id='_tp_sbfhcgchqjjfgyqpesej_ind_12'\n",
       "            style='display: inline; background: rgba(30.0, 136.0, 229.0, 0.39302832244008723); border-radius: 3px; padding: 0px'\n",
       "            onclick=\"\n",
       "            if (this.previousSibling.style.display == 'none') {\n",
       "                this.previousSibling.style.display = 'block';\n",
       "                this.parentNode.style.display = 'inline-block';\n",
       "            } else {\n",
       "                this.previousSibling.style.display = 'none';\n",
       "                this.parentNode.style.display = 'inline';\n",
       "            }\"\n",
       "            onmouseover=\"document.getElementById('_fb_sbfhcgchqjjfgyqpesej_ind_12').style.opacity = 1; document.getElementById('_fs_sbfhcgchqjjfgyqpesej_ind_12').style.opacity = 1;\"\n",
       "            onmouseout=\"document.getElementById('_fb_sbfhcgchqjjfgyqpesej_ind_12').style.opacity = 0; document.getElementById('_fs_sbfhcgchqjjfgyqpesej_ind_12').style.opacity = 0;\"\n",
       "        >acc</div></div><div style='display: inline; text-align: center;'\n",
       "    ><div style='display: none; color: #999; padding-top: 0px; font-size: 12px;'>-0.253</div\n",
       "        ><div id='_tp_sbfhcgchqjjfgyqpesej_ind_13'\n",
       "            style='display: inline; background: rgba(30.0, 136.0, 229.0, 0.25113883937413345); border-radius: 3px; padding: 0px'\n",
       "            onclick=\"\n",
       "            if (this.previousSibling.style.display == 'none') {\n",
       "                this.previousSibling.style.display = 'block';\n",
       "                this.parentNode.style.display = 'inline-block';\n",
       "            } else {\n",
       "                this.previousSibling.style.display = 'none';\n",
       "                this.parentNode.style.display = 'inline';\n",
       "            }\"\n",
       "            onmouseover=\"document.getElementById('_fb_sbfhcgchqjjfgyqpesej_ind_13').style.opacity = 1; document.getElementById('_fs_sbfhcgchqjjfgyqpesej_ind_13').style.opacity = 1;\"\n",
       "            onmouseout=\"document.getElementById('_fb_sbfhcgchqjjfgyqpesej_ind_13').style.opacity = 0; document.getElementById('_fs_sbfhcgchqjjfgyqpesej_ind_13').style.opacity = 0;\"\n",
       "        >ors</div></div><div style='display: inline; text-align: center;'\n",
       "    ><div style='display: none; color: #999; padding-top: 0px; font-size: 12px;'>0.18</div\n",
       "        ><div id='_tp_sbfhcgchqjjfgyqpesej_ind_14'\n",
       "            style='display: inline; background: rgba(255.0, 13.0, 87.0, 0.18019409784115661); border-radius: 3px; padding: 0px'\n",
       "            onclick=\"\n",
       "            if (this.previousSibling.style.display == 'none') {\n",
       "                this.previousSibling.style.display = 'block';\n",
       "                this.parentNode.style.display = 'inline-block';\n",
       "            } else {\n",
       "                this.previousSibling.style.display = 'none';\n",
       "                this.parentNode.style.display = 'inline';\n",
       "            }\"\n",
       "            onmouseover=\"document.getElementById('_fb_sbfhcgchqjjfgyqpesej_ind_14').style.opacity = 1; document.getElementById('_fs_sbfhcgchqjjfgyqpesej_ind_14').style.opacity = 1;\"\n",
       "            onmouseout=\"document.getElementById('_fb_sbfhcgchqjjfgyqpesej_ind_14').style.opacity = 0; document.getElementById('_fs_sbfhcgchqjjfgyqpesej_ind_14').style.opacity = 0;\"\n",
       "        >i </div></div><div style='display: inline; text-align: center;'\n",
       "    ><div style='display: none; color: #999; padding-top: 0px; font-size: 12px;'>0.0</div\n",
       "        ><div id='_tp_sbfhcgchqjjfgyqpesej_ind_15'\n",
       "            style='display: inline; background: rgba(230.2941176470614, 26.505882352939775, 102.59215686274348, 0.0); border-radius: 3px; padding: 0px'\n",
       "            onclick=\"\n",
       "            if (this.previousSibling.style.display == 'none') {\n",
       "                this.previousSibling.style.display = 'block';\n",
       "                this.parentNode.style.display = 'inline-block';\n",
       "            } else {\n",
       "                this.previousSibling.style.display = 'none';\n",
       "                this.parentNode.style.display = 'inline';\n",
       "            }\"\n",
       "            onmouseover=\"document.getElementById('_fb_sbfhcgchqjjfgyqpesej_ind_15').style.opacity = 1; document.getElementById('_fs_sbfhcgchqjjfgyqpesej_ind_15').style.opacity = 1;\"\n",
       "            onmouseout=\"document.getElementById('_fb_sbfhcgchqjjfgyqpesej_ind_15').style.opacity = 0; document.getElementById('_fs_sbfhcgchqjjfgyqpesej_ind_15').style.opacity = 0;\"\n",
       "        >[SEP]</div></div><div style='display: inline; text-align: center;'\n",
       "    ><div style='display: none; color: #999; padding-top: 0px; font-size: 12px;'>0.0</div\n",
       "        ><div id='_tp_sbfhcgchqjjfgyqpesej_ind_16'\n",
       "            style='display: inline; background: rgba(230.2941176470614, 26.505882352939775, 102.59215686274348, 0.0); border-radius: 3px; padding: 0px'\n",
       "            onclick=\"\n",
       "            if (this.previousSibling.style.display == 'none') {\n",
       "                this.previousSibling.style.display = 'block';\n",
       "                this.parentNode.style.display = 'inline-block';\n",
       "            } else {\n",
       "                this.previousSibling.style.display = 'none';\n",
       "                this.parentNode.style.display = 'inline';\n",
       "            }\"\n",
       "            onmouseover=\"document.getElementById('_fb_sbfhcgchqjjfgyqpesej_ind_16').style.opacity = 1; document.getElementById('_fs_sbfhcgchqjjfgyqpesej_ind_16').style.opacity = 1;\"\n",
       "            onmouseout=\"document.getElementById('_fb_sbfhcgchqjjfgyqpesej_ind_16').style.opacity = 0; document.getElementById('_fs_sbfhcgchqjjfgyqpesej_ind_16').style.opacity = 0;\"\n",
       "        ></div></div></div></div><div id='_tp_usieyiccwpusnzjovqwp_output_0_zoom' style='display: none;'><svg width=\"100%\" height=\"80px\"><line x1=\"0\" y1=\"33\" x2=\"100%\" y2=\"33\" style=\"stroke:rgb(150,150,150);stroke-width:1\" /><line x1=\"47.64833053661564%\" y1=\"33\" x2=\"47.64833053661564%\" y2=\"37\" style=\"stroke:rgb(150,150,150);stroke-width:1\" /><text x=\"47.64833053661564%\" y=\"27\" font-size=\"12px\" fill=\"rgb(120,120,120)\" dominant-baseline=\"bottom\" text-anchor=\"middle\">-3</text><line x1=\"32.92627890935881%\" y1=\"33\" x2=\"32.92627890935881%\" y2=\"37\" style=\"stroke:rgb(150,150,150);stroke-width:1\" /><text x=\"32.92627890935881%\" y=\"27\" font-size=\"12px\" fill=\"rgb(120,120,120)\" dominant-baseline=\"bottom\" text-anchor=\"middle\">-4</text><line x1=\"18.20422728210197%\" y1=\"33\" x2=\"18.20422728210197%\" y2=\"37\" style=\"stroke:rgb(150,150,150);stroke-width:1\" /><text x=\"18.20422728210197%\" y=\"27\" font-size=\"12px\" fill=\"rgb(120,120,120)\" dominant-baseline=\"bottom\" text-anchor=\"middle\">-5</text><line x1=\"62.37038216387247%\" y1=\"33\" x2=\"62.37038216387247%\" y2=\"37\" style=\"stroke:rgb(150,150,150);stroke-width:1\" /><text x=\"62.37038216387247%\" y=\"27\" font-size=\"12px\" fill=\"rgb(120,120,120)\" dominant-baseline=\"bottom\" text-anchor=\"middle\">-2</text><line x1=\"77.09243379112931%\" y1=\"33\" x2=\"77.09243379112931%\" y2=\"37\" style=\"stroke:rgb(150,150,150);stroke-width:1\" /><text x=\"77.09243379112931%\" y=\"27\" font-size=\"12px\" fill=\"rgb(120,120,120)\" dominant-baseline=\"bottom\" text-anchor=\"middle\">-1</text><line x1=\"91.81448541838614%\" y1=\"33\" x2=\"91.81448541838614%\" y2=\"37\" style=\"stroke:rgb(150,150,150);stroke-width:1\" /><text x=\"91.81448541838614%\" y=\"27\" font-size=\"12px\" fill=\"rgb(120,120,120)\" dominant-baseline=\"bottom\" text-anchor=\"middle\">0</text><line x1=\"70.00611720448622%\" y1=\"33\" x2=\"70.00611720448622%\" y2=\"37\" style=\"stroke:rgb(150,150,150);stroke-width:1\" /><text x=\"70.00611720448622%\" y=\"27\" font-size=\"13px\" style=\"stroke:#ffffff;stroke-width:8px;\" fill=\"rgb(255,255,255)\" dominant-baseline=\"bottom\" text-anchor=\"middle\">-1.48134</text><text x=\"70.00611720448622%\" y=\"27\" font-size=\"12px\" fill=\"rgb(120,120,120)\" dominant-baseline=\"bottom\" text-anchor=\"middle\">-1.48134</text><text x=\"70.00611720448622%\" y=\"10\" font-size=\"12px\" fill=\"rgb(120,120,120)\" dominant-baseline=\"bottom\" text-anchor=\"middle\">base value</text><line x1=\"29.993882648293276%\" y1=\"33\" x2=\"29.993882648293276%\" y2=\"37\" style=\"stroke:rgb(150,150,150);stroke-width:1\" /><text x=\"29.993882648293276%\" y=\"27\" font-size=\"13px\" style=\"stroke:#ffffff;stroke-width:8px;\" font-weight=\"bold\" fill=\"rgb(255,255,255)\" dominant-baseline=\"bottom\" text-anchor=\"middle\">-4.19918</text><text x=\"29.993882648293276%\" y=\"27\" font-size=\"13px\" font-weight=\"bold\" fill=\"rgb(0,0,0)\" dominant-baseline=\"bottom\" text-anchor=\"middle\">-4.19918</text><text x=\"29.993882648293276%\" y=\"10\" font-size=\"12px\" fill=\"rgb(120,120,120)\" dominant-baseline=\"bottom\" text-anchor=\"middle\">f<tspan baseline-shift=\"sub\" font-size=\"8px\">Output 0</tspan>(inputs)</text><rect x=\"8.333333321064957%\" width=\"21.660549327228317%\" y=\"40\" height=\"18\" style=\"fill:rgb(255.0, 0.0, 81.08083606031792); stroke-width:0; stroke:rgb(0,0,0)\" /><line x1=\"22.87838539632039%\" x2=\"29.993882648293276%\" y1=\"60\" y2=\"60\" id=\"_fb_zqorvufaigfywirkxlgg_ind_10\" style=\"stroke:rgb(255.0, 0.0, 81.08083606031792);stroke-width:2; opacity: 0\"/><text x=\"26.43613402230683%\" y=\"71\" font-size=\"12px\" id=\"_fs_zqorvufaigfywirkxlgg_ind_10\" fill=\"rgb(255.0, 0.0, 81.08083606031792)\" style=\"opacity: 0\" dominant-baseline=\"middle\" text-anchor=\"middle\">0.483</text><svg x=\"22.87838539632039%\" y=\"40\" height=\"20\" width=\"7.1154972519728865%\">  <svg x=\"0\" y=\"0\" width=\"100%\" height=\"100%\">    <text x=\"50%\" y=\"9\" font-size=\"12px\" fill=\"rgb(255,255,255)\" dominant-baseline=\"middle\" text-anchor=\"middle\">buy</text>  </svg></svg><line x1=\"16.91065599899685%\" x2=\"22.87838539632039%\" y1=\"60\" y2=\"60\" id=\"_fb_zqorvufaigfywirkxlgg_ind_9\" style=\"stroke:rgb(255.0, 0.0, 81.08083606031792);stroke-width:2; opacity: 0\"/><text x=\"19.89452069765862%\" y=\"71\" font-size=\"12px\" id=\"_fs_zqorvufaigfywirkxlgg_ind_9\" fill=\"rgb(255.0, 0.0, 81.08083606031792)\" style=\"opacity: 0\" dominant-baseline=\"middle\" text-anchor=\"middle\">0.405</text><svg x=\"16.91065599899685%\" y=\"40\" height=\"20\" width=\"5.967729397323538%\">  <svg x=\"0\" y=\"0\" width=\"100%\" height=\"100%\">    <text x=\"50%\" y=\"9\" font-size=\"12px\" fill=\"rgb(255,255,255)\" dominant-baseline=\"middle\" text-anchor=\"middle\">by</text>  </svg></svg><line x1=\"11.891864582588196%\" x2=\"16.91065599899685%\" y1=\"60\" y2=\"60\" id=\"_fb_zqorvufaigfywirkxlgg_ind_1\" style=\"stroke:rgb(255.0, 0.0, 81.08083606031792);stroke-width:2; opacity: 0\"/><text x=\"14.401260290792525%\" y=\"71\" font-size=\"12px\" id=\"_fs_zqorvufaigfywirkxlgg_ind_1\" fill=\"rgb(255.0, 0.0, 81.08083606031792)\" style=\"opacity: 0\" dominant-baseline=\"middle\" text-anchor=\"middle\">0.341</text><svg x=\"11.891864582588196%\" y=\"40\" height=\"20\" width=\"5.018791416408655%\">  <svg x=\"0\" y=\"0\" width=\"100%\" height=\"100%\">    <text x=\"50%\" y=\"9\" font-size=\"12px\" fill=\"rgb(255,255,255)\" dominant-baseline=\"middle\" text-anchor=\"middle\">it</text>  </svg></svg><line x1=\"9.243276154189058%\" x2=\"11.891864582588196%\" y1=\"60\" y2=\"60\" id=\"_fb_zqorvufaigfywirkxlgg_ind_14\" style=\"stroke:rgb(255.0, 0.0, 81.08083606031792);stroke-width:2; opacity: 0\"/><text x=\"10.567570368388626%\" y=\"71\" font-size=\"12px\" id=\"_fs_zqorvufaigfywirkxlgg_ind_14\" fill=\"rgb(255.0, 0.0, 81.08083606031792)\" style=\"opacity: 0\" dominant-baseline=\"middle\" text-anchor=\"middle\">0.18</text><svg x=\"9.243276154189058%\" y=\"40\" height=\"20\" width=\"2.6485884283991386%\">  <svg x=\"0\" y=\"0\" width=\"100%\" height=\"100%\">    <text x=\"50%\" y=\"9\" font-size=\"12px\" fill=\"rgb(255,255,255)\" dominant-baseline=\"middle\" text-anchor=\"middle\">i</text>  </svg></svg><line x1=\"8.333374124938535%\" x2=\"9.243276154189058%\" y1=\"60\" y2=\"60\" id=\"_fb_zqorvufaigfywirkxlgg_ind_2\" style=\"stroke:rgb(255.0, 0.0, 81.08083606031792);stroke-width:2; opacity: 0\"/><text x=\"8.788325139563796%\" y=\"71\" font-size=\"12px\" id=\"_fs_zqorvufaigfywirkxlgg_ind_2\" fill=\"rgb(255.0, 0.0, 81.08083606031792)\" style=\"opacity: 0\" dominant-baseline=\"middle\" text-anchor=\"middle\">0.062</text><svg x=\"8.333374124938535%\" y=\"40\" height=\"20\" width=\"0.9099020292505227%\">  <svg x=\"0\" y=\"0\" width=\"100%\" height=\"100%\">    <text x=\"50%\" y=\"9\" font-size=\"12px\" fill=\"rgb(255,255,255)\" dominant-baseline=\"middle\" text-anchor=\"middle\">s</text>  </svg></svg><line x1=\"8.333354819880068%\" x2=\"8.333374124938535%\" y1=\"60\" y2=\"60\" id=\"_fb_zqorvufaigfywirkxlgg_ind_16\" style=\"stroke:rgb(255.0, 0.0, 81.08083606031792);stroke-width:2; opacity: 0\"/><text x=\"8.3333644724093%\" y=\"71\" font-size=\"12px\" id=\"_fs_zqorvufaigfywirkxlgg_ind_16\" fill=\"rgb(255.0, 0.0, 81.08083606031792)\" style=\"opacity: 0\" dominant-baseline=\"middle\" text-anchor=\"middle\">0.0</text><svg x=\"8.333354819880068%\" y=\"40\" height=\"20\" width=\"1.9305058467367076e-05%\">  <svg x=\"0\" y=\"0\" width=\"100%\" height=\"100%\">    <text x=\"50%\" y=\"9\" font-size=\"12px\" fill=\"rgb(255,255,255)\" dominant-baseline=\"middle\" text-anchor=\"middle\"></text>  </svg></svg><line x1=\"8.3333355148216%\" x2=\"8.333354819880068%\" y1=\"60\" y2=\"60\" id=\"_fb_zqorvufaigfywirkxlgg_ind_15\" style=\"stroke:rgb(255.0, 0.0, 81.08083606031792);stroke-width:2; opacity: 0\"/><text x=\"8.333345167350835%\" y=\"71\" font-size=\"12px\" id=\"_fs_zqorvufaigfywirkxlgg_ind_15\" fill=\"rgb(255.0, 0.0, 81.08083606031792)\" style=\"opacity: 0\" dominant-baseline=\"middle\" text-anchor=\"middle\">0.0</text><svg x=\"8.3333355148216%\" y=\"40\" height=\"20\" width=\"1.9305058467367076e-05%\">  <svg x=\"0\" y=\"0\" width=\"100%\" height=\"100%\">    <text x=\"50%\" y=\"9\" font-size=\"12px\" fill=\"rgb(255,255,255)\" dominant-baseline=\"middle\" text-anchor=\"middle\">[SEP]</text>  </svg></svg><line x1=\"8.333333321064957%\" x2=\"8.3333355148216%\" y1=\"60\" y2=\"60\" id=\"_fb_zqorvufaigfywirkxlgg_ind_0\" style=\"stroke:rgb(255.0, 0.0, 81.08083606031792);stroke-width:2; opacity: 0\"/><text x=\"8.333334417943279%\" y=\"71\" font-size=\"12px\" id=\"_fs_zqorvufaigfywirkxlgg_ind_0\" fill=\"rgb(255.0, 0.0, 81.08083606031792)\" style=\"opacity: 0\" dominant-baseline=\"middle\" text-anchor=\"middle\">0.0</text><svg x=\"8.333333321064957%\" y=\"40\" height=\"20\" width=\"2.193756643009692e-06%\">  <svg x=\"0\" y=\"0\" width=\"100%\" height=\"100%\">    <text x=\"50%\" y=\"9\" font-size=\"12px\" fill=\"rgb(255,255,255)\" dominant-baseline=\"middle\" text-anchor=\"middle\"></text>  </svg></svg><g transform=\"translate(0,0)\">  <svg x=\"22.87838539632039%\" y=\"40\" height=\"18\" overflow=\"visible\" width=\"30\">    <path d=\"M 0 -9 l 6 18 L 0 25\" fill=\"none\" style=\"stroke:rgb(255.0, 0.0, 81.08083606031792);stroke-width:2\" />  </svg></g><g transform=\"translate(2,0)\">  <svg x=\"22.87838539632039%\" y=\"40\" height=\"18\" overflow=\"visible\" width=\"30\">    <path d=\"M 0 -9 l 6 18 L 0 25\" fill=\"none\" style=\"stroke:rgb(255.0, 0.0, 81.08083606031792);stroke-width:2\" />  </svg></g><g transform=\"translate(4,0)\">  <svg x=\"22.87838539632039%\" y=\"40\" height=\"18\" overflow=\"visible\" width=\"30\">    <path d=\"M 0 -9 l 6 18 L 0 25\" fill=\"none\" style=\"stroke:rgb(255.0, 0.0, 81.08083606031792);stroke-width:2\" />  </svg></g><g transform=\"translate(6,0)\">  <svg x=\"22.87838539632039%\" y=\"40\" height=\"18\" overflow=\"visible\" width=\"30\">    <path d=\"M 0 -9 l 6 18 L 0 25\" fill=\"none\" style=\"stroke:rgb(255.0, 0.0, 81.08083606031792);stroke-width:2\" />  </svg></g><g transform=\"translate(-8,0)\">  <svg x=\"22.87838539632039%\" y=\"40\" height=\"18\" overflow=\"visible\" width=\"30\">    <path d=\"M 0 -9 l 6 18 L 0 25\" fill=\"none\" style=\"stroke:rgb(255.0, 0.0, 81.08083606031792);stroke-width:2\" />  </svg></g><g transform=\"translate(-6,0)\">  <svg x=\"22.87838539632039%\" y=\"40\" height=\"18\" overflow=\"visible\" width=\"30\">    <path d=\"M 0 -9 l 6 18 L 0 25\" fill=\"none\" style=\"stroke:rgb(255.0, 0.0, 81.08083606031792);stroke-width:2\" />  </svg></g><g transform=\"translate(-4,0)\">  <svg x=\"22.87838539632039%\" y=\"40\" height=\"18\" overflow=\"visible\" width=\"30\">    <path d=\"M 0 -9 l 6 18 L 0 25\" fill=\"none\" style=\"stroke:rgb(255.0, 0.0, 81.08083606031792);stroke-width:2\" />  </svg></g><g transform=\"translate(-2,0)\">  <svg x=\"22.87838539632039%\" y=\"40\" height=\"18\" overflow=\"visible\" width=\"30\">    <path d=\"M 0 -9 l 6 18 L 0 25\" fill=\"none\" style=\"stroke:rgb(255.0, 0.0, 81.08083606031792);stroke-width:2\" />  </svg></g><g transform=\"translate(0,0)\">  <svg x=\"16.91065599899685%\" y=\"40\" height=\"18\" overflow=\"visible\" width=\"30\">    <path d=\"M 0 -9 l 6 18 L 0 25\" fill=\"none\" style=\"stroke:rgb(255.0, 0.0, 81.08083606031792);stroke-width:2\" />  </svg></g><g transform=\"translate(2,0)\">  <svg x=\"16.91065599899685%\" y=\"40\" height=\"18\" overflow=\"visible\" width=\"30\">    <path d=\"M 0 -9 l 6 18 L 0 25\" fill=\"none\" style=\"stroke:rgb(255.0, 0.0, 81.08083606031792);stroke-width:2\" />  </svg></g><g transform=\"translate(4,0)\">  <svg x=\"16.91065599899685%\" y=\"40\" height=\"18\" overflow=\"visible\" width=\"30\">    <path d=\"M 0 -9 l 6 18 L 0 25\" fill=\"none\" style=\"stroke:rgb(255.0, 0.0, 81.08083606031792);stroke-width:2\" />  </svg></g><g transform=\"translate(6,0)\">  <svg x=\"16.91065599899685%\" y=\"40\" height=\"18\" overflow=\"visible\" width=\"30\">    <path d=\"M 0 -9 l 6 18 L 0 25\" fill=\"none\" style=\"stroke:rgb(255.0, 0.0, 81.08083606031792);stroke-width:2\" />  </svg></g><g transform=\"translate(-8,0)\">  <svg x=\"16.91065599899685%\" y=\"40\" height=\"18\" overflow=\"visible\" width=\"30\">    <path d=\"M 0 -9 l 6 18 L 0 25\" fill=\"none\" style=\"stroke:rgb(255.0, 0.0, 81.08083606031792);stroke-width:2\" />  </svg></g><g transform=\"translate(-6,0)\">  <svg x=\"16.91065599899685%\" y=\"40\" height=\"18\" overflow=\"visible\" width=\"30\">    <path d=\"M 0 -9 l 6 18 L 0 25\" fill=\"none\" style=\"stroke:rgb(255.0, 0.0, 81.08083606031792);stroke-width:2\" />  </svg></g><g transform=\"translate(-4,0)\">  <svg x=\"16.91065599899685%\" y=\"40\" height=\"18\" overflow=\"visible\" width=\"30\">    <path d=\"M 0 -9 l 6 18 L 0 25\" fill=\"none\" style=\"stroke:rgb(255.0, 0.0, 81.08083606031792);stroke-width:2\" />  </svg></g><g transform=\"translate(-2,0)\">  <svg x=\"16.91065599899685%\" y=\"40\" height=\"18\" overflow=\"visible\" width=\"30\">    <path d=\"M 0 -9 l 6 18 L 0 25\" fill=\"none\" style=\"stroke:rgb(255.0, 0.0, 81.08083606031792);stroke-width:2\" />  </svg></g><g transform=\"translate(0,0)\">  <svg x=\"11.891864582588196%\" y=\"40\" height=\"18\" overflow=\"visible\" width=\"30\">    <path d=\"M 0 -9 l 6 18 L 0 25\" fill=\"none\" style=\"stroke:rgb(255.0, 0.0, 81.08083606031792);stroke-width:2\" />  </svg></g><g transform=\"translate(2,0)\">  <svg x=\"11.891864582588196%\" y=\"40\" height=\"18\" overflow=\"visible\" width=\"30\">    <path d=\"M 0 -9 l 6 18 L 0 25\" fill=\"none\" style=\"stroke:rgb(255.0, 0.0, 81.08083606031792);stroke-width:2\" />  </svg></g><g transform=\"translate(4,0)\">  <svg x=\"11.891864582588196%\" y=\"40\" height=\"18\" overflow=\"visible\" width=\"30\">    <path d=\"M 0 -9 l 6 18 L 0 25\" fill=\"none\" style=\"stroke:rgb(255.0, 0.0, 81.08083606031792);stroke-width:2\" />  </svg></g><g transform=\"translate(6,0)\">  <svg x=\"11.891864582588196%\" y=\"40\" height=\"18\" overflow=\"visible\" width=\"30\">    <path d=\"M 0 -9 l 6 18 L 0 25\" fill=\"none\" style=\"stroke:rgb(255.0, 0.0, 81.08083606031792);stroke-width:2\" />  </svg></g><g transform=\"translate(-8,0)\">  <svg x=\"11.891864582588196%\" y=\"40\" height=\"18\" overflow=\"visible\" width=\"30\">    <path d=\"M 0 -9 l 6 18 L 0 25\" fill=\"none\" style=\"stroke:rgb(255.0, 0.0, 81.08083606031792);stroke-width:2\" />  </svg></g><g transform=\"translate(-6,0)\">  <svg x=\"11.891864582588196%\" y=\"40\" height=\"18\" overflow=\"visible\" width=\"30\">    <path d=\"M 0 -9 l 6 18 L 0 25\" fill=\"none\" style=\"stroke:rgb(255.0, 0.0, 81.08083606031792);stroke-width:2\" />  </svg></g><g transform=\"translate(-4,0)\">  <svg x=\"11.891864582588196%\" y=\"40\" height=\"18\" overflow=\"visible\" width=\"30\">    <path d=\"M 0 -9 l 6 18 L 0 25\" fill=\"none\" style=\"stroke:rgb(255.0, 0.0, 81.08083606031792);stroke-width:2\" />  </svg></g><g transform=\"translate(-2,0)\">  <svg x=\"11.891864582588196%\" y=\"40\" height=\"18\" overflow=\"visible\" width=\"30\">    <path d=\"M 0 -9 l 6 18 L 0 25\" fill=\"none\" style=\"stroke:rgb(255.0, 0.0, 81.08083606031792);stroke-width:2\" />  </svg></g><g transform=\"translate(0,0)\">  <svg x=\"9.243276154189058%\" y=\"40\" height=\"18\" overflow=\"visible\" width=\"30\">    <path d=\"M 0 -9 l 6 18 L 0 25\" fill=\"none\" style=\"stroke:rgb(255.0, 0.0, 81.08083606031792);stroke-width:2\" />  </svg></g><g transform=\"translate(2,0)\">  <svg x=\"9.243276154189058%\" y=\"40\" height=\"18\" overflow=\"visible\" width=\"30\">    <path d=\"M 0 -9 l 6 18 L 0 25\" fill=\"none\" style=\"stroke:rgb(255.0, 0.0, 81.08083606031792);stroke-width:2\" />  </svg></g><g transform=\"translate(4,0)\">  <svg x=\"9.243276154189058%\" y=\"40\" height=\"18\" overflow=\"visible\" width=\"30\">    <path d=\"M 0 -9 l 6 18 L 0 25\" fill=\"none\" style=\"stroke:rgb(255.0, 0.0, 81.08083606031792);stroke-width:2\" />  </svg></g><g transform=\"translate(6,0)\">  <svg x=\"9.243276154189058%\" y=\"40\" height=\"18\" overflow=\"visible\" width=\"30\">    <path d=\"M 0 -9 l 6 18 L 0 25\" fill=\"none\" style=\"stroke:rgb(255.0, 0.0, 81.08083606031792);stroke-width:2\" />  </svg></g><g transform=\"translate(-8,0)\">  <svg x=\"9.243276154189058%\" y=\"40\" height=\"18\" overflow=\"visible\" width=\"30\">    <path d=\"M 0 -9 l 6 18 L 0 25\" fill=\"none\" style=\"stroke:rgb(255.0, 0.0, 81.08083606031792);stroke-width:2\" />  </svg></g><g transform=\"translate(-6,0)\">  <svg x=\"9.243276154189058%\" y=\"40\" height=\"18\" overflow=\"visible\" width=\"30\">    <path d=\"M 0 -9 l 6 18 L 0 25\" fill=\"none\" style=\"stroke:rgb(255.0, 0.0, 81.08083606031792);stroke-width:2\" />  </svg></g><g transform=\"translate(-4,0)\">  <svg x=\"9.243276154189058%\" y=\"40\" height=\"18\" overflow=\"visible\" width=\"30\">    <path d=\"M 0 -9 l 6 18 L 0 25\" fill=\"none\" style=\"stroke:rgb(255.0, 0.0, 81.08083606031792);stroke-width:2\" />  </svg></g><g transform=\"translate(-2,0)\">  <svg x=\"9.243276154189058%\" y=\"40\" height=\"18\" overflow=\"visible\" width=\"30\">    <path d=\"M 0 -9 l 6 18 L 0 25\" fill=\"none\" style=\"stroke:rgb(255.0, 0.0, 81.08083606031792);stroke-width:2\" />  </svg></g><g transform=\"translate(0,0)\">  <svg x=\"8.333374124938535%\" y=\"40\" height=\"18\" overflow=\"visible\" width=\"30\">    <path d=\"M 0 -9 l 6 18 L 0 25\" fill=\"none\" style=\"stroke:rgb(255.0, 0.0, 81.08083606031792);stroke-width:2\" />  </svg></g><g transform=\"translate(2,0)\">  <svg x=\"8.333374124938535%\" y=\"40\" height=\"18\" overflow=\"visible\" width=\"30\">    <path d=\"M 0 -9 l 6 18 L 0 25\" fill=\"none\" style=\"stroke:rgb(255.0, 0.0, 81.08083606031792);stroke-width:2\" />  </svg></g><g transform=\"translate(4,0)\">  <svg x=\"8.333374124938535%\" y=\"40\" height=\"18\" overflow=\"visible\" width=\"30\">    <path d=\"M 0 -9 l 6 18 L 0 25\" fill=\"none\" style=\"stroke:rgb(255.0, 0.0, 81.08083606031792);stroke-width:2\" />  </svg></g><g transform=\"translate(6,0)\">  <svg x=\"8.333374124938535%\" y=\"40\" height=\"18\" overflow=\"visible\" width=\"30\">    <path d=\"M 0 -9 l 6 18 L 0 25\" fill=\"none\" style=\"stroke:rgb(255.0, 0.0, 81.08083606031792);stroke-width:2\" />  </svg></g><g transform=\"translate(-8,0)\">  <svg x=\"8.333374124938535%\" y=\"40\" height=\"18\" overflow=\"visible\" width=\"30\">    <path d=\"M 0 -9 l 6 18 L 0 25\" fill=\"none\" style=\"stroke:rgb(255.0, 0.0, 81.08083606031792);stroke-width:2\" />  </svg></g><g transform=\"translate(-6,0)\">  <svg x=\"8.333374124938535%\" y=\"40\" height=\"18\" overflow=\"visible\" width=\"30\">    <path d=\"M 0 -9 l 6 18 L 0 25\" fill=\"none\" style=\"stroke:rgb(255.0, 0.0, 81.08083606031792);stroke-width:2\" />  </svg></g><g transform=\"translate(-4,0)\">  <svg x=\"8.333374124938535%\" y=\"40\" height=\"18\" overflow=\"visible\" width=\"30\">    <path d=\"M 0 -9 l 6 18 L 0 25\" fill=\"none\" style=\"stroke:rgb(255.0, 0.0, 81.08083606031792);stroke-width:2\" />  </svg></g><g transform=\"translate(-2,0)\">  <svg x=\"8.333374124938535%\" y=\"40\" height=\"18\" overflow=\"visible\" width=\"30\">    <path d=\"M 0 -9 l 6 18 L 0 25\" fill=\"none\" style=\"stroke:rgb(255.0, 0.0, 81.08083606031792);stroke-width:2\" />  </svg></g><g transform=\"translate(0,0)\">  <svg x=\"8.333354819880068%\" y=\"40\" height=\"18\" overflow=\"visible\" width=\"30\">    <path d=\"M 0 -9 l 6 18 L 0 25\" fill=\"none\" style=\"stroke:rgb(255.0, 0.0, 81.08083606031792);stroke-width:2\" />  </svg></g><g transform=\"translate(2,0)\">  <svg x=\"8.333354819880068%\" y=\"40\" height=\"18\" overflow=\"visible\" width=\"30\">    <path d=\"M 0 -9 l 6 18 L 0 25\" fill=\"none\" style=\"stroke:rgb(255.0, 0.0, 81.08083606031792);stroke-width:2\" />  </svg></g><g transform=\"translate(4,0)\">  <svg x=\"8.333354819880068%\" y=\"40\" height=\"18\" overflow=\"visible\" width=\"30\">    <path d=\"M 0 -9 l 6 18 L 0 25\" fill=\"none\" style=\"stroke:rgb(255.0, 0.0, 81.08083606031792);stroke-width:2\" />  </svg></g><g transform=\"translate(6,0)\">  <svg x=\"8.333354819880068%\" y=\"40\" height=\"18\" overflow=\"visible\" width=\"30\">    <path d=\"M 0 -9 l 6 18 L 0 25\" fill=\"none\" style=\"stroke:rgb(255.0, 0.0, 81.08083606031792);stroke-width:2\" />  </svg></g><g transform=\"translate(-8,0)\">  <svg x=\"8.333354819880068%\" y=\"40\" height=\"18\" overflow=\"visible\" width=\"30\">    <path d=\"M 0 -9 l 6 18 L 0 25\" fill=\"none\" style=\"stroke:rgb(255.0, 0.0, 81.08083606031792);stroke-width:2\" />  </svg></g><g transform=\"translate(-6,0)\">  <svg x=\"8.333354819880068%\" y=\"40\" height=\"18\" overflow=\"visible\" width=\"30\">    <path d=\"M 0 -9 l 6 18 L 0 25\" fill=\"none\" style=\"stroke:rgb(255.0, 0.0, 81.08083606031792);stroke-width:2\" />  </svg></g><g transform=\"translate(-4,0)\">  <svg x=\"8.333354819880068%\" y=\"40\" height=\"18\" overflow=\"visible\" width=\"30\">    <path d=\"M 0 -9 l 6 18 L 0 25\" fill=\"none\" style=\"stroke:rgb(255.0, 0.0, 81.08083606031792);stroke-width:2\" />  </svg></g><g transform=\"translate(-2,0)\">  <svg x=\"8.333354819880068%\" y=\"40\" height=\"18\" overflow=\"visible\" width=\"30\">    <path d=\"M 0 -9 l 6 18 L 0 25\" fill=\"none\" style=\"stroke:rgb(255.0, 0.0, 81.08083606031792);stroke-width:2\" />  </svg></g><g transform=\"translate(0,0)\">  <svg x=\"8.3333355148216%\" y=\"40\" height=\"18\" overflow=\"visible\" width=\"30\">    <path d=\"M 0 -9 l 6 18 L 0 25\" fill=\"none\" style=\"stroke:rgb(255.0, 0.0, 81.08083606031792);stroke-width:2\" />  </svg></g><g transform=\"translate(2,0)\">  <svg x=\"8.3333355148216%\" y=\"40\" height=\"18\" overflow=\"visible\" width=\"30\">    <path d=\"M 0 -9 l 6 18 L 0 25\" fill=\"none\" style=\"stroke:rgb(255.0, 0.0, 81.08083606031792);stroke-width:2\" />  </svg></g><g transform=\"translate(4,0)\">  <svg x=\"8.3333355148216%\" y=\"40\" height=\"18\" overflow=\"visible\" width=\"30\">    <path d=\"M 0 -9 l 6 18 L 0 25\" fill=\"none\" style=\"stroke:rgb(255.0, 0.0, 81.08083606031792);stroke-width:2\" />  </svg></g><g transform=\"translate(6,0)\">  <svg x=\"8.3333355148216%\" y=\"40\" height=\"18\" overflow=\"visible\" width=\"30\">    <path d=\"M 0 -9 l 6 18 L 0 25\" fill=\"none\" style=\"stroke:rgb(255.0, 0.0, 81.08083606031792);stroke-width:2\" />  </svg></g><g transform=\"translate(-8,0)\">  <svg x=\"8.3333355148216%\" y=\"40\" height=\"18\" overflow=\"visible\" width=\"30\">    <path d=\"M 0 -9 l 6 18 L 0 25\" fill=\"none\" style=\"stroke:rgb(255.0, 0.0, 81.08083606031792);stroke-width:2\" />  </svg></g><g transform=\"translate(-6,0)\">  <svg x=\"8.3333355148216%\" y=\"40\" height=\"18\" overflow=\"visible\" width=\"30\">    <path d=\"M 0 -9 l 6 18 L 0 25\" fill=\"none\" style=\"stroke:rgb(255.0, 0.0, 81.08083606031792);stroke-width:2\" />  </svg></g><g transform=\"translate(-4,0)\">  <svg x=\"8.3333355148216%\" y=\"40\" height=\"18\" overflow=\"visible\" width=\"30\">    <path d=\"M 0 -9 l 6 18 L 0 25\" fill=\"none\" style=\"stroke:rgb(255.0, 0.0, 81.08083606031792);stroke-width:2\" />  </svg></g><g transform=\"translate(-2,0)\">  <svg x=\"8.3333355148216%\" y=\"40\" height=\"18\" overflow=\"visible\" width=\"30\">    <path d=\"M 0 -9 l 6 18 L 0 25\" fill=\"none\" style=\"stroke:rgb(255.0, 0.0, 81.08083606031792);stroke-width:2\" />  </svg></g><rect transform=\"translate(-8,0)\" x=\"29.993882648293276%\" y=\"40\" width=\"8\" height=\"18\" style=\"fill:rgb(255.0, 0.0, 81.08083606031792)\"/><g transform=\"translate(-11.5,0)\">  <svg x=\"8.333333321064957%\" y=\"40\" height=\"18\" overflow=\"visible\" width=\"30\">    <path d=\"M 10 -9 l 6 18 L 10 25 L 0 25 L 0 -9\" fill=\"#ffffff\" style=\"stroke:rgb(255,255,255);stroke-width:2\" />  </svg></g><g transform=\"translate(-1.5,0)\">  <svg x=\"29.993882648293276%\" y=\"40\" height=\"18\" overflow=\"visible\" width=\"30\">    <path d=\"M 0 -9 l 6 18 L 0 25\" fill=\"none\" style=\"stroke:rgb(255, 195, 213);stroke-width:2\" />  </svg></g><rect x=\"22.87838539632039%\" y=\"40\" height=\"20\" width=\"7.1154972519728865%\"      onmouseover=\"document.getElementById('_tp_zqorvufaigfywirkxlgg_ind_10').style.textDecoration = 'underline';document.getElementById('_fs_zqorvufaigfywirkxlgg_ind_10').style.opacity = 1;document.getElementById('_fb_zqorvufaigfywirkxlgg_ind_10').style.opacity = 1;\"      onmouseout=\"document.getElementById('_tp_zqorvufaigfywirkxlgg_ind_10').style.textDecoration = 'none';document.getElementById('_fs_zqorvufaigfywirkxlgg_ind_10').style.opacity = 0;document.getElementById('_fb_zqorvufaigfywirkxlgg_ind_10').style.opacity = 0;\" style=\"fill:rgb(0,0,0,0)\" /><g transform=\"translate(-1.5,0)\">  <svg x=\"22.87838539632039%\" y=\"40\" height=\"18\" overflow=\"visible\" width=\"30\">    <path d=\"M 0 -9 l 6 18 L 0 25\" fill=\"none\" style=\"stroke:rgb(255, 195, 213);stroke-width:2\" />  </svg></g><rect x=\"16.91065599899685%\" y=\"40\" height=\"20\" width=\"5.967729397323538%\"      onmouseover=\"document.getElementById('_tp_zqorvufaigfywirkxlgg_ind_9').style.textDecoration = 'underline';document.getElementById('_fs_zqorvufaigfywirkxlgg_ind_9').style.opacity = 1;document.getElementById('_fb_zqorvufaigfywirkxlgg_ind_9').style.opacity = 1;\"      onmouseout=\"document.getElementById('_tp_zqorvufaigfywirkxlgg_ind_9').style.textDecoration = 'none';document.getElementById('_fs_zqorvufaigfywirkxlgg_ind_9').style.opacity = 0;document.getElementById('_fb_zqorvufaigfywirkxlgg_ind_9').style.opacity = 0;\" style=\"fill:rgb(0,0,0,0)\" /><g transform=\"translate(-1.5,0)\">  <svg x=\"16.91065599899685%\" y=\"40\" height=\"18\" overflow=\"visible\" width=\"30\">    <path d=\"M 0 -9 l 6 18 L 0 25\" fill=\"none\" style=\"stroke:rgb(255, 195, 213);stroke-width:2\" />  </svg></g><rect x=\"11.891864582588196%\" y=\"40\" height=\"20\" width=\"5.018791416408655%\"      onmouseover=\"document.getElementById('_tp_zqorvufaigfywirkxlgg_ind_1').style.textDecoration = 'underline';document.getElementById('_fs_zqorvufaigfywirkxlgg_ind_1').style.opacity = 1;document.getElementById('_fb_zqorvufaigfywirkxlgg_ind_1').style.opacity = 1;\"      onmouseout=\"document.getElementById('_tp_zqorvufaigfywirkxlgg_ind_1').style.textDecoration = 'none';document.getElementById('_fs_zqorvufaigfywirkxlgg_ind_1').style.opacity = 0;document.getElementById('_fb_zqorvufaigfywirkxlgg_ind_1').style.opacity = 0;\" style=\"fill:rgb(0,0,0,0)\" /><g transform=\"translate(-1.5,0)\">  <svg x=\"11.891864582588196%\" y=\"40\" height=\"18\" overflow=\"visible\" width=\"30\">    <path d=\"M 0 -9 l 6 18 L 0 25\" fill=\"none\" style=\"stroke:rgb(255, 195, 213);stroke-width:2\" />  </svg></g><rect x=\"9.243276154189058%\" y=\"40\" height=\"20\" width=\"2.6485884283991386%\"      onmouseover=\"document.getElementById('_tp_zqorvufaigfywirkxlgg_ind_14').style.textDecoration = 'underline';document.getElementById('_fs_zqorvufaigfywirkxlgg_ind_14').style.opacity = 1;document.getElementById('_fb_zqorvufaigfywirkxlgg_ind_14').style.opacity = 1;\"      onmouseout=\"document.getElementById('_tp_zqorvufaigfywirkxlgg_ind_14').style.textDecoration = 'none';document.getElementById('_fs_zqorvufaigfywirkxlgg_ind_14').style.opacity = 0;document.getElementById('_fb_zqorvufaigfywirkxlgg_ind_14').style.opacity = 0;\" style=\"fill:rgb(0,0,0,0)\" /><g transform=\"translate(-1.5,0)\">  <svg x=\"9.243276154189058%\" y=\"40\" height=\"18\" overflow=\"visible\" width=\"30\">    <path d=\"M 0 -9 l 6 18 L 0 25\" fill=\"none\" style=\"stroke:rgb(255, 195, 213);stroke-width:2\" />  </svg></g><rect x=\"8.333374124938535%\" y=\"40\" height=\"20\" width=\"0.9099020292505227%\"      onmouseover=\"document.getElementById('_tp_zqorvufaigfywirkxlgg_ind_2').style.textDecoration = 'underline';document.getElementById('_fs_zqorvufaigfywirkxlgg_ind_2').style.opacity = 1;document.getElementById('_fb_zqorvufaigfywirkxlgg_ind_2').style.opacity = 1;\"      onmouseout=\"document.getElementById('_tp_zqorvufaigfywirkxlgg_ind_2').style.textDecoration = 'none';document.getElementById('_fs_zqorvufaigfywirkxlgg_ind_2').style.opacity = 0;document.getElementById('_fb_zqorvufaigfywirkxlgg_ind_2').style.opacity = 0;\" style=\"fill:rgb(0,0,0,0)\" /><g transform=\"translate(-1.5,0)\">  <svg x=\"8.333374124938535%\" y=\"40\" height=\"18\" overflow=\"visible\" width=\"30\">    <path d=\"M 0 -9 l 6 18 L 0 25\" fill=\"none\" style=\"stroke:rgb(255, 195, 213);stroke-width:2\" />  </svg></g><rect x=\"8.333354819880068%\" y=\"40\" height=\"20\" width=\"1.9305058467367076e-05%\"      onmouseover=\"document.getElementById('_tp_zqorvufaigfywirkxlgg_ind_16').style.textDecoration = 'underline';document.getElementById('_fs_zqorvufaigfywirkxlgg_ind_16').style.opacity = 1;document.getElementById('_fb_zqorvufaigfywirkxlgg_ind_16').style.opacity = 1;\"      onmouseout=\"document.getElementById('_tp_zqorvufaigfywirkxlgg_ind_16').style.textDecoration = 'none';document.getElementById('_fs_zqorvufaigfywirkxlgg_ind_16').style.opacity = 0;document.getElementById('_fb_zqorvufaigfywirkxlgg_ind_16').style.opacity = 0;\" style=\"fill:rgb(0,0,0,0)\" /><g transform=\"translate(-1.5,0)\">  <svg x=\"8.333354819880068%\" y=\"40\" height=\"18\" overflow=\"visible\" width=\"30\">    <path d=\"M 0 -9 l 6 18 L 0 25\" fill=\"none\" style=\"stroke:rgb(255, 195, 213);stroke-width:2\" />  </svg></g><rect x=\"8.3333355148216%\" y=\"40\" height=\"20\" width=\"1.9305058467367076e-05%\"      onmouseover=\"document.getElementById('_tp_zqorvufaigfywirkxlgg_ind_15').style.textDecoration = 'underline';document.getElementById('_fs_zqorvufaigfywirkxlgg_ind_15').style.opacity = 1;document.getElementById('_fb_zqorvufaigfywirkxlgg_ind_15').style.opacity = 1;\"      onmouseout=\"document.getElementById('_tp_zqorvufaigfywirkxlgg_ind_15').style.textDecoration = 'none';document.getElementById('_fs_zqorvufaigfywirkxlgg_ind_15').style.opacity = 0;document.getElementById('_fb_zqorvufaigfywirkxlgg_ind_15').style.opacity = 0;\" style=\"fill:rgb(0,0,0,0)\" /><rect x=\"8.333333321064957%\" y=\"40\" height=\"20\" width=\"2.193756643009692e-06%\"      onmouseover=\"document.getElementById('_tp_zqorvufaigfywirkxlgg_ind_0').style.textDecoration = 'underline';document.getElementById('_fs_zqorvufaigfywirkxlgg_ind_0').style.opacity = 1;document.getElementById('_fb_zqorvufaigfywirkxlgg_ind_0').style.opacity = 1;\"      onmouseout=\"document.getElementById('_tp_zqorvufaigfywirkxlgg_ind_0').style.textDecoration = 'none';document.getElementById('_fs_zqorvufaigfywirkxlgg_ind_0').style.opacity = 0;document.getElementById('_fb_zqorvufaigfywirkxlgg_ind_0').style.opacity = 0;\" style=\"fill:rgb(0,0,0,0)\" /><rect x=\"29.993882648293276%\" width=\"61.67278388342125%\" y=\"40\" height=\"18\" style=\"fill:rgb(0.0, 138.56128015770727, 250.76166088685727); stroke-width:0; stroke:rgb(0,0,0)\" /><line x1=\"29.993882648293276%\" x2=\"44.48154004347542%\" y1=\"60\" y2=\"60\" id=\"_fb_zqorvufaigfywirkxlgg_ind_4\" style=\"stroke:rgb(0.0, 138.56128015770727, 250.76166088685727);stroke-width:2; opacity: 0\"/><text x=\"37.23771134588435%\" y=\"71\" font-size=\"12px\" fill=\"rgb(0.0, 138.56128015770727, 250.76166088685727)\" id=\"_fs_zqorvufaigfywirkxlgg_ind_4\" style=\"opacity: 0\" dominant-baseline=\"middle\" text-anchor=\"middle\">-0.984</text><svg x=\"29.993882648293276%\" y=\"40\" height=\"20\" width=\"14.487657395182143%\">  <svg x=\"0\" y=\"0\" width=\"100%\" height=\"100%\">    <text x=\"50%\" y=\"9\" font-size=\"12px\" fill=\"rgb(255,255,255)\" dominant-baseline=\"middle\" text-anchor=\"middle\">lovely</text>  </svg></svg><line x1=\"44.48154004347542%\" x2=\"58.10270656190028%\" y1=\"60\" y2=\"60\" id=\"_fb_zqorvufaigfywirkxlgg_ind_7\" style=\"stroke:rgb(0.0, 138.56128015770727, 250.76166088685727);stroke-width:2; opacity: 0\"/><text x=\"51.29212330268785%\" y=\"71\" font-size=\"12px\" fill=\"rgb(0.0, 138.56128015770727, 250.76166088685727)\" id=\"_fs_zqorvufaigfywirkxlgg_ind_7\" style=\"opacity: 0\" dominant-baseline=\"middle\" text-anchor=\"middle\">-0.925</text><svg x=\"44.48154004347542%\" y=\"40\" height=\"20\" width=\"13.621166518424857%\">  <svg x=\"0\" y=\"0\" width=\"100%\" height=\"100%\">    <text x=\"50%\" y=\"9\" font-size=\"12px\" fill=\"rgb(255,255,255)\" dominant-baseline=\"middle\" text-anchor=\"middle\">lovely</text>  </svg></svg><line x1=\"58.10270656190028%\" x2=\"66.46372508067259%\" y1=\"60\" y2=\"60\" id=\"_fb_zqorvufaigfywirkxlgg_ind_5\" style=\"stroke:rgb(0.0, 138.56128015770727, 250.76166088685727);stroke-width:2; opacity: 0\"/><text x=\"62.28321582128643%\" y=\"71\" font-size=\"12px\" fill=\"rgb(0.0, 138.56128015770727, 250.76166088685727)\" id=\"_fs_zqorvufaigfywirkxlgg_ind_5\" style=\"opacity: 0\" dominant-baseline=\"middle\" text-anchor=\"middle\">-0.568</text><svg x=\"58.10270656190028%\" y=\"40\" height=\"20\" width=\"8.361018518772312%\">  <svg x=\"0\" y=\"0\" width=\"100%\" height=\"100%\">    <text x=\"50%\" y=\"9\" font-size=\"12px\" fill=\"rgb(255,255,255)\" dominant-baseline=\"middle\" text-anchor=\"middle\">film</text>  </svg></svg><line x1=\"66.46372508067259%\" x2=\"73.56344604142784%\" y1=\"60\" y2=\"60\" id=\"_fb_zqorvufaigfywirkxlgg_ind_8\" style=\"stroke:rgb(0.0, 138.56128015770727, 250.76166088685727);stroke-width:2; opacity: 0\"/><text x=\"70.0135855610502%\" y=\"71\" font-size=\"12px\" fill=\"rgb(0.0, 138.56128015770727, 250.76166088685727)\" id=\"_fs_zqorvufaigfywirkxlgg_ind_8\" style=\"opacity: 0\" dominant-baseline=\"middle\" text-anchor=\"middle\">-0.482</text><svg x=\"66.46372508067259%\" y=\"40\" height=\"20\" width=\"7.099720960755249%\">  <svg x=\"0\" y=\"0\" width=\"100%\" height=\"100%\">    <text x=\"50%\" y=\"9\" font-size=\"12px\" fill=\"rgb(255,255,255)\" dominant-baseline=\"middle\" text-anchor=\"middle\">performances</text>  </svg></svg><line x1=\"73.56344604142784%\" x2=\"79.29625994267612%\" y1=\"60\" y2=\"60\" id=\"_fb_zqorvufaigfywirkxlgg_ind_12\" style=\"stroke:rgb(0.0, 138.56128015770727, 250.76166088685727);stroke-width:2; opacity: 0\"/><text x=\"76.42985299205198%\" y=\"71\" font-size=\"12px\" fill=\"rgb(0.0, 138.56128015770727, 250.76166088685727)\" id=\"_fs_zqorvufaigfywirkxlgg_ind_12\" style=\"opacity: 0\" dominant-baseline=\"middle\" text-anchor=\"middle\">-0.389</text><svg x=\"73.56344604142784%\" y=\"40\" height=\"20\" width=\"5.732813901248278%\">  <svg x=\"0\" y=\"0\" width=\"100%\" height=\"100%\">    <text x=\"50%\" y=\"9\" font-size=\"12px\" fill=\"rgb(255,255,255)\" dominant-baseline=\"middle\" text-anchor=\"middle\">acc</text>  </svg></svg><line x1=\"79.29625994267612%\" x2=\"84.1416596849682%\" y1=\"60\" y2=\"60\" id=\"_fb_zqorvufaigfywirkxlgg_ind_3\" style=\"stroke:rgb(0.0, 138.56128015770727, 250.76166088685727);stroke-width:2; opacity: 0\"/><text x=\"81.71895981382215%\" y=\"71\" font-size=\"12px\" fill=\"rgb(0.0, 138.56128015770727, 250.76166088685727)\" id=\"_fs_zqorvufaigfywirkxlgg_ind_3\" style=\"opacity: 0\" dominant-baseline=\"middle\" text-anchor=\"middle\">-0.329</text><svg x=\"79.29625994267612%\" y=\"40\" height=\"20\" width=\"4.845399742292088%\">  <svg x=\"0\" y=\"0\" width=\"100%\" height=\"100%\">    <text x=\"50%\" y=\"9\" font-size=\"12px\" fill=\"rgb(255,255,255)\" dominant-baseline=\"middle\" text-anchor=\"middle\">a</text>  </svg></svg><line x1=\"84.1416596849682%\" x2=\"87.86038018179494%\" y1=\"60\" y2=\"60\" id=\"_fb_zqorvufaigfywirkxlgg_ind_13\" style=\"stroke:rgb(0.0, 138.56128015770727, 250.76166088685727);stroke-width:2; opacity: 0\"/><text x=\"86.00101993338157%\" y=\"71\" font-size=\"12px\" fill=\"rgb(0.0, 138.56128015770727, 250.76166088685727)\" id=\"_fs_zqorvufaigfywirkxlgg_ind_13\" style=\"opacity: 0\" dominant-baseline=\"middle\" text-anchor=\"middle\">-0.253</text><svg x=\"84.1416596849682%\" y=\"40\" height=\"20\" width=\"3.718720496826734%\">  <svg x=\"0\" y=\"0\" width=\"100%\" height=\"100%\">    <text x=\"50%\" y=\"9\" font-size=\"12px\" fill=\"rgb(255,255,255)\" dominant-baseline=\"middle\" text-anchor=\"middle\">ors</text>  </svg></svg><line x1=\"87.86038018179494%\" x2=\"89.9781603422738%\" y1=\"60\" y2=\"60\" id=\"_fb_zqorvufaigfywirkxlgg_ind_6\" style=\"stroke:rgb(0.0, 138.56128015770727, 250.76166088685727);stroke-width:2; opacity: 0\"/><text x=\"88.91927026203436%\" y=\"71\" font-size=\"12px\" fill=\"rgb(0.0, 138.56128015770727, 250.76166088685727)\" id=\"_fs_zqorvufaigfywirkxlgg_ind_6\" style=\"opacity: 0\" dominant-baseline=\"middle\" text-anchor=\"middle\">-0.144</text><svg x=\"87.86038018179494%\" y=\"40\" height=\"20\" width=\"2.1177801604788584%\">  <svg x=\"0\" y=\"0\" width=\"100%\" height=\"100%\">    <text x=\"50%\" y=\"9\" font-size=\"12px\" fill=\"rgb(255,255,255)\" dominant-baseline=\"middle\" text-anchor=\"middle\">with</text>  </svg></svg><line x1=\"89.9781603422738%\" x2=\"91.66666653171453%\" y1=\"60\" y2=\"60\" id=\"_fb_zqorvufaigfywirkxlgg_ind_11\" style=\"stroke:rgb(0.0, 138.56128015770727, 250.76166088685727);stroke-width:2; opacity: 0\"/><text x=\"90.82241343699417%\" y=\"71\" font-size=\"12px\" fill=\"rgb(0.0, 138.56128015770727, 250.76166088685727)\" id=\"_fs_zqorvufaigfywirkxlgg_ind_11\" style=\"opacity: 0\" dominant-baseline=\"middle\" text-anchor=\"middle\">-0.115</text><svg x=\"89.9781603422738%\" y=\"40\" height=\"20\" width=\"1.68850618944073%\">  <svg x=\"0\" y=\"0\" width=\"100%\" height=\"100%\">    <text x=\"50%\" y=\"9\" font-size=\"12px\" fill=\"rgb(255,255,255)\" dominant-baseline=\"middle\" text-anchor=\"middle\">and</text>  </svg></svg><g transform=\"translate(-8,0)\">  <svg x=\"44.48154004347542%\" y=\"40\" height=\"18\" overflow=\"visible\" width=\"30\">    <path d=\"M 8 -9 l -6 18 L 8 25\" fill=\"none\" style=\"stroke:rgb(0.0, 138.56128015770727, 250.76166088685727);stroke-width:2\" />  </svg></g><g transform=\"translate(-10,0)\">  <svg x=\"44.48154004347542%\" y=\"40\" height=\"18\" overflow=\"visible\" width=\"30\">    <path d=\"M 8 -9 l -6 18 L 8 25\" fill=\"none\" style=\"stroke:rgb(0.0, 138.56128015770727, 250.76166088685727);stroke-width:2\" />  </svg></g><g transform=\"translate(-12,0)\">  <svg x=\"44.48154004347542%\" y=\"40\" height=\"18\" overflow=\"visible\" width=\"30\">    <path d=\"M 8 -9 l -6 18 L 8 25\" fill=\"none\" style=\"stroke:rgb(0.0, 138.56128015770727, 250.76166088685727);stroke-width:2\" />  </svg></g><g transform=\"translate(-14,0)\">  <svg x=\"44.48154004347542%\" y=\"40\" height=\"18\" overflow=\"visible\" width=\"30\">    <path d=\"M 8 -9 l -6 18 L 8 25\" fill=\"none\" style=\"stroke:rgb(0.0, 138.56128015770727, 250.76166088685727);stroke-width:2\" />  </svg></g><g transform=\"translate(2,0)\">  <svg x=\"44.48154004347542%\" y=\"40\" height=\"18\" overflow=\"visible\" width=\"30\">    <path d=\"M 8 -9 l -6 18 L 8 25\" fill=\"none\" style=\"stroke:rgb(0.0, 138.56128015770727, 250.76166088685727);stroke-width:2\" />  </svg></g><g transform=\"translate(0,0)\">  <svg x=\"44.48154004347542%\" y=\"40\" height=\"18\" overflow=\"visible\" width=\"30\">    <path d=\"M 8 -9 l -6 18 L 8 25\" fill=\"none\" style=\"stroke:rgb(0.0, 138.56128015770727, 250.76166088685727);stroke-width:2\" />  </svg></g><g transform=\"translate(-2,0)\">  <svg x=\"44.48154004347542%\" y=\"40\" height=\"18\" overflow=\"visible\" width=\"30\">    <path d=\"M 8 -9 l -6 18 L 8 25\" fill=\"none\" style=\"stroke:rgb(0.0, 138.56128015770727, 250.76166088685727);stroke-width:2\" />  </svg></g><g transform=\"translate(-4,0)\">  <svg x=\"44.48154004347542%\" y=\"40\" height=\"18\" overflow=\"visible\" width=\"30\">    <path d=\"M 8 -9 l -6 18 L 8 25\" fill=\"none\" style=\"stroke:rgb(0.0, 138.56128015770727, 250.76166088685727);stroke-width:2\" />  </svg></g><g transform=\"translate(-8,0)\">  <svg x=\"58.10270656190028%\" y=\"40\" height=\"18\" overflow=\"visible\" width=\"30\">    <path d=\"M 8 -9 l -6 18 L 8 25\" fill=\"none\" style=\"stroke:rgb(0.0, 138.56128015770727, 250.76166088685727);stroke-width:2\" />  </svg></g><g transform=\"translate(-10,0)\">  <svg x=\"58.10270656190028%\" y=\"40\" height=\"18\" overflow=\"visible\" width=\"30\">    <path d=\"M 8 -9 l -6 18 L 8 25\" fill=\"none\" style=\"stroke:rgb(0.0, 138.56128015770727, 250.76166088685727);stroke-width:2\" />  </svg></g><g transform=\"translate(-12,0)\">  <svg x=\"58.10270656190028%\" y=\"40\" height=\"18\" overflow=\"visible\" width=\"30\">    <path d=\"M 8 -9 l -6 18 L 8 25\" fill=\"none\" style=\"stroke:rgb(0.0, 138.56128015770727, 250.76166088685727);stroke-width:2\" />  </svg></g><g transform=\"translate(-14,0)\">  <svg x=\"58.10270656190028%\" y=\"40\" height=\"18\" overflow=\"visible\" width=\"30\">    <path d=\"M 8 -9 l -6 18 L 8 25\" fill=\"none\" style=\"stroke:rgb(0.0, 138.56128015770727, 250.76166088685727);stroke-width:2\" />  </svg></g><g transform=\"translate(2,0)\">  <svg x=\"58.10270656190028%\" y=\"40\" height=\"18\" overflow=\"visible\" width=\"30\">    <path d=\"M 8 -9 l -6 18 L 8 25\" fill=\"none\" style=\"stroke:rgb(0.0, 138.56128015770727, 250.76166088685727);stroke-width:2\" />  </svg></g><g transform=\"translate(0,0)\">  <svg x=\"58.10270656190028%\" y=\"40\" height=\"18\" overflow=\"visible\" width=\"30\">    <path d=\"M 8 -9 l -6 18 L 8 25\" fill=\"none\" style=\"stroke:rgb(0.0, 138.56128015770727, 250.76166088685727);stroke-width:2\" />  </svg></g><g transform=\"translate(-2,0)\">  <svg x=\"58.10270656190028%\" y=\"40\" height=\"18\" overflow=\"visible\" width=\"30\">    <path d=\"M 8 -9 l -6 18 L 8 25\" fill=\"none\" style=\"stroke:rgb(0.0, 138.56128015770727, 250.76166088685727);stroke-width:2\" />  </svg></g><g transform=\"translate(-4,0)\">  <svg x=\"58.10270656190028%\" y=\"40\" height=\"18\" overflow=\"visible\" width=\"30\">    <path d=\"M 8 -9 l -6 18 L 8 25\" fill=\"none\" style=\"stroke:rgb(0.0, 138.56128015770727, 250.76166088685727);stroke-width:2\" />  </svg></g><g transform=\"translate(-8,0)\">  <svg x=\"66.46372508067259%\" y=\"40\" height=\"18\" overflow=\"visible\" width=\"30\">    <path d=\"M 8 -9 l -6 18 L 8 25\" fill=\"none\" style=\"stroke:rgb(0.0, 138.56128015770727, 250.76166088685727);stroke-width:2\" />  </svg></g><g transform=\"translate(-10,0)\">  <svg x=\"66.46372508067259%\" y=\"40\" height=\"18\" overflow=\"visible\" width=\"30\">    <path d=\"M 8 -9 l -6 18 L 8 25\" fill=\"none\" style=\"stroke:rgb(0.0, 138.56128015770727, 250.76166088685727);stroke-width:2\" />  </svg></g><g transform=\"translate(-12,0)\">  <svg x=\"66.46372508067259%\" y=\"40\" height=\"18\" overflow=\"visible\" width=\"30\">    <path d=\"M 8 -9 l -6 18 L 8 25\" fill=\"none\" style=\"stroke:rgb(0.0, 138.56128015770727, 250.76166088685727);stroke-width:2\" />  </svg></g><g transform=\"translate(-14,0)\">  <svg x=\"66.46372508067259%\" y=\"40\" height=\"18\" overflow=\"visible\" width=\"30\">    <path d=\"M 8 -9 l -6 18 L 8 25\" fill=\"none\" style=\"stroke:rgb(0.0, 138.56128015770727, 250.76166088685727);stroke-width:2\" />  </svg></g><g transform=\"translate(2,0)\">  <svg x=\"66.46372508067259%\" y=\"40\" height=\"18\" overflow=\"visible\" width=\"30\">    <path d=\"M 8 -9 l -6 18 L 8 25\" fill=\"none\" style=\"stroke:rgb(0.0, 138.56128015770727, 250.76166088685727);stroke-width:2\" />  </svg></g><g transform=\"translate(0,0)\">  <svg x=\"66.46372508067259%\" y=\"40\" height=\"18\" overflow=\"visible\" width=\"30\">    <path d=\"M 8 -9 l -6 18 L 8 25\" fill=\"none\" style=\"stroke:rgb(0.0, 138.56128015770727, 250.76166088685727);stroke-width:2\" />  </svg></g><g transform=\"translate(-2,0)\">  <svg x=\"66.46372508067259%\" y=\"40\" height=\"18\" overflow=\"visible\" width=\"30\">    <path d=\"M 8 -9 l -6 18 L 8 25\" fill=\"none\" style=\"stroke:rgb(0.0, 138.56128015770727, 250.76166088685727);stroke-width:2\" />  </svg></g><g transform=\"translate(-4,0)\">  <svg x=\"66.46372508067259%\" y=\"40\" height=\"18\" overflow=\"visible\" width=\"30\">    <path d=\"M 8 -9 l -6 18 L 8 25\" fill=\"none\" style=\"stroke:rgb(0.0, 138.56128015770727, 250.76166088685727);stroke-width:2\" />  </svg></g><g transform=\"translate(-8,0)\">  <svg x=\"73.56344604142784%\" y=\"40\" height=\"18\" overflow=\"visible\" width=\"30\">    <path d=\"M 8 -9 l -6 18 L 8 25\" fill=\"none\" style=\"stroke:rgb(0.0, 138.56128015770727, 250.76166088685727);stroke-width:2\" />  </svg></g><g transform=\"translate(-10,0)\">  <svg x=\"73.56344604142784%\" y=\"40\" height=\"18\" overflow=\"visible\" width=\"30\">    <path d=\"M 8 -9 l -6 18 L 8 25\" fill=\"none\" style=\"stroke:rgb(0.0, 138.56128015770727, 250.76166088685727);stroke-width:2\" />  </svg></g><g transform=\"translate(-12,0)\">  <svg x=\"73.56344604142784%\" y=\"40\" height=\"18\" overflow=\"visible\" width=\"30\">    <path d=\"M 8 -9 l -6 18 L 8 25\" fill=\"none\" style=\"stroke:rgb(0.0, 138.56128015770727, 250.76166088685727);stroke-width:2\" />  </svg></g><g transform=\"translate(-14,0)\">  <svg x=\"73.56344604142784%\" y=\"40\" height=\"18\" overflow=\"visible\" width=\"30\">    <path d=\"M 8 -9 l -6 18 L 8 25\" fill=\"none\" style=\"stroke:rgb(0.0, 138.56128015770727, 250.76166088685727);stroke-width:2\" />  </svg></g><g transform=\"translate(2,0)\">  <svg x=\"73.56344604142784%\" y=\"40\" height=\"18\" overflow=\"visible\" width=\"30\">    <path d=\"M 8 -9 l -6 18 L 8 25\" fill=\"none\" style=\"stroke:rgb(0.0, 138.56128015770727, 250.76166088685727);stroke-width:2\" />  </svg></g><g transform=\"translate(0,0)\">  <svg x=\"73.56344604142784%\" y=\"40\" height=\"18\" overflow=\"visible\" width=\"30\">    <path d=\"M 8 -9 l -6 18 L 8 25\" fill=\"none\" style=\"stroke:rgb(0.0, 138.56128015770727, 250.76166088685727);stroke-width:2\" />  </svg></g><g transform=\"translate(-2,0)\">  <svg x=\"73.56344604142784%\" y=\"40\" height=\"18\" overflow=\"visible\" width=\"30\">    <path d=\"M 8 -9 l -6 18 L 8 25\" fill=\"none\" style=\"stroke:rgb(0.0, 138.56128015770727, 250.76166088685727);stroke-width:2\" />  </svg></g><g transform=\"translate(-4,0)\">  <svg x=\"73.56344604142784%\" y=\"40\" height=\"18\" overflow=\"visible\" width=\"30\">    <path d=\"M 8 -9 l -6 18 L 8 25\" fill=\"none\" style=\"stroke:rgb(0.0, 138.56128015770727, 250.76166088685727);stroke-width:2\" />  </svg></g><g transform=\"translate(-8,0)\">  <svg x=\"79.29625994267612%\" y=\"40\" height=\"18\" overflow=\"visible\" width=\"30\">    <path d=\"M 8 -9 l -6 18 L 8 25\" fill=\"none\" style=\"stroke:rgb(0.0, 138.56128015770727, 250.76166088685727);stroke-width:2\" />  </svg></g><g transform=\"translate(-10,0)\">  <svg x=\"79.29625994267612%\" y=\"40\" height=\"18\" overflow=\"visible\" width=\"30\">    <path d=\"M 8 -9 l -6 18 L 8 25\" fill=\"none\" style=\"stroke:rgb(0.0, 138.56128015770727, 250.76166088685727);stroke-width:2\" />  </svg></g><g transform=\"translate(-12,0)\">  <svg x=\"79.29625994267612%\" y=\"40\" height=\"18\" overflow=\"visible\" width=\"30\">    <path d=\"M 8 -9 l -6 18 L 8 25\" fill=\"none\" style=\"stroke:rgb(0.0, 138.56128015770727, 250.76166088685727);stroke-width:2\" />  </svg></g><g transform=\"translate(-14,0)\">  <svg x=\"79.29625994267612%\" y=\"40\" height=\"18\" overflow=\"visible\" width=\"30\">    <path d=\"M 8 -9 l -6 18 L 8 25\" fill=\"none\" style=\"stroke:rgb(0.0, 138.56128015770727, 250.76166088685727);stroke-width:2\" />  </svg></g><g transform=\"translate(2,0)\">  <svg x=\"79.29625994267612%\" y=\"40\" height=\"18\" overflow=\"visible\" width=\"30\">    <path d=\"M 8 -9 l -6 18 L 8 25\" fill=\"none\" style=\"stroke:rgb(0.0, 138.56128015770727, 250.76166088685727);stroke-width:2\" />  </svg></g><g transform=\"translate(0,0)\">  <svg x=\"79.29625994267612%\" y=\"40\" height=\"18\" overflow=\"visible\" width=\"30\">    <path d=\"M 8 -9 l -6 18 L 8 25\" fill=\"none\" style=\"stroke:rgb(0.0, 138.56128015770727, 250.76166088685727);stroke-width:2\" />  </svg></g><g transform=\"translate(-2,0)\">  <svg x=\"79.29625994267612%\" y=\"40\" height=\"18\" overflow=\"visible\" width=\"30\">    <path d=\"M 8 -9 l -6 18 L 8 25\" fill=\"none\" style=\"stroke:rgb(0.0, 138.56128015770727, 250.76166088685727);stroke-width:2\" />  </svg></g><g transform=\"translate(-4,0)\">  <svg x=\"79.29625994267612%\" y=\"40\" height=\"18\" overflow=\"visible\" width=\"30\">    <path d=\"M 8 -9 l -6 18 L 8 25\" fill=\"none\" style=\"stroke:rgb(0.0, 138.56128015770727, 250.76166088685727);stroke-width:2\" />  </svg></g><g transform=\"translate(-8,0)\">  <svg x=\"84.1416596849682%\" y=\"40\" height=\"18\" overflow=\"visible\" width=\"30\">    <path d=\"M 8 -9 l -6 18 L 8 25\" fill=\"none\" style=\"stroke:rgb(0.0, 138.56128015770727, 250.76166088685727);stroke-width:2\" />  </svg></g><g transform=\"translate(-10,0)\">  <svg x=\"84.1416596849682%\" y=\"40\" height=\"18\" overflow=\"visible\" width=\"30\">    <path d=\"M 8 -9 l -6 18 L 8 25\" fill=\"none\" style=\"stroke:rgb(0.0, 138.56128015770727, 250.76166088685727);stroke-width:2\" />  </svg></g><g transform=\"translate(-12,0)\">  <svg x=\"84.1416596849682%\" y=\"40\" height=\"18\" overflow=\"visible\" width=\"30\">    <path d=\"M 8 -9 l -6 18 L 8 25\" fill=\"none\" style=\"stroke:rgb(0.0, 138.56128015770727, 250.76166088685727);stroke-width:2\" />  </svg></g><g transform=\"translate(-14,0)\">  <svg x=\"84.1416596849682%\" y=\"40\" height=\"18\" overflow=\"visible\" width=\"30\">    <path d=\"M 8 -9 l -6 18 L 8 25\" fill=\"none\" style=\"stroke:rgb(0.0, 138.56128015770727, 250.76166088685727);stroke-width:2\" />  </svg></g><g transform=\"translate(2,0)\">  <svg x=\"84.1416596849682%\" y=\"40\" height=\"18\" overflow=\"visible\" width=\"30\">    <path d=\"M 8 -9 l -6 18 L 8 25\" fill=\"none\" style=\"stroke:rgb(0.0, 138.56128015770727, 250.76166088685727);stroke-width:2\" />  </svg></g><g transform=\"translate(0,0)\">  <svg x=\"84.1416596849682%\" y=\"40\" height=\"18\" overflow=\"visible\" width=\"30\">    <path d=\"M 8 -9 l -6 18 L 8 25\" fill=\"none\" style=\"stroke:rgb(0.0, 138.56128015770727, 250.76166088685727);stroke-width:2\" />  </svg></g><g transform=\"translate(-2,0)\">  <svg x=\"84.1416596849682%\" y=\"40\" height=\"18\" overflow=\"visible\" width=\"30\">    <path d=\"M 8 -9 l -6 18 L 8 25\" fill=\"none\" style=\"stroke:rgb(0.0, 138.56128015770727, 250.76166088685727);stroke-width:2\" />  </svg></g><g transform=\"translate(-4,0)\">  <svg x=\"84.1416596849682%\" y=\"40\" height=\"18\" overflow=\"visible\" width=\"30\">    <path d=\"M 8 -9 l -6 18 L 8 25\" fill=\"none\" style=\"stroke:rgb(0.0, 138.56128015770727, 250.76166088685727);stroke-width:2\" />  </svg></g><g transform=\"translate(-8,0)\">  <svg x=\"87.86038018179494%\" y=\"40\" height=\"18\" overflow=\"visible\" width=\"30\">    <path d=\"M 8 -9 l -6 18 L 8 25\" fill=\"none\" style=\"stroke:rgb(0.0, 138.56128015770727, 250.76166088685727);stroke-width:2\" />  </svg></g><g transform=\"translate(-10,0)\">  <svg x=\"87.86038018179494%\" y=\"40\" height=\"18\" overflow=\"visible\" width=\"30\">    <path d=\"M 8 -9 l -6 18 L 8 25\" fill=\"none\" style=\"stroke:rgb(0.0, 138.56128015770727, 250.76166088685727);stroke-width:2\" />  </svg></g><g transform=\"translate(-12,0)\">  <svg x=\"87.86038018179494%\" y=\"40\" height=\"18\" overflow=\"visible\" width=\"30\">    <path d=\"M 8 -9 l -6 18 L 8 25\" fill=\"none\" style=\"stroke:rgb(0.0, 138.56128015770727, 250.76166088685727);stroke-width:2\" />  </svg></g><g transform=\"translate(-14,0)\">  <svg x=\"87.86038018179494%\" y=\"40\" height=\"18\" overflow=\"visible\" width=\"30\">    <path d=\"M 8 -9 l -6 18 L 8 25\" fill=\"none\" style=\"stroke:rgb(0.0, 138.56128015770727, 250.76166088685727);stroke-width:2\" />  </svg></g><g transform=\"translate(2,0)\">  <svg x=\"87.86038018179494%\" y=\"40\" height=\"18\" overflow=\"visible\" width=\"30\">    <path d=\"M 8 -9 l -6 18 L 8 25\" fill=\"none\" style=\"stroke:rgb(0.0, 138.56128015770727, 250.76166088685727);stroke-width:2\" />  </svg></g><g transform=\"translate(0,0)\">  <svg x=\"87.86038018179494%\" y=\"40\" height=\"18\" overflow=\"visible\" width=\"30\">    <path d=\"M 8 -9 l -6 18 L 8 25\" fill=\"none\" style=\"stroke:rgb(0.0, 138.56128015770727, 250.76166088685727);stroke-width:2\" />  </svg></g><g transform=\"translate(-2,0)\">  <svg x=\"87.86038018179494%\" y=\"40\" height=\"18\" overflow=\"visible\" width=\"30\">    <path d=\"M 8 -9 l -6 18 L 8 25\" fill=\"none\" style=\"stroke:rgb(0.0, 138.56128015770727, 250.76166088685727);stroke-width:2\" />  </svg></g><g transform=\"translate(-4,0)\">  <svg x=\"87.86038018179494%\" y=\"40\" height=\"18\" overflow=\"visible\" width=\"30\">    <path d=\"M 8 -9 l -6 18 L 8 25\" fill=\"none\" style=\"stroke:rgb(0.0, 138.56128015770727, 250.76166088685727);stroke-width:2\" />  </svg></g><g transform=\"translate(-8,0)\">  <svg x=\"89.9781603422738%\" y=\"40\" height=\"18\" overflow=\"visible\" width=\"30\">    <path d=\"M 8 -9 l -6 18 L 8 25\" fill=\"none\" style=\"stroke:rgb(0.0, 138.56128015770727, 250.76166088685727);stroke-width:2\" />  </svg></g><g transform=\"translate(-10,0)\">  <svg x=\"89.9781603422738%\" y=\"40\" height=\"18\" overflow=\"visible\" width=\"30\">    <path d=\"M 8 -9 l -6 18 L 8 25\" fill=\"none\" style=\"stroke:rgb(0.0, 138.56128015770727, 250.76166088685727);stroke-width:2\" />  </svg></g><g transform=\"translate(-12,0)\">  <svg x=\"89.9781603422738%\" y=\"40\" height=\"18\" overflow=\"visible\" width=\"30\">    <path d=\"M 8 -9 l -6 18 L 8 25\" fill=\"none\" style=\"stroke:rgb(0.0, 138.56128015770727, 250.76166088685727);stroke-width:2\" />  </svg></g><g transform=\"translate(-14,0)\">  <svg x=\"89.9781603422738%\" y=\"40\" height=\"18\" overflow=\"visible\" width=\"30\">    <path d=\"M 8 -9 l -6 18 L 8 25\" fill=\"none\" style=\"stroke:rgb(0.0, 138.56128015770727, 250.76166088685727);stroke-width:2\" />  </svg></g><g transform=\"translate(2,0)\">  <svg x=\"89.9781603422738%\" y=\"40\" height=\"18\" overflow=\"visible\" width=\"30\">    <path d=\"M 8 -9 l -6 18 L 8 25\" fill=\"none\" style=\"stroke:rgb(0.0, 138.56128015770727, 250.76166088685727);stroke-width:2\" />  </svg></g><g transform=\"translate(0,0)\">  <svg x=\"89.9781603422738%\" y=\"40\" height=\"18\" overflow=\"visible\" width=\"30\">    <path d=\"M 8 -9 l -6 18 L 8 25\" fill=\"none\" style=\"stroke:rgb(0.0, 138.56128015770727, 250.76166088685727);stroke-width:2\" />  </svg></g><g transform=\"translate(-2,0)\">  <svg x=\"89.9781603422738%\" y=\"40\" height=\"18\" overflow=\"visible\" width=\"30\">    <path d=\"M 8 -9 l -6 18 L 8 25\" fill=\"none\" style=\"stroke:rgb(0.0, 138.56128015770727, 250.76166088685727);stroke-width:2\" />  </svg></g><g transform=\"translate(-4,0)\">  <svg x=\"89.9781603422738%\" y=\"40\" height=\"18\" overflow=\"visible\" width=\"30\">    <path d=\"M 8 -9 l -6 18 L 8 25\" fill=\"none\" style=\"stroke:rgb(0.0, 138.56128015770727, 250.76166088685727);stroke-width:2\" />  </svg></g><rect transform=\"translate(0,0)\" x=\"29.993882648293276%\" y=\"40\" width=\"8\" height=\"18\" style=\"fill:rgb(0.0, 138.56128015770727, 250.76166088685727)\"/><g transform=\"translate(-6.0,0)\">  <svg x=\"91.66666653171453%\" y=\"40\" height=\"18\" overflow=\"visible\" width=\"30\">    <path d=\"M 8 -9 l -6 18 L 8 25 L 20 25 L 20 -9\" fill=\"#ffffff\" style=\"stroke:rgb(255,255,255);stroke-width:2\" />  </svg></g><g transform=\"translate(-6.0,0)\">  <svg x=\"44.48154004347542%\" y=\"40\" height=\"18\" overflow=\"visible\" width=\"30\">    <path d=\"M 8 -9 l -6 18 L 8 25\" fill=\"none\" style=\"stroke:rgb(208, 230, 250);stroke-width:2\" />  </svg></g><rect x=\"29.993882648293276%\" y=\"40\" height=\"20\" width=\"14.487657395182143%\"      onmouseover=\"document.getElementById('_tp_zqorvufaigfywirkxlgg_ind_4').style.textDecoration = 'underline';document.getElementById('_fs_zqorvufaigfywirkxlgg_ind_4').style.opacity = 1;document.getElementById('_fb_zqorvufaigfywirkxlgg_ind_4').style.opacity = 1;\"      onmouseout=\"document.getElementById('_tp_zqorvufaigfywirkxlgg_ind_4').style.textDecoration = 'none';document.getElementById('_fs_zqorvufaigfywirkxlgg_ind_4').style.opacity = 0;document.getElementById('_fb_zqorvufaigfywirkxlgg_ind_4').style.opacity = 0;\" style=\"fill:rgb(0,0,0,0)\" /><g transform=\"translate(-6.0,0)\">  <svg x=\"58.10270656190028%\" y=\"40\" height=\"18\" overflow=\"visible\" width=\"30\">    <path d=\"M 8 -9 l -6 18 L 8 25\" fill=\"none\" style=\"stroke:rgb(208, 230, 250);stroke-width:2\" />  </svg></g><rect x=\"44.48154004347542%\" y=\"40\" height=\"20\" width=\"13.621166518424857%\"      onmouseover=\"document.getElementById('_tp_zqorvufaigfywirkxlgg_ind_7').style.textDecoration = 'underline';document.getElementById('_fs_zqorvufaigfywirkxlgg_ind_7').style.opacity = 1;document.getElementById('_fb_zqorvufaigfywirkxlgg_ind_7').style.opacity = 1;\"      onmouseout=\"document.getElementById('_tp_zqorvufaigfywirkxlgg_ind_7').style.textDecoration = 'none';document.getElementById('_fs_zqorvufaigfywirkxlgg_ind_7').style.opacity = 0;document.getElementById('_fb_zqorvufaigfywirkxlgg_ind_7').style.opacity = 0;\" style=\"fill:rgb(0,0,0,0)\" /><g transform=\"translate(-6.0,0)\">  <svg x=\"66.46372508067259%\" y=\"40\" height=\"18\" overflow=\"visible\" width=\"30\">    <path d=\"M 8 -9 l -6 18 L 8 25\" fill=\"none\" style=\"stroke:rgb(208, 230, 250);stroke-width:2\" />  </svg></g><rect x=\"58.10270656190028%\" y=\"40\" height=\"20\" width=\"8.361018518772312%\"      onmouseover=\"document.getElementById('_tp_zqorvufaigfywirkxlgg_ind_5').style.textDecoration = 'underline';document.getElementById('_fs_zqorvufaigfywirkxlgg_ind_5').style.opacity = 1;document.getElementById('_fb_zqorvufaigfywirkxlgg_ind_5').style.opacity = 1;\"      onmouseout=\"document.getElementById('_tp_zqorvufaigfywirkxlgg_ind_5').style.textDecoration = 'none';document.getElementById('_fs_zqorvufaigfywirkxlgg_ind_5').style.opacity = 0;document.getElementById('_fb_zqorvufaigfywirkxlgg_ind_5').style.opacity = 0;\" style=\"fill:rgb(0,0,0,0)\" /><g transform=\"translate(-6.0,0)\">  <svg x=\"73.56344604142784%\" y=\"40\" height=\"18\" overflow=\"visible\" width=\"30\">    <path d=\"M 8 -9 l -6 18 L 8 25\" fill=\"none\" style=\"stroke:rgb(208, 230, 250);stroke-width:2\" />  </svg></g><rect x=\"66.46372508067259%\" y=\"40\" height=\"20\" width=\"7.099720960755249%\"      onmouseover=\"document.getElementById('_tp_zqorvufaigfywirkxlgg_ind_8').style.textDecoration = 'underline';document.getElementById('_fs_zqorvufaigfywirkxlgg_ind_8').style.opacity = 1;document.getElementById('_fb_zqorvufaigfywirkxlgg_ind_8').style.opacity = 1;\"      onmouseout=\"document.getElementById('_tp_zqorvufaigfywirkxlgg_ind_8').style.textDecoration = 'none';document.getElementById('_fs_zqorvufaigfywirkxlgg_ind_8').style.opacity = 0;document.getElementById('_fb_zqorvufaigfywirkxlgg_ind_8').style.opacity = 0;\" style=\"fill:rgb(0,0,0,0)\" /><g transform=\"translate(-6.0,0)\">  <svg x=\"79.29625994267612%\" y=\"40\" height=\"18\" overflow=\"visible\" width=\"30\">    <path d=\"M 8 -9 l -6 18 L 8 25\" fill=\"none\" style=\"stroke:rgb(208, 230, 250);stroke-width:2\" />  </svg></g><rect x=\"73.56344604142784%\" y=\"40\" height=\"20\" width=\"5.732813901248278%\"      onmouseover=\"document.getElementById('_tp_zqorvufaigfywirkxlgg_ind_12').style.textDecoration = 'underline';document.getElementById('_fs_zqorvufaigfywirkxlgg_ind_12').style.opacity = 1;document.getElementById('_fb_zqorvufaigfywirkxlgg_ind_12').style.opacity = 1;\"      onmouseout=\"document.getElementById('_tp_zqorvufaigfywirkxlgg_ind_12').style.textDecoration = 'none';document.getElementById('_fs_zqorvufaigfywirkxlgg_ind_12').style.opacity = 0;document.getElementById('_fb_zqorvufaigfywirkxlgg_ind_12').style.opacity = 0;\" style=\"fill:rgb(0,0,0,0)\" /><g transform=\"translate(-6.0,0)\">  <svg x=\"84.1416596849682%\" y=\"40\" height=\"18\" overflow=\"visible\" width=\"30\">    <path d=\"M 8 -9 l -6 18 L 8 25\" fill=\"none\" style=\"stroke:rgb(208, 230, 250);stroke-width:2\" />  </svg></g><rect x=\"79.29625994267612%\" y=\"40\" height=\"20\" width=\"4.845399742292088%\"      onmouseover=\"document.getElementById('_tp_zqorvufaigfywirkxlgg_ind_3').style.textDecoration = 'underline';document.getElementById('_fs_zqorvufaigfywirkxlgg_ind_3').style.opacity = 1;document.getElementById('_fb_zqorvufaigfywirkxlgg_ind_3').style.opacity = 1;\"      onmouseout=\"document.getElementById('_tp_zqorvufaigfywirkxlgg_ind_3').style.textDecoration = 'none';document.getElementById('_fs_zqorvufaigfywirkxlgg_ind_3').style.opacity = 0;document.getElementById('_fb_zqorvufaigfywirkxlgg_ind_3').style.opacity = 0;\" style=\"fill:rgb(0,0,0,0)\" /><g transform=\"translate(-6.0,0)\">  <svg x=\"87.86038018179494%\" y=\"40\" height=\"18\" overflow=\"visible\" width=\"30\">    <path d=\"M 8 -9 l -6 18 L 8 25\" fill=\"none\" style=\"stroke:rgb(208, 230, 250);stroke-width:2\" />  </svg></g><rect x=\"84.1416596849682%\" y=\"40\" height=\"20\" width=\"3.718720496826734%\"      onmouseover=\"document.getElementById('_tp_zqorvufaigfywirkxlgg_ind_13').style.textDecoration = 'underline';document.getElementById('_fs_zqorvufaigfywirkxlgg_ind_13').style.opacity = 1;document.getElementById('_fb_zqorvufaigfywirkxlgg_ind_13').style.opacity = 1;\"      onmouseout=\"document.getElementById('_tp_zqorvufaigfywirkxlgg_ind_13').style.textDecoration = 'none';document.getElementById('_fs_zqorvufaigfywirkxlgg_ind_13').style.opacity = 0;document.getElementById('_fb_zqorvufaigfywirkxlgg_ind_13').style.opacity = 0;\" style=\"fill:rgb(0,0,0,0)\" /><g transform=\"translate(-6.0,0)\">  <svg x=\"89.9781603422738%\" y=\"40\" height=\"18\" overflow=\"visible\" width=\"30\">    <path d=\"M 8 -9 l -6 18 L 8 25\" fill=\"none\" style=\"stroke:rgb(208, 230, 250);stroke-width:2\" />  </svg></g><rect x=\"87.86038018179494%\" y=\"40\" height=\"20\" width=\"2.1177801604788584%\"      onmouseover=\"document.getElementById('_tp_zqorvufaigfywirkxlgg_ind_6').style.textDecoration = 'underline';document.getElementById('_fs_zqorvufaigfywirkxlgg_ind_6').style.opacity = 1;document.getElementById('_fb_zqorvufaigfywirkxlgg_ind_6').style.opacity = 1;\"      onmouseout=\"document.getElementById('_tp_zqorvufaigfywirkxlgg_ind_6').style.textDecoration = 'none';document.getElementById('_fs_zqorvufaigfywirkxlgg_ind_6').style.opacity = 0;document.getElementById('_fb_zqorvufaigfywirkxlgg_ind_6').style.opacity = 0;\" style=\"fill:rgb(0,0,0,0)\" /><rect x=\"89.9781603422738%\" y=\"40\" height=\"20\" width=\"1.68850618944073%\"      onmouseover=\"document.getElementById('_tp_zqorvufaigfywirkxlgg_ind_11').style.textDecoration = 'underline';document.getElementById('_fs_zqorvufaigfywirkxlgg_ind_11').style.opacity = 1;document.getElementById('_fb_zqorvufaigfywirkxlgg_ind_11').style.opacity = 1;\"      onmouseout=\"document.getElementById('_tp_zqorvufaigfywirkxlgg_ind_11').style.textDecoration = 'none';document.getElementById('_fs_zqorvufaigfywirkxlgg_ind_11').style.opacity = 0;document.getElementById('_fb_zqorvufaigfywirkxlgg_ind_11').style.opacity = 0;\" style=\"fill:rgb(0,0,0,0)\" /></svg><div align='center'><div style=\"color: rgb(120,120,120); font-size: 12px; margin-top: -15px;\">inputs</div><div style='display: inline; text-align: center;'\n",
       "    ><div style='display: none; color: #999; padding-top: 0px; font-size: 12px;'>0.0</div\n",
       "        ><div id='_tp_zqorvufaigfywirkxlgg_ind_0'\n",
       "            style='display: inline; background: rgba(230.2941176470614, 26.505882352939775, 102.59215686274348, 0.0); border-radius: 3px; padding: 0px'\n",
       "            onclick=\"\n",
       "            if (this.previousSibling.style.display == 'none') {\n",
       "                this.previousSibling.style.display = 'block';\n",
       "                this.parentNode.style.display = 'inline-block';\n",
       "            } else {\n",
       "                this.previousSibling.style.display = 'none';\n",
       "                this.parentNode.style.display = 'inline';\n",
       "            }\"\n",
       "            onmouseover=\"document.getElementById('_fb_zqorvufaigfywirkxlgg_ind_0').style.opacity = 1; document.getElementById('_fs_zqorvufaigfywirkxlgg_ind_0').style.opacity = 1;\"\n",
       "            onmouseout=\"document.getElementById('_fb_zqorvufaigfywirkxlgg_ind_0').style.opacity = 0; document.getElementById('_fs_zqorvufaigfywirkxlgg_ind_0').style.opacity = 0;\"\n",
       "        ></div></div><div style='display: inline; text-align: center;'\n",
       "    ><div style='display: none; color: #999; padding-top: 0px; font-size: 12px;'>0.341</div\n",
       "        ><div id='_tp_zqorvufaigfywirkxlgg_ind_1'\n",
       "            style='display: inline; background: rgba(255.0, 13.0, 87.0, 0.3457318280847692); border-radius: 3px; padding: 0px'\n",
       "            onclick=\"\n",
       "            if (this.previousSibling.style.display == 'none') {\n",
       "                this.previousSibling.style.display = 'block';\n",
       "                this.parentNode.style.display = 'inline-block';\n",
       "            } else {\n",
       "                this.previousSibling.style.display = 'none';\n",
       "                this.parentNode.style.display = 'inline';\n",
       "            }\"\n",
       "            onmouseover=\"document.getElementById('_fb_zqorvufaigfywirkxlgg_ind_1').style.opacity = 1; document.getElementById('_fs_zqorvufaigfywirkxlgg_ind_1').style.opacity = 1;\"\n",
       "            onmouseout=\"document.getElementById('_fb_zqorvufaigfywirkxlgg_ind_1').style.opacity = 0; document.getElementById('_fs_zqorvufaigfywirkxlgg_ind_1').style.opacity = 0;\"\n",
       "        >it </div></div><div style='display: inline; text-align: center;'\n",
       "    ><div style='display: none; color: #999; padding-top: 0px; font-size: 12px;'>0.062</div\n",
       "        ><div id='_tp_zqorvufaigfywirkxlgg_ind_2'\n",
       "            style='display: inline; background: rgba(255.0, 13.0, 87.0, 0.06195286195286207); border-radius: 3px; padding: 0px'\n",
       "            onclick=\"\n",
       "            if (this.previousSibling.style.display == 'none') {\n",
       "                this.previousSibling.style.display = 'block';\n",
       "                this.parentNode.style.display = 'inline-block';\n",
       "            } else {\n",
       "                this.previousSibling.style.display = 'none';\n",
       "                this.parentNode.style.display = 'inline';\n",
       "            }\"\n",
       "            onmouseover=\"document.getElementById('_fb_zqorvufaigfywirkxlgg_ind_2').style.opacity = 1; document.getElementById('_fs_zqorvufaigfywirkxlgg_ind_2').style.opacity = 1;\"\n",
       "            onmouseout=\"document.getElementById('_fb_zqorvufaigfywirkxlgg_ind_2').style.opacity = 0; document.getElementById('_fs_zqorvufaigfywirkxlgg_ind_2').style.opacity = 0;\"\n",
       "        >s </div></div><div style='display: inline; text-align: center;'\n",
       "    ><div style='display: none; color: #999; padding-top: 0px; font-size: 12px;'>-0.329</div\n",
       "        ><div id='_tp_zqorvufaigfywirkxlgg_ind_3'\n",
       "            style='display: inline; background: rgba(30.0, 136.0, 229.0, 0.3299663299663299); border-radius: 3px; padding: 0px'\n",
       "            onclick=\"\n",
       "            if (this.previousSibling.style.display == 'none') {\n",
       "                this.previousSibling.style.display = 'block';\n",
       "                this.parentNode.style.display = 'inline-block';\n",
       "            } else {\n",
       "                this.previousSibling.style.display = 'none';\n",
       "                this.parentNode.style.display = 'inline';\n",
       "            }\"\n",
       "            onmouseover=\"document.getElementById('_fb_zqorvufaigfywirkxlgg_ind_3').style.opacity = 1; document.getElementById('_fs_zqorvufaigfywirkxlgg_ind_3').style.opacity = 1;\"\n",
       "            onmouseout=\"document.getElementById('_fb_zqorvufaigfywirkxlgg_ind_3').style.opacity = 0; document.getElementById('_fs_zqorvufaigfywirkxlgg_ind_3').style.opacity = 0;\"\n",
       "        >a </div></div><div style='display: inline; text-align: center;'\n",
       "    ><div style='display: none; color: #999; padding-top: 0px; font-size: 12px;'>-0.984</div\n",
       "        ><div id='_tp_zqorvufaigfywirkxlgg_ind_4'\n",
       "            style='display: inline; background: rgba(30.0, 136.0, 229.0, 1.0); border-radius: 3px; padding: 0px'\n",
       "            onclick=\"\n",
       "            if (this.previousSibling.style.display == 'none') {\n",
       "                this.previousSibling.style.display = 'block';\n",
       "                this.parentNode.style.display = 'inline-block';\n",
       "            } else {\n",
       "                this.previousSibling.style.display = 'none';\n",
       "                this.parentNode.style.display = 'inline';\n",
       "            }\"\n",
       "            onmouseover=\"document.getElementById('_fb_zqorvufaigfywirkxlgg_ind_4').style.opacity = 1; document.getElementById('_fs_zqorvufaigfywirkxlgg_ind_4').style.opacity = 1;\"\n",
       "            onmouseout=\"document.getElementById('_fb_zqorvufaigfywirkxlgg_ind_4').style.opacity = 0; document.getElementById('_fs_zqorvufaigfywirkxlgg_ind_4').style.opacity = 0;\"\n",
       "        >lovely </div></div><div style='display: inline; text-align: center;'\n",
       "    ><div style='display: none; color: #999; padding-top: 0px; font-size: 12px;'>-0.568</div\n",
       "        ><div id='_tp_zqorvufaigfywirkxlgg_ind_5'\n",
       "            style='display: inline; background: rgba(30.0, 136.0, 229.0, 0.5743315508021389); border-radius: 3px; padding: 0px'\n",
       "            onclick=\"\n",
       "            if (this.previousSibling.style.display == 'none') {\n",
       "                this.previousSibling.style.display = 'block';\n",
       "                this.parentNode.style.display = 'inline-block';\n",
       "            } else {\n",
       "                this.previousSibling.style.display = 'none';\n",
       "                this.parentNode.style.display = 'inline';\n",
       "            }\"\n",
       "            onmouseover=\"document.getElementById('_fb_zqorvufaigfywirkxlgg_ind_5').style.opacity = 1; document.getElementById('_fs_zqorvufaigfywirkxlgg_ind_5').style.opacity = 1;\"\n",
       "            onmouseout=\"document.getElementById('_fb_zqorvufaigfywirkxlgg_ind_5').style.opacity = 0; document.getElementById('_fs_zqorvufaigfywirkxlgg_ind_5').style.opacity = 0;\"\n",
       "        >film </div></div><div style='display: inline; text-align: center;'\n",
       "    ><div style='display: none; color: #999; padding-top: 0px; font-size: 12px;'>-0.144</div\n",
       "        ><div id='_tp_zqorvufaigfywirkxlgg_ind_6'\n",
       "            style='display: inline; background: rgba(30.0, 136.0, 229.0, 0.14078035254505836); border-radius: 3px; padding: 0px'\n",
       "            onclick=\"\n",
       "            if (this.previousSibling.style.display == 'none') {\n",
       "                this.previousSibling.style.display = 'block';\n",
       "                this.parentNode.style.display = 'inline-block';\n",
       "            } else {\n",
       "                this.previousSibling.style.display = 'none';\n",
       "                this.parentNode.style.display = 'inline';\n",
       "            }\"\n",
       "            onmouseover=\"document.getElementById('_fb_zqorvufaigfywirkxlgg_ind_6').style.opacity = 1; document.getElementById('_fs_zqorvufaigfywirkxlgg_ind_6').style.opacity = 1;\"\n",
       "            onmouseout=\"document.getElementById('_fb_zqorvufaigfywirkxlgg_ind_6').style.opacity = 0; document.getElementById('_fs_zqorvufaigfywirkxlgg_ind_6').style.opacity = 0;\"\n",
       "        >with </div></div><div style='display: inline; text-align: center;'\n",
       "    ><div style='display: none; color: #999; padding-top: 0px; font-size: 12px;'>-0.925</div\n",
       "        ><div id='_tp_zqorvufaigfywirkxlgg_ind_7'\n",
       "            style='display: inline; background: rgba(30.0, 136.0, 229.0, 0.9448207565854625); border-radius: 3px; padding: 0px'\n",
       "            onclick=\"\n",
       "            if (this.previousSibling.style.display == 'none') {\n",
       "                this.previousSibling.style.display = 'block';\n",
       "                this.parentNode.style.display = 'inline-block';\n",
       "            } else {\n",
       "                this.previousSibling.style.display = 'none';\n",
       "                this.parentNode.style.display = 'inline';\n",
       "            }\"\n",
       "            onmouseover=\"document.getElementById('_fb_zqorvufaigfywirkxlgg_ind_7').style.opacity = 1; document.getElementById('_fs_zqorvufaigfywirkxlgg_ind_7').style.opacity = 1;\"\n",
       "            onmouseout=\"document.getElementById('_fb_zqorvufaigfywirkxlgg_ind_7').style.opacity = 0; document.getElementById('_fs_zqorvufaigfywirkxlgg_ind_7').style.opacity = 0;\"\n",
       "        >lovely </div></div><div style='display: inline; text-align: center;'\n",
       "    ><div style='display: none; color: #999; padding-top: 0px; font-size: 12px;'>-0.482</div\n",
       "        ><div id='_tp_zqorvufaigfywirkxlgg_ind_8'\n",
       "            style='display: inline; background: rgba(30.0, 136.0, 229.0, 0.4876213111507228); border-radius: 3px; padding: 0px'\n",
       "            onclick=\"\n",
       "            if (this.previousSibling.style.display == 'none') {\n",
       "                this.previousSibling.style.display = 'block';\n",
       "                this.parentNode.style.display = 'inline-block';\n",
       "            } else {\n",
       "                this.previousSibling.style.display = 'none';\n",
       "                this.parentNode.style.display = 'inline';\n",
       "            }\"\n",
       "            onmouseover=\"document.getElementById('_fb_zqorvufaigfywirkxlgg_ind_8').style.opacity = 1; document.getElementById('_fs_zqorvufaigfywirkxlgg_ind_8').style.opacity = 1;\"\n",
       "            onmouseout=\"document.getElementById('_fb_zqorvufaigfywirkxlgg_ind_8').style.opacity = 0; document.getElementById('_fs_zqorvufaigfywirkxlgg_ind_8').style.opacity = 0;\"\n",
       "        >performances </div></div><div style='display: inline; text-align: center;'\n",
       "    ><div style='display: none; color: #999; padding-top: 0px; font-size: 12px;'>0.405</div\n",
       "        ><div id='_tp_zqorvufaigfywirkxlgg_ind_9'\n",
       "            style='display: inline; background: rgba(255.0, 13.0, 87.0, 0.4087938205585263); border-radius: 3px; padding: 0px'\n",
       "            onclick=\"\n",
       "            if (this.previousSibling.style.display == 'none') {\n",
       "                this.previousSibling.style.display = 'block';\n",
       "                this.parentNode.style.display = 'inline-block';\n",
       "            } else {\n",
       "                this.previousSibling.style.display = 'none';\n",
       "                this.parentNode.style.display = 'inline';\n",
       "            }\"\n",
       "            onmouseover=\"document.getElementById('_fb_zqorvufaigfywirkxlgg_ind_9').style.opacity = 1; document.getElementById('_fs_zqorvufaigfywirkxlgg_ind_9').style.opacity = 1;\"\n",
       "            onmouseout=\"document.getElementById('_fb_zqorvufaigfywirkxlgg_ind_9').style.opacity = 0; document.getElementById('_fs_zqorvufaigfywirkxlgg_ind_9').style.opacity = 0;\"\n",
       "        >by </div></div><div style='display: inline; text-align: center;'\n",
       "    ><div style='display: none; color: #999; padding-top: 0px; font-size: 12px;'>0.483</div\n",
       "        ><div id='_tp_zqorvufaigfywirkxlgg_ind_10'\n",
       "            style='display: inline; background: rgba(255.0, 13.0, 87.0, 0.48762131115072294); border-radius: 3px; padding: 0px'\n",
       "            onclick=\"\n",
       "            if (this.previousSibling.style.display == 'none') {\n",
       "                this.previousSibling.style.display = 'block';\n",
       "                this.parentNode.style.display = 'inline-block';\n",
       "            } else {\n",
       "                this.previousSibling.style.display = 'none';\n",
       "                this.parentNode.style.display = 'inline';\n",
       "            }\"\n",
       "            onmouseover=\"document.getElementById('_fb_zqorvufaigfywirkxlgg_ind_10').style.opacity = 1; document.getElementById('_fs_zqorvufaigfywirkxlgg_ind_10').style.opacity = 1;\"\n",
       "            onmouseout=\"document.getElementById('_fb_zqorvufaigfywirkxlgg_ind_10').style.opacity = 0; document.getElementById('_fs_zqorvufaigfywirkxlgg_ind_10').style.opacity = 0;\"\n",
       "        >buy </div></div><div style='display: inline; text-align: center;'\n",
       "    ><div style='display: none; color: #999; padding-top: 0px; font-size: 12px;'>-0.115</div\n",
       "        ><div id='_tp_zqorvufaigfywirkxlgg_ind_11'\n",
       "            style='display: inline; background: rgba(30.0, 136.0, 229.0, 0.10924935630817977); border-radius: 3px; padding: 0px'\n",
       "            onclick=\"\n",
       "            if (this.previousSibling.style.display == 'none') {\n",
       "                this.previousSibling.style.display = 'block';\n",
       "                this.parentNode.style.display = 'inline-block';\n",
       "            } else {\n",
       "                this.previousSibling.style.display = 'none';\n",
       "                this.parentNode.style.display = 'inline';\n",
       "            }\"\n",
       "            onmouseover=\"document.getElementById('_fb_zqorvufaigfywirkxlgg_ind_11').style.opacity = 1; document.getElementById('_fs_zqorvufaigfywirkxlgg_ind_11').style.opacity = 1;\"\n",
       "            onmouseout=\"document.getElementById('_fb_zqorvufaigfywirkxlgg_ind_11').style.opacity = 0; document.getElementById('_fs_zqorvufaigfywirkxlgg_ind_11').style.opacity = 0;\"\n",
       "        >and </div></div><div style='display: inline; text-align: center;'\n",
       "    ><div style='display: none; color: #999; padding-top: 0px; font-size: 12px;'>-0.389</div\n",
       "        ><div id='_tp_zqorvufaigfywirkxlgg_ind_12'\n",
       "            style='display: inline; background: rgba(30.0, 136.0, 229.0, 0.39302832244008723); border-radius: 3px; padding: 0px'\n",
       "            onclick=\"\n",
       "            if (this.previousSibling.style.display == 'none') {\n",
       "                this.previousSibling.style.display = 'block';\n",
       "                this.parentNode.style.display = 'inline-block';\n",
       "            } else {\n",
       "                this.previousSibling.style.display = 'none';\n",
       "                this.parentNode.style.display = 'inline';\n",
       "            }\"\n",
       "            onmouseover=\"document.getElementById('_fb_zqorvufaigfywirkxlgg_ind_12').style.opacity = 1; document.getElementById('_fs_zqorvufaigfywirkxlgg_ind_12').style.opacity = 1;\"\n",
       "            onmouseout=\"document.getElementById('_fb_zqorvufaigfywirkxlgg_ind_12').style.opacity = 0; document.getElementById('_fs_zqorvufaigfywirkxlgg_ind_12').style.opacity = 0;\"\n",
       "        >acc</div></div><div style='display: inline; text-align: center;'\n",
       "    ><div style='display: none; color: #999; padding-top: 0px; font-size: 12px;'>-0.253</div\n",
       "        ><div id='_tp_zqorvufaigfywirkxlgg_ind_13'\n",
       "            style='display: inline; background: rgba(30.0, 136.0, 229.0, 0.25113883937413345); border-radius: 3px; padding: 0px'\n",
       "            onclick=\"\n",
       "            if (this.previousSibling.style.display == 'none') {\n",
       "                this.previousSibling.style.display = 'block';\n",
       "                this.parentNode.style.display = 'inline-block';\n",
       "            } else {\n",
       "                this.previousSibling.style.display = 'none';\n",
       "                this.parentNode.style.display = 'inline';\n",
       "            }\"\n",
       "            onmouseover=\"document.getElementById('_fb_zqorvufaigfywirkxlgg_ind_13').style.opacity = 1; document.getElementById('_fs_zqorvufaigfywirkxlgg_ind_13').style.opacity = 1;\"\n",
       "            onmouseout=\"document.getElementById('_fb_zqorvufaigfywirkxlgg_ind_13').style.opacity = 0; document.getElementById('_fs_zqorvufaigfywirkxlgg_ind_13').style.opacity = 0;\"\n",
       "        >ors</div></div><div style='display: inline; text-align: center;'\n",
       "    ><div style='display: none; color: #999; padding-top: 0px; font-size: 12px;'>0.18</div\n",
       "        ><div id='_tp_zqorvufaigfywirkxlgg_ind_14'\n",
       "            style='display: inline; background: rgba(255.0, 13.0, 87.0, 0.18019409784115661); border-radius: 3px; padding: 0px'\n",
       "            onclick=\"\n",
       "            if (this.previousSibling.style.display == 'none') {\n",
       "                this.previousSibling.style.display = 'block';\n",
       "                this.parentNode.style.display = 'inline-block';\n",
       "            } else {\n",
       "                this.previousSibling.style.display = 'none';\n",
       "                this.parentNode.style.display = 'inline';\n",
       "            }\"\n",
       "            onmouseover=\"document.getElementById('_fb_zqorvufaigfywirkxlgg_ind_14').style.opacity = 1; document.getElementById('_fs_zqorvufaigfywirkxlgg_ind_14').style.opacity = 1;\"\n",
       "            onmouseout=\"document.getElementById('_fb_zqorvufaigfywirkxlgg_ind_14').style.opacity = 0; document.getElementById('_fs_zqorvufaigfywirkxlgg_ind_14').style.opacity = 0;\"\n",
       "        >i </div></div><div style='display: inline; text-align: center;'\n",
       "    ><div style='display: none; color: #999; padding-top: 0px; font-size: 12px;'>0.0</div\n",
       "        ><div id='_tp_zqorvufaigfywirkxlgg_ind_15'\n",
       "            style='display: inline; background: rgba(230.2941176470614, 26.505882352939775, 102.59215686274348, 0.0); border-radius: 3px; padding: 0px'\n",
       "            onclick=\"\n",
       "            if (this.previousSibling.style.display == 'none') {\n",
       "                this.previousSibling.style.display = 'block';\n",
       "                this.parentNode.style.display = 'inline-block';\n",
       "            } else {\n",
       "                this.previousSibling.style.display = 'none';\n",
       "                this.parentNode.style.display = 'inline';\n",
       "            }\"\n",
       "            onmouseover=\"document.getElementById('_fb_zqorvufaigfywirkxlgg_ind_15').style.opacity = 1; document.getElementById('_fs_zqorvufaigfywirkxlgg_ind_15').style.opacity = 1;\"\n",
       "            onmouseout=\"document.getElementById('_fb_zqorvufaigfywirkxlgg_ind_15').style.opacity = 0; document.getElementById('_fs_zqorvufaigfywirkxlgg_ind_15').style.opacity = 0;\"\n",
       "        >[SEP]</div></div><div style='display: inline; text-align: center;'\n",
       "    ><div style='display: none; color: #999; padding-top: 0px; font-size: 12px;'>0.0</div\n",
       "        ><div id='_tp_zqorvufaigfywirkxlgg_ind_16'\n",
       "            style='display: inline; background: rgba(230.2941176470614, 26.505882352939775, 102.59215686274348, 0.0); border-radius: 3px; padding: 0px'\n",
       "            onclick=\"\n",
       "            if (this.previousSibling.style.display == 'none') {\n",
       "                this.previousSibling.style.display = 'block';\n",
       "                this.parentNode.style.display = 'inline-block';\n",
       "            } else {\n",
       "                this.previousSibling.style.display = 'none';\n",
       "                this.parentNode.style.display = 'inline';\n",
       "            }\"\n",
       "            onmouseover=\"document.getElementById('_fb_zqorvufaigfywirkxlgg_ind_16').style.opacity = 1; document.getElementById('_fs_zqorvufaigfywirkxlgg_ind_16').style.opacity = 1;\"\n",
       "            onmouseout=\"document.getElementById('_fb_zqorvufaigfywirkxlgg_ind_16').style.opacity = 0; document.getElementById('_fs_zqorvufaigfywirkxlgg_ind_16').style.opacity = 0;\"\n",
       "        ></div></div></div></div><div id='_tp_usieyiccwpusnzjovqwp_output_1' style='display: none';><svg width=\"100%\" height=\"80px\"><line x1=\"0\" y1=\"33\" x2=\"100%\" y2=\"33\" style=\"stroke:rgb(150,150,150);stroke-width:1\" /><line x1=\"51.963645280959135%\" y1=\"33\" x2=\"51.963645280959135%\" y2=\"37\" style=\"stroke:rgb(150,150,150);stroke-width:1\" /><text x=\"51.963645280959135%\" y=\"27\" font-size=\"12px\" fill=\"rgb(120,120,120)\" dominant-baseline=\"bottom\" text-anchor=\"middle\">-0</text><line x1=\"35.29935826610112%\" y1=\"33\" x2=\"35.29935826610112%\" y2=\"37\" style=\"stroke:rgb(150,150,150);stroke-width:1\" /><text x=\"35.29935826610112%\" y=\"27\" font-size=\"12px\" fill=\"rgb(120,120,120)\" dominant-baseline=\"bottom\" text-anchor=\"middle\">-2</text><line x1=\"18.635071251243104%\" y1=\"33\" x2=\"18.635071251243104%\" y2=\"37\" style=\"stroke:rgb(150,150,150);stroke-width:1\" /><text x=\"18.635071251243104%\" y=\"27\" font-size=\"12px\" fill=\"rgb(120,120,120)\" dominant-baseline=\"bottom\" text-anchor=\"middle\">-4</text><line x1=\"68.62793229581715%\" y1=\"33\" x2=\"68.62793229581715%\" y2=\"37\" style=\"stroke:rgb(150,150,150);stroke-width:1\" /><text x=\"68.62793229581715%\" y=\"27\" font-size=\"12px\" fill=\"rgb(120,120,120)\" dominant-baseline=\"bottom\" text-anchor=\"middle\">2</text><line x1=\"85.29221931067516%\" y1=\"33\" x2=\"85.29221931067516%\" y2=\"37\" style=\"stroke:rgb(150,150,150);stroke-width:1\" /><text x=\"85.29221931067516%\" y=\"27\" font-size=\"12px\" fill=\"rgb(120,120,120)\" dominant-baseline=\"bottom\" text-anchor=\"middle\">4</text><line x1=\"63.38496137190373%\" y1=\"33\" x2=\"63.38496137190373%\" y2=\"37\" style=\"stroke:rgb(150,150,150);stroke-width:1\" /><text x=\"63.38496137190373%\" y=\"27\" font-size=\"13px\" style=\"stroke:#ffffff;stroke-width:8px;\" fill=\"rgb(255,255,255)\" dominant-baseline=\"bottom\" text-anchor=\"middle\">1.37075</text><text x=\"63.38496137190373%\" y=\"27\" font-size=\"12px\" fill=\"rgb(120,120,120)\" dominant-baseline=\"bottom\" text-anchor=\"middle\">1.37075</text><text x=\"63.38496137190373%\" y=\"10\" font-size=\"12px\" fill=\"rgb(120,120,120)\" dominant-baseline=\"bottom\" text-anchor=\"middle\">base value</text><line x1=\"85.07853737050664%\" y1=\"33\" x2=\"85.07853737050664%\" y2=\"37\" style=\"stroke:rgb(150,150,150);stroke-width:1\" /><text x=\"85.07853737050664%\" y=\"27\" font-size=\"13px\" style=\"stroke:#ffffff;stroke-width:8px;\" font-weight=\"bold\" fill=\"rgb(255,255,255)\" dominant-baseline=\"bottom\" text-anchor=\"middle\">3.97435</text><text x=\"85.07853737050664%\" y=\"27\" font-size=\"13px\" font-weight=\"bold\" fill=\"rgb(0,0,0)\" dominant-baseline=\"bottom\" text-anchor=\"middle\">3.97435</text><text x=\"85.07853737050664%\" y=\"10\" font-size=\"12px\" fill=\"rgb(120,120,120)\" dominant-baseline=\"bottom\" text-anchor=\"middle\">f<tspan baseline-shift=\"sub\" font-size=\"8px\">Output 1</tspan>(inputs)</text><rect x=\"52.75820724997737%\" width=\"32.32033012052927%\" y=\"40\" height=\"18\" style=\"fill:rgb(255.0, 0.0, 81.08083606031792); stroke-width:0; stroke:rgb(0,0,0)\" /><line x1=\"77.66197722320436%\" x2=\"85.07853737050664%\" y1=\"60\" y2=\"60\" id=\"_fb_ogpxkfzncbcqukbjznzw_ind_4\" style=\"stroke:rgb(255.0, 0.0, 81.08083606031792);stroke-width:2; opacity: 0\"/><text x=\"81.3702572968555%\" y=\"71\" font-size=\"12px\" id=\"_fs_ogpxkfzncbcqukbjznzw_ind_4\" fill=\"rgb(255.0, 0.0, 81.08083606031792)\" style=\"opacity: 0\" dominant-baseline=\"middle\" text-anchor=\"middle\">0.89</text><svg x=\"77.66197722320436%\" y=\"40\" height=\"20\" width=\"7.4165601473022775%\">  <svg x=\"0\" y=\"0\" width=\"100%\" height=\"100%\">    <text x=\"50%\" y=\"9\" font-size=\"12px\" fill=\"rgb(255,255,255)\" dominant-baseline=\"middle\" text-anchor=\"middle\">lovely</text>  </svg></svg><line x1=\"70.97846610514834%\" x2=\"77.66197722320436%\" y1=\"60\" y2=\"60\" id=\"_fb_ogpxkfzncbcqukbjznzw_ind_7\" style=\"stroke:rgb(255.0, 0.0, 81.08083606031792);stroke-width:2; opacity: 0\"/><text x=\"74.32022166417636%\" y=\"71\" font-size=\"12px\" id=\"_fs_ogpxkfzncbcqukbjznzw_ind_7\" fill=\"rgb(255.0, 0.0, 81.08083606031792)\" style=\"opacity: 0\" dominant-baseline=\"middle\" text-anchor=\"middle\">0.802</text><svg x=\"70.97846610514834%\" y=\"40\" height=\"20\" width=\"6.683511118056018%\">  <svg x=\"0\" y=\"0\" width=\"100%\" height=\"100%\">    <text x=\"50%\" y=\"9\" font-size=\"12px\" fill=\"rgb(255,255,255)\" dominant-baseline=\"middle\" text-anchor=\"middle\">lovely</text>  </svg></svg><line x1=\"66.12714843700007%\" x2=\"70.97846610514834%\" y1=\"60\" y2=\"60\" id=\"_fb_ogpxkfzncbcqukbjznzw_ind_5\" style=\"stroke:rgb(255.0, 0.0, 81.08083606031792);stroke-width:2; opacity: 0\"/><text x=\"68.55280727107422%\" y=\"71\" font-size=\"12px\" id=\"_fs_ogpxkfzncbcqukbjznzw_ind_5\" fill=\"rgb(255.0, 0.0, 81.08083606031792)\" style=\"opacity: 0\" dominant-baseline=\"middle\" text-anchor=\"middle\">0.582</text><svg x=\"66.12714843700007%\" y=\"40\" height=\"20\" width=\"4.851317668148269%\">  <svg x=\"0\" y=\"0\" width=\"100%\" height=\"100%\">    <text x=\"50%\" y=\"9\" font-size=\"12px\" fill=\"rgb(255,255,255)\" dominant-baseline=\"middle\" text-anchor=\"middle\">film</text>  </svg></svg><line x1=\"62.461352608518375%\" x2=\"66.12714843700007%\" y1=\"60\" y2=\"60\" id=\"_fb_ogpxkfzncbcqukbjznzw_ind_8\" style=\"stroke:rgb(255.0, 0.0, 81.08083606031792);stroke-width:2; opacity: 0\"/><text x=\"64.29425052275923%\" y=\"71\" font-size=\"12px\" id=\"_fs_ogpxkfzncbcqukbjznzw_ind_8\" fill=\"rgb(255.0, 0.0, 81.08083606031792)\" style=\"opacity: 0\" dominant-baseline=\"middle\" text-anchor=\"middle\">0.44</text><svg x=\"62.461352608518375%\" y=\"40\" height=\"20\" width=\"3.6657958284816985%\">  <svg x=\"0\" y=\"0\" width=\"100%\" height=\"100%\">    <text x=\"50%\" y=\"9\" font-size=\"12px\" fill=\"rgb(255,255,255)\" dominant-baseline=\"middle\" text-anchor=\"middle\">performances</text>  </svg></svg><line x1=\"59.290365939438004%\" x2=\"62.461352608518375%\" y1=\"60\" y2=\"60\" id=\"_fb_ogpxkfzncbcqukbjznzw_ind_12\" style=\"stroke:rgb(255.0, 0.0, 81.08083606031792);stroke-width:2; opacity: 0\"/><text x=\"60.87585927397819%\" y=\"71\" font-size=\"12px\" id=\"_fs_ogpxkfzncbcqukbjznzw_ind_12\" fill=\"rgb(255.0, 0.0, 81.08083606031792)\" style=\"opacity: 0\" dominant-baseline=\"middle\" text-anchor=\"middle\">0.381</text><svg x=\"59.290365939438004%\" y=\"40\" height=\"20\" width=\"3.1709866690803707%\">  <svg x=\"0\" y=\"0\" width=\"100%\" height=\"100%\">    <text x=\"50%\" y=\"9\" font-size=\"12px\" fill=\"rgb(255,255,255)\" dominant-baseline=\"middle\" text-anchor=\"middle\">acc</text>  </svg></svg><line x1=\"56.76488409808854%\" x2=\"59.290365939438004%\" y1=\"60\" y2=\"60\" id=\"_fb_ogpxkfzncbcqukbjznzw_ind_3\" style=\"stroke:rgb(255.0, 0.0, 81.08083606031792);stroke-width:2; opacity: 0\"/><text x=\"58.027625018763274%\" y=\"71\" font-size=\"12px\" id=\"_fs_ogpxkfzncbcqukbjznzw_ind_3\" fill=\"rgb(255.0, 0.0, 81.08083606031792)\" style=\"opacity: 0\" dominant-baseline=\"middle\" text-anchor=\"middle\">0.303</text><svg x=\"56.76488409808854%\" y=\"40\" height=\"20\" width=\"2.5254818413494675%\">  <svg x=\"0\" y=\"0\" width=\"100%\" height=\"100%\">    <text x=\"50%\" y=\"9\" font-size=\"12px\" fill=\"rgb(255,255,255)\" dominant-baseline=\"middle\" text-anchor=\"middle\">a</text>  </svg></svg><line x1=\"54.84572221089574%\" x2=\"56.76488409808854%\" y1=\"60\" y2=\"60\" id=\"_fb_ogpxkfzncbcqukbjznzw_ind_13\" style=\"stroke:rgb(255.0, 0.0, 81.08083606031792);stroke-width:2; opacity: 0\"/><text x=\"55.80530315449214%\" y=\"71\" font-size=\"12px\" id=\"_fs_ogpxkfzncbcqukbjznzw_ind_13\" fill=\"rgb(255.0, 0.0, 81.08083606031792)\" style=\"opacity: 0\" dominant-baseline=\"middle\" text-anchor=\"middle\">0.23</text><svg x=\"54.84572221089574%\" y=\"40\" height=\"20\" width=\"1.9191618871928%\">  <svg x=\"0\" y=\"0\" width=\"100%\" height=\"100%\">    <text x=\"50%\" y=\"9\" font-size=\"12px\" fill=\"rgb(255,255,255)\" dominant-baseline=\"middle\" text-anchor=\"middle\">ors</text>  </svg></svg><line x1=\"53.73955159221728%\" x2=\"54.84572221089574%\" y1=\"60\" y2=\"60\" id=\"_fb_ogpxkfzncbcqukbjznzw_ind_6\" style=\"stroke:rgb(255.0, 0.0, 81.08083606031792);stroke-width:2; opacity: 0\"/><text x=\"54.292636901556506%\" y=\"71\" font-size=\"12px\" id=\"_fs_ogpxkfzncbcqukbjznzw_ind_6\" fill=\"rgb(255.0, 0.0, 81.08083606031792)\" style=\"opacity: 0\" dominant-baseline=\"middle\" text-anchor=\"middle\">0.133</text><svg x=\"53.73955159221728%\" y=\"40\" height=\"20\" width=\"1.1061706186784548%\">  <svg x=\"0\" y=\"0\" width=\"100%\" height=\"100%\">    <text x=\"50%\" y=\"9\" font-size=\"12px\" fill=\"rgb(255,255,255)\" dominant-baseline=\"middle\" text-anchor=\"middle\">with</text>  </svg></svg><line x1=\"52.75820724997737%\" x2=\"53.73955159221728%\" y1=\"60\" y2=\"60\" id=\"_fb_ogpxkfzncbcqukbjznzw_ind_11\" style=\"stroke:rgb(255.0, 0.0, 81.08083606031792);stroke-width:2; opacity: 0\"/><text x=\"53.24887942109733%\" y=\"71\" font-size=\"12px\" id=\"_fs_ogpxkfzncbcqukbjznzw_ind_11\" fill=\"rgb(255.0, 0.0, 81.08083606031792)\" style=\"opacity: 0\" dominant-baseline=\"middle\" text-anchor=\"middle\">0.118</text><svg x=\"52.75820724997737%\" y=\"40\" height=\"20\" width=\"0.9813443422399146%\">  <svg x=\"0\" y=\"0\" width=\"100%\" height=\"100%\">    <text x=\"50%\" y=\"9\" font-size=\"12px\" fill=\"rgb(255,255,255)\" dominant-baseline=\"middle\" text-anchor=\"middle\">and</text>  </svg></svg><g transform=\"translate(0,0)\">  <svg x=\"77.66197722320436%\" y=\"40\" height=\"18\" overflow=\"visible\" width=\"30\">    <path d=\"M 0 -9 l 6 18 L 0 25\" fill=\"none\" style=\"stroke:rgb(255.0, 0.0, 81.08083606031792);stroke-width:2\" />  </svg></g><g transform=\"translate(2,0)\">  <svg x=\"77.66197722320436%\" y=\"40\" height=\"18\" overflow=\"visible\" width=\"30\">    <path d=\"M 0 -9 l 6 18 L 0 25\" fill=\"none\" style=\"stroke:rgb(255.0, 0.0, 81.08083606031792);stroke-width:2\" />  </svg></g><g transform=\"translate(4,0)\">  <svg x=\"77.66197722320436%\" y=\"40\" height=\"18\" overflow=\"visible\" width=\"30\">    <path d=\"M 0 -9 l 6 18 L 0 25\" fill=\"none\" style=\"stroke:rgb(255.0, 0.0, 81.08083606031792);stroke-width:2\" />  </svg></g><g transform=\"translate(6,0)\">  <svg x=\"77.66197722320436%\" y=\"40\" height=\"18\" overflow=\"visible\" width=\"30\">    <path d=\"M 0 -9 l 6 18 L 0 25\" fill=\"none\" style=\"stroke:rgb(255.0, 0.0, 81.08083606031792);stroke-width:2\" />  </svg></g><g transform=\"translate(-8,0)\">  <svg x=\"77.66197722320436%\" y=\"40\" height=\"18\" overflow=\"visible\" width=\"30\">    <path d=\"M 0 -9 l 6 18 L 0 25\" fill=\"none\" style=\"stroke:rgb(255.0, 0.0, 81.08083606031792);stroke-width:2\" />  </svg></g><g transform=\"translate(-6,0)\">  <svg x=\"77.66197722320436%\" y=\"40\" height=\"18\" overflow=\"visible\" width=\"30\">    <path d=\"M 0 -9 l 6 18 L 0 25\" fill=\"none\" style=\"stroke:rgb(255.0, 0.0, 81.08083606031792);stroke-width:2\" />  </svg></g><g transform=\"translate(-4,0)\">  <svg x=\"77.66197722320436%\" y=\"40\" height=\"18\" overflow=\"visible\" width=\"30\">    <path d=\"M 0 -9 l 6 18 L 0 25\" fill=\"none\" style=\"stroke:rgb(255.0, 0.0, 81.08083606031792);stroke-width:2\" />  </svg></g><g transform=\"translate(-2,0)\">  <svg x=\"77.66197722320436%\" y=\"40\" height=\"18\" overflow=\"visible\" width=\"30\">    <path d=\"M 0 -9 l 6 18 L 0 25\" fill=\"none\" style=\"stroke:rgb(255.0, 0.0, 81.08083606031792);stroke-width:2\" />  </svg></g><g transform=\"translate(0,0)\">  <svg x=\"70.97846610514834%\" y=\"40\" height=\"18\" overflow=\"visible\" width=\"30\">    <path d=\"M 0 -9 l 6 18 L 0 25\" fill=\"none\" style=\"stroke:rgb(255.0, 0.0, 81.08083606031792);stroke-width:2\" />  </svg></g><g transform=\"translate(2,0)\">  <svg x=\"70.97846610514834%\" y=\"40\" height=\"18\" overflow=\"visible\" width=\"30\">    <path d=\"M 0 -9 l 6 18 L 0 25\" fill=\"none\" style=\"stroke:rgb(255.0, 0.0, 81.08083606031792);stroke-width:2\" />  </svg></g><g transform=\"translate(4,0)\">  <svg x=\"70.97846610514834%\" y=\"40\" height=\"18\" overflow=\"visible\" width=\"30\">    <path d=\"M 0 -9 l 6 18 L 0 25\" fill=\"none\" style=\"stroke:rgb(255.0, 0.0, 81.08083606031792);stroke-width:2\" />  </svg></g><g transform=\"translate(6,0)\">  <svg x=\"70.97846610514834%\" y=\"40\" height=\"18\" overflow=\"visible\" width=\"30\">    <path d=\"M 0 -9 l 6 18 L 0 25\" fill=\"none\" style=\"stroke:rgb(255.0, 0.0, 81.08083606031792);stroke-width:2\" />  </svg></g><g transform=\"translate(-8,0)\">  <svg x=\"70.97846610514834%\" y=\"40\" height=\"18\" overflow=\"visible\" width=\"30\">    <path d=\"M 0 -9 l 6 18 L 0 25\" fill=\"none\" style=\"stroke:rgb(255.0, 0.0, 81.08083606031792);stroke-width:2\" />  </svg></g><g transform=\"translate(-6,0)\">  <svg x=\"70.97846610514834%\" y=\"40\" height=\"18\" overflow=\"visible\" width=\"30\">    <path d=\"M 0 -9 l 6 18 L 0 25\" fill=\"none\" style=\"stroke:rgb(255.0, 0.0, 81.08083606031792);stroke-width:2\" />  </svg></g><g transform=\"translate(-4,0)\">  <svg x=\"70.97846610514834%\" y=\"40\" height=\"18\" overflow=\"visible\" width=\"30\">    <path d=\"M 0 -9 l 6 18 L 0 25\" fill=\"none\" style=\"stroke:rgb(255.0, 0.0, 81.08083606031792);stroke-width:2\" />  </svg></g><g transform=\"translate(-2,0)\">  <svg x=\"70.97846610514834%\" y=\"40\" height=\"18\" overflow=\"visible\" width=\"30\">    <path d=\"M 0 -9 l 6 18 L 0 25\" fill=\"none\" style=\"stroke:rgb(255.0, 0.0, 81.08083606031792);stroke-width:2\" />  </svg></g><g transform=\"translate(0,0)\">  <svg x=\"66.12714843700007%\" y=\"40\" height=\"18\" overflow=\"visible\" width=\"30\">    <path d=\"M 0 -9 l 6 18 L 0 25\" fill=\"none\" style=\"stroke:rgb(255.0, 0.0, 81.08083606031792);stroke-width:2\" />  </svg></g><g transform=\"translate(2,0)\">  <svg x=\"66.12714843700007%\" y=\"40\" height=\"18\" overflow=\"visible\" width=\"30\">    <path d=\"M 0 -9 l 6 18 L 0 25\" fill=\"none\" style=\"stroke:rgb(255.0, 0.0, 81.08083606031792);stroke-width:2\" />  </svg></g><g transform=\"translate(4,0)\">  <svg x=\"66.12714843700007%\" y=\"40\" height=\"18\" overflow=\"visible\" width=\"30\">    <path d=\"M 0 -9 l 6 18 L 0 25\" fill=\"none\" style=\"stroke:rgb(255.0, 0.0, 81.08083606031792);stroke-width:2\" />  </svg></g><g transform=\"translate(6,0)\">  <svg x=\"66.12714843700007%\" y=\"40\" height=\"18\" overflow=\"visible\" width=\"30\">    <path d=\"M 0 -9 l 6 18 L 0 25\" fill=\"none\" style=\"stroke:rgb(255.0, 0.0, 81.08083606031792);stroke-width:2\" />  </svg></g><g transform=\"translate(-8,0)\">  <svg x=\"66.12714843700007%\" y=\"40\" height=\"18\" overflow=\"visible\" width=\"30\">    <path d=\"M 0 -9 l 6 18 L 0 25\" fill=\"none\" style=\"stroke:rgb(255.0, 0.0, 81.08083606031792);stroke-width:2\" />  </svg></g><g transform=\"translate(-6,0)\">  <svg x=\"66.12714843700007%\" y=\"40\" height=\"18\" overflow=\"visible\" width=\"30\">    <path d=\"M 0 -9 l 6 18 L 0 25\" fill=\"none\" style=\"stroke:rgb(255.0, 0.0, 81.08083606031792);stroke-width:2\" />  </svg></g><g transform=\"translate(-4,0)\">  <svg x=\"66.12714843700007%\" y=\"40\" height=\"18\" overflow=\"visible\" width=\"30\">    <path d=\"M 0 -9 l 6 18 L 0 25\" fill=\"none\" style=\"stroke:rgb(255.0, 0.0, 81.08083606031792);stroke-width:2\" />  </svg></g><g transform=\"translate(-2,0)\">  <svg x=\"66.12714843700007%\" y=\"40\" height=\"18\" overflow=\"visible\" width=\"30\">    <path d=\"M 0 -9 l 6 18 L 0 25\" fill=\"none\" style=\"stroke:rgb(255.0, 0.0, 81.08083606031792);stroke-width:2\" />  </svg></g><g transform=\"translate(0,0)\">  <svg x=\"62.461352608518375%\" y=\"40\" height=\"18\" overflow=\"visible\" width=\"30\">    <path d=\"M 0 -9 l 6 18 L 0 25\" fill=\"none\" style=\"stroke:rgb(255.0, 0.0, 81.08083606031792);stroke-width:2\" />  </svg></g><g transform=\"translate(2,0)\">  <svg x=\"62.461352608518375%\" y=\"40\" height=\"18\" overflow=\"visible\" width=\"30\">    <path d=\"M 0 -9 l 6 18 L 0 25\" fill=\"none\" style=\"stroke:rgb(255.0, 0.0, 81.08083606031792);stroke-width:2\" />  </svg></g><g transform=\"translate(4,0)\">  <svg x=\"62.461352608518375%\" y=\"40\" height=\"18\" overflow=\"visible\" width=\"30\">    <path d=\"M 0 -9 l 6 18 L 0 25\" fill=\"none\" style=\"stroke:rgb(255.0, 0.0, 81.08083606031792);stroke-width:2\" />  </svg></g><g transform=\"translate(6,0)\">  <svg x=\"62.461352608518375%\" y=\"40\" height=\"18\" overflow=\"visible\" width=\"30\">    <path d=\"M 0 -9 l 6 18 L 0 25\" fill=\"none\" style=\"stroke:rgb(255.0, 0.0, 81.08083606031792);stroke-width:2\" />  </svg></g><g transform=\"translate(-8,0)\">  <svg x=\"62.461352608518375%\" y=\"40\" height=\"18\" overflow=\"visible\" width=\"30\">    <path d=\"M 0 -9 l 6 18 L 0 25\" fill=\"none\" style=\"stroke:rgb(255.0, 0.0, 81.08083606031792);stroke-width:2\" />  </svg></g><g transform=\"translate(-6,0)\">  <svg x=\"62.461352608518375%\" y=\"40\" height=\"18\" overflow=\"visible\" width=\"30\">    <path d=\"M 0 -9 l 6 18 L 0 25\" fill=\"none\" style=\"stroke:rgb(255.0, 0.0, 81.08083606031792);stroke-width:2\" />  </svg></g><g transform=\"translate(-4,0)\">  <svg x=\"62.461352608518375%\" y=\"40\" height=\"18\" overflow=\"visible\" width=\"30\">    <path d=\"M 0 -9 l 6 18 L 0 25\" fill=\"none\" style=\"stroke:rgb(255.0, 0.0, 81.08083606031792);stroke-width:2\" />  </svg></g><g transform=\"translate(-2,0)\">  <svg x=\"62.461352608518375%\" y=\"40\" height=\"18\" overflow=\"visible\" width=\"30\">    <path d=\"M 0 -9 l 6 18 L 0 25\" fill=\"none\" style=\"stroke:rgb(255.0, 0.0, 81.08083606031792);stroke-width:2\" />  </svg></g><g transform=\"translate(0,0)\">  <svg x=\"59.290365939438004%\" y=\"40\" height=\"18\" overflow=\"visible\" width=\"30\">    <path d=\"M 0 -9 l 6 18 L 0 25\" fill=\"none\" style=\"stroke:rgb(255.0, 0.0, 81.08083606031792);stroke-width:2\" />  </svg></g><g transform=\"translate(2,0)\">  <svg x=\"59.290365939438004%\" y=\"40\" height=\"18\" overflow=\"visible\" width=\"30\">    <path d=\"M 0 -9 l 6 18 L 0 25\" fill=\"none\" style=\"stroke:rgb(255.0, 0.0, 81.08083606031792);stroke-width:2\" />  </svg></g><g transform=\"translate(4,0)\">  <svg x=\"59.290365939438004%\" y=\"40\" height=\"18\" overflow=\"visible\" width=\"30\">    <path d=\"M 0 -9 l 6 18 L 0 25\" fill=\"none\" style=\"stroke:rgb(255.0, 0.0, 81.08083606031792);stroke-width:2\" />  </svg></g><g transform=\"translate(6,0)\">  <svg x=\"59.290365939438004%\" y=\"40\" height=\"18\" overflow=\"visible\" width=\"30\">    <path d=\"M 0 -9 l 6 18 L 0 25\" fill=\"none\" style=\"stroke:rgb(255.0, 0.0, 81.08083606031792);stroke-width:2\" />  </svg></g><g transform=\"translate(-8,0)\">  <svg x=\"59.290365939438004%\" y=\"40\" height=\"18\" overflow=\"visible\" width=\"30\">    <path d=\"M 0 -9 l 6 18 L 0 25\" fill=\"none\" style=\"stroke:rgb(255.0, 0.0, 81.08083606031792);stroke-width:2\" />  </svg></g><g transform=\"translate(-6,0)\">  <svg x=\"59.290365939438004%\" y=\"40\" height=\"18\" overflow=\"visible\" width=\"30\">    <path d=\"M 0 -9 l 6 18 L 0 25\" fill=\"none\" style=\"stroke:rgb(255.0, 0.0, 81.08083606031792);stroke-width:2\" />  </svg></g><g transform=\"translate(-4,0)\">  <svg x=\"59.290365939438004%\" y=\"40\" height=\"18\" overflow=\"visible\" width=\"30\">    <path d=\"M 0 -9 l 6 18 L 0 25\" fill=\"none\" style=\"stroke:rgb(255.0, 0.0, 81.08083606031792);stroke-width:2\" />  </svg></g><g transform=\"translate(-2,0)\">  <svg x=\"59.290365939438004%\" y=\"40\" height=\"18\" overflow=\"visible\" width=\"30\">    <path d=\"M 0 -9 l 6 18 L 0 25\" fill=\"none\" style=\"stroke:rgb(255.0, 0.0, 81.08083606031792);stroke-width:2\" />  </svg></g><g transform=\"translate(0,0)\">  <svg x=\"56.76488409808854%\" y=\"40\" height=\"18\" overflow=\"visible\" width=\"30\">    <path d=\"M 0 -9 l 6 18 L 0 25\" fill=\"none\" style=\"stroke:rgb(255.0, 0.0, 81.08083606031792);stroke-width:2\" />  </svg></g><g transform=\"translate(2,0)\">  <svg x=\"56.76488409808854%\" y=\"40\" height=\"18\" overflow=\"visible\" width=\"30\">    <path d=\"M 0 -9 l 6 18 L 0 25\" fill=\"none\" style=\"stroke:rgb(255.0, 0.0, 81.08083606031792);stroke-width:2\" />  </svg></g><g transform=\"translate(4,0)\">  <svg x=\"56.76488409808854%\" y=\"40\" height=\"18\" overflow=\"visible\" width=\"30\">    <path d=\"M 0 -9 l 6 18 L 0 25\" fill=\"none\" style=\"stroke:rgb(255.0, 0.0, 81.08083606031792);stroke-width:2\" />  </svg></g><g transform=\"translate(6,0)\">  <svg x=\"56.76488409808854%\" y=\"40\" height=\"18\" overflow=\"visible\" width=\"30\">    <path d=\"M 0 -9 l 6 18 L 0 25\" fill=\"none\" style=\"stroke:rgb(255.0, 0.0, 81.08083606031792);stroke-width:2\" />  </svg></g><g transform=\"translate(-8,0)\">  <svg x=\"56.76488409808854%\" y=\"40\" height=\"18\" overflow=\"visible\" width=\"30\">    <path d=\"M 0 -9 l 6 18 L 0 25\" fill=\"none\" style=\"stroke:rgb(255.0, 0.0, 81.08083606031792);stroke-width:2\" />  </svg></g><g transform=\"translate(-6,0)\">  <svg x=\"56.76488409808854%\" y=\"40\" height=\"18\" overflow=\"visible\" width=\"30\">    <path d=\"M 0 -9 l 6 18 L 0 25\" fill=\"none\" style=\"stroke:rgb(255.0, 0.0, 81.08083606031792);stroke-width:2\" />  </svg></g><g transform=\"translate(-4,0)\">  <svg x=\"56.76488409808854%\" y=\"40\" height=\"18\" overflow=\"visible\" width=\"30\">    <path d=\"M 0 -9 l 6 18 L 0 25\" fill=\"none\" style=\"stroke:rgb(255.0, 0.0, 81.08083606031792);stroke-width:2\" />  </svg></g><g transform=\"translate(-2,0)\">  <svg x=\"56.76488409808854%\" y=\"40\" height=\"18\" overflow=\"visible\" width=\"30\">    <path d=\"M 0 -9 l 6 18 L 0 25\" fill=\"none\" style=\"stroke:rgb(255.0, 0.0, 81.08083606031792);stroke-width:2\" />  </svg></g><g transform=\"translate(0,0)\">  <svg x=\"54.84572221089574%\" y=\"40\" height=\"18\" overflow=\"visible\" width=\"30\">    <path d=\"M 0 -9 l 6 18 L 0 25\" fill=\"none\" style=\"stroke:rgb(255.0, 0.0, 81.08083606031792);stroke-width:2\" />  </svg></g><g transform=\"translate(2,0)\">  <svg x=\"54.84572221089574%\" y=\"40\" height=\"18\" overflow=\"visible\" width=\"30\">    <path d=\"M 0 -9 l 6 18 L 0 25\" fill=\"none\" style=\"stroke:rgb(255.0, 0.0, 81.08083606031792);stroke-width:2\" />  </svg></g><g transform=\"translate(4,0)\">  <svg x=\"54.84572221089574%\" y=\"40\" height=\"18\" overflow=\"visible\" width=\"30\">    <path d=\"M 0 -9 l 6 18 L 0 25\" fill=\"none\" style=\"stroke:rgb(255.0, 0.0, 81.08083606031792);stroke-width:2\" />  </svg></g><g transform=\"translate(6,0)\">  <svg x=\"54.84572221089574%\" y=\"40\" height=\"18\" overflow=\"visible\" width=\"30\">    <path d=\"M 0 -9 l 6 18 L 0 25\" fill=\"none\" style=\"stroke:rgb(255.0, 0.0, 81.08083606031792);stroke-width:2\" />  </svg></g><g transform=\"translate(-8,0)\">  <svg x=\"54.84572221089574%\" y=\"40\" height=\"18\" overflow=\"visible\" width=\"30\">    <path d=\"M 0 -9 l 6 18 L 0 25\" fill=\"none\" style=\"stroke:rgb(255.0, 0.0, 81.08083606031792);stroke-width:2\" />  </svg></g><g transform=\"translate(-6,0)\">  <svg x=\"54.84572221089574%\" y=\"40\" height=\"18\" overflow=\"visible\" width=\"30\">    <path d=\"M 0 -9 l 6 18 L 0 25\" fill=\"none\" style=\"stroke:rgb(255.0, 0.0, 81.08083606031792);stroke-width:2\" />  </svg></g><g transform=\"translate(-4,0)\">  <svg x=\"54.84572221089574%\" y=\"40\" height=\"18\" overflow=\"visible\" width=\"30\">    <path d=\"M 0 -9 l 6 18 L 0 25\" fill=\"none\" style=\"stroke:rgb(255.0, 0.0, 81.08083606031792);stroke-width:2\" />  </svg></g><g transform=\"translate(-2,0)\">  <svg x=\"54.84572221089574%\" y=\"40\" height=\"18\" overflow=\"visible\" width=\"30\">    <path d=\"M 0 -9 l 6 18 L 0 25\" fill=\"none\" style=\"stroke:rgb(255.0, 0.0, 81.08083606031792);stroke-width:2\" />  </svg></g><g transform=\"translate(0,0)\">  <svg x=\"53.73955159221728%\" y=\"40\" height=\"18\" overflow=\"visible\" width=\"30\">    <path d=\"M 0 -9 l 6 18 L 0 25\" fill=\"none\" style=\"stroke:rgb(255.0, 0.0, 81.08083606031792);stroke-width:2\" />  </svg></g><g transform=\"translate(2,0)\">  <svg x=\"53.73955159221728%\" y=\"40\" height=\"18\" overflow=\"visible\" width=\"30\">    <path d=\"M 0 -9 l 6 18 L 0 25\" fill=\"none\" style=\"stroke:rgb(255.0, 0.0, 81.08083606031792);stroke-width:2\" />  </svg></g><g transform=\"translate(4,0)\">  <svg x=\"53.73955159221728%\" y=\"40\" height=\"18\" overflow=\"visible\" width=\"30\">    <path d=\"M 0 -9 l 6 18 L 0 25\" fill=\"none\" style=\"stroke:rgb(255.0, 0.0, 81.08083606031792);stroke-width:2\" />  </svg></g><g transform=\"translate(6,0)\">  <svg x=\"53.73955159221728%\" y=\"40\" height=\"18\" overflow=\"visible\" width=\"30\">    <path d=\"M 0 -9 l 6 18 L 0 25\" fill=\"none\" style=\"stroke:rgb(255.0, 0.0, 81.08083606031792);stroke-width:2\" />  </svg></g><g transform=\"translate(-8,0)\">  <svg x=\"53.73955159221728%\" y=\"40\" height=\"18\" overflow=\"visible\" width=\"30\">    <path d=\"M 0 -9 l 6 18 L 0 25\" fill=\"none\" style=\"stroke:rgb(255.0, 0.0, 81.08083606031792);stroke-width:2\" />  </svg></g><g transform=\"translate(-6,0)\">  <svg x=\"53.73955159221728%\" y=\"40\" height=\"18\" overflow=\"visible\" width=\"30\">    <path d=\"M 0 -9 l 6 18 L 0 25\" fill=\"none\" style=\"stroke:rgb(255.0, 0.0, 81.08083606031792);stroke-width:2\" />  </svg></g><g transform=\"translate(-4,0)\">  <svg x=\"53.73955159221728%\" y=\"40\" height=\"18\" overflow=\"visible\" width=\"30\">    <path d=\"M 0 -9 l 6 18 L 0 25\" fill=\"none\" style=\"stroke:rgb(255.0, 0.0, 81.08083606031792);stroke-width:2\" />  </svg></g><g transform=\"translate(-2,0)\">  <svg x=\"53.73955159221728%\" y=\"40\" height=\"18\" overflow=\"visible\" width=\"30\">    <path d=\"M 0 -9 l 6 18 L 0 25\" fill=\"none\" style=\"stroke:rgb(255.0, 0.0, 81.08083606031792);stroke-width:2\" />  </svg></g><rect transform=\"translate(-8,0)\" x=\"85.07853737050664%\" y=\"40\" width=\"8\" height=\"18\" style=\"fill:rgb(255.0, 0.0, 81.08083606031792)\"/><g transform=\"translate(-11.5,0)\">  <svg x=\"52.75820724997737%\" y=\"40\" height=\"18\" overflow=\"visible\" width=\"30\">    <path d=\"M 10 -9 l 6 18 L 10 25 L 0 25 L 0 -9\" fill=\"#ffffff\" style=\"stroke:rgb(255,255,255);stroke-width:2\" />  </svg></g><g transform=\"translate(-1.5,0)\">  <svg x=\"85.07853737050664%\" y=\"40\" height=\"18\" overflow=\"visible\" width=\"30\">    <path d=\"M 0 -9 l 6 18 L 0 25\" fill=\"none\" style=\"stroke:rgb(255, 195, 213);stroke-width:2\" />  </svg></g><rect x=\"77.66197722320436%\" y=\"40\" height=\"20\" width=\"7.4165601473022775%\"      onmouseover=\"document.getElementById('_tp_ogpxkfzncbcqukbjznzw_ind_4').style.textDecoration = 'underline';document.getElementById('_fs_ogpxkfzncbcqukbjznzw_ind_4').style.opacity = 1;document.getElementById('_fb_ogpxkfzncbcqukbjznzw_ind_4').style.opacity = 1;\"      onmouseout=\"document.getElementById('_tp_ogpxkfzncbcqukbjznzw_ind_4').style.textDecoration = 'none';document.getElementById('_fs_ogpxkfzncbcqukbjznzw_ind_4').style.opacity = 0;document.getElementById('_fb_ogpxkfzncbcqukbjznzw_ind_4').style.opacity = 0;\" style=\"fill:rgb(0,0,0,0)\" /><g transform=\"translate(-1.5,0)\">  <svg x=\"77.66197722320436%\" y=\"40\" height=\"18\" overflow=\"visible\" width=\"30\">    <path d=\"M 0 -9 l 6 18 L 0 25\" fill=\"none\" style=\"stroke:rgb(255, 195, 213);stroke-width:2\" />  </svg></g><rect x=\"70.97846610514834%\" y=\"40\" height=\"20\" width=\"6.683511118056018%\"      onmouseover=\"document.getElementById('_tp_ogpxkfzncbcqukbjznzw_ind_7').style.textDecoration = 'underline';document.getElementById('_fs_ogpxkfzncbcqukbjznzw_ind_7').style.opacity = 1;document.getElementById('_fb_ogpxkfzncbcqukbjznzw_ind_7').style.opacity = 1;\"      onmouseout=\"document.getElementById('_tp_ogpxkfzncbcqukbjznzw_ind_7').style.textDecoration = 'none';document.getElementById('_fs_ogpxkfzncbcqukbjznzw_ind_7').style.opacity = 0;document.getElementById('_fb_ogpxkfzncbcqukbjznzw_ind_7').style.opacity = 0;\" style=\"fill:rgb(0,0,0,0)\" /><g transform=\"translate(-1.5,0)\">  <svg x=\"70.97846610514834%\" y=\"40\" height=\"18\" overflow=\"visible\" width=\"30\">    <path d=\"M 0 -9 l 6 18 L 0 25\" fill=\"none\" style=\"stroke:rgb(255, 195, 213);stroke-width:2\" />  </svg></g><rect x=\"66.12714843700007%\" y=\"40\" height=\"20\" width=\"4.851317668148269%\"      onmouseover=\"document.getElementById('_tp_ogpxkfzncbcqukbjznzw_ind_5').style.textDecoration = 'underline';document.getElementById('_fs_ogpxkfzncbcqukbjznzw_ind_5').style.opacity = 1;document.getElementById('_fb_ogpxkfzncbcqukbjznzw_ind_5').style.opacity = 1;\"      onmouseout=\"document.getElementById('_tp_ogpxkfzncbcqukbjznzw_ind_5').style.textDecoration = 'none';document.getElementById('_fs_ogpxkfzncbcqukbjznzw_ind_5').style.opacity = 0;document.getElementById('_fb_ogpxkfzncbcqukbjznzw_ind_5').style.opacity = 0;\" style=\"fill:rgb(0,0,0,0)\" /><g transform=\"translate(-1.5,0)\">  <svg x=\"66.12714843700007%\" y=\"40\" height=\"18\" overflow=\"visible\" width=\"30\">    <path d=\"M 0 -9 l 6 18 L 0 25\" fill=\"none\" style=\"stroke:rgb(255, 195, 213);stroke-width:2\" />  </svg></g><rect x=\"62.461352608518375%\" y=\"40\" height=\"20\" width=\"3.6657958284816985%\"      onmouseover=\"document.getElementById('_tp_ogpxkfzncbcqukbjznzw_ind_8').style.textDecoration = 'underline';document.getElementById('_fs_ogpxkfzncbcqukbjznzw_ind_8').style.opacity = 1;document.getElementById('_fb_ogpxkfzncbcqukbjznzw_ind_8').style.opacity = 1;\"      onmouseout=\"document.getElementById('_tp_ogpxkfzncbcqukbjznzw_ind_8').style.textDecoration = 'none';document.getElementById('_fs_ogpxkfzncbcqukbjznzw_ind_8').style.opacity = 0;document.getElementById('_fb_ogpxkfzncbcqukbjznzw_ind_8').style.opacity = 0;\" style=\"fill:rgb(0,0,0,0)\" /><g transform=\"translate(-1.5,0)\">  <svg x=\"62.461352608518375%\" y=\"40\" height=\"18\" overflow=\"visible\" width=\"30\">    <path d=\"M 0 -9 l 6 18 L 0 25\" fill=\"none\" style=\"stroke:rgb(255, 195, 213);stroke-width:2\" />  </svg></g><rect x=\"59.290365939438004%\" y=\"40\" height=\"20\" width=\"3.1709866690803707%\"      onmouseover=\"document.getElementById('_tp_ogpxkfzncbcqukbjznzw_ind_12').style.textDecoration = 'underline';document.getElementById('_fs_ogpxkfzncbcqukbjznzw_ind_12').style.opacity = 1;document.getElementById('_fb_ogpxkfzncbcqukbjznzw_ind_12').style.opacity = 1;\"      onmouseout=\"document.getElementById('_tp_ogpxkfzncbcqukbjznzw_ind_12').style.textDecoration = 'none';document.getElementById('_fs_ogpxkfzncbcqukbjznzw_ind_12').style.opacity = 0;document.getElementById('_fb_ogpxkfzncbcqukbjznzw_ind_12').style.opacity = 0;\" style=\"fill:rgb(0,0,0,0)\" /><g transform=\"translate(-1.5,0)\">  <svg x=\"59.290365939438004%\" y=\"40\" height=\"18\" overflow=\"visible\" width=\"30\">    <path d=\"M 0 -9 l 6 18 L 0 25\" fill=\"none\" style=\"stroke:rgb(255, 195, 213);stroke-width:2\" />  </svg></g><rect x=\"56.76488409808854%\" y=\"40\" height=\"20\" width=\"2.5254818413494675%\"      onmouseover=\"document.getElementById('_tp_ogpxkfzncbcqukbjznzw_ind_3').style.textDecoration = 'underline';document.getElementById('_fs_ogpxkfzncbcqukbjznzw_ind_3').style.opacity = 1;document.getElementById('_fb_ogpxkfzncbcqukbjznzw_ind_3').style.opacity = 1;\"      onmouseout=\"document.getElementById('_tp_ogpxkfzncbcqukbjznzw_ind_3').style.textDecoration = 'none';document.getElementById('_fs_ogpxkfzncbcqukbjznzw_ind_3').style.opacity = 0;document.getElementById('_fb_ogpxkfzncbcqukbjznzw_ind_3').style.opacity = 0;\" style=\"fill:rgb(0,0,0,0)\" /><g transform=\"translate(-1.5,0)\">  <svg x=\"56.76488409808854%\" y=\"40\" height=\"18\" overflow=\"visible\" width=\"30\">    <path d=\"M 0 -9 l 6 18 L 0 25\" fill=\"none\" style=\"stroke:rgb(255, 195, 213);stroke-width:2\" />  </svg></g><rect x=\"54.84572221089574%\" y=\"40\" height=\"20\" width=\"1.9191618871928%\"      onmouseover=\"document.getElementById('_tp_ogpxkfzncbcqukbjznzw_ind_13').style.textDecoration = 'underline';document.getElementById('_fs_ogpxkfzncbcqukbjznzw_ind_13').style.opacity = 1;document.getElementById('_fb_ogpxkfzncbcqukbjznzw_ind_13').style.opacity = 1;\"      onmouseout=\"document.getElementById('_tp_ogpxkfzncbcqukbjznzw_ind_13').style.textDecoration = 'none';document.getElementById('_fs_ogpxkfzncbcqukbjznzw_ind_13').style.opacity = 0;document.getElementById('_fb_ogpxkfzncbcqukbjznzw_ind_13').style.opacity = 0;\" style=\"fill:rgb(0,0,0,0)\" /><g transform=\"translate(-1.5,0)\">  <svg x=\"54.84572221089574%\" y=\"40\" height=\"18\" overflow=\"visible\" width=\"30\">    <path d=\"M 0 -9 l 6 18 L 0 25\" fill=\"none\" style=\"stroke:rgb(255, 195, 213);stroke-width:2\" />  </svg></g><rect x=\"53.73955159221728%\" y=\"40\" height=\"20\" width=\"1.1061706186784548%\"      onmouseover=\"document.getElementById('_tp_ogpxkfzncbcqukbjznzw_ind_6').style.textDecoration = 'underline';document.getElementById('_fs_ogpxkfzncbcqukbjznzw_ind_6').style.opacity = 1;document.getElementById('_fb_ogpxkfzncbcqukbjznzw_ind_6').style.opacity = 1;\"      onmouseout=\"document.getElementById('_tp_ogpxkfzncbcqukbjznzw_ind_6').style.textDecoration = 'none';document.getElementById('_fs_ogpxkfzncbcqukbjznzw_ind_6').style.opacity = 0;document.getElementById('_fb_ogpxkfzncbcqukbjznzw_ind_6').style.opacity = 0;\" style=\"fill:rgb(0,0,0,0)\" /><rect x=\"52.75820724997737%\" y=\"40\" height=\"20\" width=\"0.9813443422399146%\"      onmouseover=\"document.getElementById('_tp_ogpxkfzncbcqukbjznzw_ind_11').style.textDecoration = 'underline';document.getElementById('_fs_ogpxkfzncbcqukbjznzw_ind_11').style.opacity = 1;document.getElementById('_fb_ogpxkfzncbcqukbjznzw_ind_11').style.opacity = 1;\"      onmouseout=\"document.getElementById('_tp_ogpxkfzncbcqukbjznzw_ind_11').style.textDecoration = 'none';document.getElementById('_fs_ogpxkfzncbcqukbjznzw_ind_11').style.opacity = 0;document.getElementById('_fb_ogpxkfzncbcqukbjznzw_ind_11').style.opacity = 0;\" style=\"fill:rgb(0,0,0,0)\" /><rect x=\"85.07853737050664%\" width=\"10.62675412192636%\" y=\"40\" height=\"18\" style=\"fill:rgb(0.0, 138.56128015770727, 250.76166088685727); stroke-width:0; stroke:rgb(0,0,0)\" /><line x1=\"85.07853737050664%\" x2=\"88.80071495232136%\" y1=\"60\" y2=\"60\" id=\"_fb_ogpxkfzncbcqukbjznzw_ind_10\" style=\"stroke:rgb(0.0, 138.56128015770727, 250.76166088685727);stroke-width:2; opacity: 0\"/><text x=\"86.939626161414%\" y=\"71\" font-size=\"12px\" fill=\"rgb(0.0, 138.56128015770727, 250.76166088685727)\" id=\"_fs_ogpxkfzncbcqukbjznzw_ind_10\" style=\"opacity: 0\" dominant-baseline=\"middle\" text-anchor=\"middle\">-0.447</text><svg x=\"85.07853737050664%\" y=\"40\" height=\"20\" width=\"3.7221775818147194%\">  <svg x=\"0\" y=\"0\" width=\"100%\" height=\"100%\">    <text x=\"50%\" y=\"9\" font-size=\"12px\" fill=\"rgb(255,255,255)\" dominant-baseline=\"middle\" text-anchor=\"middle\">buy</text>  </svg></svg><line x1=\"88.80071495232136%\" x2=\"91.67339393850679%\" y1=\"60\" y2=\"60\" id=\"_fb_ogpxkfzncbcqukbjznzw_ind_9\" style=\"stroke:rgb(0.0, 138.56128015770727, 250.76166088685727);stroke-width:2; opacity: 0\"/><text x=\"90.23705444541407%\" y=\"71\" font-size=\"12px\" fill=\"rgb(0.0, 138.56128015770727, 250.76166088685727)\" id=\"_fs_ogpxkfzncbcqukbjznzw_ind_9\" style=\"opacity: 0\" dominant-baseline=\"middle\" text-anchor=\"middle\">-0.345</text><svg x=\"88.80071495232136%\" y=\"40\" height=\"20\" width=\"2.8726789861854343%\">  <svg x=\"0\" y=\"0\" width=\"100%\" height=\"100%\">    <text x=\"50%\" y=\"9\" font-size=\"12px\" fill=\"rgb(255,255,255)\" dominant-baseline=\"middle\" text-anchor=\"middle\">by</text>  </svg></svg><line x1=\"91.67339393850679%\" x2=\"94.04732711857226%\" y1=\"60\" y2=\"60\" id=\"_fb_ogpxkfzncbcqukbjznzw_ind_1\" style=\"stroke:rgb(0.0, 138.56128015770727, 250.76166088685727);stroke-width:2; opacity: 0\"/><text x=\"92.86036052853953%\" y=\"71\" font-size=\"12px\" fill=\"rgb(0.0, 138.56128015770727, 250.76166088685727)\" id=\"_fs_ogpxkfzncbcqukbjznzw_ind_1\" style=\"opacity: 0\" dominant-baseline=\"middle\" text-anchor=\"middle\">-0.285</text><svg x=\"91.67339393850679%\" y=\"40\" height=\"20\" width=\"2.373933180065464%\">  <svg x=\"0\" y=\"0\" width=\"100%\" height=\"100%\">    <text x=\"50%\" y=\"9\" font-size=\"12px\" fill=\"rgb(255,255,255)\" dominant-baseline=\"middle\" text-anchor=\"middle\">it</text>  </svg></svg><line x1=\"94.04732711857226%\" x2=\"95.35408907608475%\" y1=\"60\" y2=\"60\" id=\"_fb_ogpxkfzncbcqukbjznzw_ind_14\" style=\"stroke:rgb(0.0, 138.56128015770727, 250.76166088685727);stroke-width:2; opacity: 0\"/><text x=\"94.7007080973285%\" y=\"71\" font-size=\"12px\" fill=\"rgb(0.0, 138.56128015770727, 250.76166088685727)\" id=\"_fs_ogpxkfzncbcqukbjznzw_ind_14\" style=\"opacity: 0\" dominant-baseline=\"middle\" text-anchor=\"middle\">-0.157</text><svg x=\"94.04732711857226%\" y=\"40\" height=\"20\" width=\"1.3067619575124922%\">  <svg x=\"0\" y=\"0\" width=\"100%\" height=\"100%\">    <text x=\"50%\" y=\"9\" font-size=\"12px\" fill=\"rgb(255,255,255)\" dominant-baseline=\"middle\" text-anchor=\"middle\">i</text>  </svg></svg><line x1=\"95.35408907608475%\" x2=\"95.7052868985643%\" y1=\"60\" y2=\"60\" id=\"_fb_ogpxkfzncbcqukbjznzw_ind_2\" style=\"stroke:rgb(0.0, 138.56128015770727, 250.76166088685727);stroke-width:2; opacity: 0\"/><text x=\"95.52968798732452%\" y=\"71\" font-size=\"12px\" fill=\"rgb(0.0, 138.56128015770727, 250.76166088685727)\" id=\"_fs_ogpxkfzncbcqukbjznzw_ind_2\" style=\"opacity: 0\" dominant-baseline=\"middle\" text-anchor=\"middle\">-0.042</text><svg x=\"95.35408907608475%\" y=\"40\" height=\"20\" width=\"0.35119782247954845%\">  <svg x=\"0\" y=\"0\" width=\"100%\" height=\"100%\">    <text x=\"50%\" y=\"9\" font-size=\"12px\" fill=\"rgb(255,255,255)\" dominant-baseline=\"middle\" text-anchor=\"middle\">s</text>  </svg></svg><line x1=\"95.7052868985643%\" x2=\"95.70528888510212%\" y1=\"60\" y2=\"60\" id=\"_fb_ogpxkfzncbcqukbjznzw_ind_16\" style=\"stroke:rgb(0.0, 138.56128015770727, 250.76166088685727);stroke-width:2; opacity: 0\"/><text x=\"95.70528789183321%\" y=\"71\" font-size=\"12px\" fill=\"rgb(0.0, 138.56128015770727, 250.76166088685727)\" id=\"_fs_ogpxkfzncbcqukbjznzw_ind_16\" style=\"opacity: 0\" dominant-baseline=\"middle\" text-anchor=\"middle\">-0.0</text><svg x=\"95.7052868985643%\" y=\"40\" height=\"20\" width=\"1.986537824905099e-06%\">  <svg x=\"0\" y=\"0\" width=\"100%\" height=\"100%\">    <text x=\"50%\" y=\"9\" font-size=\"12px\" fill=\"rgb(255,255,255)\" dominant-baseline=\"middle\" text-anchor=\"middle\"></text>  </svg></svg><line x1=\"95.70528888510212%\" x2=\"95.70529087163993%\" y1=\"60\" y2=\"60\" id=\"_fb_ogpxkfzncbcqukbjznzw_ind_15\" style=\"stroke:rgb(0.0, 138.56128015770727, 250.76166088685727);stroke-width:2; opacity: 0\"/><text x=\"95.70528987837102%\" y=\"71\" font-size=\"12px\" fill=\"rgb(0.0, 138.56128015770727, 250.76166088685727)\" id=\"_fs_ogpxkfzncbcqukbjznzw_ind_15\" style=\"opacity: 0\" dominant-baseline=\"middle\" text-anchor=\"middle\">-0.0</text><svg x=\"95.70528888510212%\" y=\"40\" height=\"20\" width=\"1.9865378106942444e-06%\">  <svg x=\"0\" y=\"0\" width=\"100%\" height=\"100%\">    <text x=\"50%\" y=\"9\" font-size=\"12px\" fill=\"rgb(255,255,255)\" dominant-baseline=\"middle\" text-anchor=\"middle\">[SEP]</text>  </svg></svg><line x1=\"95.70529087163993%\" x2=\"95.70529149243299%\" y1=\"60\" y2=\"60\" id=\"_fb_ogpxkfzncbcqukbjznzw_ind_0\" style=\"stroke:rgb(0.0, 138.56128015770727, 250.76166088685727);stroke-width:2; opacity: 0\"/><text x=\"95.70529118203646%\" y=\"71\" font-size=\"12px\" fill=\"rgb(0.0, 138.56128015770727, 250.76166088685727)\" id=\"_fs_ogpxkfzncbcqukbjznzw_ind_0\" style=\"opacity: 0\" dominant-baseline=\"middle\" text-anchor=\"middle\">-0.0</text><svg x=\"95.70529087163993%\" y=\"40\" height=\"20\" width=\"6.207930596247024e-07%\">  <svg x=\"0\" y=\"0\" width=\"100%\" height=\"100%\">    <text x=\"50%\" y=\"9\" font-size=\"12px\" fill=\"rgb(255,255,255)\" dominant-baseline=\"middle\" text-anchor=\"middle\"></text>  </svg></svg><g transform=\"translate(-8,0)\">  <svg x=\"88.80071495232136%\" y=\"40\" height=\"18\" overflow=\"visible\" width=\"30\">    <path d=\"M 8 -9 l -6 18 L 8 25\" fill=\"none\" style=\"stroke:rgb(0.0, 138.56128015770727, 250.76166088685727);stroke-width:2\" />  </svg></g><g transform=\"translate(-10,0)\">  <svg x=\"88.80071495232136%\" y=\"40\" height=\"18\" overflow=\"visible\" width=\"30\">    <path d=\"M 8 -9 l -6 18 L 8 25\" fill=\"none\" style=\"stroke:rgb(0.0, 138.56128015770727, 250.76166088685727);stroke-width:2\" />  </svg></g><g transform=\"translate(-12,0)\">  <svg x=\"88.80071495232136%\" y=\"40\" height=\"18\" overflow=\"visible\" width=\"30\">    <path d=\"M 8 -9 l -6 18 L 8 25\" fill=\"none\" style=\"stroke:rgb(0.0, 138.56128015770727, 250.76166088685727);stroke-width:2\" />  </svg></g><g transform=\"translate(-14,0)\">  <svg x=\"88.80071495232136%\" y=\"40\" height=\"18\" overflow=\"visible\" width=\"30\">    <path d=\"M 8 -9 l -6 18 L 8 25\" fill=\"none\" style=\"stroke:rgb(0.0, 138.56128015770727, 250.76166088685727);stroke-width:2\" />  </svg></g><g transform=\"translate(2,0)\">  <svg x=\"88.80071495232136%\" y=\"40\" height=\"18\" overflow=\"visible\" width=\"30\">    <path d=\"M 8 -9 l -6 18 L 8 25\" fill=\"none\" style=\"stroke:rgb(0.0, 138.56128015770727, 250.76166088685727);stroke-width:2\" />  </svg></g><g transform=\"translate(0,0)\">  <svg x=\"88.80071495232136%\" y=\"40\" height=\"18\" overflow=\"visible\" width=\"30\">    <path d=\"M 8 -9 l -6 18 L 8 25\" fill=\"none\" style=\"stroke:rgb(0.0, 138.56128015770727, 250.76166088685727);stroke-width:2\" />  </svg></g><g transform=\"translate(-2,0)\">  <svg x=\"88.80071495232136%\" y=\"40\" height=\"18\" overflow=\"visible\" width=\"30\">    <path d=\"M 8 -9 l -6 18 L 8 25\" fill=\"none\" style=\"stroke:rgb(0.0, 138.56128015770727, 250.76166088685727);stroke-width:2\" />  </svg></g><g transform=\"translate(-4,0)\">  <svg x=\"88.80071495232136%\" y=\"40\" height=\"18\" overflow=\"visible\" width=\"30\">    <path d=\"M 8 -9 l -6 18 L 8 25\" fill=\"none\" style=\"stroke:rgb(0.0, 138.56128015770727, 250.76166088685727);stroke-width:2\" />  </svg></g><g transform=\"translate(-8,0)\">  <svg x=\"91.67339393850679%\" y=\"40\" height=\"18\" overflow=\"visible\" width=\"30\">    <path d=\"M 8 -9 l -6 18 L 8 25\" fill=\"none\" style=\"stroke:rgb(0.0, 138.56128015770727, 250.76166088685727);stroke-width:2\" />  </svg></g><g transform=\"translate(-10,0)\">  <svg x=\"91.67339393850679%\" y=\"40\" height=\"18\" overflow=\"visible\" width=\"30\">    <path d=\"M 8 -9 l -6 18 L 8 25\" fill=\"none\" style=\"stroke:rgb(0.0, 138.56128015770727, 250.76166088685727);stroke-width:2\" />  </svg></g><g transform=\"translate(-12,0)\">  <svg x=\"91.67339393850679%\" y=\"40\" height=\"18\" overflow=\"visible\" width=\"30\">    <path d=\"M 8 -9 l -6 18 L 8 25\" fill=\"none\" style=\"stroke:rgb(0.0, 138.56128015770727, 250.76166088685727);stroke-width:2\" />  </svg></g><g transform=\"translate(-14,0)\">  <svg x=\"91.67339393850679%\" y=\"40\" height=\"18\" overflow=\"visible\" width=\"30\">    <path d=\"M 8 -9 l -6 18 L 8 25\" fill=\"none\" style=\"stroke:rgb(0.0, 138.56128015770727, 250.76166088685727);stroke-width:2\" />  </svg></g><g transform=\"translate(2,0)\">  <svg x=\"91.67339393850679%\" y=\"40\" height=\"18\" overflow=\"visible\" width=\"30\">    <path d=\"M 8 -9 l -6 18 L 8 25\" fill=\"none\" style=\"stroke:rgb(0.0, 138.56128015770727, 250.76166088685727);stroke-width:2\" />  </svg></g><g transform=\"translate(0,0)\">  <svg x=\"91.67339393850679%\" y=\"40\" height=\"18\" overflow=\"visible\" width=\"30\">    <path d=\"M 8 -9 l -6 18 L 8 25\" fill=\"none\" style=\"stroke:rgb(0.0, 138.56128015770727, 250.76166088685727);stroke-width:2\" />  </svg></g><g transform=\"translate(-2,0)\">  <svg x=\"91.67339393850679%\" y=\"40\" height=\"18\" overflow=\"visible\" width=\"30\">    <path d=\"M 8 -9 l -6 18 L 8 25\" fill=\"none\" style=\"stroke:rgb(0.0, 138.56128015770727, 250.76166088685727);stroke-width:2\" />  </svg></g><g transform=\"translate(-4,0)\">  <svg x=\"91.67339393850679%\" y=\"40\" height=\"18\" overflow=\"visible\" width=\"30\">    <path d=\"M 8 -9 l -6 18 L 8 25\" fill=\"none\" style=\"stroke:rgb(0.0, 138.56128015770727, 250.76166088685727);stroke-width:2\" />  </svg></g><g transform=\"translate(-8,0)\">  <svg x=\"94.04732711857226%\" y=\"40\" height=\"18\" overflow=\"visible\" width=\"30\">    <path d=\"M 8 -9 l -6 18 L 8 25\" fill=\"none\" style=\"stroke:rgb(0.0, 138.56128015770727, 250.76166088685727);stroke-width:2\" />  </svg></g><g transform=\"translate(-10,0)\">  <svg x=\"94.04732711857226%\" y=\"40\" height=\"18\" overflow=\"visible\" width=\"30\">    <path d=\"M 8 -9 l -6 18 L 8 25\" fill=\"none\" style=\"stroke:rgb(0.0, 138.56128015770727, 250.76166088685727);stroke-width:2\" />  </svg></g><g transform=\"translate(-12,0)\">  <svg x=\"94.04732711857226%\" y=\"40\" height=\"18\" overflow=\"visible\" width=\"30\">    <path d=\"M 8 -9 l -6 18 L 8 25\" fill=\"none\" style=\"stroke:rgb(0.0, 138.56128015770727, 250.76166088685727);stroke-width:2\" />  </svg></g><g transform=\"translate(-14,0)\">  <svg x=\"94.04732711857226%\" y=\"40\" height=\"18\" overflow=\"visible\" width=\"30\">    <path d=\"M 8 -9 l -6 18 L 8 25\" fill=\"none\" style=\"stroke:rgb(0.0, 138.56128015770727, 250.76166088685727);stroke-width:2\" />  </svg></g><g transform=\"translate(2,0)\">  <svg x=\"94.04732711857226%\" y=\"40\" height=\"18\" overflow=\"visible\" width=\"30\">    <path d=\"M 8 -9 l -6 18 L 8 25\" fill=\"none\" style=\"stroke:rgb(0.0, 138.56128015770727, 250.76166088685727);stroke-width:2\" />  </svg></g><g transform=\"translate(0,0)\">  <svg x=\"94.04732711857226%\" y=\"40\" height=\"18\" overflow=\"visible\" width=\"30\">    <path d=\"M 8 -9 l -6 18 L 8 25\" fill=\"none\" style=\"stroke:rgb(0.0, 138.56128015770727, 250.76166088685727);stroke-width:2\" />  </svg></g><g transform=\"translate(-2,0)\">  <svg x=\"94.04732711857226%\" y=\"40\" height=\"18\" overflow=\"visible\" width=\"30\">    <path d=\"M 8 -9 l -6 18 L 8 25\" fill=\"none\" style=\"stroke:rgb(0.0, 138.56128015770727, 250.76166088685727);stroke-width:2\" />  </svg></g><g transform=\"translate(-4,0)\">  <svg x=\"94.04732711857226%\" y=\"40\" height=\"18\" overflow=\"visible\" width=\"30\">    <path d=\"M 8 -9 l -6 18 L 8 25\" fill=\"none\" style=\"stroke:rgb(0.0, 138.56128015770727, 250.76166088685727);stroke-width:2\" />  </svg></g><g transform=\"translate(-8,0)\">  <svg x=\"95.35408907608475%\" y=\"40\" height=\"18\" overflow=\"visible\" width=\"30\">    <path d=\"M 8 -9 l -6 18 L 8 25\" fill=\"none\" style=\"stroke:rgb(0.0, 138.56128015770727, 250.76166088685727);stroke-width:2\" />  </svg></g><g transform=\"translate(-10,0)\">  <svg x=\"95.35408907608475%\" y=\"40\" height=\"18\" overflow=\"visible\" width=\"30\">    <path d=\"M 8 -9 l -6 18 L 8 25\" fill=\"none\" style=\"stroke:rgb(0.0, 138.56128015770727, 250.76166088685727);stroke-width:2\" />  </svg></g><g transform=\"translate(-12,0)\">  <svg x=\"95.35408907608475%\" y=\"40\" height=\"18\" overflow=\"visible\" width=\"30\">    <path d=\"M 8 -9 l -6 18 L 8 25\" fill=\"none\" style=\"stroke:rgb(0.0, 138.56128015770727, 250.76166088685727);stroke-width:2\" />  </svg></g><g transform=\"translate(-14,0)\">  <svg x=\"95.35408907608475%\" y=\"40\" height=\"18\" overflow=\"visible\" width=\"30\">    <path d=\"M 8 -9 l -6 18 L 8 25\" fill=\"none\" style=\"stroke:rgb(0.0, 138.56128015770727, 250.76166088685727);stroke-width:2\" />  </svg></g><g transform=\"translate(2,0)\">  <svg x=\"95.35408907608475%\" y=\"40\" height=\"18\" overflow=\"visible\" width=\"30\">    <path d=\"M 8 -9 l -6 18 L 8 25\" fill=\"none\" style=\"stroke:rgb(0.0, 138.56128015770727, 250.76166088685727);stroke-width:2\" />  </svg></g><g transform=\"translate(0,0)\">  <svg x=\"95.35408907608475%\" y=\"40\" height=\"18\" overflow=\"visible\" width=\"30\">    <path d=\"M 8 -9 l -6 18 L 8 25\" fill=\"none\" style=\"stroke:rgb(0.0, 138.56128015770727, 250.76166088685727);stroke-width:2\" />  </svg></g><g transform=\"translate(-2,0)\">  <svg x=\"95.35408907608475%\" y=\"40\" height=\"18\" overflow=\"visible\" width=\"30\">    <path d=\"M 8 -9 l -6 18 L 8 25\" fill=\"none\" style=\"stroke:rgb(0.0, 138.56128015770727, 250.76166088685727);stroke-width:2\" />  </svg></g><g transform=\"translate(-4,0)\">  <svg x=\"95.35408907608475%\" y=\"40\" height=\"18\" overflow=\"visible\" width=\"30\">    <path d=\"M 8 -9 l -6 18 L 8 25\" fill=\"none\" style=\"stroke:rgb(0.0, 138.56128015770727, 250.76166088685727);stroke-width:2\" />  </svg></g><g transform=\"translate(-8,0)\">  <svg x=\"95.7052868985643%\" y=\"40\" height=\"18\" overflow=\"visible\" width=\"30\">    <path d=\"M 8 -9 l -6 18 L 8 25\" fill=\"none\" style=\"stroke:rgb(0.0, 138.56128015770727, 250.76166088685727);stroke-width:2\" />  </svg></g><g transform=\"translate(-10,0)\">  <svg x=\"95.7052868985643%\" y=\"40\" height=\"18\" overflow=\"visible\" width=\"30\">    <path d=\"M 8 -9 l -6 18 L 8 25\" fill=\"none\" style=\"stroke:rgb(0.0, 138.56128015770727, 250.76166088685727);stroke-width:2\" />  </svg></g><g transform=\"translate(-12,0)\">  <svg x=\"95.7052868985643%\" y=\"40\" height=\"18\" overflow=\"visible\" width=\"30\">    <path d=\"M 8 -9 l -6 18 L 8 25\" fill=\"none\" style=\"stroke:rgb(0.0, 138.56128015770727, 250.76166088685727);stroke-width:2\" />  </svg></g><g transform=\"translate(-14,0)\">  <svg x=\"95.7052868985643%\" y=\"40\" height=\"18\" overflow=\"visible\" width=\"30\">    <path d=\"M 8 -9 l -6 18 L 8 25\" fill=\"none\" style=\"stroke:rgb(0.0, 138.56128015770727, 250.76166088685727);stroke-width:2\" />  </svg></g><g transform=\"translate(2,0)\">  <svg x=\"95.7052868985643%\" y=\"40\" height=\"18\" overflow=\"visible\" width=\"30\">    <path d=\"M 8 -9 l -6 18 L 8 25\" fill=\"none\" style=\"stroke:rgb(0.0, 138.56128015770727, 250.76166088685727);stroke-width:2\" />  </svg></g><g transform=\"translate(0,0)\">  <svg x=\"95.7052868985643%\" y=\"40\" height=\"18\" overflow=\"visible\" width=\"30\">    <path d=\"M 8 -9 l -6 18 L 8 25\" fill=\"none\" style=\"stroke:rgb(0.0, 138.56128015770727, 250.76166088685727);stroke-width:2\" />  </svg></g><g transform=\"translate(-2,0)\">  <svg x=\"95.7052868985643%\" y=\"40\" height=\"18\" overflow=\"visible\" width=\"30\">    <path d=\"M 8 -9 l -6 18 L 8 25\" fill=\"none\" style=\"stroke:rgb(0.0, 138.56128015770727, 250.76166088685727);stroke-width:2\" />  </svg></g><g transform=\"translate(-4,0)\">  <svg x=\"95.7052868985643%\" y=\"40\" height=\"18\" overflow=\"visible\" width=\"30\">    <path d=\"M 8 -9 l -6 18 L 8 25\" fill=\"none\" style=\"stroke:rgb(0.0, 138.56128015770727, 250.76166088685727);stroke-width:2\" />  </svg></g><g transform=\"translate(-8,0)\">  <svg x=\"95.70528888510212%\" y=\"40\" height=\"18\" overflow=\"visible\" width=\"30\">    <path d=\"M 8 -9 l -6 18 L 8 25\" fill=\"none\" style=\"stroke:rgb(0.0, 138.56128015770727, 250.76166088685727);stroke-width:2\" />  </svg></g><g transform=\"translate(-10,0)\">  <svg x=\"95.70528888510212%\" y=\"40\" height=\"18\" overflow=\"visible\" width=\"30\">    <path d=\"M 8 -9 l -6 18 L 8 25\" fill=\"none\" style=\"stroke:rgb(0.0, 138.56128015770727, 250.76166088685727);stroke-width:2\" />  </svg></g><g transform=\"translate(-12,0)\">  <svg x=\"95.70528888510212%\" y=\"40\" height=\"18\" overflow=\"visible\" width=\"30\">    <path d=\"M 8 -9 l -6 18 L 8 25\" fill=\"none\" style=\"stroke:rgb(0.0, 138.56128015770727, 250.76166088685727);stroke-width:2\" />  </svg></g><g transform=\"translate(-14,0)\">  <svg x=\"95.70528888510212%\" y=\"40\" height=\"18\" overflow=\"visible\" width=\"30\">    <path d=\"M 8 -9 l -6 18 L 8 25\" fill=\"none\" style=\"stroke:rgb(0.0, 138.56128015770727, 250.76166088685727);stroke-width:2\" />  </svg></g><g transform=\"translate(2,0)\">  <svg x=\"95.70528888510212%\" y=\"40\" height=\"18\" overflow=\"visible\" width=\"30\">    <path d=\"M 8 -9 l -6 18 L 8 25\" fill=\"none\" style=\"stroke:rgb(0.0, 138.56128015770727, 250.76166088685727);stroke-width:2\" />  </svg></g><g transform=\"translate(0,0)\">  <svg x=\"95.70528888510212%\" y=\"40\" height=\"18\" overflow=\"visible\" width=\"30\">    <path d=\"M 8 -9 l -6 18 L 8 25\" fill=\"none\" style=\"stroke:rgb(0.0, 138.56128015770727, 250.76166088685727);stroke-width:2\" />  </svg></g><g transform=\"translate(-2,0)\">  <svg x=\"95.70528888510212%\" y=\"40\" height=\"18\" overflow=\"visible\" width=\"30\">    <path d=\"M 8 -9 l -6 18 L 8 25\" fill=\"none\" style=\"stroke:rgb(0.0, 138.56128015770727, 250.76166088685727);stroke-width:2\" />  </svg></g><g transform=\"translate(-4,0)\">  <svg x=\"95.70528888510212%\" y=\"40\" height=\"18\" overflow=\"visible\" width=\"30\">    <path d=\"M 8 -9 l -6 18 L 8 25\" fill=\"none\" style=\"stroke:rgb(0.0, 138.56128015770727, 250.76166088685727);stroke-width:2\" />  </svg></g><g transform=\"translate(-8,0)\">  <svg x=\"95.70529087163993%\" y=\"40\" height=\"18\" overflow=\"visible\" width=\"30\">    <path d=\"M 8 -9 l -6 18 L 8 25\" fill=\"none\" style=\"stroke:rgb(0.0, 138.56128015770727, 250.76166088685727);stroke-width:2\" />  </svg></g><g transform=\"translate(-10,0)\">  <svg x=\"95.70529087163993%\" y=\"40\" height=\"18\" overflow=\"visible\" width=\"30\">    <path d=\"M 8 -9 l -6 18 L 8 25\" fill=\"none\" style=\"stroke:rgb(0.0, 138.56128015770727, 250.76166088685727);stroke-width:2\" />  </svg></g><g transform=\"translate(-12,0)\">  <svg x=\"95.70529087163993%\" y=\"40\" height=\"18\" overflow=\"visible\" width=\"30\">    <path d=\"M 8 -9 l -6 18 L 8 25\" fill=\"none\" style=\"stroke:rgb(0.0, 138.56128015770727, 250.76166088685727);stroke-width:2\" />  </svg></g><g transform=\"translate(-14,0)\">  <svg x=\"95.70529087163993%\" y=\"40\" height=\"18\" overflow=\"visible\" width=\"30\">    <path d=\"M 8 -9 l -6 18 L 8 25\" fill=\"none\" style=\"stroke:rgb(0.0, 138.56128015770727, 250.76166088685727);stroke-width:2\" />  </svg></g><g transform=\"translate(2,0)\">  <svg x=\"95.70529087163993%\" y=\"40\" height=\"18\" overflow=\"visible\" width=\"30\">    <path d=\"M 8 -9 l -6 18 L 8 25\" fill=\"none\" style=\"stroke:rgb(0.0, 138.56128015770727, 250.76166088685727);stroke-width:2\" />  </svg></g><g transform=\"translate(0,0)\">  <svg x=\"95.70529087163993%\" y=\"40\" height=\"18\" overflow=\"visible\" width=\"30\">    <path d=\"M 8 -9 l -6 18 L 8 25\" fill=\"none\" style=\"stroke:rgb(0.0, 138.56128015770727, 250.76166088685727);stroke-width:2\" />  </svg></g><g transform=\"translate(-2,0)\">  <svg x=\"95.70529087163993%\" y=\"40\" height=\"18\" overflow=\"visible\" width=\"30\">    <path d=\"M 8 -9 l -6 18 L 8 25\" fill=\"none\" style=\"stroke:rgb(0.0, 138.56128015770727, 250.76166088685727);stroke-width:2\" />  </svg></g><g transform=\"translate(-4,0)\">  <svg x=\"95.70529087163993%\" y=\"40\" height=\"18\" overflow=\"visible\" width=\"30\">    <path d=\"M 8 -9 l -6 18 L 8 25\" fill=\"none\" style=\"stroke:rgb(0.0, 138.56128015770727, 250.76166088685727);stroke-width:2\" />  </svg></g><rect transform=\"translate(0,0)\" x=\"85.07853737050664%\" y=\"40\" width=\"8\" height=\"18\" style=\"fill:rgb(0.0, 138.56128015770727, 250.76166088685727)\"/><g transform=\"translate(-6.0,0)\">  <svg x=\"95.70529149243299%\" y=\"40\" height=\"18\" overflow=\"visible\" width=\"30\">    <path d=\"M 8 -9 l -6 18 L 8 25 L 20 25 L 20 -9\" fill=\"#ffffff\" style=\"stroke:rgb(255,255,255);stroke-width:2\" />  </svg></g><g transform=\"translate(-6.0,0)\">  <svg x=\"88.80071495232136%\" y=\"40\" height=\"18\" overflow=\"visible\" width=\"30\">    <path d=\"M 8 -9 l -6 18 L 8 25\" fill=\"none\" style=\"stroke:rgb(208, 230, 250);stroke-width:2\" />  </svg></g><rect x=\"85.07853737050664%\" y=\"40\" height=\"20\" width=\"3.7221775818147194%\"      onmouseover=\"document.getElementById('_tp_ogpxkfzncbcqukbjznzw_ind_10').style.textDecoration = 'underline';document.getElementById('_fs_ogpxkfzncbcqukbjznzw_ind_10').style.opacity = 1;document.getElementById('_fb_ogpxkfzncbcqukbjznzw_ind_10').style.opacity = 1;\"      onmouseout=\"document.getElementById('_tp_ogpxkfzncbcqukbjznzw_ind_10').style.textDecoration = 'none';document.getElementById('_fs_ogpxkfzncbcqukbjznzw_ind_10').style.opacity = 0;document.getElementById('_fb_ogpxkfzncbcqukbjznzw_ind_10').style.opacity = 0;\" style=\"fill:rgb(0,0,0,0)\" /><g transform=\"translate(-6.0,0)\">  <svg x=\"91.67339393850679%\" y=\"40\" height=\"18\" overflow=\"visible\" width=\"30\">    <path d=\"M 8 -9 l -6 18 L 8 25\" fill=\"none\" style=\"stroke:rgb(208, 230, 250);stroke-width:2\" />  </svg></g><rect x=\"88.80071495232136%\" y=\"40\" height=\"20\" width=\"2.8726789861854343%\"      onmouseover=\"document.getElementById('_tp_ogpxkfzncbcqukbjznzw_ind_9').style.textDecoration = 'underline';document.getElementById('_fs_ogpxkfzncbcqukbjznzw_ind_9').style.opacity = 1;document.getElementById('_fb_ogpxkfzncbcqukbjznzw_ind_9').style.opacity = 1;\"      onmouseout=\"document.getElementById('_tp_ogpxkfzncbcqukbjznzw_ind_9').style.textDecoration = 'none';document.getElementById('_fs_ogpxkfzncbcqukbjznzw_ind_9').style.opacity = 0;document.getElementById('_fb_ogpxkfzncbcqukbjznzw_ind_9').style.opacity = 0;\" style=\"fill:rgb(0,0,0,0)\" /><g transform=\"translate(-6.0,0)\">  <svg x=\"94.04732711857226%\" y=\"40\" height=\"18\" overflow=\"visible\" width=\"30\">    <path d=\"M 8 -9 l -6 18 L 8 25\" fill=\"none\" style=\"stroke:rgb(208, 230, 250);stroke-width:2\" />  </svg></g><rect x=\"91.67339393850679%\" y=\"40\" height=\"20\" width=\"2.373933180065464%\"      onmouseover=\"document.getElementById('_tp_ogpxkfzncbcqukbjznzw_ind_1').style.textDecoration = 'underline';document.getElementById('_fs_ogpxkfzncbcqukbjznzw_ind_1').style.opacity = 1;document.getElementById('_fb_ogpxkfzncbcqukbjznzw_ind_1').style.opacity = 1;\"      onmouseout=\"document.getElementById('_tp_ogpxkfzncbcqukbjznzw_ind_1').style.textDecoration = 'none';document.getElementById('_fs_ogpxkfzncbcqukbjznzw_ind_1').style.opacity = 0;document.getElementById('_fb_ogpxkfzncbcqukbjznzw_ind_1').style.opacity = 0;\" style=\"fill:rgb(0,0,0,0)\" /><g transform=\"translate(-6.0,0)\">  <svg x=\"95.35408907608475%\" y=\"40\" height=\"18\" overflow=\"visible\" width=\"30\">    <path d=\"M 8 -9 l -6 18 L 8 25\" fill=\"none\" style=\"stroke:rgb(208, 230, 250);stroke-width:2\" />  </svg></g><rect x=\"94.04732711857226%\" y=\"40\" height=\"20\" width=\"1.3067619575124922%\"      onmouseover=\"document.getElementById('_tp_ogpxkfzncbcqukbjznzw_ind_14').style.textDecoration = 'underline';document.getElementById('_fs_ogpxkfzncbcqukbjznzw_ind_14').style.opacity = 1;document.getElementById('_fb_ogpxkfzncbcqukbjznzw_ind_14').style.opacity = 1;\"      onmouseout=\"document.getElementById('_tp_ogpxkfzncbcqukbjznzw_ind_14').style.textDecoration = 'none';document.getElementById('_fs_ogpxkfzncbcqukbjznzw_ind_14').style.opacity = 0;document.getElementById('_fb_ogpxkfzncbcqukbjznzw_ind_14').style.opacity = 0;\" style=\"fill:rgb(0,0,0,0)\" /><g transform=\"translate(-6.0,0)\">  <svg x=\"95.7052868985643%\" y=\"40\" height=\"18\" overflow=\"visible\" width=\"30\">    <path d=\"M 8 -9 l -6 18 L 8 25\" fill=\"none\" style=\"stroke:rgb(208, 230, 250);stroke-width:2\" />  </svg></g><rect x=\"95.35408907608475%\" y=\"40\" height=\"20\" width=\"0.35119782247954845%\"      onmouseover=\"document.getElementById('_tp_ogpxkfzncbcqukbjznzw_ind_2').style.textDecoration = 'underline';document.getElementById('_fs_ogpxkfzncbcqukbjznzw_ind_2').style.opacity = 1;document.getElementById('_fb_ogpxkfzncbcqukbjznzw_ind_2').style.opacity = 1;\"      onmouseout=\"document.getElementById('_tp_ogpxkfzncbcqukbjznzw_ind_2').style.textDecoration = 'none';document.getElementById('_fs_ogpxkfzncbcqukbjznzw_ind_2').style.opacity = 0;document.getElementById('_fb_ogpxkfzncbcqukbjznzw_ind_2').style.opacity = 0;\" style=\"fill:rgb(0,0,0,0)\" /><g transform=\"translate(-6.0,0)\">  <svg x=\"95.70528888510212%\" y=\"40\" height=\"18\" overflow=\"visible\" width=\"30\">    <path d=\"M 8 -9 l -6 18 L 8 25\" fill=\"none\" style=\"stroke:rgb(208, 230, 250);stroke-width:2\" />  </svg></g><rect x=\"95.7052868985643%\" y=\"40\" height=\"20\" width=\"1.986537824905099e-06%\"      onmouseover=\"document.getElementById('_tp_ogpxkfzncbcqukbjznzw_ind_16').style.textDecoration = 'underline';document.getElementById('_fs_ogpxkfzncbcqukbjznzw_ind_16').style.opacity = 1;document.getElementById('_fb_ogpxkfzncbcqukbjznzw_ind_16').style.opacity = 1;\"      onmouseout=\"document.getElementById('_tp_ogpxkfzncbcqukbjznzw_ind_16').style.textDecoration = 'none';document.getElementById('_fs_ogpxkfzncbcqukbjznzw_ind_16').style.opacity = 0;document.getElementById('_fb_ogpxkfzncbcqukbjznzw_ind_16').style.opacity = 0;\" style=\"fill:rgb(0,0,0,0)\" /><g transform=\"translate(-6.0,0)\">  <svg x=\"95.70529087163993%\" y=\"40\" height=\"18\" overflow=\"visible\" width=\"30\">    <path d=\"M 8 -9 l -6 18 L 8 25\" fill=\"none\" style=\"stroke:rgb(208, 230, 250);stroke-width:2\" />  </svg></g><rect x=\"95.70528888510212%\" y=\"40\" height=\"20\" width=\"1.9865378106942444e-06%\"      onmouseover=\"document.getElementById('_tp_ogpxkfzncbcqukbjznzw_ind_15').style.textDecoration = 'underline';document.getElementById('_fs_ogpxkfzncbcqukbjznzw_ind_15').style.opacity = 1;document.getElementById('_fb_ogpxkfzncbcqukbjznzw_ind_15').style.opacity = 1;\"      onmouseout=\"document.getElementById('_tp_ogpxkfzncbcqukbjznzw_ind_15').style.textDecoration = 'none';document.getElementById('_fs_ogpxkfzncbcqukbjznzw_ind_15').style.opacity = 0;document.getElementById('_fb_ogpxkfzncbcqukbjznzw_ind_15').style.opacity = 0;\" style=\"fill:rgb(0,0,0,0)\" /><rect x=\"95.70529087163993%\" y=\"40\" height=\"20\" width=\"6.207930596247024e-07%\"      onmouseover=\"document.getElementById('_tp_ogpxkfzncbcqukbjznzw_ind_0').style.textDecoration = 'underline';document.getElementById('_fs_ogpxkfzncbcqukbjznzw_ind_0').style.opacity = 1;document.getElementById('_fb_ogpxkfzncbcqukbjznzw_ind_0').style.opacity = 1;\"      onmouseout=\"document.getElementById('_tp_ogpxkfzncbcqukbjznzw_ind_0').style.textDecoration = 'none';document.getElementById('_fs_ogpxkfzncbcqukbjznzw_ind_0').style.opacity = 0;document.getElementById('_fb_ogpxkfzncbcqukbjznzw_ind_0').style.opacity = 0;\" style=\"fill:rgb(0,0,0,0)\" /></svg><div align='center'><div style=\"color: rgb(120,120,120); font-size: 12px; margin-top: -15px;\">inputs</div><div style='display: inline; text-align: center;'\n",
       "    ><div style='display: none; color: #999; padding-top: 0px; font-size: 12px;'>-0.0</div\n",
       "        ><div id='_tp_ogpxkfzncbcqukbjznzw_ind_0'\n",
       "            style='display: inline; background: rgba(54.70588235294111, 122.49411764705886, 213.40784313725496, 0.0); border-radius: 3px; padding: 0px'\n",
       "            onclick=\"\n",
       "            if (this.previousSibling.style.display == 'none') {\n",
       "                this.previousSibling.style.display = 'block';\n",
       "                this.parentNode.style.display = 'inline-block';\n",
       "            } else {\n",
       "                this.previousSibling.style.display = 'none';\n",
       "                this.parentNode.style.display = 'inline';\n",
       "            }\"\n",
       "            onmouseover=\"document.getElementById('_fb_ogpxkfzncbcqukbjznzw_ind_0').style.opacity = 1; document.getElementById('_fs_ogpxkfzncbcqukbjznzw_ind_0').style.opacity = 1;\"\n",
       "            onmouseout=\"document.getElementById('_fb_ogpxkfzncbcqukbjznzw_ind_0').style.opacity = 0; document.getElementById('_fs_ogpxkfzncbcqukbjznzw_ind_0').style.opacity = 0;\"\n",
       "        ></div></div><div style='display: inline; text-align: center;'\n",
       "    ><div style='display: none; color: #999; padding-top: 0px; font-size: 12px;'>-0.285</div\n",
       "        ><div id='_tp_ogpxkfzncbcqukbjznzw_ind_1'\n",
       "            style='display: inline; background: rgba(30.0, 136.0, 229.0, 0.29055258467023176); border-radius: 3px; padding: 0px'\n",
       "            onclick=\"\n",
       "            if (this.previousSibling.style.display == 'none') {\n",
       "                this.previousSibling.style.display = 'block';\n",
       "                this.parentNode.style.display = 'inline-block';\n",
       "            } else {\n",
       "                this.previousSibling.style.display = 'none';\n",
       "                this.parentNode.style.display = 'inline';\n",
       "            }\"\n",
       "            onmouseover=\"document.getElementById('_fb_ogpxkfzncbcqukbjznzw_ind_1').style.opacity = 1; document.getElementById('_fs_ogpxkfzncbcqukbjznzw_ind_1').style.opacity = 1;\"\n",
       "            onmouseout=\"document.getElementById('_fb_ogpxkfzncbcqukbjznzw_ind_1').style.opacity = 0; document.getElementById('_fs_ogpxkfzncbcqukbjznzw_ind_1').style.opacity = 0;\"\n",
       "        >it </div></div><div style='display: inline; text-align: center;'\n",
       "    ><div style='display: none; color: #999; padding-top: 0px; font-size: 12px;'>-0.042</div\n",
       "        ><div id='_tp_ogpxkfzncbcqukbjznzw_ind_2'\n",
       "            style='display: inline; background: rgba(30.0, 136.0, 229.0, 0.03830461477520309); border-radius: 3px; padding: 0px'\n",
       "            onclick=\"\n",
       "            if (this.previousSibling.style.display == 'none') {\n",
       "                this.previousSibling.style.display = 'block';\n",
       "                this.parentNode.style.display = 'inline-block';\n",
       "            } else {\n",
       "                this.previousSibling.style.display = 'none';\n",
       "                this.parentNode.style.display = 'inline';\n",
       "            }\"\n",
       "            onmouseover=\"document.getElementById('_fb_ogpxkfzncbcqukbjznzw_ind_2').style.opacity = 1; document.getElementById('_fs_ogpxkfzncbcqukbjznzw_ind_2').style.opacity = 1;\"\n",
       "            onmouseout=\"document.getElementById('_fb_ogpxkfzncbcqukbjznzw_ind_2').style.opacity = 0; document.getElementById('_fs_ogpxkfzncbcqukbjznzw_ind_2').style.opacity = 0;\"\n",
       "        >s </div></div><div style='display: inline; text-align: center;'\n",
       "    ><div style='display: none; color: #999; padding-top: 0px; font-size: 12px;'>0.303</div\n",
       "        ><div id='_tp_ogpxkfzncbcqukbjznzw_ind_3'\n",
       "            style='display: inline; background: rgba(255.0, 13.0, 87.0, 0.306318082788671); border-radius: 3px; padding: 0px'\n",
       "            onclick=\"\n",
       "            if (this.previousSibling.style.display == 'none') {\n",
       "                this.previousSibling.style.display = 'block';\n",
       "                this.parentNode.style.display = 'inline-block';\n",
       "            } else {\n",
       "                this.previousSibling.style.display = 'none';\n",
       "                this.parentNode.style.display = 'inline';\n",
       "            }\"\n",
       "            onmouseover=\"document.getElementById('_fb_ogpxkfzncbcqukbjznzw_ind_3').style.opacity = 1; document.getElementById('_fs_ogpxkfzncbcqukbjznzw_ind_3').style.opacity = 1;\"\n",
       "            onmouseout=\"document.getElementById('_fb_ogpxkfzncbcqukbjznzw_ind_3').style.opacity = 0; document.getElementById('_fs_ogpxkfzncbcqukbjznzw_ind_3').style.opacity = 0;\"\n",
       "        >a </div></div><div style='display: inline; text-align: center;'\n",
       "    ><div style='display: none; color: #999; padding-top: 0px; font-size: 12px;'>0.89</div\n",
       "        ><div id='_tp_ogpxkfzncbcqukbjznzw_ind_4'\n",
       "            style='display: inline; background: rgba(255.0, 13.0, 87.0, 0.9054070112893643); border-radius: 3px; padding: 0px'\n",
       "            onclick=\"\n",
       "            if (this.previousSibling.style.display == 'none') {\n",
       "                this.previousSibling.style.display = 'block';\n",
       "                this.parentNode.style.display = 'inline-block';\n",
       "            } else {\n",
       "                this.previousSibling.style.display = 'none';\n",
       "                this.parentNode.style.display = 'inline';\n",
       "            }\"\n",
       "            onmouseover=\"document.getElementById('_fb_ogpxkfzncbcqukbjznzw_ind_4').style.opacity = 1; document.getElementById('_fs_ogpxkfzncbcqukbjznzw_ind_4').style.opacity = 1;\"\n",
       "            onmouseout=\"document.getElementById('_fb_ogpxkfzncbcqukbjznzw_ind_4').style.opacity = 0; document.getElementById('_fs_ogpxkfzncbcqukbjznzw_ind_4').style.opacity = 0;\"\n",
       "        >lovely </div></div><div style='display: inline; text-align: center;'\n",
       "    ><div style='display: none; color: #999; padding-top: 0px; font-size: 12px;'>0.582</div\n",
       "        ><div id='_tp_ogpxkfzncbcqukbjznzw_ind_5'\n",
       "            style='display: inline; background: rgba(255.0, 13.0, 87.0, 0.5900970489205783); border-radius: 3px; padding: 0px'\n",
       "            onclick=\"\n",
       "            if (this.previousSibling.style.display == 'none') {\n",
       "                this.previousSibling.style.display = 'block';\n",
       "                this.parentNode.style.display = 'inline-block';\n",
       "            } else {\n",
       "                this.previousSibling.style.display = 'none';\n",
       "                this.parentNode.style.display = 'inline';\n",
       "            }\"\n",
       "            onmouseover=\"document.getElementById('_fb_ogpxkfzncbcqukbjznzw_ind_5').style.opacity = 1; document.getElementById('_fs_ogpxkfzncbcqukbjznzw_ind_5').style.opacity = 1;\"\n",
       "            onmouseout=\"document.getElementById('_fb_ogpxkfzncbcqukbjznzw_ind_5').style.opacity = 0; document.getElementById('_fs_ogpxkfzncbcqukbjznzw_ind_5').style.opacity = 0;\"\n",
       "        >film </div></div><div style='display: inline; text-align: center;'\n",
       "    ><div style='display: none; color: #999; padding-top: 0px; font-size: 12px;'>0.133</div\n",
       "        ><div id='_tp_ogpxkfzncbcqukbjznzw_ind_6'\n",
       "            style='display: inline; background: rgba(255.0, 13.0, 87.0, 0.13289760348583876); border-radius: 3px; padding: 0px'\n",
       "            onclick=\"\n",
       "            if (this.previousSibling.style.display == 'none') {\n",
       "                this.previousSibling.style.display = 'block';\n",
       "                this.parentNode.style.display = 'inline-block';\n",
       "            } else {\n",
       "                this.previousSibling.style.display = 'none';\n",
       "                this.parentNode.style.display = 'inline';\n",
       "            }\"\n",
       "            onmouseover=\"document.getElementById('_fb_ogpxkfzncbcqukbjznzw_ind_6').style.opacity = 1; document.getElementById('_fs_ogpxkfzncbcqukbjznzw_ind_6').style.opacity = 1;\"\n",
       "            onmouseout=\"document.getElementById('_fb_ogpxkfzncbcqukbjznzw_ind_6').style.opacity = 0; document.getElementById('_fs_ogpxkfzncbcqukbjznzw_ind_6').style.opacity = 0;\"\n",
       "        >with </div></div><div style='display: inline; text-align: center;'\n",
       "    ><div style='display: none; color: #999; padding-top: 0px; font-size: 12px;'>0.802</div\n",
       "        ><div id='_tp_ogpxkfzncbcqukbjznzw_ind_7'\n",
       "            style='display: inline; background: rgba(255.0, 13.0, 87.0, 0.8186967716379481); border-radius: 3px; padding: 0px'\n",
       "            onclick=\"\n",
       "            if (this.previousSibling.style.display == 'none') {\n",
       "                this.previousSibling.style.display = 'block';\n",
       "                this.parentNode.style.display = 'inline-block';\n",
       "            } else {\n",
       "                this.previousSibling.style.display = 'none';\n",
       "                this.parentNode.style.display = 'inline';\n",
       "            }\"\n",
       "            onmouseover=\"document.getElementById('_fb_ogpxkfzncbcqukbjznzw_ind_7').style.opacity = 1; document.getElementById('_fs_ogpxkfzncbcqukbjznzw_ind_7').style.opacity = 1;\"\n",
       "            onmouseout=\"document.getElementById('_fb_ogpxkfzncbcqukbjznzw_ind_7').style.opacity = 0; document.getElementById('_fs_ogpxkfzncbcqukbjznzw_ind_7').style.opacity = 0;\"\n",
       "        >lovely </div></div><div style='display: inline; text-align: center;'\n",
       "    ><div style='display: none; color: #999; padding-top: 0px; font-size: 12px;'>0.44</div\n",
       "        ><div id='_tp_ogpxkfzncbcqukbjznzw_ind_8'\n",
       "            style='display: inline; background: rgba(255.0, 13.0, 87.0, 0.44820756585462457); border-radius: 3px; padding: 0px'\n",
       "            onclick=\"\n",
       "            if (this.previousSibling.style.display == 'none') {\n",
       "                this.previousSibling.style.display = 'block';\n",
       "                this.parentNode.style.display = 'inline-block';\n",
       "            } else {\n",
       "                this.previousSibling.style.display = 'none';\n",
       "                this.parentNode.style.display = 'inline';\n",
       "            }\"\n",
       "            onmouseover=\"document.getElementById('_fb_ogpxkfzncbcqukbjznzw_ind_8').style.opacity = 1; document.getElementById('_fs_ogpxkfzncbcqukbjznzw_ind_8').style.opacity = 1;\"\n",
       "            onmouseout=\"document.getElementById('_fb_ogpxkfzncbcqukbjznzw_ind_8').style.opacity = 0; document.getElementById('_fs_ogpxkfzncbcqukbjznzw_ind_8').style.opacity = 0;\"\n",
       "        >performances </div></div><div style='display: inline; text-align: center;'\n",
       "    ><div style='display: none; color: #999; padding-top: 0px; font-size: 12px;'>-0.345</div\n",
       "        ><div id='_tp_ogpxkfzncbcqukbjznzw_ind_9'\n",
       "            style='display: inline; background: rgba(30.0, 136.0, 229.0, 0.34573182808476927); border-radius: 3px; padding: 0px'\n",
       "            onclick=\"\n",
       "            if (this.previousSibling.style.display == 'none') {\n",
       "                this.previousSibling.style.display = 'block';\n",
       "                this.parentNode.style.display = 'inline-block';\n",
       "            } else {\n",
       "                this.previousSibling.style.display = 'none';\n",
       "                this.parentNode.style.display = 'inline';\n",
       "            }\"\n",
       "            onmouseover=\"document.getElementById('_fb_ogpxkfzncbcqukbjznzw_ind_9').style.opacity = 1; document.getElementById('_fs_ogpxkfzncbcqukbjznzw_ind_9').style.opacity = 1;\"\n",
       "            onmouseout=\"document.getElementById('_fb_ogpxkfzncbcqukbjznzw_ind_9').style.opacity = 0; document.getElementById('_fs_ogpxkfzncbcqukbjznzw_ind_9').style.opacity = 0;\"\n",
       "        >by </div></div><div style='display: inline; text-align: center;'\n",
       "    ><div style='display: none; color: #999; padding-top: 0px; font-size: 12px;'>-0.447</div\n",
       "        ><div id='_tp_ogpxkfzncbcqukbjznzw_ind_10'\n",
       "            style='display: inline; background: rgba(30.0, 136.0, 229.0, 0.4560903149138443); border-radius: 3px; padding: 0px'\n",
       "            onclick=\"\n",
       "            if (this.previousSibling.style.display == 'none') {\n",
       "                this.previousSibling.style.display = 'block';\n",
       "                this.parentNode.style.display = 'inline-block';\n",
       "            } else {\n",
       "                this.previousSibling.style.display = 'none';\n",
       "                this.parentNode.style.display = 'inline';\n",
       "            }\"\n",
       "            onmouseover=\"document.getElementById('_fb_ogpxkfzncbcqukbjznzw_ind_10').style.opacity = 1; document.getElementById('_fs_ogpxkfzncbcqukbjznzw_ind_10').style.opacity = 1;\"\n",
       "            onmouseout=\"document.getElementById('_fb_ogpxkfzncbcqukbjznzw_ind_10').style.opacity = 0; document.getElementById('_fs_ogpxkfzncbcqukbjznzw_ind_10').style.opacity = 0;\"\n",
       "        >buy </div></div><div style='display: inline; text-align: center;'\n",
       "    ><div style='display: none; color: #999; padding-top: 0px; font-size: 12px;'>0.118</div\n",
       "        ><div id='_tp_ogpxkfzncbcqukbjznzw_ind_11'\n",
       "            style='display: inline; background: rgba(255.0, 13.0, 87.0, 0.1171321053673995); border-radius: 3px; padding: 0px'\n",
       "            onclick=\"\n",
       "            if (this.previousSibling.style.display == 'none') {\n",
       "                this.previousSibling.style.display = 'block';\n",
       "                this.parentNode.style.display = 'inline-block';\n",
       "            } else {\n",
       "                this.previousSibling.style.display = 'none';\n",
       "                this.parentNode.style.display = 'inline';\n",
       "            }\"\n",
       "            onmouseover=\"document.getElementById('_fb_ogpxkfzncbcqukbjznzw_ind_11').style.opacity = 1; document.getElementById('_fs_ogpxkfzncbcqukbjznzw_ind_11').style.opacity = 1;\"\n",
       "            onmouseout=\"document.getElementById('_fb_ogpxkfzncbcqukbjznzw_ind_11').style.opacity = 0; document.getElementById('_fs_ogpxkfzncbcqukbjznzw_ind_11').style.opacity = 0;\"\n",
       "        >and </div></div><div style='display: inline; text-align: center;'\n",
       "    ><div style='display: none; color: #999; padding-top: 0px; font-size: 12px;'>0.381</div\n",
       "        ><div id='_tp_ogpxkfzncbcqukbjznzw_ind_12'\n",
       "            style='display: inline; background: rgba(255.0, 13.0, 87.0, 0.3851455733808676); border-radius: 3px; padding: 0px'\n",
       "            onclick=\"\n",
       "            if (this.previousSibling.style.display == 'none') {\n",
       "                this.previousSibling.style.display = 'block';\n",
       "                this.parentNode.style.display = 'inline-block';\n",
       "            } else {\n",
       "                this.previousSibling.style.display = 'none';\n",
       "                this.parentNode.style.display = 'inline';\n",
       "            }\"\n",
       "            onmouseover=\"document.getElementById('_fb_ogpxkfzncbcqukbjznzw_ind_12').style.opacity = 1; document.getElementById('_fs_ogpxkfzncbcqukbjznzw_ind_12').style.opacity = 1;\"\n",
       "            onmouseout=\"document.getElementById('_fb_ogpxkfzncbcqukbjznzw_ind_12').style.opacity = 0; document.getElementById('_fs_ogpxkfzncbcqukbjznzw_ind_12').style.opacity = 0;\"\n",
       "        >acc</div></div><div style='display: inline; text-align: center;'\n",
       "    ><div style='display: none; color: #999; padding-top: 0px; font-size: 12px;'>0.23</div\n",
       "        ><div id='_tp_ogpxkfzncbcqukbjznzw_ind_13'\n",
       "            style='display: inline; background: rgba(255.0, 13.0, 87.0, 0.22749059219647458); border-radius: 3px; padding: 0px'\n",
       "            onclick=\"\n",
       "            if (this.previousSibling.style.display == 'none') {\n",
       "                this.previousSibling.style.display = 'block';\n",
       "                this.parentNode.style.display = 'inline-block';\n",
       "            } else {\n",
       "                this.previousSibling.style.display = 'none';\n",
       "                this.parentNode.style.display = 'inline';\n",
       "            }\"\n",
       "            onmouseover=\"document.getElementById('_fb_ogpxkfzncbcqukbjznzw_ind_13').style.opacity = 1; document.getElementById('_fs_ogpxkfzncbcqukbjznzw_ind_13').style.opacity = 1;\"\n",
       "            onmouseout=\"document.getElementById('_fb_ogpxkfzncbcqukbjznzw_ind_13').style.opacity = 0; document.getElementById('_fs_ogpxkfzncbcqukbjznzw_ind_13').style.opacity = 0;\"\n",
       "        >ors</div></div><div style='display: inline; text-align: center;'\n",
       "    ><div style='display: none; color: #999; padding-top: 0px; font-size: 12px;'>-0.157</div\n",
       "        ><div id='_tp_ogpxkfzncbcqukbjznzw_ind_14'\n",
       "            style='display: inline; background: rgba(30.0, 136.0, 229.0, 0.1565458506634977); border-radius: 3px; padding: 0px'\n",
       "            onclick=\"\n",
       "            if (this.previousSibling.style.display == 'none') {\n",
       "                this.previousSibling.style.display = 'block';\n",
       "                this.parentNode.style.display = 'inline-block';\n",
       "            } else {\n",
       "                this.previousSibling.style.display = 'none';\n",
       "                this.parentNode.style.display = 'inline';\n",
       "            }\"\n",
       "            onmouseover=\"document.getElementById('_fb_ogpxkfzncbcqukbjznzw_ind_14').style.opacity = 1; document.getElementById('_fs_ogpxkfzncbcqukbjznzw_ind_14').style.opacity = 1;\"\n",
       "            onmouseout=\"document.getElementById('_fb_ogpxkfzncbcqukbjznzw_ind_14').style.opacity = 0; document.getElementById('_fs_ogpxkfzncbcqukbjznzw_ind_14').style.opacity = 0;\"\n",
       "        >i </div></div><div style='display: inline; text-align: center;'\n",
       "    ><div style='display: none; color: #999; padding-top: 0px; font-size: 12px;'>-0.0</div\n",
       "        ><div id='_tp_ogpxkfzncbcqukbjznzw_ind_15'\n",
       "            style='display: inline; background: rgba(54.70588235294111, 122.49411764705886, 213.40784313725496, 0.0); border-radius: 3px; padding: 0px'\n",
       "            onclick=\"\n",
       "            if (this.previousSibling.style.display == 'none') {\n",
       "                this.previousSibling.style.display = 'block';\n",
       "                this.parentNode.style.display = 'inline-block';\n",
       "            } else {\n",
       "                this.previousSibling.style.display = 'none';\n",
       "                this.parentNode.style.display = 'inline';\n",
       "            }\"\n",
       "            onmouseover=\"document.getElementById('_fb_ogpxkfzncbcqukbjznzw_ind_15').style.opacity = 1; document.getElementById('_fs_ogpxkfzncbcqukbjznzw_ind_15').style.opacity = 1;\"\n",
       "            onmouseout=\"document.getElementById('_fb_ogpxkfzncbcqukbjznzw_ind_15').style.opacity = 0; document.getElementById('_fs_ogpxkfzncbcqukbjznzw_ind_15').style.opacity = 0;\"\n",
       "        >[SEP]</div></div><div style='display: inline; text-align: center;'\n",
       "    ><div style='display: none; color: #999; padding-top: 0px; font-size: 12px;'>-0.0</div\n",
       "        ><div id='_tp_ogpxkfzncbcqukbjznzw_ind_16'\n",
       "            style='display: inline; background: rgba(54.70588235294111, 122.49411764705886, 213.40784313725496, 0.0); border-radius: 3px; padding: 0px'\n",
       "            onclick=\"\n",
       "            if (this.previousSibling.style.display == 'none') {\n",
       "                this.previousSibling.style.display = 'block';\n",
       "                this.parentNode.style.display = 'inline-block';\n",
       "            } else {\n",
       "                this.previousSibling.style.display = 'none';\n",
       "                this.parentNode.style.display = 'inline';\n",
       "            }\"\n",
       "            onmouseover=\"document.getElementById('_fb_ogpxkfzncbcqukbjznzw_ind_16').style.opacity = 1; document.getElementById('_fs_ogpxkfzncbcqukbjznzw_ind_16').style.opacity = 1;\"\n",
       "            onmouseout=\"document.getElementById('_fb_ogpxkfzncbcqukbjznzw_ind_16').style.opacity = 0; document.getElementById('_fs_ogpxkfzncbcqukbjznzw_ind_16').style.opacity = 0;\"\n",
       "        ></div></div></div></div><div id='_tp_usieyiccwpusnzjovqwp_output_1_zoom' style='display: none;'><svg width=\"100%\" height=\"80px\"><line x1=\"0\" y1=\"33\" x2=\"100%\" y2=\"33\" style=\"stroke:rgb(150,150,150);stroke-width:1\" /><line x1=\"55.2939689893859%\" y1=\"33\" x2=\"55.2939689893859%\" y2=\"37\" style=\"stroke:rgb(150,150,150);stroke-width:1\" /><text x=\"55.2939689893859%\" y=\"27\" font-size=\"12px\" fill=\"rgb(120,120,120)\" dominant-baseline=\"bottom\" text-anchor=\"middle\">3</text><line x1=\"39.126508417597634%\" y1=\"33\" x2=\"39.126508417597634%\" y2=\"37\" style=\"stroke:rgb(150,150,150);stroke-width:1\" /><text x=\"39.126508417597634%\" y=\"27\" font-size=\"12px\" fill=\"rgb(120,120,120)\" dominant-baseline=\"bottom\" text-anchor=\"middle\">2</text><line x1=\"22.959047845809366%\" y1=\"33\" x2=\"22.959047845809366%\" y2=\"37\" style=\"stroke:rgb(150,150,150);stroke-width:1\" /><text x=\"22.959047845809366%\" y=\"27\" font-size=\"12px\" fill=\"rgb(120,120,120)\" dominant-baseline=\"bottom\" text-anchor=\"middle\">1</text><line x1=\"71.46142956117416%\" y1=\"33\" x2=\"71.46142956117416%\" y2=\"37\" style=\"stroke:rgb(150,150,150);stroke-width:1\" /><text x=\"71.46142956117416%\" y=\"27\" font-size=\"12px\" fill=\"rgb(120,120,120)\" dominant-baseline=\"bottom\" text-anchor=\"middle\">4</text><line x1=\"87.62889013296244%\" y1=\"33\" x2=\"87.62889013296244%\" y2=\"37\" style=\"stroke:rgb(150,150,150);stroke-width:1\" /><text x=\"87.62889013296244%\" y=\"27\" font-size=\"12px\" fill=\"rgb(120,120,120)\" dominant-baseline=\"bottom\" text-anchor=\"middle\">5</text><line x1=\"28.95319279769443%\" y1=\"33\" x2=\"28.95319279769443%\" y2=\"37\" style=\"stroke:rgb(150,150,150);stroke-width:1\" /><text x=\"28.95319279769443%\" y=\"27\" font-size=\"13px\" style=\"stroke:#ffffff;stroke-width:8px;\" fill=\"rgb(255,255,255)\" dominant-baseline=\"bottom\" text-anchor=\"middle\">1.37075</text><text x=\"28.95319279769443%\" y=\"27\" font-size=\"12px\" fill=\"rgb(120,120,120)\" dominant-baseline=\"bottom\" text-anchor=\"middle\">1.37075</text><text x=\"28.95319279769443%\" y=\"10\" font-size=\"12px\" fill=\"rgb(120,120,120)\" dominant-baseline=\"bottom\" text-anchor=\"middle\">base value</text><line x1=\"71.04680704063097%\" y1=\"33\" x2=\"71.04680704063097%\" y2=\"37\" style=\"stroke:rgb(150,150,150);stroke-width:1\" /><text x=\"71.04680704063097%\" y=\"27\" font-size=\"13px\" style=\"stroke:#ffffff;stroke-width:8px;\" font-weight=\"bold\" fill=\"rgb(255,255,255)\" dominant-baseline=\"bottom\" text-anchor=\"middle\">3.97435</text><text x=\"71.04680704063097%\" y=\"27\" font-size=\"13px\" font-weight=\"bold\" fill=\"rgb(0,0,0)\" dominant-baseline=\"bottom\" text-anchor=\"middle\">3.97435</text><text x=\"71.04680704063097%\" y=\"10\" font-size=\"12px\" fill=\"rgb(120,120,120)\" dominant-baseline=\"bottom\" text-anchor=\"middle\">f<tspan baseline-shift=\"sub\" font-size=\"8px\">Output 1</tspan>(inputs)</text><rect x=\"8.33333331986045%\" width=\"62.71347372077052%\" y=\"40\" height=\"18\" style=\"fill:rgb(255.0, 0.0, 81.08083606031792); stroke-width:0; stroke:rgb(0,0,0)\" /><line x1=\"56.65591907129922%\" x2=\"71.04680704063097%\" y1=\"60\" y2=\"60\" id=\"_fb_asrngqcllywgnexwhqpd_ind_4\" style=\"stroke:rgb(255.0, 0.0, 81.08083606031792);stroke-width:2; opacity: 0\"/><text x=\"63.851363055965095%\" y=\"71\" font-size=\"12px\" id=\"_fs_asrngqcllywgnexwhqpd_ind_4\" fill=\"rgb(255.0, 0.0, 81.08083606031792)\" style=\"opacity: 0\" dominant-baseline=\"middle\" text-anchor=\"middle\">0.89</text><svg x=\"56.65591907129922%\" y=\"40\" height=\"20\" width=\"14.390887969331743%\">  <svg x=\"0\" y=\"0\" width=\"100%\" height=\"100%\">    <text x=\"50%\" y=\"9\" font-size=\"12px\" fill=\"rgb(255,255,255)\" dominant-baseline=\"middle\" text-anchor=\"middle\">lovely</text>  </svg></svg><line x1=\"43.68741914256706%\" x2=\"56.65591907129922%\" y1=\"60\" y2=\"60\" id=\"_fb_asrngqcllywgnexwhqpd_ind_7\" style=\"stroke:rgb(255.0, 0.0, 81.08083606031792);stroke-width:2; opacity: 0\"/><text x=\"50.17166910693314%\" y=\"71\" font-size=\"12px\" id=\"_fs_asrngqcllywgnexwhqpd_ind_7\" fill=\"rgb(255.0, 0.0, 81.08083606031792)\" style=\"opacity: 0\" dominant-baseline=\"middle\" text-anchor=\"middle\">0.802</text><svg x=\"43.68741914256706%\" y=\"40\" height=\"20\" width=\"12.968499928732165%\">  <svg x=\"0\" y=\"0\" width=\"100%\" height=\"100%\">    <text x=\"50%\" y=\"9\" font-size=\"12px\" fill=\"rgb(255,255,255)\" dominant-baseline=\"middle\" text-anchor=\"middle\">lovely</text>  </svg></svg><line x1=\"34.274056656542314%\" x2=\"43.68741914256706%\" y1=\"60\" y2=\"60\" id=\"_fb_asrngqcllywgnexwhqpd_ind_5\" style=\"stroke:rgb(255.0, 0.0, 81.08083606031792);stroke-width:2; opacity: 0\"/><text x=\"38.98073789955468%\" y=\"71\" font-size=\"12px\" id=\"_fs_asrngqcllywgnexwhqpd_ind_5\" fill=\"rgb(255.0, 0.0, 81.08083606031792)\" style=\"opacity: 0\" dominant-baseline=\"middle\" text-anchor=\"middle\">0.582</text><svg x=\"34.274056656542314%\" y=\"40\" height=\"20\" width=\"9.413362486024745%\">  <svg x=\"0\" y=\"0\" width=\"100%\" height=\"100%\">    <text x=\"50%\" y=\"9\" font-size=\"12px\" fill=\"rgb(255,255,255)\" dominant-baseline=\"middle\" text-anchor=\"middle\">film</text>  </svg></svg><line x1=\"27.161047924952268%\" x2=\"34.274056656542314%\" y1=\"60\" y2=\"60\" id=\"_fb_asrngqcllywgnexwhqpd_ind_8\" style=\"stroke:rgb(255.0, 0.0, 81.08083606031792);stroke-width:2; opacity: 0\"/><text x=\"30.717552290747292%\" y=\"71\" font-size=\"12px\" id=\"_fs_asrngqcllywgnexwhqpd_ind_8\" fill=\"rgb(255.0, 0.0, 81.08083606031792)\" style=\"opacity: 0\" dominant-baseline=\"middle\" text-anchor=\"middle\">0.44</text><svg x=\"27.161047924952268%\" y=\"40\" height=\"20\" width=\"7.113008731590046%\">  <svg x=\"0\" y=\"0\" width=\"100%\" height=\"100%\">    <text x=\"50%\" y=\"9\" font-size=\"12px\" fill=\"rgb(255,255,255)\" dominant-baseline=\"middle\" text-anchor=\"middle\">performances</text>  </svg></svg><line x1=\"21.00815318660395%\" x2=\"27.161047924952268%\" y1=\"60\" y2=\"60\" id=\"_fb_asrngqcllywgnexwhqpd_ind_12\" style=\"stroke:rgb(255.0, 0.0, 81.08083606031792);stroke-width:2; opacity: 0\"/><text x=\"24.08460055577811%\" y=\"71\" font-size=\"12px\" id=\"_fs_asrngqcllywgnexwhqpd_ind_12\" fill=\"rgb(255.0, 0.0, 81.08083606031792)\" style=\"opacity: 0\" dominant-baseline=\"middle\" text-anchor=\"middle\">0.381</text><svg x=\"21.00815318660395%\" y=\"40\" height=\"20\" width=\"6.152894738348319%\">  <svg x=\"0\" y=\"0\" width=\"100%\" height=\"100%\">    <text x=\"50%\" y=\"9\" font-size=\"12px\" fill=\"rgb(255,255,255)\" dominant-baseline=\"middle\" text-anchor=\"middle\">acc</text>  </svg></svg><line x1=\"16.107778144049785%\" x2=\"21.00815318660395%\" y1=\"60\" y2=\"60\" id=\"_fb_asrngqcllywgnexwhqpd_ind_3\" style=\"stroke:rgb(255.0, 0.0, 81.08083606031792);stroke-width:2; opacity: 0\"/><text x=\"18.55796566532687%\" y=\"71\" font-size=\"12px\" id=\"_fs_asrngqcllywgnexwhqpd_ind_3\" fill=\"rgb(255.0, 0.0, 81.08083606031792)\" style=\"opacity: 0\" dominant-baseline=\"middle\" text-anchor=\"middle\">0.303</text><svg x=\"16.107778144049785%\" y=\"40\" height=\"20\" width=\"4.900375042554163%\">  <svg x=\"0\" y=\"0\" width=\"100%\" height=\"100%\">    <text x=\"50%\" y=\"9\" font-size=\"12px\" fill=\"rgb(255,255,255)\" dominant-baseline=\"middle\" text-anchor=\"middle\">a</text>  </svg></svg><line x1=\"12.383889553508405%\" x2=\"16.107778144049785%\" y1=\"60\" y2=\"60\" id=\"_fb_asrngqcllywgnexwhqpd_ind_13\" style=\"stroke:rgb(255.0, 0.0, 81.08083606031792);stroke-width:2; opacity: 0\"/><text x=\"14.245833848779096%\" y=\"71\" font-size=\"12px\" id=\"_fs_asrngqcllywgnexwhqpd_ind_13\" fill=\"rgb(255.0, 0.0, 81.08083606031792)\" style=\"opacity: 0\" dominant-baseline=\"middle\" text-anchor=\"middle\">0.23</text><svg x=\"12.383889553508405%\" y=\"40\" height=\"20\" width=\"3.72388859054138%\">  <svg x=\"0\" y=\"0\" width=\"100%\" height=\"100%\">    <text x=\"50%\" y=\"9\" font-size=\"12px\" fill=\"rgb(255,255,255)\" dominant-baseline=\"middle\" text-anchor=\"middle\">ors</text>  </svg></svg><line x1=\"10.237506711301108%\" x2=\"12.383889553508405%\" y1=\"60\" y2=\"60\" id=\"_fb_asrngqcllywgnexwhqpd_ind_6\" style=\"stroke:rgb(255.0, 0.0, 81.08083606031792);stroke-width:2; opacity: 0\"/><text x=\"11.310698132404756%\" y=\"71\" font-size=\"12px\" id=\"_fs_asrngqcllywgnexwhqpd_ind_6\" fill=\"rgb(255.0, 0.0, 81.08083606031792)\" style=\"opacity: 0\" dominant-baseline=\"middle\" text-anchor=\"middle\">0.133</text><svg x=\"10.237506711301108%\" y=\"40\" height=\"20\" width=\"2.146382842207297%\">  <svg x=\"0\" y=\"0\" width=\"100%\" height=\"100%\">    <text x=\"50%\" y=\"9\" font-size=\"12px\" fill=\"rgb(255,255,255)\" dominant-baseline=\"middle\" text-anchor=\"middle\">with</text>  </svg></svg><line x1=\"8.33333331986045%\" x2=\"10.237506711301108%\" y1=\"60\" y2=\"60\" id=\"_fb_asrngqcllywgnexwhqpd_ind_11\" style=\"stroke:rgb(255.0, 0.0, 81.08083606031792);stroke-width:2; opacity: 0\"/><text x=\"9.28542001558078%\" y=\"71\" font-size=\"12px\" id=\"_fs_asrngqcllywgnexwhqpd_ind_11\" fill=\"rgb(255.0, 0.0, 81.08083606031792)\" style=\"opacity: 0\" dominant-baseline=\"middle\" text-anchor=\"middle\">0.118</text><svg x=\"8.33333331986045%\" y=\"40\" height=\"20\" width=\"1.9041733914406578%\">  <svg x=\"0\" y=\"0\" width=\"100%\" height=\"100%\">    <text x=\"50%\" y=\"9\" font-size=\"12px\" fill=\"rgb(255,255,255)\" dominant-baseline=\"middle\" text-anchor=\"middle\">and</text>  </svg></svg><g transform=\"translate(0,0)\">  <svg x=\"56.65591907129922%\" y=\"40\" height=\"18\" overflow=\"visible\" width=\"30\">    <path d=\"M 0 -9 l 6 18 L 0 25\" fill=\"none\" style=\"stroke:rgb(255.0, 0.0, 81.08083606031792);stroke-width:2\" />  </svg></g><g transform=\"translate(2,0)\">  <svg x=\"56.65591907129922%\" y=\"40\" height=\"18\" overflow=\"visible\" width=\"30\">    <path d=\"M 0 -9 l 6 18 L 0 25\" fill=\"none\" style=\"stroke:rgb(255.0, 0.0, 81.08083606031792);stroke-width:2\" />  </svg></g><g transform=\"translate(4,0)\">  <svg x=\"56.65591907129922%\" y=\"40\" height=\"18\" overflow=\"visible\" width=\"30\">    <path d=\"M 0 -9 l 6 18 L 0 25\" fill=\"none\" style=\"stroke:rgb(255.0, 0.0, 81.08083606031792);stroke-width:2\" />  </svg></g><g transform=\"translate(6,0)\">  <svg x=\"56.65591907129922%\" y=\"40\" height=\"18\" overflow=\"visible\" width=\"30\">    <path d=\"M 0 -9 l 6 18 L 0 25\" fill=\"none\" style=\"stroke:rgb(255.0, 0.0, 81.08083606031792);stroke-width:2\" />  </svg></g><g transform=\"translate(-8,0)\">  <svg x=\"56.65591907129922%\" y=\"40\" height=\"18\" overflow=\"visible\" width=\"30\">    <path d=\"M 0 -9 l 6 18 L 0 25\" fill=\"none\" style=\"stroke:rgb(255.0, 0.0, 81.08083606031792);stroke-width:2\" />  </svg></g><g transform=\"translate(-6,0)\">  <svg x=\"56.65591907129922%\" y=\"40\" height=\"18\" overflow=\"visible\" width=\"30\">    <path d=\"M 0 -9 l 6 18 L 0 25\" fill=\"none\" style=\"stroke:rgb(255.0, 0.0, 81.08083606031792);stroke-width:2\" />  </svg></g><g transform=\"translate(-4,0)\">  <svg x=\"56.65591907129922%\" y=\"40\" height=\"18\" overflow=\"visible\" width=\"30\">    <path d=\"M 0 -9 l 6 18 L 0 25\" fill=\"none\" style=\"stroke:rgb(255.0, 0.0, 81.08083606031792);stroke-width:2\" />  </svg></g><g transform=\"translate(-2,0)\">  <svg x=\"56.65591907129922%\" y=\"40\" height=\"18\" overflow=\"visible\" width=\"30\">    <path d=\"M 0 -9 l 6 18 L 0 25\" fill=\"none\" style=\"stroke:rgb(255.0, 0.0, 81.08083606031792);stroke-width:2\" />  </svg></g><g transform=\"translate(0,0)\">  <svg x=\"43.68741914256706%\" y=\"40\" height=\"18\" overflow=\"visible\" width=\"30\">    <path d=\"M 0 -9 l 6 18 L 0 25\" fill=\"none\" style=\"stroke:rgb(255.0, 0.0, 81.08083606031792);stroke-width:2\" />  </svg></g><g transform=\"translate(2,0)\">  <svg x=\"43.68741914256706%\" y=\"40\" height=\"18\" overflow=\"visible\" width=\"30\">    <path d=\"M 0 -9 l 6 18 L 0 25\" fill=\"none\" style=\"stroke:rgb(255.0, 0.0, 81.08083606031792);stroke-width:2\" />  </svg></g><g transform=\"translate(4,0)\">  <svg x=\"43.68741914256706%\" y=\"40\" height=\"18\" overflow=\"visible\" width=\"30\">    <path d=\"M 0 -9 l 6 18 L 0 25\" fill=\"none\" style=\"stroke:rgb(255.0, 0.0, 81.08083606031792);stroke-width:2\" />  </svg></g><g transform=\"translate(6,0)\">  <svg x=\"43.68741914256706%\" y=\"40\" height=\"18\" overflow=\"visible\" width=\"30\">    <path d=\"M 0 -9 l 6 18 L 0 25\" fill=\"none\" style=\"stroke:rgb(255.0, 0.0, 81.08083606031792);stroke-width:2\" />  </svg></g><g transform=\"translate(-8,0)\">  <svg x=\"43.68741914256706%\" y=\"40\" height=\"18\" overflow=\"visible\" width=\"30\">    <path d=\"M 0 -9 l 6 18 L 0 25\" fill=\"none\" style=\"stroke:rgb(255.0, 0.0, 81.08083606031792);stroke-width:2\" />  </svg></g><g transform=\"translate(-6,0)\">  <svg x=\"43.68741914256706%\" y=\"40\" height=\"18\" overflow=\"visible\" width=\"30\">    <path d=\"M 0 -9 l 6 18 L 0 25\" fill=\"none\" style=\"stroke:rgb(255.0, 0.0, 81.08083606031792);stroke-width:2\" />  </svg></g><g transform=\"translate(-4,0)\">  <svg x=\"43.68741914256706%\" y=\"40\" height=\"18\" overflow=\"visible\" width=\"30\">    <path d=\"M 0 -9 l 6 18 L 0 25\" fill=\"none\" style=\"stroke:rgb(255.0, 0.0, 81.08083606031792);stroke-width:2\" />  </svg></g><g transform=\"translate(-2,0)\">  <svg x=\"43.68741914256706%\" y=\"40\" height=\"18\" overflow=\"visible\" width=\"30\">    <path d=\"M 0 -9 l 6 18 L 0 25\" fill=\"none\" style=\"stroke:rgb(255.0, 0.0, 81.08083606031792);stroke-width:2\" />  </svg></g><g transform=\"translate(0,0)\">  <svg x=\"34.274056656542314%\" y=\"40\" height=\"18\" overflow=\"visible\" width=\"30\">    <path d=\"M 0 -9 l 6 18 L 0 25\" fill=\"none\" style=\"stroke:rgb(255.0, 0.0, 81.08083606031792);stroke-width:2\" />  </svg></g><g transform=\"translate(2,0)\">  <svg x=\"34.274056656542314%\" y=\"40\" height=\"18\" overflow=\"visible\" width=\"30\">    <path d=\"M 0 -9 l 6 18 L 0 25\" fill=\"none\" style=\"stroke:rgb(255.0, 0.0, 81.08083606031792);stroke-width:2\" />  </svg></g><g transform=\"translate(4,0)\">  <svg x=\"34.274056656542314%\" y=\"40\" height=\"18\" overflow=\"visible\" width=\"30\">    <path d=\"M 0 -9 l 6 18 L 0 25\" fill=\"none\" style=\"stroke:rgb(255.0, 0.0, 81.08083606031792);stroke-width:2\" />  </svg></g><g transform=\"translate(6,0)\">  <svg x=\"34.274056656542314%\" y=\"40\" height=\"18\" overflow=\"visible\" width=\"30\">    <path d=\"M 0 -9 l 6 18 L 0 25\" fill=\"none\" style=\"stroke:rgb(255.0, 0.0, 81.08083606031792);stroke-width:2\" />  </svg></g><g transform=\"translate(-8,0)\">  <svg x=\"34.274056656542314%\" y=\"40\" height=\"18\" overflow=\"visible\" width=\"30\">    <path d=\"M 0 -9 l 6 18 L 0 25\" fill=\"none\" style=\"stroke:rgb(255.0, 0.0, 81.08083606031792);stroke-width:2\" />  </svg></g><g transform=\"translate(-6,0)\">  <svg x=\"34.274056656542314%\" y=\"40\" height=\"18\" overflow=\"visible\" width=\"30\">    <path d=\"M 0 -9 l 6 18 L 0 25\" fill=\"none\" style=\"stroke:rgb(255.0, 0.0, 81.08083606031792);stroke-width:2\" />  </svg></g><g transform=\"translate(-4,0)\">  <svg x=\"34.274056656542314%\" y=\"40\" height=\"18\" overflow=\"visible\" width=\"30\">    <path d=\"M 0 -9 l 6 18 L 0 25\" fill=\"none\" style=\"stroke:rgb(255.0, 0.0, 81.08083606031792);stroke-width:2\" />  </svg></g><g transform=\"translate(-2,0)\">  <svg x=\"34.274056656542314%\" y=\"40\" height=\"18\" overflow=\"visible\" width=\"30\">    <path d=\"M 0 -9 l 6 18 L 0 25\" fill=\"none\" style=\"stroke:rgb(255.0, 0.0, 81.08083606031792);stroke-width:2\" />  </svg></g><g transform=\"translate(0,0)\">  <svg x=\"27.161047924952268%\" y=\"40\" height=\"18\" overflow=\"visible\" width=\"30\">    <path d=\"M 0 -9 l 6 18 L 0 25\" fill=\"none\" style=\"stroke:rgb(255.0, 0.0, 81.08083606031792);stroke-width:2\" />  </svg></g><g transform=\"translate(2,0)\">  <svg x=\"27.161047924952268%\" y=\"40\" height=\"18\" overflow=\"visible\" width=\"30\">    <path d=\"M 0 -9 l 6 18 L 0 25\" fill=\"none\" style=\"stroke:rgb(255.0, 0.0, 81.08083606031792);stroke-width:2\" />  </svg></g><g transform=\"translate(4,0)\">  <svg x=\"27.161047924952268%\" y=\"40\" height=\"18\" overflow=\"visible\" width=\"30\">    <path d=\"M 0 -9 l 6 18 L 0 25\" fill=\"none\" style=\"stroke:rgb(255.0, 0.0, 81.08083606031792);stroke-width:2\" />  </svg></g><g transform=\"translate(6,0)\">  <svg x=\"27.161047924952268%\" y=\"40\" height=\"18\" overflow=\"visible\" width=\"30\">    <path d=\"M 0 -9 l 6 18 L 0 25\" fill=\"none\" style=\"stroke:rgb(255.0, 0.0, 81.08083606031792);stroke-width:2\" />  </svg></g><g transform=\"translate(-8,0)\">  <svg x=\"27.161047924952268%\" y=\"40\" height=\"18\" overflow=\"visible\" width=\"30\">    <path d=\"M 0 -9 l 6 18 L 0 25\" fill=\"none\" style=\"stroke:rgb(255.0, 0.0, 81.08083606031792);stroke-width:2\" />  </svg></g><g transform=\"translate(-6,0)\">  <svg x=\"27.161047924952268%\" y=\"40\" height=\"18\" overflow=\"visible\" width=\"30\">    <path d=\"M 0 -9 l 6 18 L 0 25\" fill=\"none\" style=\"stroke:rgb(255.0, 0.0, 81.08083606031792);stroke-width:2\" />  </svg></g><g transform=\"translate(-4,0)\">  <svg x=\"27.161047924952268%\" y=\"40\" height=\"18\" overflow=\"visible\" width=\"30\">    <path d=\"M 0 -9 l 6 18 L 0 25\" fill=\"none\" style=\"stroke:rgb(255.0, 0.0, 81.08083606031792);stroke-width:2\" />  </svg></g><g transform=\"translate(-2,0)\">  <svg x=\"27.161047924952268%\" y=\"40\" height=\"18\" overflow=\"visible\" width=\"30\">    <path d=\"M 0 -9 l 6 18 L 0 25\" fill=\"none\" style=\"stroke:rgb(255.0, 0.0, 81.08083606031792);stroke-width:2\" />  </svg></g><g transform=\"translate(0,0)\">  <svg x=\"21.00815318660395%\" y=\"40\" height=\"18\" overflow=\"visible\" width=\"30\">    <path d=\"M 0 -9 l 6 18 L 0 25\" fill=\"none\" style=\"stroke:rgb(255.0, 0.0, 81.08083606031792);stroke-width:2\" />  </svg></g><g transform=\"translate(2,0)\">  <svg x=\"21.00815318660395%\" y=\"40\" height=\"18\" overflow=\"visible\" width=\"30\">    <path d=\"M 0 -9 l 6 18 L 0 25\" fill=\"none\" style=\"stroke:rgb(255.0, 0.0, 81.08083606031792);stroke-width:2\" />  </svg></g><g transform=\"translate(4,0)\">  <svg x=\"21.00815318660395%\" y=\"40\" height=\"18\" overflow=\"visible\" width=\"30\">    <path d=\"M 0 -9 l 6 18 L 0 25\" fill=\"none\" style=\"stroke:rgb(255.0, 0.0, 81.08083606031792);stroke-width:2\" />  </svg></g><g transform=\"translate(6,0)\">  <svg x=\"21.00815318660395%\" y=\"40\" height=\"18\" overflow=\"visible\" width=\"30\">    <path d=\"M 0 -9 l 6 18 L 0 25\" fill=\"none\" style=\"stroke:rgb(255.0, 0.0, 81.08083606031792);stroke-width:2\" />  </svg></g><g transform=\"translate(-8,0)\">  <svg x=\"21.00815318660395%\" y=\"40\" height=\"18\" overflow=\"visible\" width=\"30\">    <path d=\"M 0 -9 l 6 18 L 0 25\" fill=\"none\" style=\"stroke:rgb(255.0, 0.0, 81.08083606031792);stroke-width:2\" />  </svg></g><g transform=\"translate(-6,0)\">  <svg x=\"21.00815318660395%\" y=\"40\" height=\"18\" overflow=\"visible\" width=\"30\">    <path d=\"M 0 -9 l 6 18 L 0 25\" fill=\"none\" style=\"stroke:rgb(255.0, 0.0, 81.08083606031792);stroke-width:2\" />  </svg></g><g transform=\"translate(-4,0)\">  <svg x=\"21.00815318660395%\" y=\"40\" height=\"18\" overflow=\"visible\" width=\"30\">    <path d=\"M 0 -9 l 6 18 L 0 25\" fill=\"none\" style=\"stroke:rgb(255.0, 0.0, 81.08083606031792);stroke-width:2\" />  </svg></g><g transform=\"translate(-2,0)\">  <svg x=\"21.00815318660395%\" y=\"40\" height=\"18\" overflow=\"visible\" width=\"30\">    <path d=\"M 0 -9 l 6 18 L 0 25\" fill=\"none\" style=\"stroke:rgb(255.0, 0.0, 81.08083606031792);stroke-width:2\" />  </svg></g><g transform=\"translate(0,0)\">  <svg x=\"16.107778144049785%\" y=\"40\" height=\"18\" overflow=\"visible\" width=\"30\">    <path d=\"M 0 -9 l 6 18 L 0 25\" fill=\"none\" style=\"stroke:rgb(255.0, 0.0, 81.08083606031792);stroke-width:2\" />  </svg></g><g transform=\"translate(2,0)\">  <svg x=\"16.107778144049785%\" y=\"40\" height=\"18\" overflow=\"visible\" width=\"30\">    <path d=\"M 0 -9 l 6 18 L 0 25\" fill=\"none\" style=\"stroke:rgb(255.0, 0.0, 81.08083606031792);stroke-width:2\" />  </svg></g><g transform=\"translate(4,0)\">  <svg x=\"16.107778144049785%\" y=\"40\" height=\"18\" overflow=\"visible\" width=\"30\">    <path d=\"M 0 -9 l 6 18 L 0 25\" fill=\"none\" style=\"stroke:rgb(255.0, 0.0, 81.08083606031792);stroke-width:2\" />  </svg></g><g transform=\"translate(6,0)\">  <svg x=\"16.107778144049785%\" y=\"40\" height=\"18\" overflow=\"visible\" width=\"30\">    <path d=\"M 0 -9 l 6 18 L 0 25\" fill=\"none\" style=\"stroke:rgb(255.0, 0.0, 81.08083606031792);stroke-width:2\" />  </svg></g><g transform=\"translate(-8,0)\">  <svg x=\"16.107778144049785%\" y=\"40\" height=\"18\" overflow=\"visible\" width=\"30\">    <path d=\"M 0 -9 l 6 18 L 0 25\" fill=\"none\" style=\"stroke:rgb(255.0, 0.0, 81.08083606031792);stroke-width:2\" />  </svg></g><g transform=\"translate(-6,0)\">  <svg x=\"16.107778144049785%\" y=\"40\" height=\"18\" overflow=\"visible\" width=\"30\">    <path d=\"M 0 -9 l 6 18 L 0 25\" fill=\"none\" style=\"stroke:rgb(255.0, 0.0, 81.08083606031792);stroke-width:2\" />  </svg></g><g transform=\"translate(-4,0)\">  <svg x=\"16.107778144049785%\" y=\"40\" height=\"18\" overflow=\"visible\" width=\"30\">    <path d=\"M 0 -9 l 6 18 L 0 25\" fill=\"none\" style=\"stroke:rgb(255.0, 0.0, 81.08083606031792);stroke-width:2\" />  </svg></g><g transform=\"translate(-2,0)\">  <svg x=\"16.107778144049785%\" y=\"40\" height=\"18\" overflow=\"visible\" width=\"30\">    <path d=\"M 0 -9 l 6 18 L 0 25\" fill=\"none\" style=\"stroke:rgb(255.0, 0.0, 81.08083606031792);stroke-width:2\" />  </svg></g><g transform=\"translate(0,0)\">  <svg x=\"12.383889553508405%\" y=\"40\" height=\"18\" overflow=\"visible\" width=\"30\">    <path d=\"M 0 -9 l 6 18 L 0 25\" fill=\"none\" style=\"stroke:rgb(255.0, 0.0, 81.08083606031792);stroke-width:2\" />  </svg></g><g transform=\"translate(2,0)\">  <svg x=\"12.383889553508405%\" y=\"40\" height=\"18\" overflow=\"visible\" width=\"30\">    <path d=\"M 0 -9 l 6 18 L 0 25\" fill=\"none\" style=\"stroke:rgb(255.0, 0.0, 81.08083606031792);stroke-width:2\" />  </svg></g><g transform=\"translate(4,0)\">  <svg x=\"12.383889553508405%\" y=\"40\" height=\"18\" overflow=\"visible\" width=\"30\">    <path d=\"M 0 -9 l 6 18 L 0 25\" fill=\"none\" style=\"stroke:rgb(255.0, 0.0, 81.08083606031792);stroke-width:2\" />  </svg></g><g transform=\"translate(6,0)\">  <svg x=\"12.383889553508405%\" y=\"40\" height=\"18\" overflow=\"visible\" width=\"30\">    <path d=\"M 0 -9 l 6 18 L 0 25\" fill=\"none\" style=\"stroke:rgb(255.0, 0.0, 81.08083606031792);stroke-width:2\" />  </svg></g><g transform=\"translate(-8,0)\">  <svg x=\"12.383889553508405%\" y=\"40\" height=\"18\" overflow=\"visible\" width=\"30\">    <path d=\"M 0 -9 l 6 18 L 0 25\" fill=\"none\" style=\"stroke:rgb(255.0, 0.0, 81.08083606031792);stroke-width:2\" />  </svg></g><g transform=\"translate(-6,0)\">  <svg x=\"12.383889553508405%\" y=\"40\" height=\"18\" overflow=\"visible\" width=\"30\">    <path d=\"M 0 -9 l 6 18 L 0 25\" fill=\"none\" style=\"stroke:rgb(255.0, 0.0, 81.08083606031792);stroke-width:2\" />  </svg></g><g transform=\"translate(-4,0)\">  <svg x=\"12.383889553508405%\" y=\"40\" height=\"18\" overflow=\"visible\" width=\"30\">    <path d=\"M 0 -9 l 6 18 L 0 25\" fill=\"none\" style=\"stroke:rgb(255.0, 0.0, 81.08083606031792);stroke-width:2\" />  </svg></g><g transform=\"translate(-2,0)\">  <svg x=\"12.383889553508405%\" y=\"40\" height=\"18\" overflow=\"visible\" width=\"30\">    <path d=\"M 0 -9 l 6 18 L 0 25\" fill=\"none\" style=\"stroke:rgb(255.0, 0.0, 81.08083606031792);stroke-width:2\" />  </svg></g><g transform=\"translate(0,0)\">  <svg x=\"10.237506711301108%\" y=\"40\" height=\"18\" overflow=\"visible\" width=\"30\">    <path d=\"M 0 -9 l 6 18 L 0 25\" fill=\"none\" style=\"stroke:rgb(255.0, 0.0, 81.08083606031792);stroke-width:2\" />  </svg></g><g transform=\"translate(2,0)\">  <svg x=\"10.237506711301108%\" y=\"40\" height=\"18\" overflow=\"visible\" width=\"30\">    <path d=\"M 0 -9 l 6 18 L 0 25\" fill=\"none\" style=\"stroke:rgb(255.0, 0.0, 81.08083606031792);stroke-width:2\" />  </svg></g><g transform=\"translate(4,0)\">  <svg x=\"10.237506711301108%\" y=\"40\" height=\"18\" overflow=\"visible\" width=\"30\">    <path d=\"M 0 -9 l 6 18 L 0 25\" fill=\"none\" style=\"stroke:rgb(255.0, 0.0, 81.08083606031792);stroke-width:2\" />  </svg></g><g transform=\"translate(6,0)\">  <svg x=\"10.237506711301108%\" y=\"40\" height=\"18\" overflow=\"visible\" width=\"30\">    <path d=\"M 0 -9 l 6 18 L 0 25\" fill=\"none\" style=\"stroke:rgb(255.0, 0.0, 81.08083606031792);stroke-width:2\" />  </svg></g><g transform=\"translate(-8,0)\">  <svg x=\"10.237506711301108%\" y=\"40\" height=\"18\" overflow=\"visible\" width=\"30\">    <path d=\"M 0 -9 l 6 18 L 0 25\" fill=\"none\" style=\"stroke:rgb(255.0, 0.0, 81.08083606031792);stroke-width:2\" />  </svg></g><g transform=\"translate(-6,0)\">  <svg x=\"10.237506711301108%\" y=\"40\" height=\"18\" overflow=\"visible\" width=\"30\">    <path d=\"M 0 -9 l 6 18 L 0 25\" fill=\"none\" style=\"stroke:rgb(255.0, 0.0, 81.08083606031792);stroke-width:2\" />  </svg></g><g transform=\"translate(-4,0)\">  <svg x=\"10.237506711301108%\" y=\"40\" height=\"18\" overflow=\"visible\" width=\"30\">    <path d=\"M 0 -9 l 6 18 L 0 25\" fill=\"none\" style=\"stroke:rgb(255.0, 0.0, 81.08083606031792);stroke-width:2\" />  </svg></g><g transform=\"translate(-2,0)\">  <svg x=\"10.237506711301108%\" y=\"40\" height=\"18\" overflow=\"visible\" width=\"30\">    <path d=\"M 0 -9 l 6 18 L 0 25\" fill=\"none\" style=\"stroke:rgb(255.0, 0.0, 81.08083606031792);stroke-width:2\" />  </svg></g><rect transform=\"translate(-8,0)\" x=\"71.04680704063097%\" y=\"40\" width=\"8\" height=\"18\" style=\"fill:rgb(255.0, 0.0, 81.08083606031792)\"/><g transform=\"translate(-11.5,0)\">  <svg x=\"8.33333331986045%\" y=\"40\" height=\"18\" overflow=\"visible\" width=\"30\">    <path d=\"M 10 -9 l 6 18 L 10 25 L 0 25 L 0 -9\" fill=\"#ffffff\" style=\"stroke:rgb(255,255,255);stroke-width:2\" />  </svg></g><g transform=\"translate(-1.5,0)\">  <svg x=\"71.04680704063097%\" y=\"40\" height=\"18\" overflow=\"visible\" width=\"30\">    <path d=\"M 0 -9 l 6 18 L 0 25\" fill=\"none\" style=\"stroke:rgb(255, 195, 213);stroke-width:2\" />  </svg></g><rect x=\"56.65591907129922%\" y=\"40\" height=\"20\" width=\"14.390887969331743%\"      onmouseover=\"document.getElementById('_tp_asrngqcllywgnexwhqpd_ind_4').style.textDecoration = 'underline';document.getElementById('_fs_asrngqcllywgnexwhqpd_ind_4').style.opacity = 1;document.getElementById('_fb_asrngqcllywgnexwhqpd_ind_4').style.opacity = 1;\"      onmouseout=\"document.getElementById('_tp_asrngqcllywgnexwhqpd_ind_4').style.textDecoration = 'none';document.getElementById('_fs_asrngqcllywgnexwhqpd_ind_4').style.opacity = 0;document.getElementById('_fb_asrngqcllywgnexwhqpd_ind_4').style.opacity = 0;\" style=\"fill:rgb(0,0,0,0)\" /><g transform=\"translate(-1.5,0)\">  <svg x=\"56.65591907129922%\" y=\"40\" height=\"18\" overflow=\"visible\" width=\"30\">    <path d=\"M 0 -9 l 6 18 L 0 25\" fill=\"none\" style=\"stroke:rgb(255, 195, 213);stroke-width:2\" />  </svg></g><rect x=\"43.68741914256706%\" y=\"40\" height=\"20\" width=\"12.968499928732165%\"      onmouseover=\"document.getElementById('_tp_asrngqcllywgnexwhqpd_ind_7').style.textDecoration = 'underline';document.getElementById('_fs_asrngqcllywgnexwhqpd_ind_7').style.opacity = 1;document.getElementById('_fb_asrngqcllywgnexwhqpd_ind_7').style.opacity = 1;\"      onmouseout=\"document.getElementById('_tp_asrngqcllywgnexwhqpd_ind_7').style.textDecoration = 'none';document.getElementById('_fs_asrngqcllywgnexwhqpd_ind_7').style.opacity = 0;document.getElementById('_fb_asrngqcllywgnexwhqpd_ind_7').style.opacity = 0;\" style=\"fill:rgb(0,0,0,0)\" /><g transform=\"translate(-1.5,0)\">  <svg x=\"43.68741914256706%\" y=\"40\" height=\"18\" overflow=\"visible\" width=\"30\">    <path d=\"M 0 -9 l 6 18 L 0 25\" fill=\"none\" style=\"stroke:rgb(255, 195, 213);stroke-width:2\" />  </svg></g><rect x=\"34.274056656542314%\" y=\"40\" height=\"20\" width=\"9.413362486024745%\"      onmouseover=\"document.getElementById('_tp_asrngqcllywgnexwhqpd_ind_5').style.textDecoration = 'underline';document.getElementById('_fs_asrngqcllywgnexwhqpd_ind_5').style.opacity = 1;document.getElementById('_fb_asrngqcllywgnexwhqpd_ind_5').style.opacity = 1;\"      onmouseout=\"document.getElementById('_tp_asrngqcllywgnexwhqpd_ind_5').style.textDecoration = 'none';document.getElementById('_fs_asrngqcllywgnexwhqpd_ind_5').style.opacity = 0;document.getElementById('_fb_asrngqcllywgnexwhqpd_ind_5').style.opacity = 0;\" style=\"fill:rgb(0,0,0,0)\" /><g transform=\"translate(-1.5,0)\">  <svg x=\"34.274056656542314%\" y=\"40\" height=\"18\" overflow=\"visible\" width=\"30\">    <path d=\"M 0 -9 l 6 18 L 0 25\" fill=\"none\" style=\"stroke:rgb(255, 195, 213);stroke-width:2\" />  </svg></g><rect x=\"27.161047924952268%\" y=\"40\" height=\"20\" width=\"7.113008731590046%\"      onmouseover=\"document.getElementById('_tp_asrngqcllywgnexwhqpd_ind_8').style.textDecoration = 'underline';document.getElementById('_fs_asrngqcllywgnexwhqpd_ind_8').style.opacity = 1;document.getElementById('_fb_asrngqcllywgnexwhqpd_ind_8').style.opacity = 1;\"      onmouseout=\"document.getElementById('_tp_asrngqcllywgnexwhqpd_ind_8').style.textDecoration = 'none';document.getElementById('_fs_asrngqcllywgnexwhqpd_ind_8').style.opacity = 0;document.getElementById('_fb_asrngqcllywgnexwhqpd_ind_8').style.opacity = 0;\" style=\"fill:rgb(0,0,0,0)\" /><g transform=\"translate(-1.5,0)\">  <svg x=\"27.161047924952268%\" y=\"40\" height=\"18\" overflow=\"visible\" width=\"30\">    <path d=\"M 0 -9 l 6 18 L 0 25\" fill=\"none\" style=\"stroke:rgb(255, 195, 213);stroke-width:2\" />  </svg></g><rect x=\"21.00815318660395%\" y=\"40\" height=\"20\" width=\"6.152894738348319%\"      onmouseover=\"document.getElementById('_tp_asrngqcllywgnexwhqpd_ind_12').style.textDecoration = 'underline';document.getElementById('_fs_asrngqcllywgnexwhqpd_ind_12').style.opacity = 1;document.getElementById('_fb_asrngqcllywgnexwhqpd_ind_12').style.opacity = 1;\"      onmouseout=\"document.getElementById('_tp_asrngqcllywgnexwhqpd_ind_12').style.textDecoration = 'none';document.getElementById('_fs_asrngqcllywgnexwhqpd_ind_12').style.opacity = 0;document.getElementById('_fb_asrngqcllywgnexwhqpd_ind_12').style.opacity = 0;\" style=\"fill:rgb(0,0,0,0)\" /><g transform=\"translate(-1.5,0)\">  <svg x=\"21.00815318660395%\" y=\"40\" height=\"18\" overflow=\"visible\" width=\"30\">    <path d=\"M 0 -9 l 6 18 L 0 25\" fill=\"none\" style=\"stroke:rgb(255, 195, 213);stroke-width:2\" />  </svg></g><rect x=\"16.107778144049785%\" y=\"40\" height=\"20\" width=\"4.900375042554163%\"      onmouseover=\"document.getElementById('_tp_asrngqcllywgnexwhqpd_ind_3').style.textDecoration = 'underline';document.getElementById('_fs_asrngqcllywgnexwhqpd_ind_3').style.opacity = 1;document.getElementById('_fb_asrngqcllywgnexwhqpd_ind_3').style.opacity = 1;\"      onmouseout=\"document.getElementById('_tp_asrngqcllywgnexwhqpd_ind_3').style.textDecoration = 'none';document.getElementById('_fs_asrngqcllywgnexwhqpd_ind_3').style.opacity = 0;document.getElementById('_fb_asrngqcllywgnexwhqpd_ind_3').style.opacity = 0;\" style=\"fill:rgb(0,0,0,0)\" /><g transform=\"translate(-1.5,0)\">  <svg x=\"16.107778144049785%\" y=\"40\" height=\"18\" overflow=\"visible\" width=\"30\">    <path d=\"M 0 -9 l 6 18 L 0 25\" fill=\"none\" style=\"stroke:rgb(255, 195, 213);stroke-width:2\" />  </svg></g><rect x=\"12.383889553508405%\" y=\"40\" height=\"20\" width=\"3.72388859054138%\"      onmouseover=\"document.getElementById('_tp_asrngqcllywgnexwhqpd_ind_13').style.textDecoration = 'underline';document.getElementById('_fs_asrngqcllywgnexwhqpd_ind_13').style.opacity = 1;document.getElementById('_fb_asrngqcllywgnexwhqpd_ind_13').style.opacity = 1;\"      onmouseout=\"document.getElementById('_tp_asrngqcllywgnexwhqpd_ind_13').style.textDecoration = 'none';document.getElementById('_fs_asrngqcllywgnexwhqpd_ind_13').style.opacity = 0;document.getElementById('_fb_asrngqcllywgnexwhqpd_ind_13').style.opacity = 0;\" style=\"fill:rgb(0,0,0,0)\" /><g transform=\"translate(-1.5,0)\">  <svg x=\"12.383889553508405%\" y=\"40\" height=\"18\" overflow=\"visible\" width=\"30\">    <path d=\"M 0 -9 l 6 18 L 0 25\" fill=\"none\" style=\"stroke:rgb(255, 195, 213);stroke-width:2\" />  </svg></g><rect x=\"10.237506711301108%\" y=\"40\" height=\"20\" width=\"2.146382842207297%\"      onmouseover=\"document.getElementById('_tp_asrngqcllywgnexwhqpd_ind_6').style.textDecoration = 'underline';document.getElementById('_fs_asrngqcllywgnexwhqpd_ind_6').style.opacity = 1;document.getElementById('_fb_asrngqcllywgnexwhqpd_ind_6').style.opacity = 1;\"      onmouseout=\"document.getElementById('_tp_asrngqcllywgnexwhqpd_ind_6').style.textDecoration = 'none';document.getElementById('_fs_asrngqcllywgnexwhqpd_ind_6').style.opacity = 0;document.getElementById('_fb_asrngqcllywgnexwhqpd_ind_6').style.opacity = 0;\" style=\"fill:rgb(0,0,0,0)\" /><rect x=\"8.33333331986045%\" y=\"40\" height=\"20\" width=\"1.9041733914406578%\"      onmouseover=\"document.getElementById('_tp_asrngqcllywgnexwhqpd_ind_11').style.textDecoration = 'underline';document.getElementById('_fs_asrngqcllywgnexwhqpd_ind_11').style.opacity = 1;document.getElementById('_fb_asrngqcllywgnexwhqpd_ind_11').style.opacity = 1;\"      onmouseout=\"document.getElementById('_tp_asrngqcllywgnexwhqpd_ind_11').style.textDecoration = 'none';document.getElementById('_fs_asrngqcllywgnexwhqpd_ind_11').style.opacity = 0;document.getElementById('_fb_asrngqcllywgnexwhqpd_ind_11').style.opacity = 0;\" style=\"fill:rgb(0,0,0,0)\" /><rect x=\"71.04680704063097%\" width=\"20.61985947783398%\" y=\"40\" height=\"18\" style=\"fill:rgb(0.0, 138.56128015770727, 250.76166088685727); stroke-width:0; stroke:rgb(0,0,0)\" /><line x1=\"71.04680704063097%\" x2=\"78.26921736536053%\" y1=\"60\" y2=\"60\" id=\"_fb_asrngqcllywgnexwhqpd_ind_10\" style=\"stroke:rgb(0.0, 138.56128015770727, 250.76166088685727);stroke-width:2; opacity: 0\"/><text x=\"74.65801220299575%\" y=\"71\" font-size=\"12px\" fill=\"rgb(0.0, 138.56128015770727, 250.76166088685727)\" id=\"_fs_asrngqcllywgnexwhqpd_ind_10\" style=\"opacity: 0\" dominant-baseline=\"middle\" text-anchor=\"middle\">-0.447</text><svg x=\"71.04680704063097%\" y=\"40\" height=\"20\" width=\"7.222410324729566%\">  <svg x=\"0\" y=\"0\" width=\"100%\" height=\"100%\">    <text x=\"50%\" y=\"9\" font-size=\"12px\" fill=\"rgb(255,255,255)\" dominant-baseline=\"middle\" text-anchor=\"middle\">buy</text>  </svg></svg><line x1=\"78.26921736536053%\" x2=\"83.84328413499166%\" y1=\"60\" y2=\"60\" id=\"_fb_asrngqcllywgnexwhqpd_ind_9\" style=\"stroke:rgb(0.0, 138.56128015770727, 250.76166088685727);stroke-width:2; opacity: 0\"/><text x=\"81.0562507501761%\" y=\"71\" font-size=\"12px\" fill=\"rgb(0.0, 138.56128015770727, 250.76166088685727)\" id=\"_fs_asrngqcllywgnexwhqpd_ind_9\" style=\"opacity: 0\" dominant-baseline=\"middle\" text-anchor=\"middle\">-0.345</text><svg x=\"78.26921736536053%\" y=\"40\" height=\"20\" width=\"5.574066769631131%\">  <svg x=\"0\" y=\"0\" width=\"100%\" height=\"100%\">    <text x=\"50%\" y=\"9\" font-size=\"12px\" fill=\"rgb(255,255,255)\" dominant-baseline=\"middle\" text-anchor=\"middle\">by</text>  </svg></svg><line x1=\"83.84328413499166%\" x2=\"88.44959835108119%\" y1=\"60\" y2=\"60\" id=\"_fb_asrngqcllywgnexwhqpd_ind_1\" style=\"stroke:rgb(0.0, 138.56128015770727, 250.76166088685727);stroke-width:2; opacity: 0\"/><text x=\"86.14644124303643%\" y=\"71\" font-size=\"12px\" fill=\"rgb(0.0, 138.56128015770727, 250.76166088685727)\" id=\"_fs_asrngqcllywgnexwhqpd_ind_1\" style=\"opacity: 0\" dominant-baseline=\"middle\" text-anchor=\"middle\">-0.285</text><svg x=\"83.84328413499166%\" y=\"40\" height=\"20\" width=\"4.60631421608953%\">  <svg x=\"0\" y=\"0\" width=\"100%\" height=\"100%\">    <text x=\"50%\" y=\"9\" font-size=\"12px\" fill=\"rgb(255,255,255)\" dominant-baseline=\"middle\" text-anchor=\"middle\">it</text>  </svg></svg><line x1=\"88.44959835108119%\" x2=\"90.98520307343854%\" y1=\"60\" y2=\"60\" id=\"_fb_asrngqcllywgnexwhqpd_ind_14\" style=\"stroke:rgb(0.0, 138.56128015770727, 250.76166088685727);stroke-width:2; opacity: 0\"/><text x=\"89.71740071225986%\" y=\"71\" font-size=\"12px\" fill=\"rgb(0.0, 138.56128015770727, 250.76166088685727)\" id=\"_fs_asrngqcllywgnexwhqpd_ind_14\" style=\"opacity: 0\" dominant-baseline=\"middle\" text-anchor=\"middle\">-0.157</text><svg x=\"88.44959835108119%\" y=\"40\" height=\"20\" width=\"2.5356047223573484%\">  <svg x=\"0\" y=\"0\" width=\"100%\" height=\"100%\">    <text x=\"50%\" y=\"9\" font-size=\"12px\" fill=\"rgb(255,255,255)\" dominant-baseline=\"middle\" text-anchor=\"middle\">i</text>  </svg></svg><line x1=\"90.98520307343854%\" x2=\"91.66665760464932%\" y1=\"60\" y2=\"60\" id=\"_fb_asrngqcllywgnexwhqpd_ind_2\" style=\"stroke:rgb(0.0, 138.56128015770727, 250.76166088685727);stroke-width:2; opacity: 0\"/><text x=\"91.32593033904394%\" y=\"71\" font-size=\"12px\" fill=\"rgb(0.0, 138.56128015770727, 250.76166088685727)\" id=\"_fs_asrngqcllywgnexwhqpd_ind_2\" style=\"opacity: 0\" dominant-baseline=\"middle\" text-anchor=\"middle\">-0.042</text><svg x=\"90.98520307343854%\" y=\"40\" height=\"20\" width=\"0.6814545312107754%\">  <svg x=\"0\" y=\"0\" width=\"100%\" height=\"100%\">    <text x=\"50%\" y=\"9\" font-size=\"12px\" fill=\"rgb(255,255,255)\" dominant-baseline=\"middle\" text-anchor=\"middle\">s</text>  </svg></svg><line x1=\"91.66665760464932%\" x2=\"91.6666614592723%\" y1=\"60\" y2=\"60\" id=\"_fb_asrngqcllywgnexwhqpd_ind_16\" style=\"stroke:rgb(0.0, 138.56128015770727, 250.76166088685727);stroke-width:2; opacity: 0\"/><text x=\"91.66665953196082%\" y=\"71\" font-size=\"12px\" fill=\"rgb(0.0, 138.56128015770727, 250.76166088685727)\" id=\"_fs_asrngqcllywgnexwhqpd_ind_16\" style=\"opacity: 0\" dominant-baseline=\"middle\" text-anchor=\"middle\">-0.0</text><svg x=\"91.66665760464932%\" y=\"40\" height=\"20\" width=\"3.8546229887970185e-06%\">  <svg x=\"0\" y=\"0\" width=\"100%\" height=\"100%\">    <text x=\"50%\" y=\"9\" font-size=\"12px\" fill=\"rgb(255,255,255)\" dominant-baseline=\"middle\" text-anchor=\"middle\"></text>  </svg></svg><line x1=\"91.6666614592723%\" x2=\"91.66666531389528%\" y1=\"60\" y2=\"60\" id=\"_fb_asrngqcllywgnexwhqpd_ind_15\" style=\"stroke:rgb(0.0, 138.56128015770727, 250.76166088685727);stroke-width:2; opacity: 0\"/><text x=\"91.66666338658379%\" y=\"71\" font-size=\"12px\" fill=\"rgb(0.0, 138.56128015770727, 250.76166088685727)\" id=\"_fs_asrngqcllywgnexwhqpd_ind_15\" style=\"opacity: 0\" dominant-baseline=\"middle\" text-anchor=\"middle\">-0.0</text><svg x=\"91.6666614592723%\" y=\"40\" height=\"20\" width=\"3.854622974586164e-06%\">  <svg x=\"0\" y=\"0\" width=\"100%\" height=\"100%\">    <text x=\"50%\" y=\"9\" font-size=\"12px\" fill=\"rgb(255,255,255)\" dominant-baseline=\"middle\" text-anchor=\"middle\">[SEP]</text>  </svg></svg><line x1=\"91.66666531389528%\" x2=\"91.66666651846495%\" y1=\"60\" y2=\"60\" id=\"_fb_asrngqcllywgnexwhqpd_ind_0\" style=\"stroke:rgb(0.0, 138.56128015770727, 250.76166088685727);stroke-width:2; opacity: 0\"/><text x=\"91.66666591618011%\" y=\"71\" font-size=\"12px\" fill=\"rgb(0.0, 138.56128015770727, 250.76166088685727)\" id=\"_fs_asrngqcllywgnexwhqpd_ind_0\" style=\"opacity: 0\" dominant-baseline=\"middle\" text-anchor=\"middle\">-0.0</text><svg x=\"91.66666531389528%\" y=\"40\" height=\"20\" width=\"1.204569670676392e-06%\">  <svg x=\"0\" y=\"0\" width=\"100%\" height=\"100%\">    <text x=\"50%\" y=\"9\" font-size=\"12px\" fill=\"rgb(255,255,255)\" dominant-baseline=\"middle\" text-anchor=\"middle\"></text>  </svg></svg><g transform=\"translate(-8,0)\">  <svg x=\"78.26921736536053%\" y=\"40\" height=\"18\" overflow=\"visible\" width=\"30\">    <path d=\"M 8 -9 l -6 18 L 8 25\" fill=\"none\" style=\"stroke:rgb(0.0, 138.56128015770727, 250.76166088685727);stroke-width:2\" />  </svg></g><g transform=\"translate(-10,0)\">  <svg x=\"78.26921736536053%\" y=\"40\" height=\"18\" overflow=\"visible\" width=\"30\">    <path d=\"M 8 -9 l -6 18 L 8 25\" fill=\"none\" style=\"stroke:rgb(0.0, 138.56128015770727, 250.76166088685727);stroke-width:2\" />  </svg></g><g transform=\"translate(-12,0)\">  <svg x=\"78.26921736536053%\" y=\"40\" height=\"18\" overflow=\"visible\" width=\"30\">    <path d=\"M 8 -9 l -6 18 L 8 25\" fill=\"none\" style=\"stroke:rgb(0.0, 138.56128015770727, 250.76166088685727);stroke-width:2\" />  </svg></g><g transform=\"translate(-14,0)\">  <svg x=\"78.26921736536053%\" y=\"40\" height=\"18\" overflow=\"visible\" width=\"30\">    <path d=\"M 8 -9 l -6 18 L 8 25\" fill=\"none\" style=\"stroke:rgb(0.0, 138.56128015770727, 250.76166088685727);stroke-width:2\" />  </svg></g><g transform=\"translate(2,0)\">  <svg x=\"78.26921736536053%\" y=\"40\" height=\"18\" overflow=\"visible\" width=\"30\">    <path d=\"M 8 -9 l -6 18 L 8 25\" fill=\"none\" style=\"stroke:rgb(0.0, 138.56128015770727, 250.76166088685727);stroke-width:2\" />  </svg></g><g transform=\"translate(0,0)\">  <svg x=\"78.26921736536053%\" y=\"40\" height=\"18\" overflow=\"visible\" width=\"30\">    <path d=\"M 8 -9 l -6 18 L 8 25\" fill=\"none\" style=\"stroke:rgb(0.0, 138.56128015770727, 250.76166088685727);stroke-width:2\" />  </svg></g><g transform=\"translate(-2,0)\">  <svg x=\"78.26921736536053%\" y=\"40\" height=\"18\" overflow=\"visible\" width=\"30\">    <path d=\"M 8 -9 l -6 18 L 8 25\" fill=\"none\" style=\"stroke:rgb(0.0, 138.56128015770727, 250.76166088685727);stroke-width:2\" />  </svg></g><g transform=\"translate(-4,0)\">  <svg x=\"78.26921736536053%\" y=\"40\" height=\"18\" overflow=\"visible\" width=\"30\">    <path d=\"M 8 -9 l -6 18 L 8 25\" fill=\"none\" style=\"stroke:rgb(0.0, 138.56128015770727, 250.76166088685727);stroke-width:2\" />  </svg></g><g transform=\"translate(-8,0)\">  <svg x=\"83.84328413499166%\" y=\"40\" height=\"18\" overflow=\"visible\" width=\"30\">    <path d=\"M 8 -9 l -6 18 L 8 25\" fill=\"none\" style=\"stroke:rgb(0.0, 138.56128015770727, 250.76166088685727);stroke-width:2\" />  </svg></g><g transform=\"translate(-10,0)\">  <svg x=\"83.84328413499166%\" y=\"40\" height=\"18\" overflow=\"visible\" width=\"30\">    <path d=\"M 8 -9 l -6 18 L 8 25\" fill=\"none\" style=\"stroke:rgb(0.0, 138.56128015770727, 250.76166088685727);stroke-width:2\" />  </svg></g><g transform=\"translate(-12,0)\">  <svg x=\"83.84328413499166%\" y=\"40\" height=\"18\" overflow=\"visible\" width=\"30\">    <path d=\"M 8 -9 l -6 18 L 8 25\" fill=\"none\" style=\"stroke:rgb(0.0, 138.56128015770727, 250.76166088685727);stroke-width:2\" />  </svg></g><g transform=\"translate(-14,0)\">  <svg x=\"83.84328413499166%\" y=\"40\" height=\"18\" overflow=\"visible\" width=\"30\">    <path d=\"M 8 -9 l -6 18 L 8 25\" fill=\"none\" style=\"stroke:rgb(0.0, 138.56128015770727, 250.76166088685727);stroke-width:2\" />  </svg></g><g transform=\"translate(2,0)\">  <svg x=\"83.84328413499166%\" y=\"40\" height=\"18\" overflow=\"visible\" width=\"30\">    <path d=\"M 8 -9 l -6 18 L 8 25\" fill=\"none\" style=\"stroke:rgb(0.0, 138.56128015770727, 250.76166088685727);stroke-width:2\" />  </svg></g><g transform=\"translate(0,0)\">  <svg x=\"83.84328413499166%\" y=\"40\" height=\"18\" overflow=\"visible\" width=\"30\">    <path d=\"M 8 -9 l -6 18 L 8 25\" fill=\"none\" style=\"stroke:rgb(0.0, 138.56128015770727, 250.76166088685727);stroke-width:2\" />  </svg></g><g transform=\"translate(-2,0)\">  <svg x=\"83.84328413499166%\" y=\"40\" height=\"18\" overflow=\"visible\" width=\"30\">    <path d=\"M 8 -9 l -6 18 L 8 25\" fill=\"none\" style=\"stroke:rgb(0.0, 138.56128015770727, 250.76166088685727);stroke-width:2\" />  </svg></g><g transform=\"translate(-4,0)\">  <svg x=\"83.84328413499166%\" y=\"40\" height=\"18\" overflow=\"visible\" width=\"30\">    <path d=\"M 8 -9 l -6 18 L 8 25\" fill=\"none\" style=\"stroke:rgb(0.0, 138.56128015770727, 250.76166088685727);stroke-width:2\" />  </svg></g><g transform=\"translate(-8,0)\">  <svg x=\"88.44959835108119%\" y=\"40\" height=\"18\" overflow=\"visible\" width=\"30\">    <path d=\"M 8 -9 l -6 18 L 8 25\" fill=\"none\" style=\"stroke:rgb(0.0, 138.56128015770727, 250.76166088685727);stroke-width:2\" />  </svg></g><g transform=\"translate(-10,0)\">  <svg x=\"88.44959835108119%\" y=\"40\" height=\"18\" overflow=\"visible\" width=\"30\">    <path d=\"M 8 -9 l -6 18 L 8 25\" fill=\"none\" style=\"stroke:rgb(0.0, 138.56128015770727, 250.76166088685727);stroke-width:2\" />  </svg></g><g transform=\"translate(-12,0)\">  <svg x=\"88.44959835108119%\" y=\"40\" height=\"18\" overflow=\"visible\" width=\"30\">    <path d=\"M 8 -9 l -6 18 L 8 25\" fill=\"none\" style=\"stroke:rgb(0.0, 138.56128015770727, 250.76166088685727);stroke-width:2\" />  </svg></g><g transform=\"translate(-14,0)\">  <svg x=\"88.44959835108119%\" y=\"40\" height=\"18\" overflow=\"visible\" width=\"30\">    <path d=\"M 8 -9 l -6 18 L 8 25\" fill=\"none\" style=\"stroke:rgb(0.0, 138.56128015770727, 250.76166088685727);stroke-width:2\" />  </svg></g><g transform=\"translate(2,0)\">  <svg x=\"88.44959835108119%\" y=\"40\" height=\"18\" overflow=\"visible\" width=\"30\">    <path d=\"M 8 -9 l -6 18 L 8 25\" fill=\"none\" style=\"stroke:rgb(0.0, 138.56128015770727, 250.76166088685727);stroke-width:2\" />  </svg></g><g transform=\"translate(0,0)\">  <svg x=\"88.44959835108119%\" y=\"40\" height=\"18\" overflow=\"visible\" width=\"30\">    <path d=\"M 8 -9 l -6 18 L 8 25\" fill=\"none\" style=\"stroke:rgb(0.0, 138.56128015770727, 250.76166088685727);stroke-width:2\" />  </svg></g><g transform=\"translate(-2,0)\">  <svg x=\"88.44959835108119%\" y=\"40\" height=\"18\" overflow=\"visible\" width=\"30\">    <path d=\"M 8 -9 l -6 18 L 8 25\" fill=\"none\" style=\"stroke:rgb(0.0, 138.56128015770727, 250.76166088685727);stroke-width:2\" />  </svg></g><g transform=\"translate(-4,0)\">  <svg x=\"88.44959835108119%\" y=\"40\" height=\"18\" overflow=\"visible\" width=\"30\">    <path d=\"M 8 -9 l -6 18 L 8 25\" fill=\"none\" style=\"stroke:rgb(0.0, 138.56128015770727, 250.76166088685727);stroke-width:2\" />  </svg></g><g transform=\"translate(-8,0)\">  <svg x=\"90.98520307343854%\" y=\"40\" height=\"18\" overflow=\"visible\" width=\"30\">    <path d=\"M 8 -9 l -6 18 L 8 25\" fill=\"none\" style=\"stroke:rgb(0.0, 138.56128015770727, 250.76166088685727);stroke-width:2\" />  </svg></g><g transform=\"translate(-10,0)\">  <svg x=\"90.98520307343854%\" y=\"40\" height=\"18\" overflow=\"visible\" width=\"30\">    <path d=\"M 8 -9 l -6 18 L 8 25\" fill=\"none\" style=\"stroke:rgb(0.0, 138.56128015770727, 250.76166088685727);stroke-width:2\" />  </svg></g><g transform=\"translate(-12,0)\">  <svg x=\"90.98520307343854%\" y=\"40\" height=\"18\" overflow=\"visible\" width=\"30\">    <path d=\"M 8 -9 l -6 18 L 8 25\" fill=\"none\" style=\"stroke:rgb(0.0, 138.56128015770727, 250.76166088685727);stroke-width:2\" />  </svg></g><g transform=\"translate(-14,0)\">  <svg x=\"90.98520307343854%\" y=\"40\" height=\"18\" overflow=\"visible\" width=\"30\">    <path d=\"M 8 -9 l -6 18 L 8 25\" fill=\"none\" style=\"stroke:rgb(0.0, 138.56128015770727, 250.76166088685727);stroke-width:2\" />  </svg></g><g transform=\"translate(2,0)\">  <svg x=\"90.98520307343854%\" y=\"40\" height=\"18\" overflow=\"visible\" width=\"30\">    <path d=\"M 8 -9 l -6 18 L 8 25\" fill=\"none\" style=\"stroke:rgb(0.0, 138.56128015770727, 250.76166088685727);stroke-width:2\" />  </svg></g><g transform=\"translate(0,0)\">  <svg x=\"90.98520307343854%\" y=\"40\" height=\"18\" overflow=\"visible\" width=\"30\">    <path d=\"M 8 -9 l -6 18 L 8 25\" fill=\"none\" style=\"stroke:rgb(0.0, 138.56128015770727, 250.76166088685727);stroke-width:2\" />  </svg></g><g transform=\"translate(-2,0)\">  <svg x=\"90.98520307343854%\" y=\"40\" height=\"18\" overflow=\"visible\" width=\"30\">    <path d=\"M 8 -9 l -6 18 L 8 25\" fill=\"none\" style=\"stroke:rgb(0.0, 138.56128015770727, 250.76166088685727);stroke-width:2\" />  </svg></g><g transform=\"translate(-4,0)\">  <svg x=\"90.98520307343854%\" y=\"40\" height=\"18\" overflow=\"visible\" width=\"30\">    <path d=\"M 8 -9 l -6 18 L 8 25\" fill=\"none\" style=\"stroke:rgb(0.0, 138.56128015770727, 250.76166088685727);stroke-width:2\" />  </svg></g><g transform=\"translate(-8,0)\">  <svg x=\"91.66665760464932%\" y=\"40\" height=\"18\" overflow=\"visible\" width=\"30\">    <path d=\"M 8 -9 l -6 18 L 8 25\" fill=\"none\" style=\"stroke:rgb(0.0, 138.56128015770727, 250.76166088685727);stroke-width:2\" />  </svg></g><g transform=\"translate(-10,0)\">  <svg x=\"91.66665760464932%\" y=\"40\" height=\"18\" overflow=\"visible\" width=\"30\">    <path d=\"M 8 -9 l -6 18 L 8 25\" fill=\"none\" style=\"stroke:rgb(0.0, 138.56128015770727, 250.76166088685727);stroke-width:2\" />  </svg></g><g transform=\"translate(-12,0)\">  <svg x=\"91.66665760464932%\" y=\"40\" height=\"18\" overflow=\"visible\" width=\"30\">    <path d=\"M 8 -9 l -6 18 L 8 25\" fill=\"none\" style=\"stroke:rgb(0.0, 138.56128015770727, 250.76166088685727);stroke-width:2\" />  </svg></g><g transform=\"translate(-14,0)\">  <svg x=\"91.66665760464932%\" y=\"40\" height=\"18\" overflow=\"visible\" width=\"30\">    <path d=\"M 8 -9 l -6 18 L 8 25\" fill=\"none\" style=\"stroke:rgb(0.0, 138.56128015770727, 250.76166088685727);stroke-width:2\" />  </svg></g><g transform=\"translate(2,0)\">  <svg x=\"91.66665760464932%\" y=\"40\" height=\"18\" overflow=\"visible\" width=\"30\">    <path d=\"M 8 -9 l -6 18 L 8 25\" fill=\"none\" style=\"stroke:rgb(0.0, 138.56128015770727, 250.76166088685727);stroke-width:2\" />  </svg></g><g transform=\"translate(0,0)\">  <svg x=\"91.66665760464932%\" y=\"40\" height=\"18\" overflow=\"visible\" width=\"30\">    <path d=\"M 8 -9 l -6 18 L 8 25\" fill=\"none\" style=\"stroke:rgb(0.0, 138.56128015770727, 250.76166088685727);stroke-width:2\" />  </svg></g><g transform=\"translate(-2,0)\">  <svg x=\"91.66665760464932%\" y=\"40\" height=\"18\" overflow=\"visible\" width=\"30\">    <path d=\"M 8 -9 l -6 18 L 8 25\" fill=\"none\" style=\"stroke:rgb(0.0, 138.56128015770727, 250.76166088685727);stroke-width:2\" />  </svg></g><g transform=\"translate(-4,0)\">  <svg x=\"91.66665760464932%\" y=\"40\" height=\"18\" overflow=\"visible\" width=\"30\">    <path d=\"M 8 -9 l -6 18 L 8 25\" fill=\"none\" style=\"stroke:rgb(0.0, 138.56128015770727, 250.76166088685727);stroke-width:2\" />  </svg></g><g transform=\"translate(-8,0)\">  <svg x=\"91.6666614592723%\" y=\"40\" height=\"18\" overflow=\"visible\" width=\"30\">    <path d=\"M 8 -9 l -6 18 L 8 25\" fill=\"none\" style=\"stroke:rgb(0.0, 138.56128015770727, 250.76166088685727);stroke-width:2\" />  </svg></g><g transform=\"translate(-10,0)\">  <svg x=\"91.6666614592723%\" y=\"40\" height=\"18\" overflow=\"visible\" width=\"30\">    <path d=\"M 8 -9 l -6 18 L 8 25\" fill=\"none\" style=\"stroke:rgb(0.0, 138.56128015770727, 250.76166088685727);stroke-width:2\" />  </svg></g><g transform=\"translate(-12,0)\">  <svg x=\"91.6666614592723%\" y=\"40\" height=\"18\" overflow=\"visible\" width=\"30\">    <path d=\"M 8 -9 l -6 18 L 8 25\" fill=\"none\" style=\"stroke:rgb(0.0, 138.56128015770727, 250.76166088685727);stroke-width:2\" />  </svg></g><g transform=\"translate(-14,0)\">  <svg x=\"91.6666614592723%\" y=\"40\" height=\"18\" overflow=\"visible\" width=\"30\">    <path d=\"M 8 -9 l -6 18 L 8 25\" fill=\"none\" style=\"stroke:rgb(0.0, 138.56128015770727, 250.76166088685727);stroke-width:2\" />  </svg></g><g transform=\"translate(2,0)\">  <svg x=\"91.6666614592723%\" y=\"40\" height=\"18\" overflow=\"visible\" width=\"30\">    <path d=\"M 8 -9 l -6 18 L 8 25\" fill=\"none\" style=\"stroke:rgb(0.0, 138.56128015770727, 250.76166088685727);stroke-width:2\" />  </svg></g><g transform=\"translate(0,0)\">  <svg x=\"91.6666614592723%\" y=\"40\" height=\"18\" overflow=\"visible\" width=\"30\">    <path d=\"M 8 -9 l -6 18 L 8 25\" fill=\"none\" style=\"stroke:rgb(0.0, 138.56128015770727, 250.76166088685727);stroke-width:2\" />  </svg></g><g transform=\"translate(-2,0)\">  <svg x=\"91.6666614592723%\" y=\"40\" height=\"18\" overflow=\"visible\" width=\"30\">    <path d=\"M 8 -9 l -6 18 L 8 25\" fill=\"none\" style=\"stroke:rgb(0.0, 138.56128015770727, 250.76166088685727);stroke-width:2\" />  </svg></g><g transform=\"translate(-4,0)\">  <svg x=\"91.6666614592723%\" y=\"40\" height=\"18\" overflow=\"visible\" width=\"30\">    <path d=\"M 8 -9 l -6 18 L 8 25\" fill=\"none\" style=\"stroke:rgb(0.0, 138.56128015770727, 250.76166088685727);stroke-width:2\" />  </svg></g><g transform=\"translate(-8,0)\">  <svg x=\"91.66666531389528%\" y=\"40\" height=\"18\" overflow=\"visible\" width=\"30\">    <path d=\"M 8 -9 l -6 18 L 8 25\" fill=\"none\" style=\"stroke:rgb(0.0, 138.56128015770727, 250.76166088685727);stroke-width:2\" />  </svg></g><g transform=\"translate(-10,0)\">  <svg x=\"91.66666531389528%\" y=\"40\" height=\"18\" overflow=\"visible\" width=\"30\">    <path d=\"M 8 -9 l -6 18 L 8 25\" fill=\"none\" style=\"stroke:rgb(0.0, 138.56128015770727, 250.76166088685727);stroke-width:2\" />  </svg></g><g transform=\"translate(-12,0)\">  <svg x=\"91.66666531389528%\" y=\"40\" height=\"18\" overflow=\"visible\" width=\"30\">    <path d=\"M 8 -9 l -6 18 L 8 25\" fill=\"none\" style=\"stroke:rgb(0.0, 138.56128015770727, 250.76166088685727);stroke-width:2\" />  </svg></g><g transform=\"translate(-14,0)\">  <svg x=\"91.66666531389528%\" y=\"40\" height=\"18\" overflow=\"visible\" width=\"30\">    <path d=\"M 8 -9 l -6 18 L 8 25\" fill=\"none\" style=\"stroke:rgb(0.0, 138.56128015770727, 250.76166088685727);stroke-width:2\" />  </svg></g><g transform=\"translate(2,0)\">  <svg x=\"91.66666531389528%\" y=\"40\" height=\"18\" overflow=\"visible\" width=\"30\">    <path d=\"M 8 -9 l -6 18 L 8 25\" fill=\"none\" style=\"stroke:rgb(0.0, 138.56128015770727, 250.76166088685727);stroke-width:2\" />  </svg></g><g transform=\"translate(0,0)\">  <svg x=\"91.66666531389528%\" y=\"40\" height=\"18\" overflow=\"visible\" width=\"30\">    <path d=\"M 8 -9 l -6 18 L 8 25\" fill=\"none\" style=\"stroke:rgb(0.0, 138.56128015770727, 250.76166088685727);stroke-width:2\" />  </svg></g><g transform=\"translate(-2,0)\">  <svg x=\"91.66666531389528%\" y=\"40\" height=\"18\" overflow=\"visible\" width=\"30\">    <path d=\"M 8 -9 l -6 18 L 8 25\" fill=\"none\" style=\"stroke:rgb(0.0, 138.56128015770727, 250.76166088685727);stroke-width:2\" />  </svg></g><g transform=\"translate(-4,0)\">  <svg x=\"91.66666531389528%\" y=\"40\" height=\"18\" overflow=\"visible\" width=\"30\">    <path d=\"M 8 -9 l -6 18 L 8 25\" fill=\"none\" style=\"stroke:rgb(0.0, 138.56128015770727, 250.76166088685727);stroke-width:2\" />  </svg></g><rect transform=\"translate(0,0)\" x=\"71.04680704063097%\" y=\"40\" width=\"8\" height=\"18\" style=\"fill:rgb(0.0, 138.56128015770727, 250.76166088685727)\"/><g transform=\"translate(-6.0,0)\">  <svg x=\"91.66666651846495%\" y=\"40\" height=\"18\" overflow=\"visible\" width=\"30\">    <path d=\"M 8 -9 l -6 18 L 8 25 L 20 25 L 20 -9\" fill=\"#ffffff\" style=\"stroke:rgb(255,255,255);stroke-width:2\" />  </svg></g><g transform=\"translate(-6.0,0)\">  <svg x=\"78.26921736536053%\" y=\"40\" height=\"18\" overflow=\"visible\" width=\"30\">    <path d=\"M 8 -9 l -6 18 L 8 25\" fill=\"none\" style=\"stroke:rgb(208, 230, 250);stroke-width:2\" />  </svg></g><rect x=\"71.04680704063097%\" y=\"40\" height=\"20\" width=\"7.222410324729566%\"      onmouseover=\"document.getElementById('_tp_asrngqcllywgnexwhqpd_ind_10').style.textDecoration = 'underline';document.getElementById('_fs_asrngqcllywgnexwhqpd_ind_10').style.opacity = 1;document.getElementById('_fb_asrngqcllywgnexwhqpd_ind_10').style.opacity = 1;\"      onmouseout=\"document.getElementById('_tp_asrngqcllywgnexwhqpd_ind_10').style.textDecoration = 'none';document.getElementById('_fs_asrngqcllywgnexwhqpd_ind_10').style.opacity = 0;document.getElementById('_fb_asrngqcllywgnexwhqpd_ind_10').style.opacity = 0;\" style=\"fill:rgb(0,0,0,0)\" /><g transform=\"translate(-6.0,0)\">  <svg x=\"83.84328413499166%\" y=\"40\" height=\"18\" overflow=\"visible\" width=\"30\">    <path d=\"M 8 -9 l -6 18 L 8 25\" fill=\"none\" style=\"stroke:rgb(208, 230, 250);stroke-width:2\" />  </svg></g><rect x=\"78.26921736536053%\" y=\"40\" height=\"20\" width=\"5.574066769631131%\"      onmouseover=\"document.getElementById('_tp_asrngqcllywgnexwhqpd_ind_9').style.textDecoration = 'underline';document.getElementById('_fs_asrngqcllywgnexwhqpd_ind_9').style.opacity = 1;document.getElementById('_fb_asrngqcllywgnexwhqpd_ind_9').style.opacity = 1;\"      onmouseout=\"document.getElementById('_tp_asrngqcllywgnexwhqpd_ind_9').style.textDecoration = 'none';document.getElementById('_fs_asrngqcllywgnexwhqpd_ind_9').style.opacity = 0;document.getElementById('_fb_asrngqcllywgnexwhqpd_ind_9').style.opacity = 0;\" style=\"fill:rgb(0,0,0,0)\" /><g transform=\"translate(-6.0,0)\">  <svg x=\"88.44959835108119%\" y=\"40\" height=\"18\" overflow=\"visible\" width=\"30\">    <path d=\"M 8 -9 l -6 18 L 8 25\" fill=\"none\" style=\"stroke:rgb(208, 230, 250);stroke-width:2\" />  </svg></g><rect x=\"83.84328413499166%\" y=\"40\" height=\"20\" width=\"4.60631421608953%\"      onmouseover=\"document.getElementById('_tp_asrngqcllywgnexwhqpd_ind_1').style.textDecoration = 'underline';document.getElementById('_fs_asrngqcllywgnexwhqpd_ind_1').style.opacity = 1;document.getElementById('_fb_asrngqcllywgnexwhqpd_ind_1').style.opacity = 1;\"      onmouseout=\"document.getElementById('_tp_asrngqcllywgnexwhqpd_ind_1').style.textDecoration = 'none';document.getElementById('_fs_asrngqcllywgnexwhqpd_ind_1').style.opacity = 0;document.getElementById('_fb_asrngqcllywgnexwhqpd_ind_1').style.opacity = 0;\" style=\"fill:rgb(0,0,0,0)\" /><g transform=\"translate(-6.0,0)\">  <svg x=\"90.98520307343854%\" y=\"40\" height=\"18\" overflow=\"visible\" width=\"30\">    <path d=\"M 8 -9 l -6 18 L 8 25\" fill=\"none\" style=\"stroke:rgb(208, 230, 250);stroke-width:2\" />  </svg></g><rect x=\"88.44959835108119%\" y=\"40\" height=\"20\" width=\"2.5356047223573484%\"      onmouseover=\"document.getElementById('_tp_asrngqcllywgnexwhqpd_ind_14').style.textDecoration = 'underline';document.getElementById('_fs_asrngqcllywgnexwhqpd_ind_14').style.opacity = 1;document.getElementById('_fb_asrngqcllywgnexwhqpd_ind_14').style.opacity = 1;\"      onmouseout=\"document.getElementById('_tp_asrngqcllywgnexwhqpd_ind_14').style.textDecoration = 'none';document.getElementById('_fs_asrngqcllywgnexwhqpd_ind_14').style.opacity = 0;document.getElementById('_fb_asrngqcllywgnexwhqpd_ind_14').style.opacity = 0;\" style=\"fill:rgb(0,0,0,0)\" /><g transform=\"translate(-6.0,0)\">  <svg x=\"91.66665760464932%\" y=\"40\" height=\"18\" overflow=\"visible\" width=\"30\">    <path d=\"M 8 -9 l -6 18 L 8 25\" fill=\"none\" style=\"stroke:rgb(208, 230, 250);stroke-width:2\" />  </svg></g><rect x=\"90.98520307343854%\" y=\"40\" height=\"20\" width=\"0.6814545312107754%\"      onmouseover=\"document.getElementById('_tp_asrngqcllywgnexwhqpd_ind_2').style.textDecoration = 'underline';document.getElementById('_fs_asrngqcllywgnexwhqpd_ind_2').style.opacity = 1;document.getElementById('_fb_asrngqcllywgnexwhqpd_ind_2').style.opacity = 1;\"      onmouseout=\"document.getElementById('_tp_asrngqcllywgnexwhqpd_ind_2').style.textDecoration = 'none';document.getElementById('_fs_asrngqcllywgnexwhqpd_ind_2').style.opacity = 0;document.getElementById('_fb_asrngqcllywgnexwhqpd_ind_2').style.opacity = 0;\" style=\"fill:rgb(0,0,0,0)\" /><g transform=\"translate(-6.0,0)\">  <svg x=\"91.6666614592723%\" y=\"40\" height=\"18\" overflow=\"visible\" width=\"30\">    <path d=\"M 8 -9 l -6 18 L 8 25\" fill=\"none\" style=\"stroke:rgb(208, 230, 250);stroke-width:2\" />  </svg></g><rect x=\"91.66665760464932%\" y=\"40\" height=\"20\" width=\"3.8546229887970185e-06%\"      onmouseover=\"document.getElementById('_tp_asrngqcllywgnexwhqpd_ind_16').style.textDecoration = 'underline';document.getElementById('_fs_asrngqcllywgnexwhqpd_ind_16').style.opacity = 1;document.getElementById('_fb_asrngqcllywgnexwhqpd_ind_16').style.opacity = 1;\"      onmouseout=\"document.getElementById('_tp_asrngqcllywgnexwhqpd_ind_16').style.textDecoration = 'none';document.getElementById('_fs_asrngqcllywgnexwhqpd_ind_16').style.opacity = 0;document.getElementById('_fb_asrngqcllywgnexwhqpd_ind_16').style.opacity = 0;\" style=\"fill:rgb(0,0,0,0)\" /><g transform=\"translate(-6.0,0)\">  <svg x=\"91.66666531389528%\" y=\"40\" height=\"18\" overflow=\"visible\" width=\"30\">    <path d=\"M 8 -9 l -6 18 L 8 25\" fill=\"none\" style=\"stroke:rgb(208, 230, 250);stroke-width:2\" />  </svg></g><rect x=\"91.6666614592723%\" y=\"40\" height=\"20\" width=\"3.854622974586164e-06%\"      onmouseover=\"document.getElementById('_tp_asrngqcllywgnexwhqpd_ind_15').style.textDecoration = 'underline';document.getElementById('_fs_asrngqcllywgnexwhqpd_ind_15').style.opacity = 1;document.getElementById('_fb_asrngqcllywgnexwhqpd_ind_15').style.opacity = 1;\"      onmouseout=\"document.getElementById('_tp_asrngqcllywgnexwhqpd_ind_15').style.textDecoration = 'none';document.getElementById('_fs_asrngqcllywgnexwhqpd_ind_15').style.opacity = 0;document.getElementById('_fb_asrngqcllywgnexwhqpd_ind_15').style.opacity = 0;\" style=\"fill:rgb(0,0,0,0)\" /><rect x=\"91.66666531389528%\" y=\"40\" height=\"20\" width=\"1.204569670676392e-06%\"      onmouseover=\"document.getElementById('_tp_asrngqcllywgnexwhqpd_ind_0').style.textDecoration = 'underline';document.getElementById('_fs_asrngqcllywgnexwhqpd_ind_0').style.opacity = 1;document.getElementById('_fb_asrngqcllywgnexwhqpd_ind_0').style.opacity = 1;\"      onmouseout=\"document.getElementById('_tp_asrngqcllywgnexwhqpd_ind_0').style.textDecoration = 'none';document.getElementById('_fs_asrngqcllywgnexwhqpd_ind_0').style.opacity = 0;document.getElementById('_fb_asrngqcllywgnexwhqpd_ind_0').style.opacity = 0;\" style=\"fill:rgb(0,0,0,0)\" /></svg><div align='center'><div style=\"color: rgb(120,120,120); font-size: 12px; margin-top: -15px;\">inputs</div><div style='display: inline; text-align: center;'\n",
       "    ><div style='display: none; color: #999; padding-top: 0px; font-size: 12px;'>-0.0</div\n",
       "        ><div id='_tp_asrngqcllywgnexwhqpd_ind_0'\n",
       "            style='display: inline; background: rgba(54.70588235294111, 122.49411764705886, 213.40784313725496, 0.0); border-radius: 3px; padding: 0px'\n",
       "            onclick=\"\n",
       "            if (this.previousSibling.style.display == 'none') {\n",
       "                this.previousSibling.style.display = 'block';\n",
       "                this.parentNode.style.display = 'inline-block';\n",
       "            } else {\n",
       "                this.previousSibling.style.display = 'none';\n",
       "                this.parentNode.style.display = 'inline';\n",
       "            }\"\n",
       "            onmouseover=\"document.getElementById('_fb_asrngqcllywgnexwhqpd_ind_0').style.opacity = 1; document.getElementById('_fs_asrngqcllywgnexwhqpd_ind_0').style.opacity = 1;\"\n",
       "            onmouseout=\"document.getElementById('_fb_asrngqcllywgnexwhqpd_ind_0').style.opacity = 0; document.getElementById('_fs_asrngqcllywgnexwhqpd_ind_0').style.opacity = 0;\"\n",
       "        ></div></div><div style='display: inline; text-align: center;'\n",
       "    ><div style='display: none; color: #999; padding-top: 0px; font-size: 12px;'>-0.285</div\n",
       "        ><div id='_tp_asrngqcllywgnexwhqpd_ind_1'\n",
       "            style='display: inline; background: rgba(30.0, 136.0, 229.0, 0.3142008318478906); border-radius: 3px; padding: 0px'\n",
       "            onclick=\"\n",
       "            if (this.previousSibling.style.display == 'none') {\n",
       "                this.previousSibling.style.display = 'block';\n",
       "                this.parentNode.style.display = 'inline-block';\n",
       "            } else {\n",
       "                this.previousSibling.style.display = 'none';\n",
       "                this.parentNode.style.display = 'inline';\n",
       "            }\"\n",
       "            onmouseover=\"document.getElementById('_fb_asrngqcllywgnexwhqpd_ind_1').style.opacity = 1; document.getElementById('_fs_asrngqcllywgnexwhqpd_ind_1').style.opacity = 1;\"\n",
       "            onmouseout=\"document.getElementById('_fb_asrngqcllywgnexwhqpd_ind_1').style.opacity = 0; document.getElementById('_fs_asrngqcllywgnexwhqpd_ind_1').style.opacity = 0;\"\n",
       "        >it </div></div><div style='display: inline; text-align: center;'\n",
       "    ><div style='display: none; color: #999; padding-top: 0px; font-size: 12px;'>-0.042</div\n",
       "        ><div id='_tp_asrngqcllywgnexwhqpd_ind_2'\n",
       "            style='display: inline; background: rgba(30.0, 136.0, 229.0, 0.04618736383442258); border-radius: 3px; padding: 0px'\n",
       "            onclick=\"\n",
       "            if (this.previousSibling.style.display == 'none') {\n",
       "                this.previousSibling.style.display = 'block';\n",
       "                this.parentNode.style.display = 'inline-block';\n",
       "            } else {\n",
       "                this.previousSibling.style.display = 'none';\n",
       "                this.parentNode.style.display = 'inline';\n",
       "            }\"\n",
       "            onmouseover=\"document.getElementById('_fb_asrngqcllywgnexwhqpd_ind_2').style.opacity = 1; document.getElementById('_fs_asrngqcllywgnexwhqpd_ind_2').style.opacity = 1;\"\n",
       "            onmouseout=\"document.getElementById('_fb_asrngqcllywgnexwhqpd_ind_2').style.opacity = 0; document.getElementById('_fs_asrngqcllywgnexwhqpd_ind_2').style.opacity = 0;\"\n",
       "        >s </div></div><div style='display: inline; text-align: center;'\n",
       "    ><div style='display: none; color: #999; padding-top: 0px; font-size: 12px;'>0.303</div\n",
       "        ><div id='_tp_asrngqcllywgnexwhqpd_ind_3'\n",
       "            style='display: inline; background: rgba(255.0, 13.0, 87.0, 0.33784907902554967); border-radius: 3px; padding: 0px'\n",
       "            onclick=\"\n",
       "            if (this.previousSibling.style.display == 'none') {\n",
       "                this.previousSibling.style.display = 'block';\n",
       "                this.parentNode.style.display = 'inline-block';\n",
       "            } else {\n",
       "                this.previousSibling.style.display = 'none';\n",
       "                this.parentNode.style.display = 'inline';\n",
       "            }\"\n",
       "            onmouseover=\"document.getElementById('_fb_asrngqcllywgnexwhqpd_ind_3').style.opacity = 1; document.getElementById('_fs_asrngqcllywgnexwhqpd_ind_3').style.opacity = 1;\"\n",
       "            onmouseout=\"document.getElementById('_fb_asrngqcllywgnexwhqpd_ind_3').style.opacity = 0; document.getElementById('_fs_asrngqcllywgnexwhqpd_ind_3').style.opacity = 0;\"\n",
       "        >a </div></div><div style='display: inline; text-align: center;'\n",
       "    ><div style='display: none; color: #999; padding-top: 0px; font-size: 12px;'>0.89</div\n",
       "        ><div id='_tp_asrngqcllywgnexwhqpd_ind_4'\n",
       "            style='display: inline; background: rgba(255.0, 13.0, 87.0, 1.0); border-radius: 3px; padding: 0px'\n",
       "            onclick=\"\n",
       "            if (this.previousSibling.style.display == 'none') {\n",
       "                this.previousSibling.style.display = 'block';\n",
       "                this.parentNode.style.display = 'inline-block';\n",
       "            } else {\n",
       "                this.previousSibling.style.display = 'none';\n",
       "                this.parentNode.style.display = 'inline';\n",
       "            }\"\n",
       "            onmouseover=\"document.getElementById('_fb_asrngqcllywgnexwhqpd_ind_4').style.opacity = 1; document.getElementById('_fs_asrngqcllywgnexwhqpd_ind_4').style.opacity = 1;\"\n",
       "            onmouseout=\"document.getElementById('_fb_asrngqcllywgnexwhqpd_ind_4').style.opacity = 0; document.getElementById('_fs_asrngqcllywgnexwhqpd_ind_4').style.opacity = 0;\"\n",
       "        >lovely </div></div><div style='display: inline; text-align: center;'\n",
       "    ><div style='display: none; color: #999; padding-top: 0px; font-size: 12px;'>0.582</div\n",
       "        ><div id='_tp_asrngqcllywgnexwhqpd_ind_5'\n",
       "            style='display: inline; background: rgba(255.0, 13.0, 87.0, 0.6531590413943356); border-radius: 3px; padding: 0px'\n",
       "            onclick=\"\n",
       "            if (this.previousSibling.style.display == 'none') {\n",
       "                this.previousSibling.style.display = 'block';\n",
       "                this.parentNode.style.display = 'inline-block';\n",
       "            } else {\n",
       "                this.previousSibling.style.display = 'none';\n",
       "                this.parentNode.style.display = 'inline';\n",
       "            }\"\n",
       "            onmouseover=\"document.getElementById('_fb_asrngqcllywgnexwhqpd_ind_5').style.opacity = 1; document.getElementById('_fs_asrngqcllywgnexwhqpd_ind_5').style.opacity = 1;\"\n",
       "            onmouseout=\"document.getElementById('_fb_asrngqcllywgnexwhqpd_ind_5').style.opacity = 0; document.getElementById('_fs_asrngqcllywgnexwhqpd_ind_5').style.opacity = 0;\"\n",
       "        >film </div></div><div style='display: inline; text-align: center;'\n",
       "    ><div style='display: none; color: #999; padding-top: 0px; font-size: 12px;'>0.133</div\n",
       "        ><div id='_tp_asrngqcllywgnexwhqpd_ind_6'\n",
       "            style='display: inline; background: rgba(255.0, 13.0, 87.0, 0.14866310160427795); border-radius: 3px; padding: 0px'\n",
       "            onclick=\"\n",
       "            if (this.previousSibling.style.display == 'none') {\n",
       "                this.previousSibling.style.display = 'block';\n",
       "                this.parentNode.style.display = 'inline-block';\n",
       "            } else {\n",
       "                this.previousSibling.style.display = 'none';\n",
       "                this.parentNode.style.display = 'inline';\n",
       "            }\"\n",
       "            onmouseover=\"document.getElementById('_fb_asrngqcllywgnexwhqpd_ind_6').style.opacity = 1; document.getElementById('_fs_asrngqcllywgnexwhqpd_ind_6').style.opacity = 1;\"\n",
       "            onmouseout=\"document.getElementById('_fb_asrngqcllywgnexwhqpd_ind_6').style.opacity = 0; document.getElementById('_fs_asrngqcllywgnexwhqpd_ind_6').style.opacity = 0;\"\n",
       "        >with </div></div><div style='display: inline; text-align: center;'\n",
       "    ><div style='display: none; color: #999; padding-top: 0px; font-size: 12px;'>0.802</div\n",
       "        ><div id='_tp_asrngqcllywgnexwhqpd_ind_7'\n",
       "            style='display: inline; background: rgba(255.0, 13.0, 87.0, 0.9054070112893643); border-radius: 3px; padding: 0px'\n",
       "            onclick=\"\n",
       "            if (this.previousSibling.style.display == 'none') {\n",
       "                this.previousSibling.style.display = 'block';\n",
       "                this.parentNode.style.display = 'inline-block';\n",
       "            } else {\n",
       "                this.previousSibling.style.display = 'none';\n",
       "                this.parentNode.style.display = 'inline';\n",
       "            }\"\n",
       "            onmouseover=\"document.getElementById('_fb_asrngqcllywgnexwhqpd_ind_7').style.opacity = 1; document.getElementById('_fs_asrngqcllywgnexwhqpd_ind_7').style.opacity = 1;\"\n",
       "            onmouseout=\"document.getElementById('_fb_asrngqcllywgnexwhqpd_ind_7').style.opacity = 0; document.getElementById('_fs_asrngqcllywgnexwhqpd_ind_7').style.opacity = 0;\"\n",
       "        >lovely </div></div><div style='display: inline; text-align: center;'\n",
       "    ><div style='display: none; color: #999; padding-top: 0px; font-size: 12px;'>0.44</div\n",
       "        ><div id='_tp_asrngqcllywgnexwhqpd_ind_8'\n",
       "            style='display: inline; background: rgba(255.0, 13.0, 87.0, 0.49550406020994264); border-radius: 3px; padding: 0px'\n",
       "            onclick=\"\n",
       "            if (this.previousSibling.style.display == 'none') {\n",
       "                this.previousSibling.style.display = 'block';\n",
       "                this.parentNode.style.display = 'inline-block';\n",
       "            } else {\n",
       "                this.previousSibling.style.display = 'none';\n",
       "                this.parentNode.style.display = 'inline';\n",
       "            }\"\n",
       "            onmouseover=\"document.getElementById('_fb_asrngqcllywgnexwhqpd_ind_8').style.opacity = 1; document.getElementById('_fs_asrngqcllywgnexwhqpd_ind_8').style.opacity = 1;\"\n",
       "            onmouseout=\"document.getElementById('_fb_asrngqcllywgnexwhqpd_ind_8').style.opacity = 0; document.getElementById('_fs_asrngqcllywgnexwhqpd_ind_8').style.opacity = 0;\"\n",
       "        >performances </div></div><div style='display: inline; text-align: center;'\n",
       "    ><div style='display: none; color: #999; padding-top: 0px; font-size: 12px;'>-0.345</div\n",
       "        ><div id='_tp_asrngqcllywgnexwhqpd_ind_9'\n",
       "            style='display: inline; background: rgba(30.0, 136.0, 229.0, 0.3851455733808674); border-radius: 3px; padding: 0px'\n",
       "            onclick=\"\n",
       "            if (this.previousSibling.style.display == 'none') {\n",
       "                this.previousSibling.style.display = 'block';\n",
       "                this.parentNode.style.display = 'inline-block';\n",
       "            } else {\n",
       "                this.previousSibling.style.display = 'none';\n",
       "                this.parentNode.style.display = 'inline';\n",
       "            }\"\n",
       "            onmouseover=\"document.getElementById('_fb_asrngqcllywgnexwhqpd_ind_9').style.opacity = 1; document.getElementById('_fs_asrngqcllywgnexwhqpd_ind_9').style.opacity = 1;\"\n",
       "            onmouseout=\"document.getElementById('_fb_asrngqcllywgnexwhqpd_ind_9').style.opacity = 0; document.getElementById('_fs_asrngqcllywgnexwhqpd_ind_9').style.opacity = 0;\"\n",
       "        >by </div></div><div style='display: inline; text-align: center;'\n",
       "    ><div style='display: none; color: #999; padding-top: 0px; font-size: 12px;'>-0.447</div\n",
       "        ><div id='_tp_asrngqcllywgnexwhqpd_ind_10'\n",
       "            style='display: inline; background: rgba(30.0, 136.0, 229.0, 0.5033868092691621); border-radius: 3px; padding: 0px'\n",
       "            onclick=\"\n",
       "            if (this.previousSibling.style.display == 'none') {\n",
       "                this.previousSibling.style.display = 'block';\n",
       "                this.parentNode.style.display = 'inline-block';\n",
       "            } else {\n",
       "                this.previousSibling.style.display = 'none';\n",
       "                this.parentNode.style.display = 'inline';\n",
       "            }\"\n",
       "            onmouseover=\"document.getElementById('_fb_asrngqcllywgnexwhqpd_ind_10').style.opacity = 1; document.getElementById('_fs_asrngqcllywgnexwhqpd_ind_10').style.opacity = 1;\"\n",
       "            onmouseout=\"document.getElementById('_fb_asrngqcllywgnexwhqpd_ind_10').style.opacity = 0; document.getElementById('_fs_asrngqcllywgnexwhqpd_ind_10').style.opacity = 0;\"\n",
       "        >buy </div></div><div style='display: inline; text-align: center;'\n",
       "    ><div style='display: none; color: #999; padding-top: 0px; font-size: 12px;'>0.118</div\n",
       "        ><div id='_tp_asrngqcllywgnexwhqpd_ind_11'\n",
       "            style='display: inline; background: rgba(255.0, 13.0, 87.0, 0.12501485442661908); border-radius: 3px; padding: 0px'\n",
       "            onclick=\"\n",
       "            if (this.previousSibling.style.display == 'none') {\n",
       "                this.previousSibling.style.display = 'block';\n",
       "                this.parentNode.style.display = 'inline-block';\n",
       "            } else {\n",
       "                this.previousSibling.style.display = 'none';\n",
       "                this.parentNode.style.display = 'inline';\n",
       "            }\"\n",
       "            onmouseover=\"document.getElementById('_fb_asrngqcllywgnexwhqpd_ind_11').style.opacity = 1; document.getElementById('_fs_asrngqcllywgnexwhqpd_ind_11').style.opacity = 1;\"\n",
       "            onmouseout=\"document.getElementById('_fb_asrngqcllywgnexwhqpd_ind_11').style.opacity = 0; document.getElementById('_fs_asrngqcllywgnexwhqpd_ind_11').style.opacity = 0;\"\n",
       "        >and </div></div><div style='display: inline; text-align: center;'\n",
       "    ><div style='display: none; color: #999; padding-top: 0px; font-size: 12px;'>0.381</div\n",
       "        ><div id='_tp_asrngqcllywgnexwhqpd_ind_12'\n",
       "            style='display: inline; background: rgba(255.0, 13.0, 87.0, 0.4245593186769657); border-radius: 3px; padding: 0px'\n",
       "            onclick=\"\n",
       "            if (this.previousSibling.style.display == 'none') {\n",
       "                this.previousSibling.style.display = 'block';\n",
       "                this.parentNode.style.display = 'inline-block';\n",
       "            } else {\n",
       "                this.previousSibling.style.display = 'none';\n",
       "                this.parentNode.style.display = 'inline';\n",
       "            }\"\n",
       "            onmouseover=\"document.getElementById('_fb_asrngqcllywgnexwhqpd_ind_12').style.opacity = 1; document.getElementById('_fs_asrngqcllywgnexwhqpd_ind_12').style.opacity = 1;\"\n",
       "            onmouseout=\"document.getElementById('_fb_asrngqcllywgnexwhqpd_ind_12').style.opacity = 0; document.getElementById('_fs_asrngqcllywgnexwhqpd_ind_12').style.opacity = 0;\"\n",
       "        >acc</div></div><div style='display: inline; text-align: center;'\n",
       "    ><div style='display: none; color: #999; padding-top: 0px; font-size: 12px;'>0.23</div\n",
       "        ><div id='_tp_asrngqcllywgnexwhqpd_ind_13'\n",
       "            style='display: inline; background: rgba(255.0, 13.0, 87.0, 0.2590215884333532); border-radius: 3px; padding: 0px'\n",
       "            onclick=\"\n",
       "            if (this.previousSibling.style.display == 'none') {\n",
       "                this.previousSibling.style.display = 'block';\n",
       "                this.parentNode.style.display = 'inline-block';\n",
       "            } else {\n",
       "                this.previousSibling.style.display = 'none';\n",
       "                this.parentNode.style.display = 'inline';\n",
       "            }\"\n",
       "            onmouseover=\"document.getElementById('_fb_asrngqcllywgnexwhqpd_ind_13').style.opacity = 1; document.getElementById('_fs_asrngqcllywgnexwhqpd_ind_13').style.opacity = 1;\"\n",
       "            onmouseout=\"document.getElementById('_fb_asrngqcllywgnexwhqpd_ind_13').style.opacity = 0; document.getElementById('_fs_asrngqcllywgnexwhqpd_ind_13').style.opacity = 0;\"\n",
       "        >ors</div></div><div style='display: inline; text-align: center;'\n",
       "    ><div style='display: none; color: #999; padding-top: 0px; font-size: 12px;'>-0.157</div\n",
       "        ><div id='_tp_asrngqcllywgnexwhqpd_ind_14'\n",
       "            style='display: inline; background: rgba(30.0, 136.0, 229.0, 0.1723113487819369); border-radius: 3px; padding: 0px'\n",
       "            onclick=\"\n",
       "            if (this.previousSibling.style.display == 'none') {\n",
       "                this.previousSibling.style.display = 'block';\n",
       "                this.parentNode.style.display = 'inline-block';\n",
       "            } else {\n",
       "                this.previousSibling.style.display = 'none';\n",
       "                this.parentNode.style.display = 'inline';\n",
       "            }\"\n",
       "            onmouseover=\"document.getElementById('_fb_asrngqcllywgnexwhqpd_ind_14').style.opacity = 1; document.getElementById('_fs_asrngqcllywgnexwhqpd_ind_14').style.opacity = 1;\"\n",
       "            onmouseout=\"document.getElementById('_fb_asrngqcllywgnexwhqpd_ind_14').style.opacity = 0; document.getElementById('_fs_asrngqcllywgnexwhqpd_ind_14').style.opacity = 0;\"\n",
       "        >i </div></div><div style='display: inline; text-align: center;'\n",
       "    ><div style='display: none; color: #999; padding-top: 0px; font-size: 12px;'>-0.0</div\n",
       "        ><div id='_tp_asrngqcllywgnexwhqpd_ind_15'\n",
       "            style='display: inline; background: rgba(54.70588235294111, 122.49411764705886, 213.40784313725496, 0.0); border-radius: 3px; padding: 0px'\n",
       "            onclick=\"\n",
       "            if (this.previousSibling.style.display == 'none') {\n",
       "                this.previousSibling.style.display = 'block';\n",
       "                this.parentNode.style.display = 'inline-block';\n",
       "            } else {\n",
       "                this.previousSibling.style.display = 'none';\n",
       "                this.parentNode.style.display = 'inline';\n",
       "            }\"\n",
       "            onmouseover=\"document.getElementById('_fb_asrngqcllywgnexwhqpd_ind_15').style.opacity = 1; document.getElementById('_fs_asrngqcllywgnexwhqpd_ind_15').style.opacity = 1;\"\n",
       "            onmouseout=\"document.getElementById('_fb_asrngqcllywgnexwhqpd_ind_15').style.opacity = 0; document.getElementById('_fs_asrngqcllywgnexwhqpd_ind_15').style.opacity = 0;\"\n",
       "        >[SEP]</div></div><div style='display: inline; text-align: center;'\n",
       "    ><div style='display: none; color: #999; padding-top: 0px; font-size: 12px;'>-0.0</div\n",
       "        ><div id='_tp_asrngqcllywgnexwhqpd_ind_16'\n",
       "            style='display: inline; background: rgba(54.70588235294111, 122.49411764705886, 213.40784313725496, 0.0); border-radius: 3px; padding: 0px'\n",
       "            onclick=\"\n",
       "            if (this.previousSibling.style.display == 'none') {\n",
       "                this.previousSibling.style.display = 'block';\n",
       "                this.parentNode.style.display = 'inline-block';\n",
       "            } else {\n",
       "                this.previousSibling.style.display = 'none';\n",
       "                this.parentNode.style.display = 'inline';\n",
       "            }\"\n",
       "            onmouseover=\"document.getElementById('_fb_asrngqcllywgnexwhqpd_ind_16').style.opacity = 1; document.getElementById('_fs_asrngqcllywgnexwhqpd_ind_16').style.opacity = 1;\"\n",
       "            onmouseout=\"document.getElementById('_fb_asrngqcllywgnexwhqpd_ind_16').style.opacity = 0; document.getElementById('_fs_asrngqcllywgnexwhqpd_ind_16').style.opacity = 0;\"\n",
       "        ></div></div></div></div></div>"
      ],
      "text/plain": [
       "<IPython.core.display.HTML object>"
      ]
     },
     "metadata": {},
     "output_type": "display_data"
    }
   ],
   "source": [
    "shap.plots.text(shap_expln.explainer_output)"
   ]
  },
  {
   "cell_type": "code",
   "execution_count": 25,
   "id": "9bf507e0-9b9e-4d04-946e-18c2a8dc5431",
   "metadata": {
    "tags": []
   },
   "outputs": [
    {
     "data": {
      "text/plain": [
       "array(['', 'allan ', 'sat ', 'down ', 'at ', 'his ', 'desk ', 'and ',\n",
       "       'pulled ', 'the ', 'chair ', 'in ', 'close', '. ', 'opening ',\n",
       "       'a ', 'side ', 'drawer', ', ', 'he ', 'took ', 'out ', 'a ',\n",
       "       'piece ', 'of ', 'paper ', 'and ', 'his ', 'ink', 'pot', '. ',\n",
       "       'after ', 'filling ', 'his ', 'pen', ', ', 'allan ', 'looked ',\n",
       "       'at ', 'his ', 'paper ', 'in ', 'the ', 'orange ', 'glow ',\n",
       "       'from ', 'the ', 'lantern ', 'set ', 'back ', 'in ', 'the ',\n",
       "       'desk', \"'\", 's ', 'right ', '- ', 'hand ', 'corner', '. ', 'his ',\n",
       "       'pen ', 'cast ', 'a ', 'forbid', 'ding ', 'line ', 'of ',\n",
       "       'shadow ', 'slant', 'ing ', 'across ', 'the ', 'page', ', ',\n",
       "       'echoing ', 'the ', 'ink', 'y ', 'darkness ', 'crouch', 'ing ',\n",
       "       'in ', 'the ', 'edges ', 'of ', 'the ', 'lantern', \"'\", 's ',\n",
       "       'struggling ', 'glow', '. ', 'the ', 'only ', 'other ',\n",
       "       'illumination ', 'came ', 'from ', 'a ', 'lu', 'rid ',\n",
       "       'moonlight ', 'filtered ', 'through ', 'thin ', 'branches ',\n",
       "       'and ', 'clouds', ', ', 'casting ', 'its ', 'bone ', '- ', 'pale ',\n",
       "       'glow ', 'onto ', 'the ', 'pine ', 'floor', 'boards', '. ',\n",
       "       'allan ', 'unfolded ', 'another ', 'page', ', ', 'this ', 'one ',\n",
       "       'crowded ', 'with ', 'ranks ', 'of ', 'letters ', 'in ', 'tight ',\n",
       "       'formation ', 'from ', 'left ', 'to ', 'right', '. ', 'the ',\n",
       "       'lines ', 'of ', 'letters ', 'stepped ', 'into ', 'their ',\n",
       "       'divisions', ', ', 'in ', 'the ', 'shape ', 'of ', 'a ', 'story',\n",
       "       \"'\", 's ', 'outline ', ': ', 'the ', 'loose', ', ', 'dry ',\n",
       "       'skeleton ', 'of ', 'a ', 'tale ', 'lay ', 'exposed ', 'beneath ',\n",
       "       'their ', 'feet', ', ', 'awaiting ', 'tend', 'ons', ', ',\n",
       "       'muscle ', 'and ', 'blushing ', 'skin', '. ', 'allan ',\n",
       "       'reviewed ', 'the ', 'troops', ', ', 'all ', 'prepared ', 'to ',\n",
       "       'di', 'se', 'mba', 'rk', ', ', 'their ', 'task ', 'to ', 'form ',\n",
       "       'the ', 'tale ', 'of ', 'a ', 'young ', 'man ', 'returning ',\n",
       "       'home ', 'from ', 'life ', 'abroad ', 'to ', 'find ', 'his ',\n",
       "       'childhood ', 'friend ', 'a ', 'bride ', 'to ', '- ', 'be', ', ',\n",
       "       'thus ', 'upset', 'ting ', 'the ', 'apple ', 'cart ', 'of ',\n",
       "       'his ', 'life', \"'\", 's ', 'plan', ', ', 'clarified ', '– ', 'of ',\n",
       "       'course ', '– ', 'by ', 'his ', 'very ', 'time ', 'away ', 'from ',\n",
       "       'her ', 'he ', 'loved ', 'best', '. ', 'although ', 'the ',\n",
       "       'concept ', 'was ', 'a ', 'simple ', 'one', ', ', 'allan ',\n",
       "       'thought ', 'it ', 'had ', 'potential', '. ', 'besides', ', ',\n",
       "       'the ', 'public ', 'liked ', 'a ', 'good', ', ', 'simple ',\n",
       "       'romance', '. ', 'perhaps ', 'this ', 'will ', 'be ', 'more ',\n",
       "       'sale', 'able', ', ', 'he ', 'thought ', 'and ', 'began ', 'to ',\n",
       "       'write', '. ', 'they ', 'gazed ', 'at ', 'each ', 'other', ', ',\n",
       "       'lost ', 'in ', 'the ', 'rap', 'ture ', 'of ', 'love ', 'based ',\n",
       "       'so ', 'deeply ', 'within ', 'their ', 'hearts ', 'that ', 'they ',\n",
       "       'had ', 'never ', 'seen ', 'it ', 'before', '. ', '\" ', 'what ',\n",
       "       'about ', 'roger', '? ', '\" ', 'she ', 'asked', ', ', 'knowing ',\n",
       "       'that ', 'the ', 'answer ', 'no ', 'longer ', 'mattered', '. ',\n",
       "       '[SEP] ', 'name ', 'few ', 'objects ', 'said ', 'to ', 'be ',\n",
       "       'in ', 'or ', 'on ', 'allan', \"'\", 's ', 'desk ', '| ', '| ',\n",
       "       'erase', 'r ', '[SEP]', ''], dtype=object)"
      ]
     },
     "execution_count": 25,
     "metadata": {},
     "output_type": "execute_result"
    }
   ],
   "source": [
    "shap_expln.explainer_output.data[0]"
   ]
  },
  {
   "cell_type": "code",
   "execution_count": 128,
   "id": "d088f3ab-2e58-4f7b-a766-252ba2393015",
   "metadata": {
    "tags": []
   },
   "outputs": [
    {
     "data": {
      "text/markdown": [
       "<span style='background-color:rgb(256.24154931286944,-1.2415493128694244,-1.2415493128694244)'> [CLS]</span><span style='background-color:rgb(256.24154931286944,-1.2415493128694244,-1.2415493128694244)'> allan</span><span style='background-color:rgb(256.24154931286944,-1.2415493128694244,-1.2415493128694244)'> sat</span><span style='background-color:rgb(256.24154931286944,-1.2415493128694244,-1.2415493128694244)'> down</span><span style='background-color:rgb(256.24154931286944,-1.2415493128694242,-1.2415493128694242)'> at</span><span style='background-color:rgb(256.24154931286944,-1.2415493128694242,-1.2415493128694242)'> his</span><span style='background-color:rgb(256.24154931286944,-1.2415493128694242,-1.2415493128694242)'> desk</span><span style='background-color:rgb(256.2640343349034,-1.264034334903388,-1.264034334903388)'> and</span><span style='background-color:rgb(256.2640343349034,-1.264034334903388,-1.264034334903388)'> pulled</span><span style='background-color:rgb(256.2640343349034,-1.264034334903388,-1.264034334903388)'> the</span><span style='background-color:rgb(256.2640343349034,-1.264034334903388,-1.264034334903388)'> chair</span><span style='background-color:rgb(256.2640343349034,-1.264034334903388,-1.264034334903388)'> in</span><span style='background-color:rgb(256.2640343349034,-1.264034334903388,-1.264034334903388)'> close</span><span style='background-color:rgb(256.2640343349034,-1.264034334903388,-1.264034334903388)'> .</span><span style='background-color:rgb(256.51691728605675,-1.5169172860567472,-1.5169172860567472)'> opening</span><span style='background-color:rgb(256.51691728605675,-1.5169172860567472,-1.5169172860567472)'> a</span><span style='background-color:rgb(256.51691728605675,-1.5169172860567472,-1.5169172860567472)'> side</span><span style='background-color:rgb(256.51691728605675,-1.5169172860567472,-1.5169172860567472)'> drawer</span><span style='background-color:rgb(256.51691728605675,-1.5169172860567472,-1.5169172860567472)'> ,</span><span style='background-color:rgb(256.45892905684906,-1.4589290568490527,-1.4589290568490527)'> he</span><span style='background-color:rgb(256.45892905684906,-1.4589290568490527,-1.4589290568490527)'> took</span><span style='background-color:rgb(256.45892905684906,-1.4589290568490527,-1.4589290568490527)'> out</span><span style='background-color:rgb(256.45892905684906,-1.4589290568490527,-1.4589290568490527)'> a</span><span style='background-color:rgb(256.45892905684906,-1.4589290568490527,-1.4589290568490527)'> piece</span><span style='background-color:rgb(256.45892905684906,-1.4589290568490527,-1.4589290568490527)'> of</span><span style='background-color:rgb(256.45892905684906,-1.4589290568490527,-1.4589290568490527)'> paper</span><span style='background-color:rgb(256.45892905684906,-1.4589290568490527,-1.4589290568490527)'> and</span><span style='background-color:rgb(256.45892905684906,-1.4589290568490527,-1.4589290568490527)'> his</span><span style='background-color:rgb(256.45892905684906,-1.4589290568490527,-1.4589290568490527)'> ink</span><span style='background-color:rgb(256.45892905684906,-1.4589290568490527,-1.4589290568490527)'> ##pot</span><span style='background-color:rgb(256.45892905684906,-1.4589290568490527,-1.4589290568490527)'> .</span><span style='background-color:rgb(255.85419593894218,-0.8541959389421684,-0.8541959389421684)'> after</span><span style='background-color:rgb(255.85419593894218,-0.8541959389421684,-0.8541959389421684)'> filling</span><span style='background-color:rgb(255.85419593894218,-0.8541959389421684,-0.8541959389421684)'> his</span><span style='background-color:rgb(255.85419593894218,-0.8541959389421684,-0.8541959389421684)'> pen</span><span style='background-color:rgb(255.85419593894218,-0.8541959389421684,-0.8541959389421684)'> ,</span><span style='background-color:rgb(256.0840176767978,-1.0840176767978413,-1.0840176767978413)'> allan</span><span style='background-color:rgb(256.0840176767978,-1.0840176767978413,-1.0840176767978413)'> looked</span><span style='background-color:rgb(256.0840176767978,-1.0840176767978413,-1.0840176767978413)'> at</span><span style='background-color:rgb(256.0840176767978,-1.0840176767978413,-1.0840176767978413)'> his</span><span style='background-color:rgb(256.0840176767978,-1.0840176767978413,-1.0840176767978413)'> paper</span><span style='background-color:rgb(256.0840176767978,-1.0840176767978413,-1.0840176767978413)'> in</span><span style='background-color:rgb(256.0840176767978,-1.0840176767978413,-1.0840176767978413)'> the</span><span style='background-color:rgb(256.0840176767978,-1.0840176767978413,-1.0840176767978413)'> orange</span><span style='background-color:rgb(255.96144209802554,-0.9614420980255216,-0.9614420980255216)'> glow</span><span style='background-color:rgb(255.96144209802554,-0.9614420980255216,-0.9614420980255216)'> from</span><span style='background-color:rgb(255.96144209802554,-0.9614420980255216,-0.9614420980255216)'> the</span><span style='background-color:rgb(255.96144209802554,-0.9614420980255216,-0.9614420980255216)'> lantern</span><span style='background-color:rgb(255.96144209802554,-0.9614420980255215,-0.9614420980255215)'> set</span><span style='background-color:rgb(255.96144209802554,-0.9614420980255215,-0.9614420980255215)'> back</span><span style='background-color:rgb(255.96144209802554,-0.9614420980255215,-0.9614420980255215)'> in</span><span style='background-color:rgb(255.96144209802554,-0.9614420980255215,-0.9614420980255215)'> the</span><span style='background-color:rgb(255.96144209802554,-0.9614420980255215,-0.9614420980255215)'> desk</span><span style='background-color:rgb(255.96144209802554,-0.9614420980255215,-0.9614420980255215)'> '</span><span style='background-color:rgb(255.96144209802554,-0.9614420980255215,-0.9614420980255215)'> s</span><span style='background-color:rgb(255.96144209802554,-0.9614420980255217,-0.9614420980255217)'> right</span><span style='background-color:rgb(255.96144209802554,-0.9614420980255217,-0.9614420980255217)'> -</span><span style='background-color:rgb(255.96144209802554,-0.9614420980255217,-0.9614420980255217)'> hand</span><span style='background-color:rgb(255.96144209802554,-0.9614420980255217,-0.9614420980255217)'> corner</span><span style='background-color:rgb(255.96144209802554,-0.9614420980255217,-0.9614420980255217)'> .</span><span style='background-color:rgb(255.12493128484732,-0.12493128484735884,-0.12493128484735884)'> his</span><span style='background-color:rgb(255.12493128484732,-0.12493128484735884,-0.12493128484735884)'> pen</span><span style='background-color:rgb(255.12493128484732,-0.12493128484735884,-0.12493128484735884)'> cast</span><span style='background-color:rgb(255.12493128484732,-0.12493128484735884,-0.12493128484735884)'> a</span><span style='background-color:rgb(255.12493128484732,-0.12493128484735884,-0.12493128484735884)'> forbid</span><span style='background-color:rgb(255.12493128484732,-0.12493128484735884,-0.12493128484735884)'> ##ding</span><span style='background-color:rgb(255.12493128484732,-0.12493128484735884,-0.12493128484735884)'> line</span><span style='background-color:rgb(255.12493128484732,-0.12493128484735884,-0.12493128484735884)'> of</span><span style='background-color:rgb(255.12493128484732,-0.12493128484735884,-0.12493128484735884)'> shadow</span><span style='background-color:rgb(254.9495958155021,0.050404184497892864,0.050404184497892864)'> slant</span><span style='background-color:rgb(254.9495958155021,0.050404184497892864,0.050404184497892864)'> ##ing</span><span style='background-color:rgb(254.9495958155021,0.05040418449789286,0.05040418449789286)'> across</span><span style='background-color:rgb(254.9495958155021,0.05040418449789286,0.05040418449789286)'> the</span><span style='background-color:rgb(254.9495958155021,0.05040418449789286,0.05040418449789286)'> page</span><span style='background-color:rgb(254.9495958155021,0.050404184497892864,0.050404184497892864)'> ,</span><span style='background-color:rgb(255.4279830811235,-0.42798308112348127,-0.42798308112348127)'> echoing</span><span style='background-color:rgb(255.4279830811235,-0.42798308112348127,-0.42798308112348127)'> the</span><span style='background-color:rgb(255.4279830811235,-0.4279830811234812,-0.4279830811234812)'> ink</span><span style='background-color:rgb(255.4279830811235,-0.4279830811234812,-0.4279830811234812)'> ##y</span><span style='background-color:rgb(255.4279830811235,-0.4279830811234812,-0.4279830811234812)'> darkness</span><span style='background-color:rgb(255.4279830811235,-0.4279830811234812,-0.4279830811234812)'> crouch</span><span style='background-color:rgb(255.4279830811235,-0.4279830811234812,-0.4279830811234812)'> ##ing</span><span style='background-color:rgb(255.4279830811235,-0.4279830811234812,-0.4279830811234812)'> in</span><span style='background-color:rgb(255.4279830811235,-0.4279830811234812,-0.4279830811234812)'> the</span><span style='background-color:rgb(255.69554772926497,-0.6955477292649448,-0.6955477292649448)'> edges</span><span style='background-color:rgb(255.69554772926497,-0.6955477292649448,-0.6955477292649448)'> of</span><span style='background-color:rgb(255.69554772926497,-0.6955477292649448,-0.6955477292649448)'> the</span><span style='background-color:rgb(255.69554772926497,-0.6955477292649448,-0.6955477292649448)'> lantern</span><span style='background-color:rgb(255.69554772926497,-0.6955477292649448,-0.6955477292649448)'> '</span><span style='background-color:rgb(255.69554772926497,-0.6955477292649448,-0.6955477292649448)'> s</span><span style='background-color:rgb(255.69554772926497,-0.6955477292649448,-0.6955477292649448)'> struggling</span><span style='background-color:rgb(255.69554772926497,-0.6955477292649448,-0.6955477292649448)'> glow</span><span style='background-color:rgb(255.69554772926497,-0.6955477292649448,-0.6955477292649448)'> .</span><span style='background-color:rgb(255.6920718305032,-0.6920718305031811,-0.6920718305031811)'> the</span><span style='background-color:rgb(255.6920718305032,-0.6920718305031811,-0.6920718305031811)'> only</span><span style='background-color:rgb(255.6920718305032,-0.6920718305031811,-0.6920718305031811)'> other</span><span style='background-color:rgb(255.6920718305032,-0.6920718305031811,-0.6920718305031811)'> illumination</span><span style='background-color:rgb(255.6920718305032,-0.6920718305031811,-0.6920718305031811)'> came</span><span style='background-color:rgb(255.6920718305032,-0.6920718305031811,-0.6920718305031811)'> from</span><span style='background-color:rgb(255.6920718305032,-0.6920718305031811,-0.6920718305031811)'> a</span><span style='background-color:rgb(255.6920718305032,-0.6920718305031811,-0.6920718305031811)'> lu</span><span style='background-color:rgb(255.6920718305032,-0.6920718305031811,-0.6920718305031811)'> ##rid</span><span style='background-color:rgb(255.6920718305032,-0.6920718305031811,-0.6920718305031811)'> moonlight</span><span style='background-color:rgb(255.6920718305032,-0.6920718305031811,-0.6920718305031811)'> filtered</span><span style='background-color:rgb(255.6920718305032,-0.6920718305031811,-0.6920718305031811)'> through</span><span style='background-color:rgb(255.6920718305032,-0.6920718305031811,-0.6920718305031811)'> thin</span><span style='background-color:rgb(255.6920718305032,-0.6920718305031811,-0.6920718305031811)'> branches</span><span style='background-color:rgb(255.6920718305032,-0.6920718305031811,-0.6920718305031811)'> and</span><span style='background-color:rgb(255.6920718305032,-0.6920718305031811,-0.6920718305031811)'> clouds</span><span style='background-color:rgb(255.6920718305032,-0.6920718305031811,-0.6920718305031811)'> ,</span><span style='background-color:rgb(255.93035074847145,-0.9303507484714544,-0.9303507484714544)'> casting</span><span style='background-color:rgb(255.93035074847145,-0.9303507484714544,-0.9303507484714544)'> its</span><span style='background-color:rgb(255.93035074847145,-0.9303507484714544,-0.9303507484714544)'> bone</span><span style='background-color:rgb(255.93035074847145,-0.9303507484714544,-0.9303507484714544)'> -</span><span style='background-color:rgb(255.93035074847145,-0.9303507484714544,-0.9303507484714544)'> pale</span><span style='background-color:rgb(255.93035074847145,-0.9303507484714544,-0.9303507484714544)'> glow</span><span style='background-color:rgb(255.93035074847145,-0.9303507484714544,-0.9303507484714544)'> onto</span><span style='background-color:rgb(255.93035074847145,-0.9303507484714544,-0.9303507484714544)'> the</span><span style='background-color:rgb(255.93035074847145,-0.9303507484714544,-0.9303507484714544)'> pine</span><span style='background-color:rgb(255.93035074847145,-0.9303507484714544,-0.9303507484714544)'> floor</span><span style='background-color:rgb(255.93035074847145,-0.9303507484714544,-0.9303507484714544)'> ##boards</span><span style='background-color:rgb(255.93035074847145,-0.9303507484714544,-0.9303507484714544)'> .</span><span style='background-color:rgb(254.7436338079124,0.25636619208760714,0.25636619208760714)'> allan</span><span style='background-color:rgb(254.7436338079124,0.25636619208760714,0.25636619208760714)'> unfolded</span><span style='background-color:rgb(254.7436338079124,0.25636619208760714,0.25636619208760714)'> another</span><span style='background-color:rgb(254.7436338079124,0.25636619208760714,0.25636619208760714)'> page</span><span style='background-color:rgb(254.7436338079124,0.25636619208760714,0.25636619208760714)'> ,</span><span style='background-color:rgb(254.98819142421326,0.011808575786726196,0.011808575786726196)'> this</span><span style='background-color:rgb(254.98819142421326,0.011808575786726196,0.011808575786726196)'> one</span><span style='background-color:rgb(254.98819142421326,0.011808575786726196,0.011808575786726196)'> crowded</span><span style='background-color:rgb(254.98819142421326,0.011808575786726196,0.011808575786726196)'> with</span><span style='background-color:rgb(254.98819142421326,0.011808575786726196,0.011808575786726196)'> ranks</span><span style='background-color:rgb(254.98819142421326,0.011808575786726196,0.011808575786726196)'> of</span><span style='background-color:rgb(254.98819142421326,0.011808575786726196,0.011808575786726196)'> letters</span><span style='background-color:rgb(254.98819142421326,0.011808575786726196,0.011808575786726196)'> in</span><span style='background-color:rgb(254.98819142421326,0.011808575786726196,0.011808575786726196)'> tight</span><span style='background-color:rgb(254.98819142421326,0.011808575786726196,0.011808575786726196)'> formation</span><span style='background-color:rgb(254.98819142421326,0.011808575786726196,0.011808575786726196)'> from</span><span style='background-color:rgb(254.98819142421326,0.011808575786726196,0.011808575786726196)'> left</span><span style='background-color:rgb(254.98819142421326,0.011808575786726198,0.011808575786726198)'> to</span><span style='background-color:rgb(254.98819142421326,0.011808575786726198,0.011808575786726198)'> right</span><span style='background-color:rgb(254.98819142421326,0.011808575786726198,0.011808575786726198)'> .</span><span style='background-color:rgb(254.22774283754643,0.7722571624535663,0.7722571624535663)'> the</span><span style='background-color:rgb(254.22774283754643,0.7722571624535663,0.7722571624535663)'> lines</span><span style='background-color:rgb(254.22774283754643,0.7722571624535663,0.7722571624535663)'> of</span><span style='background-color:rgb(254.22774283754643,0.7722571624535663,0.7722571624535663)'> letters</span><span style='background-color:rgb(254.22774283754643,0.7722571624535663,0.7722571624535663)'> stepped</span><span style='background-color:rgb(254.22774283754643,0.7722571624535663,0.7722571624535663)'> into</span><span style='background-color:rgb(254.22774283754643,0.7722571624535663,0.7722571624535663)'> their</span><span style='background-color:rgb(254.22774283754643,0.7722571624535663,0.7722571624535663)'> divisions</span><span style='background-color:rgb(254.22774283754643,0.7722571624535663,0.7722571624535663)'> ,</span><span style='background-color:rgb(254.31400109144099,0.6859989085590111,0.6859989085590111)'> in</span><span style='background-color:rgb(254.31400109144099,0.6859989085590111,0.6859989085590111)'> the</span><span style='background-color:rgb(254.31400109144099,0.6859989085590111,0.6859989085590111)'> shape</span><span style='background-color:rgb(254.31400109144099,0.6859989085590111,0.6859989085590111)'> of</span><span style='background-color:rgb(254.31400109144099,0.6859989085590111,0.6859989085590111)'> a</span><span style='background-color:rgb(254.31400109144099,0.6859989085590111,0.6859989085590111)'> story</span><span style='background-color:rgb(254.31400109144099,0.6859989085590111,0.6859989085590111)'> '</span><span style='background-color:rgb(254.31400109144099,0.6859989085590111,0.6859989085590111)'> s</span><span style='background-color:rgb(254.31400109144099,0.6859989085590112,0.6859989085590112)'> outline</span><span style='background-color:rgb(254.31400109144099,0.6859989085590112,0.6859989085590112)'> :</span><span style='background-color:rgb(254.31400109144099,0.6859989085590112,0.6859989085590112)'> the</span><span style='background-color:rgb(254.31400109144099,0.6859989085590112,0.6859989085590112)'> loose</span><span style='background-color:rgb(254.31400109144099,0.6859989085590112,0.6859989085590112)'> ,</span><span style='background-color:rgb(253.83068933855296,1.169310661447053,1.169310661447053)'> dry</span><span style='background-color:rgb(253.83068933855296,1.169310661447053,1.169310661447053)'> skeleton</span><span style='background-color:rgb(253.83068933855296,1.169310661447053,1.169310661447053)'> of</span><span style='background-color:rgb(253.83068933855296,1.169310661447053,1.169310661447053)'> a</span><span style='background-color:rgb(253.83068933855296,1.1693106614470532,1.1693106614470532)'> tale</span><span style='background-color:rgb(253.83068933855296,1.1693106614470532,1.1693106614470532)'> lay</span><span style='background-color:rgb(253.83068933855296,1.1693106614470532,1.1693106614470532)'> exposed</span><span style='background-color:rgb(253.83068933855296,1.1693106614470532,1.1693106614470532)'> beneath</span><span style='background-color:rgb(253.83068933855296,1.1693106614470532,1.1693106614470532)'> their</span><span style='background-color:rgb(253.83068933855296,1.1693106614470532,1.1693106614470532)'> feet</span><span style='background-color:rgb(253.83068933855296,1.1693106614470532,1.1693106614470532)'> ,</span><span style='background-color:rgb(253.6649409946653,1.3350590053347071,1.3350590053347071)'> awaiting</span><span style='background-color:rgb(253.6649409946653,1.3350590053347071,1.3350590053347071)'> tend</span><span style='background-color:rgb(253.6649409946653,1.3350590053347071,1.3350590053347071)'> ##ons</span><span style='background-color:rgb(253.6649409946653,1.3350590053347071,1.3350590053347071)'> ,</span><span style='background-color:rgb(253.6649409946653,1.3350590053347071,1.3350590053347071)'> muscle</span><span style='background-color:rgb(253.6649409946653,1.3350590053347071,1.3350590053347071)'> and</span><span style='background-color:rgb(253.6649409946653,1.3350590053347071,1.3350590053347071)'> blushing</span><span style='background-color:rgb(253.6649409946653,1.3350590053347071,1.3350590053347071)'> skin</span><span style='background-color:rgb(253.6649409946653,1.3350590053347071,1.3350590053347071)'> .</span><span style='background-color:rgb(255.10901550547433,-0.10901550547434735,-0.10901550547434735)'> allan</span><span style='background-color:rgb(255.10901550547433,-0.10901550547434735,-0.10901550547434735)'> reviewed</span><span style='background-color:rgb(255.10901550547433,-0.10901550547434735,-0.10901550547434735)'> the</span><span style='background-color:rgb(255.10901550547433,-0.10901550547434735,-0.10901550547434735)'> troops</span><span style='background-color:rgb(255.10901550547433,-0.10901550547434735,-0.10901550547434735)'> ,</span><span style='background-color:rgb(255.10901550547433,-0.10901550547434735,-0.10901550547434735)'> all</span><span style='background-color:rgb(255.10901550547433,-0.10901550547434735,-0.10901550547434735)'> prepared</span><span style='background-color:rgb(255.10901550547433,-0.10901550547434735,-0.10901550547434735)'> to</span><span style='background-color:rgb(255.10901550547433,-0.10901550547434735,-0.10901550547434735)'> di</span><span style='background-color:rgb(255.10901550547433,-0.10901550547434735,-0.10901550547434735)'> ##se</span><span style='background-color:rgb(255.10901550547433,-0.10901550547434735,-0.10901550547434735)'> ##mba</span><span style='background-color:rgb(255.10901550547433,-0.10901550547434735,-0.10901550547434735)'> ##rk</span><span style='background-color:rgb(255.10901550547433,-0.10901550547434735,-0.10901550547434735)'> ,</span><span style='background-color:rgb(255.50408818463512,-0.5040881846350833,-0.5040881846350833)'> their</span><span style='background-color:rgb(255.50408818463512,-0.5040881846350833,-0.5040881846350833)'> task</span><span style='background-color:rgb(255.50408818463512,-0.5040881846350833,-0.5040881846350833)'> to</span><span style='background-color:rgb(255.50408818463512,-0.5040881846350833,-0.5040881846350833)'> form</span><span style='background-color:rgb(255.50408818463512,-0.5040881846350833,-0.5040881846350833)'> the</span><span style='background-color:rgb(255.50408818463512,-0.5040881846350833,-0.5040881846350833)'> tale</span><span style='background-color:rgb(255.50408818463512,-0.5040881846350833,-0.5040881846350833)'> of</span><span style='background-color:rgb(255.50408818463512,-0.5040881846350833,-0.5040881846350833)'> a</span><span style='background-color:rgb(255.50408818463512,-0.5040881846350833,-0.5040881846350833)'> young</span><span style='background-color:rgb(255.50408818463512,-0.5040881846350833,-0.5040881846350833)'> man</span><span style='background-color:rgb(255.50408818463512,-0.5040881846350833,-0.5040881846350833)'> returning</span><span style='background-color:rgb(255.50408818463512,-0.5040881846350833,-0.5040881846350833)'> home</span><span style='background-color:rgb(255.50408818463512,-0.5040881846350833,-0.5040881846350833)'> from</span><span style='background-color:rgb(255.50408818463512,-0.5040881846350833,-0.5040881846350833)'> life</span><span style='background-color:rgb(255.50408818463512,-0.5040881846350833,-0.5040881846350833)'> abroad</span><span style='background-color:rgb(255.50408818463512,-0.5040881846350833,-0.5040881846350833)'> to</span><span style='background-color:rgb(255.55388782553086,-0.5538878255308821,-0.5538878255308821)'> find</span><span style='background-color:rgb(255.55388782553086,-0.5538878255308821,-0.5538878255308821)'> his</span><span style='background-color:rgb(255.55388782553086,-0.5538878255308821,-0.5538878255308821)'> childhood</span><span style='background-color:rgb(255.55388782553086,-0.5538878255308821,-0.5538878255308821)'> friend</span><span style='background-color:rgb(255.55388782553086,-0.5538878255308822,-0.5538878255308822)'> a</span><span style='background-color:rgb(255.55388782553086,-0.5538878255308822,-0.5538878255308822)'> bride</span><span style='background-color:rgb(255.55388782553086,-0.5538878255308821,-0.5538878255308821)'> to</span><span style='background-color:rgb(255.55388782553086,-0.5538878255308821,-0.5538878255308821)'> -</span><span style='background-color:rgb(255.55388782553086,-0.5538878255308821,-0.5538878255308821)'> be</span><span style='background-color:rgb(255.55388782553086,-0.5538878255308821,-0.5538878255308821)'> ,</span><span style='background-color:rgb(255.1190420788582,-0.11904207885818709,-0.11904207885818709)'> thus</span><span style='background-color:rgb(255.1190420788582,-0.11904207885818709,-0.11904207885818709)'> upset</span><span style='background-color:rgb(255.1190420788582,-0.11904207885818709,-0.11904207885818709)'> ##ting</span><span style='background-color:rgb(255.1190420788582,-0.11904207885818707,-0.11904207885818707)'> the</span><span style='background-color:rgb(255.1190420788582,-0.11904207885818707,-0.11904207885818707)'> apple</span><span style='background-color:rgb(255.1190420788582,-0.11904207885818709,-0.11904207885818709)'> cart</span><span style='background-color:rgb(255.1190420788582,-0.11904207885818709,-0.11904207885818709)'> of</span><span style='background-color:rgb(255.1190420788582,-0.11904207885818709,-0.11904207885818709)'> his</span><span style='background-color:rgb(255.1190420788582,-0.1190420788581871,-0.1190420788581871)'> life</span><span style='background-color:rgb(255.1190420788582,-0.1190420788581871,-0.1190420788581871)'> '</span><span style='background-color:rgb(255.1190420788582,-0.1190420788581871,-0.1190420788581871)'> s</span><span style='background-color:rgb(255.1190420788582,-0.1190420788581871,-0.1190420788581871)'> plan</span><span style='background-color:rgb(255.1190420788582,-0.1190420788581871,-0.1190420788581871)'> ,</span><span style='background-color:rgb(255.24599156775992,-0.2459915677599352,-0.2459915677599352)'> clarified</span><span style='background-color:rgb(255.24599156775992,-0.2459915677599352,-0.2459915677599352)'> –</span><span style='background-color:rgb(255.24599156775992,-0.2459915677599352,-0.2459915677599352)'> of</span><span style='background-color:rgb(255.24599156775992,-0.2459915677599352,-0.2459915677599352)'> course</span><span style='background-color:rgb(255.24599156775992,-0.2459915677599352,-0.2459915677599352)'> –</span><span style='background-color:rgb(255.24599156775992,-0.2459915677599352,-0.2459915677599352)'> by</span><span style='background-color:rgb(255.24599156775992,-0.2459915677599352,-0.2459915677599352)'> his</span><span style='background-color:rgb(255.24599156775992,-0.2459915677599352,-0.2459915677599352)'> very</span><span style='background-color:rgb(255.24599156775992,-0.2459915677599352,-0.2459915677599352)'> time</span><span style='background-color:rgb(255.24599156775992,-0.2459915677599352,-0.2459915677599352)'> away</span><span style='background-color:rgb(255.24599156775992,-0.2459915677599352,-0.2459915677599352)'> from</span><span style='background-color:rgb(255.24599156775992,-0.2459915677599352,-0.2459915677599352)'> her</span><span style='background-color:rgb(255.24599156775992,-0.2459915677599352,-0.2459915677599352)'> he</span><span style='background-color:rgb(255.24599156775992,-0.2459915677599352,-0.2459915677599352)'> loved</span><span style='background-color:rgb(255.24599156775992,-0.2459915677599352,-0.2459915677599352)'> best</span><span style='background-color:rgb(255.24599156775992,-0.2459915677599352,-0.2459915677599352)'> .</span><span style='background-color:rgb(254.9246505937672,0.07534940623279128,0.07534940623279128)'> although</span><span style='background-color:rgb(254.9246505937672,0.07534940623279128,0.07534940623279128)'> the</span><span style='background-color:rgb(254.9246505937672,0.07534940623279128,0.07534940623279128)'> concept</span><span style='background-color:rgb(254.9246505937672,0.07534940623279128,0.07534940623279128)'> was</span><span style='background-color:rgb(254.9246505937672,0.07534940623279128,0.07534940623279128)'> a</span><span style='background-color:rgb(254.9246505937672,0.07534940623279128,0.07534940623279128)'> simple</span><span style='background-color:rgb(254.9246505937672,0.07534940623279128,0.07534940623279128)'> one</span><span style='background-color:rgb(254.9246505937672,0.07534940623279128,0.07534940623279128)'> ,</span><span style='background-color:rgb(254.9246505937672,0.07534940623279127,0.07534940623279127)'> allan</span><span style='background-color:rgb(254.9246505937672,0.07534940623279127,0.07534940623279127)'> thought</span><span style='background-color:rgb(254.9246505937672,0.07534940623279127,0.07534940623279127)'> it</span><span style='background-color:rgb(254.9246505937672,0.07534940623279127,0.07534940623279127)'> had</span><span style='background-color:rgb(254.9246505937672,0.07534940623279127,0.07534940623279127)'> potential</span><span style='background-color:rgb(254.9246505937672,0.07534940623279127,0.07534940623279127)'> .</span><span style='background-color:rgb(255.37261852712808,-0.3726185271280588,-0.3726185271280588)'> besides</span><span style='background-color:rgb(255.37261852712808,-0.3726185271280588,-0.3726185271280588)'> ,</span><span style='background-color:rgb(255.37261852712808,-0.3726185271280588,-0.3726185271280588)'> the</span><span style='background-color:rgb(255.37261852712808,-0.3726185271280588,-0.3726185271280588)'> public</span><span style='background-color:rgb(255.37261852712808,-0.37261852712805876,-0.37261852712805876)'> liked</span><span style='background-color:rgb(255.37261852712808,-0.37261852712805876,-0.37261852712805876)'> a</span><span style='background-color:rgb(255.37261852712808,-0.37261852712805876,-0.37261852712805876)'> good</span><span style='background-color:rgb(255.37261852712808,-0.37261852712805876,-0.37261852712805876)'> ,</span><span style='background-color:rgb(255.1774729725203,-0.17747297252032468,-0.17747297252032468)'> simple</span><span style='background-color:rgb(255.1774729725203,-0.17747297252032468,-0.17747297252032468)'> romance</span><span style='background-color:rgb(255.1774729725203,-0.17747297252032468,-0.17747297252032468)'> .</span><span style='background-color:rgb(256.12629468123697,-1.126294681236946,-1.126294681236946)'> perhaps</span><span style='background-color:rgb(256.12629468123697,-1.126294681236946,-1.126294681236946)'> this</span><span style='background-color:rgb(256.12629468123697,-1.126294681236946,-1.126294681236946)'> will</span><span style='background-color:rgb(256.12629468123697,-1.126294681236946,-1.126294681236946)'> be</span><span style='background-color:rgb(256.12629468123697,-1.126294681236946,-1.126294681236946)'> more</span><span style='background-color:rgb(255.67398949842237,-0.6739894984223479,-0.6739894984223479)'> sale</span><span style='background-color:rgb(255.67398949842237,-0.6739894984223479,-0.6739894984223479)'> ##able</span><span style='background-color:rgb(255.67398949842237,-0.6739894984223479,-0.6739894984223479)'> ,</span><span style='background-color:rgb(255.17045418831654,-0.17045418831652828,-0.17045418831652828)'> he</span><span style='background-color:rgb(255.17045418831654,-0.17045418831652828,-0.17045418831652828)'> thought</span><span style='background-color:rgb(255.17045418831654,-0.17045418831652828,-0.17045418831652828)'> and</span><span style='background-color:rgb(255.17045418831654,-0.17045418831652828,-0.17045418831652828)'> began</span><span style='background-color:rgb(255.17045418831654,-0.17045418831652828,-0.17045418831652828)'> to</span><span style='background-color:rgb(255.17045418831654,-0.17045418831652828,-0.17045418831652828)'> write</span><span style='background-color:rgb(255.17045418831654,-0.17045418831652828,-0.17045418831652828)'> .</span><span style='background-color:rgb(253.2792412531055,1.7207587468944756,1.7207587468944756)'> they</span><span style='background-color:rgb(253.2792412531055,1.7207587468944756,1.7207587468944756)'> gazed</span><span style='background-color:rgb(253.2792412531055,1.7207587468944754,1.7207587468944754)'> at</span><span style='background-color:rgb(253.2792412531055,1.7207587468944754,1.7207587468944754)'> each</span><span style='background-color:rgb(253.2792412531055,1.7207587468944754,1.7207587468944754)'> other</span><span style='background-color:rgb(253.2792412531055,1.7207587468944754,1.7207587468944754)'> ,</span><span style='background-color:rgb(253.52325625965358,1.4767437403464156,1.4767437403464156)'> lost</span><span style='background-color:rgb(253.52325625965358,1.4767437403464156,1.4767437403464156)'> in</span><span style='background-color:rgb(253.52325625965358,1.4767437403464156,1.4767437403464156)'> the</span><span style='background-color:rgb(253.52325625965358,1.4767437403464154,1.4767437403464154)'> rap</span><span style='background-color:rgb(253.52325625965358,1.4767437403464154,1.4767437403464154)'> ##ture</span><span style='background-color:rgb(253.52325625965358,1.4767437403464154,1.4767437403464154)'> of</span><span style='background-color:rgb(253.52325625965358,1.4767437403464154,1.4767437403464154)'> love</span><span style='background-color:rgb(253.86358484507656,1.1364151549234185,1.1364151549234185)'> based</span><span style='background-color:rgb(253.86358484507656,1.1364151549234185,1.1364151549234185)'> so</span><span style='background-color:rgb(253.86358484507656,1.1364151549234185,1.1364151549234185)'> deeply</span><span style='background-color:rgb(253.86358484507656,1.1364151549234185,1.1364151549234185)'> within</span><span style='background-color:rgb(253.86358484507656,1.1364151549234185,1.1364151549234185)'> their</span><span style='background-color:rgb(253.86358484507656,1.1364151549234185,1.1364151549234185)'> hearts</span><span style='background-color:rgb(253.86358484507656,1.1364151549234185,1.1364151549234185)'> that</span><span style='background-color:rgb(253.86358484507656,1.1364151549234185,1.1364151549234185)'> they</span><span style='background-color:rgb(253.86358484507656,1.1364151549234183,1.1364151549234183)'> had</span><span style='background-color:rgb(253.86358484507656,1.1364151549234183,1.1364151549234183)'> never</span><span style='background-color:rgb(253.86358484507656,1.1364151549234185,1.1364151549234185)'> seen</span><span style='background-color:rgb(253.86358484507656,1.1364151549234185,1.1364151549234185)'> it</span><span style='background-color:rgb(253.86358484507656,1.1364151549234185,1.1364151549234185)'> before</span><span style='background-color:rgb(253.86358484507656,1.1364151549234185,1.1364151549234185)'> .</span><span style='background-color:rgb(250.22749400586997,4.772505994130028,4.772505994130028)'> \"</span><span style='background-color:rgb(250.22749400586997,4.772505994130028,4.772505994130028)'> what</span><span style='background-color:rgb(250.22749400586997,4.772505994130028,4.772505994130028)'> about</span><span style='background-color:rgb(250.22749400586997,4.772505994130028,4.772505994130028)'> roger</span><span style='background-color:rgb(250.22749400586997,4.772505994130028,4.772505994130028)'> ?</span><span style='background-color:rgb(247.2031556009855,7.796844399014503,7.796844399014503)'> \"</span><span style='background-color:rgb(247.2031556009855,7.796844399014503,7.796844399014503)'> she</span><span style='background-color:rgb(247.2031556009855,7.796844399014503,7.796844399014503)'> asked</span><span style='background-color:rgb(247.2031556009855,7.796844399014502,7.796844399014502)'> ,</span><span style='background-color:rgb(250.14096433744578,4.859035662554219,4.859035662554219)'> knowing</span><span style='background-color:rgb(250.14096433744578,4.859035662554219,4.859035662554219)'> that</span><span style='background-color:rgb(250.14096433744578,4.859035662554219,4.859035662554219)'> the</span><span style='background-color:rgb(250.14096433744578,4.859035662554219,4.859035662554219)'> answer</span><span style='background-color:rgb(250.14096433744578,4.859035662554219,4.859035662554219)'> no</span><span style='background-color:rgb(250.14096433744578,4.859035662554219,4.859035662554219)'> longer</span><span style='background-color:rgb(250.14096433744578,4.859035662554219,4.859035662554219)'> mattered</span><span style='background-color:rgb(250.14096433744578,4.859035662554219,4.859035662554219)'> .</span><span style='background-color:rgb(180.79991474747658,74.20008525252342,74.20008525252342)'> [SEP]</span><span style='background-color:rgb(252.53304625558357,2.466953744416449,2.466953744416449)'> name</span><span style='background-color:rgb(252.53304625558357,2.466953744416449,2.466953744416449)'> few</span><span style='background-color:rgb(257.6414919008935,-2.6414919008935356,-2.6414919008935356)'> objects</span><span style='background-color:rgb(257.6414919008935,-2.6414919008935356,-2.6414919008935356)'> said</span><span style='background-color:rgb(255.21320026141308,-0.21320026141308648,-0.21320026141308648)'> to</span><span style='background-color:rgb(255.21320026141308,-0.21320026141308648,-0.21320026141308648)'> be</span><span style='background-color:rgb(255.21320026141308,-0.21320026141308648,-0.21320026141308648)'> in</span><span style='background-color:rgb(261.44247199830716,-6.4424719983071554,-6.4424719983071554)'> or</span><span style='background-color:rgb(259.5920876642049,-4.5920876642048825,-4.5920876642048825)'> on</span><span style='background-color:rgb(255.37087327291374,-0.37087327291374095,-0.37087327291374095)'> allan</span><span style='background-color:rgb(255.37087327291374,-0.37087327291374095,-0.37087327291374095)'> '</span><span style='background-color:rgb(255.37087327291374,-0.37087327291374095,-0.37087327291374095)'> s</span><span style='background-color:rgb(250.95823206673958,4.041767933260417,4.041767933260417)'> desk</span><span style='background-color:rgb(250.95823206673958,4.041767933260417,4.041767933260417)'> |</span><span style='background-color:rgb(253.25270082769566,1.7472991723043376,1.7472991723043376)'> |</span><span style='background-color:rgb(225.7652162591403,29.23478374085971,29.23478374085971)'> erase</span><span style='background-color:rgb(225.7652162591403,29.23478374085971,29.23478374085971)'> ##r</span><span style='background-color:rgb(255.000018524006,-1.8524006009101868e-05,-1.8524006009101868e-05)'> [SEP]</span><span style='background-color:rgb(255.000018524006,-1.8524006009101868e-05,-1.8524006009101868e-05)'> [PAD]</span> [PAD] [PAD] [PAD] [PAD] [PAD] [PAD] [PAD] [PAD] [PAD] [PAD] [PAD] [PAD] [PAD] [PAD] [PAD] [PAD] [PAD] [PAD] [PAD] [PAD] [PAD] [PAD] [PAD] [PAD] [PAD] [PAD] [PAD] [PAD] [PAD] [PAD] [PAD] [PAD] [PAD] [PAD] [PAD] [PAD] [PAD] [PAD] [PAD] [PAD] [PAD] [PAD] [PAD] [PAD] [PAD] [PAD] [PAD] [PAD] [PAD] [PAD] [PAD] [PAD] [PAD] [PAD] [PAD] [PAD] [PAD] [PAD] [PAD] [PAD] [PAD] [PAD] [PAD] [PAD] [PAD] [PAD] [PAD] [PAD] [PAD] [PAD] [PAD] [PAD] [PAD] [PAD] [PAD] [PAD] [PAD] [PAD] [PAD] [PAD] [PAD] [PAD] [PAD] [PAD] [PAD] [PAD] [PAD] [PAD] [PAD] [PAD] [PAD] [PAD] [PAD] [PAD] [PAD] [PAD] [PAD] [PAD] [PAD] [PAD] [PAD] [PAD] [PAD] [PAD] [PAD] [PAD] [PAD] [PAD] [PAD] [PAD] [PAD] [PAD] [PAD] [PAD] [PAD] [PAD] [PAD] [PAD] [PAD] [PAD] [PAD] [PAD] [PAD] [PAD] [PAD] [PAD] [PAD] [PAD] [PAD] [PAD] [PAD] [PAD] [PAD] [PAD] [PAD] [PAD] [PAD] [PAD] [PAD] [PAD] [PAD] [PAD] [PAD] [PAD] [PAD] [PAD] [PAD] [PAD] [PAD] [PAD] [PAD] [PAD] [PAD] [PAD] [PAD] [PAD]"
      ],
      "text/plain": [
       "<IPython.core.display.Markdown object>"
      ]
     },
     "metadata": {},
     "output_type": "display_data"
    }
   ],
   "source": [
    "from IPython.display import Markdown, display\n",
    "def printmd(string):\n",
    "    display(Markdown(string))\n",
    "\n",
    "def show_attrs(tokens, masks):\n",
    "    print_str = \"\"\n",
    "    for i in range(len(tokens)):\n",
    "        expln_val = masks[i].item()\n",
    "        if expln_val == 0:\n",
    "            print_str += f\" {tokens[i]}\"\n",
    "        else:\n",
    "            print_str += f\"<span style='background-color:rgb({255 * (1-expln_val)},{255 * expln_val},{255 * expln_val})'> {tokens[i]}</span>\"\n",
    "    return print_str\n",
    "\n",
    "tokens = processor.convert_ids_to_tokens(inputs[0])\n",
    "# tokens = shap_expln.explainer_output.data[0]\n",
    "printmd(show_attrs(tokens, shap_expln.attributions[0]))"
   ]
  },
  {
   "cell_type": "markdown",
   "id": "31d51c2a-313d-40fd-a16c-2629d91d4fa5",
   "metadata": {
    "tags": []
   },
   "source": [
    "## RISE"
   ]
  },
  {
   "cell_type": "code",
   "execution_count": 43,
   "id": "fc1d85d5-c1ba-4987-939b-0e8b2048095d",
   "metadata": {
    "tags": []
   },
   "outputs": [],
   "source": [
    "class WrappedBackboneModel2(nn.Module):\n",
    "    def __init__(self, model):\n",
    "        super().__init__()\n",
    "        self.model = model\n",
    "    \n",
    "    def forward(self, inputs=None, **kwargs):\n",
    "        outputs = self.model(inputs, output_hidden_states=True, **kwargs)\n",
    "        # import pdb; pdb.set_trace()\n",
    "        return torch.softmax(outputs.logits, dim=-1)"
   ]
  },
  {
   "cell_type": "code",
   "execution_count": 44,
   "id": "18c37e83-2b63-460e-9a05-5e580810bb98",
   "metadata": {
    "tags": []
   },
   "outputs": [],
   "source": [
    "original_model2 = WrappedBackboneModel2(backbone_model)"
   ]
  },
  {
   "cell_type": "code",
   "execution_count": 54,
   "id": "c91233a0-2ea9-4693-9c3b-15987711128b",
   "metadata": {
    "tags": []
   },
   "outputs": [],
   "source": [
    "from exlib.explainers.common import FeatureAttrMethod, FeatureAttrOutput\n",
    "from skimage.transform import resize\n",
    "\n",
    "class RiseTextCls(FeatureAttrMethod):\n",
    "    def __init__(self, model, input_size=512, \\\n",
    "                 gpu_batch=100, N=500, \\\n",
    "                 s=8, p1=0.5, seed=42, mask_combine=None,\n",
    "                normalize=False):\n",
    "        super(RiseTextCls, self).__init__(model)\n",
    "        self.input_size = input_size  # only one number for text\n",
    "        self.gpu_batch = gpu_batch\n",
    "        self.generate_masks(N, s, p1)\n",
    "        self.mask_combine = mask_combine\n",
    "        self.normalize = normalize\n",
    "\n",
    "    def generate_masks(self, N, s, p1, savepath='masks.npy'):\n",
    "        device = torch.device('cuda' if torch.cuda.is_available() else 'cpu')\n",
    "        cell_size = np.ceil(np.array(self.input_size) / s)\n",
    "        up_size = (s + 1) * cell_size\n",
    "\n",
    "        grid = np.random.rand(N, s) < p1\n",
    "        grid = grid.astype('float32')\n",
    "\n",
    "        self.masks = np.empty((N, self.input_size))\n",
    "\n",
    "        for i in range(N):\n",
    "            # Random shifts\n",
    "            x = np.random.randint(0, cell_size)\n",
    "            # Linear upsampling and cropping\n",
    "            self.masks[i, :] = resize(grid[i], tuple([up_size]), order=1, mode='reflect', \n",
    "                                        anti_aliasing=False)[x:x + self.input_size]\n",
    "        self.masks = (self.masks.reshape(-1, self.input_size) >= 0.5)\n",
    "        # np.save(savepath, self.masks)\n",
    "        self.masks = torch.from_numpy(self.masks).long()\n",
    "        self.masks = self.masks.to(device)\n",
    "        self.N = N\n",
    "        self.p1 = p1\n",
    "\n",
    "    def forward(self, x, label=None, kwargs=None):\n",
    "        # Apply array of filters to the image]\n",
    "        # print('RISE')\n",
    "        self.model.eval()\n",
    "        with torch.no_grad():\n",
    "            N = self.N\n",
    "            B, L = x.size()\n",
    "            if self.mask_combine:\n",
    "                stack = self.mask_combine(x, self.masks)\n",
    "                stack = stack.reshape(N * B, L, -1)\n",
    "            else:\n",
    "                stack = torch.mul(self.masks.view(N, 1, L), x.data.view(B, L))\n",
    "                # import pdb; pdb.set_trace()\n",
    "                stack = stack.reshape(N * B, L)\n",
    "            kwargs_new = {}\n",
    "            for k, v in kwargs.items():\n",
    "                if v is not None:\n",
    "                    kwargs_new[k] = v.unsqueeze(0).expand(N, B, L).reshape(N * B, L)\n",
    "            # stack = stack\n",
    "\n",
    "            #p = nn.Softmax(dim=1)(model(stack)) in batches\n",
    "            p = []\n",
    "            for i in tqdm(range(0, N*B, self.gpu_batch)):\n",
    "                kwargs_curr = {k: v[i:min(i + self.gpu_batch, N*B)] for k, v in kwargs_new.items()}\n",
    "                if self.mask_combine:\n",
    "                    pred = self.model(inputs_embeds=stack[i:min(i + self.gpu_batch, N*B)], **kwargs_curr)\n",
    "                else:\n",
    "                    pred = self.model(stack[i:min(i + self.gpu_batch, N*B)], **kwargs_curr)\n",
    "                p.append(pred)\n",
    "            p = torch.cat(p)\n",
    "            if label is None:\n",
    "                # if no label, then explain the top class\n",
    "                pred_x = self.model(x, **kwargs)\n",
    "                label = torch.argmax(pred_x, dim=-1)\n",
    "            CL = p.size(1)\n",
    "            p = p.view(N, B, CL)\n",
    "            sal = torch.matmul(p.permute(1, 2, 0), self.masks.float().view(N, L))\n",
    "            # import pdb; pdb.set_trace()\n",
    "            if self.normalize:\n",
    "                sal = sal / L\n",
    "            sal = sal.view(B, CL, L)\n",
    "        \n",
    "        return FeatureAttrOutput(sal[range(B), label], sal)\n"
   ]
  },
  {
   "cell_type": "code",
   "execution_count": 51,
   "id": "21694cc2-411d-4575-884b-838880e40f94",
   "metadata": {
    "tags": []
   },
   "outputs": [],
   "source": [
    "from exlib.explainers.rise import RiseTextCls"
   ]
  },
  {
   "cell_type": "code",
   "execution_count": 55,
   "id": "361d6efe-637b-4f82-8a27-a8f16a32452f",
   "metadata": {
    "tags": []
   },
   "outputs": [
    {
     "data": {
      "text/plain": [
       "(torch.Size([1, 16]),\n",
       " torch.Size([1]),\n",
       " {'token_type_ids': tensor([[0, 0, 0, 0, 0, 0, 0, 0, 0, 0, 0, 0, 0, 0, 0, 0]], device='cuda:0'),\n",
       "  'attention_mask': tensor([[1, 1, 1, 1, 1, 1, 1, 1, 1, 1, 1, 1, 1, 1, 1, 1]], device='cuda:0')})"
      ]
     },
     "execution_count": 55,
     "metadata": {},
     "output_type": "execute_result"
    }
   ],
   "source": [
    "inputs.shape, labels.shape, kwargs"
   ]
  },
  {
   "cell_type": "code",
   "execution_count": 56,
   "id": "43b2fd45-380a-4a12-b686-592837dc938f",
   "metadata": {
    "tags": []
   },
   "outputs": [
    {
     "ename": "RuntimeError",
     "evalue": "shape '[500, 1, 16]' is invalid for input of size 256000",
     "output_type": "error",
     "traceback": [
      "\u001b[0;31m---------------------------------------------------------------------------\u001b[0m",
      "\u001b[0;31mRuntimeError\u001b[0m                              Traceback (most recent call last)",
      "\u001b[0;32m/tmp/ipykernel_6222/3433603319.py\u001b[0m in \u001b[0;36m<module>\u001b[0;34m\u001b[0m\n\u001b[1;32m      2\u001b[0m \u001b[0;34m\u001b[0m\u001b[0m\n\u001b[1;32m      3\u001b[0m \u001b[0mrise_explainer\u001b[0m \u001b[0;34m=\u001b[0m \u001b[0mRiseTextCls\u001b[0m\u001b[0;34m(\u001b[0m\u001b[0moriginal_model2\u001b[0m\u001b[0;34m)\u001b[0m\u001b[0;34m.\u001b[0m\u001b[0mto\u001b[0m\u001b[0;34m(\u001b[0m\u001b[0mdevice\u001b[0m\u001b[0;34m)\u001b[0m\u001b[0;34m\u001b[0m\u001b[0;34m\u001b[0m\u001b[0m\n\u001b[0;32m----> 4\u001b[0;31m \u001b[0mrise_expln\u001b[0m \u001b[0;34m=\u001b[0m \u001b[0mrise_explainer\u001b[0m\u001b[0;34m(\u001b[0m\u001b[0minputs\u001b[0m\u001b[0;34m,\u001b[0m \u001b[0mlabels\u001b[0m\u001b[0;34m,\u001b[0m \u001b[0mkwargs\u001b[0m\u001b[0;34m=\u001b[0m\u001b[0mkwargs\u001b[0m\u001b[0;34m)\u001b[0m\u001b[0;34m\u001b[0m\u001b[0;34m\u001b[0m\u001b[0m\n\u001b[0m",
      "\u001b[0;32m/opt/conda/envs/rapids/lib/python3.10/site-packages/torch/nn/modules/module.py\u001b[0m in \u001b[0;36m_call_impl\u001b[0;34m(self, *args, **kwargs)\u001b[0m\n\u001b[1;32m   1499\u001b[0m                 \u001b[0;32mor\u001b[0m \u001b[0m_global_backward_pre_hooks\u001b[0m \u001b[0;32mor\u001b[0m \u001b[0m_global_backward_hooks\u001b[0m\u001b[0;34m\u001b[0m\u001b[0;34m\u001b[0m\u001b[0m\n\u001b[1;32m   1500\u001b[0m                 or _global_forward_hooks or _global_forward_pre_hooks):\n\u001b[0;32m-> 1501\u001b[0;31m             \u001b[0;32mreturn\u001b[0m \u001b[0mforward_call\u001b[0m\u001b[0;34m(\u001b[0m\u001b[0;34m*\u001b[0m\u001b[0margs\u001b[0m\u001b[0;34m,\u001b[0m \u001b[0;34m**\u001b[0m\u001b[0mkwargs\u001b[0m\u001b[0;34m)\u001b[0m\u001b[0;34m\u001b[0m\u001b[0;34m\u001b[0m\u001b[0m\n\u001b[0m\u001b[1;32m   1502\u001b[0m         \u001b[0;31m# Do not call functions when jit is used\u001b[0m\u001b[0;34m\u001b[0m\u001b[0;34m\u001b[0m\u001b[0m\n\u001b[1;32m   1503\u001b[0m         \u001b[0mfull_backward_hooks\u001b[0m\u001b[0;34m,\u001b[0m \u001b[0mnon_full_backward_hooks\u001b[0m \u001b[0;34m=\u001b[0m \u001b[0;34m[\u001b[0m\u001b[0;34m]\u001b[0m\u001b[0;34m,\u001b[0m \u001b[0;34m[\u001b[0m\u001b[0;34m]\u001b[0m\u001b[0;34m\u001b[0m\u001b[0;34m\u001b[0m\u001b[0m\n",
      "\u001b[0;32m/tmp/ipykernel_6222/2367768050.py\u001b[0m in \u001b[0;36mforward\u001b[0;34m(self, x, label, kwargs)\u001b[0m\n\u001b[1;32m     48\u001b[0m                 \u001b[0mstack\u001b[0m \u001b[0;34m=\u001b[0m \u001b[0mstack\u001b[0m\u001b[0;34m.\u001b[0m\u001b[0mreshape\u001b[0m\u001b[0;34m(\u001b[0m\u001b[0mN\u001b[0m \u001b[0;34m*\u001b[0m \u001b[0mB\u001b[0m\u001b[0;34m,\u001b[0m \u001b[0mL\u001b[0m\u001b[0;34m,\u001b[0m \u001b[0;34m-\u001b[0m\u001b[0;36m1\u001b[0m\u001b[0;34m)\u001b[0m\u001b[0;34m\u001b[0m\u001b[0;34m\u001b[0m\u001b[0m\n\u001b[1;32m     49\u001b[0m             \u001b[0;32melse\u001b[0m\u001b[0;34m:\u001b[0m\u001b[0;34m\u001b[0m\u001b[0;34m\u001b[0m\u001b[0m\n\u001b[0;32m---> 50\u001b[0;31m                 \u001b[0mstack\u001b[0m \u001b[0;34m=\u001b[0m \u001b[0mtorch\u001b[0m\u001b[0;34m.\u001b[0m\u001b[0mmul\u001b[0m\u001b[0;34m(\u001b[0m\u001b[0mself\u001b[0m\u001b[0;34m.\u001b[0m\u001b[0mmasks\u001b[0m\u001b[0;34m.\u001b[0m\u001b[0mview\u001b[0m\u001b[0;34m(\u001b[0m\u001b[0mN\u001b[0m\u001b[0;34m,\u001b[0m \u001b[0;36m1\u001b[0m\u001b[0;34m,\u001b[0m \u001b[0mL\u001b[0m\u001b[0;34m)\u001b[0m\u001b[0;34m,\u001b[0m \u001b[0mx\u001b[0m\u001b[0;34m.\u001b[0m\u001b[0mdata\u001b[0m\u001b[0;34m.\u001b[0m\u001b[0mview\u001b[0m\u001b[0;34m(\u001b[0m\u001b[0mB\u001b[0m\u001b[0;34m,\u001b[0m \u001b[0mL\u001b[0m\u001b[0;34m)\u001b[0m\u001b[0;34m)\u001b[0m\u001b[0;34m\u001b[0m\u001b[0;34m\u001b[0m\u001b[0m\n\u001b[0m\u001b[1;32m     51\u001b[0m                 \u001b[0;31m# import pdb; pdb.set_trace()\u001b[0m\u001b[0;34m\u001b[0m\u001b[0;34m\u001b[0m\u001b[0m\n\u001b[1;32m     52\u001b[0m                 \u001b[0mstack\u001b[0m \u001b[0;34m=\u001b[0m \u001b[0mstack\u001b[0m\u001b[0;34m.\u001b[0m\u001b[0mreshape\u001b[0m\u001b[0;34m(\u001b[0m\u001b[0mN\u001b[0m \u001b[0;34m*\u001b[0m \u001b[0mB\u001b[0m\u001b[0;34m,\u001b[0m \u001b[0mL\u001b[0m\u001b[0;34m)\u001b[0m\u001b[0;34m\u001b[0m\u001b[0;34m\u001b[0m\u001b[0m\n",
      "\u001b[0;31mRuntimeError\u001b[0m: shape '[500, 1, 16]' is invalid for input of size 256000"
     ]
    }
   ],
   "source": [
    "# from exlib.explainers.rise import RiseTextCls\n",
    "\n",
    "rise_explainer = RiseTextCls(original_model2).to(device)\n",
    "rise_expln = rise_explainer(inputs, labels, kwargs=kwargs)"
   ]
  },
  {
   "cell_type": "code",
   "execution_count": 86,
   "id": "6382f70b-643f-4e32-83af-27f9600a0922",
   "metadata": {
    "tags": []
   },
   "outputs": [
    {
     "data": {
      "text/markdown": [
       "<span style='background-color:rgb(238.8148406893015,16.18515931069851,16.18515931069851)'> [CLS]</span><span style='background-color:rgb(238.8148406893015,16.18515931069851,16.18515931069851)'> allan</span><span style='background-color:rgb(238.8148406893015,16.18515931069851,16.18515931069851)'> sat</span><span style='background-color:rgb(238.8148406893015,16.18515931069851,16.18515931069851)'> down</span><span style='background-color:rgb(238.8148406893015,16.18515931069851,16.18515931069851)'> at</span><span style='background-color:rgb(238.8148406893015,16.18515931069851,16.18515931069851)'> his</span><span style='background-color:rgb(238.8148406893015,16.18515931069851,16.18515931069851)'> desk</span><span style='background-color:rgb(238.8148406893015,16.18515931069851,16.18515931069851)'> and</span><span style='background-color:rgb(238.8148406893015,16.18515931069851,16.18515931069851)'> pulled</span><span style='background-color:rgb(239.05032735317945,15.949672646820545,15.949672646820545)'> the</span><span style='background-color:rgb(238.56281351298094,16.437186487019062,16.437186487019062)'> chair</span><span style='background-color:rgb(240.37113362923265,14.628866370767355,14.628866370767355)'> in</span><span style='background-color:rgb(240.08213253691792,14.917867463082075,14.917867463082075)'> close</span><span style='background-color:rgb(240.31039768829942,14.689602311700583,14.689602311700583)'> .</span><span style='background-color:rgb(241.54580734670162,13.454192653298378,13.454192653298378)'> opening</span><span style='background-color:rgb(237.18802828341722,17.811971716582775,17.811971716582775)'> a</span><span style='background-color:rgb(236.88218649476767,18.117813505232334,18.117813505232334)'> side</span><span style='background-color:rgb(239.54216916114092,15.457830838859081,15.457830838859081)'> drawer</span><span style='background-color:rgb(234.3964909762144,20.60350902378559,20.60350902378559)'> ,</span><span style='background-color:rgb(234.2841386049986,20.71586139500141,20.71586139500141)'> he</span><span style='background-color:rgb(240.9393845871091,14.060615412890911,14.060615412890911)'> took</span><span style='background-color:rgb(234.96054980903864,20.03945019096136,20.03945019096136)'> out</span><span style='background-color:rgb(232.37581450492144,22.624185495078564,22.624185495078564)'> a</span><span style='background-color:rgb(232.15826477855444,22.84173522144556,22.84173522144556)'> piece</span><span style='background-color:rgb(231.23348750174046,23.766512498259544,23.766512498259544)'> of</span><span style='background-color:rgb(230.2177906036377,24.782209396362305,24.782209396362305)'> paper</span><span style='background-color:rgb(228.52032478898764,26.479675211012363,26.479675211012363)'> and</span><span style='background-color:rgb(228.07790502905846,26.922094970941544,26.922094970941544)'> his</span><span style='background-color:rgb(223.72059144079685,31.279408559203148,31.279408559203148)'> ink</span><span style='background-color:rgb(221.895929351449,33.10407064855099,33.10407064855099)'> ##pot</span><span style='background-color:rgb(222.2952537238598,32.70474627614021,32.70474627614021)'> .</span><span style='background-color:rgb(221.4844912290573,33.51550877094269,33.51550877094269)'> after</span><span style='background-color:rgb(225.60621935874224,29.393780641257763,29.393780641257763)'> filling</span><span style='background-color:rgb(225.0268853455782,29.973114654421806,29.973114654421806)'> his</span><span style='background-color:rgb(225.81458307802677,29.18541692197323,29.18541692197323)'> pen</span><span style='background-color:rgb(227.2758972644806,27.72410273551941,27.72410273551941)'> ,</span><span style='background-color:rgb(227.29177091270685,27.708229087293148,27.708229087293148)'> allan</span><span style='background-color:rgb(227.47620731592178,27.523792684078217,27.523792684078217)'> looked</span><span style='background-color:rgb(218.09501990675926,36.90498009324074,36.90498009324074)'> at</span><span style='background-color:rgb(220.64218282699585,34.35781717300415,34.35781717300415)'> his</span><span style='background-color:rgb(222.8205071389675,32.179492861032486,32.179492861032486)'> paper</span><span style='background-color:rgb(214.9123790860176,40.08762091398239,40.08762091398239)'> in</span><span style='background-color:rgb(214.09443117678165,40.905568823218346,40.905568823218346)'> the</span><span style='background-color:rgb(213.3463691174984,41.6536308825016,41.6536308825016)'> orange</span><span style='background-color:rgb(210.39875328540802,44.60124671459198,44.60124671459198)'> glow</span><span style='background-color:rgb(210.4980267584324,44.50197324156761,44.50197324156761)'> from</span><span style='background-color:rgb(214.15965847671032,40.84034152328968,40.84034152328968)'> the</span><span style='background-color:rgb(216.51093810796738,38.48906189203262,38.48906189203262)'> lantern</span><span style='background-color:rgb(213.77601206302643,41.22398793697357,41.22398793697357)'> set</span><span style='background-color:rgb(215.50702057778835,39.49297942221165,39.49297942221165)'> back</span><span style='background-color:rgb(211.51272431015968,43.48727568984032,43.48727568984032)'> in</span><span style='background-color:rgb(205.65688893198967,49.34311106801033,49.34311106801033)'> the</span><span style='background-color:rgb(208.31500969827175,46.68499030172825,46.68499030172825)'> desk</span><span style='background-color:rgb(204.97735239565372,50.022647604346275,50.022647604346275)'> '</span><span style='background-color:rgb(202.79842771589756,52.20157228410244,52.20157228410244)'> s</span><span style='background-color:rgb(206.73006154596806,48.269938454031944,48.269938454031944)'> right</span><span style='background-color:rgb(209.32514749467373,45.67485250532627,45.67485250532627)'> -</span><span style='background-color:rgb(209.2138286679983,45.786171332001686,45.786171332001686)'> hand</span><span style='background-color:rgb(211.4594093710184,43.54059062898159,43.54059062898159)'> corner</span><span style='background-color:rgb(216.85039289295673,38.149607107043266,38.149607107043266)'> .</span><span style='background-color:rgb(216.5876141935587,38.41238580644131,38.41238580644131)'> his</span><span style='background-color:rgb(218.05438488721848,36.945615112781525,36.945615112781525)'> pen</span><span style='background-color:rgb(223.2751413434744,31.724858656525612,31.724858656525612)'> cast</span><span style='background-color:rgb(225.45326616615057,29.54673383384943,29.54673383384943)'> a</span><span style='background-color:rgb(218.73076379299164,36.26923620700836,36.26923620700836)'> forbid</span><span style='background-color:rgb(219.4447796791792,35.55522032082081,35.55522032082081)'> ##ding</span><span style='background-color:rgb(222.72878766059875,32.271212339401245,32.271212339401245)'> line</span><span style='background-color:rgb(217.83161044120789,37.168389558792114,37.168389558792114)'> of</span><span style='background-color:rgb(215.65235517919064,39.347644820809364,39.347644820809364)'> shadow</span><span style='background-color:rgb(219.77960631251335,35.22039368748665,35.22039368748665)'> slant</span><span style='background-color:rgb(226.28446016460657,28.71553983539343,28.71553983539343)'> ##ing</span><span style='background-color:rgb(226.13490018993616,28.86509981006384,28.86509981006384)'> across</span><span style='background-color:rgb(225.75032092630863,29.249679073691368,29.249679073691368)'> the</span><span style='background-color:rgb(225.75032092630863,29.249679073691368,29.249679073691368)'> page</span><span style='background-color:rgb(225.75032092630863,29.249679073691368,29.249679073691368)'> ,</span><span style='background-color:rgb(225.75032092630863,29.249679073691368,29.249679073691368)'> echoing</span><span style='background-color:rgb(225.75032092630863,29.249679073691368,29.249679073691368)'> the</span><span style='background-color:rgb(225.75032092630863,29.249679073691368,29.249679073691368)'> ink</span><span style='background-color:rgb(225.75032092630863,29.249679073691368,29.249679073691368)'> ##y</span><span style='background-color:rgb(225.75032092630863,29.249679073691368,29.249679073691368)'> darkness</span><span style='background-color:rgb(225.75032092630863,29.249679073691368,29.249679073691368)'> crouch</span><span style='background-color:rgb(227.92707972228527,27.07292027771473,27.07292027771473)'> ##ing</span><span style='background-color:rgb(225.29844917356968,29.70155082643032,29.70155082643032)'> in</span><span style='background-color:rgb(224.4621292501688,30.5378707498312,30.5378707498312)'> the</span><span style='background-color:rgb(224.46542367339134,30.534576326608658,30.534576326608658)'> edges</span><span style='background-color:rgb(224.0126532688737,30.98734673112631,30.98734673112631)'> of</span><span style='background-color:rgb(224.13079652935266,30.869203470647335,30.869203470647335)'> the</span><span style='background-color:rgb(223.90056688338518,31.09943311661482,31.09943311661482)'> lantern</span><span style='background-color:rgb(227.8220495581627,27.17795044183731,27.17795044183731)'> '</span><span style='background-color:rgb(226.9133796170354,28.08662038296461,28.08662038296461)'> s</span><span style='background-color:rgb(233.22248317301273,21.777516826987267,21.777516826987267)'> struggling</span><span style='background-color:rgb(232.6533668115735,22.346633188426495,22.346633188426495)'> glow</span><span style='background-color:rgb(227.92012609541416,27.07987390458584,27.07987390458584)'> .</span><span style='background-color:rgb(225.74080243706703,29.259197562932968,29.259197562932968)'> the</span><span style='background-color:rgb(230.94674918800592,24.053250811994076,24.053250811994076)'> only</span><span style='background-color:rgb(230.94674918800592,24.053250811994076,24.053250811994076)'> other</span><span style='background-color:rgb(230.96072673797607,24.039273262023926,24.039273262023926)'> illumination</span><span style='background-color:rgb(234.6109799668193,20.389020033180714,20.389020033180714)'> came</span><span style='background-color:rgb(232.34769221395254,22.65230778604746,22.65230778604746)'> from</span><span style='background-color:rgb(234.91182882338762,20.088171176612377,20.088171176612377)'> a</span><span style='background-color:rgb(238.9669617265463,16.033038273453712,16.033038273453712)'> lu</span><span style='background-color:rgb(236.29400085657835,18.70599914342165,18.70599914342165)'> ##rid</span><span style='background-color:rgb(237.949135042727,17.050864957273006,17.050864957273006)'> moonlight</span><span style='background-color:rgb(234.4561629742384,20.543837025761604,20.543837025761604)'> filtered</span><span style='background-color:rgb(229.95048824697733,25.04951175302267,25.04951175302267)'> through</span><span style='background-color:rgb(228.4090382605791,26.59096173942089,26.59096173942089)'> thin</span><span style='background-color:rgb(227.36931335180998,27.63068664819002,27.63068664819002)'> branches</span><span style='background-color:rgb(229.9918870255351,25.008112974464893,25.008112974464893)'> and</span><span style='background-color:rgb(227.79579296708107,27.20420703291893,27.20420703291893)'> clouds</span><span style='background-color:rgb(227.53883935511112,27.461160644888878,27.461160644888878)'> ,</span><span style='background-color:rgb(231.5320735797286,23.467926420271397,23.467926420271397)'> casting</span><span style='background-color:rgb(228.9858416095376,26.0141583904624,26.0141583904624)'> its</span><span style='background-color:rgb(228.7048276886344,26.295172311365604,26.295172311365604)'> bone</span><span style='background-color:rgb(231.5696782618761,23.430321738123894,23.430321738123894)'> -</span><span style='background-color:rgb(235.56191504001617,19.438084959983826,19.438084959983826)'> pale</span><span style='background-color:rgb(236.0330555588007,18.966944441199303,18.966944441199303)'> glow</span><span style='background-color:rgb(236.26880820840597,18.73119179159403,18.73119179159403)'> onto</span><span style='background-color:rgb(238.34815923124552,16.651840768754482,16.651840768754482)'> the</span><span style='background-color:rgb(238.3444981276989,16.6555018723011,16.6555018723011)'> pine</span><span style='background-color:rgb(233.9514759555459,21.048524044454098,21.048524044454098)'> floor</span><span style='background-color:rgb(236.1279022693634,18.872097730636597,18.872097730636597)'> ##boards</span><span style='background-color:rgb(232.21790067851543,22.782099321484566,22.782099321484566)'> .</span><span style='background-color:rgb(234.161570481956,20.838429518043995,20.838429518043995)'> allan</span><span style='background-color:rgb(236.34332221001387,18.656677789986134,18.656677789986134)'> unfolded</span><span style='background-color:rgb(234.16596304625273,20.834036953747272,20.834036953747272)'> another</span><span style='background-color:rgb(239.97580379247665,15.024196207523346,15.024196207523346)'> page</span><span style='background-color:rgb(244.29617671296,10.703823287039995,10.703823287039995)'> ,</span><span style='background-color:rgb(239.85526476055384,15.144735239446163,15.144735239446163)'> this</span><span style='background-color:rgb(241.61479644477367,13.385203555226326,13.385203555226326)'> one</span><span style='background-color:rgb(238.18701937794685,16.812980622053146,16.812980622053146)'> crowded</span><span style='background-color:rgb(238.08544892817736,16.914551071822643,16.914551071822643)'> with</span><span style='background-color:rgb(238.4376159310341,16.562384068965912,16.562384068965912)'> ranks</span><span style='background-color:rgb(238.74442096799612,16.25557903200388,16.25557903200388)'> of</span><span style='background-color:rgb(241.26878701150417,13.731212988495827,13.731212988495827)'> letters</span><span style='background-color:rgb(240.57167736813426,14.42832263186574,14.42832263186574)'> in</span><span style='background-color:rgb(238.39461743831635,16.605382561683655,16.605382561683655)'> tight</span><span style='background-color:rgb(240.45336786657572,14.546632133424282,14.546632133424282)'> formation</span><span style='background-color:rgb(239.8110693320632,15.188930667936802,15.188930667936802)'> from</span><span style='background-color:rgb(239.8110693320632,15.188930667936802,15.188930667936802)'> left</span><span style='background-color:rgb(238.25298003852367,16.747019961476326,16.747019961476326)'> to</span><span style='background-color:rgb(240.51070868968964,14.489291310310364,14.489291310310364)'> right</span><span style='background-color:rgb(229.49668619781733,25.503313802182674,25.503313802182674)'> .</span><span style='background-color:rgb(225.00219237059355,29.997807629406452,29.997807629406452)'> the</span><span style='background-color:rgb(224.91326954215765,30.08673045784235,30.08673045784235)'> lines</span><span style='background-color:rgb(227.4733118712902,27.526688128709793,27.526688128709793)'> of</span><span style='background-color:rgb(227.4733118712902,27.526688128709793,27.526688128709793)'> letters</span><span style='background-color:rgb(227.4733118712902,27.526688128709793,27.526688128709793)'> stepped</span><span style='background-color:rgb(227.4733118712902,27.526688128709793,27.526688128709793)'> into</span><span style='background-color:rgb(227.4733118712902,27.526688128709793,27.526688128709793)'> their</span><span style='background-color:rgb(227.4733118712902,27.526688128709793,27.526688128709793)'> divisions</span><span style='background-color:rgb(227.4733118712902,27.526688128709793,27.526688128709793)'> ,</span><span style='background-color:rgb(227.4733118712902,27.526688128709793,27.526688128709793)'> in</span><span style='background-color:rgb(227.4733118712902,27.526688128709793,27.526688128709793)'> the</span><span style='background-color:rgb(231.04232925921679,23.957670740783215,23.957670740783215)'> shape</span><span style='background-color:rgb(233.70880007743835,21.291199922561646,21.291199922561646)'> of</span><span style='background-color:rgb(232.0658803358674,22.934119664132595,22.934119664132595)'> a</span><span style='background-color:rgb(234.2390464246273,20.760953575372696,20.760953575372696)'> story</span><span style='background-color:rgb(234.69181682914495,20.308183170855045,20.308183170855045)'> '</span><span style='background-color:rgb(234.69181682914495,20.308183170855045,20.308183170855045)'> s</span><span style='background-color:rgb(237.22936056554317,17.770639434456825,17.770639434456825)'> outline</span><span style='background-color:rgb(233.22308164089918,21.77691835910082,21.77691835910082)'> :</span><span style='background-color:rgb(231.1536157876253,23.846384212374687,23.846384212374687)'> the</span><span style='background-color:rgb(225.6213292479515,29.378670752048492,29.378670752048492)'> loose</span><span style='background-color:rgb(225.96204556524754,29.037954434752464,29.037954434752464)'> ,</span><span style='background-color:rgb(230.23672688752413,24.763273112475872,24.763273112475872)'> dry</span><span style='background-color:rgb(234.02545608580112,20.974543914198875,20.974543914198875)'> skeleton</span><span style='background-color:rgb(233.1605825945735,21.839417405426502,21.839417405426502)'> of</span><span style='background-color:rgb(232.87897020578384,22.121029794216156,22.121029794216156)'> a</span><span style='background-color:rgb(234.12010330706835,20.879896692931652,20.879896692931652)'> tale</span><span style='background-color:rgb(232.64661077409983,22.353389225900173,22.353389225900173)'> lay</span><span style='background-color:rgb(239.1263717226684,15.87362827733159,15.87362827733159)'> exposed</span><span style='background-color:rgb(239.4784712791443,15.521528720855713,15.521528720855713)'> beneath</span><span style='background-color:rgb(239.76933617144823,15.23066382855177,15.23066382855177)'> their</span><span style='background-color:rgb(243.95129961892962,11.048700381070375,11.048700381070375)'> feet</span><span style='background-color:rgb(236.70716978609562,18.29283021390438,18.29283021390438)'> ,</span><span style='background-color:rgb(238.7083115056157,16.29168849438429,16.29168849438429)'> awaiting</span><span style='background-color:rgb(236.7869085073471,18.213091492652893,18.213091492652893)'> tend</span><span style='background-color:rgb(238.49252678453922,16.507473215460777,16.507473215460777)'> ##ons</span><span style='background-color:rgb(240.11631075292826,14.883689247071743,14.883689247071743)'> ,</span><span style='background-color:rgb(240.37975251674652,14.620247483253479,14.620247483253479)'> muscle</span><span style='background-color:rgb(240.37902105599642,14.620978944003582,14.620978944003582)'> and</span><span style='background-color:rgb(240.64419362694025,14.35580637305975,14.35580637305975)'> blushing</span><span style='background-color:rgb(242.61827984824777,12.381720151752234,12.381720151752234)'> skin</span><span style='background-color:rgb(243.03088165819645,11.96911834180355,11.96911834180355)'> .</span><span style='background-color:rgb(240.48222161829472,14.517778381705284,14.517778381705284)'> allan</span><span style='background-color:rgb(244.09796319901943,10.902036800980568,10.902036800980568)'> reviewed</span><span style='background-color:rgb(242.34565302729607,12.654346972703934,12.654346972703934)'> the</span><span style='background-color:rgb(240.32018216326833,14.679817836731672,14.679817836731672)'> troops</span><span style='background-color:rgb(240.32018216326833,14.679817836731672,14.679817836731672)'> ,</span><span style='background-color:rgb(238.2408320903778,16.759167909622192,16.759167909622192)'> all</span><span style='background-color:rgb(233.88608146458864,21.113918535411358,21.113918535411358)'> prepared</span><span style='background-color:rgb(236.23646054416895,18.76353945583105,18.76353945583105)'> to</span><span style='background-color:rgb(236.0796144604683,18.920385539531708,18.920385539531708)'> di</span><span style='background-color:rgb(231.6441599652171,23.355840034782887,23.355840034782887)'> ##se</span><span style='background-color:rgb(229.3445309624076,25.65546903759241,25.65546903759241)'> ##mba</span><span style='background-color:rgb(235.86698926985264,19.13301073014736,19.13301073014736)'> ##rk</span><span style='background-color:rgb(238.04378226399422,16.956217736005783,16.956217736005783)'> ,</span><span style='background-color:rgb(230.11156160384417,24.888438396155834,24.888438396155834)'> their</span><span style='background-color:rgb(232.3241961747408,22.67580382525921,22.67580382525921)'> task</span><span style='background-color:rgb(234.68685809522867,20.313141904771328,20.313141904771328)'> to</span><span style='background-color:rgb(232.35378328710794,22.646216712892056,22.646216712892056)'> form</span><span style='background-color:rgb(236.9253844767809,18.07461552321911,18.07461552321911)'> the</span><span style='background-color:rgb(236.6703288629651,18.329671137034893,18.329671137034893)'> tale</span><span style='background-color:rgb(234.83511853963137,20.164881460368633,20.164881460368633)'> of</span><span style='background-color:rgb(236.87722966074944,18.122770339250565,18.122770339250565)'> a</span><span style='background-color:rgb(235.74911199510098,19.250888004899025,19.250888004899025)'> young</span><span style='background-color:rgb(242.72557374089956,12.274426259100437,12.274426259100437)'> man</span><span style='background-color:rgb(242.7252080105245,12.274791989475489,12.274791989475489)'> returning</span><span style='background-color:rgb(236.53747659176588,18.46252340823412,18.46252340823412)'> home</span><span style='background-color:rgb(234.50664706528187,20.493352934718132,20.493352934718132)'> from</span><span style='background-color:rgb(227.97410409897566,27.02589590102434,27.02589590102434)'> life</span><span style='background-color:rgb(231.79292008280754,23.20707991719246,23.20707991719246)'> abroad</span><span style='background-color:rgb(231.82047430425882,23.179525695741177,23.179525695741177)'> to</span><span style='background-color:rgb(236.1786200478673,18.821379952132702,18.821379952132702)'> find</span><span style='background-color:rgb(240.67281369119883,14.327186308801174,14.327186308801174)'> his</span><span style='background-color:rgb(240.60099659487605,14.399003405123949,14.399003405123949)'> childhood</span><span style='background-color:rgb(235.54021630436182,19.45978369563818,19.45978369563818)'> friend</span><span style='background-color:rgb(235.54021630436182,19.45978369563818,19.45978369563818)'> a</span><span style='background-color:rgb(235.54021630436182,19.45978369563818,19.45978369563818)'> bride</span><span style='background-color:rgb(235.54021630436182,19.45978369563818,19.45978369563818)'> to</span><span style='background-color:rgb(235.54021630436182,19.45978369563818,19.45978369563818)'> -</span><span style='background-color:rgb(235.54021630436182,19.45978369563818,19.45978369563818)'> be</span><span style='background-color:rgb(235.54021630436182,19.45978369563818,19.45978369563818)'> ,</span><span style='background-color:rgb(235.54021630436182,19.45978369563818,19.45978369563818)'> thus</span><span style='background-color:rgb(235.54021630436182,19.45978369563818,19.45978369563818)'> upset</span><span style='background-color:rgb(235.9937846660614,19.0062153339386,19.0062153339386)'> ##ting</span><span style='background-color:rgb(233.8148295879364,21.1851704120636,21.1851704120636)'> the</span><span style='background-color:rgb(236.28192130476236,18.718078695237637,18.718078695237637)'> apple</span><span style='background-color:rgb(238.14502023160458,16.854979768395424,16.854979768395424)'> cart</span><span style='background-color:rgb(238.0439494550228,16.956050544977188,16.956050544977188)'> of</span><span style='background-color:rgb(238.0439494550228,16.956050544977188,16.956050544977188)'> his</span><span style='background-color:rgb(234.9916321411729,20.008367858827114,20.008367858827114)'> life</span><span style='background-color:rgb(237.9959922283888,17.004007771611214,17.004007771611214)'> '</span><span style='background-color:rgb(235.8200978860259,19.179902113974094,19.179902113974094)'> s</span><span style='background-color:rgb(237.0056228712201,17.994377128779888,17.994377128779888)'> plan</span><span style='background-color:rgb(235.16738411039114,19.83261588960886,19.83261588960886)'> ,</span><span style='background-color:rgb(228.73318176716566,26.26681823283434,26.26681823283434)'> clarified</span><span style='background-color:rgb(229.110440723598,25.889559276401997,25.889559276401997)'> –</span><span style='background-color:rgb(225.1910213381052,29.8089786618948,29.8089786618948)'> of</span><span style='background-color:rgb(225.4085710644722,29.5914289355278,29.5914289355278)'> course</span><span style='background-color:rgb(222.0722132921219,32.92778670787811,32.92778670787811)'> –</span><span style='background-color:rgb(219.90919835865498,35.090801641345024,35.090801641345024)'> by</span><span style='background-color:rgb(215.94981081783772,39.050189182162285,39.050189182162285)'> his</span><span style='background-color:rgb(215.6097898632288,39.3902101367712,39.3902101367712)'> very</span><span style='background-color:rgb(215.32005541026592,39.67994458973408,39.67994458973408)'> time</span><span style='background-color:rgb(208.9627305418253,46.037269458174706,46.037269458174706)'> away</span><span style='background-color:rgb(214.87457491457462,40.12542508542538,40.12542508542538)'> from</span><span style='background-color:rgb(212.4018234014511,42.59817659854889,42.59817659854889)'> her</span><span style='background-color:rgb(216.88430227339268,38.11569772660732,38.11569772660732)'> he</span><span style='background-color:rgb(216.77870593965054,38.221294060349464,38.221294060349464)'> loved</span><span style='background-color:rgb(217.02371299266815,37.97628700733185,37.97628700733185)'> best</span><span style='background-color:rgb(216.57559923827648,38.42440076172352,38.42440076172352)'> .</span><span style='background-color:rgb(218.7565530091524,36.24344699084759,36.24344699084759)'> although</span><span style='background-color:rgb(216.5697095543146,38.43029044568539,38.43029044568539)'> the</span><span style='background-color:rgb(208.02451148629189,46.975488513708115,46.975488513708115)'> concept</span><span style='background-color:rgb(209.96498376131058,45.03501623868942,45.03501623868942)'> was</span><span style='background-color:rgb(209.96498376131058,45.03501623868942,45.03501623868942)'> a</span><span style='background-color:rgb(208.00783798098564,46.99216201901436,46.99216201901436)'> simple</span><span style='background-color:rgb(209.76131089031696,45.23868910968304,45.23868910968304)'> one</span><span style='background-color:rgb(213.43492716550827,41.56507283449173,41.56507283449173)'> ,</span><span style='background-color:rgb(215.31133867800236,39.68866132199764,39.68866132199764)'> allan</span><span style='background-color:rgb(215.21203100681305,39.78796899318695,39.78796899318695)'> thought</span><span style='background-color:rgb(211.54500357806683,43.454996421933174,43.454996421933174)'> it</span><span style='background-color:rgb(211.26339308917522,43.736606910824776,43.736606910824776)'> had</span><span style='background-color:rgb(206.8249424546957,48.1750575453043,48.1750575453043)'> potential</span><span style='background-color:rgb(215.76467335224152,39.235326647758484,39.235326647758484)'> .</span><span style='background-color:rgb(220.4708918184042,34.5291081815958,34.5291081815958)'> besides</span><span style='background-color:rgb(215.13099655508995,39.86900344491005,39.86900344491005)'> ,</span><span style='background-color:rgb(217.30832152068615,37.69167847931385,37.69167847931385)'> the</span><span style='background-color:rgb(217.3394038528204,37.660596147179604,37.660596147179604)'> public</span><span style='background-color:rgb(212.98342019319534,42.01657980680466,42.01657980680466)'> liked</span><span style='background-color:rgb(211.12937428057194,43.87062571942806,43.87062571942806)'> a</span><span style='background-color:rgb(208.69376577436924,46.30623422563076,46.30623422563076)'> good</span><span style='background-color:rgb(206.61860972642899,48.381390273571014,48.381390273571014)'> ,</span><span style='background-color:rgb(207.09414280951023,47.90585719048977,47.90585719048977)'> simple</span><span style='background-color:rgb(205.4281260073185,49.5718739926815,49.5718739926815)'> romance</span><span style='background-color:rgb(203.29489767551422,51.70510232448578,51.70510232448578)'> .</span><span style='background-color:rgb(198.00821095705032,56.99178904294968,56.99178904294968)'> perhaps</span><span style='background-color:rgb(193.52942928671837,61.47057071328163,61.47057071328163)'> this</span><span style='background-color:rgb(193.5286959260702,61.47130407392979,61.47130407392979)'> will</span><span style='background-color:rgb(201.9247367978096,53.0752632021904,53.0752632021904)'> be</span><span style='background-color:rgb(197.67501443624496,57.324985563755035,57.324985563755035)'> more</span><span style='background-color:rgb(197.67501443624496,57.324985563755035,57.324985563755035)'> sale</span><span style='background-color:rgb(193.85623455047607,61.143765449523926,61.143765449523926)'> ##able</span><span style='background-color:rgb(189.49998870491982,65.50001129508018,65.50001129508018)'> ,</span><span style='background-color:rgb(183.31235513091087,71.68764486908913,71.68764486908913)'> he</span><span style='background-color:rgb(177.23946779966354,77.76053220033646,77.76053220033646)'> thought</span><span style='background-color:rgb(175.677120834589,79.322879165411,79.322879165411)'> and</span><span style='background-color:rgb(176.3834497332573,78.6165502667427,78.6165502667427)'> began</span><span style='background-color:rgb(176.3834497332573,78.6165502667427,78.6165502667427)'> to</span><span style='background-color:rgb(176.3834497332573,78.6165502667427,78.6165502667427)'> write</span><span style='background-color:rgb(176.3834497332573,78.6165502667427,78.6165502667427)'> .</span><span style='background-color:rgb(176.3834497332573,78.6165502667427,78.6165502667427)'> they</span><span style='background-color:rgb(176.3834497332573,78.6165502667427,78.6165502667427)'> gazed</span><span style='background-color:rgb(176.3834497332573,78.6165502667427,78.6165502667427)'> at</span><span style='background-color:rgb(176.3834497332573,78.6165502667427,78.6165502667427)'> each</span><span style='background-color:rgb(176.3834497332573,78.6165502667427,78.6165502667427)'> other</span><span style='background-color:rgb(170.1841051876545,84.8158948123455,84.8158948123455)'> ,</span><span style='background-color:rgb(170.63374266028404,84.36625733971596,84.36625733971596)'> lost</span><span style='background-color:rgb(163.21449637413025,91.78550362586975,91.78550362586975)'> in</span><span style='background-color:rgb(152.92710319161415,102.07289680838585,102.07289680838585)'> the</span><span style='background-color:rgb(153.15537214279175,101.84462785720825,101.84462785720825)'> rap</span><span style='background-color:rgb(151.91992923617363,103.08007076382637,103.08007076382637)'> ##ture</span><span style='background-color:rgb(148.43567579984665,106.56432420015335,106.56432420015335)'> of</span><span style='background-color:rgb(146.25751867890358,108.74248132109642,108.74248132109642)'> love</span><span style='background-color:rgb(147.16592073440552,107.83407926559448,107.83407926559448)'> based</span><span style='background-color:rgb(144.0287710726261,110.97122892737389,110.97122892737389)'> so</span><span style='background-color:rgb(144.25713881850243,110.74286118149757,110.74286118149757)'> deeply</span><span style='background-color:rgb(138.43578279018402,116.56421720981598,116.56421720981598)'> within</span><span style='background-color:rgb(134.4784927368164,120.5215072631836,120.5215072631836)'> their</span><span style='background-color:rgb(132.756599932909,122.24340006709099,122.24340006709099)'> hearts</span><span style='background-color:rgb(133.03818002343178,121.96181997656822,121.96181997656822)'> that</span><span style='background-color:rgb(132.0277078449726,122.97229215502739,122.97229215502739)'> they</span><span style='background-color:rgb(131.32287606596947,123.67712393403053,123.67712393403053)'> had</span><span style='background-color:rgb(128.75880405306816,126.24119594693184,126.24119594693184)'> never</span><span style='background-color:rgb(117.08342134952545,137.91657865047455,137.91657865047455)'> seen</span><span style='background-color:rgb(108.67020159959793,146.32979840040207,146.32979840040207)'> it</span><span style='background-color:rgb(109.16121125221252,145.83878874778748,145.83878874778748)'> before</span><span style='background-color:rgb(104.92346584796906,150.07653415203094,150.07653415203094)'> .</span><span style='background-color:rgb(105.78840583562851,149.2115941643715,149.2115941643715)'> \"</span><span style='background-color:rgb(99.6609154343605,155.3390845656395,155.3390845656395)'> what</span><span style='background-color:rgb(98.0609580874443,156.9390419125557,156.9390419125557)'> about</span><span style='background-color:rgb(94.42385405302048,160.57614594697952,160.57614594697952)'> roger</span><span style='background-color:rgb(90.64600557088852,164.35399442911148,164.35399442911148)'> ?</span><span style='background-color:rgb(84.26684707403183,170.73315292596817,170.73315292596817)'> \"</span><span style='background-color:rgb(84.66097712516785,170.33902287483215,170.33902287483215)'> she</span><span style='background-color:rgb(83.72099876403809,171.2790012359619,171.2790012359619)'> asked</span><span style='background-color:rgb(79.19009149074554,175.80990850925446,175.80990850925446)'> ,</span><span style='background-color:rgb(79.8943305015564,175.1056694984436,175.1056694984436)'> knowing</span><span style='background-color:rgb(75.43347626924515,179.56652373075485,179.56652373075485)'> that</span><span style='background-color:rgb(72.25806266069412,182.74193733930588,182.74193733930588)'> the</span><span style='background-color:rgb(68.90556335449219,186.0944366455078,186.0944366455078)'> answer</span><span style='background-color:rgb(67.56203144788742,187.43796855211258,187.43796855211258)'> no</span><span style='background-color:rgb(65.48524528741837,189.51475471258163,189.51475471258163)'> longer</span><span style='background-color:rgb(61.56029909849167,193.43970090150833,193.43970090150833)'> mattered</span><span style='background-color:rgb(57.51620650291443,197.48379349708557,197.48379349708557)'> .</span><span style='background-color:rgb(58.9472097158432,196.0527902841568,196.0527902841568)'> [SEP]</span><span style='background-color:rgb(50.23248374462128,204.76751625537872,204.76751625537872)'> name</span><span style='background-color:rgb(43.587081134319305,211.4129188656807,211.4129188656807)'> few</span><span style='background-color:rgb(36.54069364070892,218.45930635929108,218.45930635929108)'> objects</span><span style='background-color:rgb(32.186583280563354,222.81341671943665,222.81341671943665)'> said</span><span style='background-color:rgb(33.49723935127258,221.50276064872742,221.50276064872742)'> to</span><span style='background-color:rgb(33.46352756023407,221.53647243976593,221.53647243976593)'> be</span><span style='background-color:rgb(35.03389209508896,219.96610790491104,219.96610790491104)'> in</span><span style='background-color:rgb(34.25721377134323,220.74278622865677,220.74278622865677)'> or</span><span style='background-color:rgb(33.22520434856415,221.77479565143585,221.77479565143585)'> on</span><span style='background-color:rgb(31.219535171985626,223.78046482801437,223.78046482801437)'> allan</span><span style='background-color:rgb(27.113247513771057,227.88675248622894,227.88675248622894)'> '</span><span style='background-color:rgb(23.109235167503357,231.89076483249664,231.89076483249664)'> s</span><span style='background-color:rgb(22.15913414955139,232.8408658504486,232.8408658504486)'> desk</span><span style='background-color:rgb(11.813566088676453,243.18643391132355,243.18643391132355)'> |</span><span style='background-color:rgb(7.470596730709076,247.52940326929092,247.52940326929092)'> |</span><span style='background-color:rgb(0.01793503761291504,254.98206496238708,254.98206496238708)'> erase</span><span style='background-color:rgb(0.0,255.0,255.0)'> ##r</span><span style='background-color:rgb(3.2447370886802673,251.75526291131973,251.75526291131973)'> [SEP]</span><span style='background-color:rgb(7.063547372817993,247.936452627182,247.936452627182)'> [PAD]</span><span style='background-color:rgb(9.242107272148132,245.75789272785187,245.75789272785187)'> [PAD]</span><span style='background-color:rgb(15.19971638917923,239.80028361082077,239.80028361082077)'> [PAD]</span><span style='background-color:rgb(23.20815145969391,231.7918485403061,231.7918485403061)'> [PAD]</span><span style='background-color:rgb(24.859345257282257,230.14065474271774,230.14065474271774)'> [PAD]</span><span style='background-color:rgb(28.507468700408936,226.49253129959106,226.49253129959106)'> [PAD]</span><span style='background-color:rgb(28.507468700408936,226.49253129959106,226.49253129959106)'> [PAD]</span><span style='background-color:rgb(28.507468700408936,226.49253129959106,226.49253129959106)'> [PAD]</span><span style='background-color:rgb(28.507468700408936,226.49253129959106,226.49253129959106)'> [PAD]</span><span style='background-color:rgb(28.507468700408936,226.49253129959106,226.49253129959106)'> [PAD]</span><span style='background-color:rgb(28.507468700408936,226.49253129959106,226.49253129959106)'> [PAD]</span><span style='background-color:rgb(28.507468700408936,226.49253129959106,226.49253129959106)'> [PAD]</span><span style='background-color:rgb(28.507468700408936,226.49253129959106,226.49253129959106)'> [PAD]</span><span style='background-color:rgb(28.507468700408936,226.49253129959106,226.49253129959106)'> [PAD]</span><span style='background-color:rgb(30.173025727272034,224.82697427272797,224.82697427272797)'> [PAD]</span><span style='background-color:rgb(31.902343332767487,223.0976566672325,223.0976566672325)'> [PAD]</span><span style='background-color:rgb(32.589772045612335,222.41022795438766,222.41022795438766)'> [PAD]</span><span style='background-color:rgb(43.19874197244644,211.80125802755356,211.80125802755356)'> [PAD]</span><span style='background-color:rgb(42.84704804420471,212.1529519557953,212.1529519557953)'> [PAD]</span><span style='background-color:rgb(43.96434009075165,211.03565990924835,211.03565990924835)'> [PAD]</span><span style='background-color:rgb(54.342981576919556,200.65701842308044,200.65701842308044)'> [PAD]</span><span style='background-color:rgb(55.34396946430206,199.65603053569794,199.65603053569794)'> [PAD]</span><span style='background-color:rgb(61.27978295087814,193.72021704912186,193.72021704912186)'> [PAD]</span><span style='background-color:rgb(66.81255966424942,188.18744033575058,188.18744033575058)'> [PAD]</span><span style='background-color:rgb(68.08172196149826,186.91827803850174,186.91827803850174)'> [PAD]</span><span style='background-color:rgb(76.06925815343857,178.93074184656143,178.93074184656143)'> [PAD]</span><span style='background-color:rgb(77.48171836137772,177.51828163862228,177.51828163862228)'> [PAD]</span><span style='background-color:rgb(81.79343819618225,173.20656180381775,173.20656180381775)'> [PAD]</span><span style='background-color:rgb(81.29429697990417,173.70570302009583,173.70570302009583)'> [PAD]</span><span style='background-color:rgb(84.65708613395691,170.3429138660431,170.3429138660431)'> [PAD]</span><span style='background-color:rgb(86.36393934488297,168.63606065511703,168.63606065511703)'> [PAD]</span><span style='background-color:rgb(87.05095767974854,167.94904232025146,167.94904232025146)'> [PAD]</span><span style='background-color:rgb(98.29159051179886,156.70840948820114,156.70840948820114)'> [PAD]</span><span style='background-color:rgb(108.88153105974197,146.11846894025803,146.11846894025803)'> [PAD]</span><span style='background-color:rgb(110.56595027446747,144.43404972553253,144.43404972553253)'> [PAD]</span><span style='background-color:rgb(115.39892613887787,139.60107386112213,139.60107386112213)'> [PAD]</span><span style='background-color:rgb(119.44437146186829,135.5556285381317,135.5556285381317)'> [PAD]</span><span style='background-color:rgb(119.0378388762474,135.9621611237526,135.9621611237526)'> [PAD]</span><span style='background-color:rgb(118.65171879529953,136.34828120470047,136.34828120470047)'> [PAD]</span><span style='background-color:rgb(122.18802183866501,132.811978161335,132.811978161335)'> [PAD]</span><span style='background-color:rgb(127.87712216377258,127.12287783622742,127.12287783622742)'> [PAD]</span><span style='background-color:rgb(132.09413588047028,122.90586411952972,122.90586411952972)'> [PAD]</span><span style='background-color:rgb(131.70822098851204,123.29177901148796,123.29177901148796)'> [PAD]</span><span style='background-color:rgb(142.78557658195496,112.21442341804504,112.21442341804504)'> [PAD]</span><span style='background-color:rgb(145.7580202817917,109.24197971820831,109.24197971820831)'> [PAD]</span><span style='background-color:rgb(145.38764655590057,109.61235344409943,109.61235344409943)'> [PAD]</span><span style='background-color:rgb(147.46017694473267,107.53982305526733,107.53982305526733)'> [PAD]</span><span style='background-color:rgb(150.60817122459412,104.39182877540588,104.39182877540588)'> [PAD]</span><span style='background-color:rgb(149.59796503186226,105.40203496813774,105.40203496813774)'> [PAD]</span><span style='background-color:rgb(151.00825935602188,103.99174064397812,103.99174064397812)'> [PAD]</span><span style='background-color:rgb(150.9089858829975,104.09101411700249,104.09101411700249)'> [PAD]</span><span style='background-color:rgb(156.66658133268356,98.33341866731644,98.33341866731644)'> [PAD]</span><span style='background-color:rgb(160.8556665480137,94.14433345198631,94.14433345198631)'> [PAD]</span><span style='background-color:rgb(163.86039331555367,91.13960668444633,91.13960668444633)'> [PAD]</span><span style='background-color:rgb(165.89181751012802,89.10818248987198,89.10818248987198)'> [PAD]</span><span style='background-color:rgb(174.29807603359222,80.70192396640778,80.70192396640778)'> [PAD]</span><span style='background-color:rgb(181.31078213453293,73.68921786546707,73.68921786546707)'> [PAD]</span><span style='background-color:rgb(185.17715066671371,69.82284933328629,69.82284933328629)'> [PAD]</span><span style='background-color:rgb(192.46727228164673,62.53272771835327,62.53272771835327)'> [PAD]</span><span style='background-color:rgb(192.46727228164673,62.53272771835327,62.53272771835327)'> [PAD]</span><span style='background-color:rgb(192.56711192429066,62.43288807570934,62.43288807570934)'> [PAD]</span><span style='background-color:rgb(193.34369525313377,61.656304746866226,61.656304746866226)'> [PAD]</span><span style='background-color:rgb(195.52235014736652,59.477649852633476,59.477649852633476)'> [PAD]</span><span style='background-color:rgb(199.15968976914883,55.84031023085117,55.84031023085117)'> [PAD]</span><span style='background-color:rgb(206.67867690324783,48.32132309675217,48.32132309675217)'> [PAD]</span><span style='background-color:rgb(212.99743384122849,42.002566158771515,42.002566158771515)'> [PAD]</span><span style='background-color:rgb(211.413184851408,43.586815148591995,43.586815148591995)'> [PAD]</span><span style='background-color:rgb(222.15484745800495,32.84515254199505,32.84515254199505)'> [PAD]</span><span style='background-color:rgb(226.26409325748682,28.73590674251318,28.73590674251318)'> [PAD]</span><span style='background-color:rgb(231.33013151586056,23.669868484139442,23.669868484139442)'> [PAD]</span><span style='background-color:rgb(237.52658251672983,17.47341748327017,17.47341748327017)'> [PAD]</span><span style='background-color:rgb(234.2818435281515,20.718156471848488,20.718156471848488)'> [PAD]</span><span style='background-color:rgb(238.55825375765562,16.44174624234438,16.44174624234438)'> [PAD]</span><span style='background-color:rgb(240.70918913930655,14.290810860693455,14.290810860693455)'> [PAD]</span><span style='background-color:rgb(243.1184745579958,11.881525442004204,11.881525442004204)'> [PAD]</span><span style='background-color:rgb(241.49109598249197,13.50890401750803,13.50890401750803)'> [PAD]</span><span style='background-color:rgb(239.1206482797861,15.87935172021389,15.87935172021389)'> [PAD]</span><span style='background-color:rgb(236.94165900349617,18.05834099650383,18.05834099650383)'> [PAD]</span><span style='background-color:rgb(236.94165900349617,18.05834099650383,18.05834099650383)'> [PAD]</span><span style='background-color:rgb(236.94165900349617,18.05834099650383,18.05834099650383)'> [PAD]</span><span style='background-color:rgb(236.94165900349617,18.05834099650383,18.05834099650383)'> [PAD]</span><span style='background-color:rgb(236.94165900349617,18.05834099650383,18.05834099650383)'> [PAD]</span><span style='background-color:rgb(236.94165900349617,18.05834099650383,18.05834099650383)'> [PAD]</span><span style='background-color:rgb(236.94165900349617,18.05834099650383,18.05834099650383)'> [PAD]</span><span style='background-color:rgb(236.94165900349617,18.05834099650383,18.05834099650383)'> [PAD]</span><span style='background-color:rgb(236.94165900349617,18.05834099650383,18.05834099650383)'> [PAD]</span><span style='background-color:rgb(245.8903089724481,9.10969102755189,9.10969102755189)'> [PAD]</span><span style='background-color:rgb(246.3399511948228,8.660048805177212,8.660048805177212)'> [PAD]</span> [PAD]<span style='background-color:rgb(248.46189935691655,6.538100643083453,6.538100643083453)'> [PAD]</span><span style='background-color:rgb(248.68643785826862,6.313562141731381,6.313562141731381)'> [PAD]</span><span style='background-color:rgb(248.68643785826862,6.313562141731381,6.313562141731381)'> [PAD]</span><span style='background-color:rgb(248.32894686609507,6.671053133904934,6.671053133904934)'> [PAD]</span><span style='background-color:rgb(248.68084693327546,6.319153066724539,6.319153066724539)'> [PAD]</span><span style='background-color:rgb(241.96260318160057,13.03739681839943,13.03739681839943)'> [PAD]</span><span style='background-color:rgb(243.6968757212162,11.303124278783798,11.303124278783798)'> [PAD]</span><span style='background-color:rgb(243.92524156719446,11.074758432805538,11.074758432805538)'> [PAD]</span><span style='background-color:rgb(243.14786028116941,11.852139718830585,11.852139718830585)'> [PAD]</span><span style='background-color:rgb(245.51907364279032,9.480926357209682,9.480926357209682)'> [PAD]</span><span style='background-color:rgb(243.37163312360644,11.628366876393557,11.628366876393557)'> [PAD]</span><span style='background-color:rgb(243.6532132141292,11.34678678587079,11.34678678587079)'> [PAD]</span><span style='background-color:rgb(242.38465603441,12.61534396559,12.61534396559)'> [PAD]</span><span style='background-color:rgb(246.19558364152908,8.804416358470917,8.804416358470917)'> [PAD]</span><span style='background-color:rgb(248.3747396338731,6.625260366126895,6.625260366126895)'> [PAD]</span><span style='background-color:rgb(244.70112478360534,10.298875216394663,10.298875216394663)'> [PAD]</span><span style='background-color:rgb(240.34427667036653,14.655723329633474,14.655723329633474)'> [PAD]</span><span style='background-color:rgb(240.16889233142138,14.831107668578625,14.831107668578625)'> [PAD]</span><span style='background-color:rgb(235.80146178603172,19.198538213968277,19.198538213968277)'> [PAD]</span><span style='background-color:rgb(235.97890846431255,19.021091535687447,19.021091535687447)'> [PAD]</span><span style='background-color:rgb(239.95377257466316,15.046227425336838,15.046227425336838)'> [PAD]</span><span style='background-color:rgb(242.46070040389895,12.539299596101046,12.539299596101046)'> [PAD]</span><span style='background-color:rgb(238.49142864346504,16.508571356534958,16.508571356534958)'> [PAD]</span><span style='background-color:rgb(234.79115679860115,20.20884320139885,20.20884320139885)'> [PAD]</span><span style='background-color:rgb(238.99168889969587,16.008311100304127,16.008311100304127)'> [PAD]</span><span style='background-color:rgb(240.51986049860716,14.480139501392841,14.480139501392841)'> [PAD]</span><span style='background-color:rgb(232.5617480278015,22.438251972198486,22.438251972198486)'> [PAD]</span><span style='background-color:rgb(231.38510886579752,23.61489113420248,23.61489113420248)'> [PAD]</span><span style='background-color:rgb(231.36873554438353,23.631264455616474,23.631264455616474)'> [PAD]</span><span style='background-color:rgb(238.75077802687883,16.249221973121166,16.249221973121166)'> [PAD]</span><span style='background-color:rgb(244.31727603077888,10.682723969221115,10.682723969221115)'> [PAD]</span><span style='background-color:rgb(246.9949296489358,8.005070351064205,8.005070351064205)'> [PAD]</span><span style='background-color:rgb(245.28208890929818,9.717911090701818,9.717911090701818)'> [PAD]</span><span style='background-color:rgb(247.557422965765,7.442577034235001,7.442577034235001)'> [PAD]</span><span style='background-color:rgb(249.73667917773128,5.263320822268724,5.263320822268724)'> [PAD]</span><span style='background-color:rgb(247.58893894962966,7.411061050370336,7.411061050370336)'> [PAD]</span><span style='background-color:rgb(249.92986793629825,5.070132063701749,5.070132063701749)'> [PAD]</span><span style='background-color:rgb(251.8863827129826,3.113617287017405,3.113617287017405)'> [PAD]</span><span style='background-color:rgb(245.53621262311935,9.463787376880646,9.463787376880646)'> [PAD]</span><span style='background-color:rgb(251.5135500440374,3.4864499559625983,3.4864499559625983)'> [PAD]</span><span style='background-color:rgb(249.58359251730144,5.41640748269856,5.41640748269856)'> [PAD]</span><span style='background-color:rgb(244.18535565957427,10.81464434042573,10.81464434042573)'> [PAD]</span><span style='background-color:rgb(244.21913489699364,10.780865103006363,10.780865103006363)'> [PAD]</span><span style='background-color:rgb(244.21913489699364,10.780865103006363,10.780865103006363)'> [PAD]</span><span style='background-color:rgb(247.64258589595556,7.357414104044437,7.357414104044437)'> [PAD]</span><span style='background-color:rgb(244.214309155941,10.78569084405899,10.78569084405899)'> [PAD]</span><span style='background-color:rgb(240.50634937360883,14.493650626391172,14.493650626391172)'> [PAD]</span><span style='background-color:rgb(236.17559161037207,18.824408389627934,18.824408389627934)'> [PAD]</span><span style='background-color:rgb(235.51625479012728,19.483745209872723,19.483745209872723)'> [PAD]</span><span style='background-color:rgb(243.42963986098766,11.570360139012337,11.570360139012337)'> [PAD]</span><span style='background-color:rgb(242.73203054443002,12.267969455569983,12.267969455569983)'> [PAD]</span><span style='background-color:rgb(240.55353999137878,14.446460008621216,14.446460008621216)'> [PAD]</span><span style='background-color:rgb(244.83823662623763,10.16176337376237,10.16176337376237)'> [PAD]</span><span style='background-color:rgb(247.51046556048095,7.489534439519048,7.489534439519048)'> [PAD]</span><span style='background-color:rgb(247.51046556048095,7.489534439519048,7.489534439519048)'> [PAD]</span><span style='background-color:rgb(245.87057378143072,9.129426218569279,9.129426218569279)'> [PAD]</span><span style='background-color:rgb(245.62370482832193,9.376295171678066,9.376295171678066)'> [PAD]</span><span style='background-color:rgb(243.44514777883887,11.554852221161127,11.554852221161127)'> [PAD]</span><span style='background-color:rgb(238.9019339159131,16.098066084086895,16.098066084086895)'> [PAD]</span><span style='background-color:rgb(239.2381921224296,15.76180787757039,15.76180787757039)'> [PAD]</span><span style='background-color:rgb(239.24191972240806,15.758080277591944,15.758080277591944)'> [PAD]</span><span style='background-color:rgb(239.24191972240806,15.758080277591944,15.758080277591944)'> [PAD]</span><span style='background-color:rgb(239.24191972240806,15.758080277591944,15.758080277591944)'> [PAD]</span><span style='background-color:rgb(239.24191972240806,15.758080277591944,15.758080277591944)'> [PAD]</span><span style='background-color:rgb(239.24191972240806,15.758080277591944,15.758080277591944)'> [PAD]</span><span style='background-color:rgb(239.24191972240806,15.758080277591944,15.758080277591944)'> [PAD]</span><span style='background-color:rgb(239.24191972240806,15.758080277591944,15.758080277591944)'> [PAD]</span><span style='background-color:rgb(239.24191972240806,15.758080277591944,15.758080277591944)'> [PAD]</span>"
      ],
      "text/plain": [
       "<IPython.core.display.Markdown object>"
      ]
     },
     "metadata": {},
     "output_type": "display_data"
    }
   ],
   "source": [
    "from IPython.display import Markdown, display\n",
    "def printmd(string):\n",
    "    display(Markdown(string))\n",
    "\n",
    "def show_attrs(tokens, masks, normalize=True):\n",
    "    if normalize:\n",
    "        masks_max = masks.max(-1).values\n",
    "        masks_min = masks.min(-1).values\n",
    "        # import pdb; pdb.set_trace()\n",
    "        masks = (masks - masks_min) / (masks_max - masks_min)\n",
    "    print_str = \"\"\n",
    "    for i in range(len(tokens)):\n",
    "        expln_val = masks[i].item()\n",
    "        if expln_val == 0:\n",
    "            print_str += f\" {tokens[i]}\"\n",
    "        else:\n",
    "            print_str += f\"<span style='background-color:rgb({255 * (1-expln_val)},{255 * expln_val},{255 * expln_val})'> {tokens[i]}</span>\"\n",
    "    return print_str\n",
    "\n",
    "tokens = processor.convert_ids_to_tokens(inputs[0])\n",
    "# tokens = shap_expln.explainer_output.data[0]\n",
    "printmd(show_attrs(tokens, rise_expln.attributions[0]))"
   ]
  },
  {
   "cell_type": "code",
   "execution_count": 87,
   "id": "a88c9301-faae-4c71-a0ef-f08cd42c670c",
   "metadata": {
    "tags": []
   },
   "outputs": [
    {
     "data": {
      "text/plain": [
       "tensor([143.8457, 143.8457, 143.8457, 143.8457, 143.8457, 143.8457, 143.8457,\n",
       "        143.8457, 143.8457, 143.7377, 143.9612, 143.1321, 143.2646, 143.1600,\n",
       "        142.5935, 144.5916, 144.7318, 143.5122, 145.8715, 145.9230, 142.8716,\n",
       "        145.6129, 146.7980, 146.8977, 147.3217, 147.7874, 148.5657, 148.7686,\n",
       "        150.7664, 151.6030, 151.4199, 151.7917, 149.9019, 150.1675, 149.8063,\n",
       "        149.1363, 149.1290, 149.0445, 153.3457, 152.1779, 151.1791, 154.8050,\n",
       "        155.1800, 155.5230, 156.8745, 156.8290, 155.1501, 154.0721, 155.3260,\n",
       "        154.5323, 156.3637, 159.0486, 157.8299, 159.3602, 160.3593, 158.5566,\n",
       "        157.3667, 157.4178, 156.3882, 153.9164, 154.0369, 153.3644, 150.9707,\n",
       "        149.9720, 153.0543, 152.7269, 151.2212, 153.4665, 154.4657, 152.5734,\n",
       "        149.5909, 149.6595, 149.8358, 149.8358, 149.8358, 149.8358, 149.8358,\n",
       "        149.8358, 149.8358, 149.8358, 149.8358, 148.8377, 150.0430, 150.4264,\n",
       "        150.4249, 150.6325, 150.5783, 150.6839, 148.8859, 149.3025, 146.4098,\n",
       "        146.6707, 148.8409, 149.8401, 147.4532, 147.4532, 147.4468, 145.7732,\n",
       "        146.8109, 145.6352], device='cuda:0')"
      ]
     },
     "execution_count": 87,
     "metadata": {},
     "output_type": "execute_result"
    }
   ],
   "source": [
    "rise_expln.attributions[0][:100]"
   ]
  },
  {
   "cell_type": "code",
   "execution_count": 89,
   "id": "ad3ec209-396b-4184-8b7c-07bdca510db7",
   "metadata": {
    "tags": []
   },
   "outputs": [
    {
     "data": {
      "text/plain": [
       "torch.Size([2, 2, 512])"
      ]
     },
     "execution_count": 89,
     "metadata": {},
     "output_type": "execute_result"
    }
   ],
   "source": [
    "rise_expln.explainer_output.shape"
   ]
  },
  {
   "cell_type": "code",
   "execution_count": 90,
   "id": "cd119005-60f7-47ad-885e-91c03482ee18",
   "metadata": {
    "tags": []
   },
   "outputs": [
    {
     "data": {
      "text/plain": [
       "tensor([[[143.8457, 143.8457, 143.8457,  ..., 143.6499, 143.6499, 143.6499],\n",
       "         [108.1543, 108.1543, 108.1543,  ..., 105.3501, 105.3501, 105.3501]],\n",
       "\n",
       "        [[143.6210, 143.6210, 143.6210,  ..., 143.3065, 143.3065, 143.3065],\n",
       "         [108.3790, 108.3790, 108.3790,  ..., 105.6935, 105.6935, 105.6935]]],\n",
       "       device='cuda:0')"
      ]
     },
     "execution_count": 90,
     "metadata": {},
     "output_type": "execute_result"
    }
   ],
   "source": [
    "rise_expln.explainer_output"
   ]
  },
  {
   "cell_type": "code",
   "execution_count": 92,
   "id": "2c577c87-487a-49a0-9977-0f8a215162ca",
   "metadata": {
    "tags": []
   },
   "outputs": [
    {
     "data": {
      "text/plain": [
       "tensor(0, device='cuda:0')"
      ]
     },
     "execution_count": 92,
     "metadata": {},
     "output_type": "execute_result"
    }
   ],
   "source": [
    "j = 0\n",
    "grouped_attrs_aggr = rise_expln.explainer_output[j].mean(-1)\n",
    "aggr_pred = torch.argmax(grouped_attrs_aggr)\n",
    "aggr_pred"
   ]
  },
  {
   "cell_type": "markdown",
   "id": "fa30b203-559a-48bc-88bc-9ae38cf174a4",
   "metadata": {
    "tags": []
   },
   "source": [
    "## IntGrad"
   ]
  },
  {
   "cell_type": "code",
   "execution_count": 79,
   "id": "9acfb637-e270-4cb2-a6f3-2030a55f24d4",
   "metadata": {
    "tags": []
   },
   "outputs": [],
   "source": [
    "from exlib.explainers.common import *\n",
    "\n",
    "def explain_text_cls_with_intgrad(model, x, label,\n",
    "                             x0 = None,\n",
    "                             num_steps = 32,\n",
    "                             progress_bar = False,\n",
    "                             x_kwargs = {},\n",
    "                             mask_combine=None):\n",
    "    \"\"\"\n",
    "    Explain a classification model with Integrated Gradients.\n",
    "    \"\"\"\n",
    "    assert x.size(0) == len(label)\n",
    "\n",
    "    # Default baseline is zeros\n",
    "    x0 = torch.zeros_like(x) if x0 is None else x0\n",
    "\n",
    "    step_size = 1 / num_steps\n",
    "    intg = torch.zeros_like(x).float()\n",
    "\n",
    "    pbar = tqdm(range(num_steps)) if progress_bar else range(num_steps)\n",
    "    for k in pbar:\n",
    "        ak = k * step_size\n",
    "        \n",
    "        if mask_combine:\n",
    "            mask = ak * torch.ones_like(x[0]).float()\n",
    "            xk = mask_combine(x, mask).squeeze(1)\n",
    "            xk.requires_grad_()\n",
    "            y = model(inputs_embeds=xk, **x_kwargs)\n",
    "        else:\n",
    "            # xk = x0 + ak * (x - x0)\n",
    "            if ak >= 0.5:\n",
    "                xk = x\n",
    "            else:\n",
    "                xk = x0\n",
    "            import pdb; pdb.set_trace()\n",
    "            xk.requires_grad_()\n",
    "            y = model(xk, **x_kwargs)\n",
    "\n",
    "        loss = 0.0\n",
    "        for i, l in enumerate(label):\n",
    "            loss += y[i, l]\n",
    "\n",
    "        loss.backward()\n",
    "        if mask_combine is not None:\n",
    "            intg += xk.grad.sum(-1) * step_size\n",
    "        else:\n",
    "            intg += xk.grad * step_size\n",
    "\n",
    "    return FeatureAttrOutput(intg, {})\n",
    "\n",
    "\n",
    "class IntGradTextCls(FeatureAttrMethod):\n",
    "    \"\"\" Image classification with integrated gradients\n",
    "    \"\"\"\n",
    "    def __init__(self, model, mask_combine='default', projection_layer=None):\n",
    "        super().__init__(model)\n",
    "        if mask_combine == 'default':\n",
    "            def mask_combine(inputs, masks):\n",
    "                with torch.no_grad():\n",
    "                    inputs_embed = projection_layer(inputs)\n",
    "                    mask_embed = projection_layer(torch.tensor([0]).int().to(inputs.device))\n",
    "                    masked_inputs_embeds = inputs_embed.unsqueeze(1) * masks.unsqueeze(-1) + \\\n",
    "                            mask_embed.view(1,1,1,-1) * (1 - masks.unsqueeze(-1))\n",
    "                return masked_inputs_embeds\n",
    "        self.mask_combine = mask_combine\n",
    "\n",
    "    def forward(self, x, t, **kwargs):\n",
    "        if not isinstance(t, torch.Tensor):\n",
    "            t = torch.tensor(t)\n",
    "\n",
    "        with torch.enable_grad():\n",
    "            return explain_text_cls_with_intgrad(self.model, x, t, \n",
    "                                                 mask_combine=self.mask_combine,\n",
    "                                                 **kwargs)"
   ]
  },
  {
   "cell_type": "code",
   "execution_count": 80,
   "id": "4be7e361-6270-49e5-9953-956de6da892b",
   "metadata": {
    "tags": []
   },
   "outputs": [],
   "source": [
    "from exlib.explainers.intgrad import IntGradTextCls\n",
    "\n",
    "intgrad_explainer = IntGradTextCls(original_model2, projection_layer=projection_layer).to(device)\n",
    "intgrad_expln = intgrad_explainer(inputs, labels, x_kwargs=kwargs)"
   ]
  },
  {
   "cell_type": "code",
   "execution_count": 81,
   "id": "589e38b5-2328-46aa-ae15-4dc541f16116",
   "metadata": {
    "tags": []
   },
   "outputs": [
    {
     "data": {
      "text/plain": [
       "torch.Size([2, 512])"
      ]
     },
     "execution_count": 81,
     "metadata": {},
     "output_type": "execute_result"
    }
   ],
   "source": [
    "intgrad_expln.attributions.shape"
   ]
  },
  {
   "cell_type": "code",
   "execution_count": 82,
   "id": "571254c8-7ba4-45de-8250-029f2e4fcaf6",
   "metadata": {
    "tags": []
   },
   "outputs": [
    {
     "data": {
      "text/markdown": [
       "<span style='background-color:rgb(144.50095653533936,110.49904346466064,110.49904346466064)'> [CLS]</span><span style='background-color:rgb(132.0989692211151,122.90103077888489,122.90103077888489)'> allan</span><span style='background-color:rgb(134.04495880007744,120.95504119992256,120.95504119992256)'> sat</span><span style='background-color:rgb(136.14323660731316,118.85676339268684,118.85676339268684)'> down</span><span style='background-color:rgb(137.06120654940605,117.93879345059395,117.93879345059395)'> at</span><span style='background-color:rgb(130.0081466138363,124.99185338616371,124.99185338616371)'> his</span><span style='background-color:rgb(133.96893247961998,121.03106752038002,121.03106752038002)'> desk</span><span style='background-color:rgb(129.3670678138733,125.63293218612671,125.63293218612671)'> and</span><span style='background-color:rgb(132.7328284084797,122.26717159152031,122.26717159152031)'> pulled</span><span style='background-color:rgb(134.1080506145954,120.89194938540459,120.89194938540459)'> the</span><span style='background-color:rgb(133.95312532782555,121.04687467217445,121.04687467217445)'> chair</span><span style='background-color:rgb(133.92766669392586,121.07233330607414,121.07233330607414)'> in</span><span style='background-color:rgb(133.9499182999134,121.0500817000866,121.0500817000866)'> close</span><span style='background-color:rgb(131.36246994137764,123.63753005862236,123.63753005862236)'> .</span><span style='background-color:rgb(132.32935085892677,122.67064914107323,122.67064914107323)'> opening</span><span style='background-color:rgb(134.33515682816505,120.66484317183495,120.66484317183495)'> a</span><span style='background-color:rgb(132.4335716664791,122.56642833352089,122.56642833352089)'> side</span><span style='background-color:rgb(128.74072462320328,126.25927537679672,126.25927537679672)'> drawer</span><span style='background-color:rgb(129.97862979769707,125.02137020230293,125.02137020230293)'> ,</span><span style='background-color:rgb(132.79221922159195,122.20778077840805,122.20778077840805)'> he</span><span style='background-color:rgb(131.6463679075241,123.35363209247589,123.35363209247589)'> took</span><span style='background-color:rgb(130.3556987643242,124.64430123567581,124.64430123567581)'> out</span><span style='background-color:rgb(129.25416067242622,125.74583932757378,125.74583932757378)'> a</span><span style='background-color:rgb(134.20214876532555,120.79785123467445,120.79785123467445)'> piece</span><span style='background-color:rgb(129.80765417218208,125.19234582781792,125.19234582781792)'> of</span><span style='background-color:rgb(132.20857053995132,122.79142946004868,122.79142946004868)'> paper</span><span style='background-color:rgb(135.06886705756187,119.93113294243813,119.93113294243813)'> and</span><span style='background-color:rgb(133.08496311306953,121.91503688693047,121.91503688693047)'> his</span><span style='background-color:rgb(133.75678226351738,121.24321773648262,121.24321773648262)'> ink</span><span style='background-color:rgb(133.7756596505642,121.2243403494358,121.2243403494358)'> ##pot</span><span style='background-color:rgb(134.6235689520836,120.37643104791641,120.37643104791641)'> .</span><span style='background-color:rgb(135.5117864906788,119.48821350932121,119.48821350932121)'> after</span><span style='background-color:rgb(132.23716020584106,122.76283979415894,122.76283979415894)'> filling</span><span style='background-color:rgb(134.2694203555584,120.7305796444416,120.7305796444416)'> his</span><span style='background-color:rgb(130.6332890689373,124.3667109310627,124.3667109310627)'> pen</span><span style='background-color:rgb(130.93391373753548,124.06608626246452,124.06608626246452)'> ,</span><span style='background-color:rgb(133.3642253279686,121.6357746720314,121.6357746720314)'> allan</span><span style='background-color:rgb(130.6434117257595,124.3565882742405,124.3565882742405)'> looked</span><span style='background-color:rgb(132.90014103055,122.09985896945,122.09985896945)'> at</span><span style='background-color:rgb(135.57951405644417,119.42048594355583,119.42048594355583)'> his</span><span style='background-color:rgb(133.40020939707756,121.59979060292244,121.59979060292244)'> paper</span><span style='background-color:rgb(131.76960289478302,123.23039710521698,123.23039710521698)'> in</span><span style='background-color:rgb(133.53413701057434,121.46586298942566,121.46586298942566)'> the</span><span style='background-color:rgb(132.54353016614914,122.45646983385086,122.45646983385086)'> orange</span><span style='background-color:rgb(131.68466985225677,123.31533014774323,123.31533014774323)'> glow</span><span style='background-color:rgb(131.87836065888405,123.12163934111595,123.12163934111595)'> from</span><span style='background-color:rgb(136.04892566800117,118.95107433199883,118.95107433199883)'> the</span><span style='background-color:rgb(129.82375010848045,125.17624989151955,125.17624989151955)'> lantern</span><span style='background-color:rgb(132.27803081274033,122.72196918725967,122.72196918725967)'> set</span><span style='background-color:rgb(131.9969978928566,123.0030021071434,123.0030021071434)'> back</span><span style='background-color:rgb(131.11679032444954,123.88320967555046,123.88320967555046)'> in</span><span style='background-color:rgb(130.8625991642475,124.13740083575249,124.13740083575249)'> the</span><span style='background-color:rgb(131.66409015655518,123.33590984344482,123.33590984344482)'> desk</span><span style='background-color:rgb(133.6851941049099,121.3148058950901,121.3148058950901)'> '</span><span style='background-color:rgb(135.07064536213875,119.92935463786125,119.92935463786125)'> s</span><span style='background-color:rgb(128.94370213150978,126.05629786849022,126.05629786849022)'> right</span><span style='background-color:rgb(130.16802683472633,124.83197316527367,124.83197316527367)'> -</span><span style='background-color:rgb(132.1432976424694,122.8567023575306,122.8567023575306)'> hand</span><span style='background-color:rgb(131.40995979309082,123.59004020690918,123.59004020690918)'> corner</span><span style='background-color:rgb(136.63932278752327,118.36067721247673,118.36067721247673)'> .</span><span style='background-color:rgb(130.72190031409264,124.27809968590736,124.27809968590736)'> his</span><span style='background-color:rgb(132.33286947011948,122.66713052988052,122.66713052988052)'> pen</span><span style='background-color:rgb(128.76153230667114,126.23846769332886,126.23846769332886)'> cast</span><span style='background-color:rgb(126.10863626003265,128.89136373996735,128.89136373996735)'> a</span><span style='background-color:rgb(133.6700101196766,121.32998988032341,121.32998988032341)'> forbid</span><span style='background-color:rgb(131.6218440234661,123.37815597653389,123.37815597653389)'> ##ding</span><span style='background-color:rgb(134.3740439414978,120.6259560585022,120.6259560585022)'> line</span><span style='background-color:rgb(132.88569420576096,122.11430579423904,122.11430579423904)'> of</span><span style='background-color:rgb(133.07834386825562,121.92165613174438,121.92165613174438)'> shadow</span><span style='background-color:rgb(132.71240070462227,122.28759929537773,122.28759929537773)'> slant</span><span style='background-color:rgb(132.42502212524414,122.57497787475586,122.57497787475586)'> ##ing</span><span style='background-color:rgb(131.60954028367996,123.39045971632004,123.39045971632004)'> across</span><span style='background-color:rgb(141.18972301483154,113.81027698516846,113.81027698516846)'> the</span><span style='background-color:rgb(136.10852167010307,118.89147832989693,118.89147832989693)'> page</span><span style='background-color:rgb(132.42572888731956,122.57427111268044,122.57427111268044)'> ,</span><span style='background-color:rgb(132.40804463624954,122.59195536375046,122.59195536375046)'> echoing</span><span style='background-color:rgb(131.8108230829239,123.18917691707611,123.18917691707611)'> the</span><span style='background-color:rgb(130.5015653371811,124.49843466281891,124.49843466281891)'> ink</span><span style='background-color:rgb(133.0512437224388,121.94875627756119,121.94875627756119)'> ##y</span><span style='background-color:rgb(135.38370296359062,119.61629703640938,119.61629703640938)'> darkness</span><span style='background-color:rgb(131.84945940971375,123.15054059028625,123.15054059028625)'> crouch</span><span style='background-color:rgb(132.49707385897636,122.50292614102364,122.50292614102364)'> ##ing</span><span style='background-color:rgb(134.95611190795898,120.04388809204102,120.04388809204102)'> in</span><span style='background-color:rgb(130.02491131424904,124.97508868575096,124.97508868575096)'> the</span><span style='background-color:rgb(132.95976743102074,122.04023256897926,122.04023256897926)'> edges</span><span style='background-color:rgb(132.78088063001633,122.21911936998367,122.21911936998367)'> of</span><span style='background-color:rgb(131.76053658127785,123.23946341872215,123.23946341872215)'> the</span><span style='background-color:rgb(132.2156685590744,122.7843314409256,122.7843314409256)'> lantern</span><span style='background-color:rgb(131.87594398856163,123.12405601143837,123.12405601143837)'> '</span><span style='background-color:rgb(129.80236485600471,125.19763514399529,125.19763514399529)'> s</span><span style='background-color:rgb(135.6096464395523,119.39035356044769,119.39035356044769)'> struggling</span><span style='background-color:rgb(132.6569464802742,122.3430535197258,122.3430535197258)'> glow</span><span style='background-color:rgb(132.46335446834564,122.53664553165436,122.53664553165436)'> .</span><span style='background-color:rgb(134.61318790912628,120.38681209087372,120.38681209087372)'> the</span><span style='background-color:rgb(132.7177508175373,122.28224918246269,122.28224918246269)'> only</span><span style='background-color:rgb(134.28724139928818,120.71275860071182,120.71275860071182)'> other</span><span style='background-color:rgb(130.28572171926498,124.71427828073502,124.71427828073502)'> illumination</span><span style='background-color:rgb(131.0872583091259,123.9127416908741,123.9127416908741)'> came</span><span style='background-color:rgb(133.99908006191254,121.00091993808746,121.00091993808746)'> from</span><span style='background-color:rgb(130.3141137957573,124.6858862042427,124.6858862042427)'> a</span><span style='background-color:rgb(132.40248173475266,122.59751826524734,122.59751826524734)'> lu</span><span style='background-color:rgb(126.8193045258522,128.1806954741478,128.1806954741478)'> ##rid</span><span style='background-color:rgb(128.57219606637955,126.42780393362045,126.42780393362045)'> moonlight</span><span style='background-color:rgb(130.96448689699173,124.03551310300827,124.03551310300827)'> filtered</span><span style='background-color:rgb(129.19280156493187,125.80719843506813,125.80719843506813)'> through</span><span style='background-color:rgb(137.8474147617817,117.15258523821831,117.15258523821831)'> thin</span><span style='background-color:rgb(133.92716512084007,121.07283487915993,121.07283487915993)'> branches</span><span style='background-color:rgb(137.64791786670685,117.35208213329315,117.35208213329315)'> and</span><span style='background-color:rgb(133.43407317996025,121.56592682003975,121.56592682003975)'> clouds</span><span style='background-color:rgb(137.60823279619217,117.39176720380783,117.39176720380783)'> ,</span><span style='background-color:rgb(132.9293918609619,122.07060813903809,122.07060813903809)'> casting</span><span style='background-color:rgb(130.53174331784248,124.46825668215752,124.46825668215752)'> its</span><span style='background-color:rgb(133.6068271100521,121.39317288994789,121.39317288994789)'> bone</span><span style='background-color:rgb(132.138152718544,122.861847281456,122.861847281456)'> -</span><span style='background-color:rgb(134.43108648061752,120.56891351938248,120.56891351938248)'> pale</span><span style='background-color:rgb(129.45682659745216,125.54317340254784,125.54317340254784)'> glow</span><span style='background-color:rgb(134.9840708076954,120.01592919230461,120.01592919230461)'> onto</span><span style='background-color:rgb(131.62857726216316,123.37142273783684,123.37142273783684)'> the</span><span style='background-color:rgb(133.55128929018974,121.44871070981026,121.44871070981026)'> pine</span><span style='background-color:rgb(131.5256331861019,123.47436681389809,123.47436681389809)'> floor</span><span style='background-color:rgb(132.15037286281586,122.84962713718414,122.84962713718414)'> ##boards</span><span style='background-color:rgb(135.9889116883278,119.01108831167221,119.01108831167221)'> .</span><span style='background-color:rgb(129.24618110060692,125.75381889939308,125.75381889939308)'> allan</span><span style='background-color:rgb(131.47058174014091,123.52941825985909,123.52941825985909)'> unfolded</span><span style='background-color:rgb(128.6462540924549,126.35374590754509,126.35374590754509)'> another</span><span style='background-color:rgb(131.8999207019806,123.10007929801941,123.10007929801941)'> page</span><span style='background-color:rgb(131.53143927454948,123.46856072545052,123.46856072545052)'> ,</span><span style='background-color:rgb(131.39980673789978,123.60019326210022,123.60019326210022)'> this</span><span style='background-color:rgb(136.1343678832054,118.86563211679459,118.86563211679459)'> one</span><span style='background-color:rgb(131.1370812356472,123.8629187643528,123.8629187643528)'> crowded</span><span style='background-color:rgb(131.82556629180908,123.17443370819092,123.17443370819092)'> with</span><span style='background-color:rgb(132.96952530741692,122.03047469258308,122.03047469258308)'> ranks</span><span style='background-color:rgb(139.12917718291283,115.87082281708717,115.87082281708717)'> of</span><span style='background-color:rgb(138.56072008609772,116.43927991390228,116.43927991390228)'> letters</span><span style='background-color:rgb(128.0450503528118,126.95494964718819,126.95494964718819)'> in</span><span style='background-color:rgb(130.51590576767921,124.48409423232079,124.48409423232079)'> tight</span><span style='background-color:rgb(131.5129266679287,123.4870733320713,123.4870733320713)'> formation</span><span style='background-color:rgb(129.54650178551674,125.45349821448326,125.45349821448326)'> from</span><span style='background-color:rgb(137.9438155889511,117.05618441104889,117.05618441104889)'> left</span><span style='background-color:rgb(136.49572849273682,118.50427150726318,118.50427150726318)'> to</span><span style='background-color:rgb(131.42978712916374,123.57021287083626,123.57021287083626)'> right</span><span style='background-color:rgb(130.02261623740196,124.97738376259804,124.97738376259804)'> .</span><span style='background-color:rgb(129.44893062114716,125.55106937885284,125.55106937885284)'> the</span><span style='background-color:rgb(127.09307223558426,127.90692776441574,127.90692776441574)'> lines</span><span style='background-color:rgb(125.79323798418045,129.20676201581955,129.20676201581955)'> of</span><span style='background-color:rgb(132.68273949623108,122.31726050376892,122.31726050376892)'> letters</span><span style='background-color:rgb(132.40582555532455,122.59417444467545,122.59417444467545)'> stepped</span><span style='background-color:rgb(130.1944962143898,124.8055037856102,124.8055037856102)'> into</span><span style='background-color:rgb(144.69441175460815,110.30558824539185,110.30558824539185)'> their</span><span style='background-color:rgb(125.81538319587708,129.18461680412292,129.18461680412292)'> divisions</span><span style='background-color:rgb(125.71724206209183,129.28275793790817,129.28275793790817)'> ,</span><span style='background-color:rgb(129.50560837984085,125.49439162015915,125.49439162015915)'> in</span><span style='background-color:rgb(134.69764977693558,120.30235022306442,120.30235022306442)'> the</span><span style='background-color:rgb(129.68232169747353,125.31767830252647,125.31767830252647)'> shape</span><span style='background-color:rgb(136.04170605540276,118.95829394459724,118.95829394459724)'> of</span><span style='background-color:rgb(136.11183509230614,118.88816490769386,118.88816490769386)'> a</span><span style='background-color:rgb(133.04527804255486,121.95472195744514,121.95472195744514)'> story</span><span style='background-color:rgb(132.5428006052971,122.45719939470291,122.45719939470291)'> '</span><span style='background-color:rgb(134.25273925065994,120.74726074934006,120.74726074934006)'> s</span><span style='background-color:rgb(128.6859391629696,126.31406083703041,126.31406083703041)'> outline</span><span style='background-color:rgb(132.9425923526287,122.05740764737129,122.05740764737129)'> :</span><span style='background-color:rgb(138.39187234640121,116.60812765359879,116.60812765359879)'> the</span><span style='background-color:rgb(132.04907029867172,122.95092970132828,122.95092970132828)'> loose</span><span style='background-color:rgb(133.3613982796669,121.6386017203331,121.6386017203331)'> ,</span><span style='background-color:rgb(134.5080779492855,120.49192205071449,120.49192205071449)'> dry</span><span style='background-color:rgb(132.22130745649338,122.77869254350662,122.77869254350662)'> skeleton</span><span style='background-color:rgb(126.33010357618332,128.66989642381668,128.66989642381668)'> of</span><span style='background-color:rgb(134.90585580468178,120.09414419531822,120.09414419531822)'> a</span><span style='background-color:rgb(125.69261938333511,129.3073806166649,129.3073806166649)'> tale</span><span style='background-color:rgb(135.72417229413986,119.27582770586014,119.27582770586014)'> lay</span><span style='background-color:rgb(131.8586777150631,123.1413222849369,123.1413222849369)'> exposed</span><span style='background-color:rgb(129.77450475096703,125.22549524903297,125.22549524903297)'> beneath</span><span style='background-color:rgb(130.80403670668602,124.19596329331398,124.19596329331398)'> their</span><span style='background-color:rgb(131.655533015728,123.344466984272,123.344466984272)'> feet</span><span style='background-color:rgb(137.13094800710678,117.86905199289322,117.86905199289322)'> ,</span><span style='background-color:rgb(128.24213057756424,126.75786942243576,126.75786942243576)'> awaiting</span><span style='background-color:rgb(133.78297805786133,121.21702194213867,121.21702194213867)'> tend</span><span style='background-color:rgb(128.78415629267693,126.21584370732307,126.21584370732307)'> ##ons</span><span style='background-color:rgb(134.38102796673775,120.61897203326225,120.61897203326225)'> ,</span><span style='background-color:rgb(131.24334633350372,123.75665366649628,123.75665366649628)'> muscle</span><span style='background-color:rgb(141.3388878107071,113.66111218929291,113.66111218929291)'> and</span><span style='background-color:rgb(130.1298388838768,124.8701611161232,124.8701611161232)'> blushing</span><span style='background-color:rgb(136.2596395611763,118.7403604388237,118.7403604388237)'> skin</span><span style='background-color:rgb(129.07530426979065,125.92469573020935,125.92469573020935)'> .</span><span style='background-color:rgb(128.2886552810669,126.7113447189331,126.7113447189331)'> allan</span><span style='background-color:rgb(130.6482830643654,124.35171693563461,124.35171693563461)'> reviewed</span><span style='background-color:rgb(131.84080347418785,123.15919652581215,123.15919652581215)'> the</span><span style='background-color:rgb(135.0533562898636,119.94664371013641,119.94664371013641)'> troops</span><span style='background-color:rgb(135.77743023633957,119.22256976366043,119.22256976366043)'> ,</span><span style='background-color:rgb(132.1288812160492,122.8711187839508,122.8711187839508)'> all</span><span style='background-color:rgb(133.67358952760696,121.32641047239304,121.32641047239304)'> prepared</span><span style='background-color:rgb(131.61178216338158,123.38821783661842,123.38821783661842)'> to</span><span style='background-color:rgb(133.71766716241837,121.28233283758163,121.28233283758163)'> di</span><span style='background-color:rgb(132.0082224905491,122.99177750945091,122.99177750945091)'> ##se</span><span style='background-color:rgb(133.40486034750938,121.59513965249062,121.59513965249062)'> ##mba</span><span style='background-color:rgb(133.2115875184536,121.7884124815464,121.7884124815464)'> ##rk</span><span style='background-color:rgb(131.06917887926102,123.93082112073898,123.93082112073898)'> ,</span><span style='background-color:rgb(132.19829589128494,122.80170410871506,122.80170410871506)'> their</span><span style='background-color:rgb(133.46827894449234,121.53172105550766,121.53172105550766)'> task</span><span style='background-color:rgb(132.85390511155128,122.14609488844872,122.14609488844872)'> to</span><span style='background-color:rgb(131.92148834466934,123.07851165533066,123.07851165533066)'> form</span><span style='background-color:rgb(133.96383315324783,121.03616684675217,121.03616684675217)'> the</span><span style='background-color:rgb(132.9094885289669,122.0905114710331,122.0905114710331)'> tale</span><span style='background-color:rgb(133.51079866290092,121.48920133709908,121.48920133709908)'> of</span><span style='background-color:rgb(133.58291879296303,121.41708120703697,121.41708120703697)'> a</span><span style='background-color:rgb(132.50656574964523,122.49343425035477,122.49343425035477)'> young</span><span style='background-color:rgb(133.0388107895851,121.96118921041489,121.96118921041489)'> man</span><span style='background-color:rgb(133.5865893959999,121.41341060400009,121.41341060400009)'> returning</span><span style='background-color:rgb(136.46173551678658,118.53826448321342,118.53826448321342)'> home</span><span style='background-color:rgb(135.4451684653759,119.5548315346241,119.5548315346241)'> from</span><span style='background-color:rgb(133.58034253120422,121.41965746879578,121.41965746879578)'> life</span><span style='background-color:rgb(135.02684131264687,119.97315868735313,119.97315868735313)'> abroad</span><span style='background-color:rgb(134.42861661314964,120.57138338685036,120.57138338685036)'> to</span><span style='background-color:rgb(129.8851092159748,125.11489078402519,125.11489078402519)'> find</span><span style='background-color:rgb(130.72065398097038,124.27934601902962,124.27934601902962)'> his</span><span style='background-color:rgb(131.9753086566925,123.0246913433075,123.0246913433075)'> childhood</span><span style='background-color:rgb(131.49563759565353,123.50436240434647,123.50436240434647)'> friend</span><span style='background-color:rgb(131.19533210992813,123.80466789007187,123.80466789007187)'> a</span><span style='background-color:rgb(131.92603290081024,123.07396709918976,123.07396709918976)'> bride</span><span style='background-color:rgb(132.37547278404236,122.62452721595764,122.62452721595764)'> to</span><span style='background-color:rgb(135.66532105207443,119.33467894792557,119.33467894792557)'> -</span><span style='background-color:rgb(132.4174529314041,122.58254706859589,122.58254706859589)'> be</span><span style='background-color:rgb(131.2878343462944,123.7121656537056,123.7121656537056)'> ,</span><span style='background-color:rgb(132.26261124014854,122.73738875985146,122.73738875985146)'> thus</span><span style='background-color:rgb(133.01875546574593,121.98124453425407,121.98124453425407)'> upset</span><span style='background-color:rgb(132.55157813429832,122.44842186570168,122.44842186570168)'> ##ting</span><span style='background-color:rgb(127.3177769780159,127.6822230219841,127.6822230219841)'> the</span><span style='background-color:rgb(134.24294337630272,120.75705662369728,120.75705662369728)'> apple</span><span style='background-color:rgb(129.43829119205475,125.56170880794525,125.56170880794525)'> cart</span><span style='background-color:rgb(128.35900470614433,126.64099529385567,126.64099529385567)'> of</span><span style='background-color:rgb(135.8044771850109,119.19552281498909,119.19552281498909)'> his</span><span style='background-color:rgb(124.5052894949913,130.4947105050087,130.4947105050087)'> life</span><span style='background-color:rgb(133.37592110037804,121.62407889962196,121.62407889962196)'> '</span><span style='background-color:rgb(128.28543305397034,126.71456694602966,126.71456694602966)'> s</span><span style='background-color:rgb(134.20111522078514,120.79888477921486,120.79888477921486)'> plan</span><span style='background-color:rgb(127.60661467909813,127.39338532090187,127.39338532090187)'> ,</span><span style='background-color:rgb(137.63917833566666,117.36082166433334,117.36082166433334)'> clarified</span><span style='background-color:rgb(132.17766299843788,122.82233700156212,122.82233700156212)'> –</span><span style='background-color:rgb(132.56169319152832,122.43830680847168,122.43830680847168)'> of</span><span style='background-color:rgb(131.3668929040432,123.6331070959568,123.6331070959568)'> course</span><span style='background-color:rgb(128.2727113366127,126.7272886633873,126.7272886633873)'> –</span><span style='background-color:rgb(134.51582953333855,120.48417046666145,120.48417046666145)'> by</span><span style='background-color:rgb(137.71594181656837,117.28405818343163,117.28405818343163)'> his</span><span style='background-color:rgb(135.08615612983704,119.91384387016296,119.91384387016296)'> very</span><span style='background-color:rgb(130.70252135396004,124.29747864603996,124.29747864603996)'> time</span><span style='background-color:rgb(133.48500564694405,121.51499435305595,121.51499435305595)'> away</span><span style='background-color:rgb(138.2489924132824,116.7510075867176,116.7510075867176)'> from</span><span style='background-color:rgb(130.68682059645653,124.31317940354347,124.31317940354347)'> her</span><span style='background-color:rgb(122.33151733875275,132.66848266124725,132.66848266124725)'> he</span><span style='background-color:rgb(126.65910512208939,128.3408948779106,128.3408948779106)'> loved</span><span style='background-color:rgb(141.84273317456245,113.15726682543755,113.15726682543755)'> best</span><span style='background-color:rgb(130.60313388705254,124.39686611294746,124.39686611294746)'> .</span><span style='background-color:rgb(133.5105250775814,121.4894749224186,121.4894749224186)'> although</span><span style='background-color:rgb(127.26514220237732,127.73485779762268,127.73485779762268)'> the</span><span style='background-color:rgb(136.1700403690338,118.82995963096619,118.82995963096619)'> concept</span><span style='background-color:rgb(128.54692742228508,126.45307257771492,126.45307257771492)'> was</span><span style='background-color:rgb(131.86535775661469,123.13464224338531,123.13464224338531)'> a</span><span style='background-color:rgb(135.1399004459381,119.86009955406189,119.86009955406189)'> simple</span><span style='background-color:rgb(132.67093732953072,122.32906267046928,122.32906267046928)'> one</span><span style='background-color:rgb(137.09942489862442,117.90057510137558,117.90057510137558)'> ,</span><span style='background-color:rgb(129.07910406589508,125.92089593410492,125.92089593410492)'> allan</span><span style='background-color:rgb(123.67196381092072,131.32803618907928,131.32803618907928)'> thought</span><span style='background-color:rgb(125.12926161289215,129.87073838710785,129.87073838710785)'> it</span><span style='background-color:rgb(127.42018908262253,127.57981091737747,127.57981091737747)'> had</span><span style='background-color:rgb(138.38059455156326,116.61940544843674,116.61940544843674)'> potential</span><span style='background-color:rgb(140.4421891272068,114.5578108727932,114.5578108727932)'> .</span><span style='background-color:rgb(130.11476129293442,124.88523870706558,124.88523870706558)'> besides</span><span style='background-color:rgb(129.99335780739784,125.00664219260216,125.00664219260216)'> ,</span><span style='background-color:rgb(138.73054057359695,116.26945942640305,116.26945942640305)'> the</span><span style='background-color:rgb(132.44841367006302,122.55158632993698,122.55158632993698)'> public</span><span style='background-color:rgb(137.6709370315075,117.32906296849251,117.32906296849251)'> liked</span><span style='background-color:rgb(134.76598531007767,120.23401468992233,120.23401468992233)'> a</span><span style='background-color:rgb(128.74347567558289,126.25652432441711,126.25652432441711)'> good</span><span style='background-color:rgb(131.79861053824425,123.20138946175575,123.20138946175575)'> ,</span><span style='background-color:rgb(143.91147136688232,111.08852863311768,111.08852863311768)'> simple</span><span style='background-color:rgb(143.83301317691803,111.16698682308197,111.16698682308197)'> romance</span><span style='background-color:rgb(124.36565458774567,130.63434541225433,130.63434541225433)'> .</span><span style='background-color:rgb(132.82302036881447,122.17697963118553,122.17697963118553)'> perhaps</span><span style='background-color:rgb(142.2997422516346,112.7002577483654,112.7002577483654)'> this</span><span style='background-color:rgb(129.62633550167084,125.37366449832916,125.37366449832916)'> will</span><span style='background-color:rgb(133.4459513425827,121.5540486574173,121.5540486574173)'> be</span><span style='background-color:rgb(133.47505018115044,121.52494981884956,121.52494981884956)'> more</span><span style='background-color:rgb(138.1804744899273,116.81952551007271,116.81952551007271)'> sale</span><span style='background-color:rgb(132.8973975777626,122.1026024222374,122.1026024222374)'> ##able</span><span style='background-color:rgb(132.0041263103485,122.99587368965149,122.99587368965149)'> ,</span><span style='background-color:rgb(132.22694635391235,122.77305364608765,122.77305364608765)'> he</span><span style='background-color:rgb(130.74608221650124,124.25391778349876,124.25391778349876)'> thought</span><span style='background-color:rgb(125.75524002313614,129.24475997686386,129.24475997686386)'> and</span><span style='background-color:rgb(138.88747975230217,116.11252024769783,116.11252024769783)'> began</span><span style='background-color:rgb(132.26346239447594,122.73653760552406,122.73653760552406)'> to</span><span style='background-color:rgb(136.53392404317856,118.46607595682144,118.46607595682144)'> write</span><span style='background-color:rgb(126.23921245336533,128.76078754663467,128.76078754663467)'> .</span><span style='background-color:rgb(128.23273748159409,126.76726251840591,126.76726251840591)'> they</span><span style='background-color:rgb(132.40609154105186,122.59390845894814,122.59390845894814)'> gazed</span><span style='background-color:rgb(132.83840954303741,122.16159045696259,122.16159045696259)'> at</span><span style='background-color:rgb(127.86185458302498,127.13814541697502,127.13814541697502)'> each</span><span style='background-color:rgb(137.89215356111526,117.10784643888474,117.10784643888474)'> other</span><span style='background-color:rgb(142.4053005874157,112.5946994125843,112.5946994125843)'> ,</span><span style='background-color:rgb(134.0552182495594,120.9447817504406,120.9447817504406)'> lost</span><span style='background-color:rgb(122.54102289676666,132.45897710323334,132.45897710323334)'> in</span><span style='background-color:rgb(138.7263683974743,116.27363160252571,116.27363160252571)'> the</span><span style='background-color:rgb(134.63708102703094,120.36291897296906,120.36291897296906)'> rap</span><span style='background-color:rgb(129.68948811292648,125.31051188707352,125.31051188707352)'> ##ture</span><span style='background-color:rgb(132.3191674053669,122.6808325946331,122.6808325946331)'> of</span><span style='background-color:rgb(139.59080681204796,115.40919318795204,115.40919318795204)'> love</span><span style='background-color:rgb(130.3494442999363,124.6505557000637,124.6505557000637)'> based</span><span style='background-color:rgb(130.37161231040955,124.62838768959045,124.62838768959045)'> so</span><span style='background-color:rgb(137.1583293378353,117.84167066216469,117.84167066216469)'> deeply</span><span style='background-color:rgb(138.87294933199883,116.12705066800117,116.12705066800117)'> within</span><span style='background-color:rgb(140.15841275453568,114.84158724546432,114.84158724546432)'> their</span><span style='background-color:rgb(133.50664168596268,121.49335831403732,121.49335831403732)'> hearts</span><span style='background-color:rgb(124.71351832151413,130.28648167848587,130.28648167848587)'> that</span><span style='background-color:rgb(135.59880942106247,119.40119057893753,119.40119057893753)'> they</span><span style='background-color:rgb(139.29450631141663,115.70549368858337,115.70549368858337)'> had</span><span style='background-color:rgb(135.75622737407684,119.24377262592316,119.24377262592316)'> never</span><span style='background-color:rgb(131.81415930390358,123.18584069609642,123.18584069609642)'> seen</span><span style='background-color:rgb(131.13539412617683,123.86460587382317,123.86460587382317)'> it</span><span style='background-color:rgb(133.35477143526077,121.64522856473923,121.64522856473923)'> before</span><span style='background-color:rgb(146.41305953264236,108.58694046735764,108.58694046735764)'> .</span><span style='background-color:rgb(130.67922860383987,124.32077139616013,124.32077139616013)'> \"</span><span style='background-color:rgb(118.18852365016937,136.81147634983063,136.81147634983063)'> what</span><span style='background-color:rgb(142.50476405024529,112.49523594975471,112.49523594975471)'> about</span><span style='background-color:rgb(145.48425257205963,109.51574742794037,109.51574742794037)'> roger</span><span style='background-color:rgb(135.4119050502777,119.58809494972229,119.58809494972229)'> ?</span><span style='background-color:rgb(143.11068713665009,111.88931286334991,111.88931286334991)'> \"</span><span style='background-color:rgb(121.95623427629471,133.0437657237053,133.0437657237053)'> she</span><span style='background-color:rgb(144.03162091970444,110.96837908029556,110.96837908029556)'> asked</span><span style='background-color:rgb(154.84071850776672,100.15928149223328,100.15928149223328)'> ,</span><span style='background-color:rgb(150.9725260734558,104.02747392654419,104.02747392654419)'> knowing</span><span style='background-color:rgb(125.64952969551086,129.35047030448914,129.35047030448914)'> that</span><span style='background-color:rgb(159.3455895781517,95.6544104218483,95.6544104218483)'> the</span><span style='background-color:rgb(133.43104854226112,121.56895145773888,121.56895145773888)'> answer</span><span style='background-color:rgb(145.9639160335064,109.0360839664936,109.0360839664936)'> no</span><span style='background-color:rgb(117.72753238677979,137.27246761322021,137.27246761322021)'> longer</span><span style='background-color:rgb(117.43216663599014,137.56783336400986,137.56783336400986)'> mattered</span><span style='background-color:rgb(111.52178138494492,143.47821861505508,143.47821861505508)'> .</span><span style='background-color:rgb(122.26651042699814,132.73348957300186,132.73348957300186)'> [SEP]</span><span style='background-color:rgb(123.1787958741188,131.8212041258812,131.8212041258812)'> name</span><span style='background-color:rgb(75.37806004285812,179.62193995714188,179.62193995714188)'> few</span><span style='background-color:rgb(147.19997450709343,107.80002549290657,107.80002549290657)'> objects</span><span style='background-color:rgb(143.42519626021385,111.57480373978615,111.57480373978615)'> said</span><span style='background-color:rgb(135.34220159053802,119.65779840946198,119.65779840946198)'> to</span><span style='background-color:rgb(133.0127213895321,121.98727861046791,121.98727861046791)'> be</span><span style='background-color:rgb(114.97486889362335,140.02513110637665,140.02513110637665)'> in</span><span style='background-color:rgb(148.5510604083538,106.4489395916462,106.4489395916462)'> or</span><span style='background-color:rgb(133.619776815176,121.38022318482399,121.38022318482399)'> on</span><span style='background-color:rgb(136.02782920002937,118.97217079997063,118.97217079997063)'> allan</span><span style='background-color:rgb(155.26934310793877,99.73065689206123,99.73065689206123)'> '</span><span style='background-color:rgb(177.60538056492805,77.39461943507195,77.39461943507195)'> s</span><span style='background-color:rgb(98.37439566850662,156.62560433149338,156.62560433149338)'> desk</span><span style='background-color:rgb(155.05663812160492,99.94336187839508,99.94336187839508)'> |</span><span style='background-color:rgb(93.02367478609085,161.97632521390915,161.97632521390915)'> |</span><span style='background-color:rgb(0.0,255.0,255.0)'> erase</span> ##r<span style='background-color:rgb(231.040917634964,23.95908236503601,23.95908236503601)'> [SEP]</span><span style='background-color:rgb(132.72946938872337,122.27053061127663,122.27053061127663)'> [PAD]</span><span style='background-color:rgb(132.72946938872337,122.27053061127663,122.27053061127663)'> [PAD]</span><span style='background-color:rgb(132.72946938872337,122.27053061127663,122.27053061127663)'> [PAD]</span><span style='background-color:rgb(132.72946938872337,122.27053061127663,122.27053061127663)'> [PAD]</span><span style='background-color:rgb(132.72946938872337,122.27053061127663,122.27053061127663)'> [PAD]</span><span style='background-color:rgb(132.72946938872337,122.27053061127663,122.27053061127663)'> [PAD]</span><span style='background-color:rgb(132.72946938872337,122.27053061127663,122.27053061127663)'> [PAD]</span><span style='background-color:rgb(132.72946938872337,122.27053061127663,122.27053061127663)'> [PAD]</span><span style='background-color:rgb(132.72946938872337,122.27053061127663,122.27053061127663)'> [PAD]</span><span style='background-color:rgb(132.72946938872337,122.27053061127663,122.27053061127663)'> [PAD]</span><span style='background-color:rgb(132.72946938872337,122.27053061127663,122.27053061127663)'> [PAD]</span><span style='background-color:rgb(132.72946938872337,122.27053061127663,122.27053061127663)'> [PAD]</span><span style='background-color:rgb(132.72946938872337,122.27053061127663,122.27053061127663)'> [PAD]</span><span style='background-color:rgb(132.72946938872337,122.27053061127663,122.27053061127663)'> [PAD]</span><span style='background-color:rgb(132.72946938872337,122.27053061127663,122.27053061127663)'> [PAD]</span><span style='background-color:rgb(132.72946938872337,122.27053061127663,122.27053061127663)'> [PAD]</span><span style='background-color:rgb(132.72946938872337,122.27053061127663,122.27053061127663)'> [PAD]</span><span style='background-color:rgb(132.72946938872337,122.27053061127663,122.27053061127663)'> [PAD]</span><span style='background-color:rgb(132.72946938872337,122.27053061127663,122.27053061127663)'> [PAD]</span><span style='background-color:rgb(132.72946938872337,122.27053061127663,122.27053061127663)'> [PAD]</span><span style='background-color:rgb(132.72946938872337,122.27053061127663,122.27053061127663)'> [PAD]</span><span style='background-color:rgb(132.72946938872337,122.27053061127663,122.27053061127663)'> [PAD]</span><span style='background-color:rgb(132.72946938872337,122.27053061127663,122.27053061127663)'> [PAD]</span><span style='background-color:rgb(132.72946938872337,122.27053061127663,122.27053061127663)'> [PAD]</span><span style='background-color:rgb(132.72946938872337,122.27053061127663,122.27053061127663)'> [PAD]</span><span style='background-color:rgb(132.72946938872337,122.27053061127663,122.27053061127663)'> [PAD]</span><span style='background-color:rgb(132.72946938872337,122.27053061127663,122.27053061127663)'> [PAD]</span><span style='background-color:rgb(132.72946938872337,122.27053061127663,122.27053061127663)'> [PAD]</span><span style='background-color:rgb(132.72946938872337,122.27053061127663,122.27053061127663)'> [PAD]</span><span style='background-color:rgb(132.72946938872337,122.27053061127663,122.27053061127663)'> [PAD]</span><span style='background-color:rgb(132.72946938872337,122.27053061127663,122.27053061127663)'> [PAD]</span><span style='background-color:rgb(132.72946938872337,122.27053061127663,122.27053061127663)'> [PAD]</span><span style='background-color:rgb(132.72946938872337,122.27053061127663,122.27053061127663)'> [PAD]</span><span style='background-color:rgb(132.72946938872337,122.27053061127663,122.27053061127663)'> [PAD]</span><span style='background-color:rgb(132.72946938872337,122.27053061127663,122.27053061127663)'> [PAD]</span><span style='background-color:rgb(132.72946938872337,122.27053061127663,122.27053061127663)'> [PAD]</span><span style='background-color:rgb(132.72946938872337,122.27053061127663,122.27053061127663)'> [PAD]</span><span style='background-color:rgb(132.72946938872337,122.27053061127663,122.27053061127663)'> [PAD]</span><span style='background-color:rgb(132.72946938872337,122.27053061127663,122.27053061127663)'> [PAD]</span><span style='background-color:rgb(132.72946938872337,122.27053061127663,122.27053061127663)'> [PAD]</span><span style='background-color:rgb(132.72946938872337,122.27053061127663,122.27053061127663)'> [PAD]</span><span style='background-color:rgb(132.72946938872337,122.27053061127663,122.27053061127663)'> [PAD]</span><span style='background-color:rgb(132.72946938872337,122.27053061127663,122.27053061127663)'> [PAD]</span><span style='background-color:rgb(132.72946938872337,122.27053061127663,122.27053061127663)'> [PAD]</span><span style='background-color:rgb(132.72946938872337,122.27053061127663,122.27053061127663)'> [PAD]</span><span style='background-color:rgb(132.72946938872337,122.27053061127663,122.27053061127663)'> [PAD]</span><span style='background-color:rgb(132.72946938872337,122.27053061127663,122.27053061127663)'> [PAD]</span><span style='background-color:rgb(132.72946938872337,122.27053061127663,122.27053061127663)'> [PAD]</span><span style='background-color:rgb(132.72946938872337,122.27053061127663,122.27053061127663)'> [PAD]</span><span style='background-color:rgb(132.72946938872337,122.27053061127663,122.27053061127663)'> [PAD]</span><span style='background-color:rgb(132.72946938872337,122.27053061127663,122.27053061127663)'> [PAD]</span><span style='background-color:rgb(132.72946938872337,122.27053061127663,122.27053061127663)'> [PAD]</span><span style='background-color:rgb(132.72946938872337,122.27053061127663,122.27053061127663)'> [PAD]</span><span style='background-color:rgb(132.72946938872337,122.27053061127663,122.27053061127663)'> [PAD]</span><span style='background-color:rgb(132.72946938872337,122.27053061127663,122.27053061127663)'> [PAD]</span><span style='background-color:rgb(132.72946938872337,122.27053061127663,122.27053061127663)'> [PAD]</span><span style='background-color:rgb(132.72946938872337,122.27053061127663,122.27053061127663)'> [PAD]</span><span style='background-color:rgb(132.72946938872337,122.27053061127663,122.27053061127663)'> [PAD]</span><span style='background-color:rgb(132.72946938872337,122.27053061127663,122.27053061127663)'> [PAD]</span><span style='background-color:rgb(132.72946938872337,122.27053061127663,122.27053061127663)'> [PAD]</span><span style='background-color:rgb(132.72946938872337,122.27053061127663,122.27053061127663)'> [PAD]</span><span style='background-color:rgb(132.72946938872337,122.27053061127663,122.27053061127663)'> [PAD]</span><span style='background-color:rgb(132.72946938872337,122.27053061127663,122.27053061127663)'> [PAD]</span><span style='background-color:rgb(132.72946938872337,122.27053061127663,122.27053061127663)'> [PAD]</span><span style='background-color:rgb(132.72946938872337,122.27053061127663,122.27053061127663)'> [PAD]</span><span style='background-color:rgb(132.72946938872337,122.27053061127663,122.27053061127663)'> [PAD]</span><span style='background-color:rgb(132.72946938872337,122.27053061127663,122.27053061127663)'> [PAD]</span><span style='background-color:rgb(132.72946938872337,122.27053061127663,122.27053061127663)'> [PAD]</span><span style='background-color:rgb(132.72946938872337,122.27053061127663,122.27053061127663)'> [PAD]</span><span style='background-color:rgb(132.72946938872337,122.27053061127663,122.27053061127663)'> [PAD]</span><span style='background-color:rgb(132.72946938872337,122.27053061127663,122.27053061127663)'> [PAD]</span><span style='background-color:rgb(132.72946938872337,122.27053061127663,122.27053061127663)'> [PAD]</span><span style='background-color:rgb(132.72946938872337,122.27053061127663,122.27053061127663)'> [PAD]</span><span style='background-color:rgb(132.72946938872337,122.27053061127663,122.27053061127663)'> [PAD]</span><span style='background-color:rgb(132.72946938872337,122.27053061127663,122.27053061127663)'> [PAD]</span><span style='background-color:rgb(132.72946938872337,122.27053061127663,122.27053061127663)'> [PAD]</span><span style='background-color:rgb(132.72946938872337,122.27053061127663,122.27053061127663)'> [PAD]</span><span style='background-color:rgb(132.72946938872337,122.27053061127663,122.27053061127663)'> [PAD]</span><span style='background-color:rgb(132.72946938872337,122.27053061127663,122.27053061127663)'> [PAD]</span><span style='background-color:rgb(132.72946938872337,122.27053061127663,122.27053061127663)'> [PAD]</span><span style='background-color:rgb(132.72946938872337,122.27053061127663,122.27053061127663)'> [PAD]</span><span style='background-color:rgb(132.72946938872337,122.27053061127663,122.27053061127663)'> [PAD]</span><span style='background-color:rgb(132.72946938872337,122.27053061127663,122.27053061127663)'> [PAD]</span><span style='background-color:rgb(132.72946938872337,122.27053061127663,122.27053061127663)'> [PAD]</span><span style='background-color:rgb(132.72946938872337,122.27053061127663,122.27053061127663)'> [PAD]</span><span style='background-color:rgb(132.72946938872337,122.27053061127663,122.27053061127663)'> [PAD]</span><span style='background-color:rgb(132.72946938872337,122.27053061127663,122.27053061127663)'> [PAD]</span><span style='background-color:rgb(132.72946938872337,122.27053061127663,122.27053061127663)'> [PAD]</span><span style='background-color:rgb(132.72946938872337,122.27053061127663,122.27053061127663)'> [PAD]</span><span style='background-color:rgb(132.72946938872337,122.27053061127663,122.27053061127663)'> [PAD]</span><span style='background-color:rgb(132.72946938872337,122.27053061127663,122.27053061127663)'> [PAD]</span><span style='background-color:rgb(132.72946938872337,122.27053061127663,122.27053061127663)'> [PAD]</span><span style='background-color:rgb(132.72946938872337,122.27053061127663,122.27053061127663)'> [PAD]</span><span style='background-color:rgb(132.72946938872337,122.27053061127663,122.27053061127663)'> [PAD]</span><span style='background-color:rgb(132.72946938872337,122.27053061127663,122.27053061127663)'> [PAD]</span><span style='background-color:rgb(132.72946938872337,122.27053061127663,122.27053061127663)'> [PAD]</span><span style='background-color:rgb(132.72946938872337,122.27053061127663,122.27053061127663)'> [PAD]</span><span style='background-color:rgb(132.72946938872337,122.27053061127663,122.27053061127663)'> [PAD]</span><span style='background-color:rgb(132.72946938872337,122.27053061127663,122.27053061127663)'> [PAD]</span><span style='background-color:rgb(132.72946938872337,122.27053061127663,122.27053061127663)'> [PAD]</span><span style='background-color:rgb(132.72946938872337,122.27053061127663,122.27053061127663)'> [PAD]</span><span style='background-color:rgb(132.72946938872337,122.27053061127663,122.27053061127663)'> [PAD]</span><span style='background-color:rgb(132.72946938872337,122.27053061127663,122.27053061127663)'> [PAD]</span><span style='background-color:rgb(132.72946938872337,122.27053061127663,122.27053061127663)'> [PAD]</span><span style='background-color:rgb(132.72946938872337,122.27053061127663,122.27053061127663)'> [PAD]</span><span style='background-color:rgb(132.72946938872337,122.27053061127663,122.27053061127663)'> [PAD]</span><span style='background-color:rgb(132.72946938872337,122.27053061127663,122.27053061127663)'> [PAD]</span><span style='background-color:rgb(132.72946938872337,122.27053061127663,122.27053061127663)'> [PAD]</span><span style='background-color:rgb(132.72946938872337,122.27053061127663,122.27053061127663)'> [PAD]</span><span style='background-color:rgb(132.72946938872337,122.27053061127663,122.27053061127663)'> [PAD]</span><span style='background-color:rgb(132.72946938872337,122.27053061127663,122.27053061127663)'> [PAD]</span><span style='background-color:rgb(132.72946938872337,122.27053061127663,122.27053061127663)'> [PAD]</span><span style='background-color:rgb(132.72946938872337,122.27053061127663,122.27053061127663)'> [PAD]</span><span style='background-color:rgb(132.72946938872337,122.27053061127663,122.27053061127663)'> [PAD]</span><span style='background-color:rgb(132.72946938872337,122.27053061127663,122.27053061127663)'> [PAD]</span><span style='background-color:rgb(132.72946938872337,122.27053061127663,122.27053061127663)'> [PAD]</span><span style='background-color:rgb(132.72946938872337,122.27053061127663,122.27053061127663)'> [PAD]</span><span style='background-color:rgb(132.72946938872337,122.27053061127663,122.27053061127663)'> [PAD]</span><span style='background-color:rgb(132.72946938872337,122.27053061127663,122.27053061127663)'> [PAD]</span><span style='background-color:rgb(132.72946938872337,122.27053061127663,122.27053061127663)'> [PAD]</span><span style='background-color:rgb(132.72946938872337,122.27053061127663,122.27053061127663)'> [PAD]</span><span style='background-color:rgb(132.72946938872337,122.27053061127663,122.27053061127663)'> [PAD]</span><span style='background-color:rgb(132.72946938872337,122.27053061127663,122.27053061127663)'> [PAD]</span><span style='background-color:rgb(132.72946938872337,122.27053061127663,122.27053061127663)'> [PAD]</span><span style='background-color:rgb(132.72946938872337,122.27053061127663,122.27053061127663)'> [PAD]</span><span style='background-color:rgb(132.72946938872337,122.27053061127663,122.27053061127663)'> [PAD]</span><span style='background-color:rgb(132.72946938872337,122.27053061127663,122.27053061127663)'> [PAD]</span><span style='background-color:rgb(132.72946938872337,122.27053061127663,122.27053061127663)'> [PAD]</span><span style='background-color:rgb(132.72946938872337,122.27053061127663,122.27053061127663)'> [PAD]</span><span style='background-color:rgb(132.72946938872337,122.27053061127663,122.27053061127663)'> [PAD]</span><span style='background-color:rgb(132.72946938872337,122.27053061127663,122.27053061127663)'> [PAD]</span><span style='background-color:rgb(132.72946938872337,122.27053061127663,122.27053061127663)'> [PAD]</span><span style='background-color:rgb(132.72946938872337,122.27053061127663,122.27053061127663)'> [PAD]</span><span style='background-color:rgb(132.72946938872337,122.27053061127663,122.27053061127663)'> [PAD]</span><span style='background-color:rgb(132.72946938872337,122.27053061127663,122.27053061127663)'> [PAD]</span><span style='background-color:rgb(132.72946938872337,122.27053061127663,122.27053061127663)'> [PAD]</span><span style='background-color:rgb(132.72946938872337,122.27053061127663,122.27053061127663)'> [PAD]</span><span style='background-color:rgb(132.72946938872337,122.27053061127663,122.27053061127663)'> [PAD]</span><span style='background-color:rgb(132.72946938872337,122.27053061127663,122.27053061127663)'> [PAD]</span><span style='background-color:rgb(132.72946938872337,122.27053061127663,122.27053061127663)'> [PAD]</span><span style='background-color:rgb(132.72946938872337,122.27053061127663,122.27053061127663)'> [PAD]</span><span style='background-color:rgb(132.72946938872337,122.27053061127663,122.27053061127663)'> [PAD]</span><span style='background-color:rgb(132.72946938872337,122.27053061127663,122.27053061127663)'> [PAD]</span><span style='background-color:rgb(132.72946938872337,122.27053061127663,122.27053061127663)'> [PAD]</span><span style='background-color:rgb(132.72946938872337,122.27053061127663,122.27053061127663)'> [PAD]</span><span style='background-color:rgb(132.72946938872337,122.27053061127663,122.27053061127663)'> [PAD]</span><span style='background-color:rgb(132.72946938872337,122.27053061127663,122.27053061127663)'> [PAD]</span><span style='background-color:rgb(132.72946938872337,122.27053061127663,122.27053061127663)'> [PAD]</span><span style='background-color:rgb(132.72946938872337,122.27053061127663,122.27053061127663)'> [PAD]</span><span style='background-color:rgb(132.72946938872337,122.27053061127663,122.27053061127663)'> [PAD]</span><span style='background-color:rgb(132.72946938872337,122.27053061127663,122.27053061127663)'> [PAD]</span><span style='background-color:rgb(132.72946938872337,122.27053061127663,122.27053061127663)'> [PAD]</span><span style='background-color:rgb(132.72946938872337,122.27053061127663,122.27053061127663)'> [PAD]</span><span style='background-color:rgb(132.72946938872337,122.27053061127663,122.27053061127663)'> [PAD]</span><span style='background-color:rgb(132.72946938872337,122.27053061127663,122.27053061127663)'> [PAD]</span><span style='background-color:rgb(132.72946938872337,122.27053061127663,122.27053061127663)'> [PAD]</span><span style='background-color:rgb(132.72946938872337,122.27053061127663,122.27053061127663)'> [PAD]</span>"
      ],
      "text/plain": [
       "<IPython.core.display.Markdown object>"
      ]
     },
     "metadata": {},
     "output_type": "display_data"
    }
   ],
   "source": [
    "from IPython.display import Markdown, display\n",
    "def printmd(string):\n",
    "    display(Markdown(string))\n",
    "\n",
    "def show_attrs(tokens, masks, normalize=True):\n",
    "    if normalize:\n",
    "        masks_max = masks.max(-1).values\n",
    "        masks_min = masks.min(-1).values\n",
    "        # import pdb; pdb.set_trace()\n",
    "        masks = (masks - masks_min) / (masks_max - masks_min)\n",
    "    print_str = \"\"\n",
    "    for i in range(len(tokens)):\n",
    "        expln_val = masks[i].item()\n",
    "        if expln_val == 0:\n",
    "            print_str += f\" {tokens[i]}\"\n",
    "        else:\n",
    "            print_str += f\"<span style='background-color:rgb({255 * (1-expln_val)},{255 * expln_val},{255 * expln_val})'> {tokens[i]}</span>\"\n",
    "    return print_str\n",
    "\n",
    "tokens = processor.convert_ids_to_tokens(inputs[0])\n",
    "# tokens = shap_expln.explainer_output.data[0]\n",
    "printmd(show_attrs(tokens, intgrad_expln.attributions[0]))"
   ]
  },
  {
   "cell_type": "code",
   "execution_count": 87,
   "id": "ded8f226-cb69-4d82-ab28-3c15e7b143ad",
   "metadata": {
    "tags": []
   },
   "outputs": [
    {
     "data": {
      "application/vnd.jupyter.widget-view+json": {
       "model_id": "38da5c7082e6422ab1cc121f4b51b82d",
       "version_major": 2,
       "version_minor": 0
      },
      "text/plain": [
       "  0%|          | 0/2 [00:00<?, ?it/s]"
      ]
     },
     "metadata": {},
     "output_type": "display_data"
    },
    {
     "name": "stdout",
     "output_type": "stream",
     "text": [
      "intgrad_expln.attributions torch.Size([1, 512])\n",
      "intgrad_expln.attributions torch.Size([1, 512])\n",
      "torch.stack(grouped_attrs_intgrad) torch.Size([2, 512])\n"
     ]
    },
    {
     "data": {
      "text/plain": [
       "(tensor([[-1.7239e-07],\n",
       "         [-4.0127e-07]], device='cuda:0'),\n",
       " tensor(0, device='cuda:0'))"
      ]
     },
     "execution_count": 87,
     "metadata": {},
     "output_type": "execute_result"
    }
   ],
   "source": [
    "j = 0\n",
    "grouped_attrs_intgrad = []\n",
    "for i in tqdm(range(2)):\n",
    "    intgrad_expln = intgrad_explainer(inputs[j][None], torch.tensor([i]))\n",
    "    print('intgrad_expln.attributions', intgrad_expln.attributions.shape)\n",
    "    grouped_attrs_intgrad.append(intgrad_expln.attributions)\n",
    "print('torch.stack(grouped_attrs_intgrad)', torch.cat(grouped_attrs_intgrad).shape)\n",
    "grouped_attrs_intgrad_aggr = torch.cat(grouped_attrs_intgrad).sum(-1)\n",
    "grouped_attrs_intgrad_aggr, torch.argmax(grouped_attrs_intgrad_aggr)"
   ]
  },
  {
   "cell_type": "markdown",
   "id": "0ab44fe5-8894-4222-909e-75de70db08b9",
   "metadata": {
    "tags": []
   },
   "source": [
    "## GradCAM"
   ]
  },
  {
   "cell_type": "code",
   "execution_count": 28,
   "id": "f4cd6c55-c52a-42af-a3a0-8bf1b1469443",
   "metadata": {
    "tags": []
   },
   "outputs": [
    {
     "name": "stdout",
     "output_type": "stream",
     "text": [
      "huggingface/tokenizers: The current process just got forked, after parallelism has already been used. Disabling parallelism to avoid deadlocks...\n",
      "To disable this warning, you can either:\n",
      "\t- Avoid using `tokenizers` before the fork if possible\n",
      "\t- Explicitly set the environment variable TOKENIZERS_PARALLELISM=(true | false)\n",
      "Found existing installation: grad-cam 1.4.8\n",
      "Uninstalling grad-cam-1.4.8:\n",
      "  Successfully uninstalled grad-cam-1.4.8\n"
     ]
    }
   ],
   "source": [
    "!pip uninstall -y grad-cam"
   ]
  },
  {
   "cell_type": "code",
   "execution_count": 16,
   "id": "16acc08e-6ec5-45f6-b66b-80dc05b2962a",
   "metadata": {
    "tags": []
   },
   "outputs": [
    {
     "data": {
      "text/plain": [
       "'/shared_data0/weiqiuy/github/pytorch-grad-cam/pytorch_grad_cam/__init__.py'"
      ]
     },
     "execution_count": 16,
     "metadata": {},
     "output_type": "execute_result"
    }
   ],
   "source": [
    "\n",
    "import sys\n",
    "sys.path.insert(0, '/shared_data0/weiqiuy/github/pytorch-grad-cam')\n",
    "import pytorch_grad_cam\n",
    "pytorch_grad_cam.__file__"
   ]
  },
  {
   "cell_type": "code",
   "execution_count": 74,
   "id": "eee7cb44-5ef0-464d-a2f1-f55203c72b70",
   "metadata": {
    "tags": []
   },
   "outputs": [],
   "source": [
    "import numpy as np\n",
    "import torch\n",
    "import ttach as tta\n",
    "from typing import Callable, List, Tuple\n",
    "\n",
    "from pytorch_grad_cam.activations_and_gradients import ActivationsAndGradients\n",
    "from pytorch_grad_cam.utils.svd_on_activations import get_2d_projection\n",
    "from pytorch_grad_cam.utils.image import scale_cam_image\n",
    "from pytorch_grad_cam.utils.model_targets import ClassifierOutputTarget\n",
    "\n",
    "class BaseCAMText:\n",
    "    def __init__(self,\n",
    "                 model: torch.nn.Module,\n",
    "                 target_layers: List[torch.nn.Module],\n",
    "                 use_cuda: bool = False,\n",
    "                 reshape_transform: Callable = None,\n",
    "                 compute_input_gradient: bool = False,\n",
    "                 uses_gradients: bool = True) -> None:\n",
    "        self.model = model.eval()\n",
    "        self.target_layers = target_layers\n",
    "        self.cuda = use_cuda\n",
    "        if self.cuda:\n",
    "            self.model = model.cuda()\n",
    "        self.reshape_transform = reshape_transform\n",
    "        self.compute_input_gradient = compute_input_gradient\n",
    "        self.uses_gradients = uses_gradients\n",
    "        self.activations_and_grads = ActivationsAndGradients(\n",
    "            self.model, target_layers, reshape_transform)\n",
    "\n",
    "    \"\"\" Get a vector of weights for every channel in the target layer.\n",
    "        Methods that return weights channels,\n",
    "        will typically need to only implement this function. \"\"\"\n",
    "\n",
    "    def get_cam_weights(self,\n",
    "                        input_tensor: torch.Tensor,\n",
    "                        target_layers: List[torch.nn.Module],\n",
    "                        targets: List[torch.nn.Module],\n",
    "                        activations: torch.Tensor,\n",
    "                        grads: torch.Tensor) -> np.ndarray:\n",
    "        raise Exception(\"Not Implemented\")\n",
    "\n",
    "    def get_cam_image(self,\n",
    "                      input_tensor: torch.Tensor,\n",
    "                      target_layer: torch.nn.Module,\n",
    "                      targets: List[torch.nn.Module],\n",
    "                      activations: torch.Tensor,\n",
    "                      grads: torch.Tensor,\n",
    "                      eigen_smooth: bool = False) -> np.ndarray:\n",
    "\n",
    "        weights = self.get_cam_weights(input_tensor,\n",
    "                                       target_layer,\n",
    "                                       targets,\n",
    "                                       activations,\n",
    "                                       grads)\n",
    "        import pdb; pdb.set_trace()\n",
    "        if len(activations.shape) == 3:\n",
    "            weighted_activations = weights[:, :, None] * activations\n",
    "        elif len(activations.shape) == 2:\n",
    "            weighted_activations = weights[:, None] * activations\n",
    "        else:\n",
    "            raise Exception(\"Unsupported shape for activations: \" + activations.shape)\n",
    "        # cam = weighted_activations.sum(axis=-1)\n",
    "        # if eigen_smooth:\n",
    "        #     cam = get_2d_projection(weighted_activations)\n",
    "        # else:\n",
    "        #     cam = weighted_activations.sum(axis=1)\n",
    "        cam = weighted_activations[:,0]\n",
    "        return cam\n",
    "\n",
    "    def forward(self,\n",
    "                input_tensor: torch.Tensor,\n",
    "                targets: List[torch.nn.Module],\n",
    "                eigen_smooth: bool = False) -> np.ndarray:\n",
    "\n",
    "        if self.cuda:\n",
    "            input_tensor = input_tensor.cuda()\n",
    "\n",
    "        if self.compute_input_gradient:\n",
    "            input_tensor = torch.autograd.Variable(input_tensor,\n",
    "                                                   requires_grad=True)\n",
    "\n",
    "        outputs = self.activations_and_grads(input_tensor)\n",
    "        if targets is None:\n",
    "            target_categories = np.argmax(outputs.cpu().data.numpy(), axis=-1)\n",
    "            targets = [ClassifierOutputTarget(\n",
    "                category) for category in target_categories]\n",
    "\n",
    "        if self.uses_gradients:\n",
    "            self.model.zero_grad()\n",
    "            loss = sum([target(output)\n",
    "                       for target, output in zip(targets, outputs)])\n",
    "            loss.backward(retain_graph=True)\n",
    "\n",
    "        # In most of the saliency attribution papers, the saliency is\n",
    "        # computed with a single target layer.\n",
    "        # Commonly it is the last convolutional layer.\n",
    "        # Here we support passing a list with multiple target layers.\n",
    "        # It will compute the saliency image for every image,\n",
    "        # and then aggregate them (with a default mean aggregation).\n",
    "        # This gives you more flexibility in case you just want to\n",
    "        # use all conv layers for example, all Batchnorm layers,\n",
    "        # or something else.\n",
    "        cam_per_layer = self.compute_cam_per_layer(input_tensor,\n",
    "                                                   targets,\n",
    "                                                   eigen_smooth)\n",
    "        return self.aggregate_multi_layers(cam_per_layer)\n",
    "\n",
    "    def get_target_width_height(self,\n",
    "                                input_tensor: torch.Tensor) -> Tuple[int, int]:\n",
    "        width, height = input_tensor.size(-1), input_tensor.size(-2)\n",
    "        return width, height\n",
    "\n",
    "    def compute_cam_per_layer(\n",
    "            self,\n",
    "            input_tensor: torch.Tensor,\n",
    "            targets: List[torch.nn.Module],\n",
    "            eigen_smooth: bool) -> np.ndarray:\n",
    "        activations_list = [a.cpu().data.numpy()\n",
    "                            for a in self.activations_and_grads.activations]\n",
    "        grads_list = [g.cpu().data.numpy()\n",
    "                      for g in self.activations_and_grads.gradients]\n",
    "        target_size = self.get_target_width_height(input_tensor)\n",
    "\n",
    "        cam_per_target_layer = []\n",
    "        # Loop over the saliency image from every layer\n",
    "        for i in range(len(self.target_layers)):\n",
    "            target_layer = self.target_layers[i]\n",
    "            layer_activations = None\n",
    "            layer_grads = None\n",
    "            if i < len(activations_list):\n",
    "                layer_activations = activations_list[i]\n",
    "            if i < len(grads_list):\n",
    "                layer_grads = grads_list[i]\n",
    "\n",
    "            cam = self.get_cam_image(input_tensor,\n",
    "                                     target_layer,\n",
    "                                     targets,\n",
    "                                     layer_activations,\n",
    "                                     layer_grads,\n",
    "                                     eigen_smooth)\n",
    "            cam = np.maximum(cam, 0)\n",
    "            scaled = scale_cam_image(cam, target_size)\n",
    "            cam_per_target_layer.append(scaled[:, None, :])\n",
    "\n",
    "        return cam_per_target_layer\n",
    "\n",
    "    def aggregate_multi_layers(\n",
    "            self,\n",
    "            cam_per_target_layer: np.ndarray) -> np.ndarray:\n",
    "        cam_per_target_layer = np.concatenate(cam_per_target_layer, axis=1)\n",
    "        cam_per_target_layer = np.maximum(cam_per_target_layer, 0)\n",
    "        result = np.mean(cam_per_target_layer, axis=1)\n",
    "        return scale_cam_image(result)\n",
    "\n",
    "    def forward_augmentation_smoothing(self,\n",
    "                                       input_tensor: torch.Tensor,\n",
    "                                       targets: List[torch.nn.Module],\n",
    "                                       eigen_smooth: bool = False) -> np.ndarray:\n",
    "        transforms = tta.Compose(\n",
    "            [\n",
    "                tta.HorizontalFlip(),\n",
    "                tta.Multiply(factors=[0.9, 1, 1.1]),\n",
    "            ]\n",
    "        )\n",
    "        cams = []\n",
    "        for transform in transforms:\n",
    "            augmented_tensor = transform.augment_image(input_tensor)\n",
    "            cam = self.forward(augmented_tensor,\n",
    "                               targets,\n",
    "                               eigen_smooth)\n",
    "\n",
    "            # The ttach library expects a tensor of size BxCxHxW\n",
    "            cam = cam[:, None, :, :]\n",
    "            cam = torch.from_numpy(cam)\n",
    "            cam = transform.deaugment_mask(cam)\n",
    "\n",
    "            # Back to numpy float32, HxW\n",
    "            cam = cam.numpy()\n",
    "            cam = cam[:, 0, :, :]\n",
    "            cams.append(cam)\n",
    "\n",
    "        cam = np.mean(np.float32(cams), axis=0)\n",
    "        return cam\n",
    "\n",
    "    def __call__(self,\n",
    "                 input_tensor: torch.Tensor,\n",
    "                 targets: List[torch.nn.Module] = None,\n",
    "                 aug_smooth: bool = False,\n",
    "                 eigen_smooth: bool = False) -> np.ndarray:\n",
    "\n",
    "        # Smooth the CAM result with test time augmentation\n",
    "        if aug_smooth is True:\n",
    "            return self.forward_augmentation_smoothing(\n",
    "                input_tensor, targets, eigen_smooth)\n",
    "\n",
    "        return self.forward(input_tensor,\n",
    "                            targets, eigen_smooth)\n",
    "\n",
    "    def __del__(self):\n",
    "        self.activations_and_grads.release()\n",
    "\n",
    "    def __enter__(self):\n",
    "        return self\n",
    "\n",
    "    def __exit__(self, exc_type, exc_value, exc_tb):\n",
    "        self.activations_and_grads.release()\n",
    "        if isinstance(exc_value, IndexError):\n",
    "            # Handle IndexError here...\n",
    "            print(\n",
    "                f\"An exception occurred in CAM with block: {exc_type}. Message: {exc_value}\")\n",
    "            return True\n"
   ]
  },
  {
   "cell_type": "code",
   "execution_count": 75,
   "id": "2d22fe0d-aa93-48a7-9177-a9dc30960127",
   "metadata": {
    "tags": []
   },
   "outputs": [],
   "source": [
    "from exlib.explainers.common import *\n",
    "from pytorch_grad_cam import GradCAM, HiResCAM, ScoreCAM, GradCAMPlusPlus, AblationCAM, XGradCAM, EigenCAM, FullGrad\n",
    "from pytorch_grad_cam.utils.model_targets import ClassifierOutputTarget, ClassifierOutputSoftmaxTarget\n",
    "\n",
    "class WrappedModelGradCAM(torch.nn.Module):\n",
    "    def __init__(self, model): \n",
    "        super(WrappedModelGradCAM, self).__init__()\n",
    "        self.model = model\n",
    "        for name, param in self.model.named_parameters():\n",
    "            param.requires_grad = True\n",
    "            \n",
    "    def forward(self, x):\n",
    "        return self.model(x)\n",
    "\n",
    "class GradCAMCls(FeatureAttrMethod):\n",
    "    def __init__(self, model, target_layers, reshape_transform=None):\n",
    "        \n",
    "        model = WrappedModelGradCAM(model)\n",
    "\n",
    "        super().__init__(model)\n",
    "        \n",
    "        self.target_layers = target_layers\n",
    "        with torch.enable_grad():\n",
    "            self.grad_cam = GradCAM(model=model, target_layers=self.target_layers,\n",
    "                                    reshape_transform=reshape_transform,\n",
    "                                    use_cuda=True if torch.cuda.is_available() else False)\n",
    "\n",
    "    def forward(self, X, label=None, target_func=ClassifierOutputSoftmaxTarget):\n",
    "        with torch.enable_grad():\n",
    "            grad_cam_result = self.grad_cam(input_tensor=X, targets=[target_func(label) for label in label])\n",
    "            grad_cam_result = torch.tensor(grad_cam_result)\n",
    "\n",
    "        return FeatureAttrOutput(grad_cam_result.unsqueeze(1), grad_cam_result)\n",
    "\n",
    "    \n",
    "class GradCAMText(BaseCAMText):\n",
    "    def __init__(self, model, target_layers, use_cuda=False,\n",
    "                 reshape_transform=None):\n",
    "        super(\n",
    "            GradCAMText,\n",
    "            self).__init__(\n",
    "            model,\n",
    "            target_layers,\n",
    "            use_cuda,\n",
    "            reshape_transform)\n",
    "\n",
    "    def get_cam_weights(self,\n",
    "                        input_tensor,\n",
    "                        target_layer,\n",
    "                        target_category,\n",
    "                        activations,\n",
    "                        grads):\n",
    "        return np.mean(grads, axis=(-1))\n",
    "\n",
    "class GradCAMTextCls(FeatureAttrMethod):\n",
    "    def __init__(self, model, target_layers, reshape_transform=None):\n",
    "        model = WrappedModelGradCAM(model)\n",
    "\n",
    "        super().__init__(model)\n",
    "        \n",
    "        self.target_layers = target_layers\n",
    "        with torch.enable_grad():\n",
    "            self.grad_cam = GradCAMText(model=model, target_layers=self.target_layers,\n",
    "                                    reshape_transform=reshape_transform,\n",
    "                                    use_cuda=True if torch.cuda.is_available() else False)\n",
    " \n",
    "    def forward(self, X, label=None, target_func=ClassifierOutputSoftmaxTarget):\n",
    "        grad_cam_results = []\n",
    "        for i in range(len(label)):\n",
    "            with torch.enable_grad():\n",
    "                grad_cam_result = self.grad_cam(input_tensor=X[i:i+1], \n",
    "                                                targets=[target_func(label[i:i+1])])\n",
    "                # import pdb; pdb.set_trace()\n",
    "                grad_cam_result = torch.tensor(grad_cam_result)\n",
    "                grad_cam_results.append(grad_cam_result)\n",
    "        grad_cam_results = torch.cat(grad_cam_results)\n",
    "\n",
    "        return FeatureAttrOutput(grad_cam_results.squeeze(1), {})"
   ]
  },
  {
   "cell_type": "code",
   "execution_count": 76,
   "id": "6d6e216e-90ec-417b-b307-d3b5360b7fb1",
   "metadata": {
    "tags": []
   },
   "outputs": [
    {
     "name": "stdout",
     "output_type": "stream",
     "text": [
      "> \u001b[0;32m/tmp/ipykernel_3796/2149128867.py\u001b[0m(56)\u001b[0;36mget_cam_image\u001b[0;34m()\u001b[0m\n",
      "\u001b[0;32m     54 \u001b[0;31m                                       grads)\n",
      "\u001b[0m\u001b[0;32m     55 \u001b[0;31m        \u001b[0;32mimport\u001b[0m \u001b[0mpdb\u001b[0m\u001b[0;34m;\u001b[0m \u001b[0mpdb\u001b[0m\u001b[0;34m.\u001b[0m\u001b[0mset_trace\u001b[0m\u001b[0;34m(\u001b[0m\u001b[0;34m)\u001b[0m\u001b[0;34m\u001b[0m\u001b[0;34m\u001b[0m\u001b[0m\n",
      "\u001b[0m\u001b[0;32m---> 56 \u001b[0;31m        \u001b[0;32mif\u001b[0m \u001b[0mlen\u001b[0m\u001b[0;34m(\u001b[0m\u001b[0mactivations\u001b[0m\u001b[0;34m.\u001b[0m\u001b[0mshape\u001b[0m\u001b[0;34m)\u001b[0m \u001b[0;34m==\u001b[0m \u001b[0;36m3\u001b[0m\u001b[0;34m:\u001b[0m\u001b[0;34m\u001b[0m\u001b[0;34m\u001b[0m\u001b[0m\n",
      "\u001b[0m\u001b[0;32m     57 \u001b[0;31m            \u001b[0mweighted_activations\u001b[0m \u001b[0;34m=\u001b[0m \u001b[0mweights\u001b[0m\u001b[0;34m[\u001b[0m\u001b[0;34m:\u001b[0m\u001b[0;34m,\u001b[0m \u001b[0;34m:\u001b[0m\u001b[0;34m,\u001b[0m \u001b[0;32mNone\u001b[0m\u001b[0;34m]\u001b[0m \u001b[0;34m*\u001b[0m \u001b[0mactivations\u001b[0m\u001b[0;34m\u001b[0m\u001b[0;34m\u001b[0m\u001b[0m\n",
      "\u001b[0m\u001b[0;32m     58 \u001b[0;31m        \u001b[0;32melif\u001b[0m \u001b[0mlen\u001b[0m\u001b[0;34m(\u001b[0m\u001b[0mactivations\u001b[0m\u001b[0;34m.\u001b[0m\u001b[0mshape\u001b[0m\u001b[0;34m)\u001b[0m \u001b[0;34m==\u001b[0m \u001b[0;36m2\u001b[0m\u001b[0;34m:\u001b[0m\u001b[0;34m\u001b[0m\u001b[0;34m\u001b[0m\u001b[0m\n",
      "\u001b[0m\n"
     ]
    },
    {
     "name": "stdin",
     "output_type": "stream",
     "text": [
      "ipdb>  c\n"
     ]
    },
    {
     "name": "stdout",
     "output_type": "stream",
     "text": [
      "> \u001b[0;32m/tmp/ipykernel_3796/2149128867.py\u001b[0m(56)\u001b[0;36mget_cam_image\u001b[0;34m()\u001b[0m\n",
      "\u001b[0;32m     54 \u001b[0;31m                                       grads)\n",
      "\u001b[0m\u001b[0;32m     55 \u001b[0;31m        \u001b[0;32mimport\u001b[0m \u001b[0mpdb\u001b[0m\u001b[0;34m;\u001b[0m \u001b[0mpdb\u001b[0m\u001b[0;34m.\u001b[0m\u001b[0mset_trace\u001b[0m\u001b[0;34m(\u001b[0m\u001b[0;34m)\u001b[0m\u001b[0;34m\u001b[0m\u001b[0;34m\u001b[0m\u001b[0m\n",
      "\u001b[0m\u001b[0;32m---> 56 \u001b[0;31m        \u001b[0;32mif\u001b[0m \u001b[0mlen\u001b[0m\u001b[0;34m(\u001b[0m\u001b[0mactivations\u001b[0m\u001b[0;34m.\u001b[0m\u001b[0mshape\u001b[0m\u001b[0;34m)\u001b[0m \u001b[0;34m==\u001b[0m \u001b[0;36m3\u001b[0m\u001b[0;34m:\u001b[0m\u001b[0;34m\u001b[0m\u001b[0;34m\u001b[0m\u001b[0m\n",
      "\u001b[0m\u001b[0;32m     57 \u001b[0;31m            \u001b[0mweighted_activations\u001b[0m \u001b[0;34m=\u001b[0m \u001b[0mweights\u001b[0m\u001b[0;34m[\u001b[0m\u001b[0;34m:\u001b[0m\u001b[0;34m,\u001b[0m \u001b[0;34m:\u001b[0m\u001b[0;34m,\u001b[0m \u001b[0;32mNone\u001b[0m\u001b[0;34m]\u001b[0m \u001b[0;34m*\u001b[0m \u001b[0mactivations\u001b[0m\u001b[0;34m\u001b[0m\u001b[0;34m\u001b[0m\u001b[0m\n",
      "\u001b[0m\u001b[0;32m     58 \u001b[0;31m        \u001b[0;32melif\u001b[0m \u001b[0mlen\u001b[0m\u001b[0;34m(\u001b[0m\u001b[0mactivations\u001b[0m\u001b[0;34m.\u001b[0m\u001b[0mshape\u001b[0m\u001b[0;34m)\u001b[0m \u001b[0;34m==\u001b[0m \u001b[0;36m2\u001b[0m\u001b[0;34m:\u001b[0m\u001b[0;34m\u001b[0m\u001b[0;34m\u001b[0m\u001b[0m\n",
      "\u001b[0m\n"
     ]
    },
    {
     "name": "stdin",
     "output_type": "stream",
     "text": [
      "ipdb>  c\n"
     ]
    }
   ],
   "source": [
    "gradcam_explainer = GradCAMTextCls(original_model2, \n",
    "                                    [original_model2.model.bert.encoder.layer[-1].output.LayerNorm]).to(device)\n",
    "\n",
    "gradcam_expln = gradcam_explainer(inputs, labels)"
   ]
  },
  {
   "cell_type": "code",
   "execution_count": 77,
   "id": "b484bb0a-151d-4f8a-830f-3dfe8924a0fc",
   "metadata": {
    "tags": []
   },
   "outputs": [
    {
     "data": {
      "text/plain": [
       "torch.Size([2, 512])"
      ]
     },
     "execution_count": 77,
     "metadata": {},
     "output_type": "execute_result"
    }
   ],
   "source": [
    "gradcam_expln.attributions.shape"
   ]
  },
  {
   "cell_type": "code",
   "execution_count": 78,
   "id": "94a8db5e-dcba-44c9-9451-e59ea57c01ec",
   "metadata": {
    "tags": []
   },
   "outputs": [
    {
     "data": {
      "text/plain": [
       "(tensor([[0., 0., 0.,  ..., 0., 0., 0.],\n",
       "         [0., 0., 0.,  ..., 0., 0., 0.]]),\n",
       " tensor(0.))"
      ]
     },
     "execution_count": 78,
     "metadata": {},
     "output_type": "execute_result"
    }
   ],
   "source": [
    "gradcam_expln.attributions, gradcam_expln.attributions.sum()"
   ]
  },
  {
   "cell_type": "code",
   "execution_count": 47,
   "id": "9bba260f-b3b6-4441-9a90-26ddcee74c68",
   "metadata": {
    "tags": []
   },
   "outputs": [
    {
     "data": {
      "text/markdown": [
       "<span style='background-color:rgb(nan,nan,nan)'> [CLS]</span><span style='background-color:rgb(nan,nan,nan)'> allan</span><span style='background-color:rgb(nan,nan,nan)'> sat</span><span style='background-color:rgb(nan,nan,nan)'> down</span><span style='background-color:rgb(nan,nan,nan)'> at</span><span style='background-color:rgb(nan,nan,nan)'> his</span><span style='background-color:rgb(nan,nan,nan)'> desk</span><span style='background-color:rgb(nan,nan,nan)'> and</span><span style='background-color:rgb(nan,nan,nan)'> pulled</span><span style='background-color:rgb(nan,nan,nan)'> the</span><span style='background-color:rgb(nan,nan,nan)'> chair</span><span style='background-color:rgb(nan,nan,nan)'> in</span><span style='background-color:rgb(nan,nan,nan)'> close</span><span style='background-color:rgb(nan,nan,nan)'> .</span><span style='background-color:rgb(nan,nan,nan)'> opening</span><span style='background-color:rgb(nan,nan,nan)'> a</span><span style='background-color:rgb(nan,nan,nan)'> side</span><span style='background-color:rgb(nan,nan,nan)'> drawer</span><span style='background-color:rgb(nan,nan,nan)'> ,</span><span style='background-color:rgb(nan,nan,nan)'> he</span><span style='background-color:rgb(nan,nan,nan)'> took</span><span style='background-color:rgb(nan,nan,nan)'> out</span><span style='background-color:rgb(nan,nan,nan)'> a</span><span style='background-color:rgb(nan,nan,nan)'> piece</span><span style='background-color:rgb(nan,nan,nan)'> of</span><span style='background-color:rgb(nan,nan,nan)'> paper</span><span style='background-color:rgb(nan,nan,nan)'> and</span><span style='background-color:rgb(nan,nan,nan)'> his</span><span style='background-color:rgb(nan,nan,nan)'> ink</span><span style='background-color:rgb(nan,nan,nan)'> ##pot</span><span style='background-color:rgb(nan,nan,nan)'> .</span><span style='background-color:rgb(nan,nan,nan)'> after</span><span style='background-color:rgb(nan,nan,nan)'> filling</span><span style='background-color:rgb(nan,nan,nan)'> his</span><span style='background-color:rgb(nan,nan,nan)'> pen</span><span style='background-color:rgb(nan,nan,nan)'> ,</span><span style='background-color:rgb(nan,nan,nan)'> allan</span><span style='background-color:rgb(nan,nan,nan)'> looked</span><span style='background-color:rgb(nan,nan,nan)'> at</span><span style='background-color:rgb(nan,nan,nan)'> his</span><span style='background-color:rgb(nan,nan,nan)'> paper</span><span style='background-color:rgb(nan,nan,nan)'> in</span><span style='background-color:rgb(nan,nan,nan)'> the</span><span style='background-color:rgb(nan,nan,nan)'> orange</span><span style='background-color:rgb(nan,nan,nan)'> glow</span><span style='background-color:rgb(nan,nan,nan)'> from</span><span style='background-color:rgb(nan,nan,nan)'> the</span><span style='background-color:rgb(nan,nan,nan)'> lantern</span><span style='background-color:rgb(nan,nan,nan)'> set</span><span style='background-color:rgb(nan,nan,nan)'> back</span><span style='background-color:rgb(nan,nan,nan)'> in</span><span style='background-color:rgb(nan,nan,nan)'> the</span><span style='background-color:rgb(nan,nan,nan)'> desk</span><span style='background-color:rgb(nan,nan,nan)'> '</span><span style='background-color:rgb(nan,nan,nan)'> s</span><span style='background-color:rgb(nan,nan,nan)'> right</span><span style='background-color:rgb(nan,nan,nan)'> -</span><span style='background-color:rgb(nan,nan,nan)'> hand</span><span style='background-color:rgb(nan,nan,nan)'> corner</span><span style='background-color:rgb(nan,nan,nan)'> .</span><span style='background-color:rgb(nan,nan,nan)'> his</span><span style='background-color:rgb(nan,nan,nan)'> pen</span><span style='background-color:rgb(nan,nan,nan)'> cast</span><span style='background-color:rgb(nan,nan,nan)'> a</span><span style='background-color:rgb(nan,nan,nan)'> forbid</span><span style='background-color:rgb(nan,nan,nan)'> ##ding</span><span style='background-color:rgb(nan,nan,nan)'> line</span><span style='background-color:rgb(nan,nan,nan)'> of</span><span style='background-color:rgb(nan,nan,nan)'> shadow</span><span style='background-color:rgb(nan,nan,nan)'> slant</span><span style='background-color:rgb(nan,nan,nan)'> ##ing</span><span style='background-color:rgb(nan,nan,nan)'> across</span><span style='background-color:rgb(nan,nan,nan)'> the</span><span style='background-color:rgb(nan,nan,nan)'> page</span><span style='background-color:rgb(nan,nan,nan)'> ,</span><span style='background-color:rgb(nan,nan,nan)'> echoing</span><span style='background-color:rgb(nan,nan,nan)'> the</span><span style='background-color:rgb(nan,nan,nan)'> ink</span><span style='background-color:rgb(nan,nan,nan)'> ##y</span><span style='background-color:rgb(nan,nan,nan)'> darkness</span><span style='background-color:rgb(nan,nan,nan)'> crouch</span><span style='background-color:rgb(nan,nan,nan)'> ##ing</span><span style='background-color:rgb(nan,nan,nan)'> in</span><span style='background-color:rgb(nan,nan,nan)'> the</span><span style='background-color:rgb(nan,nan,nan)'> edges</span><span style='background-color:rgb(nan,nan,nan)'> of</span><span style='background-color:rgb(nan,nan,nan)'> the</span><span style='background-color:rgb(nan,nan,nan)'> lantern</span><span style='background-color:rgb(nan,nan,nan)'> '</span><span style='background-color:rgb(nan,nan,nan)'> s</span><span style='background-color:rgb(nan,nan,nan)'> struggling</span><span style='background-color:rgb(nan,nan,nan)'> glow</span><span style='background-color:rgb(nan,nan,nan)'> .</span><span style='background-color:rgb(nan,nan,nan)'> the</span><span style='background-color:rgb(nan,nan,nan)'> only</span><span style='background-color:rgb(nan,nan,nan)'> other</span><span style='background-color:rgb(nan,nan,nan)'> illumination</span><span style='background-color:rgb(nan,nan,nan)'> came</span><span style='background-color:rgb(nan,nan,nan)'> from</span><span style='background-color:rgb(nan,nan,nan)'> a</span><span style='background-color:rgb(nan,nan,nan)'> lu</span><span style='background-color:rgb(nan,nan,nan)'> ##rid</span><span style='background-color:rgb(nan,nan,nan)'> moonlight</span><span style='background-color:rgb(nan,nan,nan)'> filtered</span><span style='background-color:rgb(nan,nan,nan)'> through</span><span style='background-color:rgb(nan,nan,nan)'> thin</span><span style='background-color:rgb(nan,nan,nan)'> branches</span><span style='background-color:rgb(nan,nan,nan)'> and</span><span style='background-color:rgb(nan,nan,nan)'> clouds</span><span style='background-color:rgb(nan,nan,nan)'> ,</span><span style='background-color:rgb(nan,nan,nan)'> casting</span><span style='background-color:rgb(nan,nan,nan)'> its</span><span style='background-color:rgb(nan,nan,nan)'> bone</span><span style='background-color:rgb(nan,nan,nan)'> -</span><span style='background-color:rgb(nan,nan,nan)'> pale</span><span style='background-color:rgb(nan,nan,nan)'> glow</span><span style='background-color:rgb(nan,nan,nan)'> onto</span><span style='background-color:rgb(nan,nan,nan)'> the</span><span style='background-color:rgb(nan,nan,nan)'> pine</span><span style='background-color:rgb(nan,nan,nan)'> floor</span><span style='background-color:rgb(nan,nan,nan)'> ##boards</span><span style='background-color:rgb(nan,nan,nan)'> .</span><span style='background-color:rgb(nan,nan,nan)'> allan</span><span style='background-color:rgb(nan,nan,nan)'> unfolded</span><span style='background-color:rgb(nan,nan,nan)'> another</span><span style='background-color:rgb(nan,nan,nan)'> page</span><span style='background-color:rgb(nan,nan,nan)'> ,</span><span style='background-color:rgb(nan,nan,nan)'> this</span><span style='background-color:rgb(nan,nan,nan)'> one</span><span style='background-color:rgb(nan,nan,nan)'> crowded</span><span style='background-color:rgb(nan,nan,nan)'> with</span><span style='background-color:rgb(nan,nan,nan)'> ranks</span><span style='background-color:rgb(nan,nan,nan)'> of</span><span style='background-color:rgb(nan,nan,nan)'> letters</span><span style='background-color:rgb(nan,nan,nan)'> in</span><span style='background-color:rgb(nan,nan,nan)'> tight</span><span style='background-color:rgb(nan,nan,nan)'> formation</span><span style='background-color:rgb(nan,nan,nan)'> from</span><span style='background-color:rgb(nan,nan,nan)'> left</span><span style='background-color:rgb(nan,nan,nan)'> to</span><span style='background-color:rgb(nan,nan,nan)'> right</span><span style='background-color:rgb(nan,nan,nan)'> .</span><span style='background-color:rgb(nan,nan,nan)'> the</span><span style='background-color:rgb(nan,nan,nan)'> lines</span><span style='background-color:rgb(nan,nan,nan)'> of</span><span style='background-color:rgb(nan,nan,nan)'> letters</span><span style='background-color:rgb(nan,nan,nan)'> stepped</span><span style='background-color:rgb(nan,nan,nan)'> into</span><span style='background-color:rgb(nan,nan,nan)'> their</span><span style='background-color:rgb(nan,nan,nan)'> divisions</span><span style='background-color:rgb(nan,nan,nan)'> ,</span><span style='background-color:rgb(nan,nan,nan)'> in</span><span style='background-color:rgb(nan,nan,nan)'> the</span><span style='background-color:rgb(nan,nan,nan)'> shape</span><span style='background-color:rgb(nan,nan,nan)'> of</span><span style='background-color:rgb(nan,nan,nan)'> a</span><span style='background-color:rgb(nan,nan,nan)'> story</span><span style='background-color:rgb(nan,nan,nan)'> '</span><span style='background-color:rgb(nan,nan,nan)'> s</span><span style='background-color:rgb(nan,nan,nan)'> outline</span><span style='background-color:rgb(nan,nan,nan)'> :</span><span style='background-color:rgb(nan,nan,nan)'> the</span><span style='background-color:rgb(nan,nan,nan)'> loose</span><span style='background-color:rgb(nan,nan,nan)'> ,</span><span style='background-color:rgb(nan,nan,nan)'> dry</span><span style='background-color:rgb(nan,nan,nan)'> skeleton</span><span style='background-color:rgb(nan,nan,nan)'> of</span><span style='background-color:rgb(nan,nan,nan)'> a</span><span style='background-color:rgb(nan,nan,nan)'> tale</span><span style='background-color:rgb(nan,nan,nan)'> lay</span><span style='background-color:rgb(nan,nan,nan)'> exposed</span><span style='background-color:rgb(nan,nan,nan)'> beneath</span><span style='background-color:rgb(nan,nan,nan)'> their</span><span style='background-color:rgb(nan,nan,nan)'> feet</span><span style='background-color:rgb(nan,nan,nan)'> ,</span><span style='background-color:rgb(nan,nan,nan)'> awaiting</span><span style='background-color:rgb(nan,nan,nan)'> tend</span><span style='background-color:rgb(nan,nan,nan)'> ##ons</span><span style='background-color:rgb(nan,nan,nan)'> ,</span><span style='background-color:rgb(nan,nan,nan)'> muscle</span><span style='background-color:rgb(nan,nan,nan)'> and</span><span style='background-color:rgb(nan,nan,nan)'> blushing</span><span style='background-color:rgb(nan,nan,nan)'> skin</span><span style='background-color:rgb(nan,nan,nan)'> .</span><span style='background-color:rgb(nan,nan,nan)'> allan</span><span style='background-color:rgb(nan,nan,nan)'> reviewed</span><span style='background-color:rgb(nan,nan,nan)'> the</span><span style='background-color:rgb(nan,nan,nan)'> troops</span><span style='background-color:rgb(nan,nan,nan)'> ,</span><span style='background-color:rgb(nan,nan,nan)'> all</span><span style='background-color:rgb(nan,nan,nan)'> prepared</span><span style='background-color:rgb(nan,nan,nan)'> to</span><span style='background-color:rgb(nan,nan,nan)'> di</span><span style='background-color:rgb(nan,nan,nan)'> ##se</span><span style='background-color:rgb(nan,nan,nan)'> ##mba</span><span style='background-color:rgb(nan,nan,nan)'> ##rk</span><span style='background-color:rgb(nan,nan,nan)'> ,</span><span style='background-color:rgb(nan,nan,nan)'> their</span><span style='background-color:rgb(nan,nan,nan)'> task</span><span style='background-color:rgb(nan,nan,nan)'> to</span><span style='background-color:rgb(nan,nan,nan)'> form</span><span style='background-color:rgb(nan,nan,nan)'> the</span><span style='background-color:rgb(nan,nan,nan)'> tale</span><span style='background-color:rgb(nan,nan,nan)'> of</span><span style='background-color:rgb(nan,nan,nan)'> a</span><span style='background-color:rgb(nan,nan,nan)'> young</span><span style='background-color:rgb(nan,nan,nan)'> man</span><span style='background-color:rgb(nan,nan,nan)'> returning</span><span style='background-color:rgb(nan,nan,nan)'> home</span><span style='background-color:rgb(nan,nan,nan)'> from</span><span style='background-color:rgb(nan,nan,nan)'> life</span><span style='background-color:rgb(nan,nan,nan)'> abroad</span><span style='background-color:rgb(nan,nan,nan)'> to</span><span style='background-color:rgb(nan,nan,nan)'> find</span><span style='background-color:rgb(nan,nan,nan)'> his</span><span style='background-color:rgb(nan,nan,nan)'> childhood</span><span style='background-color:rgb(nan,nan,nan)'> friend</span><span style='background-color:rgb(nan,nan,nan)'> a</span><span style='background-color:rgb(nan,nan,nan)'> bride</span><span style='background-color:rgb(nan,nan,nan)'> to</span><span style='background-color:rgb(nan,nan,nan)'> -</span><span style='background-color:rgb(nan,nan,nan)'> be</span><span style='background-color:rgb(nan,nan,nan)'> ,</span><span style='background-color:rgb(nan,nan,nan)'> thus</span><span style='background-color:rgb(nan,nan,nan)'> upset</span><span style='background-color:rgb(nan,nan,nan)'> ##ting</span><span style='background-color:rgb(nan,nan,nan)'> the</span><span style='background-color:rgb(nan,nan,nan)'> apple</span><span style='background-color:rgb(nan,nan,nan)'> cart</span><span style='background-color:rgb(nan,nan,nan)'> of</span><span style='background-color:rgb(nan,nan,nan)'> his</span><span style='background-color:rgb(nan,nan,nan)'> life</span><span style='background-color:rgb(nan,nan,nan)'> '</span><span style='background-color:rgb(nan,nan,nan)'> s</span><span style='background-color:rgb(nan,nan,nan)'> plan</span><span style='background-color:rgb(nan,nan,nan)'> ,</span><span style='background-color:rgb(nan,nan,nan)'> clarified</span><span style='background-color:rgb(nan,nan,nan)'> –</span><span style='background-color:rgb(nan,nan,nan)'> of</span><span style='background-color:rgb(nan,nan,nan)'> course</span><span style='background-color:rgb(nan,nan,nan)'> –</span><span style='background-color:rgb(nan,nan,nan)'> by</span><span style='background-color:rgb(nan,nan,nan)'> his</span><span style='background-color:rgb(nan,nan,nan)'> very</span><span style='background-color:rgb(nan,nan,nan)'> time</span><span style='background-color:rgb(nan,nan,nan)'> away</span><span style='background-color:rgb(nan,nan,nan)'> from</span><span style='background-color:rgb(nan,nan,nan)'> her</span><span style='background-color:rgb(nan,nan,nan)'> he</span><span style='background-color:rgb(nan,nan,nan)'> loved</span><span style='background-color:rgb(nan,nan,nan)'> best</span><span style='background-color:rgb(nan,nan,nan)'> .</span><span style='background-color:rgb(nan,nan,nan)'> although</span><span style='background-color:rgb(nan,nan,nan)'> the</span><span style='background-color:rgb(nan,nan,nan)'> concept</span><span style='background-color:rgb(nan,nan,nan)'> was</span><span style='background-color:rgb(nan,nan,nan)'> a</span><span style='background-color:rgb(nan,nan,nan)'> simple</span><span style='background-color:rgb(nan,nan,nan)'> one</span><span style='background-color:rgb(nan,nan,nan)'> ,</span><span style='background-color:rgb(nan,nan,nan)'> allan</span><span style='background-color:rgb(nan,nan,nan)'> thought</span><span style='background-color:rgb(nan,nan,nan)'> it</span><span style='background-color:rgb(nan,nan,nan)'> had</span><span style='background-color:rgb(nan,nan,nan)'> potential</span><span style='background-color:rgb(nan,nan,nan)'> .</span><span style='background-color:rgb(nan,nan,nan)'> besides</span><span style='background-color:rgb(nan,nan,nan)'> ,</span><span style='background-color:rgb(nan,nan,nan)'> the</span><span style='background-color:rgb(nan,nan,nan)'> public</span><span style='background-color:rgb(nan,nan,nan)'> liked</span><span style='background-color:rgb(nan,nan,nan)'> a</span><span style='background-color:rgb(nan,nan,nan)'> good</span><span style='background-color:rgb(nan,nan,nan)'> ,</span><span style='background-color:rgb(nan,nan,nan)'> simple</span><span style='background-color:rgb(nan,nan,nan)'> romance</span><span style='background-color:rgb(nan,nan,nan)'> .</span><span style='background-color:rgb(nan,nan,nan)'> perhaps</span><span style='background-color:rgb(nan,nan,nan)'> this</span><span style='background-color:rgb(nan,nan,nan)'> will</span><span style='background-color:rgb(nan,nan,nan)'> be</span><span style='background-color:rgb(nan,nan,nan)'> more</span><span style='background-color:rgb(nan,nan,nan)'> sale</span><span style='background-color:rgb(nan,nan,nan)'> ##able</span><span style='background-color:rgb(nan,nan,nan)'> ,</span><span style='background-color:rgb(nan,nan,nan)'> he</span><span style='background-color:rgb(nan,nan,nan)'> thought</span><span style='background-color:rgb(nan,nan,nan)'> and</span><span style='background-color:rgb(nan,nan,nan)'> began</span><span style='background-color:rgb(nan,nan,nan)'> to</span><span style='background-color:rgb(nan,nan,nan)'> write</span><span style='background-color:rgb(nan,nan,nan)'> .</span><span style='background-color:rgb(nan,nan,nan)'> they</span><span style='background-color:rgb(nan,nan,nan)'> gazed</span><span style='background-color:rgb(nan,nan,nan)'> at</span><span style='background-color:rgb(nan,nan,nan)'> each</span><span style='background-color:rgb(nan,nan,nan)'> other</span><span style='background-color:rgb(nan,nan,nan)'> ,</span><span style='background-color:rgb(nan,nan,nan)'> lost</span><span style='background-color:rgb(nan,nan,nan)'> in</span><span style='background-color:rgb(nan,nan,nan)'> the</span><span style='background-color:rgb(nan,nan,nan)'> rap</span><span style='background-color:rgb(nan,nan,nan)'> ##ture</span><span style='background-color:rgb(nan,nan,nan)'> of</span><span style='background-color:rgb(nan,nan,nan)'> love</span><span style='background-color:rgb(nan,nan,nan)'> based</span><span style='background-color:rgb(nan,nan,nan)'> so</span><span style='background-color:rgb(nan,nan,nan)'> deeply</span><span style='background-color:rgb(nan,nan,nan)'> within</span><span style='background-color:rgb(nan,nan,nan)'> their</span><span style='background-color:rgb(nan,nan,nan)'> hearts</span><span style='background-color:rgb(nan,nan,nan)'> that</span><span style='background-color:rgb(nan,nan,nan)'> they</span><span style='background-color:rgb(nan,nan,nan)'> had</span><span style='background-color:rgb(nan,nan,nan)'> never</span><span style='background-color:rgb(nan,nan,nan)'> seen</span><span style='background-color:rgb(nan,nan,nan)'> it</span><span style='background-color:rgb(nan,nan,nan)'> before</span><span style='background-color:rgb(nan,nan,nan)'> .</span><span style='background-color:rgb(nan,nan,nan)'> \"</span><span style='background-color:rgb(nan,nan,nan)'> what</span><span style='background-color:rgb(nan,nan,nan)'> about</span><span style='background-color:rgb(nan,nan,nan)'> roger</span><span style='background-color:rgb(nan,nan,nan)'> ?</span><span style='background-color:rgb(nan,nan,nan)'> \"</span><span style='background-color:rgb(nan,nan,nan)'> she</span><span style='background-color:rgb(nan,nan,nan)'> asked</span><span style='background-color:rgb(nan,nan,nan)'> ,</span><span style='background-color:rgb(nan,nan,nan)'> knowing</span><span style='background-color:rgb(nan,nan,nan)'> that</span><span style='background-color:rgb(nan,nan,nan)'> the</span><span style='background-color:rgb(nan,nan,nan)'> answer</span><span style='background-color:rgb(nan,nan,nan)'> no</span><span style='background-color:rgb(nan,nan,nan)'> longer</span><span style='background-color:rgb(nan,nan,nan)'> mattered</span><span style='background-color:rgb(nan,nan,nan)'> .</span><span style='background-color:rgb(nan,nan,nan)'> [SEP]</span><span style='background-color:rgb(nan,nan,nan)'> name</span><span style='background-color:rgb(nan,nan,nan)'> few</span><span style='background-color:rgb(nan,nan,nan)'> objects</span><span style='background-color:rgb(nan,nan,nan)'> said</span><span style='background-color:rgb(nan,nan,nan)'> to</span><span style='background-color:rgb(nan,nan,nan)'> be</span><span style='background-color:rgb(nan,nan,nan)'> in</span><span style='background-color:rgb(nan,nan,nan)'> or</span><span style='background-color:rgb(nan,nan,nan)'> on</span><span style='background-color:rgb(nan,nan,nan)'> allan</span><span style='background-color:rgb(nan,nan,nan)'> '</span><span style='background-color:rgb(nan,nan,nan)'> s</span><span style='background-color:rgb(nan,nan,nan)'> desk</span><span style='background-color:rgb(nan,nan,nan)'> |</span><span style='background-color:rgb(nan,nan,nan)'> |</span><span style='background-color:rgb(nan,nan,nan)'> erase</span><span style='background-color:rgb(nan,nan,nan)'> ##r</span><span style='background-color:rgb(nan,nan,nan)'> [SEP]</span><span style='background-color:rgb(nan,nan,nan)'> [PAD]</span><span style='background-color:rgb(nan,nan,nan)'> [PAD]</span><span style='background-color:rgb(nan,nan,nan)'> [PAD]</span><span style='background-color:rgb(nan,nan,nan)'> [PAD]</span><span style='background-color:rgb(nan,nan,nan)'> [PAD]</span><span style='background-color:rgb(nan,nan,nan)'> [PAD]</span><span style='background-color:rgb(nan,nan,nan)'> [PAD]</span><span style='background-color:rgb(nan,nan,nan)'> [PAD]</span><span style='background-color:rgb(nan,nan,nan)'> [PAD]</span><span style='background-color:rgb(nan,nan,nan)'> [PAD]</span><span style='background-color:rgb(nan,nan,nan)'> [PAD]</span><span style='background-color:rgb(nan,nan,nan)'> [PAD]</span><span style='background-color:rgb(nan,nan,nan)'> [PAD]</span><span style='background-color:rgb(nan,nan,nan)'> [PAD]</span><span style='background-color:rgb(nan,nan,nan)'> [PAD]</span><span style='background-color:rgb(nan,nan,nan)'> [PAD]</span><span style='background-color:rgb(nan,nan,nan)'> [PAD]</span><span style='background-color:rgb(nan,nan,nan)'> [PAD]</span><span style='background-color:rgb(nan,nan,nan)'> [PAD]</span><span style='background-color:rgb(nan,nan,nan)'> [PAD]</span><span style='background-color:rgb(nan,nan,nan)'> [PAD]</span><span style='background-color:rgb(nan,nan,nan)'> [PAD]</span><span style='background-color:rgb(nan,nan,nan)'> [PAD]</span><span style='background-color:rgb(nan,nan,nan)'> [PAD]</span><span style='background-color:rgb(nan,nan,nan)'> [PAD]</span><span style='background-color:rgb(nan,nan,nan)'> [PAD]</span><span style='background-color:rgb(nan,nan,nan)'> [PAD]</span><span style='background-color:rgb(nan,nan,nan)'> [PAD]</span><span style='background-color:rgb(nan,nan,nan)'> [PAD]</span><span style='background-color:rgb(nan,nan,nan)'> [PAD]</span><span style='background-color:rgb(nan,nan,nan)'> [PAD]</span><span style='background-color:rgb(nan,nan,nan)'> [PAD]</span><span style='background-color:rgb(nan,nan,nan)'> [PAD]</span><span style='background-color:rgb(nan,nan,nan)'> [PAD]</span><span style='background-color:rgb(nan,nan,nan)'> [PAD]</span><span style='background-color:rgb(nan,nan,nan)'> [PAD]</span><span style='background-color:rgb(nan,nan,nan)'> [PAD]</span><span style='background-color:rgb(nan,nan,nan)'> [PAD]</span><span style='background-color:rgb(nan,nan,nan)'> [PAD]</span><span style='background-color:rgb(nan,nan,nan)'> [PAD]</span><span style='background-color:rgb(nan,nan,nan)'> [PAD]</span><span style='background-color:rgb(nan,nan,nan)'> [PAD]</span><span style='background-color:rgb(nan,nan,nan)'> [PAD]</span><span style='background-color:rgb(nan,nan,nan)'> [PAD]</span><span style='background-color:rgb(nan,nan,nan)'> [PAD]</span><span style='background-color:rgb(nan,nan,nan)'> [PAD]</span><span style='background-color:rgb(nan,nan,nan)'> [PAD]</span><span style='background-color:rgb(nan,nan,nan)'> [PAD]</span><span style='background-color:rgb(nan,nan,nan)'> [PAD]</span><span style='background-color:rgb(nan,nan,nan)'> [PAD]</span><span style='background-color:rgb(nan,nan,nan)'> [PAD]</span><span style='background-color:rgb(nan,nan,nan)'> [PAD]</span><span style='background-color:rgb(nan,nan,nan)'> [PAD]</span><span style='background-color:rgb(nan,nan,nan)'> [PAD]</span><span style='background-color:rgb(nan,nan,nan)'> [PAD]</span><span style='background-color:rgb(nan,nan,nan)'> [PAD]</span><span style='background-color:rgb(nan,nan,nan)'> [PAD]</span><span style='background-color:rgb(nan,nan,nan)'> [PAD]</span><span style='background-color:rgb(nan,nan,nan)'> [PAD]</span><span style='background-color:rgb(nan,nan,nan)'> [PAD]</span><span style='background-color:rgb(nan,nan,nan)'> [PAD]</span><span style='background-color:rgb(nan,nan,nan)'> [PAD]</span><span style='background-color:rgb(nan,nan,nan)'> [PAD]</span><span style='background-color:rgb(nan,nan,nan)'> [PAD]</span><span style='background-color:rgb(nan,nan,nan)'> [PAD]</span><span style='background-color:rgb(nan,nan,nan)'> [PAD]</span><span style='background-color:rgb(nan,nan,nan)'> [PAD]</span><span style='background-color:rgb(nan,nan,nan)'> [PAD]</span><span style='background-color:rgb(nan,nan,nan)'> [PAD]</span><span style='background-color:rgb(nan,nan,nan)'> [PAD]</span><span style='background-color:rgb(nan,nan,nan)'> [PAD]</span><span style='background-color:rgb(nan,nan,nan)'> [PAD]</span><span style='background-color:rgb(nan,nan,nan)'> [PAD]</span><span style='background-color:rgb(nan,nan,nan)'> [PAD]</span><span style='background-color:rgb(nan,nan,nan)'> [PAD]</span><span style='background-color:rgb(nan,nan,nan)'> [PAD]</span><span style='background-color:rgb(nan,nan,nan)'> [PAD]</span><span style='background-color:rgb(nan,nan,nan)'> [PAD]</span><span style='background-color:rgb(nan,nan,nan)'> [PAD]</span><span style='background-color:rgb(nan,nan,nan)'> [PAD]</span><span style='background-color:rgb(nan,nan,nan)'> [PAD]</span><span style='background-color:rgb(nan,nan,nan)'> [PAD]</span><span style='background-color:rgb(nan,nan,nan)'> [PAD]</span><span style='background-color:rgb(nan,nan,nan)'> [PAD]</span><span style='background-color:rgb(nan,nan,nan)'> [PAD]</span><span style='background-color:rgb(nan,nan,nan)'> [PAD]</span><span style='background-color:rgb(nan,nan,nan)'> [PAD]</span><span style='background-color:rgb(nan,nan,nan)'> [PAD]</span><span style='background-color:rgb(nan,nan,nan)'> [PAD]</span><span style='background-color:rgb(nan,nan,nan)'> [PAD]</span><span style='background-color:rgb(nan,nan,nan)'> [PAD]</span><span style='background-color:rgb(nan,nan,nan)'> [PAD]</span><span style='background-color:rgb(nan,nan,nan)'> [PAD]</span><span style='background-color:rgb(nan,nan,nan)'> [PAD]</span><span style='background-color:rgb(nan,nan,nan)'> [PAD]</span><span style='background-color:rgb(nan,nan,nan)'> [PAD]</span><span style='background-color:rgb(nan,nan,nan)'> [PAD]</span><span style='background-color:rgb(nan,nan,nan)'> [PAD]</span><span style='background-color:rgb(nan,nan,nan)'> [PAD]</span><span style='background-color:rgb(nan,nan,nan)'> [PAD]</span><span style='background-color:rgb(nan,nan,nan)'> [PAD]</span><span style='background-color:rgb(nan,nan,nan)'> [PAD]</span><span style='background-color:rgb(nan,nan,nan)'> [PAD]</span><span style='background-color:rgb(nan,nan,nan)'> [PAD]</span><span style='background-color:rgb(nan,nan,nan)'> [PAD]</span><span style='background-color:rgb(nan,nan,nan)'> [PAD]</span><span style='background-color:rgb(nan,nan,nan)'> [PAD]</span><span style='background-color:rgb(nan,nan,nan)'> [PAD]</span><span style='background-color:rgb(nan,nan,nan)'> [PAD]</span><span style='background-color:rgb(nan,nan,nan)'> [PAD]</span><span style='background-color:rgb(nan,nan,nan)'> [PAD]</span><span style='background-color:rgb(nan,nan,nan)'> [PAD]</span><span style='background-color:rgb(nan,nan,nan)'> [PAD]</span><span style='background-color:rgb(nan,nan,nan)'> [PAD]</span><span style='background-color:rgb(nan,nan,nan)'> [PAD]</span><span style='background-color:rgb(nan,nan,nan)'> [PAD]</span><span style='background-color:rgb(nan,nan,nan)'> [PAD]</span><span style='background-color:rgb(nan,nan,nan)'> [PAD]</span><span style='background-color:rgb(nan,nan,nan)'> [PAD]</span><span style='background-color:rgb(nan,nan,nan)'> [PAD]</span><span style='background-color:rgb(nan,nan,nan)'> [PAD]</span><span style='background-color:rgb(nan,nan,nan)'> [PAD]</span><span style='background-color:rgb(nan,nan,nan)'> [PAD]</span><span style='background-color:rgb(nan,nan,nan)'> [PAD]</span><span style='background-color:rgb(nan,nan,nan)'> [PAD]</span><span style='background-color:rgb(nan,nan,nan)'> [PAD]</span><span style='background-color:rgb(nan,nan,nan)'> [PAD]</span><span style='background-color:rgb(nan,nan,nan)'> [PAD]</span><span style='background-color:rgb(nan,nan,nan)'> [PAD]</span><span style='background-color:rgb(nan,nan,nan)'> [PAD]</span><span style='background-color:rgb(nan,nan,nan)'> [PAD]</span><span style='background-color:rgb(nan,nan,nan)'> [PAD]</span><span style='background-color:rgb(nan,nan,nan)'> [PAD]</span><span style='background-color:rgb(nan,nan,nan)'> [PAD]</span><span style='background-color:rgb(nan,nan,nan)'> [PAD]</span><span style='background-color:rgb(nan,nan,nan)'> [PAD]</span><span style='background-color:rgb(nan,nan,nan)'> [PAD]</span><span style='background-color:rgb(nan,nan,nan)'> [PAD]</span><span style='background-color:rgb(nan,nan,nan)'> [PAD]</span><span style='background-color:rgb(nan,nan,nan)'> [PAD]</span><span style='background-color:rgb(nan,nan,nan)'> [PAD]</span><span style='background-color:rgb(nan,nan,nan)'> [PAD]</span><span style='background-color:rgb(nan,nan,nan)'> [PAD]</span><span style='background-color:rgb(nan,nan,nan)'> [PAD]</span><span style='background-color:rgb(nan,nan,nan)'> [PAD]</span><span style='background-color:rgb(nan,nan,nan)'> [PAD]</span><span style='background-color:rgb(nan,nan,nan)'> [PAD]</span><span style='background-color:rgb(nan,nan,nan)'> [PAD]</span><span style='background-color:rgb(nan,nan,nan)'> [PAD]</span><span style='background-color:rgb(nan,nan,nan)'> [PAD]</span><span style='background-color:rgb(nan,nan,nan)'> [PAD]</span><span style='background-color:rgb(nan,nan,nan)'> [PAD]</span><span style='background-color:rgb(nan,nan,nan)'> [PAD]</span><span style='background-color:rgb(nan,nan,nan)'> [PAD]</span><span style='background-color:rgb(nan,nan,nan)'> [PAD]</span><span style='background-color:rgb(nan,nan,nan)'> [PAD]</span><span style='background-color:rgb(nan,nan,nan)'> [PAD]</span>"
      ],
      "text/plain": [
       "<IPython.core.display.Markdown object>"
      ]
     },
     "metadata": {},
     "output_type": "display_data"
    }
   ],
   "source": [
    "from IPython.display import Markdown, display\n",
    "def printmd(string):\n",
    "    display(Markdown(string))\n",
    "\n",
    "def show_attrs(tokens, masks, normalize=True):\n",
    "    if normalize:\n",
    "        masks_max = masks.max(-1).values\n",
    "        masks_min = masks.min(-1).values\n",
    "        # import pdb; pdb.set_trace()\n",
    "        masks = (masks - masks_min) / (masks_max - masks_min)\n",
    "    print_str = \"\"\n",
    "    for i in range(len(tokens)):\n",
    "        expln_val = masks[i].item()\n",
    "        if expln_val == 0:\n",
    "            print_str += f\" {tokens[i]}\"\n",
    "        else:\n",
    "            print_str += f\"<span style='background-color:rgb({255 * (1-expln_val)},{255 * expln_val},{255 * expln_val})'> {tokens[i]}</span>\"\n",
    "    return print_str\n",
    "\n",
    "tokens = processor.convert_ids_to_tokens(inputs[0])\n",
    "# tokens = shap_expln.explainer_output.data[0]\n",
    "printmd(show_attrs(tokens, gradcam_expln.attributions[0]))"
   ]
  },
  {
   "cell_type": "code",
   "execution_count": 39,
   "id": "bcb5d052-42e9-4a4d-a2aa-f5ed41f30c99",
   "metadata": {
    "tags": []
   },
   "outputs": [
    {
     "data": {
      "application/vnd.jupyter.widget-view+json": {
       "model_id": "61156955303748598d794416b6104de1",
       "version_major": 2,
       "version_minor": 0
      },
      "text/plain": [
       "  0%|          | 0/2 [00:00<?, ?it/s]"
      ]
     },
     "metadata": {},
     "output_type": "display_data"
    },
    {
     "data": {
      "text/plain": [
       "(tensor([25.0217, 90.4046]), tensor(1))"
      ]
     },
     "execution_count": 39,
     "metadata": {},
     "output_type": "execute_result"
    }
   ],
   "source": [
    "j = 0\n",
    "grouped_attrs_gradcam = []\n",
    "for i in tqdm(range(2)):\n",
    "    gradcam_expln = gradcam_explainer(inputs[j][None], torch.tensor([i]))\n",
    "    grouped_attrs_gradcam.append(gradcam_expln.attributions.sum(1).view(-1))\n",
    "grouped_attrs_gradcam_aggr = torch.stack(grouped_attrs_gradcam).sum(-1)\n",
    "grouped_attrs_gradcam_aggr, torch.argmax(grouped_attrs_gradcam_aggr)"
   ]
  },
  {
   "cell_type": "markdown",
   "id": "d50112fa-5d6e-4c5c-a155-4530ded69319",
   "metadata": {
    "tags": []
   },
   "source": [
    "## IDG"
   ]
  },
  {
   "cell_type": "code",
   "execution_count": 15,
   "id": "4885a1f5-6e10-417b-a7f1-b6e39ca4bed9",
   "metadata": {
    "tags": []
   },
   "outputs": [
    {
     "name": "stdout",
     "output_type": "stream",
     "text": [
      "huggingface/tokenizers: The current process just got forked, after parallelism has already been used. Disabling parallelism to avoid deadlocks...\n",
      "To disable this warning, you can either:\n",
      "\t- Avoid using `tokenizers` before the fork if possible\n",
      "\t- Explicitly set the environment variable TOKENIZERS_PARALLELISM=(true | false)\n",
      "Collecting graphviz\n",
      "  Downloading graphviz-0.20.1-py3-none-any.whl (47 kB)\n",
      "\u001b[2K     \u001b[90m━━━━━━━━━━━━━━━━━━━━━━━━━━━━━━━━━━━━━━━━\u001b[0m \u001b[32m47.0/47.0 kB\u001b[0m \u001b[31m1.1 MB/s\u001b[0m eta \u001b[36m0:00:00\u001b[0m\n",
      "\u001b[?25hInstalling collected packages: graphviz\n",
      "Successfully installed graphviz-0.20.1\n"
     ]
    }
   ],
   "source": [
    "!pip install graphviz"
   ]
  },
  {
   "cell_type": "code",
   "execution_count": 19,
   "id": "faf29b7b-adc4-4658-b971-7c134b0976b7",
   "metadata": {
    "tags": []
   },
   "outputs": [
    {
     "name": "stdout",
     "output_type": "stream",
     "text": [
      "huggingface/tokenizers: The current process just got forked, after parallelism has already been used. Disabling parallelism to avoid deadlocks...\n",
      "To disable this warning, you can either:\n",
      "\t- Avoid using `tokenizers` before the fork if possible\n",
      "\t- Explicitly set the environment variable TOKENIZERS_PARALLELISM=(true | false)\n",
      "Collecting captum==0.2.0\n",
      "  Downloading captum-0.2.0-py3-none-any.whl (1.4 MB)\n",
      "\u001b[2K     \u001b[90m━━━━━━━━━━━━━━━━━━━━━━━━━━━━━━━━━━━━━━━━\u001b[0m \u001b[32m1.4/1.4 MB\u001b[0m \u001b[31m41.2 MB/s\u001b[0m eta \u001b[36m0:00:00\u001b[0m\n",
      "\u001b[?25hRequirement already satisfied: torch>=1.2 in /opt/conda/envs/rapids/lib/python3.10/site-packages (from captum==0.2.0) (2.0.1+cu118)\n",
      "Requirement already satisfied: matplotlib in /opt/conda/envs/rapids/lib/python3.10/site-packages (from captum==0.2.0) (3.7.1)\n",
      "Requirement already satisfied: numpy in /opt/conda/envs/rapids/lib/python3.10/site-packages (from captum==0.2.0) (1.23.5)\n",
      "Requirement already satisfied: sympy in /opt/conda/envs/rapids/lib/python3.10/site-packages (from torch>=1.2->captum==0.2.0) (1.12)\n",
      "Requirement already satisfied: typing-extensions in /opt/conda/envs/rapids/lib/python3.10/site-packages (from torch>=1.2->captum==0.2.0) (4.9.0)\n",
      "Requirement already satisfied: jinja2 in /opt/conda/envs/rapids/lib/python3.10/site-packages (from torch>=1.2->captum==0.2.0) (3.1.2)\n",
      "Requirement already satisfied: filelock in /opt/conda/envs/rapids/lib/python3.10/site-packages (from torch>=1.2->captum==0.2.0) (3.12.2)\n",
      "Requirement already satisfied: networkx in /opt/conda/envs/rapids/lib/python3.10/site-packages (from torch>=1.2->captum==0.2.0) (3.1)\n",
      "Requirement already satisfied: triton==2.0.0 in /opt/conda/envs/rapids/lib/python3.10/site-packages (from torch>=1.2->captum==0.2.0) (2.0.0)\n",
      "Requirement already satisfied: lit in /opt/conda/envs/rapids/lib/python3.10/site-packages (from triton==2.0.0->torch>=1.2->captum==0.2.0) (15.0.7)\n",
      "Requirement already satisfied: cmake in /opt/conda/envs/rapids/lib/python3.10/site-packages (from triton==2.0.0->torch>=1.2->captum==0.2.0) (3.25.0)\n",
      "Requirement already satisfied: cycler>=0.10 in /opt/conda/envs/rapids/lib/python3.10/site-packages (from matplotlib->captum==0.2.0) (0.11.0)\n",
      "Requirement already satisfied: contourpy>=1.0.1 in /opt/conda/envs/rapids/lib/python3.10/site-packages (from matplotlib->captum==0.2.0) (1.0.7)\n",
      "Requirement already satisfied: pyparsing>=2.3.1 in /opt/conda/envs/rapids/lib/python3.10/site-packages (from matplotlib->captum==0.2.0) (3.0.9)\n",
      "Requirement already satisfied: python-dateutil>=2.7 in /opt/conda/envs/rapids/lib/python3.10/site-packages (from matplotlib->captum==0.2.0) (2.8.2)\n",
      "Requirement already satisfied: packaging>=20.0 in /opt/conda/envs/rapids/lib/python3.10/site-packages (from matplotlib->captum==0.2.0) (23.1)\n",
      "Requirement already satisfied: kiwisolver>=1.0.1 in /opt/conda/envs/rapids/lib/python3.10/site-packages (from matplotlib->captum==0.2.0) (1.4.4)\n",
      "Requirement already satisfied: fonttools>=4.22.0 in /opt/conda/envs/rapids/lib/python3.10/site-packages (from matplotlib->captum==0.2.0) (4.39.3)\n",
      "Requirement already satisfied: pillow>=6.2.0 in /opt/conda/envs/rapids/lib/python3.10/site-packages (from matplotlib->captum==0.2.0) (9.4.0)\n",
      "Requirement already satisfied: six>=1.5 in /opt/conda/envs/rapids/lib/python3.10/site-packages (from python-dateutil>=2.7->matplotlib->captum==0.2.0) (1.16.0)\n",
      "Requirement already satisfied: MarkupSafe>=2.0 in /opt/conda/envs/rapids/lib/python3.10/site-packages (from jinja2->torch>=1.2->captum==0.2.0) (2.1.2)\n",
      "Requirement already satisfied: mpmath>=0.19 in /opt/conda/envs/rapids/lib/python3.10/site-packages (from sympy->torch>=1.2->captum==0.2.0) (1.3.0)\n",
      "Installing collected packages: captum\n",
      "  Attempting uninstall: captum\n",
      "    Found existing installation: captum 0.7.0\n",
      "    Uninstalling captum-0.7.0:\n",
      "      Successfully uninstalled captum-0.7.0\n",
      "Successfully installed captum-0.2.0\n"
     ]
    }
   ],
   "source": [
    "!pip install captum==0.2.0"
   ]
  },
  {
   "cell_type": "code",
   "execution_count": 15,
   "id": "610623b5-acb2-4878-a843-1073e6e7ad45",
   "metadata": {
    "tags": []
   },
   "outputs": [
    {
     "name": "stderr",
     "output_type": "stream",
     "text": [
      "Some weights of the model checkpoint at xlnet-large-cased were not used when initializing XLNetModel: ['lm_loss.bias', 'lm_loss.weight']\n",
      "- This IS expected if you are initializing XLNetModel from the checkpoint of a model trained on another task or with another architecture (e.g. initializing a BertForSequenceClassification model from a BertForPreTraining model).\n",
      "- This IS NOT expected if you are initializing XLNetModel from the checkpoint of a model that you expect to be exactly identical (initializing a BertForSequenceClassification model from a BertForSequenceClassification model).\n",
      "size_average and reduce args will be deprecated, please use reduction='sum' instead.\n"
     ]
    }
   ],
   "source": [
    "from exlib.explainers.idg import IDGTextCls\n",
    "\n",
    "explainer = IDGTextCls(original_model3, processor).to(device)"
   ]
  },
  {
   "cell_type": "code",
   "execution_count": 16,
   "id": "a47d1fbc-0af0-4e19-a2be-338fbc17554b",
   "metadata": {
    "tags": []
   },
   "outputs": [
    {
     "name": "stderr",
     "output_type": "stream",
     "text": [
      "indexing with dtype torch.uint8 is now deprecated, please use a dtype torch.bool instead. (Triggered internally at ../aten/src/ATen/native/IndexingUtils.h:27.)\n",
      "masked_fill_ received a mask with dtype torch.uint8, this behavior is now deprecated,please use a mask with dtype torch.bool instead. (Triggered internally at ../aten/src/ATen/native/cuda/Indexing.cu:1440.)\n",
      "indexing with dtype torch.uint8 is now deprecated, please use a dtype torch.bool instead. (Triggered internally at ../aten/src/ATen/native/IndexingUtils.h:27.)\n",
      "indexing with dtype torch.uint8 is now deprecated, please use a dtype torch.bool instead. (Triggered internally at ../aten/src/ATen/native/IndexingUtils.h:27.)\n"
     ]
    },
    {
     "name": "stdout",
     "output_type": "stream",
     "text": [
      "class distribution: tensor([[3.0071e-04, 9.9970e-01]], device='cuda:0')\n"
     ]
    },
    {
     "name": "stderr",
     "output_type": "stream",
     "text": [
      "dropout2d: Received a 2-D input to dropout2d, which is deprecated and will result in an error in a future release. To retain the behavior and silence this warning, please use dropout instead. Note that dropout2d exists to provide channel-wise dropout on inputs with 2 spatial dimensions, a channel dimension, and an optional batch dimension (i.e. 3D or 4D inputs).\n"
     ]
    }
   ],
   "source": [
    "sentence = processor.decode(inputs[0])\n",
    "sentence = sentence.replace('[CLS]', '').replace('[SEP]', '').strip()\n",
    "\n",
    "idg_expln = explainer([sentence], labels)"
   ]
  },
  {
   "cell_type": "code",
   "execution_count": 20,
   "id": "7578f426-2df1-4dc1-aaea-026d08accd4c",
   "metadata": {
    "tags": []
   },
   "outputs": [
    {
     "data": {
      "application/vnd.jupyter.widget-view+json": {
       "model_id": "094a41aa6b8843b094192c722db9b404",
       "version_major": 2,
       "version_minor": 0
      },
      "text/plain": [
       "  0%|          | 0/2 [00:00<?, ?it/s]"
      ]
     },
     "metadata": {},
     "output_type": "display_data"
    },
    {
     "name": "stdout",
     "output_type": "stream",
     "text": [
      "wrong inference\n",
      "class distribution: tensor([[3.0071e-04, 9.9970e-01]], device='cuda:0')\n",
      "torch.Size([1, 21])\n",
      "class distribution: tensor([[3.0071e-04, 9.9970e-01]], device='cuda:0')\n",
      "torch.Size([1, 21])\n"
     ]
    },
    {
     "data": {
      "text/plain": [
       "(tensor([6.0792, 6.0790]), tensor(0))"
      ]
     },
     "execution_count": 20,
     "metadata": {},
     "output_type": "execute_result"
    }
   ],
   "source": [
    "j = 0\n",
    "grouped_attrs_idg = []\n",
    "for i in tqdm(range(2)):\n",
    "    idg_expln = explainer([sentence], torch.tensor([i]))\n",
    "    print(idg_expln.attributions.shape)\n",
    "    grouped_attrs_idg.append(idg_expln.attributions.sum(1).view(-1))\n",
    "grouped_attrs_idg_aggr = torch.stack(grouped_attrs_idg).sum(-1)\n",
    "grouped_attrs_idg_aggr, torch.argmax(grouped_attrs_idg_aggr)"
   ]
  },
  {
   "cell_type": "markdown",
   "id": "2a967246-b9d2-47c5-a043-9f02e2d3ef26",
   "metadata": {
    "jp-MarkdownHeadingCollapsed": true,
    "tags": []
   },
   "source": [
    "### testing"
   ]
  },
  {
   "cell_type": "code",
   "execution_count": 27,
   "id": "1062e71a-b252-48bb-8893-35e48e3cf1c6",
   "metadata": {
    "tags": []
   },
   "outputs": [],
   "source": [
    "import sys\n",
    "sys.path.append('../../lib/LAL-Parser')\n",
    "sys.path.append('../../lib/LAL-Parser/src_joint')\n",
    "from src_joint import KM_parser\n",
    "from src_joint.main import REVERSE_TOKEN_MAPPING\n",
    "\n",
    "def torch_load(load_path):\n",
    "    if KM_parser.use_cuda:\n",
    "        return torch.load(load_path)\n",
    "    else:\n",
    "        return torch.load(load_path, map_location=lambda storage, location: storage)\n",
    "    \n",
    "model_path_base = '../../lib/LAL-Parser/best_parser.pt'\n",
    "info = torch_load(model_path_base)"
   ]
  },
  {
   "cell_type": "code",
   "execution_count": 16,
   "id": "bed6946e-aeac-42f8-8501-1e825d2d79f5",
   "metadata": {
    "tags": []
   },
   "outputs": [
    {
     "name": "stdout",
     "output_type": "stream",
     "text": [
      "huggingface/tokenizers: The current process just got forked, after parallelism has already been used. Disabling parallelism to avoid deadlocks...\n",
      "To disable this warning, you can either:\n",
      "\t- Avoid using `tokenizers` before the fork if possible\n",
      "\t- Explicitly set the environment variable TOKENIZERS_PARALLELISM=(true | false)\n",
      "Requirement already satisfied: sentencepiece in /opt/conda/envs/rapids/lib/python3.10/site-packages (0.1.99)\n"
     ]
    }
   ],
   "source": [
    "!pip install sentencepiece"
   ]
  },
  {
   "cell_type": "code",
   "execution_count": 17,
   "id": "77594486-e44f-4346-8e04-c4ce72e843d5",
   "metadata": {
    "tags": []
   },
   "outputs": [
    {
     "name": "stderr",
     "output_type": "stream",
     "text": [
      "Some weights of the model checkpoint at xlnet-large-cased were not used when initializing XLNetModel: ['lm_loss.weight', 'lm_loss.bias']\n",
      "- This IS expected if you are initializing XLNetModel from the checkpoint of a model trained on another task or with another architecture (e.g. initializing a BertForSequenceClassification model from a BertForPreTraining model).\n",
      "- This IS NOT expected if you are initializing XLNetModel from the checkpoint of a model that you expect to be exactly identical (initializing a BertForSequenceClassification model from a BertForSequenceClassification model).\n",
      "/opt/conda/envs/rapids/lib/python3.10/site-packages/torch/nn/_reduction.py:42: UserWarning: size_average and reduce args will be deprecated, please use reduction='sum' instead.\n",
      "  warnings.warn(warning.format(ret))\n"
     ]
    }
   ],
   "source": [
    "parser = KM_parser.ChartParser.from_spec(info['spec'], info['state_dict'])\n",
    "parser.eval();"
   ]
  },
  {
   "cell_type": "code",
   "execution_count": 18,
   "id": "89dd5704-1419-44bc-801f-effc0371962a",
   "metadata": {
    "tags": []
   },
   "outputs": [
    {
     "data": {
      "text/plain": [
       "'it s a lovely film with lovely performances by buy and accorsi'"
      ]
     },
     "execution_count": 18,
     "metadata": {},
     "output_type": "execute_result"
    }
   ],
   "source": [
    "sentence = processor.decode(inputs[0])\n",
    "sentence = sentence.replace('[CLS]', '').replace('[SEP]', '').strip()\n",
    "sentence"
   ]
  },
  {
   "cell_type": "code",
   "execution_count": 21,
   "id": "2883d9f1-b039-4052-9ae6-5778bb36fb8f",
   "metadata": {
    "tags": []
   },
   "outputs": [
    {
     "name": "stderr",
     "output_type": "stream",
     "text": [
      "/shared_data0/weiqiuy/sop/notebooks/text/../../lib/LAL-Parser/src_joint/KM_parser.py:1763: UserWarning: indexing with dtype torch.uint8 is now deprecated, please use a dtype torch.bool instead. (Triggered internally at ../aten/src/ATen/native/IndexingUtils.h:27.)\n",
      "  features_packed = features.masked_select(all_word_end_mask.to(DTYPE).unsqueeze(-1)).reshape(-1,\n",
      "/shared_data0/weiqiuy/sop/notebooks/text/../../lib/LAL-Parser/src_joint/KM_parser.py:230: UserWarning: masked_fill_ received a mask with dtype torch.uint8, this behavior is now deprecated,please use a mask with dtype torch.bool instead. (Triggered internally at ../aten/src/ATen/native/cuda/Indexing.cu:1440.)\n",
      "  attn.data.masked_fill_(attn_mask, -float('inf'))\n",
      "/shared_data0/weiqiuy/sop/notebooks/text/../../lib/LAL-Parser/src_joint/KM_parser.py:397: UserWarning: indexing with dtype torch.uint8 is now deprecated, please use a dtype torch.bool instead. (Triggered internally at ../aten/src/ATen/native/IndexingUtils.h:27.)\n",
      "  outputs = outputs_padded[output_mask]\n",
      "/shared_data0/weiqiuy/sop/notebooks/text/../../lib/LAL-Parser/src_joint/KM_parser.py:1091: UserWarning: indexing with dtype torch.uint8 is now deprecated, please use a dtype torch.bool instead. (Triggered internally at ../aten/src/ATen/native/IndexingUtils.h:27.)\n",
      "  outputs = outputs_padded[output_mask]\n",
      "/opt/conda/envs/rapids/lib/python3.10/site-packages/torch/nn/functional.py:1331: UserWarning: dropout2d: Received a 2-D input to dropout2d, which is deprecated and will result in an error in a future release. To retain the behavior and silence this warning, please use dropout instead. Note that dropout2d exists to provide channel-wise dropout on inputs with 2 spatial dimensions, a channel dimension, and an optional batch dimension (i.e. 3D or 4D inputs).\n",
      "  warnings.warn(warn_msg)\n"
     ]
    },
    {
     "data": {
      "text/plain": [
       "['(S (NP (PRP it)) (VP (VBZ s) (NP (NP (DT a) (JJ lovely) (NN film)) (PP (IN with) (NP (NP (JJ lovely) (NNS performances)) (PP (IN by) (NP (NN buy) (CC and) (NN accorsi))))))))']"
      ]
     },
     "execution_count": 21,
     "metadata": {},
     "output_type": "execute_result"
    }
   ],
   "source": [
    "import nltk\n",
    "from nltk import word_tokenize, sent_tokenize\n",
    "\n",
    "subbatch_sentences = [sentence]\n",
    "\n",
    "tagged_sentences = [[(REVERSE_TOKEN_MAPPING.get(tag, tag), REVERSE_TOKEN_MAPPING.get(word, word)) \\\n",
    "                     for word, tag in nltk.pos_tag(word_tokenize(sentence))] for sentence in subbatch_sentences]\n",
    "syntree, _ = parser.parse_batch(tagged_sentences)\n",
    "trees = [syntree[0].convert().linearize()]\n",
    "trees"
   ]
  },
  {
   "cell_type": "code",
   "execution_count": 34,
   "id": "96a71923-82ed-4263-a9f8-fb86af0ace98",
   "metadata": {
    "tags": []
   },
   "outputs": [
    {
     "name": "stdout",
     "output_type": "stream",
     "text": [
      "wrong inference\n",
      "class distribution: tensor([[3.0071e-04, 9.9970e-01]], device='cuda:0')\n"
     ]
    }
   ],
   "source": [
    "import sys\n",
    "sys.path.append('../../lib/integrated-directional-gradients')\n",
    "from IDG.utils import load_model\n",
    "# from transformers import XLNetTokenizer, BertTokenizer\n",
    "import torch\n",
    "from IDG.calculate_gradients import execute_IDG\n",
    "import click\n",
    "\n",
    "# trees = [\"(3 (2 (2 The) (2 Rock)) (4 (3 (2 is) (4 (2 destined) (2 (2 (2 (2 (2 to) (2 (2 be) (2 (2 the) (2 (2 21st) (2 (2 (2 Century) (2 's)) (2 (3 new) (2 (2 ``) (2 Conan)))))))) (2 '')) (2 and)) (3 (2 that) (3 (2 he) (3 (2 's) (3 (2 going) (3 (2 to) (4 (3 (2 make) (3 (3 (2 a) (3 splash)) (2 (2 even) (3 greater)))) (2 (2 than) (2 (2 (2 (2 (1 (2 Arnold) (2 Schwarzenegger)) (2 ,)) (2 (2 Jean-Claud) (2 (2 Van) (2 Damme)))) (2 or)) (2 (2 Steven) (2 Segal))))))))))))) (2 .)))\"]\n",
    "coalitions1, value_func1 = execute_IDG(trees, original_model3, processor, 0, './tmp/', True)"
   ]
  },
  {
   "cell_type": "code",
   "execution_count": 35,
   "id": "6547febf-a073-4345-b265-6deac7063af4",
   "metadata": {
    "tags": []
   },
   "outputs": [
    {
     "name": "stdout",
     "output_type": "stream",
     "text": [
      "[['it', 's', 'a', 'lovely', 'film', 'with', 'lovely1', 'performances', 'by', 'buy', 'and', 'accorsi'], ['it'], ['s', 'a', 'lovely', 'film', 'with', 'lovely1', 'performances', 'by', 'buy', 'and', 'accorsi'], ['s'], ['a', 'lovely', 'film', 'with', 'lovely1', 'performances', 'by', 'buy', 'and', 'accorsi'], ['a', 'lovely', 'film'], ['with', 'lovely1', 'performances', 'by', 'buy', 'and', 'accorsi'], ['a'], ['lovely'], ['film'], ['with'], ['lovely1', 'performances', 'by', 'buy', 'and', 'accorsi'], ['lovely1', 'performances'], ['by', 'buy', 'and', 'accorsi'], ['lovely1'], ['performances'], ['by'], ['buy', 'and', 'accorsi'], ['buy'], ['and'], ['accorsi']] [0.9999999806438096, 0.05822701815330838, 0.9409372529921779, 0.06246160507153362, 0.8775737472853845, 0.27392191566821, 0.6027534810112597, 0.07219692879984181, 0.12678563489955144, 0.07395147153547421, 0.0670975132655819, 0.5351780857755253, 0.16356625462045807, 0.37100766298159743, 0.09643775143531089, 0.06611925976852186, 0.05059548087152707, 0.32025171873749725, 0.08017424006491428, 0.056536983865306464, 0.1834728098199452]\n"
     ]
    }
   ],
   "source": [
    "print(coalitions1, value_func1)"
   ]
  },
  {
   "cell_type": "code",
   "execution_count": 36,
   "id": "501c1df3-6833-4cc9-876f-361f1f95afe4",
   "metadata": {
    "tags": []
   },
   "outputs": [
    {
     "name": "stdout",
     "output_type": "stream",
     "text": [
      "wrong inference\n",
      "class distribution: tensor([[3.0071e-04, 9.9970e-01]], device='cuda:0')\n",
      "class distribution: tensor([[3.0071e-04, 9.9970e-01]], device='cuda:0')\n"
     ]
    },
    {
     "data": {
      "text/plain": [
       "(6.079246797266737, 6.0790257047504435)"
      ]
     },
     "execution_count": 36,
     "metadata": {},
     "output_type": "execute_result"
    }
   ],
   "source": [
    "coalitions0, value_func0 = execute_IDG(trees, original_model3, processor, 0, './tmp/', True)\n",
    "coalitions1, value_func1 = execute_IDG(trees, original_model3, processor, 1, './tmp/', True)\n",
    "sum(value_func0), sum(value_func1)"
   ]
  },
  {
   "cell_type": "markdown",
   "id": "29a3db50-c680-4e6d-9dde-42a8f264762c",
   "metadata": {
    "tags": []
   },
   "source": [
    "## PLS"
   ]
  },
  {
   "cell_type": "code",
   "execution_count": 17,
   "id": "e3ad00b2-45e6-4c64-9112-2a1c1ba61dec",
   "metadata": {
    "tags": []
   },
   "outputs": [
    {
     "name": "stdout",
     "output_type": "stream",
     "text": [
      "<exlib.explainers.pls.PLSTextCls.__init__.<locals>.Args object at 0x7f2c140bf8b0>\n"
     ]
    }
   ],
   "source": [
    "from exlib.explainers.pls import PLSTextCls\n",
    "\n",
    "explainer = PLSTextCls(backbone_model, processor)"
   ]
  },
  {
   "cell_type": "code",
   "execution_count": 18,
   "id": "0ccfeb00-12af-43c2-ab12-4075dad742fe",
   "metadata": {
    "tags": []
   },
   "outputs": [
    {
     "name": "stderr",
     "output_type": "stream",
     "text": [
      "divide by zero encountered in divide\n",
      "divide by zero encountered in divide\n"
     ]
    }
   ],
   "source": [
    "pls_expln = explainer(inputs, labels, **kwargs)"
   ]
  },
  {
   "cell_type": "code",
   "execution_count": 19,
   "id": "d587b89e-abd7-4448-9770-9585cc8db159",
   "metadata": {
    "tags": []
   },
   "outputs": [
    {
     "data": {
      "text/plain": [
       "tensor([[0.0000, 0.0000, 0.0000, 0.0003, 0.0000, 0.0000, 0.0000, 0.0003, 0.0000,\n",
       "         0.0003, 0.0000, 0.0000, 0.0000, 0.0000, 0.0000, 0.0000]],\n",
       "       device='cuda:0', dtype=torch.float64)"
      ]
     },
     "execution_count": 19,
     "metadata": {},
     "output_type": "execute_result"
    }
   ],
   "source": [
    "pls_expln.attributions"
   ]
  },
  {
   "cell_type": "code",
   "execution_count": 20,
   "id": "eda6b81b-6d9d-4ac1-b5f8-62932b2ead07",
   "metadata": {
    "tags": []
   },
   "outputs": [
    {
     "data": {
      "text/plain": [
       "{'expln_flat_masks': tensor([[0., 0., 0., 1., 0., 0., 0., 1., 0., 1., 0., 0., 0., 0., 0., 0.]],\n",
       "        device='cuda:0'),\n",
       " 'masks': tensor([[0., 0., 0., 1., 0., 0., 0., 1., 0., 1., 0., 0., 0., 0., 0., 0.]],\n",
       "        device='cuda:0'),\n",
       " 'mask_weights': tensor([0.0003], device='cuda:0', dtype=torch.float64),\n",
       " 'explanation_strs': ['_ _ _ lovely _ _ _ performances _ buy _ _ _ _']}"
      ]
     },
     "execution_count": 20,
     "metadata": {},
     "output_type": "execute_result"
    }
   ],
   "source": [
    "pls_expln.explainer_output"
   ]
  },
  {
   "cell_type": "code",
   "execution_count": 21,
   "id": "ed1d1895-419e-4757-91ab-780de77d85a0",
   "metadata": {
    "tags": []
   },
   "outputs": [
    {
     "name": "stderr",
     "output_type": "stream",
     "text": [
      "  0%|          | 0/2 [00:00<?, ?it/s]divide by zero encountered in log\n",
      "100%|██████████| 2/2 [00:00<00:00,  2.01it/s]\n"
     ]
    },
    {
     "data": {
      "text/plain": [
       "(tensor(1), tensor([-8.6170e-01,  2.5970e-04], dtype=torch.float64))"
      ]
     },
     "execution_count": 21,
     "metadata": {},
     "output_type": "execute_result"
    }
   ],
   "source": [
    "j = 0\n",
    "grouped_attrs = []\n",
    "for i in tqdm(range(2)):\n",
    "    expln_i = explainer(inputs, torch.tensor([i]).to(device), **kwargs)\n",
    "    grouped_attrs.append(expln_i.explainer_output['mask_weights'])\n",
    "grouped_attrs_aggr = torch.tensor(grouped_attrs) #torch.tensor([sum(ga) for ga in grouped_attrs]).to(device)\n",
    "aggr_pred = torch.argmax(grouped_attrs_aggr)\n",
    "aggr_pred, grouped_attrs_aggr"
   ]
  },
  {
   "cell_type": "code",
   "execution_count": null,
   "id": "9f2e108d-e7f9-48ad-903f-11453ff2c404",
   "metadata": {},
   "outputs": [],
   "source": []
  }
 ],
 "metadata": {
  "kernelspec": {
   "display_name": "Python 3 (ipykernel)",
   "language": "python",
   "name": "python3"
  },
  "language_info": {
   "codemirror_mode": {
    "name": "ipython",
    "version": 3
   },
   "file_extension": ".py",
   "mimetype": "text/x-python",
   "name": "python",
   "nbconvert_exporter": "python",
   "pygments_lexer": "ipython3",
   "version": "3.10.10"
  }
 },
 "nbformat": 4,
 "nbformat_minor": 5
}
