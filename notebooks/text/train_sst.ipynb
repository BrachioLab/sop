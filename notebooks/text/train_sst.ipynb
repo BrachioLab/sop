{
 "cells": [
  {
   "cell_type": "code",
   "execution_count": 1,
   "id": "5e7838f6-1134-4508-ab0c-63e9b48b99cc",
   "metadata": {
    "tags": []
   },
   "outputs": [],
   "source": [
    "import json\n",
    "import os\n",
    "import argparse\n",
    "\n",
    "import numpy as np\n",
    "import random\n",
    "import torch\n",
    "from torch import nn, optim\n",
    "from tqdm.auto import tqdm\n",
    "from transformers import AutoImageProcessor, AutoModelForImageClassification, AutoConfig\n",
    "from transformers import AutoTokenizer, AutoModelForSequenceClassification\n",
    "\n",
    "from pathlib import Path\n",
    "from torch.utils.data import DataLoader, Subset\n",
    "import sys\n",
    "sys.path.append('../../lib/exlib/src')\n",
    "from exlib.modules.sop import SOPConfig, get_chained_attr, SOP#, SOPTextCls"
   ]
  },
  {
   "cell_type": "code",
   "execution_count": 2,
   "id": "ebdbef0b-ef0b-403b-97f2-24c9b67fdaa1",
   "metadata": {
    "tags": []
   },
   "outputs": [],
   "source": [
    "device = torch.device('cuda' if torch.cuda.is_available() else 'cpu')\n",
    "\n",
    "SEED = 42\n",
    "if SEED != -1:\n",
    "    # Torch RNG\n",
    "    torch.manual_seed(SEED)\n",
    "    torch.cuda.manual_seed(SEED)\n",
    "    torch.cuda.manual_seed_all(SEED)\n",
    "    # Python RNG\n",
    "    np.random.seed(SEED)\n",
    "    random.seed(SEED)"
   ]
  },
  {
   "cell_type": "code",
   "execution_count": 3,
   "id": "91098cb8-de0d-48b9-860a-b8eeab46f730",
   "metadata": {
    "tags": []
   },
   "outputs": [],
   "source": [
    "GROUP_GEN_SCALE = 4\n",
    "GROUP_SEL_SCALE = 1"
   ]
  },
  {
   "cell_type": "code",
   "execution_count": 4,
   "id": "aae20579-9e04-4851-a5d9-0f72bcbe2da6",
   "metadata": {},
   "outputs": [],
   "source": [
    "from exlib.modules.sop import SOPText, AttributionOutputSOP, compress_masks_text\n",
    "\n",
    "\n",
    "class SOPTextCls(SOPText):\n",
    "    def group_select(self, logits, pooler_outputs, seq_len):\n",
    "        bsz, num_masks = logits.shape[:2]\n",
    "\n",
    "        logits = logits.view(bsz, num_masks, self.num_classes)\n",
    "        pooler_outputs = pooler_outputs.view(bsz, num_masks, self.hidden_size)\n",
    "\n",
    "        query = self.class_weights.unsqueeze(0).expand(bsz, \n",
    "                                                    self.num_classes, \n",
    "                                                    self.hidden_size) #.to(logits.device)\n",
    "        \n",
    "        key = pooler_outputs\n",
    "        # import pdb; pdb.set_trace()\n",
    "        weighted_logits, output_mask_weights = self.output_attn(query, key, logits)\n",
    "        # import pdb; pdb.set_trace()\n",
    "\n",
    "        return weighted_logits, output_mask_weights, logits, pooler_outputs\n",
    "    \n",
    "    def get_results_tuple(self, weighted_logits, logits, pooler_outputs, input_mask_weights, output_mask_weights, bsz, label):\n",
    "        # todo: debug for segmentation\n",
    "        masks_aggr = None\n",
    "        masks_aggr_pred_cls = None\n",
    "        masks_max_pred_cls = None\n",
    "        flat_masks = None\n",
    "\n",
    "        if label is not None:\n",
    "            predicted = label  # allow labels to be different\n",
    "        else:\n",
    "            _, predicted = torch.max(weighted_logits.data, -1)\n",
    "        # import pdb; pdb.set_trace()\n",
    "        # masks_mult = input_mask_weights.unsqueeze(2) * output_mask_weights.unsqueeze(-1) # bsz, n_masks, n_cls\n",
    "        \n",
    "        # masks_aggr = masks_mult.sum(1) # bsz, n_cls\n",
    "        # masks_aggr_pred_cls = masks_aggr[range(bsz), predicted].unsqueeze(1)\n",
    "        # max_mask_indices = output_mask_weights.max(2).values.max(1).indices\n",
    "        # masks_max_pred_cls = masks_mult[range(bsz),max_mask_indices,predicted].unsqueeze(1)\n",
    "            \n",
    "        grouped_attributions = output_mask_weights * logits\n",
    "\n",
    "        masks_mult_pred = input_mask_weights * output_mask_weights[range(len(predicted)),:,predicted,None]\n",
    "        masks_aggr_pred_cls = masks_mult_pred.sum(1)\n",
    "        max_mask_indices = output_mask_weights.max(2).values.max(1).indices\n",
    "        masks_max_pred_cls = masks_mult_pred[range(bsz),max_mask_indices]\n",
    "\n",
    "        # import pdb; pdb.set_trace()\n",
    "        flat_masks = compress_masks_text(input_mask_weights, output_mask_weights[:,:,predicted])\n",
    "        \n",
    "        return AttributionOutputSOP(weighted_logits,\n",
    "                                    logits,\n",
    "                                    pooler_outputs,\n",
    "                                    input_mask_weights,\n",
    "                                    output_mask_weights,\n",
    "                                    masks_aggr_pred_cls,\n",
    "                                    masks_max_pred_cls,\n",
    "                                    masks_aggr,\n",
    "                                    flat_masks,\n",
    "                                    grouped_attributions)"
   ]
  },
  {
   "cell_type": "code",
   "execution_count": 5,
   "id": "c936663e-2c91-49af-a263-30ffbeeda7d1",
   "metadata": {
    "tags": []
   },
   "outputs": [],
   "source": [
    "# model paths\n",
    "backbone_model_name = 'textattack/bert-base-uncased-SST-2'\n",
    "backbone_processor_name = 'textattack/bert-base-uncased-SST-2'\n",
    "# sop_config_path = 'configs/imagenet_m.json'\n",
    "\n",
    "# data paths\n",
    "# TRAIN_DATA_DIR = '../data/imagenet_m/train'\n",
    "# VAL_DATA_DIR = '../data/imagenet_m/val'\n",
    "\n",
    "# training args\n",
    "batch_size = 16\n",
    "lr = 0.0000005\n",
    "num_epochs = 20\n",
    "warmup_steps = 50\n",
    "mask_batch_size = 4\n",
    "\n",
    "group_gen_scale = GROUP_GEN_SCALE\n",
    "group_sel_scale = GROUP_SEL_SCALE\n",
    "\n",
    "# experiment args\n",
    "exp_dir = '../../exps/sst_debug'\n",
    "os.makedirs(exp_dir, exist_ok=True)"
   ]
  },
  {
   "cell_type": "code",
   "execution_count": 6,
   "id": "4a3e71e3-0fef-4072-a32f-12097a830cb9",
   "metadata": {
    "tags": []
   },
   "outputs": [],
   "source": [
    "backbone_model = AutoModelForSequenceClassification.from_pretrained(backbone_model_name)\n",
    "processor = AutoTokenizer.from_pretrained(backbone_processor_name)\n",
    "backbone_config = AutoConfig.from_pretrained(backbone_model_name)\n",
    "\n",
    "config = SOPConfig(\n",
    "    # attn_patch_size=16,\n",
    "    num_heads=1,\n",
    "    num_masks_sample=8,\n",
    "    num_masks_max=16,\n",
    "    finetune_layers=['model.classifier'],\n",
    "    group_gen_scale=group_gen_scale,\n",
    "    group_sel_scale=group_sel_scale\n",
    ")\n",
    "config.__dict__.update(backbone_config.__dict__)\n",
    "config.num_labels = len(backbone_config.label2id)\n",
    "# config.save_pretrained(exp_dir)"
   ]
  },
  {
   "cell_type": "code",
   "execution_count": 7,
   "id": "aef0835b-02b8-40b1-bac9-35a92d9cde77",
   "metadata": {
    "tags": []
   },
   "outputs": [
    {
     "name": "stdout",
     "output_type": "stream",
     "text": [
      "Loaded 200 documents of 2 classes\n",
      "Loaded 200 documents of 2 classes\n"
     ]
    }
   ],
   "source": [
    "from torch.utils.data import DataLoader, Dataset\n",
    "from datasets import load_dataset\n",
    "import jsonlines\n",
    "\n",
    "\n",
    "class SSTDataset(Dataset):\n",
    "    def __init__(self, data_path, data_size=-1, transform=None):\n",
    "        self.data_path = data_path\n",
    "        self.data_size = data_size\n",
    "        self.transform = transform\n",
    "        self.documents = []\n",
    "        self.labels = []\n",
    "        with jsonlines.open(data_path) as reader:\n",
    "            for obj in reader:\n",
    "                self.documents.append(obj['document'])\n",
    "                self.labels.append(obj['label'])\n",
    "        self.classes = sorted(set(self.labels))\n",
    "        \n",
    "        if data_size != -1:\n",
    "            # select a subset of the data so that each class has data_size number of documents\n",
    "            documents = []\n",
    "            labels = []\n",
    "            for c in self.classes:\n",
    "                c_docs = [doc for doc, label in zip(self.documents, self.labels) if label == c]\n",
    "                documents.extend(c_docs[:data_size])\n",
    "                labels.extend([c]*data_size)\n",
    "            self.documents = documents\n",
    "            self.labels = labels\n",
    "\n",
    "        assert len(self.documents) == len(self.labels)\n",
    "        \n",
    "        print(f'Loaded {len(self.labels)} documents of {len(self.classes)} classes')\n",
    "        \n",
    "    def __len__(self):\n",
    "        return len(self.labels)\n",
    "        \n",
    "    def __getitem__(self, idx):\n",
    "        inputs = self.transform(self.documents[idx])\n",
    "        inputs['label'] = self.labels[idx]\n",
    "        return inputs\n",
    "\n",
    "        \n",
    "# Path to your dataset file\n",
    "train_path = '../../data/SST/data/train.jsonl'\n",
    "val_path = '../../data/SST/data/dev.jsonl'\n",
    "\n",
    "# Tokenization function\n",
    "def transform(batch):\n",
    "    return processor(batch, \n",
    "                   padding=\"max_length\", \n",
    "                   truncation=True, \n",
    "                   max_length=512)\n",
    "\n",
    "# Load the dataset from the file\n",
    "train_size, val_size = 100, 100\n",
    "train_dataset = SSTDataset(train_path, data_size=train_size, transform=transform)\n",
    "val_dataset = SSTDataset(val_path, data_size=val_size, transform=transform)\n",
    "\n",
    "# Create a DataLoader to batch and shuffle the data\n",
    "train_dataloader = DataLoader(train_dataset, batch_size=batch_size, shuffle=True)\n",
    "val_dataloader = DataLoader(val_dataset, batch_size=batch_size, shuffle=False)"
   ]
  },
  {
   "cell_type": "code",
   "execution_count": 8,
   "id": "4cea2f26-b9e6-4abe-83bd-5050dcbb16f3",
   "metadata": {
    "tags": []
   },
   "outputs": [],
   "source": [
    "from collections import namedtuple\n",
    "\n",
    "WrappedBackboneOutput = namedtuple(\"WrappedBackboneOutput\", \n",
    "                                  [\"logits\",\n",
    "                                   \"pooler_output\"])\n",
    "\n",
    "\n",
    "class WrappedBackboneModel(nn.Module):\n",
    "    def __init__(self, model):\n",
    "        super().__init__()\n",
    "        self.model = model\n",
    "    \n",
    "    def forward(self, inputs=None, **kwargs):\n",
    "        outputs = self.model(inputs, output_hidden_states=True, **kwargs)\n",
    "        return WrappedBackboneOutput(outputs.logits, outputs.hidden_states[-1][:,0])"
   ]
  },
  {
   "cell_type": "code",
   "execution_count": 9,
   "id": "5e4b54a6-80d5-4bfd-ad56-39a862f28d09",
   "metadata": {
    "tags": []
   },
   "outputs": [],
   "source": [
    "wrapped_backbone_model = WrappedBackboneModel(backbone_model)\n",
    "wrapped_backbone_model = wrapped_backbone_model.to(device)\n",
    "class_weights = get_chained_attr(wrapped_backbone_model, config.finetune_layers[0]).weight #.clone().to(device)\n",
    "projection_layer = wrapped_backbone_model.model.bert.embeddings.word_embeddings"
   ]
  },
  {
   "cell_type": "code",
   "execution_count": 10,
   "id": "0bf3ed2f-bae5-4a0a-8481-392821c34cc3",
   "metadata": {
    "tags": []
   },
   "outputs": [],
   "source": [
    "model = SOPTextCls(config, wrapped_backbone_model, class_weights=class_weights, projection_layer=projection_layer)\n",
    "model = model.to(device)"
   ]
  },
  {
   "cell_type": "code",
   "execution_count": 11,
   "id": "d698838c-d435-4bad-b200-9c0d0a4701d5",
   "metadata": {
    "tags": []
   },
   "outputs": [],
   "source": [
    "from transformers import get_scheduler\n",
    "\n",
    "optimizer = optim.AdamW(filter(lambda p: p.requires_grad, model.parameters()), lr=lr)\n",
    "num_training_steps = len(train_dataloader) * num_epochs\n",
    "lr_scheduler = get_scheduler(\n",
    "            'inverse_sqrt',\n",
    "            optimizer=optimizer, \n",
    "            num_warmup_steps=warmup_steps\n",
    "        )\n",
    "criterion = nn.CrossEntropyLoss()"
   ]
  },
  {
   "cell_type": "code",
   "execution_count": 12,
   "id": "4128a754-4503-41c2-8970-a1d432844876",
   "metadata": {
    "tags": []
   },
   "outputs": [],
   "source": [
    "def eval(model, dataloader, criterion, sop=True):\n",
    "    print('Eval ...')\n",
    "    model.eval()\n",
    "    total_loss = 0.0\n",
    "    correct = 0\n",
    "    total = 0\n",
    "    total_nnz = 0\n",
    "    total_num_masks = 0\n",
    "    with torch.no_grad():\n",
    "        progress_bar_eval = tqdm(range(len(dataloader)))\n",
    "        for i, batch in enumerate(dataloader):\n",
    "            # Now you can use `inputs` and `labels` in your training loop.\n",
    "            if not isinstance(batch['input_ids'], torch.Tensor):\n",
    "                inputs = torch.stack(batch['input_ids']).transpose(0, 1).to(device)\n",
    "                if 'token_type_ids' in batch:\n",
    "                    token_type_ids = torch.stack(batch['token_type_ids']).transpose(0, 1).to(device)\n",
    "                else:\n",
    "                    token_type_ids = None\n",
    "                attention_mask = torch.stack(batch['attention_mask']).transpose(0, 1).to(device)\n",
    "\n",
    "                # print('segs', segs.shape)\n",
    "            else:\n",
    "                inputs = batch['input_ids'].to(device)\n",
    "                if 'token_type_ids' in batch:\n",
    "                    token_type_ids = batch['token_type_ids'].to(device)\n",
    "                else:\n",
    "                    token_type_ids = None\n",
    "                attention_mask = batch['attention_mask'].to(device)\n",
    "            kwargs = {\n",
    "                'token_type_ids': token_type_ids,\n",
    "                'attention_mask': attention_mask,\n",
    "            }\n",
    "            labels = batch['label'].to(device)\n",
    "            # import pdb; pdb.set_trace()\n",
    "\n",
    "            if sop:\n",
    "                outputs = model(inputs, kwargs=kwargs, return_tuple=True)\n",
    "                \n",
    "                # import pdb; pdb.set_trace()\n",
    "                \n",
    "                logits = outputs.logits\n",
    "            \n",
    "                for i in range(len(logits)):\n",
    "                    pred = logits[i].argmax(-1).item()\n",
    "\n",
    "                    pred_mask_idxs_sort = outputs.mask_weights[i,:,pred].argsort(descending=True)\n",
    "                    mask_weights_sort = (outputs.mask_weights * outputs.logits_all)[i,pred_mask_idxs_sort,pred]\n",
    "                    masks_sort = outputs.masks[0,pred_mask_idxs_sort]\n",
    "                    masks_sort_used = (masks_sort[mask_weights_sort != 0] > masks_sort[mask_weights_sort != 0].mean()).int()\n",
    "                    mask_weights_sort_used = mask_weights_sort[mask_weights_sort > 0]\n",
    "                    nnz = (masks_sort[mask_weights_sort != 0] > 0).sum() / masks_sort[mask_weights_sort != 0].view(-1).shape[0]\n",
    "                    total_nnz += nnz.item()\n",
    "                    total_num_masks += len(masks_sort_used)\n",
    "                    import math\n",
    "                    if math.isnan(total_nnz):\n",
    "                        import pdb; pdb.set_trace()\n",
    "            else:\n",
    "                logits = model(inputs, **kwargs).logits\n",
    "                \n",
    "            \n",
    "            \n",
    "            # val loss\n",
    "            loss = criterion(logits, labels)\n",
    "            total_loss += loss.item()\n",
    "            \n",
    "            # acc\n",
    "            _, predicted = torch.max(logits.data, 1)\n",
    "            correct += (predicted == labels).sum().item()\n",
    "            \n",
    "            total += labels.size(0)\n",
    "            \n",
    "            progress_bar_eval.update(1)\n",
    "    \n",
    "    val_acc = correct / total\n",
    "    val_loss = total_loss / total\n",
    "    val_nnz = total_nnz / total\n",
    "    val_n_masks_avg = total_num_masks / total\n",
    "    \n",
    "    model.train()\n",
    "    \n",
    "    return {\n",
    "        'val_acc': val_acc,\n",
    "        'val_loss': val_loss,\n",
    "        'val_nnz': val_nnz,\n",
    "        'val_n_masks_avg': val_n_masks_avg\n",
    "    }"
   ]
  },
  {
   "cell_type": "code",
   "execution_count": 13,
   "id": "e655f0f4-1b2e-4143-9ceb-8b90d35de5c5",
   "metadata": {
    "tags": []
   },
   "outputs": [
    {
     "name": "stdout",
     "output_type": "stream",
     "text": [
      "Eval ...\n"
     ]
    },
    {
     "data": {
      "application/vnd.jupyter.widget-view+json": {
       "model_id": "4161ecedf504446dac5bccc70b79f5bd",
       "version_major": 2,
       "version_minor": 0
      },
      "text/plain": [
       "  0%|          | 0/13 [00:00<?, ?it/s]"
      ]
     },
     "metadata": {},
     "output_type": "display_data"
    },
    {
     "data": {
      "text/plain": [
       "0.89"
      ]
     },
     "execution_count": 13,
     "metadata": {},
     "output_type": "execute_result"
    }
   ],
   "source": [
    "backbone_val_results = eval(wrapped_backbone_model, val_dataloader, criterion, sop=False)\n",
    "backbone_val_acc = backbone_val_results['val_acc']\n",
    "backbone_val_acc"
   ]
  },
  {
   "cell_type": "code",
   "execution_count": 14,
   "id": "ae07940a-296b-478b-bc20-691898613b40",
   "metadata": {
    "tags": []
   },
   "outputs": [
    {
     "data": {
      "application/vnd.jupyter.widget-view+json": {
       "model_id": "e182cefc4da04911bf92b96e5cfbf0b7",
       "version_major": 2,
       "version_minor": 0
      },
      "text/plain": [
       "  0%|          | 0/260 [00:00<?, ?it/s]"
      ]
     },
     "metadata": {},
     "output_type": "display_data"
    },
    {
     "name": "stdout",
     "output_type": "stream",
     "text": [
      "Epoch 0, Batch 13, Loss 0.7472, LR 0.00000012\n",
      "Eval ...\n"
     ]
    },
    {
     "data": {
      "application/vnd.jupyter.widget-view+json": {
       "model_id": "29ab901269654ca4bb96412f5a8682b7",
       "version_major": 2,
       "version_minor": 0
      },
      "text/plain": [
       "  0%|          | 0/13 [00:00<?, ?it/s]"
      ]
     },
     "metadata": {},
     "output_type": "display_data"
    },
    {
     "name": "stdout",
     "output_type": "stream",
     "text": [
      "Epoch 0, Step 12, Val acc 0.6350, Val loss 0.0396 Val nnz 0.6341335824877024, Val_n_masks 11.87\n",
      "Best checkpoint saved at ../../exps/sst_debug/best/checkpoint.pth\n",
      "Last checkpoint saved at ../../exps/sst_debug/last/checkpoint.pth\n"
     ]
    },
    {
     "ename": "KeyboardInterrupt",
     "evalue": "",
     "output_type": "error",
     "traceback": [
      "\u001b[0;31m---------------------------------------------------------------------------\u001b[0m",
      "\u001b[0;31mKeyboardInterrupt\u001b[0m                         Traceback (most recent call last)",
      "\u001b[0;32m/tmp/ipykernel_4287/2005188263.py\u001b[0m in \u001b[0;36m<module>\u001b[0;34m\u001b[0m\n\u001b[1;32m     56\u001b[0m         \u001b[0mlogits\u001b[0m \u001b[0;34m=\u001b[0m \u001b[0mmodel\u001b[0m\u001b[0;34m(\u001b[0m\u001b[0minputs\u001b[0m\u001b[0;34m,\u001b[0m \u001b[0mmask_batch_size\u001b[0m\u001b[0;34m=\u001b[0m\u001b[0mmask_batch_size\u001b[0m\u001b[0;34m,\u001b[0m \u001b[0mkwargs\u001b[0m\u001b[0;34m=\u001b[0m\u001b[0mkwargs\u001b[0m\u001b[0;34m)\u001b[0m\u001b[0;34m\u001b[0m\u001b[0;34m\u001b[0m\u001b[0m\n\u001b[1;32m     57\u001b[0m         \u001b[0mloss\u001b[0m \u001b[0;34m=\u001b[0m \u001b[0mcriterion\u001b[0m\u001b[0;34m(\u001b[0m\u001b[0mlogits\u001b[0m\u001b[0;34m,\u001b[0m \u001b[0mlabels\u001b[0m\u001b[0;34m)\u001b[0m\u001b[0;34m\u001b[0m\u001b[0;34m\u001b[0m\u001b[0m\n\u001b[0;32m---> 58\u001b[0;31m         \u001b[0mloss\u001b[0m\u001b[0;34m.\u001b[0m\u001b[0mbackward\u001b[0m\u001b[0;34m(\u001b[0m\u001b[0;34m)\u001b[0m\u001b[0;34m\u001b[0m\u001b[0;34m\u001b[0m\u001b[0m\n\u001b[0m\u001b[1;32m     59\u001b[0m         \u001b[0moptimizer\u001b[0m\u001b[0;34m.\u001b[0m\u001b[0mstep\u001b[0m\u001b[0;34m(\u001b[0m\u001b[0;34m)\u001b[0m\u001b[0;34m\u001b[0m\u001b[0;34m\u001b[0m\u001b[0m\n\u001b[1;32m     60\u001b[0m \u001b[0;34m\u001b[0m\u001b[0m\n",
      "\u001b[0;32m/opt/conda/envs/rapids/lib/python3.10/site-packages/torch/_tensor.py\u001b[0m in \u001b[0;36mbackward\u001b[0;34m(self, gradient, retain_graph, create_graph, inputs)\u001b[0m\n\u001b[1;32m    426\u001b[0m         \u001b[0;32mreturn\u001b[0m \u001b[0mtorch\u001b[0m\u001b[0;34m.\u001b[0m\u001b[0m_tensor_str\u001b[0m\u001b[0;34m.\u001b[0m\u001b[0m_str\u001b[0m\u001b[0;34m(\u001b[0m\u001b[0mself\u001b[0m\u001b[0;34m,\u001b[0m \u001b[0mtensor_contents\u001b[0m\u001b[0;34m=\u001b[0m\u001b[0mtensor_contents\u001b[0m\u001b[0;34m)\u001b[0m\u001b[0;34m\u001b[0m\u001b[0;34m\u001b[0m\u001b[0m\n\u001b[1;32m    427\u001b[0m \u001b[0;34m\u001b[0m\u001b[0m\n\u001b[0;32m--> 428\u001b[0;31m     def backward(\n\u001b[0m\u001b[1;32m    429\u001b[0m         \u001b[0mself\u001b[0m\u001b[0;34m,\u001b[0m \u001b[0mgradient\u001b[0m\u001b[0;34m=\u001b[0m\u001b[0;32mNone\u001b[0m\u001b[0;34m,\u001b[0m \u001b[0mretain_graph\u001b[0m\u001b[0;34m=\u001b[0m\u001b[0;32mNone\u001b[0m\u001b[0;34m,\u001b[0m \u001b[0mcreate_graph\u001b[0m\u001b[0;34m=\u001b[0m\u001b[0;32mFalse\u001b[0m\u001b[0;34m,\u001b[0m \u001b[0minputs\u001b[0m\u001b[0;34m=\u001b[0m\u001b[0;32mNone\u001b[0m\u001b[0;34m\u001b[0m\u001b[0;34m\u001b[0m\u001b[0m\n\u001b[1;32m    430\u001b[0m     ):\n",
      "\u001b[0;31mKeyboardInterrupt\u001b[0m: "
     ]
    }
   ],
   "source": [
    "import logging\n",
    "\n",
    "# track = True\n",
    "track = False\n",
    "\n",
    "if track:\n",
    "    import wandb\n",
    "    wandb.init(project='sop')\n",
    "    wandb.run.name = os.path.basename(exp_dir)\n",
    "\n",
    "# Iterate over the data\n",
    "best_val_acc = 0.0\n",
    "step = 0\n",
    "train_log_interval = 100\n",
    "val_eval_interval = 1000\n",
    "\n",
    "logging.basicConfig(filename=os.path.join(exp_dir, 'train.log'), level=logging.INFO)\n",
    "\n",
    "model.train()\n",
    "\n",
    "progress_bar = tqdm(range(num_training_steps))\n",
    "for epoch in range(num_epochs):\n",
    "    running_loss = 0.0\n",
    "    running_total = 0\n",
    "    for i, batch in enumerate(train_dataloader):\n",
    "        # import pdb; pdb.set_trace()\n",
    "        # inputs, labels = batch\n",
    "        # inputs, labels = inputs.to(device), labels.to(device)\n",
    "        if not isinstance(batch['input_ids'], torch.Tensor):\n",
    "            inputs = torch.stack(batch['input_ids']).transpose(0, 1).to(device)\n",
    "            if 'token_type_ids' in batch:\n",
    "                token_type_ids = torch.stack(batch['token_type_ids']).transpose(0, 1).to(device)\n",
    "            else:\n",
    "                token_type_ids = None\n",
    "            attention_mask = torch.stack(batch['attention_mask']).transpose(0, 1).to(device)\n",
    "            \n",
    "            # concatenated_rows = [torch.stack(sublist) for sublist in batch['segs']]\n",
    "            # segs = torch.stack(concatenated_rows).permute(2, 0, 1).to(device).float()\n",
    "            # print('segs', segs.shape)\n",
    "        else:\n",
    "            inputs = batch['input_ids'].to(device)\n",
    "            if 'token_type_ids' in batch:\n",
    "                token_type_ids = batch['token_type_ids'].to(device)\n",
    "            else:\n",
    "                token_type_ids = None\n",
    "            attention_mask = batch['attention_mask'].to(device)\n",
    "            # segs = batch['segs'].to(device).float()\n",
    "        kwargs = {\n",
    "            'token_type_ids': token_type_ids,\n",
    "            'attention_mask': attention_mask,\n",
    "        }\n",
    "        labels = batch['label'].to(device)\n",
    "            \n",
    "        \n",
    "        optimizer.zero_grad()\n",
    "        logits = model(inputs, mask_batch_size=mask_batch_size, kwargs=kwargs)\n",
    "        loss = criterion(logits, labels)\n",
    "        loss.backward()\n",
    "        optimizer.step()\n",
    "        \n",
    "        running_loss += loss.item() * labels.size(0)\n",
    "        running_total += labels.size(0)\n",
    "        \n",
    "        if i % train_log_interval == train_log_interval - 1 or i == len(train_dataloader) - 1:\n",
    "            # Print training loss every 100 batches\n",
    "            curr_lr = float(optimizer.param_groups[0]['lr'])\n",
    "            log_message = f'Epoch {epoch}, Batch {i + 1}, Loss {running_loss / running_total:.4f}, LR {curr_lr:.8f}'\n",
    "            print(log_message)\n",
    "            logging.info(log_message)\n",
    "            if track:\n",
    "                wandb.log({'train_loss': running_loss / running_total,\n",
    "                        'lr': curr_lr,\n",
    "                        'epoch': epoch,\n",
    "                        'step': step})\n",
    "            running_loss = 0.0\n",
    "            running_total = 0\n",
    "            \n",
    "        if i % val_eval_interval == val_eval_interval - 1 or i == len(train_dataloader) - 1:\n",
    "            val_results = eval(model, val_dataloader, criterion)\n",
    "            val_acc = val_results['val_acc']\n",
    "            val_loss = val_results['val_loss']\n",
    "            val_nnz = val_results['val_nnz']\n",
    "            val_n_masks_avg = val_results['val_n_masks_avg']\n",
    "            log_message = f'Epoch {epoch}, Step {step}, Val acc {val_acc:.4f}, Val loss {val_loss:.4f}'\n",
    "            log_message += f' Val nnz {val_nnz}, Val_n_masks {val_n_masks_avg}'\n",
    "            print(log_message)\n",
    "            logging.info(log_message)\n",
    "            if track:\n",
    "                wandb.log({'val_acc': val_acc,\n",
    "                           'val_loss': val_loss,\n",
    "                           'val_nnz': val_nnz,\n",
    "                            'val_n_masks_avg': val_n_masks_avg,\n",
    "                        'epoch': epoch,\n",
    "                        'step': step})\n",
    "            \n",
    "            last_dir = os.path.join(exp_dir, 'last')\n",
    "            best_dir = os.path.join(exp_dir, 'best')\n",
    "            checkpoint = {\n",
    "                    'model': model.state_dict(),\n",
    "                    'optimizer': optimizer.state_dict(),\n",
    "                    'lr_scheduler': lr_scheduler.state_dict(),\n",
    "                    'epoch': epoch,\n",
    "                    'step': step,\n",
    "                    'val_loss': val_loss,\n",
    "                    'val_acc': val_acc,\n",
    "                }\n",
    "            if val_acc > best_val_acc:\n",
    "                best_val_acc = val_acc\n",
    "                os.makedirs(best_dir, exist_ok=True)\n",
    "                best_checkpoint_path = os.path.join(best_dir, 'checkpoint.pth')\n",
    "                torch.save(checkpoint, best_checkpoint_path)\n",
    "                config_best_checkpoint_path = os.path.join(best_dir, 'config.json')\n",
    "                config.save_to_json(config_best_checkpoint_path)\n",
    "                print(f'Best checkpoint saved at {best_checkpoint_path}')\n",
    "                \n",
    "                # model.save_pretrained(best_dir)\n",
    "            # model.save_pretrained(last_dir)\n",
    "            os.makedirs(last_dir, exist_ok=True)\n",
    "            last_checkpoint_path = os.path.join(last_dir, 'checkpoint.pth')\n",
    "            torch.save(checkpoint, last_checkpoint_path)\n",
    "            config_last_checkpoint_path = os.path.join(last_dir, 'config.json')\n",
    "            config.save_to_json(config_best_checkpoint_path)\n",
    "            print(f'Last checkpoint saved at {last_checkpoint_path}')\n",
    "            \n",
    "        lr_scheduler.step()\n",
    "        progress_bar.update(1)\n",
    "        \n",
    "        step += 1\n",
    "        \n",
    "model.save(exp_dir)"
   ]
  },
  {
   "cell_type": "code",
   "execution_count": null,
   "id": "6e69067c-a16b-4417-a3db-f4a304f520a5",
   "metadata": {},
   "outputs": [],
   "source": []
  },
  {
   "cell_type": "code",
   "execution_count": null,
   "id": "2cea88d7-d7f6-481a-8297-03fbfc12a3cc",
   "metadata": {},
   "outputs": [],
   "source": []
  },
  {
   "cell_type": "code",
   "execution_count": null,
   "id": "5a1b7edd-16ef-4c7d-9a67-a30cc3c518da",
   "metadata": {},
   "outputs": [],
   "source": []
  },
  {
   "cell_type": "code",
   "execution_count": null,
   "id": "66ac0489-cd1f-46cf-8346-8d389118834b",
   "metadata": {},
   "outputs": [],
   "source": []
  }
 ],
 "metadata": {
  "kernelspec": {
   "display_name": "Python 3 (ipykernel)",
   "language": "python",
   "name": "python3"
  },
  "language_info": {
   "codemirror_mode": {
    "name": "ipython",
    "version": 3
   },
   "file_extension": ".py",
   "mimetype": "text/x-python",
   "name": "python",
   "nbconvert_exporter": "python",
   "pygments_lexer": "ipython3",
   "version": "3.10.10"
  }
 },
 "nbformat": 4,
 "nbformat_minor": 5
}
