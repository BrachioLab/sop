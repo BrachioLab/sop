{
 "cells": [
  {
   "cell_type": "code",
   "execution_count": 1,
   "id": "cf8f4d8c-3793-49c8-aa31-9a5eb4722f7d",
   "metadata": {
    "tags": []
   },
   "outputs": [],
   "source": [
    "import json\n",
    "import os\n",
    "import argparse\n",
    "\n",
    "import numpy as np\n",
    "import random\n",
    "import torch\n",
    "from torch import nn, optim\n",
    "from tqdm.auto import tqdm\n",
    "\n",
    "from pathlib import Path\n",
    "from torch.utils.data import DataLoader, Subset\n",
    "import sys\n",
    "sys.path.append('../../lib/exlib/src')\n",
    "from exlib.modules.sop import SOPImageCls, SOPConfig, get_chained_attr\n",
    "from exlib.datasets.cosmogrid import CosmogridDataset, CNNModel"
   ]
  },
  {
   "cell_type": "code",
   "execution_count": 2,
   "id": "fd5f6158-adfd-4089-ad77-01c862c55223",
   "metadata": {
    "tags": []
   },
   "outputs": [],
   "source": [
    "device = torch.device('cuda' if torch.cuda.is_available() else 'cpu')\n",
    "\n",
    "SEED = 42\n",
    "if SEED != -1:\n",
    "    # Torch RNG\n",
    "    torch.manual_seed(SEED)\n",
    "    torch.cuda.manual_seed(SEED)\n",
    "    torch.cuda.manual_seed_all(SEED)\n",
    "    # Python RNG\n",
    "    np.random.seed(SEED)\n",
    "    random.seed(SEED)"
   ]
  },
  {
   "cell_type": "code",
   "execution_count": 3,
   "id": "070bd076-9c76-4d9d-827d-144a275ce533",
   "metadata": {
    "tags": []
   },
   "outputs": [],
   "source": [
    "# model paths\n",
    "backbone_model_name = '../../data/cosmogrid/CNN_mass_maps.pth'\n",
    "\n",
    "# data paths\n",
    "TRAIN_DATA_DIR = '../../data/cosmogrid'\n",
    "VAL_DATA_DIR = '../../data/cosmogrid'\n",
    "mask_path = '../../data/cosmogrid/masks/X_maps_Cosmogrid_100k_watershed_diagonal.npy'\n",
    "\n",
    "# training args\n",
    "batch_size = 16\n",
    "lr = 0.0005\n",
    "num_epochs = 20\n",
    "warmup_steps = 2000\n",
    "mask_batch_size = 64\n",
    "\n",
    "# experiment args\n",
    "exp_dir = '../../exps/cosmogrid_4h/best'\n",
    "os.makedirs(exp_dir, exist_ok=True)\n",
    "output_dirname = os.path.join(exp_dir, 'val_results')\n",
    "os.makedirs(output_dirname, exist_ok=True)"
   ]
  },
  {
   "cell_type": "code",
   "execution_count": 4,
   "id": "5e38a1cc-41fa-4dda-a6cd-f01a1a02d096",
   "metadata": {
    "tags": []
   },
   "outputs": [],
   "source": [
    "config = SOPConfig(os.path.join(exp_dir, 'config.json'))\n",
    "\n",
    "backbone_model = CNNModel(config.num_labels)\n",
    "state_dict = torch.load(backbone_model_name)\n",
    "backbone_model.load_state_dict(state_dict=state_dict)\n",
    "processor = None"
   ]
  },
  {
   "cell_type": "code",
   "execution_count": 5,
   "id": "62e4f8e4-acc6-47e0-a2d7-4941bc9a6131",
   "metadata": {
    "tags": []
   },
   "outputs": [],
   "source": [
    "def mask_transform(mask):\n",
    "    seg_mask_cut_off = config.num_masks_max\n",
    "    # Preprocess the mask using the ViTImageProcessor\n",
    "    if len(mask.shape) == 2 and mask.dtype == torch.bool:\n",
    "        mask_dim1, mask_dim2 = mask.shape\n",
    "        mask = mask.unsqueeze(0).expand(3, \n",
    "                                        mask_dim1, \n",
    "                                        mask_dim2).float()\n",
    "        if processor is not None:\n",
    "            inputs = processor(mask, \n",
    "                            do_rescale=False, \n",
    "                            do_normalize=False,\n",
    "                            return_tensors='pt')\n",
    "            # (1, 3, 224, 224)\n",
    "            return inputs['pixel_values'][0][0]\n",
    "        else:\n",
    "            return mask\n",
    "    else: # len(mask.shape) == 3\n",
    "        if mask.dtype != torch.bool:\n",
    "            if len(mask.shape) == 2:\n",
    "                mask = mask.unsqueeze(0)\n",
    "            mask = convert_idx_masks_to_bool(mask)\n",
    "        bsz, mask_dim1, mask_dim2 = mask.shape\n",
    "        mask = mask.unsqueeze(1).expand(bsz, \n",
    "                                        3, \n",
    "                                        mask_dim1, \n",
    "                                        mask_dim2).float()\n",
    "\n",
    "        if bsz < seg_mask_cut_off:\n",
    "            repeat_count = seg_mask_cut_off // bsz + 1\n",
    "            mask = torch.cat([mask] * repeat_count, dim=0)\n",
    "\n",
    "        # add additional mask afterwards\n",
    "        mask_sum = torch.sum(mask[:seg_mask_cut_off - 1], dim=0, keepdim=True).bool()\n",
    "        if False in mask_sum:\n",
    "            mask = mask[:seg_mask_cut_off - 1]\n",
    "            compensation_mask = (1 - mask_sum.int()).bool()\n",
    "            mask = torch.cat([mask, compensation_mask])\n",
    "        else:\n",
    "            mask = mask[:seg_mask_cut_off]\n",
    "\n",
    "        if processor is not None:\n",
    "            inputs = processor(mask, \n",
    "                            do_rescale=False, \n",
    "                            do_normalize=False,\n",
    "                            return_tensors='pt')\n",
    "            \n",
    "            return inputs['pixel_values'][:,0]\n",
    "        else:\n",
    "            return mask[:,0]\n",
    "        \n",
    "def convert_idx_masks_to_bool(masks):\n",
    "    \"\"\"\n",
    "    input: masks (1, img_dim1, img_dim2)\n",
    "    output: masks_bool (num_masks, img_dim1, img_dim2)\n",
    "    \"\"\"\n",
    "    unique_idxs = torch.sort(torch.unique(masks)).values\n",
    "    idxs = unique_idxs.view(-1, 1, 1)\n",
    "    broadcasted_masks = masks.expand(unique_idxs.shape[0], \n",
    "                                     masks.shape[1], \n",
    "                                     masks.shape[2])\n",
    "    masks_bool = (broadcasted_masks == idxs)\n",
    "    return masks_bool"
   ]
  },
  {
   "cell_type": "code",
   "execution_count": 6,
   "id": "660fdf44-1533-4387-829f-a044222d033e",
   "metadata": {
    "tags": []
   },
   "outputs": [
    {
     "name": "stdout",
     "output_type": "stream",
     "text": [
      "# samples used for training: 80000\n",
      "# samples used for validation: 10000\n",
      "# samples used for testing: 10000\n",
      "# total samples: 100000\n",
      "x shape (80000, 66, 66) (10000, 66, 66) (10000, 66, 66)\n",
      "y shape (80000, 6) (10000, 6) (10000, 6)\n",
      "masks shape (80000, 66, 66) (10000, 66, 66) (10000, 66, 66)\n",
      "-- ALL --\n",
      "max 0.7257571922558966\n",
      "min -0.034935039865926346\n",
      "-- SPLIT train --\n",
      "max 0.7257571922558966\n",
      "min -0.034935039865926346\n",
      "Finished loading 80000 train images ... \n",
      "# samples used for training: 80000\n",
      "# samples used for validation: 10000\n",
      "# samples used for testing: 10000\n",
      "# total samples: 100000\n",
      "x shape (80000, 66, 66) (10000, 66, 66) (10000, 66, 66)\n",
      "y shape (80000, 6) (10000, 6) (10000, 6)\n",
      "masks shape (80000, 66, 66) (10000, 66, 66) (10000, 66, 66)\n",
      "-- ALL --\n",
      "max 0.6323861033355062\n",
      "min -0.031224769235240986\n",
      "-- SPLIT val --\n",
      "max 0.6323861033355062\n",
      "min -0.031224769235240986\n",
      "Finished loading 10000 val images ... \n"
     ]
    }
   ],
   "source": [
    "import torchvision.transforms as transforms\n",
    "from torchvision.datasets import ImageFolder\n",
    "from torch.utils.data import DataLoader\n",
    "\n",
    "\n",
    "# Load the dataset\n",
    "train_size, val_size = -1, -1\n",
    "# train_size = 100\n",
    "# val_size = 100\n",
    "train_dataset = CosmogridDataset(data_dir=TRAIN_DATA_DIR, split='train', data_size=train_size,\n",
    "                                 mask_path=mask_path, mask_transform=mask_transform)\n",
    "val_dataset = CosmogridDataset(data_dir=TRAIN_DATA_DIR, split='val', data_size=train_size,\n",
    "                                 mask_path=mask_path, mask_transform=mask_transform)\n",
    "\n",
    "# Create a DataLoader to batch and shuffle the data\n",
    "train_dataloader = DataLoader(train_dataset, batch_size=batch_size, shuffle=True)\n",
    "val_dataloader = DataLoader(val_dataset, batch_size=batch_size, shuffle=False)"
   ]
  },
  {
   "cell_type": "code",
   "execution_count": 7,
   "id": "f491ca40-aca7-4018-b4de-5a51607e6137",
   "metadata": {
    "tags": []
   },
   "outputs": [
    {
     "name": "stdout",
     "output_type": "stream",
     "text": [
      "deep copy class weights\n"
     ]
    }
   ],
   "source": [
    "backbone_model = backbone_model.to(device)\n",
    "class_weights = get_chained_attr(backbone_model, config.finetune_layers[0]).weight #.clone().to(device)\n",
    "class_weights.shape\n",
    "model = SOPImageCls(config, backbone_model) #, class_weights=class_weights, projection_layer=None)\n",
    "model_state_dict = torch.load(os.path.join(exp_dir, 'checkpoint.pth'), map_location=device)['model']\n",
    "model.load_state_dict(model_state_dict)\n",
    "model = model.to(device)\n",
    "model.eval();"
   ]
  },
  {
   "cell_type": "code",
   "execution_count": 8,
   "id": "769189ba-657c-4426-b270-e7daa7439060",
   "metadata": {
    "tags": []
   },
   "outputs": [
    {
     "name": "stderr",
     "output_type": "stream",
     "text": [
      "/opt/conda/envs/rapids/lib/python3.10/site-packages/torch/nn/modules/conv.py:459: UserWarning: Applied workaround for CuDNN issue, install nvrtc.so (Triggered internally at ../aten/src/ATen/native/cudnn/Conv_v8.cpp:80.)\n",
      "  return F.conv2d(input, weight, bias, self.stride,\n"
     ]
    }
   ],
   "source": [
    "from tqdm.auto import tqdm\n",
    "\n",
    "iter_val_dataloader = iter(val_dataloader)\n",
    "# for _ in tqdm(range(100)):\n",
    "batch = next(iter_val_dataloader)\n",
    "\n",
    "inputs, labels, masks, masks_i = batch\n",
    "inputs = inputs.to(device, dtype=torch.float)\n",
    "labels = labels.to(device, dtype=torch.float)\n",
    "masks = masks.to(device)\n",
    "\n",
    "\n",
    "with torch.no_grad():\n",
    "    outputs = model(inputs, segs=masks, mask_batch_size=mask_batch_size, return_tuple=True)\n",
    "    original_logits = backbone_model(inputs).logits\n"
   ]
  },
  {
   "cell_type": "code",
   "execution_count": 9,
   "id": "ae7f51f0-c8c6-4e02-9463-a06f7064d3ce",
   "metadata": {
    "tags": []
   },
   "outputs": [
    {
     "data": {
      "text/plain": [
       "('logits',\n",
       " 'logits_all',\n",
       " 'pooler_outputs_all',\n",
       " 'masks',\n",
       " 'mask_weights',\n",
       " 'attributions',\n",
       " 'attributions_max',\n",
       " 'attributions_all',\n",
       " 'flat_masks',\n",
       " 'grouped_attributions')"
      ]
     },
     "execution_count": 9,
     "metadata": {},
     "output_type": "execute_result"
    }
   ],
   "source": [
    "outputs._fields"
   ]
  },
  {
   "cell_type": "code",
   "execution_count": 12,
   "id": "bb49a81a-717c-41d6-9404-00e7f115d122",
   "metadata": {
    "tags": []
   },
   "outputs": [
    {
     "data": {
      "text/plain": [
       "(torch.Size([16, 800, 66, 66]),\n",
       " torch.Size([16, 800, 2]),\n",
       " torch.Size([16, 1, 66, 66]))"
      ]
     },
     "execution_count": 12,
     "metadata": {},
     "output_type": "execute_result"
    }
   ],
   "source": [
    "outputs.masks.shape, outputs.mask_weights.shape, outputs.attributions.shape"
   ]
  },
  {
   "cell_type": "code",
   "execution_count": 13,
   "id": "b4f4f3d3-89d8-4599-991c-1ab3da11a916",
   "metadata": {
    "tags": []
   },
   "outputs": [],
   "source": [
    "logits = outputs.logits\n",
    "logits_all = outputs.logits_all\n",
    "masks = outputs.masks\n",
    "mask_weights = outputs.mask_weights\n",
    "attributions = outputs.attributions"
   ]
  },
  {
   "cell_type": "code",
   "execution_count": 14,
   "id": "3ffb8b07-0e9c-4016-becf-1bdde93af703",
   "metadata": {
    "tags": []
   },
   "outputs": [],
   "source": [
    "criterion = nn.MSELoss(reduction='none')\n",
    "\n",
    "loss_sop = criterion(logits, labels)\n",
    "loss_original = criterion(original_logits, labels)"
   ]
  },
  {
   "cell_type": "code",
   "execution_count": 15,
   "id": "154bcff3-995c-4f9d-82aa-d972d25ac744",
   "metadata": {
    "tags": []
   },
   "outputs": [],
   "source": [
    "bsz, num_masks, num_labels = logits_all.shape\n",
    "\n",
    "losses = criterion(logits_all.reshape(-1, model.config.num_labels), \n",
    "                 labels.unsqueeze(1).expand(bsz, \n",
    "                                            num_masks, \n",
    "                                            num_labels).reshape(-1, num_labels))\n",
    "losses = losses.reshape(logits_all.shape)"
   ]
  },
  {
   "cell_type": "code",
   "execution_count": 16,
   "id": "684263e0-cc12-4ef2-b0af-7f789d87368d",
   "metadata": {
    "tags": []
   },
   "outputs": [],
   "source": [
    "i = 0\n",
    "masks_used = masks[i][mask_weights[i].sum(-1).bool()]  # get masks that are used for any class\n",
    "mask_weights_used = mask_weights[i][mask_weights[i].sum(-1).bool()]\n",
    "logits_used = logits_all[i][mask_weights[i].sum(-1).bool()]\n",
    "losses_used = losses[i][mask_weights[i].sum(-1).bool()]"
   ]
  },
  {
   "cell_type": "code",
   "execution_count": 17,
   "id": "dbde9fd8-cd7f-4b69-ab6b-21c378efe317",
   "metadata": {
    "tags": []
   },
   "outputs": [],
   "source": [
    "unique_masks_used, reverse_indices, counts = torch.unique(masks_used, \n",
    "                                                        dim=0, \n",
    "                                                        return_inverse=True, \n",
    "                                                        return_counts=True)\n",
    "indices = []\n",
    "reverse_indices = reverse_indices.cpu().numpy().tolist()\n",
    "\n",
    "for j in range(len(counts)):\n",
    "    indices.append(reverse_indices.index(j))\n",
    "\n",
    "unique_mask_weights_used = mask_weights_used[indices] * counts.view(-1, 1)\n",
    "unique_logits_used = logits_used[indices]\n",
    "unique_losses_used = losses_used[indices]"
   ]
  },
  {
   "cell_type": "code",
   "execution_count": 18,
   "id": "ae9f4440-a682-4673-bd70-ab32bb2014fc",
   "metadata": {
    "tags": []
   },
   "outputs": [],
   "source": [
    "entry = {'image': inputs[i],\n",
    "         'original_logits': original_logits[i],\n",
    "        'logits': logits[i],\n",
    "        'unique_logits_used': unique_logits_used,\n",
    "        'masks': masks[i],\n",
    "        'unique_masks_used': unique_masks_used,\n",
    "        'unique_mask_weights_used': unique_mask_weights_used,\n",
    "        'unique_losses_used': unique_losses_used,\n",
    "        'label': labels[i],\n",
    "        'counts': counts,\n",
    "        'num_labels': model.config.num_labels}\n"
   ]
  },
  {
   "cell_type": "code",
   "execution_count": 19,
   "id": "ceaab5f2-01f6-4a6a-8dd2-59d4d2c45155",
   "metadata": {
    "tags": []
   },
   "outputs": [
    {
     "data": {
      "text/plain": [
       "{'image': tensor([[[-0.0038, -0.0044, -0.0079,  ...,  0.0032, -0.0029, -0.0011],\n",
       "          [-0.0005, -0.0063, -0.0056,  ...,  0.0062,  0.0031,  0.0016],\n",
       "          [ 0.0036, -0.0004,  0.0004,  ..., -0.0022,  0.0012, -0.0012],\n",
       "          ...,\n",
       "          [ 0.0084,  0.0095,  0.0037,  ..., -0.0075, -0.0046, -0.0057],\n",
       "          [ 0.0031,  0.0061, -0.0007,  ..., -0.0068, -0.0039, -0.0073],\n",
       "          [ 0.0038,  0.0138, -0.0004,  ..., -0.0027, -0.0030, -0.0082]]],\n",
       "        device='cuda:0'),\n",
       " 'original_logits': tensor([0.3602, 0.5460], device='cuda:0'),\n",
       " 'logits': tensor([0.3269, 0.6040], device='cuda:0'),\n",
       " 'unique_logits_used': tensor([[0.3269, 0.6040]], device='cuda:0'),\n",
       " 'masks': tensor([[[0.6518, 0.6518, 0.6518,  ..., 0.6518, 0.6518, 0.6518],\n",
       "          [0.6518, 0.6518, 0.6518,  ..., 0.6518, 0.6518, 0.6518],\n",
       "          [0.6518, 0.6518, 0.6518,  ..., 0.6518, 0.6518, 0.6518],\n",
       "          ...,\n",
       "          [0.6518, 0.6518, 0.6518,  ..., 0.6518, 0.6518, 0.6518],\n",
       "          [0.6518, 0.6518, 0.6518,  ..., 0.6518, 0.6518, 0.6518],\n",
       "          [0.6518, 0.6518, 0.6518,  ..., 0.6518, 0.6518, 0.6518]],\n",
       " \n",
       "         [[1.0000, 1.0000, 1.0000,  ..., 1.0000, 1.0000, 1.0000],\n",
       "          [1.0000, 1.0000, 1.0000,  ..., 1.0000, 1.0000, 1.0000],\n",
       "          [1.0000, 1.0000, 1.0000,  ..., 1.0000, 1.0000, 1.0000],\n",
       "          ...,\n",
       "          [1.0000, 1.0000, 1.0000,  ..., 1.0000, 1.0000, 1.0000],\n",
       "          [1.0000, 1.0000, 1.0000,  ..., 1.0000, 1.0000, 1.0000],\n",
       "          [1.0000, 1.0000, 1.0000,  ..., 1.0000, 1.0000, 1.0000]],\n",
       " \n",
       "         [[1.0000, 1.0000, 1.0000,  ..., 1.0000, 1.0000, 1.0000],\n",
       "          [1.0000, 1.0000, 1.0000,  ..., 1.0000, 1.0000, 1.0000],\n",
       "          [1.0000, 1.0000, 1.0000,  ..., 1.0000, 1.0000, 1.0000],\n",
       "          ...,\n",
       "          [1.0000, 1.0000, 1.0000,  ..., 1.0000, 1.0000, 1.0000],\n",
       "          [1.0000, 1.0000, 1.0000,  ..., 1.0000, 1.0000, 1.0000],\n",
       "          [1.0000, 1.0000, 1.0000,  ..., 1.0000, 1.0000, 1.0000]],\n",
       " \n",
       "         ...,\n",
       " \n",
       "         [[0.0000, 0.0000, 0.0000,  ..., 0.0000, 0.0000, 0.0000],\n",
       "          [0.0000, 0.0000, 0.0000,  ..., 0.0000, 0.0000, 0.0000],\n",
       "          [0.0000, 0.0000, 0.0000,  ..., 0.0000, 0.0000, 0.0000],\n",
       "          ...,\n",
       "          [0.0000, 0.0000, 0.0000,  ..., 0.0000, 0.0000, 0.0000],\n",
       "          [0.0000, 0.0000, 0.0000,  ..., 0.0000, 0.0000, 0.0000],\n",
       "          [0.0000, 0.0000, 0.0000,  ..., 0.0000, 0.0000, 0.0000]],\n",
       " \n",
       "         [[0.0000, 0.0000, 0.0000,  ..., 0.0000, 0.0000, 0.0000],\n",
       "          [0.0000, 0.0000, 0.0000,  ..., 0.0000, 0.0000, 0.0000],\n",
       "          [0.0000, 0.0000, 0.0000,  ..., 0.0000, 0.0000, 0.0000],\n",
       "          ...,\n",
       "          [0.0000, 0.0000, 0.0000,  ..., 0.0000, 0.0000, 0.0000],\n",
       "          [0.0000, 0.0000, 0.0000,  ..., 0.0000, 0.0000, 0.0000],\n",
       "          [0.0000, 0.0000, 0.0000,  ..., 0.0000, 0.0000, 0.0000]],\n",
       " \n",
       "         [[0.0000, 0.0000, 0.0000,  ..., 0.0000, 0.0000, 0.0000],\n",
       "          [0.0000, 0.0000, 0.0000,  ..., 0.0000, 0.0000, 0.0000],\n",
       "          [0.0000, 0.0000, 0.0000,  ..., 0.0000, 0.0000, 0.0000],\n",
       "          ...,\n",
       "          [0.0000, 0.0000, 0.0000,  ..., 0.0000, 0.0000, 0.0000],\n",
       "          [0.0000, 0.0000, 0.0000,  ..., 0.0000, 0.0000, 0.0000],\n",
       "          [0.0000, 0.0000, 0.0000,  ..., 0.0000, 0.0000, 0.0000]]],\n",
       "        device='cuda:0'),\n",
       " 'unique_masks_used': tensor([[[0.1329, 0.1329, 0.1329,  ..., 0.1329, 0.1329, 0.1329],\n",
       "          [0.1329, 0.1329, 0.1329,  ..., 0.1329, 0.1329, 0.1329],\n",
       "          [0.1329, 0.1329, 0.1329,  ..., 0.1329, 0.1329, 0.1329],\n",
       "          ...,\n",
       "          [0.1329, 0.1329, 0.1329,  ..., 0.1329, 0.1329, 0.1329],\n",
       "          [0.1329, 0.1329, 0.1329,  ..., 0.1329, 0.1329, 0.1329],\n",
       "          [0.1329, 0.1329, 0.1329,  ..., 0.1329, 0.1329, 0.1329]]],\n",
       "        device='cuda:0'),\n",
       " 'unique_mask_weights_used': tensor([[1., 1.]], device='cuda:0'),\n",
       " 'unique_losses_used': tensor([[0.0011, 0.0232]], device='cuda:0'),\n",
       " 'label': tensor([0.2934, 0.4518], device='cuda:0'),\n",
       " 'counts': tensor([4], device='cuda:0'),\n",
       " 'num_labels': 2}"
      ]
     },
     "execution_count": 19,
     "metadata": {},
     "output_type": "execute_result"
    }
   ],
   "source": [
    "entry"
   ]
  },
  {
   "cell_type": "code",
   "execution_count": 20,
   "id": "aa78cfcf-4fed-48c1-9779-ac74b3b4f100",
   "metadata": {
    "tags": []
   },
   "outputs": [],
   "source": [
    "def map_plotter(image, mask, type='dim'): \n",
    "    default_cmap = matplotlib.rcParams['image.cmap']\n",
    "    cmap = plt.get_cmap(default_cmap)\n",
    "    gray_cmap = plt.get_cmap('gray')\n",
    "    \n",
    "    norm = plt.Normalize()\n",
    "    normed_image = norm(image)\n",
    "    # normed_image = np.clip((image - img_min) / (img_max - img_min) * 3, 0, 1)\n",
    "    rgb_image = cmap(normed_image)\n",
    "    if type == 'dim':\n",
    "        gray_image = (gray_cmap(normed_image) / 2)\n",
    "        mask_bool = np.repeat((mask > 0)[:,:,None], 4, axis=-1)\n",
    "        gray_image[mask_bool] = rgb_image[mask_bool]\n",
    "        plt.imshow(gray_image)\n",
    "    elif type == 'contour':\n",
    "        # 1. Find the contours of the mask\n",
    "        mask_bool = (mask > 0).astype(np.float32)\n",
    "        dilated_mask_bool = binary_dilation(mask_bool)\n",
    "        contours_original = measure.find_contours(mask_bool, 0.5)\n",
    "        contours_dilated = measure.find_contours(dilated_mask_bool, 0.51)\n",
    "\n",
    "        # 2. Overlay the contours on top of the original image\n",
    "        plt.imshow(rgb_image)\n",
    "\n",
    "        for contour in contours_dilated:\n",
    "            plt.plot(contour[:, 1], contour[:, 0], linewidth=2, color='white')  # color can be changed as needed\n",
    "\n",
    "        for contour in contours_original:\n",
    "            plt.plot(contour[:, 1], contour[:, 0], linewidth=2, color='red')  # color can be changed as needed"
   ]
  },
  {
   "cell_type": "code",
   "execution_count": 21,
   "id": "2dc037ca-a038-48bb-a1e6-3b47f2c083d2",
   "metadata": {
    "tags": []
   },
   "outputs": [],
   "source": [
    "def sum_weights_for_unique_masks(masks, masks_weights, loss): #, poolers):\n",
    "    # Convert each boolean mask to a unique string of 0s and 1s\n",
    "    mask_strs = [''.join(map(str, mask.bool().int().flatten().tolist())) for mask in masks]\n",
    "    img_size = 66\n",
    "\n",
    "    # Dictionary to store summed weights for each unique mask\n",
    "    unique_masks_weights = {}\n",
    "    unique_masks_loss = {}\n",
    "    unique_masks_count = {}\n",
    "    unique_masks_dict = {}\n",
    "\n",
    "    for i, (mask_str, weight, loss) in enumerate(zip(mask_strs, masks_weights, loss)):\n",
    "        if mask_str in unique_masks_weights:\n",
    "            unique_masks_weights[mask_str] += weight\n",
    "            unique_masks_loss[mask_str] += loss\n",
    "            unique_masks_count[mask_str] += 1\n",
    "        else:\n",
    "            unique_masks_dict[mask_str] = masks[i]\n",
    "            unique_masks_weights[mask_str] = weight\n",
    "            unique_masks_loss[mask_str] = loss\n",
    "            unique_masks_count[mask_str] = 1\n",
    "\n",
    "    # Convert dictionary keys back to boolean masks\n",
    "    unique_keys = sorted(unique_masks_weights.keys())\n",
    "    unique_masks = [unique_masks_dict[key] for key in unique_keys]\n",
    "    summed_weights = [unique_masks_weights[key] for key in unique_keys]\n",
    "    mean_loss = [unique_masks_loss[key] for key in unique_keys]\n",
    "\n",
    "    return unique_masks, summed_weights, mean_loss #, mean_poolers"
   ]
  },
  {
   "cell_type": "code",
   "execution_count": 28,
   "id": "adebae7f-9e8c-4c0e-8694-eaa278ea3d23",
   "metadata": {
    "tags": []
   },
   "outputs": [
    {
     "data": {
      "image/png": "[encoded data removed]",
      "text/plain": [
       "<Figure size 640x480 with 1 Axes>"
      ]
     },
     "metadata": {},
     "output_type": "display_data"
    }
   ],
   "source": [
    "import matplotlib.pyplot as plt\n",
    "import matplotlib\n",
    "\n",
    "unique_bool_masks, summed_weights, mean_loss = sum_weights_for_unique_masks(entry['unique_masks_used'], \n",
    "                                                                       entry[\"unique_mask_weights_used\"], \n",
    "                                                                       entry[\"unique_losses_used\"])\n",
    "\n",
    "for j in range(len(unique_bool_masks)):\n",
    "    weight_show = [round(val.item(), 4) for val in summed_weights[j]]\n",
    "    loss_show = [round(val.item(), 4) for val in mean_loss[j]]\n",
    "    label_show = [round(val.item(), 4) for val in entry[\"label\"]]\n",
    "    title = f'Weight: {weight_show}\\nLoss: {loss_show}\\n{label_show}'\n",
    "    map_plotter(entry['image'][0].cpu(), unique_bool_masks[j].cpu().numpy(), type='dim')\n",
    "    plt.title(title)\n",
    "    plt.axis('off')\n",
    "    plt.show()"
   ]
  },
  {
   "cell_type": "code",
   "execution_count": 29,
   "id": "00723b20-9bc3-4fa3-a889-50252654861d",
   "metadata": {
    "tags": []
   },
   "outputs": [
    {
     "data": {
      "text/plain": [
       "[0]"
      ]
     },
     "execution_count": 29,
     "metadata": {},
     "output_type": "execute_result"
    }
   ],
   "source": [
    "indices"
   ]
  },
  {
   "cell_type": "code",
   "execution_count": 30,
   "id": "277fed30-9eb5-4f0b-878a-99f0eff4bd3d",
   "metadata": {
    "tags": []
   },
   "outputs": [
    {
     "ename": "OutOfMemoryError",
     "evalue": "CUDA out of memory. Tried to allocate 664.67 GiB (GPU 0; 47.54 GiB total capacity; 1.68 GiB already allocated; 4.89 GiB free; 42.32 GiB reserved in total by PyTorch) If reserved memory is >> allocated memory try setting max_split_size_mb to avoid fragmentation.  See documentation for Memory Management and PYTORCH_CUDA_ALLOC_CONF",
     "output_type": "error",
     "traceback": [
      "\u001b[0;31m---------------------------------------------------------------------------\u001b[0m",
      "\u001b[0;31mOutOfMemoryError\u001b[0m                          Traceback (most recent call last)",
      "\u001b[0;32m/tmp/ipykernel_17355/4039832198.py\u001b[0m in \u001b[0;36m<module>\u001b[0;34m\u001b[0m\n\u001b[0;32m----> 1\u001b[0;31m outputs_avg, outputs, attn_weights1, attn_weights2, pooler_outputs = model(inputs, \n\u001b[0m\u001b[1;32m      2\u001b[0m                                                                            \u001b[0msegs\u001b[0m\u001b[0;34m=\u001b[0m\u001b[0mmasks\u001b[0m\u001b[0;34m,\u001b[0m\u001b[0;34m\u001b[0m\u001b[0;34m\u001b[0m\u001b[0m\n\u001b[1;32m      3\u001b[0m                                                                            \u001b[0mmask_batch_size\u001b[0m\u001b[0;34m=\u001b[0m\u001b[0mmask_batch_size\u001b[0m\u001b[0;34m,\u001b[0m\u001b[0;34m\u001b[0m\u001b[0;34m\u001b[0m\u001b[0m\n\u001b[1;32m      4\u001b[0m                                                                            return_tuple=True)\n\u001b[1;32m      5\u001b[0m \u001b[0moriginal_outputs\u001b[0m \u001b[0;34m=\u001b[0m \u001b[0mbackbone_model\u001b[0m\u001b[0;34m(\u001b[0m\u001b[0minputs\u001b[0m\u001b[0;34m)\u001b[0m\u001b[0;34m.\u001b[0m\u001b[0mlogits\u001b[0m\u001b[0;34m\u001b[0m\u001b[0;34m\u001b[0m\u001b[0m\n",
      "\u001b[0;32m/opt/conda/envs/rapids/lib/python3.10/site-packages/torch/nn/modules/module.py\u001b[0m in \u001b[0;36m_call_impl\u001b[0;34m(self, *args, **kwargs)\u001b[0m\n\u001b[1;32m   1499\u001b[0m                 \u001b[0;32mor\u001b[0m \u001b[0m_global_backward_pre_hooks\u001b[0m \u001b[0;32mor\u001b[0m \u001b[0m_global_backward_hooks\u001b[0m\u001b[0;34m\u001b[0m\u001b[0;34m\u001b[0m\u001b[0m\n\u001b[1;32m   1500\u001b[0m                 or _global_forward_hooks or _global_forward_pre_hooks):\n\u001b[0;32m-> 1501\u001b[0;31m             \u001b[0;32mreturn\u001b[0m \u001b[0mforward_call\u001b[0m\u001b[0;34m(\u001b[0m\u001b[0;34m*\u001b[0m\u001b[0margs\u001b[0m\u001b[0;34m,\u001b[0m \u001b[0;34m**\u001b[0m\u001b[0mkwargs\u001b[0m\u001b[0;34m)\u001b[0m\u001b[0;34m\u001b[0m\u001b[0;34m\u001b[0m\u001b[0m\n\u001b[0m\u001b[1;32m   1502\u001b[0m         \u001b[0;31m# Do not call functions when jit is used\u001b[0m\u001b[0;34m\u001b[0m\u001b[0;34m\u001b[0m\u001b[0m\n\u001b[1;32m   1503\u001b[0m         \u001b[0mfull_backward_hooks\u001b[0m\u001b[0;34m,\u001b[0m \u001b[0mnon_full_backward_hooks\u001b[0m \u001b[0;34m=\u001b[0m \u001b[0;34m[\u001b[0m\u001b[0;34m]\u001b[0m\u001b[0;34m,\u001b[0m \u001b[0;34m[\u001b[0m\u001b[0;34m]\u001b[0m\u001b[0;34m\u001b[0m\u001b[0;34m\u001b[0m\u001b[0m\n",
      "\u001b[0;32m/shared_data0/weiqiuy/sop/notebooks/cosmogrid/../../lib/exlib/src/exlib/modules/sop.py\u001b[0m in \u001b[0;36mforward\u001b[0;34m(self, inputs, segs, input_mask_weights, epoch, mask_batch_size, label, return_tuple)\u001b[0m\n\u001b[1;32m    585\u001b[0m         \u001b[0;31m# Mask (Group) generation\u001b[0m\u001b[0;34m\u001b[0m\u001b[0;34m\u001b[0m\u001b[0m\n\u001b[1;32m    586\u001b[0m         \u001b[0;32mif\u001b[0m \u001b[0minput_mask_weights\u001b[0m \u001b[0;32mis\u001b[0m \u001b[0;32mNone\u001b[0m\u001b[0;34m:\u001b[0m\u001b[0;34m\u001b[0m\u001b[0;34m\u001b[0m\u001b[0m\n\u001b[0;32m--> 587\u001b[0;31m             \u001b[0mgrouped_inputs\u001b[0m\u001b[0;34m,\u001b[0m \u001b[0minput_mask_weights\u001b[0m \u001b[0;34m=\u001b[0m \u001b[0mself\u001b[0m\u001b[0;34m.\u001b[0m\u001b[0mgroup_generate\u001b[0m\u001b[0;34m(\u001b[0m\u001b[0minputs\u001b[0m\u001b[0;34m,\u001b[0m \u001b[0mepoch\u001b[0m\u001b[0;34m,\u001b[0m \u001b[0mmask_batch_size\u001b[0m\u001b[0;34m,\u001b[0m \u001b[0msegs\u001b[0m\u001b[0;34m)\u001b[0m\u001b[0;34m\u001b[0m\u001b[0;34m\u001b[0m\u001b[0m\n\u001b[0m\u001b[1;32m    588\u001b[0m         \u001b[0;32melse\u001b[0m\u001b[0;34m:\u001b[0m\u001b[0;34m\u001b[0m\u001b[0;34m\u001b[0m\u001b[0m\n\u001b[1;32m    589\u001b[0m             \u001b[0mgrouped_inputs\u001b[0m \u001b[0;34m=\u001b[0m \u001b[0minputs\u001b[0m\u001b[0;34m.\u001b[0m\u001b[0munsqueeze\u001b[0m\u001b[0;34m(\u001b[0m\u001b[0;36m1\u001b[0m\u001b[0;34m)\u001b[0m \u001b[0;34m*\u001b[0m \u001b[0minput_mask_weights\u001b[0m\u001b[0;34m.\u001b[0m\u001b[0munsqueeze\u001b[0m\u001b[0;34m(\u001b[0m\u001b[0;36m2\u001b[0m\u001b[0;34m)\u001b[0m \u001b[0;31m# directly apply mask\u001b[0m\u001b[0;34m\u001b[0m\u001b[0;34m\u001b[0m\u001b[0m\n",
      "\u001b[0;32m/shared_data0/weiqiuy/sop/notebooks/cosmogrid/../../lib/exlib/src/exlib/modules/sop.py\u001b[0m in \u001b[0;36mgroup_generate\u001b[0;34m(self, inputs, epoch, mask_batch_size, segs)\u001b[0m\n\u001b[1;32m    657\u001b[0m             \u001b[0msegment_mask_weights\u001b[0m \u001b[0;34m=\u001b[0m \u001b[0msegment_mask_weights\u001b[0m\u001b[0;34m.\u001b[0m\u001b[0mreshape\u001b[0m\u001b[0;34m(\u001b[0m\u001b[0mbsz\u001b[0m\u001b[0;34m,\u001b[0m \u001b[0;34m-\u001b[0m\u001b[0;36m1\u001b[0m\u001b[0;34m,\u001b[0m \u001b[0mnum_segs\u001b[0m\u001b[0;34m)\u001b[0m\u001b[0;34m\u001b[0m\u001b[0;34m\u001b[0m\u001b[0m\n\u001b[1;32m    658\u001b[0m \u001b[0;34m\u001b[0m\u001b[0m\n\u001b[0;32m--> 659\u001b[0;31m             \u001b[0mnew_masks\u001b[0m \u001b[0;34m=\u001b[0m  \u001b[0msegs\u001b[0m\u001b[0;34m.\u001b[0m\u001b[0munsqueeze\u001b[0m\u001b[0;34m(\u001b[0m\u001b[0;36m1\u001b[0m\u001b[0;34m)\u001b[0m \u001b[0;34m*\u001b[0m \u001b[0msegment_mask_weights\u001b[0m\u001b[0;34m.\u001b[0m\u001b[0munsqueeze\u001b[0m\u001b[0;34m(\u001b[0m\u001b[0;34m-\u001b[0m\u001b[0;36m1\u001b[0m\u001b[0;34m)\u001b[0m\u001b[0;34m.\u001b[0m\u001b[0munsqueeze\u001b[0m\u001b[0;34m(\u001b[0m\u001b[0;34m-\u001b[0m\u001b[0;36m1\u001b[0m\u001b[0;34m)\u001b[0m\u001b[0;34m\u001b[0m\u001b[0;34m\u001b[0m\u001b[0m\n\u001b[0m\u001b[1;32m    660\u001b[0m             \u001b[0;31m# (bsz, num_new_masks, num_masks, img_dim1, img_dim2)\u001b[0m\u001b[0;34m\u001b[0m\u001b[0;34m\u001b[0m\u001b[0m\n\u001b[1;32m    661\u001b[0m             \u001b[0minput_mask_weights_cand\u001b[0m \u001b[0;34m=\u001b[0m \u001b[0mnew_masks\u001b[0m\u001b[0;34m.\u001b[0m\u001b[0msum\u001b[0m\u001b[0;34m(\u001b[0m\u001b[0;36m2\u001b[0m\u001b[0;34m)\u001b[0m  \u001b[0;31m# if one mask has it, then have it\u001b[0m\u001b[0;34m\u001b[0m\u001b[0;34m\u001b[0m\u001b[0m\n",
      "\u001b[0;31mOutOfMemoryError\u001b[0m: CUDA out of memory. Tried to allocate 664.67 GiB (GPU 0; 47.54 GiB total capacity; 1.68 GiB already allocated; 4.89 GiB free; 42.32 GiB reserved in total by PyTorch) If reserved memory is >> allocated memory try setting max_split_size_mb to avoid fragmentation.  See documentation for Memory Management and PYTORCH_CUDA_ALLOC_CONF"
     ]
    }
   ],
   "source": [
    "\n",
    "outputs_avg, outputs, attn_weights1, attn_weights2, pooler_outputs = model(inputs, \n",
    "                                                                           segs=masks,\n",
    "                                                                           mask_batch_size=mask_batch_size, \n",
    "                                                                           return_tuple=True)\n",
    "original_outputs = backbone_model(inputs).logits\n",
    "\n",
    "preds_wrapped.append(outputs_avg)\n",
    "preds_original.append(original_outputs)\n",
    "gold_labels.append(labels)\n",
    "\n",
    "bsz, num_masks, num_labels = outputs.shape\n",
    "\n",
    "loss_avg = criterion(outputs_avg, labels)\n",
    "total_loss_wrapped += loss_avg.sum(0)\n",
    "loss_original = criterion(original_outputs, labels)\n",
    "total_loss_original += loss_original.sum(0)\n",
    "total_count += labels.size(0)\n",
    "loss = criterion(outputs.reshape(-1, model.config.num_labels), \n",
    "                 labels.unsqueeze(1).expand(bsz, \n",
    "                                            num_masks, \n",
    "                                            num_labels).reshape(-1, num_labels))\n",
    "loss = loss.reshape(outputs.shape)\n",
    "\n",
    "i = 0\n",
    "masks_used = attn_weights1[i][attn_weights2[i].sum(-1).bool()]  # get masks that are used for any class\n",
    "mask_weights = attn_weights2[i][attn_weights2[i].sum(-1).bool()]\n",
    "output_used = outputs[i][attn_weights2[i].sum(-1).bool()]\n",
    "pooler_used = pooler_outputs[i][attn_weights2[i].sum(-1).bool()]\n",
    "loss_used = loss[i][attn_weights2[i].sum(-1).bool()]\n",
    "\n",
    "# import pdb\n",
    "# pdb.set_trace()\n",
    "unique_masks_used, reverse_indices, counts = torch.unique(masks_used, \n",
    "                                                        dim=0, \n",
    "                                                        return_inverse=True, \n",
    "                                                        return_counts=True)\n",
    "indices = []\n",
    "reverse_indices = reverse_indices.cpu().numpy().tolist()\n",
    "\n",
    "for j in range(len(counts)):\n",
    "    indices.append(reverse_indices.index(j))\n",
    "# import pdb\n",
    "# pdb.set_trace()\n",
    "unique_mask_weights = mask_weights[indices] * counts.view(-1, 1)\n",
    "unique_outputs = output_used[indices]\n",
    "unique_preds = loss_used[indices].tolist()\n",
    "unique_pooler = pooler_used[indices]\n",
    "\n",
    "entry = {'image': images[i],\n",
    "        'outputs_avg': outputs_avg[i],\n",
    "        'outputs': unique_outputs, # outputs[i]\n",
    "        'pooler': unique_pooler,\n",
    "        'outputs_original': original_outputs[i],\n",
    "        'masks': attn_weights1[i].cpu().numpy(),\n",
    "        'masks_all': masks_i[i].cpu().numpy() \\\n",
    "            if masks_i is not None \\\n",
    "                else None,\n",
    "        'masks_used': unique_masks_used,  # masks_used,\n",
    "        'mask_weights': unique_mask_weights,  # mask_weights,\n",
    "        'pred': loss_avg[i].tolist(),\n",
    "        'preds': unique_preds, # predicted_raw[i].tolist(),\n",
    "        'label': labels[i].tolist(),\n",
    "        'counts': counts.cpu().numpy(),\n",
    "        'num_labels': model.config.num_labels}\n"
   ]
  },
  {
   "cell_type": "code",
   "execution_count": null,
   "id": "162cdb9c-e35f-49a1-b421-208e6589d2e2",
   "metadata": {},
   "outputs": [],
   "source": [
    "criterion = nn.MSELoss(reduction='none')\n",
    "\n",
    "all_results = []\n",
    "\n",
    "progress_bar = tqdm(range(len(val_dataloader)))\n",
    "model.eval()\n",
    "preds_wrapped = []\n",
    "preds_original = []\n",
    "gold_labels = []\n",
    "with torch.no_grad():\n",
    "    idx = 0\n",
    "    total_loss_wrapped = 0\n",
    "    total_loss_original = 0\n",
    "    total_count = 0\n",
    "    for batch in val_loader:\n",
    "        output_filename = os.path.join(output_dirname, f'{idx}.pt')\n",
    "        if os.path.exists(output_filename):\n",
    "            progress_bar.update(1)\n",
    "            idx += 1\n",
    "            continue\n",
    "        inputs, labels, masks, masks_i = batch\n",
    "        inputs = inputs.to(device, dtype=torch.float)\n",
    "        labels = labels.to(device, dtype=torch.float)\n",
    "        masks = masks.to(device)\n",
    "\n",
    "        images = inputs.cpu().numpy()\n",
    "\n",
    "        # images = [Image.fromarray(inputs_numpy[i]) for i in range(inputs_numpy.shape[0])]\n",
    "\n",
    "        outputs_avg, outputs, attn_weights1, attn_weights2, pooler_outputs = model(inputs, \n",
    "                                                                   masks=masks,\n",
    "                                epoch=model.config.num_heads,\n",
    "                                mask_batch_size=args.mask_batch_size,\n",
    "                                return_pooler=True)\n",
    "        original_outputs = backbone_model(inputs).logits\n",
    "\n",
    "        preds_wrapped.append(outputs_avg)\n",
    "        preds_original.append(original_outputs)\n",
    "        gold_labels.append(labels)\n",
    "\n",
    "        bsz, num_masks, num_labels = outputs.shape\n",
    "\n",
    "        loss_avg = criterion(outputs_avg, labels)\n",
    "        total_loss_wrapped += loss_avg.sum(0)\n",
    "        loss_original = criterion(original_outputs, labels)\n",
    "        total_loss_original += loss_original.sum(0)\n",
    "        total_count += labels.size(0)\n",
    "        loss = criterion(outputs.reshape(-1, model.config.num_labels), \n",
    "                         labels.unsqueeze(1).expand(bsz, \n",
    "                                                    num_masks, \n",
    "                                                    num_labels).reshape(-1, num_labels))\n",
    "        loss = loss.reshape(outputs.shape)\n",
    "\n",
    "        if not args.scatter_only:\n",
    "            for i in range(len(images)):\n",
    "\n",
    "                masks_used = attn_weights1[i][attn_weights2[i].sum(-1).bool()]  # get masks that are used for any class\n",
    "                mask_weights = attn_weights2[i][attn_weights2[i].sum(-1).bool()]\n",
    "                output_used = outputs[i][attn_weights2[i].sum(-1).bool()]\n",
    "                pooler_used = pooler_outputs[i][attn_weights2[i].sum(-1).bool()]\n",
    "                loss_used = loss[i][attn_weights2[i].sum(-1).bool()]\n",
    "\n",
    "                # import pdb\n",
    "                # pdb.set_trace()\n",
    "                unique_masks_used, reverse_indices, counts = torch.unique(masks_used, \n",
    "                                                                        dim=0, \n",
    "                                                                        return_inverse=True, \n",
    "                                                                        return_counts=True)\n",
    "                indices = []\n",
    "                reverse_indices = reverse_indices.cpu().numpy().tolist()\n",
    "\n",
    "                for j in range(len(counts)):\n",
    "                    indices.append(reverse_indices.index(j))\n",
    "                # import pdb\n",
    "                # pdb.set_trace()\n",
    "                unique_mask_weights = mask_weights[indices] * counts.view(-1, 1)\n",
    "                unique_outputs = output_used[indices]\n",
    "                unique_preds = loss_used[indices].tolist()\n",
    "                unique_pooler = pooler_used[indices]\n",
    "\n",
    "                entry = {'image': images[i],\n",
    "                        'outputs_avg': outputs_avg[i],\n",
    "                        'outputs': unique_outputs, # outputs[i]\n",
    "                        'pooler': unique_pooler,\n",
    "                        'outputs_original': original_outputs[i],\n",
    "                        'masks': attn_weights1[i].cpu().numpy(),\n",
    "                        'masks_all': masks_i[i].cpu().numpy() \\\n",
    "                            if masks_i is not None \\\n",
    "                                else None,\n",
    "                        'masks_used': unique_masks_used,  # masks_used,\n",
    "                        'mask_weights': unique_mask_weights,  # mask_weights,\n",
    "                        'pred': loss_avg[i].tolist(),\n",
    "                        'preds': unique_preds, # predicted_raw[i].tolist(),\n",
    "                        'label': labels[i].tolist(),\n",
    "                        'counts': counts.cpu().numpy(),\n",
    "                        'num_labels': model.config.num_labels}\n",
    "\n",
    "                # print('attn_weights1[i]', attn_weights1[i].shape)\n",
    "                # print('attn_weights2[i]', attn_weights2[i].shape)\n",
    "\n",
    "                all_results.append(entry)\n",
    "                output_filename = os.path.join(output_dirname, f'{idx}.pkl')\n",
    "                torch.save(entry, output_filename)\n",
    "\n",
    "        progress_bar.update(1)\n",
    "        idx += 1\n",
    "\n",
    "        del images\n",
    "\n",
    "    preds_wrapped = torch.cat(preds_wrapped).cpu().numpy()\n",
    "    preds_original = torch.cat(preds_original).cpu().numpy()\n",
    "    gold_labels = torch.cat(gold_labels).cpu().numpy()\n",
    "\n",
    "    plot_y = gold_labels\n",
    "    # predictions = preds\n",
    "    upp_lims = np.nanmax(plot_y, axis=0)\n",
    "    low_lims = np.nanmin(plot_y, axis=0)\n",
    "\n",
    "    # Visualize predictions\n",
    "    fig, axes = plt.subplots(nrows=1, ncols=len(low_lims), figsize=(20, 10))\n",
    "\n",
    "    for ind, (low_lim, upp_lim) in enumerate(zip(low_lims, upp_lims)):\n",
    "        p_w = np.poly1d(np.polyfit(plot_y[:, ind], preds_wrapped[:, ind], 1))\n",
    "        p_o = np.poly1d(np.polyfit(plot_y[:, ind], preds_original[:, ind], 1))\n",
    "\n",
    "        axes[ind].scatter(plot_y[:, ind], preds_wrapped[:, ind], color=\"blue\", label='Wrapped')\n",
    "        axes[ind].scatter(plot_y[:, ind], preds_original[:, ind], color=\"orange\", label='Original')\n",
    "        axes[ind].plot([low_lim, upp_lim], [low_lim, upp_lim], color=\"black\")\n",
    "        axes[ind].plot([low_lim, upp_lim], [p_w(low_lim), p_w(upp_lim)], color=\"black\", ls=\":\", label='Wrapped')\n",
    "        axes[ind].plot([low_lim, upp_lim], [p_o(low_lim), p_o(upp_lim)], color=\"black\", ls=\"-.\", label='Original')\n",
    "        axes[ind].set_xlim([low_lim, upp_lim])\n",
    "        axes[ind].set_ylim([low_lim, upp_lim])\n",
    "        axes[ind].set_xlabel('Gold')\n",
    "        axes[ind].set_ylabel('Pred')\n",
    "        axes[ind].legend()\n",
    "        axes[ind].set_aspect('equal', adjustable='box')\n",
    "\n",
    "        original_loss = round((total_loss_original / total_count)[ind].cpu().item(), 4)\n",
    "        wrapped_loss = round((total_loss_wrapped / total_count)[ind].cpu().item(), 4)\n",
    "\n",
    "        axes[ind].set_title(f'Output {ind}, \\n' + \n",
    "                            f'Original loss {original_loss},\\n' +\n",
    "                            f'Wrapped loss {wrapped_loss}')\n",
    "\n",
    "    # plt.tight_layout()\n",
    "    plt.subplots_adjust(left=0.05, right=0.95, bottom=0.05, top=0.9)\n",
    "    plt.savefig(os.path.join(args.exp_dir, 'combined_scatter.png'))\n",
    "    plt.close()\n",
    "\n",
    "    # Visualize predictions\n",
    "    fig, axes = plt.subplots(nrows=1, ncols=len(low_lims), figsize=(20, 10))\n",
    "\n",
    "    for ind, (low_lim, upp_lim) in enumerate(zip(low_lims, upp_lims)):\n",
    "        p_w = np.poly1d(np.polyfit(plot_y[:, ind], preds_wrapped[:, ind], 1))\n",
    "        p_o = np.poly1d(np.polyfit(plot_y[:, ind], preds_original[:, ind], 1))\n",
    "\n",
    "        # (Wrapped - Gold) / Gold\n",
    "        diff_wrapped = (preds_wrapped[:, ind] - plot_y[:, ind]) / plot_y[:, ind]\n",
    "        # (Original - Gold) / Gold\n",
    "        diff_original = (preds_original[:, ind] - plot_y[:, ind]) / plot_y[:, ind]\n",
    "        axes[ind].scatter(plot_y[:, ind], diff_wrapped, color=\"green\", label='Wrapped')\n",
    "        axes[ind].scatter(plot_y[:, ind], diff_original, color=\"red\", label='Original')\n",
    "        axes[ind].scatter(plot_y[:, ind], preds_wrapped[:, ind], color=\"blue\", label='Wrapped')\n",
    "        axes[ind].scatter(plot_y[:, ind], preds_original[:, ind], color=\"orange\", label='Original')\n",
    "        axes[ind].plot([low_lim, upp_lim], [low_lim, upp_lim], color=\"black\")\n",
    "        axes[ind].plot([low_lim, upp_lim], [p_w(low_lim), p_w(upp_lim)], color=\"black\", ls=\":\", label='Wrapped')\n",
    "        axes[ind].plot([low_lim, upp_lim], [p_o(low_lim), p_o(upp_lim)], color=\"black\", ls=\"-.\", label='Original')\n",
    "        # axes[ind].set_xlim([low_lim, upp_lim])\n",
    "        # axes[ind].set_ylim([low_lim, upp_lim])\n",
    "        axes[ind].set_xlabel('Gold')\n",
    "        axes[ind].set_ylabel('Pred')\n",
    "        axes[ind].legend()\n",
    "        axes[ind].set_aspect('equal', adjustable='box')\n",
    "\n",
    "        original_loss = round((total_loss_original / total_count)[ind].cpu().item(), 4)\n",
    "        wrapped_loss = round((total_loss_wrapped / total_count)[ind].cpu().item(), 4)\n",
    "\n",
    "        axes[ind].set_title(f'Output {ind}, \\n' + \n",
    "                            f'Original loss {original_loss},\\n' +\n",
    "                            f'Wrapped loss {wrapped_loss}')\n",
    "\n",
    "    # plt.tight_layout()\n",
    "    plt.subplots_adjust(left=0.05, right=0.95, bottom=0.05, top=0.9)\n",
    "    plt.savefig(os.path.join(args.exp_dir, 'combined_scatter_diff.png'))\n",
    "    plt.close()\n",
    "\n",
    "    # Visualize predictions\n",
    "    fig, axes = plt.subplots(nrows=1, ncols=len(low_lims), figsize=(20, 10))\n",
    "\n",
    "\n",
    "    for ind, (low_lim, upp_lim) in enumerate(zip(low_lims, upp_lims)):\n",
    "        p_w = np.poly1d(np.polyfit(plot_y[:, ind], preds_wrapped[:, ind], 1))\n",
    "        p_o = np.poly1d(np.polyfit(plot_y[:, ind], preds_original[:, ind], 1))\n",
    "\n",
    "        # (Wrapped - Gold) / Gold\n",
    "        diff_wrapped = (preds_wrapped[:, ind] - plot_y[:, ind]) / plot_y[:, ind]\n",
    "        # (Original - Gold) / Gold\n",
    "        diff_original = (preds_original[:, ind] - plot_y[:, ind]) / plot_y[:, ind]\n",
    "        axes[ind].scatter(plot_y[:, ind], diff_wrapped, color=\"blue\", label='Wrapped')\n",
    "        axes[ind].scatter(plot_y[:, ind], diff_original, color=\"orange\", label='Original')\n",
    "        # axes[ind].plot([low_lim, upp_lim], [low_lim, upp_lim], color=\"black\")\n",
    "        # axes[ind].plot([low_lim, upp_lim], [p_w(low_lim), p_w(upp_lim)], color=\"black\", ls=\":\", label='Wrapped')\n",
    "        # axes[ind].plot([low_lim, upp_lim], [p_o(low_lim), p_o(upp_lim)], color=\"black\", ls=\"-.\", label='Original')\n",
    "        # axes[ind].set_xlim([low_lim, upp_lim])\n",
    "        # axes[ind].set_ylim([low_lim, upp_lim])\n",
    "        axes[ind].set_xlabel('Gold')\n",
    "        axes[ind].set_ylabel('Pred')\n",
    "        axes[ind].legend()\n",
    "        axes[ind].set_aspect('equal', adjustable='box')\n",
    "\n",
    "        original_loss = round((total_loss_original / total_count)[ind].cpu().item(), 4)\n",
    "        wrapped_loss = round((total_loss_wrapped / total_count)[ind].cpu().item(), 4)\n",
    "\n",
    "        axes[ind].set_title(f'Output {ind}, \\n' + \n",
    "                            f'Original loss {original_loss},\\n' +\n",
    "                            f'Wrapped loss {wrapped_loss}')\n",
    "\n",
    "    # plt.tight_layout()\n",
    "    plt.subplots_adjust(left=0.05, right=0.95, bottom=0.05, top=0.9)\n",
    "    plt.savefig(os.path.join(args.exp_dir, 'combined_scatter_diff_only.png'))\n",
    "    plt.close()\n",
    "\n",
    "    print('mean-center-offset', args.mean_center_offset)\n",
    "    print('mean-center-scale', args.mean_center_scale)\n",
    "    print('mean-center-offset2', args.mean_center_offset2)\n",
    "    print('mean-center-scale2', args.mean_center_scale2)\n",
    "    print('original_loss', original_loss)\n",
    "    print('wrapped_loss', wrapped_loss)"
   ]
  }
 ],
 "metadata": {
  "kernelspec": {
   "display_name": "Python 3 (ipykernel)",
   "language": "python",
   "name": "python3"
  },
  "language_info": {
   "codemirror_mode": {
    "name": "ipython",
    "version": 3
   },
   "file_extension": ".py",
   "mimetype": "text/x-python",
   "name": "python",
   "nbconvert_exporter": "python",
   "pygments_lexer": "ipython3",
   "version": "3.10.10"
  }
 },
 "nbformat": 4,
 "nbformat_minor": 5
}
