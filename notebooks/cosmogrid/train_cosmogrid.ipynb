{
 "cells": [
  {
   "cell_type": "code",
   "execution_count": 1,
   "id": "5e7838f6-1134-4508-ab0c-63e9b48b99cc",
   "metadata": {
    "tags": []
   },
   "outputs": [],
   "source": [
    "import json\n",
    "import os\n",
    "import argparse\n",
    "\n",
    "import numpy as np\n",
    "import random\n",
    "import torch\n",
    "from torch import nn, optim\n",
    "from tqdm.auto import tqdm\n",
    "\n",
    "from pathlib import Path\n",
    "from torch.utils.data import DataLoader, Subset\n",
    "import sys\n",
    "sys.path.append('../../lib/exlib/src')\n",
    "from exlib.modules.sop import SOPImageCls, SOPConfig, get_chained_attr, get_inverse_sqrt_with_separate_heads_schedule_with_warmup\n",
    "from exlib.datasets.cosmogrid import CosmogridDataset, CNNModel"
   ]
  },
  {
   "cell_type": "code",
   "execution_count": 2,
   "id": "ebdbef0b-ef0b-403b-97f2-24c9b67fdaa1",
   "metadata": {
    "tags": []
   },
   "outputs": [],
   "source": [
    "device = torch.device('cuda' if torch.cuda.is_available() else 'cpu')\n",
    "\n",
    "SEED = 42\n",
    "if SEED != -1:\n",
    "    # Torch RNG\n",
    "    torch.manual_seed(SEED)\n",
    "    torch.cuda.manual_seed(SEED)\n",
    "    torch.cuda.manual_seed_all(SEED)\n",
    "    # Python RNG\n",
    "    np.random.seed(SEED)\n",
    "    random.seed(SEED)"
   ]
  },
  {
   "cell_type": "code",
   "execution_count": 3,
   "id": "c936663e-2c91-49af-a263-30ffbeeda7d1",
   "metadata": {
    "tags": []
   },
   "outputs": [],
   "source": [
    "# model paths\n",
    "backbone_model_name = '../../data/cosmogrid/CNN_mass_maps.pth'\n",
    "\n",
    "# data paths\n",
    "TRAIN_DATA_DIR = '../../data/cosmogrid'\n",
    "VAL_DATA_DIR = '../../data/cosmogrid'\n",
    "mask_path = '../../data/processed/cosmogrid/masks/X_maps_Cosmogrid_100k_watershed_diagonal.npy'\n",
    "\n",
    "# training args\n",
    "batch_size = 16\n",
    "lr = 0.0005\n",
    "num_epochs = 20\n",
    "warmup_steps = 2000\n",
    "mask_batch_size = 64\n",
    "# num_heads = 1\n",
    "num_heads = 4\n",
    "\n",
    "# experiment args\n",
    "# exp_dir = '../../exps/cosmogrid'\n",
    "exp_dir = '../../exps/cosmogrid_4h'\n",
    "os.makedirs(exp_dir, exist_ok=True)"
   ]
  },
  {
   "cell_type": "code",
   "execution_count": 4,
   "id": "4a3e71e3-0fef-4072-a32f-12097a830cb9",
   "metadata": {
    "tags": []
   },
   "outputs": [],
   "source": [
    "config = SOPConfig(\n",
    "    json_file='../configs/cosmogrid.json',\n",
    "    num_heads=num_heads,\n",
    ")\n",
    "\n",
    "backbone_model = CNNModel(config.num_labels)\n",
    "state_dict = torch.load(backbone_model_name)\n",
    "backbone_model.load_state_dict(state_dict=state_dict)\n",
    "processor = None"
   ]
  },
  {
   "cell_type": "code",
   "execution_count": 5,
   "id": "aef0835b-02b8-40b1-bac9-35a92d9cde77",
   "metadata": {
    "tags": []
   },
   "outputs": [
    {
     "name": "stdout",
     "output_type": "stream",
     "text": [
      "# samples used for training: 80000\n",
      "# samples used for validation: 10000\n",
      "# samples used for testing: 10000\n",
      "# total samples: 100000\n",
      "x shape (80000, 66, 66) (10000, 66, 66) (10000, 66, 66)\n",
      "y shape (80000, 6) (10000, 6) (10000, 6)\n",
      "masks shape (80000, 66, 66) (10000, 66, 66) (10000, 66, 66)\n",
      "-- ALL --\n",
      "max 0.7257571922558966\n",
      "min -0.034935039865926346\n",
      "-- SPLIT train --\n",
      "max 0.7257571922558966\n",
      "min -0.034935039865926346\n",
      "Finished loading 80000 train images ... \n",
      "# samples used for training: 80000\n",
      "# samples used for validation: 10000\n",
      "# samples used for testing: 10000\n",
      "# total samples: 100000\n",
      "x shape (80000, 66, 66) (10000, 66, 66) (10000, 66, 66)\n",
      "y shape (80000, 6) (10000, 6) (10000, 6)\n",
      "masks shape (80000, 66, 66) (10000, 66, 66) (10000, 66, 66)\n",
      "-- ALL --\n",
      "max 0.6323861033355062\n",
      "min -0.031224769235240986\n",
      "-- SPLIT val --\n",
      "max 0.6323861033355062\n",
      "min -0.031224769235240986\n",
      "Finished loading 10000 val images ... \n"
     ]
    }
   ],
   "source": [
    "import torchvision.transforms as transforms\n",
    "from torchvision.datasets import ImageFolder\n",
    "from torch.utils.data import DataLoader\n",
    "\n",
    "\n",
    "# Load the dataset\n",
    "train_size, val_size = -1, -1\n",
    "# train_size = 100\n",
    "# val_size = 100\n",
    "train_dataset = CosmogridDataset(root_dir=TRAIN_DATA_DIR, split='train', data_size=train_size,\n",
    "                                 inputs_filename='X_maps_Cosmogrid_100k.npy',\n",
    "                                 labels_filename='y_maps_Cosmogrid_100k.npy',\n",
    "                                 mask_path=mask_path,\n",
    "                                num_masks_max=config.num_masks_max)\n",
    "val_dataset = CosmogridDataset(root_dir=TRAIN_DATA_DIR, split='val', data_size=val_size,\n",
    "                               inputs_filename='X_maps_Cosmogrid_100k.npy',\n",
    "                                 labels_filename='y_maps_Cosmogrid_100k.npy',\n",
    "                                 mask_path=mask_path,\n",
    "                                num_masks_max=config.num_masks_max)\n",
    "\n",
    "# Use subset for testing purpose\n",
    "# num_data = 100\n",
    "# train_dataset = Subset(train_dataset, range(num_data))\n",
    "# val_dataset = Subset(val_dataset, range(num_data))\n",
    "\n",
    "# Create a DataLoader to batch and shuffle the data\n",
    "train_dataloader = DataLoader(train_dataset, batch_size=batch_size, shuffle=True)\n",
    "val_dataloader = DataLoader(val_dataset, batch_size=batch_size, shuffle=False)"
   ]
  },
  {
   "cell_type": "code",
   "execution_count": 6,
   "id": "5e4b54a6-80d5-4bfd-ad56-39a862f28d09",
   "metadata": {
    "tags": []
   },
   "outputs": [],
   "source": [
    "backbone_model = backbone_model.to(device)"
   ]
  },
  {
   "cell_type": "code",
   "execution_count": 7,
   "id": "0bf3ed2f-bae5-4a0a-8481-392821c34cc3",
   "metadata": {
    "tags": []
   },
   "outputs": [
    {
     "name": "stdout",
     "output_type": "stream",
     "text": [
      "deep copy class weights\n"
     ]
    }
   ],
   "source": [
    "model = SOPImageCls(config, backbone_model)\n",
    "model = model.to(device)"
   ]
  },
  {
   "cell_type": "code",
   "execution_count": 8,
   "id": "d698838c-d435-4bad-b200-9c0d0a4701d5",
   "metadata": {
    "tags": []
   },
   "outputs": [],
   "source": [
    "from transformers import get_scheduler\n",
    "\n",
    "optimizer = optim.AdamW(filter(lambda p: p.requires_grad, model.parameters()), lr=lr)\n",
    "num_training_steps = len(train_dataloader) * num_epochs\n",
    "train_rep_step_size = int(num_training_steps / config.num_heads)\n",
    "lr_scheduler = get_inverse_sqrt_with_separate_heads_schedule_with_warmup(\n",
    "            optimizer=optimizer, \n",
    "            num_warmup_steps=warmup_steps,\n",
    "            num_steps_per_epoch=train_rep_step_size,\n",
    "            num_heads=config.num_heads\n",
    "        )\n",
    "criterion = nn.MSELoss()"
   ]
  },
  {
   "cell_type": "code",
   "execution_count": 9,
   "id": "4128a754-4503-41c2-8970-a1d432844876",
   "metadata": {
    "tags": []
   },
   "outputs": [],
   "source": [
    "def eval(model, dataloader, criterion, postprocess=lambda x:x):\n",
    "    print('Eval ...')\n",
    "    model.eval()\n",
    "    total_loss = 0.0\n",
    "    correct = 0\n",
    "    total = 0\n",
    "    with torch.no_grad():\n",
    "        progress_bar_eval = tqdm(range(len(dataloader)))\n",
    "        for i, batch in enumerate(dataloader):\n",
    "            # Now you can use `inputs` and `labels` in your training loop.\n",
    "            inputs, labels, masks, _ = batch\n",
    "            inputs, labels = inputs.to(device, dtype=torch.float), labels.to(device, dtype=torch.float)\n",
    "            masks = masks.to(device)\n",
    "\n",
    "            outputs = model(inputs)\n",
    "            logits = postprocess(outputs)\n",
    "            \n",
    "            # val loss\n",
    "            loss = criterion(logits, labels)\n",
    "            total_loss += loss.item() * labels.size(0)\n",
    "            \n",
    "            total += labels.size(0)\n",
    "            \n",
    "            progress_bar_eval.update(1)\n",
    "    \n",
    "    # val_acc = correct / total\n",
    "    val_loss = total_loss / total\n",
    "    \n",
    "    model.train()\n",
    "    \n",
    "    return {\n",
    "        # 'val_acc': val_acc,\n",
    "        'val_loss': val_loss\n",
    "    }"
   ]
  },
  {
   "cell_type": "code",
   "execution_count": 10,
   "id": "517fdfee-2e36-41ce-b3fc-8813f407b1f5",
   "metadata": {
    "tags": []
   },
   "outputs": [
    {
     "name": "stdout",
     "output_type": "stream",
     "text": [
      "Eval ...\n"
     ]
    },
    {
     "data": {
      "application/vnd.jupyter.widget-view+json": {
       "model_id": "4d5d01e29fd74ed6b1ca60b3fdd00736",
       "version_major": 2,
       "version_minor": 0
      },
      "text/plain": [
       "  0%|          | 0/625 [00:00<?, ?it/s]"
      ]
     },
     "metadata": {},
     "output_type": "display_data"
    },
    {
     "name": "stderr",
     "output_type": "stream",
     "text": [
      "/opt/conda/envs/rapids/lib/python3.10/site-packages/torch/nn/modules/conv.py:459: UserWarning: Applied workaround for CuDNN issue, install nvrtc.so (Triggered internally at ../aten/src/ATen/native/cudnn/Conv_v8.cpp:80.)\n",
      "  return F.conv2d(input, weight, bias, self.stride,\n"
     ]
    },
    {
     "data": {
      "text/plain": [
       "0.008118031978979708"
      ]
     },
     "execution_count": 10,
     "metadata": {},
     "output_type": "execute_result"
    }
   ],
   "source": [
    "backbone_val_results = eval(backbone_model, val_dataloader, criterion, postprocess=lambda x:x.logits)\n",
    "backbone_val_loss = backbone_val_results['val_loss']\n",
    "backbone_val_loss"
   ]
  },
  {
   "cell_type": "code",
   "execution_count": null,
   "id": "ae07940a-296b-478b-bc20-691898613b40",
   "metadata": {
    "tags": []
   },
   "outputs": [
    {
     "name": "stderr",
     "output_type": "stream",
     "text": [
      "\u001b[34m\u001b[1mwandb\u001b[0m: Currently logged in as: \u001b[33mfallcat\u001b[0m. Use \u001b[1m`wandb login --relogin`\u001b[0m to force relogin\n"
     ]
    },
    {
     "data": {
      "text/html": [
       "Tracking run with wandb version 0.15.12"
      ],
      "text/plain": [
       "<IPython.core.display.HTML object>"
      ]
     },
     "metadata": {},
     "output_type": "display_data"
    },
    {
     "data": {
      "text/html": [
       "Run data is saved locally in <code>/shared_data0/weiqiuy/sop/notebooks/cosmogrid/wandb/run-20231107_164924-djj31stp</code>"
      ],
      "text/plain": [
       "<IPython.core.display.HTML object>"
      ]
     },
     "metadata": {},
     "output_type": "display_data"
    },
    {
     "data": {
      "text/html": [
       "Syncing run <strong><a href='https://wandb.ai/fallcat/sop/runs/djj31stp' target=\"_blank\">golden-waterfall-11</a></strong> to <a href='https://wandb.ai/fallcat/sop' target=\"_blank\">Weights & Biases</a> (<a href='https://wandb.me/run' target=\"_blank\">docs</a>)<br/>"
      ],
      "text/plain": [
       "<IPython.core.display.HTML object>"
      ]
     },
     "metadata": {},
     "output_type": "display_data"
    },
    {
     "data": {
      "text/html": [
       " View project at <a href='https://wandb.ai/fallcat/sop' target=\"_blank\">https://wandb.ai/fallcat/sop</a>"
      ],
      "text/plain": [
       "<IPython.core.display.HTML object>"
      ]
     },
     "metadata": {},
     "output_type": "display_data"
    },
    {
     "data": {
      "text/html": [
       " View run at <a href='https://wandb.ai/fallcat/sop/runs/djj31stp' target=\"_blank\">https://wandb.ai/fallcat/sop/runs/djj31stp</a>"
      ],
      "text/plain": [
       "<IPython.core.display.HTML object>"
      ]
     },
     "metadata": {},
     "output_type": "display_data"
    },
    {
     "data": {
      "application/vnd.jupyter.widget-view+json": {
       "model_id": "1680d86c19ad43e9a6e0aa31a4e76597",
       "version_major": 2,
       "version_minor": 0
      },
      "text/plain": [
       "  0%|          | 0/100000 [00:00<?, ?it/s]"
      ]
     },
     "metadata": {},
     "output_type": "display_data"
    },
    {
     "name": "stdout",
     "output_type": "stream",
     "text": [
      "Epoch 0, Batch 100, Loss 0.1137, LR 0.00002475\n",
      "Epoch 0, Batch 200, Loss 0.0824, LR 0.00004975\n",
      "Epoch 0, Batch 300, Loss 0.0327, LR 0.00007475\n",
      "Epoch 0, Batch 400, Loss 0.0250, LR 0.00009975\n",
      "Epoch 0, Batch 500, Loss 0.0203, LR 0.00012475\n",
      "Epoch 0, Batch 600, Loss 0.0204, LR 0.00014975\n",
      "Epoch 0, Batch 700, Loss 0.0194, LR 0.00017475\n",
      "Epoch 0, Batch 800, Loss 0.0194, LR 0.00019975\n",
      "Epoch 0, Batch 900, Loss 0.0184, LR 0.00022475\n",
      "Epoch 0, Batch 1000, Loss 0.0178, LR 0.00024975\n",
      "Eval ...\n"
     ]
    },
    {
     "data": {
      "application/vnd.jupyter.widget-view+json": {
       "model_id": "e48d5ee5585b41da9fb0645bc7b11293",
       "version_major": 2,
       "version_minor": 0
      },
      "text/plain": [
       "  0%|          | 0/625 [00:00<?, ?it/s]"
      ]
     },
     "metadata": {},
     "output_type": "display_data"
    }
   ],
   "source": [
    "import logging\n",
    "\n",
    "track = True\n",
    "# track = False\n",
    "early_stop = False\n",
    "early_stop_met = False\n",
    "\n",
    "if track:\n",
    "    import wandb\n",
    "    wandb.init(project='sop')\n",
    "    wandb.run.name = os.path.basename(exp_dir)\n",
    "\n",
    "# Iterate over the data\n",
    "best_val_loss = np.inf\n",
    "step = 0\n",
    "train_log_interval = 100\n",
    "val_eval_interval = 1000\n",
    "\n",
    "logging.basicConfig(filename=os.path.join(exp_dir, 'train.log'), level=logging.INFO)\n",
    "\n",
    "model.train()\n",
    "\n",
    "progress_bar = tqdm(range(num_training_steps))\n",
    "for epoch in range(num_epochs):\n",
    "    running_loss = 0.0\n",
    "    running_total = 0\n",
    "    for i, batch in enumerate(train_dataloader):\n",
    "        inputs, labels, masks, _ = batch\n",
    "        inputs, labels = inputs.to(device, dtype=torch.float), labels.to(device, dtype=torch.float)\n",
    "        masks = masks.to(device)\n",
    "        \n",
    "        optimizer.zero_grad()\n",
    "        train_rep_step = step // train_rep_step_size\n",
    "        logits = model(inputs, segs=masks, epoch=train_rep_step, mask_batch_size=mask_batch_size)\n",
    "        loss = criterion(logits, labels)\n",
    "        loss.backward()\n",
    "        optimizer.step()\n",
    "        \n",
    "        running_loss += loss.item() * labels.size(0)\n",
    "        running_total += labels.size(0)\n",
    "        \n",
    "        if i % train_log_interval == train_log_interval - 1 or i == len(train_dataloader) - 1:\n",
    "            # Print training loss every 100 batches\n",
    "            curr_lr = float(optimizer.param_groups[0]['lr'])\n",
    "            log_message = f'Epoch {epoch}, Batch {i + 1}, Loss {running_loss / running_total:.4f}, LR {curr_lr:.8f}'\n",
    "            print(log_message)\n",
    "            logging.info(log_message)\n",
    "            if track:\n",
    "                wandb.log({'train_loss': running_loss / running_total,\n",
    "                        'lr': curr_lr,\n",
    "                        'epoch': epoch,\n",
    "                        'step': step})\n",
    "            running_loss = 0.0\n",
    "            running_total = 0\n",
    "            \n",
    "        if i % val_eval_interval == val_eval_interval - 1 or i == len(train_dataloader) - 1:\n",
    "            val_results = eval(model, val_dataloader, criterion)\n",
    "            val_loss = val_results['val_loss']\n",
    "            log_message = f'Epoch {epoch}, Step {step}, Val loss {val_loss:.4f}'\n",
    "            print(log_message)\n",
    "            logging.info(log_message)\n",
    "            if track:\n",
    "                wandb.log({\n",
    "                    # 'val_acc': val_acc,\n",
    "                           'val_loss': val_loss,\n",
    "                        'epoch': epoch,\n",
    "                        'step': step})\n",
    "            \n",
    "            last_dir = os.path.join(exp_dir, 'last')\n",
    "            best_dir = os.path.join(exp_dir, 'best')\n",
    "            checkpoint = {\n",
    "                    'model': model.state_dict(),\n",
    "                    'optimizer': optimizer.state_dict(),\n",
    "                    'lr_scheduler': lr_scheduler.state_dict(),\n",
    "                    'epoch': epoch,\n",
    "                    'step': step,\n",
    "                    'val_loss': val_loss,\n",
    "                }\n",
    "            if val_loss < best_val_loss:\n",
    "                best_val_loss = val_loss\n",
    "                os.makedirs(best_dir, exist_ok=True)\n",
    "                best_checkpoint_path = os.path.join(best_dir, 'checkpoint.pth')\n",
    "                torch.save(checkpoint, best_checkpoint_path)\n",
    "                config_best_checkpoint_path = os.path.join(best_dir, 'config.json')\n",
    "                config.save_to_json(config_best_checkpoint_path)\n",
    "                print(f'Best checkpoint saved at {best_checkpoint_path}')\n",
    "                \n",
    "            os.makedirs(last_dir, exist_ok=True)\n",
    "            last_checkpoint_path = os.path.join(last_dir, 'checkpoint.pth')\n",
    "            torch.save(checkpoint, last_checkpoint_path)\n",
    "            config_last_checkpoint_path = os.path.join(last_dir, 'config.json')\n",
    "            config.save_to_json(config_best_checkpoint_path)\n",
    "            print(f'Last checkpoint saved at {last_checkpoint_path}')\n",
    "            \n",
    "            if early_stop and val_loss <= backbone_val_loss:\n",
    "                early_stop_met = True\n",
    "                break\n",
    "            \n",
    "        lr_scheduler.step()\n",
    "        progress_bar.update(1)\n",
    "        \n",
    "        step += 1\n",
    "        \n",
    "    if early_stop_met:\n",
    "        break\n",
    "        \n",
    "model.save(exp_dir)"
   ]
  },
  {
   "cell_type": "code",
   "execution_count": null,
   "id": "901f3ce2-ba44-404d-96ff-0966cb40e294",
   "metadata": {},
   "outputs": [],
   "source": []
  },
  {
   "cell_type": "code",
   "execution_count": null,
   "id": "b7bbe74c-7625-4004-ad95-c64645a3f5ed",
   "metadata": {},
   "outputs": [],
   "source": []
  }
 ],
 "metadata": {
  "kernelspec": {
   "display_name": "Python 3 (ipykernel)",
   "language": "python",
   "name": "python3"
  },
  "language_info": {
   "codemirror_mode": {
    "name": "ipython",
    "version": 3
   },
   "file_extension": ".py",
   "mimetype": "text/x-python",
   "name": "python",
   "nbconvert_exporter": "python",
   "pygments_lexer": "ipython3",
   "version": "3.10.10"
  }
 },
 "nbformat": 4,
 "nbformat_minor": 5
}
