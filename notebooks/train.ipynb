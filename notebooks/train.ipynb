{
 "cells": [
  {
   "cell_type": "code",
   "execution_count": 1,
   "id": "5e7838f6-1134-4508-ab0c-63e9b48b99cc",
   "metadata": {
    "tags": []
   },
   "outputs": [],
   "source": [
    "import json\n",
    "import os\n",
    "import argparse\n",
    "\n",
    "import numpy as np\n",
    "import random\n",
    "import torch\n",
    "from torch import nn, optim\n",
    "from tqdm.auto import tqdm\n",
    "from transformers import AutoImageProcessor, AutoModelForImageClassification, AutoConfig\n",
    "from transformers import AutoTokenizer, AutoModelForSequenceClassification\n",
    "\n",
    "from pathlib import Path\n",
    "from torch.utils.data import DataLoader, Subset\n",
    "import sys\n",
    "sys.path.append('../lib/exlib/src')\n",
    "from exlib.modules.sop import SOPImageCls, SOPConfig, get_chained_attr"
   ]
  },
  {
   "cell_type": "code",
   "execution_count": 2,
   "id": "ebdbef0b-ef0b-403b-97f2-24c9b67fdaa1",
   "metadata": {
    "tags": []
   },
   "outputs": [],
   "source": [
    "device = torch.device('cuda' if torch.cuda.is_available() else 'cpu')\n",
    "\n",
    "SEED = 42\n",
    "if SEED != -1:\n",
    "    # Torch RNG\n",
    "    torch.manual_seed(SEED)\n",
    "    torch.cuda.manual_seed(SEED)\n",
    "    torch.cuda.manual_seed_all(SEED)\n",
    "    # Python RNG\n",
    "    np.random.seed(SEED)\n",
    "    random.seed(SEED)"
   ]
  },
  {
   "cell_type": "code",
   "execution_count": 3,
   "id": "c936663e-2c91-49af-a263-30ffbeeda7d1",
   "metadata": {
    "tags": []
   },
   "outputs": [],
   "source": [
    "# model paths\n",
    "backbone_model_name = '../pt_models/vit-base-patch16-224-imagenet10cls'\n",
    "backbone_processor_name = 'google/vit-base-patch16-224'\n",
    "# sop_config_path = 'configs/imagenet_m.json'\n",
    "\n",
    "# data paths\n",
    "TRAIN_DATA_DIR = '../data/imagenet_m/train'\n",
    "VAL_DATA_DIR = '../data/imagenet_m/val'\n",
    "\n",
    "# training args\n",
    "batch_size = 16\n",
    "lr = 0.00001\n",
    "num_epochs = 20\n",
    "warmup_steps = 20\n",
    "mask_batch_size = 64\n",
    "\n",
    "# experiment args\n",
    "exp_dir = '../exps/imagenet_m_2h_debug'\n",
    "os.makedirs(exp_dir, exist_ok=True)"
   ]
  },
  {
   "cell_type": "code",
   "execution_count": 4,
   "id": "4a3e71e3-0fef-4072-a32f-12097a830cb9",
   "metadata": {
    "tags": []
   },
   "outputs": [],
   "source": [
    "backbone_model = AutoModelForImageClassification.from_pretrained(backbone_model_name)\n",
    "processor = AutoImageProcessor.from_pretrained(backbone_processor_name)\n",
    "backbone_config = AutoConfig.from_pretrained(backbone_model_name)\n",
    "\n",
    "config = SOPConfig(\n",
    "    attn_patch_size=16,\n",
    "    num_heads=2,\n",
    "    num_masks_sample=20,\n",
    "    num_masks_max=200,\n",
    "    finetune_layers=['model.classifier']\n",
    ")\n",
    "config.__dict__.update(backbone_config.__dict__)\n",
    "config.num_labels = len(backbone_config.label2id)\n",
    "# config.save_pretrained(exp_dir)"
   ]
  },
  {
   "cell_type": "code",
   "execution_count": 5,
   "id": "aef0835b-02b8-40b1-bac9-35a92d9cde77",
   "metadata": {
    "tags": []
   },
   "outputs": [],
   "source": [
    "import torchvision.transforms as transforms\n",
    "from torchvision.datasets import ImageFolder\n",
    "from torch.utils.data import DataLoader\n",
    "\n",
    "def transform(image):\n",
    "    # Preprocess the image using the ViTImageProcessor\n",
    "    image = image.convert(\"RGB\")\n",
    "    inputs = processor(image, return_tensors='pt')\n",
    "    return inputs['pixel_values'].squeeze(0)\n",
    "\n",
    "# Load the dataset\n",
    "train_dataset = ImageFolder(root=TRAIN_DATA_DIR, transform=transform)\n",
    "val_dataset = ImageFolder(root=VAL_DATA_DIR, transform=transform)\n",
    "\n",
    "# Use subset for testing purpose\n",
    "num_data = 100\n",
    "train_dataset = Subset(train_dataset, range(num_data))\n",
    "val_dataset = Subset(val_dataset, range(num_data))\n",
    "\n",
    "# Create a DataLoader to batch and shuffle the data\n",
    "train_dataloader = DataLoader(train_dataset, batch_size=batch_size, shuffle=True)\n",
    "val_dataloader = DataLoader(val_dataset, batch_size=batch_size, shuffle=False)"
   ]
  },
  {
   "cell_type": "code",
   "execution_count": 6,
   "id": "4cea2f26-b9e6-4abe-83bd-5050dcbb16f3",
   "metadata": {
    "tags": []
   },
   "outputs": [],
   "source": [
    "from collections import namedtuple\n",
    "\n",
    "WrappedBackboneOutput = namedtuple(\"WrappedBackboneOutput\", \n",
    "                                  [\"logits\",\n",
    "                                   \"pooler_output\"])\n",
    "\n",
    "\n",
    "class WrappedBackboneModel(nn.Module):\n",
    "    def __init__(self, model):\n",
    "        super().__init__()\n",
    "        self.model = model\n",
    "    \n",
    "    def forward(self, inputs):\n",
    "        outputs = self.model(inputs, output_hidden_states=True)\n",
    "        return WrappedBackboneOutput(outputs.logits, outputs.hidden_states[-1][:,0])"
   ]
  },
  {
   "cell_type": "code",
   "execution_count": 7,
   "id": "5e4b54a6-80d5-4bfd-ad56-39a862f28d09",
   "metadata": {
    "tags": []
   },
   "outputs": [],
   "source": [
    "wrapped_backbone_model = WrappedBackboneModel(backbone_model)\n",
    "wrapped_backbone_model = wrapped_backbone_model.to(device)\n",
    "class_weights = get_chained_attr(wrapped_backbone_model, config.finetune_layers[0]).weight #.clone().to(device)"
   ]
  },
  {
   "cell_type": "code",
   "execution_count": 8,
   "id": "0bf3ed2f-bae5-4a0a-8481-392821c34cc3",
   "metadata": {
    "tags": []
   },
   "outputs": [],
   "source": [
    "model = SOPImageCls(config, wrapped_backbone_model, class_weights=class_weights, projection_layer=None)\n",
    "model = model.to(device)"
   ]
  },
  {
   "cell_type": "code",
   "execution_count": 9,
   "id": "bf86beea-eb6c-4e5a-b600-826f6c053f3f",
   "metadata": {
    "tags": []
   },
   "outputs": [
    {
     "data": {
      "text/plain": [
       "Parameter containing:\n",
       "tensor([[-0.0185,  0.0317, -0.0175,  ..., -0.0125,  0.0481, -0.0027],\n",
       "        [-0.0412,  0.0001,  0.0059,  ...,  0.0216,  0.0190, -0.0097],\n",
       "        [-0.0507,  0.0458, -0.0032,  ..., -0.0404,  0.0268,  0.0041],\n",
       "        ...,\n",
       "        [ 0.0043, -0.0497,  0.0034,  ...,  0.0272, -0.0130,  0.0116],\n",
       "        [-0.0034, -0.0683,  0.0002,  ...,  0.0356, -0.0020,  0.0197],\n",
       "        [-0.0093,  0.0100, -0.0089,  ...,  0.0260,  0.0024, -0.0216]],\n",
       "       device='cuda:0', requires_grad=True)"
      ]
     },
     "execution_count": 9,
     "metadata": {},
     "output_type": "execute_result"
    }
   ],
   "source": [
    "model.class_weights"
   ]
  },
  {
   "cell_type": "code",
   "execution_count": 10,
   "id": "d698838c-d435-4bad-b200-9c0d0a4701d5",
   "metadata": {
    "tags": []
   },
   "outputs": [],
   "source": [
    "from transformers import get_scheduler\n",
    "\n",
    "optimizer = optim.AdamW(filter(lambda p: p.requires_grad, model.parameters()), lr=lr)\n",
    "num_training_steps = len(train_dataloader) * num_epochs\n",
    "lr_scheduler = get_scheduler(\n",
    "            'inverse_sqrt',\n",
    "            optimizer=optimizer, \n",
    "            num_warmup_steps=warmup_steps\n",
    "        )\n",
    "criterion = nn.CrossEntropyLoss()"
   ]
  },
  {
   "cell_type": "code",
   "execution_count": 11,
   "id": "4128a754-4503-41c2-8970-a1d432844876",
   "metadata": {
    "tags": []
   },
   "outputs": [],
   "source": [
    "def eval(model, dataloader, criterion):\n",
    "    print('Eval ...')\n",
    "    model.eval()\n",
    "    total_loss = 0.0\n",
    "    correct = 0\n",
    "    total = 0\n",
    "    total_nnz = 0\n",
    "    total_num_masks = 0\n",
    "    with torch.no_grad():\n",
    "        progress_bar_eval = tqdm(range(len(dataloader)))\n",
    "        for i, batch in enumerate(dataloader):\n",
    "            # Now you can use `inputs` and `labels` in your training loop.\n",
    "            inputs, labels = batch\n",
    "            inputs, labels = inputs.to(device), labels.to(device)\n",
    "\n",
    "            outputs = model(inputs, return_tuple=True)\n",
    "            \n",
    "            logits = outputs.logits\n",
    "            \n",
    "            for i in range(len(logits)):\n",
    "                pred = logits[i].argmax(-1).item()\n",
    "\n",
    "                pred_mask_idxs_sort = outputs.mask_weights[i,:,pred].argsort(descending=True)\n",
    "                mask_weights_sort = (outputs.mask_weights * outputs.logits_all)[i,pred_mask_idxs_sort,pred]\n",
    "                masks_sort = outputs.masks[0,pred_mask_idxs_sort]\n",
    "                masks_sort_used = (masks_sort[mask_weights_sort > 0] > masks_sort[mask_weights_sort > 0].mean()).int()\n",
    "                mask_weights_sort_used = mask_weights_sort[mask_weights_sort > 0]\n",
    "                nnz = (masks_sort[mask_weights_sort > 0] > 0).sum() / masks_sort[mask_weights_sort > 0].view(-1).shape[0]\n",
    "                total_nnz += nnz\n",
    "                total_num_masks += len(masks_sort_used)\n",
    "                \n",
    "                # import pdb; pdb.set_trace()\n",
    "            \n",
    "            # val loss\n",
    "            \n",
    "            loss = criterion(logits, labels)\n",
    "            total_loss += loss.item()\n",
    "            \n",
    "            # acc\n",
    "            _, predicted = torch.max(logits.data, 1)\n",
    "            correct += (predicted == labels).sum().item()\n",
    "            \n",
    "            total += labels.size(0)\n",
    "            \n",
    "            progress_bar_eval.update(1)\n",
    "    \n",
    "    val_acc = correct / total\n",
    "    val_loss = total_loss / total\n",
    "    val_nnz = total_nnz / total\n",
    "    val_n_masks_avg = total_num_masks / total\n",
    "    \n",
    "    results = {\n",
    "        'val_acc': val_acc,\n",
    "        'val_loss': val_loss,\n",
    "        'val_nnz': val_nnz,\n",
    "        'val_n_masks_avg': val_n_masks_avg\n",
    "    }\n",
    "    \n",
    "    print(results)\n",
    "    \n",
    "    model.train()\n",
    "    \n",
    "    return results"
   ]
  },
  {
   "cell_type": "code",
   "execution_count": 12,
   "id": "ae07940a-296b-478b-bc20-691898613b40",
   "metadata": {
    "tags": []
   },
   "outputs": [
    {
     "name": "stdout",
     "output_type": "stream",
     "text": [
      "lr 1e-05\n"
     ]
    },
    {
     "data": {
      "application/vnd.jupyter.widget-view+json": {
       "model_id": "d5f2dbb10df14ca3b3168e5fbad54c4b",
       "version_major": 2,
       "version_minor": 0
      },
      "text/plain": [
       "  0%|          | 0/140 [00:00<?, ?it/s]"
      ]
     },
     "metadata": {},
     "output_type": "display_data"
    },
    {
     "name": "stdout",
     "output_type": "stream",
     "text": [
      "140\n",
      "train_dataloader 7\n"
     ]
    },
    {
     "name": "stderr",
     "output_type": "stream",
     "text": [
      "/opt/conda/envs/rapids/lib/python3.10/site-packages/torch/nn/modules/conv.py:459: UserWarning: Applied workaround for CuDNN issue, install nvrtc.so (Triggered internally at ../aten/src/ATen/native/cudnn/Conv_v8.cpp:80.)\n",
      "  return F.conv2d(input, weight, bias, self.stride,\n"
     ]
    },
    {
     "name": "stdout",
     "output_type": "stream",
     "text": [
      "Epoch 0, Batch 7, Loss 1.5250, LR 0.00000300\n",
      "Eval ...\n"
     ]
    },
    {
     "data": {
      "application/vnd.jupyter.widget-view+json": {
       "model_id": "fb764182fcf244c599a15043aaa57928",
       "version_major": 2,
       "version_minor": 0
      },
      "text/plain": [
       "  0%|          | 0/7 [00:00<?, ?it/s]"
      ]
     },
     "metadata": {},
     "output_type": "display_data"
    },
    {
     "name": "stdout",
     "output_type": "stream",
     "text": [
      "{'val_acc': 0.52, 'val_loss': 0.11529592156410218, 'val_nnz': tensor(0.0334, device='cuda:0'), 'val_n_masks_avg': 2.74}\n",
      "Epoch 0, Step 6, Val acc 0.5200, Val loss 0.1153\n",
      "Best checkpoint saved at ../exps/imagenet_m_2h_debug/best/checkpoint.pth\n",
      "Last checkpoint saved at ../exps/imagenet_m_2h_debug/last/checkpoint.pth\n",
      "train_dataloader 7\n",
      "Epoch 1, Batch 7, Loss 1.5385, LR 0.00000650\n",
      "Eval ...\n"
     ]
    },
    {
     "data": {
      "application/vnd.jupyter.widget-view+json": {
       "model_id": "04896695f1bb49cfadd2607003965f7f",
       "version_major": 2,
       "version_minor": 0
      },
      "text/plain": [
       "  0%|          | 0/7 [00:00<?, ?it/s]"
      ]
     },
     "metadata": {},
     "output_type": "display_data"
    },
    {
     "name": "stdout",
     "output_type": "stream",
     "text": [
      "{'val_acc': 0.59, 'val_loss': 0.10896327555179595, 'val_nnz': tensor(0.0336, device='cuda:0'), 'val_n_masks_avg': 2.8}\n",
      "Epoch 1, Step 13, Val acc 0.5900, Val loss 0.1090\n",
      "Best checkpoint saved at ../exps/imagenet_m_2h_debug/best/checkpoint.pth\n",
      "Last checkpoint saved at ../exps/imagenet_m_2h_debug/last/checkpoint.pth\n",
      "train_dataloader 7\n",
      "Epoch 2, Batch 7, Loss 1.2022, LR 0.00001000\n",
      "Eval ...\n"
     ]
    },
    {
     "data": {
      "application/vnd.jupyter.widget-view+json": {
       "model_id": "e5706a94fe39466a9c5be6a89d35f212",
       "version_major": 2,
       "version_minor": 0
      },
      "text/plain": [
       "  0%|          | 0/7 [00:00<?, ?it/s]"
      ]
     },
     "metadata": {},
     "output_type": "display_data"
    },
    {
     "name": "stdout",
     "output_type": "stream",
     "text": [
      "{'val_acc': 0.61, 'val_loss': 0.09831135392189026, 'val_nnz': tensor(0.0326, device='cuda:0'), 'val_n_masks_avg': 2.99}\n",
      "Epoch 2, Step 20, Val acc 0.6100, Val loss 0.0983\n",
      "Best checkpoint saved at ../exps/imagenet_m_2h_debug/best/checkpoint.pth\n",
      "Last checkpoint saved at ../exps/imagenet_m_2h_debug/last/checkpoint.pth\n",
      "train_dataloader 7\n",
      "Epoch 3, Batch 7, Loss 1.0434, LR 0.00000861\n",
      "Eval ...\n"
     ]
    },
    {
     "data": {
      "application/vnd.jupyter.widget-view+json": {
       "model_id": "9e914a9ae0b041d38f2128bb19254e6f",
       "version_major": 2,
       "version_minor": 0
      },
      "text/plain": [
       "  0%|          | 0/7 [00:00<?, ?it/s]"
      ]
     },
     "metadata": {},
     "output_type": "display_data"
    },
    {
     "name": "stdout",
     "output_type": "stream",
     "text": [
      "{'val_acc': 0.61, 'val_loss': 0.10319440811872482, 'val_nnz': tensor(0.0325, device='cuda:0'), 'val_n_masks_avg': 2.7}\n",
      "Epoch 3, Step 27, Val acc 0.6100, Val loss 0.1032\n",
      "Last checkpoint saved at ../exps/imagenet_m_2h_debug/last/checkpoint.pth\n",
      "train_dataloader 7\n",
      "Epoch 4, Batch 7, Loss 0.8724, LR 0.00000767\n",
      "Eval ...\n"
     ]
    },
    {
     "data": {
      "application/vnd.jupyter.widget-view+json": {
       "model_id": "dcd400414135494abcdbe978029ca47e",
       "version_major": 2,
       "version_minor": 0
      },
      "text/plain": [
       "  0%|          | 0/7 [00:00<?, ?it/s]"
      ]
     },
     "metadata": {},
     "output_type": "display_data"
    },
    {
     "name": "stdout",
     "output_type": "stream",
     "text": [
      "{'val_acc': 0.59, 'val_loss': 0.11016914665699006, 'val_nnz': tensor(0.0327, device='cuda:0'), 'val_n_masks_avg': 2.63}\n",
      "Epoch 4, Step 34, Val acc 0.5900, Val loss 0.1102\n",
      "Last checkpoint saved at ../exps/imagenet_m_2h_debug/last/checkpoint.pth\n",
      "train_dataloader 7\n",
      "Epoch 5, Batch 7, Loss 0.8203, LR 0.00000698\n",
      "Eval ...\n"
     ]
    },
    {
     "data": {
      "application/vnd.jupyter.widget-view+json": {
       "model_id": "1a31c0c7c7f04fe7b9debf02998dd31b",
       "version_major": 2,
       "version_minor": 0
      },
      "text/plain": [
       "  0%|          | 0/7 [00:00<?, ?it/s]"
      ]
     },
     "metadata": {},
     "output_type": "display_data"
    },
    {
     "name": "stdout",
     "output_type": "stream",
     "text": [
      "{'val_acc': 0.56, 'val_loss': 0.10996847093105316, 'val_nnz': tensor(0.0326, device='cuda:0'), 'val_n_masks_avg': 2.87}\n",
      "Epoch 5, Step 41, Val acc 0.5600, Val loss 0.1100\n",
      "Last checkpoint saved at ../exps/imagenet_m_2h_debug/last/checkpoint.pth\n",
      "train_dataloader 7\n",
      "Epoch 6, Batch 7, Loss 0.7557, LR 0.00000645\n",
      "Eval ...\n"
     ]
    },
    {
     "data": {
      "application/vnd.jupyter.widget-view+json": {
       "model_id": "78c2225bfc774456b1211527bc4f36a5",
       "version_major": 2,
       "version_minor": 0
      },
      "text/plain": [
       "  0%|          | 0/7 [00:00<?, ?it/s]"
      ]
     },
     "metadata": {},
     "output_type": "display_data"
    },
    {
     "name": "stdout",
     "output_type": "stream",
     "text": [
      "{'val_acc': 0.54, 'val_loss': 0.12349519103765488, 'val_nnz': tensor(0.0323, device='cuda:0'), 'val_n_masks_avg': 2.6}\n",
      "Epoch 6, Step 48, Val acc 0.5400, Val loss 0.1235\n",
      "Last checkpoint saved at ../exps/imagenet_m_2h_debug/last/checkpoint.pth\n",
      "train_dataloader 7\n",
      "Epoch 7, Batch 7, Loss 0.6893, LR 0.00000603\n",
      "Eval ...\n"
     ]
    },
    {
     "data": {
      "application/vnd.jupyter.widget-view+json": {
       "model_id": "9486404263374246882c1d8368978f23",
       "version_major": 2,
       "version_minor": 0
      },
      "text/plain": [
       "  0%|          | 0/7 [00:00<?, ?it/s]"
      ]
     },
     "metadata": {},
     "output_type": "display_data"
    },
    {
     "name": "stdout",
     "output_type": "stream",
     "text": [
      "{'val_acc': 0.53, 'val_loss': 0.12035199970006943, 'val_nnz': tensor(0.0339, device='cuda:0'), 'val_n_masks_avg': 2.55}\n",
      "Epoch 7, Step 55, Val acc 0.5300, Val loss 0.1204\n",
      "Last checkpoint saved at ../exps/imagenet_m_2h_debug/last/checkpoint.pth\n",
      "train_dataloader 7\n",
      "Epoch 8, Batch 7, Loss 0.6353, LR 0.00000568\n",
      "Eval ...\n"
     ]
    },
    {
     "data": {
      "application/vnd.jupyter.widget-view+json": {
       "model_id": "93d2e9417fe64ad1b5faacccb7f9b4e6",
       "version_major": 2,
       "version_minor": 0
      },
      "text/plain": [
       "  0%|          | 0/7 [00:00<?, ?it/s]"
      ]
     },
     "metadata": {},
     "output_type": "display_data"
    },
    {
     "name": "stdout",
     "output_type": "stream",
     "text": [
      "{'val_acc': 0.54, 'val_loss': 0.12330398544669151, 'val_nnz': tensor(0.0337, device='cuda:0'), 'val_n_masks_avg': 2.74}\n",
      "Epoch 8, Step 62, Val acc 0.5400, Val loss 0.1233\n",
      "Last checkpoint saved at ../exps/imagenet_m_2h_debug/last/checkpoint.pth\n",
      "train_dataloader 7\n",
      "Epoch 9, Batch 7, Loss 0.6185, LR 0.00000538\n",
      "Eval ...\n"
     ]
    },
    {
     "data": {
      "application/vnd.jupyter.widget-view+json": {
       "model_id": "a686e928cdf74a15b413889840a68873",
       "version_major": 2,
       "version_minor": 0
      },
      "text/plain": [
       "  0%|          | 0/7 [00:00<?, ?it/s]"
      ]
     },
     "metadata": {},
     "output_type": "display_data"
    },
    {
     "name": "stdout",
     "output_type": "stream",
     "text": [
      "{'val_acc': 0.54, 'val_loss': 0.1285986825823784, 'val_nnz': tensor(0.0329, device='cuda:0'), 'val_n_masks_avg': 2.54}\n",
      "Epoch 9, Step 69, Val acc 0.5400, Val loss 0.1286\n",
      "Last checkpoint saved at ../exps/imagenet_m_2h_debug/last/checkpoint.pth\n",
      "train_dataloader 7\n",
      "Epoch 10, Batch 7, Loss 0.5491, LR 0.00000513\n",
      "Eval ...\n"
     ]
    },
    {
     "data": {
      "application/vnd.jupyter.widget-view+json": {
       "model_id": "bdada1c99eb04c16b57244f522a60c97",
       "version_major": 2,
       "version_minor": 0
      },
      "text/plain": [
       "  0%|          | 0/7 [00:00<?, ?it/s]"
      ]
     },
     "metadata": {},
     "output_type": "display_data"
    },
    {
     "name": "stdout",
     "output_type": "stream",
     "text": [
      "{'val_acc': 0.52, 'val_loss': 0.12666562601923942, 'val_nnz': tensor(0.0340, device='cuda:0'), 'val_n_masks_avg': 2.68}\n",
      "Epoch 10, Step 76, Val acc 0.5200, Val loss 0.1267\n",
      "Last checkpoint saved at ../exps/imagenet_m_2h_debug/last/checkpoint.pth\n",
      "train_dataloader 7\n",
      "Epoch 11, Batch 7, Loss 0.5290, LR 0.00000491\n",
      "Eval ...\n"
     ]
    },
    {
     "data": {
      "application/vnd.jupyter.widget-view+json": {
       "model_id": "117046bbfed44659a5e4152197b2afa2",
       "version_major": 2,
       "version_minor": 0
      },
      "text/plain": [
       "  0%|          | 0/7 [00:00<?, ?it/s]"
      ]
     },
     "metadata": {},
     "output_type": "display_data"
    },
    {
     "name": "stdout",
     "output_type": "stream",
     "text": [
      "{'val_acc': 0.53, 'val_loss': 0.1359690722823143, 'val_nnz': tensor(0.0340, device='cuda:0'), 'val_n_masks_avg': 2.42}\n",
      "Epoch 11, Step 83, Val acc 0.5300, Val loss 0.1360\n",
      "Last checkpoint saved at ../exps/imagenet_m_2h_debug/last/checkpoint.pth\n",
      "train_dataloader 7\n",
      "Epoch 12, Batch 7, Loss 0.5870, LR 0.00000471\n",
      "Eval ...\n"
     ]
    },
    {
     "data": {
      "application/vnd.jupyter.widget-view+json": {
       "model_id": "e53bde00aa894862a4fab57d39a9c9ab",
       "version_major": 2,
       "version_minor": 0
      },
      "text/plain": [
       "  0%|          | 0/7 [00:00<?, ?it/s]"
      ]
     },
     "metadata": {},
     "output_type": "display_data"
    },
    {
     "name": "stdout",
     "output_type": "stream",
     "text": [
      "{'val_acc': 0.53, 'val_loss': 0.1257265503704548, 'val_nnz': tensor(0.0341, device='cuda:0'), 'val_n_masks_avg': 2.52}\n",
      "Epoch 12, Step 90, Val acc 0.5300, Val loss 0.1257\n",
      "Last checkpoint saved at ../exps/imagenet_m_2h_debug/last/checkpoint.pth\n",
      "train_dataloader 7\n",
      "Epoch 13, Batch 7, Loss 0.5902, LR 0.00000454\n",
      "Eval ...\n"
     ]
    },
    {
     "data": {
      "application/vnd.jupyter.widget-view+json": {
       "model_id": "5b9e5e6474594d1f864a6785151bd24b",
       "version_major": 2,
       "version_minor": 0
      },
      "text/plain": [
       "  0%|          | 0/7 [00:00<?, ?it/s]"
      ]
     },
     "metadata": {},
     "output_type": "display_data"
    },
    {
     "name": "stdout",
     "output_type": "stream",
     "text": [
      "{'val_acc': 0.54, 'val_loss': 0.12587388277053832, 'val_nnz': tensor(0.0351, device='cuda:0'), 'val_n_masks_avg': 2.41}\n",
      "Epoch 13, Step 97, Val acc 0.5400, Val loss 0.1259\n",
      "Last checkpoint saved at ../exps/imagenet_m_2h_debug/last/checkpoint.pth\n",
      "train_dataloader 7\n",
      "Epoch 14, Batch 7, Loss 0.5906, LR 0.00000439\n",
      "Eval ...\n"
     ]
    },
    {
     "data": {
      "application/vnd.jupyter.widget-view+json": {
       "model_id": "045ad2f0a6f34965b48f19cc65e36597",
       "version_major": 2,
       "version_minor": 0
      },
      "text/plain": [
       "  0%|          | 0/7 [00:00<?, ?it/s]"
      ]
     },
     "metadata": {},
     "output_type": "display_data"
    },
    {
     "name": "stdout",
     "output_type": "stream",
     "text": [
      "{'val_acc': 0.52, 'val_loss': 0.12749230310320855, 'val_nnz': tensor(0.0357, device='cuda:0'), 'val_n_masks_avg': 2.49}\n",
      "Epoch 14, Step 104, Val acc 0.5200, Val loss 0.1275\n",
      "Last checkpoint saved at ../exps/imagenet_m_2h_debug/last/checkpoint.pth\n",
      "train_dataloader 7\n",
      "Epoch 15, Batch 7, Loss 0.5731, LR 0.00000424\n",
      "Eval ...\n"
     ]
    },
    {
     "data": {
      "application/vnd.jupyter.widget-view+json": {
       "model_id": "7f066ec16eff4342be449108a2f7ae18",
       "version_major": 2,
       "version_minor": 0
      },
      "text/plain": [
       "  0%|          | 0/7 [00:00<?, ?it/s]"
      ]
     },
     "metadata": {},
     "output_type": "display_data"
    },
    {
     "name": "stdout",
     "output_type": "stream",
     "text": [
      "{'val_acc': 0.51, 'val_loss': 0.141374394595623, 'val_nnz': tensor(0.0356, device='cuda:0'), 'val_n_masks_avg': 2.37}\n",
      "Epoch 15, Step 111, Val acc 0.5100, Val loss 0.1414\n",
      "Last checkpoint saved at ../exps/imagenet_m_2h_debug/last/checkpoint.pth\n",
      "train_dataloader 7\n",
      "Epoch 16, Batch 7, Loss 0.5545, LR 0.00000412\n",
      "Eval ...\n"
     ]
    },
    {
     "data": {
      "application/vnd.jupyter.widget-view+json": {
       "model_id": "8a2169f0407d423393ba21bd3313b4a5",
       "version_major": 2,
       "version_minor": 0
      },
      "text/plain": [
       "  0%|          | 0/7 [00:00<?, ?it/s]"
      ]
     },
     "metadata": {},
     "output_type": "display_data"
    },
    {
     "name": "stdout",
     "output_type": "stream",
     "text": [
      "{'val_acc': 0.54, 'val_loss': 0.1364646652340889, 'val_nnz': tensor(0.0361, device='cuda:0'), 'val_n_masks_avg': 2.36}\n",
      "Epoch 16, Step 118, Val acc 0.5400, Val loss 0.1365\n",
      "Last checkpoint saved at ../exps/imagenet_m_2h_debug/last/checkpoint.pth\n",
      "train_dataloader 7\n",
      "Epoch 17, Batch 7, Loss 0.4611, LR 0.00000400\n",
      "Eval ...\n"
     ]
    },
    {
     "data": {
      "application/vnd.jupyter.widget-view+json": {
       "model_id": "2ac42294d5434d4cbf0609b5654b0606",
       "version_major": 2,
       "version_minor": 0
      },
      "text/plain": [
       "  0%|          | 0/7 [00:00<?, ?it/s]"
      ]
     },
     "metadata": {},
     "output_type": "display_data"
    },
    {
     "name": "stdout",
     "output_type": "stream",
     "text": [
      "{'val_acc': 0.52, 'val_loss': 0.14457677200436592, 'val_nnz': tensor(0.0351, device='cuda:0'), 'val_n_masks_avg': 2.57}\n",
      "Epoch 17, Step 125, Val acc 0.5200, Val loss 0.1446\n",
      "Last checkpoint saved at ../exps/imagenet_m_2h_debug/last/checkpoint.pth\n",
      "train_dataloader 7\n",
      "Epoch 18, Batch 7, Loss 0.4900, LR 0.00000389\n",
      "Eval ...\n"
     ]
    },
    {
     "data": {
      "application/vnd.jupyter.widget-view+json": {
       "model_id": "d9c49c1618194202bfe1fc983ea1c8f7",
       "version_major": 2,
       "version_minor": 0
      },
      "text/plain": [
       "  0%|          | 0/7 [00:00<?, ?it/s]"
      ]
     },
     "metadata": {},
     "output_type": "display_data"
    },
    {
     "name": "stdout",
     "output_type": "stream",
     "text": [
      "{'val_acc': 0.51, 'val_loss': 0.14386578559875488, 'val_nnz': tensor(0.0342, device='cuda:0'), 'val_n_masks_avg': 2.4}\n",
      "Epoch 18, Step 132, Val acc 0.5100, Val loss 0.1439\n",
      "Last checkpoint saved at ../exps/imagenet_m_2h_debug/last/checkpoint.pth\n",
      "train_dataloader 7\n",
      "Epoch 19, Batch 7, Loss 0.4861, LR 0.00000379\n",
      "Eval ...\n"
     ]
    },
    {
     "data": {
      "application/vnd.jupyter.widget-view+json": {
       "model_id": "b3ee30a2426f450a81e496f35684ffba",
       "version_major": 2,
       "version_minor": 0
      },
      "text/plain": [
       "  0%|          | 0/7 [00:00<?, ?it/s]"
      ]
     },
     "metadata": {},
     "output_type": "display_data"
    },
    {
     "name": "stdout",
     "output_type": "stream",
     "text": [
      "{'val_acc': 0.52, 'val_loss': 0.140265831053257, 'val_nnz': tensor(0.0340, device='cuda:0'), 'val_n_masks_avg': 2.41}\n",
      "Epoch 19, Step 139, Val acc 0.5200, Val loss 0.1403\n",
      "Last checkpoint saved at ../exps/imagenet_m_2h_debug/last/checkpoint.pth\n",
      "Saved model to ../exps/imagenet_m_2h_debug\n"
     ]
    }
   ],
   "source": [
    "import logging\n",
    "\n",
    "# track = True\n",
    "track = False\n",
    "\n",
    "if track:\n",
    "    import wandb\n",
    "    wandb.init(project='sop')\n",
    "    wandb.run.name = os.path.basename(exp_dir)\n",
    "\n",
    "# Iterate over the data\n",
    "best_val_acc = 0.0\n",
    "step = 0\n",
    "train_log_interval = 10\n",
    "val_eval_interval = 100\n",
    "\n",
    "print('lr', lr)\n",
    "\n",
    "logging.basicConfig(filename=os.path.join(exp_dir, 'train.log'), level=logging.INFO)\n",
    "\n",
    "progress_bar = tqdm(range(num_training_steps))\n",
    "print(num_training_steps)\n",
    "for epoch in range(num_epochs):\n",
    "    running_loss = 0.0\n",
    "    running_total = 0\n",
    "    print('train_dataloader', len(train_dataloader))\n",
    "    for i, batch in enumerate(train_dataloader):\n",
    "        inputs, labels = batch\n",
    "        inputs, labels = inputs.to(device), labels.to(device)\n",
    "        \n",
    "        optimizer.zero_grad()\n",
    "        logits = model(inputs, mask_batch_size=mask_batch_size)\n",
    "        loss = criterion(logits, labels)\n",
    "        \n",
    "        # make_dot(loss.mean(), params=dict(model.named_parameters()))\n",
    "        # break\n",
    "        \n",
    "        loss.backward()\n",
    "        optimizer.step()\n",
    "        \n",
    "        running_loss += loss.item() * labels.size(0)\n",
    "        running_total += labels.size(0)\n",
    "        \n",
    "        if i % train_log_interval == train_log_interval - 1 or i == len(train_dataloader) - 1:\n",
    "            # Print training loss every 100 batches\n",
    "            curr_lr = float(optimizer.param_groups[0]['lr'])\n",
    "            log_message = f'Epoch {epoch}, Batch {i + 1}, Loss {running_loss / running_total:.4f}, LR {curr_lr:.8f}'\n",
    "            print(log_message)\n",
    "            logging.info(log_message)\n",
    "            if track:\n",
    "                wandb.log({'train_loss': running_loss / running_total,\n",
    "                        'lr': curr_lr,\n",
    "                        'epoch': epoch,\n",
    "                        'step': step})\n",
    "            running_loss = 0.0\n",
    "            running_total = 0\n",
    "            \n",
    "        if i % val_eval_interval == val_eval_interval - 1 or i == len(train_dataloader) - 1:\n",
    "            val_results = eval(model, val_dataloader, criterion)\n",
    "            val_acc = val_results['val_acc']\n",
    "            val_loss = val_results['val_loss']\n",
    "            log_message = f'Epoch {epoch}, Step {step}, Val acc {val_acc:.4f}, Val loss {val_loss:.4f}'\n",
    "            print(log_message)\n",
    "            logging.info(log_message)\n",
    "            if track:\n",
    "                wandb.log({'val_acc': val_acc,\n",
    "                           'val_loss': val_loss,\n",
    "                        'epoch': epoch,\n",
    "                        'step': step})\n",
    "            \n",
    "            last_dir = os.path.join(exp_dir, 'last')\n",
    "            best_dir = os.path.join(exp_dir, 'best')\n",
    "            checkpoint = {\n",
    "                    'model': model.state_dict(),\n",
    "                    'optimizer': optimizer.state_dict(),\n",
    "                    'lr_scheduler': lr_scheduler.state_dict(),\n",
    "                    'epoch': epoch,\n",
    "                    'step': step,\n",
    "                    'val_loss': val_loss,\n",
    "                    'val_acc': val_acc,\n",
    "                }\n",
    "            if val_acc > best_val_acc:\n",
    "                best_val_acc = val_acc\n",
    "                os.makedirs(best_dir, exist_ok=True)\n",
    "                best_checkpoint_path = os.path.join(best_dir, 'checkpoint.pth')\n",
    "                torch.save(checkpoint, best_checkpoint_path)\n",
    "                config_best_checkpoint_path = os.path.join(best_dir, 'config.json')\n",
    "                config.save_to_json(config_best_checkpoint_path)\n",
    "                print(f'Best checkpoint saved at {best_checkpoint_path}')\n",
    "                \n",
    "                # model.save_pretrained(best_dir)\n",
    "            # model.save_pretrained(last_dir)\n",
    "            os.makedirs(last_dir, exist_ok=True)\n",
    "            last_checkpoint_path = os.path.join(last_dir, 'checkpoint.pth')\n",
    "            torch.save(checkpoint, last_checkpoint_path)\n",
    "            config_last_checkpoint_path = os.path.join(last_dir, 'config.json')\n",
    "            config.save_to_json(config_best_checkpoint_path)\n",
    "            print(f'Last checkpoint saved at {last_checkpoint_path}')\n",
    "            \n",
    "        lr_scheduler.step()\n",
    "        progress_bar.update(1)\n",
    "        \n",
    "        step += 1\n",
    "    # break\n",
    "        \n",
    "model.save(exp_dir)"
   ]
  },
  {
   "cell_type": "code",
   "execution_count": null,
   "id": "1d95e14b-da87-43f5-80b8-3d18b813fa6e",
   "metadata": {},
   "outputs": [],
   "source": []
  }
 ],
 "metadata": {
  "kernelspec": {
   "display_name": "Python 3 (ipykernel)",
   "language": "python",
   "name": "python3"
  },
  "language_info": {
   "codemirror_mode": {
    "name": "ipython",
    "version": 3
   },
   "file_extension": ".py",
   "mimetype": "text/x-python",
   "name": "python",
   "nbconvert_exporter": "python",
   "pygments_lexer": "ipython3",
   "version": "3.10.10"
  }
 },
 "nbformat": 4,
 "nbformat_minor": 5
}
