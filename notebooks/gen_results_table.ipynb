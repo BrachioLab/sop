{
 "cells": [
  {
   "cell_type": "code",
   "execution_count": 25,
   "id": "dab9a3b4-2b7e-490a-9879-a5e8b298cc5f",
   "metadata": {
    "tags": []
   },
   "outputs": [
    {
     "name": "stdout",
     "output_type": "stream",
     "text": [
      "\\toprule\n",
      " & & LIME & SHAP & RISE & Grad-CAM & IntGrad & Archi-pelago & FRESH & SOP (ours) \\\\ \\midrule\n",
      "\\multirow{3}{*}{ImageNet} & Accuracy $\\uparrow$ & \\textbf{0.9400} & \\textbf{0.9400} & \\textbf{0.9400} & \\textbf{0.9400} & \\textbf{0.9400} & \\textbf{0.9400}  & & 0.9200 \\\\\n",
      " & Fidelity $\\uparrow$ & 0.9200 & 0.9400 & 0.9600 & 0.3200 & 0.1000 & 0.3400  & & \\textbf{1.0000} \\\\\n",
      " & Soft Fidelity Loss $\\downarrow$ & 0.6803 & 0.0327 & 0.1841 & 7.4360 & 8.4876 & 6.0146  & & \\textbf{0.0000} \\\\\n",
      " & Insertion Score $\\uparrow$ & 0.4127 & \\textbf{0.7961} & 0.7089 & 0.5977 & 0.3697 & 0.3660  & & 0.2395 \\\\\n",
      " & Deletion Score $\\downarrow$ & \\textbf{0.1916} & 0.4422 & 0.5090 & 0.4745 & 0.4137 & 0.2301  & & 0.3531 \\\\\n",
      "\\bottomrule\n"
     ]
    }
   ],
   "source": [
    "import json\n",
    "import sys\n",
    "import os\n",
    "\n",
    "exp_name = 'imagenet_m_2h'\n",
    "dataset_name = 'imagenet'\n",
    "results_dir = '../exps/{}/best/results'.format(exp_name)\n",
    "\n",
    "results_all = {}\n",
    "for filename in os.listdir(results_dir):\n",
    "    if filename.endswith('_results.json'):\n",
    "        with open(os.path.join(results_dir, filename), 'r') as f:\n",
    "            results = json.load(f)\n",
    "        expl_name = filename.split('_')[0]\n",
    "        results_all[expl_name] = results\n",
    "\n",
    "expl_names_all = {\n",
    "    'lime': 'LIME',\n",
    "    'shap': 'SHAP',\n",
    "    'rise': 'RISE',\n",
    "    'gradcam': 'Grad-CAM',\n",
    "    'intgrad': 'IntGrad',\n",
    "    'archipelago': 'Archi-pelago',\n",
    "    'idg': 'IDG',\n",
    "    'pls': 'PLS',\n",
    "    'fresh': 'FRESH',\n",
    "    'sop': 'SOP (ours)'\n",
    "}\n",
    "# expl_names_list = [k for k in ['lime', 'shap', 'rise', 'gradcam', 'intgrad', 'archipelago', 'fresh', 'sop'] if k in results_all]\n",
    "if dataset_name in ['imagenet']:\n",
    "    expl_names_list = ['lime', 'shap', 'rise', 'gradcam', 'intgrad', 'archipelago', 'fresh', 'sop']\n",
    "else:\n",
    "    expl_names_list = ['lime', 'shap', 'rise', 'intgrad', 'archipelago', 'idg', 'pls', 'fresh', 'sop']\n",
    "# expl_names = {k:expl_names_all[k] for k in results_all if k in results_all}\n",
    "\n",
    "dataset_names = {\n",
    "    'imagenet': 'ImageNet',\n",
    "    'multirc': 'MultiRC',\n",
    "    'sst': 'SST'\n",
    "}\n",
    "\n",
    "def gen_latex_table(results_all, expl_names, expl_names_list, dataset_name, dataset_names):\n",
    "    print('\\\\toprule')\n",
    "    print(' & ', end='')\n",
    "    for expl_name in expl_names_list:\n",
    "        print('& {} '.format(expl_names[expl_name]), end='')\n",
    "    print('\\\\\\\\ \\\\midrule')\n",
    "    print('\\\\multirow{3}{*}{' + dataset_names[dataset_name] + '} & Accuracy $\\\\uparrow$ ', end='')\n",
    "    accuracy_mean_max = max([results_all[expl_name]['accuracy_mean'] for expl_name in expl_names_list if expl_name in results_all])\n",
    "    for expl_name in expl_names_list:\n",
    "        if expl_name in results_all:\n",
    "            if results_all[expl_name]['accuracy_mean'] == accuracy_mean_max:\n",
    "                print('& \\\\textbf{{{:.4f}}} '.format(results_all[expl_name]['accuracy_mean']), end='')\n",
    "            else:\n",
    "                print('& {:.4f} '.format(results_all[expl_name]['accuracy_mean']), end='')\n",
    "        else:\n",
    "            print(' & ', end='')\n",
    "    print('\\\\\\\\')\n",
    "    print(' & Fidelity $\\\\uparrow$ ', end='')\n",
    "    fidelity_mean_max = max([results_all[expl_name]['fidelity_mean'] \\\n",
    "                                for expl_name in expl_names_list if expl_name in results_all])\n",
    "    for expl_name in expl_names_list:\n",
    "        if expl_name in results_all:\n",
    "            if results_all[expl_name]['fidelity_mean'] == fidelity_mean_max:\n",
    "                print('& \\\\textbf{{{:.4f}}} '.format(results_all[expl_name]['fidelity_mean']), end='')\n",
    "            else:\n",
    "                print('& {:.4f} '.format(results_all[expl_name]['fidelity_mean']), end='')\n",
    "        else:\n",
    "            print(' & ', end='')\n",
    "    print('\\\\\\\\')\n",
    "    print(' & Soft Fidelity Loss $\\\\downarrow$ ', end='')\n",
    "    soft_fidelity_loss_min = min([results_all[expl_name]['soft_fidelity_loss_mean'] \\\n",
    "                                  for expl_name in expl_names_list if expl_name in results_all])\n",
    "    for expl_name in expl_names_list:\n",
    "        if expl_name in results_all:\n",
    "            if results_all[expl_name]['soft_fidelity_loss_mean'] == soft_fidelity_loss_min:\n",
    "                print('& \\\\textbf{{{:.4f}}} '.format(results_all[expl_name]['soft_fidelity_loss_mean']), end='')\n",
    "            else:\n",
    "                print('& {:.4f} '.format(results_all[expl_name]['soft_fidelity_loss_mean']), end='')\n",
    "        else:\n",
    "            print(' & ', end='')\n",
    "    print('\\\\\\\\')\n",
    "    print(' & Insertion Score $\\\\uparrow$ ', end='')\n",
    "    ins_mean_max = max([results_all[expl_name]['ins_mean'] for expl_name in expl_names_list if expl_name in results_all])\n",
    "    for expl_name in expl_names_list:\n",
    "        if expl_name in results_all:\n",
    "            if results_all[expl_name]['ins_mean'] == ins_mean_max:\n",
    "                print('& \\\\textbf{{{:.4f}}} '.format(results_all[expl_name]['ins_mean']), end='')\n",
    "            else:\n",
    "                print('& {:.4f} '.format(results_all[expl_name]['ins_mean']), end='')\n",
    "        else:\n",
    "            print(' & ', end='')\n",
    "    print('\\\\\\\\')\n",
    "    print(' & Deletion Score $\\\\downarrow$ ', end='')\n",
    "    del_mean_min = min([results_all[expl_name]['del_mean'] for expl_name in expl_names_list if expl_name in results_all])\n",
    "    for expl_name in expl_names_list:\n",
    "        if expl_name in results_all:\n",
    "            if results_all[expl_name]['del_mean'] == del_mean_min:\n",
    "                print('& \\\\textbf{{{:.4f}}} '.format(results_all[expl_name]['del_mean']), end='')\n",
    "            else:\n",
    "                print('& {:.4f} '.format(results_all[expl_name]['del_mean']), end='')\n",
    "        else:\n",
    "            print(' & ', end='')\n",
    "    print('\\\\\\\\')\n",
    "    print('\\\\bottomrule')\n",
    "\n",
    "gen_latex_table(results_all, expl_names_all, expl_names_list, dataset_name, dataset_names)"
   ]
  },
  {
   "cell_type": "code",
   "execution_count": 26,
   "id": "8daec5fe-e091-4d79-bb13-c55ca9c4ab28",
   "metadata": {
    "tags": []
   },
   "outputs": [
    {
     "data": {
      "text/plain": [
       "[0.92, 0.94, 0.96, 0.32, 0.1, 0.34, 1, 1.0]"
      ]
     },
     "execution_count": 26,
     "metadata": {},
     "output_type": "execute_result"
    }
   ],
   "source": [
    "fidelity_scores = [results_all[expl_name]['fidelity_mean'] if expl_name!='fresh' else 1 for expl_name in expl_names_list ]\n",
    "fidelity_scores"
   ]
  },
  {
   "cell_type": "code",
   "execution_count": 27,
   "id": "351a221b-3c69-4261-822d-15fdf98a0090",
   "metadata": {
    "tags": []
   },
   "outputs": [
    {
     "data": {
      "text/plain": [
       "['lime', 'shap', 'rise', 'gradcam', 'intgrad', 'archipelago', 'fresh', 'sop']"
      ]
     },
     "execution_count": 27,
     "metadata": {},
     "output_type": "execute_result"
    }
   ],
   "source": [
    "expl_names_list"
   ]
  },
  {
   "cell_type": "code",
   "execution_count": 47,
   "id": "6c8ef41c-58ef-47ef-b9ae-00f3ec1b6172",
   "metadata": {
    "tags": []
   },
   "outputs": [
    {
     "data": {
      "image/png": "[encoded data removed]",
      "text/plain": [
       "<Figure size 200x180 with 1 Axes>"
      ]
     },
     "metadata": {},
     "output_type": "display_data"
    }
   ],
   "source": [
    "expl_names_all_fig = {\n",
    "    'lime': 'LIME',\n",
    "    'shap': 'SHAP',\n",
    "    'rise': 'RISE',\n",
    "    'gradcam': 'GC',\n",
    "    'intgrad': 'IG',\n",
    "    'archipelago': 'Arch',\n",
    "    'idg': 'IDG',\n",
    "    'pls': 'PLS',\n",
    "    'fresh': 'FRESH',\n",
    "    'sop': 'SOP'\n",
    "}\n",
    "import matplotlib\n",
    "matplotlib.rcParams['font.family'] = 'DejaVu Serif'\n",
    "\n",
    "\n",
    "import matplotlib.pyplot as plt\n",
    "fig, ax = plt.subplots(figsize=(2, 1.8))\n",
    "ind = list(range(len(fidelity_scores)))\n",
    "bars = ax.barh(range(len(fidelity_scores)), fidelity_scores)\n",
    "ax.set_yticks(ind)\n",
    "ax.set_yticklabels([expl_names_all_fig[expl_name] for expl_name in expl_names_list])\n",
    "# Add numbers on top of the bars\n",
    "# for bar in bars:\n",
    "#     xval = bar.get_width()\n",
    "#     ax.text(xval, bar.get_y() + bar.get_height()/2, round(xval, 2), ha='right', va='center', fontsize=9)\n",
    "\n",
    "plt.xlabel('Fidelity', fontsize=9)\n",
    "plt.xticks(fontsize=9)\n",
    "plt.yticks(fontsize=9)\n",
    "plt.tight_layout()\n",
    "plt.savefig('figs/fidelity-imagenet.pdf', dpi=300, bbox_inches='tight', pad_inches=0)\n",
    "plt.show()"
   ]
  },
  {
   "cell_type": "code",
   "execution_count": 32,
   "id": "e6a9a249-fe06-4620-a8ef-722ab03ce81a",
   "metadata": {
    "tags": []
   },
   "outputs": [
    {
     "data": {
      "image/png": "[encoded data removed]",
      "text/plain": [
       "<Figure size 150x100 with 1 Axes>"
      ]
     },
     "metadata": {},
     "output_type": "display_data"
    }
   ],
   "source": [
    "fidelity_scores = [results_all[expl_name]['fidelity_mean'] if expl_name!='fresh' else 1 for expl_name in expl_names_list ]\n",
    "\n",
    "expl_names_all_fig = {\n",
    "    'lime': 'LIME',\n",
    "    'shap': 'SHAP',\n",
    "    'rise': 'RISE',\n",
    "    'gradcam': 'GC',\n",
    "    'intgrad': 'IG',\n",
    "    'archipelago': 'Arch',\n",
    "    'idg': 'IDG',\n",
    "    'pls': 'PLS',\n",
    "    'fresh': 'FRESH',\n",
    "    'sop': 'SOP'\n",
    "}\n",
    "\n",
    "\n",
    "import matplotlib.pyplot as plt\n",
    "fig, ax = plt.subplots(figsize=(1.5, 1))\n",
    "ind = list(range(len(fidelity_scores)))\n",
    "bars = ax.bar(range(len(fidelity_scores)), fidelity_scores)\n",
    "ax.set_xticks(ind)\n",
    "ax.set_xticklabels([expl_names_all_fig[expl_name] for expl_name in expl_names_list], rotation=45)\n",
    "# Add numbers on top of the bars\n",
    "# for bar in bars:\n",
    "#     yval = bar.get_height()\n",
    "#     ax.text(bar.get_x() + bar.get_width()/2, yval, round(yval, 2), ha='center', va='bottom', fontsize=14)\n",
    "\n",
    "plt.ylabel('Fidelity', fontsize=9)\n",
    "plt.xticks(fontsize=9)\n",
    "plt.yticks(fontsize=9)\n",
    "plt.savefig('figs/fidelity-imagenet.pdf', dpi=300, bbox_inches='tight', pad_inches=0)\n",
    "plt.show()"
   ]
  },
  {
   "cell_type": "code",
   "execution_count": 46,
   "id": "2d064cd0-00fe-4030-85db-c47c4d94cd72",
   "metadata": {
    "tags": []
   },
   "outputs": [
    {
     "data": {
      "image/png": "[encoded data removed]",
      "text/plain": [
       "<Figure size 200x180 with 1 Axes>"
      ]
     },
     "metadata": {},
     "output_type": "display_data"
    }
   ],
   "source": [
    "expl_names_all_fig = {\n",
    "    'lime': 'LIME',\n",
    "    'shap': 'SHAP',\n",
    "    'rise': 'RISE',\n",
    "    'gradcam': 'GC',\n",
    "    'intgrad': 'IG',\n",
    "    'archipelago': 'Arch',\n",
    "    'idg': 'IDG',\n",
    "    'pls': 'PLS',\n",
    "    'fresh': 'FRESH',\n",
    "    'sop': 'SOP'\n",
    "}\n",
    "\n",
    "soft_fidelity_scores = [results_all[expl_name]['soft_fidelity_loss_mean'] if expl_name!='fresh' else 0 for expl_name in expl_names_list ]\n",
    "import matplotlib\n",
    "matplotlib.rcParams['font.family'] = 'DejaVu Serif'\n",
    "\n",
    "import matplotlib.pyplot as plt\n",
    "fig, ax = plt.subplots(figsize=(2, 1.8))\n",
    "ind = list(range(len(soft_fidelity_scores)))\n",
    "bars = ax.barh(range(len(soft_fidelity_scores)), soft_fidelity_scores)\n",
    "ax.set_yticks(ind)\n",
    "ax.set_yticklabels([expl_names_all_fig[expl_name] for expl_name in expl_names_list])\n",
    "# Add numbers on top of the bars\n",
    "# for bar in bars:\n",
    "#     xval = bar.get_width()\n",
    "#     ax.text(xval, bar.get_y() + bar.get_height()/2, round(xval, 2), ha='right', va='center', fontsize=9)\n",
    "\n",
    "plt.xlabel('Soft Fidelity Loss', fontsize=9)\n",
    "plt.xticks(fontsize=9)\n",
    "plt.yticks(fontsize=9)\n",
    "plt.tight_layout()\n",
    "plt.savefig('figs/soft-fidelity-imagenet.pdf', dpi=300, bbox_inches='tight', pad_inches=0)\n",
    "plt.show()"
   ]
  },
  {
   "cell_type": "code",
   "execution_count": 116,
   "id": "4ca92c7d-115d-4540-b53c-206ffe6e866b",
   "metadata": {
    "tags": []
   },
   "outputs": [
    {
     "data": {
      "image/png": "[encoded data removed]",
      "text/plain": [
       "<Figure size 640x480 with 1 Axes>"
      ]
     },
     "metadata": {},
     "output_type": "display_data"
    }
   ],
   "source": [
    "soft_fidelity_scores = [results_all[expl_name]['soft_fidelity_loss_mean'] if expl_name!='fresh' else 0 for expl_name in expl_names_list ]\n",
    "\n",
    "import matplotlib.pyplot as plt\n",
    "fig, ax = plt.subplots()\n",
    "ind = list(range(len(soft_fidelity_scores)))\n",
    "bars = ax.bar(range(len(soft_fidelity_scores)), soft_fidelity_scores)\n",
    "ax.set_xticks(ind)\n",
    "ax.set_xticklabels([expl_names_all[expl_name] for expl_name in expl_names_list], rotation=45)\n",
    "# Add numbers on top of the bars\n",
    "for bar in bars:\n",
    "    yval = bar.get_height()\n",
    "    ax.text(bar.get_x() + bar.get_width()/2, yval, round(yval, 2), ha='center', va='bottom', fontsize=14)\n",
    "\n",
    "plt.ylabel('Soft Fidelity Loss', fontsize=14)\n",
    "plt.xticks(fontsize=14)\n",
    "plt.yticks(fontsize=14)\n",
    "plt.savefig('figs/soft-fidelity-imagenet.pdf', dpi=300, bbox_inches='tight', pad_inches=0)\n",
    "plt.show()"
   ]
  },
  {
   "cell_type": "code",
   "execution_count": 2,
   "id": "f6a66bab-e2c7-4206-8b6f-04cd2bd50fa5",
   "metadata": {
    "tags": []
   },
   "outputs": [
    {
     "name": "stdout",
     "output_type": "stream",
     "text": [
      "\\toprule\n",
      " & & LIME & SHAP & RISE & Grad-CAM & IntGrad & Archi-pelago & FRESH & SOP (ours) \\\\ \\midrule\n",
      "\\multirow{3}{*}{ImageNet} & Accuracy $\\uparrow$ & \\textbf{0.9400} & \\textbf{0.9400} & \\textbf{0.9400} & \\textbf{0.9400} & \\textbf{0.9400} & \\textbf{0.9400}  & & 0.9200 \\\\\n",
      " & Fidelity $\\uparrow$ & 0.9200 & 0.9400 & 0.9600 & 0.3200 & 0.1000 & 0.3400  & & \\textbf{1.0000} \\\\\n",
      " & Soft Fidelity Loss $\\downarrow$ & 0.6803 & 0.0327 & 0.1841 & 7.4360 & 8.4876 & 6.0146  & & \\textbf{0.0000} \\\\\n",
      " & NNZ $\\downarrow$ & \\textbf{0.0156} & 0.8838 & 1.0000 & 0.7482 & 0.4996 & 0.0163  & & 0.6819 \\\\\n"
     ]
    }
   ],
   "source": [
    "import json\n",
    "import sys\n",
    "import os\n",
    "\n",
    "exp_name = 'imagenet_m_2h'\n",
    "dataset_name = 'imagenet'\n",
    "results_dir = '../exps/{}/best/results_b'.format(exp_name)\n",
    "\n",
    "results_all = {}\n",
    "for filename in os.listdir(results_dir):\n",
    "    if filename.endswith('_results.json'):\n",
    "        with open(os.path.join(results_dir, filename), 'r') as f:\n",
    "            results = json.load(f)\n",
    "        expl_name = filename.split('_')[0]\n",
    "        results_all[expl_name] = results\n",
    "\n",
    "expl_names_all = {\n",
    "    'lime': 'LIME',\n",
    "    'shap': 'SHAP',\n",
    "    'rise': 'RISE',\n",
    "    'gradcam': 'Grad-CAM',\n",
    "    'intgrad': 'IntGrad',\n",
    "    'archipelago': 'Archi-pelago',\n",
    "    'idg': 'IDG',\n",
    "    'pls': 'PLS',\n",
    "    'fresh': 'FRESH',\n",
    "    'sop': 'SOP (ours)'\n",
    "}\n",
    "# expl_names_list = [k for k in ['lime', 'shap', 'rise', 'gradcam', 'intgrad', 'archipelago', 'fresh', 'sop'] if k in results_all]\n",
    "if dataset_name in ['imagenet']:\n",
    "    expl_names_list = ['lime', 'shap', 'rise', 'gradcam', 'intgrad', 'archipelago', 'fresh', 'sop']\n",
    "else:\n",
    "    expl_names_list = ['lime', 'shap', 'rise', 'intgrad', 'archipelago', 'idg', 'pls', 'fresh', 'sop']\n",
    "# expl_names = {k:expl_names_all[k] for k in results_all if k in results_all}\n",
    "\n",
    "dataset_names = {\n",
    "    'imagenet': 'ImageNet',\n",
    "    'multirc': 'MultiRC',\n",
    "    'sst': 'SST'\n",
    "}\n",
    "\n",
    "def gen_latex_table(results_all, expl_names, expl_names_list, dataset_name, dataset_names):\n",
    "    print('\\\\toprule')\n",
    "    print(' & ', end='')\n",
    "    for expl_name in expl_names_list:\n",
    "        print('& {} '.format(expl_names[expl_name]), end='')\n",
    "    print('\\\\\\\\ \\\\midrule')\n",
    "    print('\\\\multirow{3}{*}{' + dataset_names[dataset_name] + '} & Accuracy $\\\\uparrow$ ', end='')\n",
    "    accuracy_mean_max = max([results_all[expl_name]['accuracy_mean'] for expl_name in expl_names_list if expl_name in results_all])\n",
    "    for expl_name in expl_names_list:\n",
    "        if expl_name in results_all:\n",
    "            if results_all[expl_name]['accuracy_mean'] == accuracy_mean_max:\n",
    "                print('& \\\\textbf{{{:.4f}}} '.format(results_all[expl_name]['accuracy_mean']), end='')\n",
    "            else:\n",
    "                print('& {:.4f} '.format(results_all[expl_name]['accuracy_mean']), end='')\n",
    "        else:\n",
    "            print(' & ', end='')\n",
    "    print('\\\\\\\\')\n",
    "    print(' & Fidelity $\\\\uparrow$ ', end='')\n",
    "    fidelity_mean_max = max([results_all[expl_name]['fidelity_mean'] \\\n",
    "                                for expl_name in expl_names_list if expl_name in results_all])\n",
    "    for expl_name in expl_names_list:\n",
    "        if expl_name in results_all:\n",
    "            if results_all[expl_name]['fidelity_mean'] == fidelity_mean_max:\n",
    "                print('& \\\\textbf{{{:.4f}}} '.format(results_all[expl_name]['fidelity_mean']), end='')\n",
    "            else:\n",
    "                print('& {:.4f} '.format(results_all[expl_name]['fidelity_mean']), end='')\n",
    "        else:\n",
    "            print(' & ', end='')\n",
    "    print('\\\\\\\\')\n",
    "    print(' & Soft Fidelity Loss $\\\\downarrow$ ', end='')\n",
    "    soft_fidelity_loss_min = min([results_all[expl_name]['soft_fidelity_loss_mean'] \\\n",
    "                                  for expl_name in expl_names_list if expl_name in results_all])\n",
    "    for expl_name in expl_names_list:\n",
    "        if expl_name in results_all:\n",
    "            if results_all[expl_name]['soft_fidelity_loss_mean'] == soft_fidelity_loss_min:\n",
    "                print('& \\\\textbf{{{:.4f}}} '.format(results_all[expl_name]['soft_fidelity_loss_mean']), end='')\n",
    "            else:\n",
    "                print('& {:.4f} '.format(results_all[expl_name]['soft_fidelity_loss_mean']), end='')\n",
    "        else:\n",
    "            print(' & ', end='')\n",
    "    print('\\\\\\\\')\n",
    "    print(' & NNZ $\\\\downarrow$ ', end='')\n",
    "    nnz_mean_min = min([results_all[expl_name]['nnz_mean'] for expl_name in expl_names_list if expl_name in results_all])\n",
    "    for expl_name in expl_names_list:\n",
    "        if expl_name in results_all:\n",
    "            if results_all[expl_name]['nnz_mean'] == nnz_mean_min:\n",
    "                print('& \\\\textbf{{{:.4f}}} '.format(results_all[expl_name]['nnz_mean']), end='')\n",
    "            else:\n",
    "                print('& {:.4f} '.format(results_all[expl_name]['nnz_mean']), end='')\n",
    "        else:\n",
    "            print(' & ', end='')\n",
    "    print('\\\\\\\\')\n",
    "\n",
    "gen_latex_table(results_all, expl_names_all, expl_names_list, dataset_name, dataset_names)"
   ]
  },
  {
   "cell_type": "code",
   "execution_count": null,
   "id": "e8754a44-601e-44d9-b4fe-78e6530b1682",
   "metadata": {},
   "outputs": [],
   "source": []
  },
  {
   "cell_type": "code",
   "execution_count": null,
   "id": "36309a4d-9008-4744-811c-0f62dfc1c0bf",
   "metadata": {},
   "outputs": [],
   "source": []
  },
  {
   "cell_type": "code",
   "execution_count": 81,
   "id": "6ef75957-ae11-4787-998c-c83102c1f7d0",
   "metadata": {
    "tags": []
   },
   "outputs": [
    {
     "name": "stdout",
     "output_type": "stream",
     "text": [
      "{0.001: 'sop_gg0.001_results.json', 0.005: 'sop_gg0.005_results.json', 0.01: 'sop_gg0.01_results.json', 0.02: 'sop_results.json'}\n"
     ]
    }
   ],
   "source": [
    "import json\n",
    "import sys\n",
    "import os\n",
    "\n",
    "exp_name = 'imagenet_1h_lr8e-06_gg0.02_gs1.0_ts-1_vs2_stcosine_ep0.5'\n",
    "dataset_name = 'imagenet'\n",
    "results_dir = '../exps/{}/best/results'.format(exp_name)\n",
    "\n",
    "sop_explainer_name = 'sop_gg0.001'\n",
    "\n",
    "expl_names_all = {\n",
    "    'lime': 'LIME',\n",
    "    'shap': 'SHAP',\n",
    "    'rise': 'RISE',\n",
    "    'gradcam': 'Grad-CAM',\n",
    "    'intgrad': 'IntGrad',\n",
    "    'archipelago': 'Archi-pelago',\n",
    "    'idg': 'IDG',\n",
    "    'pls': 'PLS',\n",
    "    'fresh': 'FRESH',\n",
    "    'sop': 'SOP (ours)'\n",
    "}\n",
    "\n",
    "potential_filenames = {0.001: 'sop_gg0.001_results.json',\n",
    "                       0.005: 'sop_gg0.005_results.json',\n",
    "                      0.01: 'sop_gg0.01_results.json',\n",
    "                      0.02: 'sop_results.json'}\n",
    "\n",
    "\n",
    "\n",
    "# if dataset_name == 'sst':\n",
    "#     potential_filenames = {expl_name: f'{sop_explainer_name}_{expl_name}_results.json' for expl_name in expl_names_all}\n",
    "# else:\n",
    "#     # potential_filenames = {expl_name: f'{expl_name}_results_insdel.json' for expl_name in expl_names_all}\n",
    "#     potential_filenames = {expl_name: f'{expl_name}_results_insdel.json' for expl_name in expl_names_all}\n",
    "#     # potential_filenames['fresh'] = 'fresh_fresh_results.json'\n",
    "# # potential_filenames['sop'] = 'sop_results.json' #'sop_gg0.1_results.json'\n",
    "# potential_filenames['sop'] = 'sop_results_insdel.json' #'sop_gg0.1_results.json'\n",
    "\n",
    "results_all = {}\n",
    "filenames_all = {}\n",
    "for filename in os.listdir(results_dir):\n",
    "    for expl_name in potential_filenames:\n",
    "        filename = potential_filenames[expl_name]\n",
    "        if os.path.exists(os.path.join(results_dir, filename)):\n",
    "            \n",
    "    # if filename in potential_filenames:\n",
    "    # if filename.endswith(f'{sop_explainer_name}_results.json'):\n",
    "            with open(os.path.join(results_dir, filename), 'r') as f:\n",
    "                results = json.load(f)\n",
    "            # expl_name = filename.split('_')[0]\n",
    "            results_all[expl_name] = results\n",
    "            filenames_all[expl_name] = filename\n",
    "\n",
    "print(filenames_all)\n",
    "            "
   ]
  },
  {
   "cell_type": "code",
   "execution_count": 84,
   "id": "3a85d47a-df1e-4a15-9e89-9d5a67e6d5bf",
   "metadata": {
    "tags": []
   },
   "outputs": [
    {
     "data": {
      "image/png": "[encoded data removed]",
      "text/plain": [
       "<Figure size 640x480 with 1 Axes>"
      ]
     },
     "metadata": {},
     "output_type": "display_data"
    }
   ],
   "source": [
    "import matplotlib.pyplot as plt\n",
    "accs = [results_all[scale]['accuracies_mean'] for scale in potential_filenames]\n",
    "nnzs = [results_all[scale]['nnzs_mean'] for scale in potential_filenames]\n",
    "\n",
    "fig, ax = plt.subplots()\n",
    "plt.plot(nnzs, accs)\n",
    "\n",
    "plt.ylabel('Accuracy', fontsize=14)\n",
    "plt.xlabel('Nonzero Ratio', fontsize=14)\n",
    "plt.xticks(fontsize=14)\n",
    "plt.yticks(fontsize=14)\n",
    "plt.savefig('figs/nnzs-accs-imagenet.pdf', dpi=300, bbox_inches='tight', pad_inches=0)\n",
    "plt.show()"
   ]
  },
  {
   "cell_type": "code",
   "execution_count": 85,
   "id": "891ddc52-3f9f-4d5f-b758-6eed6b6f4abb",
   "metadata": {
    "tags": []
   },
   "outputs": [
    {
     "data": {
      "text/plain": [
       "[0.5570002034598706,\n",
       " 0.512763569168016,\n",
       " 0.5023189198737051,\n",
       " 0.47258924327644647]"
      ]
     },
     "execution_count": 85,
     "metadata": {},
     "output_type": "execute_result"
    }
   ],
   "source": [
    "nnzs"
   ]
  },
  {
   "cell_type": "code",
   "execution_count": 86,
   "id": "30a1d2bf-c147-4e83-8627-8282545455fe",
   "metadata": {
    "tags": []
   },
   "outputs": [
    {
     "data": {
      "text/plain": [
       "[0.8627450980392157,\n",
       " 0.8431372549019608,\n",
       " 0.7843137254901961,\n",
       " 0.7843137254901961]"
      ]
     },
     "execution_count": 86,
     "metadata": {},
     "output_type": "execute_result"
    }
   ],
   "source": [
    "accs"
   ]
  },
  {
   "cell_type": "code",
   "execution_count": null,
   "id": "685b4f2a-2e7e-47f3-8d3d-f20bb4cfc86f",
   "metadata": {},
   "outputs": [],
   "source": []
  },
  {
   "cell_type": "code",
   "execution_count": null,
   "id": "cd9b87d0-0f72-4127-9120-5204f9b3a0db",
   "metadata": {},
   "outputs": [],
   "source": []
  },
  {
   "cell_type": "code",
   "execution_count": null,
   "id": "ce9b2542-4c3f-46da-b26c-677eab592531",
   "metadata": {},
   "outputs": [],
   "source": []
  },
  {
   "cell_type": "code",
   "execution_count": 48,
   "id": "44ee78bc-5d57-4085-b0c7-280a33589192",
   "metadata": {
    "tags": []
   },
   "outputs": [
    {
     "name": "stdout",
     "output_type": "stream",
     "text": [
      "{'lime': 'lime_results_insdel.json', 'shap': 'shap_results_insdel.json', 'rise': 'rise_results_insdel.json', 'gradcam': 'gradcam_results_insdel.json', 'intgrad': 'intgrad_results_insdel.json', 'archipelago': 'archipelago_results_insdel.json', 'sop': 'sop_results_insdel.json'}\n",
      "{'lime': 'lime_results.json', 'shap': 'shap_results.json', 'rise': 'rise_results.json', 'gradcam': 'gradcam_results.json', 'intgrad': 'intgrad_results.json', 'archipelago': 'archipelago_results.json', 'sop': 'sop_results.json', 'fresh': 'fresh_results.json'}\n"
     ]
    }
   ],
   "source": [
    "import json\n",
    "import sys\n",
    "import os\n",
    "\n",
    "exp_name = 'imagenet_1h_lr8e-06_gg0.02_gs1.0_ts-1_vs2_stcosine_ep0.5'\n",
    "dataset_name = 'imagenet'\n",
    "results_dir = '../exps/{}/best/results_save'.format(exp_name)\n",
    "\n",
    "sop_explainer_name = 'sop_gg0.001'\n",
    "\n",
    "expl_names_all = {\n",
    "    'lime': 'LIME',\n",
    "    'shap': 'SHAP',\n",
    "    'rise': 'RISE',\n",
    "    'gradcam': 'Grad-CAM',\n",
    "    'intgrad': 'IntGrad',\n",
    "    'archipelago': 'Archi-pelago',\n",
    "    'idg': 'IDG',\n",
    "    'pls': 'PLS',\n",
    "    'fresh': 'FRESH',\n",
    "    'sop': 'SOP (ours)'\n",
    "}\n",
    "\n",
    "if dataset_name == 'sst':\n",
    "    potential_filenames = {expl_name: f'{sop_explainer_name}_{expl_name}_results.json' for expl_name in expl_names_all}\n",
    "else:\n",
    "    # potential_filenames = {expl_name: f'{expl_name}_results_insdel.json' for expl_name in expl_names_all}\n",
    "    potential_filenames = {expl_name: f'{expl_name}_results_insdel.json' for expl_name in expl_names_all}\n",
    "    # potential_filenames['fresh'] = 'fresh_fresh_results.json'\n",
    "# potential_filenames['sop'] = 'sop_results.json' #'sop_gg0.1_results.json'\n",
    "potential_filenames['sop'] = 'sop_results_insdel.json' #'sop_gg0.1_results.json'\n",
    "\n",
    "results_all = {}\n",
    "filenames_all = {}\n",
    "for filename in os.listdir(results_dir):\n",
    "    for expl_name in potential_filenames:\n",
    "        filename = potential_filenames[expl_name]\n",
    "        if os.path.exists(os.path.join(results_dir, filename)):\n",
    "            \n",
    "    # if filename in potential_filenames:\n",
    "    # if filename.endswith(f'{sop_explainer_name}_results.json'):\n",
    "            with open(os.path.join(results_dir, filename), 'r') as f:\n",
    "                results = json.load(f)\n",
    "            # expl_name = filename.split('_')[0]\n",
    "            results_all[expl_name] = results\n",
    "            filenames_all[expl_name] = filename\n",
    "\n",
    "print(filenames_all)\n",
    "            \n",
    "if dataset_name == 'imagenet':\n",
    "    potential_filenames_new = {expl_name: f'{expl_name}_results.json' for expl_name in expl_names_all}\n",
    "        # potential_filenames['fresh'] = 'fresh_fresh_results.json'\n",
    "    # potential_filenames['sop'] = 'sop_results.json' #'sop_gg0.1_results.json'\n",
    "    potential_filenames_new['sop'] = 'sop_results.json' #'sop_gg0.1_results.json'\n",
    "    potential_filenames_new['fresh'] = 'fresh_results.json'\n",
    "\n",
    "    # results_all = {}\n",
    "    # filenames_all = {}\n",
    "    for filename in os.listdir(results_dir):\n",
    "        for expl_name in potential_filenames_new:\n",
    "            filename = potential_filenames_new[expl_name]\n",
    "            if os.path.exists(os.path.join(results_dir, filename)):\n",
    "\n",
    "        # if filename in potential_filenames:\n",
    "        # if filename.endswith(f'{sop_explainer_name}_results.json'):\n",
    "                with open(os.path.join(results_dir, filename), 'r') as f:\n",
    "                    results = json.load(f)\n",
    "                # expl_name = filename.split('_')[0]\n",
    "                results_all[expl_name] = results\n",
    "                filenames_all[expl_name] = filename\n",
    "    print(filenames_all)\n",
    "\n",
    "\n",
    "# expl_names_list = [k for k in ['lime', 'shap', 'rise', 'gradcam', 'intgrad', 'archipelago', 'fresh', 'sop'] if k in results_all]\n",
    "if dataset_name in ['imagenet']:\n",
    "    expl_names_list = ['lime', 'shap', 'rise', 'gradcam', 'intgrad', 'archipelago', 'fresh', 'sop']\n",
    "else:\n",
    "    expl_names_list = ['lime', 'shap', 'rise', 'intgrad', 'archipelago', 'idg', 'pls', 'fresh', 'sop']\n",
    "# expl_names = {k:expl_names_all[k] for k in results_all if k in results_all}\n",
    "\n",
    "dataset_names = {\n",
    "    'imagenet': 'ImageNet',\n",
    "    'multirc': 'MultiRC',\n",
    "    'sst': 'SST'\n",
    "}\n"
   ]
  },
  {
   "cell_type": "code",
   "execution_count": 49,
   "id": "430b9c22-693e-4a31-9d7a-c9279738d0bf",
   "metadata": {
    "tags": []
   },
   "outputs": [],
   "source": [
    "if dataset_name in ['imagenet']:\n",
    "    result_names_minmax = {\n",
    "        'accuracies_mean': max,\n",
    "  'pred_agreements_mean': max,\n",
    "  # 'pred_agreements_soft_mean': min,\n",
    "  'expln_aggr_fidelities_mean': max,\n",
    "  # 'expln_aggr_fidelities_soft_mean': min,\n",
    "  # 'preservations_mean': max,\n",
    "  'preservations_original_mean': max,\n",
    "  # 'preservations_mean_topk': max,\n",
    "  'preservations_original_mean_topk': max,\n",
    "  'expln_aggr_accuracies_mean': max,\n",
    "  'nnzs_mean': min,\n",
    "  'ngroups_mean': min,\n",
    "        'inss_mean': max,\n",
    "        'inss_original_mean': max,\n",
    "        'dels_mean': min,\n",
    "        'dels_original_mean': min,\n",
    "    }\n",
    "    sop_result_name_swap = {\n",
    "        'inss_original_mean': 'inss_mean',\n",
    "        'dels_original_mean': 'dels_mean',\n",
    "        'preservations_original_mean_topk': 'preservations_mean_topk',\n",
    "        'preservations_original_mean': 'preservations_mean'\n",
    "    }\n",
    "else:\n",
    "    result_names_minmax = {'accuracies_mean': max,\n",
    "  'pred_agreements_mean': max,\n",
    "  # 'pred_agreements_soft_mean': min,\n",
    "  'expln_aggr_fidelities_mean': max,\n",
    "  # 'expln_aggr_fidelities_soft_mean': min,\n",
    "  # 'preservations_mean': max,\n",
    "  # 'preservations_original_mean': max,\n",
    "  # 'preservations_mean_topk': max,\n",
    "  'preservations_original_mean_topk': max,\n",
    "  'expln_aggr_accuracies_mean': max,\n",
    "  'nnzs_mean': min,\n",
    "  'ngroups_mean': min,\n",
    "  # 'comps_mean': max,\n",
    "  'comps_original_mean': max,\n",
    "  # 'suffs_mean': min,\n",
    "  'suffs_original_mean': min}\n",
    "    sop_result_name_swap = {\n",
    "        'comps_original_mean': 'comps_mean',\n",
    "        'suffs_original_mean': 'suffs_mean',\n",
    "        'preservations_original_mean_topk': 'preservations_mean_topk'\n",
    "    }"
   ]
  },
  {
   "cell_type": "code",
   "execution_count": 50,
   "id": "82765236-8630-47db-8dfd-ecc8b06e9e84",
   "metadata": {
    "tags": []
   },
   "outputs": [],
   "source": [
    "from collections import defaultdict\n",
    "\n",
    "results_all_new = defaultdict(dict)\n",
    "for r_i, result_name in enumerate(result_names_minmax):\n",
    "    for expl_name in expl_names_list:\n",
    "        if expl_name in ['sop', 'fresh'] and result_name in sop_result_name_swap:\n",
    "            result_name_use = sop_result_name_swap[result_name]\n",
    "        else:\n",
    "            result_name_use = result_name\n",
    "        if expl_name in results_all:\n",
    "            results_all_new[expl_name][result_name] = results_all[expl_name][result_name_use]"
   ]
  },
  {
   "cell_type": "code",
   "execution_count": 51,
   "id": "d6ab4d28-a69d-442e-8e0e-03b30ed7fe16",
   "metadata": {
    "tags": []
   },
   "outputs": [
    {
     "name": "stdout",
     "output_type": "stream",
     "text": [
      "\\toprule\n",
      " & & LIME & SHAP & RISE & Grad-CAM & IntGrad & Archi-pelago & FRESH & SOP (ours) \\\\ \\midrule\n",
      "\\\\\n",
      " & accuracies mean $\\uparrow$& \\textbf{0.8431} & \\textbf{0.8431} & 0.8052 & \\textbf{0.8431} & \\textbf{0.8431} & \\textbf{0.8431} & 0.7647 & 0.7843 \\\\\n",
      " & pred agreements mean $\\uparrow$& \\textbf{1.0000} & \\textbf{1.0000} & \\textbf{1.0000} & \\textbf{1.0000} & \\textbf{1.0000} & \\textbf{1.0000} & 0.7451 & 0.8235 \\\\\n",
      " & expln aggr fidelities mean $\\uparrow$& 0.8431 & 0.8235 & 0.7912 & 0.2549 & 0.0980 & 0.2745 & \\textbf{1.0000} & \\textbf{1.0000} \\\\\n",
      " & preservations original mean $\\uparrow$& 0.8824 & 0.9216 & 0.8748 & 0.8431 & 0.5882 & 0.8824 & \\textbf{1.0000} & 0.9020 \\\\\n",
      " & preservations original mean topk $\\uparrow$& 0.6667 & 0.7059 & 0.3176 & 0.1765 & 0.0588 & 0.5294 & \\textbf{1.0000} & 0.5294 \\\\\n",
      " & expln aggr accuracies mean $\\uparrow$& 0.8824 & \\textbf{0.9020} & 0.7354 & 0.2941 & 0.0980 & 0.3137 & 0.7647 & 0.7843 \\\\\n",
      " & nnzs mean $\\downarrow$& 1.0000 & 1.0000 & 1.0000 & 0.7045 & 1.0000 & 1.0000 & \\textbf{0.1990} & 0.4726 \\\\\n",
      " & ngroups mean $\\downarrow$& \\textbf{0.0000} & \\textbf{0.0000} & \\textbf{0.0000} & \\textbf{0.0000} & \\textbf{0.0000} & \\textbf{0.0000} & 1.0000 & 4.1373 \\\\\n",
      " & inss mean $\\uparrow$& \\textbf{0.0000} & \\textbf{0.0000} & \\textbf{0.0000} & \\textbf{0.0000} & \\textbf{0.0000} & \\textbf{0.0000} & \\textbf{0.0000} & \\textbf{0.0000} \\\\\n",
      " & inss original mean $\\uparrow$& \\textbf{0.0000} & \\textbf{0.0000} & \\textbf{0.0000} & \\textbf{0.0000} & \\textbf{0.0000} & \\textbf{0.0000} & \\textbf{0.0000} & \\textbf{0.0000} \\\\\n",
      " & dels mean $\\downarrow$& \\textbf{0.0000} & \\textbf{0.0000} & \\textbf{0.0000} & \\textbf{0.0000} & \\textbf{0.0000} & \\textbf{0.0000} & \\textbf{0.0000} & \\textbf{0.0000} \\\\\n",
      " & dels original mean $\\downarrow$& \\textbf{0.0000} & \\textbf{0.0000} & \\textbf{0.0000} & \\textbf{0.0000} & \\textbf{0.0000} & \\textbf{0.0000} & \\textbf{0.0000} & \\textbf{0.0000} \\\\\n"
     ]
    }
   ],
   "source": [
    "\n",
    "def gen_latex_table(results_all, expl_names, expl_names_list, dataset_name, dataset_names):\n",
    "    print('\\\\toprule')\n",
    "    print(' & ', end='')\n",
    "    for expl_name in expl_names_list:\n",
    "        print('& {} '.format(expl_names[expl_name]), end='')\n",
    "    print('\\\\\\\\ \\\\midrule')\n",
    "    # print('\\\\multirow{3}{*}{' + dataset_names[dataset_name] + '} & Accuracy $\\\\uparrow$ ', end='')\n",
    "    # accuracy_mean_max = max([results_all[expl_name]['accuracy_mean'] for expl_name in expl_names_list if expl_name in results_all])\n",
    "    # for expl_name in expl_names_list:\n",
    "    #     if expl_name in results_all:\n",
    "    #         if results_all[expl_name]['accuracy_mean'] == accuracy_mean_max:\n",
    "    #             print('& \\\\textbf{{{:.4f}}} '.format(results_all[expl_name]['accuracy_mean']), end='')\n",
    "    #         else:\n",
    "    #             print('& {:.4f} '.format(results_all[expl_name]['accuracy_mean']), end='')\n",
    "    #     else:\n",
    "    #         print(' & ', end='')\n",
    "    print('\\\\\\\\')\n",
    "    for r_i, result_name in enumerate(result_names_minmax):\n",
    "        best = result_names_minmax[result_name]\n",
    "        result_name_display = ' '.join(result_name.split('_'))\n",
    "        if best == min:\n",
    "            print(f' & {result_name_display} $\\\\downarrow$', end='')\n",
    "        else:\n",
    "            print(f' & {result_name_display} $\\\\uparrow$', end='')\n",
    "        score_mean_best = best([results_all[expl_name][result_name] \\\n",
    "                                    for expl_name in expl_names_list if expl_name in results_all])\n",
    "        for expl_name in expl_names_list:\n",
    "            # if expl_name == 'sop' and result_name in sop_result_name_swap:\n",
    "            #     result_name_use = sop_result_name_swap[result_name]\n",
    "            # else:\n",
    "            #     result_name_use = result_name\n",
    "            if expl_name in results_all:\n",
    "                result_val = results_all[expl_name][result_name]\n",
    "                \n",
    "                if result_val == score_mean_best:\n",
    "                    if round(result_val, 4) == 0:\n",
    "                        result_val = abs(result_val)\n",
    "                    print('& \\\\textbf{{{:.4f}}} '.format(result_val), end='')\n",
    "                else:\n",
    "                    if round(result_val, 4) == 0:\n",
    "                        result_val = abs(result_val)\n",
    "                    print('& {:.4f} '.format(result_val), end='')\n",
    "            else:\n",
    "                print(' & ', end='')\n",
    "        print('\\\\\\\\')\n",
    "    # print(' & Soft Fidelity Loss $\\\\downarrow$ ', end='')\n",
    "    # soft_fidelity_loss_min = min([results_all[expl_name]['soft_fidelity_loss_mean'] \\\n",
    "    #                               for expl_name in expl_names_list if expl_name in results_all])\n",
    "    # for expl_name in expl_names_list:\n",
    "    #     if expl_name in results_all:\n",
    "    #         if results_all[expl_name]['soft_fidelity_loss_mean'] == soft_fidelity_loss_min:\n",
    "    #             print('& \\\\textbf{{{:.4f}}} '.format(results_all[expl_name]['soft_fidelity_loss_mean']), end='')\n",
    "    #         else:\n",
    "    #             print('& {:.4f} '.format(results_all[expl_name]['soft_fidelity_loss_mean']), end='')\n",
    "    #     else:\n",
    "    #         print(' & ', end='')\n",
    "    # print('\\\\\\\\')\n",
    "    # print(' & NNZ $\\\\downarrow$ ', end='')\n",
    "    # nnz_mean_min = min([results_all[expl_name]['nnz_mean'] for expl_name in expl_names_list if expl_name in results_all])\n",
    "    # for expl_name in expl_names_list:\n",
    "    #     if expl_name in results_all:\n",
    "    #         if results_all[expl_name]['nnz_mean'] == nnz_mean_min:\n",
    "    #             print('& \\\\textbf{{{:.4f}}} '.format(results_all[expl_name]['nnz_mean']), end='')\n",
    "    #         else:\n",
    "    #             print('& {:.4f} '.format(results_all[expl_name]['nnz_mean']), end='')\n",
    "    #     else:\n",
    "    #         print(' & ', end='')\n",
    "    # print('\\\\\\\\')\n",
    "\n",
    "gen_latex_table(results_all_new, expl_names_all, expl_names_list, dataset_name, dataset_names)"
   ]
  },
  {
   "cell_type": "code",
   "execution_count": 54,
   "id": "a3ba4f48-3b0b-49fb-9b81-f0b4a56a5305",
   "metadata": {
    "tags": []
   },
   "outputs": [
    {
     "data": {
      "image/png": "[encoded data removed]",
      "text/plain": [
       "<Figure size 200x180 with 1 Axes>"
      ]
     },
     "metadata": {},
     "output_type": "display_data"
    }
   ],
   "source": [
    "import matplotlib.pyplot as plt\n",
    "\n",
    "expl_names_all_fig = {\n",
    "    'lime': 'LIME',\n",
    "    'shap': 'SHAP',\n",
    "    'rise': 'RISE',\n",
    "    'gradcam': 'GC',\n",
    "    'intgrad': 'IG',\n",
    "    'archipelago': 'Arch',\n",
    "    'idg': 'IDG',\n",
    "    'pls': 'PLS',\n",
    "    'fresh': 'FRESH',\n",
    "    'sop': 'SOP'\n",
    "}\n",
    "\n",
    "import matplotlib.pyplot as plt\n",
    "fig, ax = plt.subplots(figsize=(2, 1.8))\n",
    "ind = list(range(len(preservation_scores)))\n",
    "bars = ax.barh(range(len(preservation_scores)), preservation_scores)\n",
    "ax.set_yticks(ind)\n",
    "ax.set_yticklabels([expl_names_all_fig[expl_name] for expl_name in expl_names_list])\n",
    "# Add numbers on top of the bars\n",
    "# for bar in bars:\n",
    "#     xval = bar.get_width()\n",
    "#     ax.text(xval, bar.get_y() + bar.get_height()/2, round(xval, 2), ha='right', va='center', fontsize=9)\n",
    "\n",
    "plt.xlabel('Preservation', fontsize=9)\n",
    "plt.xticks(fontsize=9)\n",
    "plt.yticks(fontsize=9)\n",
    "plt.tight_layout()\n",
    "plt.savefig('figs/preservation-imagenet.pdf', dpi=300, bbox_inches='tight', pad_inches=0)\n",
    "plt.show()\n",
    "\n",
    "# preservation_scores = [results_all_new[expl_name]['preservations_original_mean'] for expl_name in expl_names_list ]\n",
    "\n",
    "# fig, ax = plt.subplots(figsize=(2, 1.8))\n",
    "# ind = list(range(len(preservation_scores)))\n",
    "# bars = ax.bar(range(len(preservation_scores)), preservation_scores)\n",
    "# ax.set_xticks(ind)\n",
    "# ax.set_xticklabels([expl_names_all_fig[expl_name] for expl_name in expl_names_list ], rotation=45)\n",
    "# # Add numbers on top of the bars\n",
    "# for bar in bars:\n",
    "#     yval = bar.get_height()\n",
    "#     ax.text(bar.get_x() + bar.get_width()/2, yval, round(yval, 2), ha='center', va='bottom', fontsize=14)\n",
    "\n",
    "# plt.ylabel('Preservation', fontsize=14)\n",
    "# plt.xticks(fontsize=14)\n",
    "# plt.yticks(fontsize=14)\n",
    "# plt.savefig('figs/preservation-imagenet.pdf', dpi=300, bbox_inches='tight', pad_inches=0)\n",
    "# plt.show()"
   ]
  },
  {
   "cell_type": "code",
   "execution_count": null,
   "id": "b832cc34-5c37-45d4-955e-5998c9dc4e10",
   "metadata": {},
   "outputs": [],
   "source": [
    "expl_names_all_fig = {\n",
    "    'lime': 'LIME',\n",
    "    'shap': 'SHAP',\n",
    "    'rise': 'RISE',\n",
    "    'gradcam': 'GC',\n",
    "    'intgrad': 'IG',\n",
    "    'archipelago': 'Arch',\n",
    "    'idg': 'IDG',\n",
    "    'pls': 'PLS',\n",
    "    'fresh': 'FRESH',\n",
    "    'sop': 'SOP'\n",
    "}\n",
    "\n",
    "soft_fidelity_scores = [results_all[expl_name]['soft_fidelity_loss_mean'] if expl_name!='fresh' else 0 for expl_name in expl_names_list ]\n",
    "import matplotlib\n",
    "matplotlib.rcParams['font.family'] = 'DejaVu Serif'\n",
    "\n",
    "import matplotlib.pyplot as plt\n",
    "fig, ax = plt.subplots(figsize=(2, 1.8))\n",
    "ind = list(range(len(soft_fidelity_scores)))\n",
    "bars = ax.barh(range(len(soft_fidelity_scores)), soft_fidelity_scores)\n",
    "ax.set_yticks(ind)\n",
    "ax.set_yticklabels([expl_names_all_fig[expl_name] for expl_name in expl_names_list])\n",
    "# Add numbers on top of the bars\n",
    "# for bar in bars:\n",
    "#     xval = bar.get_width()\n",
    "#     ax.text(xval, bar.get_y() + bar.get_height()/2, round(xval, 2), ha='right', va='center', fontsize=9)\n",
    "\n",
    "plt.xlabel('Soft Fidelity Loss', fontsize=9)\n",
    "plt.xticks(fontsize=9)\n",
    "plt.yticks(fontsize=9)\n",
    "plt.tight_layout()\n",
    "plt.savefig('figs/soft-fidelity-imagenet.pdf', dpi=300, bbox_inches='tight', pad_inches=0)\n",
    "plt.show()"
   ]
  },
  {
   "cell_type": "code",
   "execution_count": null,
   "id": "a92f6085-77c8-4238-8e71-7731a5386fdf",
   "metadata": {},
   "outputs": [],
   "source": []
  },
  {
   "cell_type": "code",
   "execution_count": 99,
   "id": "4259da66-9949-4732-915c-0ee5f73b8aa9",
   "metadata": {
    "tags": []
   },
   "outputs": [
    {
     "name": "stdout",
     "output_type": "stream",
     "text": [
      "{0.1: 'sop_gg0.1_results.json', 0.5: 'sop_gg0.5_results.json', 1.0: 'sop_sop_gg1.0_results.json', 2.0: 'sop_sop_results.json'}\n"
     ]
    }
   ],
   "source": [
    "import json\n",
    "import sys\n",
    "import os\n",
    "\n",
    "exp_name = 'sst_m_1h_gg2.0_gs1.0'\n",
    "dataset_name = 'sst'\n",
    "results_dir = '../exps/{}/best/results'.format(exp_name)\n",
    "\n",
    "sop_explainer_name = 'sop_gg0.001'\n",
    "\n",
    "expl_names_all = {\n",
    "    'lime': 'LIME',\n",
    "    'shap': 'SHAP',\n",
    "    'rise': 'RISE',\n",
    "    'gradcam': 'Grad-CAM',\n",
    "    'intgrad': 'IntGrad',\n",
    "    'archipelago': 'Archi-pelago',\n",
    "    'idg': 'IDG',\n",
    "    'pls': 'PLS',\n",
    "    'fresh': 'FRESH',\n",
    "    'sop': 'SOP (ours)'\n",
    "}\n",
    "\n",
    "potential_filenames = {\n",
    "    0.1: 'sop_gg0.1_results.json',\n",
    "                       0.5: 'sop_gg0.5_results.json',\n",
    "                      1.0: 'sop_sop_gg1.0_results.json',\n",
    "                      2.0: 'sop_sop_results.json'}\n",
    "\n",
    "\n",
    "\n",
    "# if dataset_name == 'sst':\n",
    "#     potential_filenames = {expl_name: f'{sop_explainer_name}_{expl_name}_results.json' for expl_name in expl_names_all}\n",
    "# else:\n",
    "#     # potential_filenames = {expl_name: f'{expl_name}_results_insdel.json' for expl_name in expl_names_all}\n",
    "#     potential_filenames = {expl_name: f'{expl_name}_results_insdel.json' for expl_name in expl_names_all}\n",
    "#     # potential_filenames['fresh'] = 'fresh_fresh_results.json'\n",
    "# # potential_filenames['sop'] = 'sop_results.json' #'sop_gg0.1_results.json'\n",
    "# potential_filenames['sop'] = 'sop_results_insdel.json' #'sop_gg0.1_results.json'\n",
    "\n",
    "results_all = {}\n",
    "filenames_all = {}\n",
    "for filename in os.listdir(results_dir):\n",
    "    for expl_name in potential_filenames:\n",
    "        filename = potential_filenames[expl_name]\n",
    "        if os.path.exists(os.path.join(results_dir, filename)):\n",
    "            \n",
    "    # if filename in potential_filenames:\n",
    "    # if filename.endswith(f'{sop_explainer_name}_results.json'):\n",
    "            with open(os.path.join(results_dir, filename), 'r') as f:\n",
    "                results = json.load(f)\n",
    "            # expl_name = filename.split('_')[0]\n",
    "            results_all[expl_name] = results\n",
    "            filenames_all[expl_name] = filename\n",
    "\n",
    "print(filenames_all)\n",
    "            "
   ]
  },
  {
   "cell_type": "code",
   "execution_count": 100,
   "id": "92553dee-a969-4660-ba4e-dd5db965d528",
   "metadata": {
    "tags": []
   },
   "outputs": [
    {
     "data": {
      "image/png": "[encoded data removed]",
      "text/plain": [
       "<Figure size 640x480 with 1 Axes>"
      ]
     },
     "metadata": {},
     "output_type": "display_data"
    }
   ],
   "source": [
    "import matplotlib.pyplot as plt\n",
    "import numpy as np\n",
    "\n",
    "accs = [results_all[scale]['accuracies_mean'] for scale in potential_filenames]\n",
    "nnzs = [results_all[scale]['nnzs_mean'] for scale in potential_filenames]\n",
    "sort_idxs = np.argsort(nnzs)\n",
    "nnzs_sort = [nnzs[i] for i in sort_idxs]\n",
    "accs_sort = [accs[i] for i in sort_idxs]\n",
    "\n",
    "\n",
    "fig, ax = plt.subplots()\n",
    "plt.plot(nnzs_sort, accs_sort)\n",
    "\n",
    "plt.ylabel('Accuracy', fontsize=14)\n",
    "plt.xlabel('Nonzero Ratio', fontsize=14)\n",
    "plt.xticks(fontsize=14)\n",
    "plt.yticks(fontsize=14)\n",
    "plt.savefig('figs/nnzs-accs-sst.pdf', dpi=300, bbox_inches='tight', pad_inches=0)\n",
    "plt.show()"
   ]
  },
  {
   "cell_type": "code",
   "execution_count": 101,
   "id": "89c6129d-fae4-4850-b349-1bbcc319f707",
   "metadata": {
    "tags": []
   },
   "outputs": [
    {
     "data": {
      "text/plain": [
       "([0.893348623853211,\n",
       "  0.8830275229357798,\n",
       "  0.8658256880733946,\n",
       "  0.8463302752293578],\n",
       " [0.7207691662970486,\n",
       "  0.7310475234728341,\n",
       "  0.7300390067655559,\n",
       "  0.693711388975792])"
      ]
     },
     "execution_count": 101,
     "metadata": {},
     "output_type": "execute_result"
    }
   ],
   "source": [
    "accs, nnzs"
   ]
  },
  {
   "cell_type": "code",
   "execution_count": 3,
   "id": "4f86425b-6042-4271-be8c-50b1756dc8f7",
   "metadata": {
    "tags": []
   },
   "outputs": [
    {
     "name": "stdout",
     "output_type": "stream",
     "text": [
      "{'lime': 'sop_lime_results.json', 'shap': 'sop_shap_results.json', 'rise': 'sop_rise_results.json', 'intgrad': 'sop_intgrad_results.json', 'archipelago': 'sop_archipelago_results.json', 'pls': 'sop_pls_results.json', 'fresh': 'fresh_fresh_results.json', 'sop': 'sop_sop_results.json'}\n"
     ]
    }
   ],
   "source": [
    "import json\n",
    "import sys\n",
    "import os\n",
    "\n",
    "expl_names_all = {\n",
    "    'lime': 'LIME',\n",
    "    'shap': 'SHAP',\n",
    "    'rise': 'RISE',\n",
    "    'gradcam': 'Grad-CAM',\n",
    "    'intgrad': 'IntGrad',\n",
    "    'archipelago': 'Archi-pelago',\n",
    "    'idg': 'IDG',\n",
    "    'pls': 'PLS',\n",
    "    'fresh': 'FRESH',\n",
    "    'sop': 'SOP (ours)'\n",
    "}\n",
    "\n",
    "exp_name = 'sst_m_1h_gg2.0_gs1.0'\n",
    "dataset_name = 'sst'\n",
    "results_dir = '../exps/{}/best/results'.format(exp_name)\n",
    "\n",
    "sop_explainer_name = 'sop'\n",
    "\n",
    "potential_filenames = {expl_name: f'{sop_explainer_name}_{expl_name}_results.json' for expl_name in expl_names_all}\n",
    "potential_filenames['fresh'] = 'fresh_fresh_results.json'\n",
    "potential_filenames['sop'] = 'sop_sop_results.json' #'sop_gg0.1_results.json'\n",
    "\n",
    "results_all = {}\n",
    "filenames_all = {}\n",
    "for filename in os.listdir(results_dir):\n",
    "    for expl_name in potential_filenames:\n",
    "        filename = potential_filenames[expl_name]\n",
    "        if os.path.exists(os.path.join(results_dir, filename)):\n",
    "            \n",
    "    # if filename in potential_filenames:\n",
    "    # if filename.endswith(f'{sop_explainer_name}_results.json'):\n",
    "            with open(os.path.join(results_dir, filename), 'r') as f:\n",
    "                results = json.load(f)\n",
    "            # expl_name = filename.split('_')[0]\n",
    "            results_all[expl_name] = results\n",
    "            filenames_all[expl_name] = filename\n",
    "print(filenames_all)\n",
    "\n",
    "\n",
    "# expl_names_list = [k for k in ['lime', 'shap', 'rise', 'gradcam', 'intgrad', 'archipelago', 'fresh', 'sop'] if k in results_all]\n",
    "if dataset_name in ['imagenet']:\n",
    "    expl_names_list = ['lime', 'shap', 'rise', 'gradcam', 'intgrad', 'archipelago', 'fresh', 'sop']\n",
    "else:\n",
    "    expl_names_list = ['lime', 'shap', 'rise', 'intgrad', 'archipelago', 'idg', 'pls', 'fresh', 'sop']\n",
    "# expl_names = {k:expl_names_all[k] for k in results_all if k in results_all}\n",
    "\n",
    "dataset_names = {\n",
    "    'imagenet': 'ImageNet',\n",
    "    'multirc': 'MultiRC',\n",
    "    'sst': 'SST'\n",
    "}\n"
   ]
  },
  {
   "cell_type": "code",
   "execution_count": 4,
   "id": "20f280fe-9b15-461c-8a4c-4d1cecd4e768",
   "metadata": {
    "tags": []
   },
   "outputs": [],
   "source": [
    "result_names_minmax = {'accuracies_mean': max,\n",
    "  'pred_agreements_mean': max,\n",
    "  # 'pred_agreements_soft_mean': min,\n",
    "  'expln_aggr_fidelities_mean': max,\n",
    "  # 'expln_aggr_fidelities_soft_mean': min,\n",
    "  # 'preservations_mean': max,\n",
    "  # 'preservations_original_mean': max,\n",
    "  # 'preservations_mean_topk': max,\n",
    "  'preservations_original_mean_topk': max,\n",
    "  'expln_aggr_accuracies_mean': max,\n",
    "  'nnzs_mean': min,\n",
    "  'ngroups_mean': min,\n",
    "  # 'comps_mean': max,\n",
    "  'comps_original_mean': max,\n",
    "  # 'suffs_mean': min,\n",
    "  'suffs_original_mean': min}\n",
    "sop_result_name_swap = {\n",
    "    'comps_original_mean': 'comps_mean',\n",
    "    'suffs_original_mean': 'suffs_mean',\n",
    "    'preservations_original_mean_topk': 'preservations_mean_topk'\n",
    "}"
   ]
  },
  {
   "cell_type": "code",
   "execution_count": 5,
   "id": "35b73b7b-8437-4a85-99c8-3bae65cbdef6",
   "metadata": {
    "tags": []
   },
   "outputs": [],
   "source": [
    "from collections import defaultdict\n",
    "\n",
    "results_all_new = defaultdict(dict)\n",
    "for r_i, result_name in enumerate(result_names_minmax):\n",
    "    for expl_name in expl_names_list:\n",
    "        if expl_name in ['sop', 'fresh'] and result_name in sop_result_name_swap:\n",
    "            result_name_use = sop_result_name_swap[result_name]\n",
    "        else:\n",
    "            result_name_use = result_name\n",
    "        if expl_name in results_all:\n",
    "            results_all_new[expl_name][result_name] = results_all[expl_name][result_name_use]"
   ]
  },
  {
   "cell_type": "code",
   "execution_count": 63,
   "id": "537a4de2-24fd-42ce-870f-cb193d17922d",
   "metadata": {
    "tags": []
   },
   "outputs": [
    {
     "data": {
      "image/png": "[encoded data removed]",
      "text/plain": [
       "<Figure size 200x180 with 1 Axes>"
      ]
     },
     "metadata": {},
     "output_type": "display_data"
    }
   ],
   "source": [
    "import matplotlib.pyplot as plt\n",
    "\n",
    "expl_names_all_fig = {\n",
    "    'lime': 'LIME',\n",
    "    'shap': 'SHAP',\n",
    "    'rise': 'RISE',\n",
    "    'gradcam': 'GC',\n",
    "    'intgrad': 'IG',\n",
    "    'archipelago': 'Arch',\n",
    "    'idg': 'IDG',\n",
    "    'pls': 'PLS',\n",
    "    'fresh': 'FRESH',\n",
    "    'sop': 'SOP'\n",
    "}\n",
    "\n",
    "\n",
    "expln_aggr_accuracies_scores = [results_all[expl_name]['expln_aggr_accuracies_mean'] \n",
    "                                for expl_name in expl_names_list if expl_name != 'idg']\n",
    "\n",
    "import matplotlib.pyplot as plt\n",
    "fig, ax = plt.subplots(figsize=(2, 1.8))\n",
    "ind = list(range(len(expln_aggr_accuracies_scores)))\n",
    "bars = ax.barh(range(len(expln_aggr_accuracies_scores)), expln_aggr_accuracies_scores)\n",
    "ax.set_yticks(ind)\n",
    "ax.set_yticklabels([expl_names_all_fig[expl_name] for expl_name in expl_names_list if expl_name != 'idg'])\n",
    "# Add numbers on top of the bars\n",
    "# for bar in bars:\n",
    "#     xval = bar.get_width()\n",
    "#     ax.text(xval, bar.get_y() + bar.get_height()/2, round(xval, 2), ha='right', va='center', fontsize=9)\n",
    "\n",
    "plt.xlabel('Predictive Acc.', fontsize=9)\n",
    "plt.xticks(fontsize=9)\n",
    "plt.yticks(fontsize=9)\n",
    "plt.tight_layout()\n",
    "plt.savefig('figs/aggr-acc-sst.pdf', dpi=300, bbox_inches='tight', pad_inches=0)\n",
    "plt.show()\n",
    "\n",
    "# fig, ax = plt.subplots()\n",
    "# ind = list(range(len(expln_aggr_accuracies_scores)))\n",
    "# bars = ax.bar(range(len(expln_aggr_accuracies_scores)), expln_aggr_accuracies_scores)\n",
    "# ax.set_xticks(ind)\n",
    "# ax.set_xticklabels([expl_names_all[expl_name] for expl_name in expl_names_list if expl_name != 'idg'], rotation=45)\n",
    "# # Add numbers on top of the bars\n",
    "# for bar in bars:\n",
    "#     yval = bar.get_height()\n",
    "#     ax.text(bar.get_x() + bar.get_width()/2, yval, round(yval, 2), ha='center', va='bottom', fontsize=14)\n",
    "\n",
    "# plt.ylabel('Attribution Aggregation Accuracy', fontsize=14)\n",
    "# plt.xticks(fontsize=14)\n",
    "# plt.yticks(fontsize=14)\n",
    "# plt.savefig('figs/aggr-acc-sst.pdf', dpi=300, bbox_inches='tight', pad_inches=0)\n",
    "# plt.show()"
   ]
  },
  {
   "cell_type": "code",
   "execution_count": 7,
   "id": "9c28a1c4-7dc6-4a15-b652-e94020bd2ade",
   "metadata": {
    "tags": []
   },
   "outputs": [
    {
     "data": {
      "text/plain": [
       "dict_keys(['accuracies_mean', 'pred_agreements_mean', 'pred_agreements_soft_mean', 'expln_aggr_fidelities_mean', 'expln_aggr_fidelities_soft_mean', 'preservations_mean', 'preservations_original_mean', 'preservations_mean_topk', 'preservations_original_mean_topk', 'expln_aggr_accuracies_mean', 'nnzs_mean', 'ngroups_mean', 'comps_mean', 'suffs_mean', 'comps_original_mean', 'suffs_original_mean'])"
      ]
     },
     "execution_count": 7,
     "metadata": {},
     "output_type": "execute_result"
    }
   ],
   "source": [
    "results_all['sop'].keys()"
   ]
  },
  {
   "cell_type": "code",
   "execution_count": 8,
   "id": "a7e90483-aa9c-42f8-b275-52f6f1a0b224",
   "metadata": {
    "tags": []
   },
   "outputs": [
    {
     "data": {
      "image/png": "[encoded data removed]",
      "text/plain": [
       "<Figure size 200x180 with 1 Axes>"
      ]
     },
     "metadata": {},
     "output_type": "display_data"
    }
   ],
   "source": [
    "import matplotlib.pyplot as plt\n",
    "\n",
    "expl_names_all_fig = {\n",
    "    'lime': 'LIME',\n",
    "    'shap': 'SHAP',\n",
    "    'rise': 'RISE',\n",
    "    'gradcam': 'GC',\n",
    "    'intgrad': 'IG',\n",
    "    'archipelago': 'Arch',\n",
    "    'idg': 'IDG',\n",
    "    'pls': 'PLS',\n",
    "    'fresh': 'FRESH',\n",
    "    'sop': 'SOP'\n",
    "}\n",
    "\n",
    "\n",
    "scores = [results_all[expl_name]['expln_aggr_fidelities_mean'] \n",
    "                                for expl_name in expl_names_list if expl_name != 'idg']\n",
    "\n",
    "import matplotlib.pyplot as plt\n",
    "fig, ax = plt.subplots(figsize=(2, 1.8))\n",
    "ind = list(range(len(scores)))\n",
    "bars = ax.barh(range(len(scores)), scores)\n",
    "ax.set_yticks(ind)\n",
    "ax.set_yticklabels([expl_names_all_fig[expl_name] for expl_name in expl_names_list if expl_name != 'idg'])\n",
    "\n",
    "plt.xlabel('Fidelity - SST', fontsize=9)\n",
    "plt.xticks(fontsize=9)\n",
    "plt.yticks(fontsize=9)\n",
    "plt.tight_layout()\n",
    "plt.savefig('figs/fidelity-sst.pdf', dpi=300, bbox_inches='tight', pad_inches=0)\n",
    "plt.show()\n",
    "\n"
   ]
  },
  {
   "cell_type": "code",
   "execution_count": 12,
   "id": "387dfb6c-700c-4779-aa34-9be4ee879a47",
   "metadata": {
    "tags": []
   },
   "outputs": [
    {
     "data": {
      "text/plain": [
       "dict_keys(['accuracies_mean', 'pred_agreements_mean', 'pred_agreements_soft_mean', 'expln_aggr_fidelities_mean', 'expln_aggr_fidelities_soft_mean', 'preservations_mean', 'preservations_original_mean', 'preservations_mean_topk', 'preservations_original_mean_topk', 'expln_aggr_accuracies_mean', 'nnzs_mean', 'ngroups_mean', 'comps_mean', 'suffs_mean', 'comps_original_mean', 'suffs_original_mean'])"
      ]
     },
     "execution_count": 12,
     "metadata": {},
     "output_type": "execute_result"
    }
   ],
   "source": [
    "results_all[expl_name].keys()"
   ]
  },
  {
   "cell_type": "code",
   "execution_count": 17,
   "id": "b4a8383e-b34b-4991-a0f0-d27c407ae73b",
   "metadata": {
    "tags": []
   },
   "outputs": [
    {
     "name": "stdout",
     "output_type": "stream",
     "text": [
      "| Attr. Method | Fidelity (high) | Pred Acc (high) | Accuracy (high) | Agreement (high)|\n",
      "|--------------|-----------------|-----------------|-----------------|-----------------|\n",
      "| lime         |     0.4255      |     0.4232      |     0.9128      |       1.0       |\n",
      "| shap         |     0.9197      |     0.8853      |     0.9128      |       1.0       |\n",
      "| rise         |     0.9794      |     0.9174      |     0.9128      |       1.0       |\n",
      "| intgrad      |     0.4908      |     0.4908      |     0.9128      |       1.0       |\n",
      "| archipelago  |      0.547      |      0.547      |     0.9128      |       1.0       |\n",
      "| pls          |     0.5092      |     0.5092      |     0.9128      |       1.0       |\n",
      "| fresh        |       1.0       |     0.6502      |     0.6502      |     0.6686      |\n",
      "| sop          |       1.0       |     0.8463      |     0.8463      |     0.8624      |\n",
      "\n"
     ]
    }
   ],
   "source": [
    "# Creating the data for the table\n",
    "keys = [expl_name for expl_name in expl_names_list if expl_name != 'idg']\n",
    "fidelities_vals = [round(results_all[k]['expln_aggr_fidelities_mean'] , 4) for k in keys]\n",
    "pred_acc_vals = [round(results_all[k]['expln_aggr_accuracies_mean'] , 4) for k in keys]\n",
    "\n",
    "pred_agree_vals = [round(results_all[k]['pred_agreements_mean'] , 4) for k in keys]\n",
    "# accuracies_mean\n",
    "acc_vals = [round(results_all[k]['accuracies_mean'] , 4) for k in keys]\n",
    "\n",
    "# Generating the Markdown table\n",
    "markdown_table = \"| Attr. Method | Fidelity (high) | Pred Acc (high) | Accuracy (high) | Agreement (high)|\\n\"\n",
    "markdown_table += \"|--------------|-----------------|-----------------|-----------------|-----------------|\\n\"\n",
    "\n",
    "for name, fid, pre, acc, agree in zip(keys, fidelities_vals, pred_acc_vals, acc_vals, pred_agree_vals):\n",
    "    markdown_table += f\"| {name:<12} | {fid:^15} | {pre:^15} | {acc:^15} | {agree:^15} |\\n\"\n",
    "\n",
    "print(markdown_table)\n"
   ]
  },
  {
   "cell_type": "code",
   "execution_count": 15,
   "id": "923cb79e-2658-4a9a-90f5-70151339480e",
   "metadata": {
    "tags": []
   },
   "outputs": [
    {
     "name": "stdout",
     "output_type": "stream",
     "text": [
      "| Attr. Method | Fidelity Soft (low) |\n",
      "|--------------|---------------------|\n",
      "| lime         |    3.6398055076     |\n",
      "| shap         |    0.2968315602     |\n",
      "| rise         |    0.0426420219     |\n",
      "| intgrad      |    5.9459318359     |\n",
      "| archipelago  |    2.8321553086     |\n",
      "| pls          |    2.2774929294     |\n",
      "| fresh        |         0.0         |\n",
      "| sop          |       -2e-10        |\n",
      "\n"
     ]
    }
   ],
   "source": [
    "# Creating the data for the table\n",
    "keys = [expl_name for expl_name in expl_names_list if expl_name != 'idg']\n",
    "fidelities_vals = [round(results_all[k]['expln_aggr_fidelities_soft_mean'] , 10) for k in keys]\n",
    "pred_acc_vals = [round(results_all[k]['expln_aggr_accuracies_mean'] , 10) for k in keys]\n",
    "\n",
    "# Generating the Markdown table\n",
    "markdown_table = \"| Attr. Method | Fidelity Soft (low) |\\n\"\n",
    "markdown_table += \"|--------------|---------------------|\\n\"\n",
    "\n",
    "for name, fid, pre in zip(keys, fidelities_vals, pred_acc_vals):\n",
    "    markdown_table += f\"| {name:<12} | {fid:^19} |\\n\"\n",
    "\n",
    "print(markdown_table)\n"
   ]
  },
  {
   "cell_type": "code",
   "execution_count": 58,
   "id": "2a3b72bd-5c20-48af-bbc2-585290ae8688",
   "metadata": {
    "tags": []
   },
   "outputs": [
    {
     "name": "stdout",
     "output_type": "stream",
     "text": [
      "\\toprule\n",
      " & & LIME & SHAP & RISE & IntGrad & Archi-pelago & IDG & PLS & FRESH & SOP (ours) \\\\ \\midrule\n",
      "\\\\\n",
      " & accuracies mean $\\uparrow$& \\textbf{0.9128} & \\textbf{0.9128} & \\textbf{0.9128} & \\textbf{0.9128} & \\textbf{0.9128}  & & \\textbf{0.9128} & 0.6502 & 0.8463 \\\\\n",
      " & pred agreements mean $\\uparrow$& \\textbf{1.0000} & \\textbf{1.0000} & \\textbf{1.0000} & \\textbf{1.0000} & \\textbf{1.0000}  & & \\textbf{1.0000} & 0.6686 & 0.8624 \\\\\n",
      " & expln aggr fidelities mean $\\uparrow$& 0.4255 & 0.9197 & 0.9794 & 0.4908 & 0.5470  & & 0.5092 & \\textbf{1.0000} & \\textbf{1.0000} \\\\\n",
      " & preservations original mean topk $\\uparrow$& 0.5413 & \\textbf{0.8853} & 0.7144 & 0.6227 & 0.7523  & & 0.6376 & 0.7443 & 0.6972 \\\\\n",
      " & expln aggr accuracies mean $\\uparrow$& 0.4232 & 0.8853 & \\textbf{0.9174} & 0.4908 & 0.5470  & & 0.5092 & 0.6502 & 0.8463 \\\\\n",
      " & nnzs mean $\\downarrow$& 0.5109 & 0.9967 & 1.0000 & 0.9998 & 0.8153  & & 0.1996 & \\textbf{0.1777} & 0.6937 \\\\\n",
      " & ngroups mean $\\downarrow$& 4.9427 & 13.9300 & 21.9759 & 11.2477 & 17.1858  & & 2.2443 & \\textbf{1.0000} & 6.1170 \\\\\n",
      " & comps original mean $\\uparrow$& 0.2468 & \\textbf{0.5003} & 0.1208 & 0.1069 & 0.1617  & & 0.0856 & 0.2872 & 0.0668 \\\\\n",
      " & suffs original mean $\\downarrow$& 0.4227 & \\textbf{0.0938} & 0.2579 & 0.3428 & 0.2221  & & 0.3349 & 0.1502 & 0.1574 \\\\\n"
     ]
    }
   ],
   "source": [
    "\n",
    "def gen_latex_table(results_all, expl_names, expl_names_list, dataset_name, dataset_names):\n",
    "    print('\\\\toprule')\n",
    "    print(' & ', end='')\n",
    "    for expl_name in expl_names_list:\n",
    "        print('& {} '.format(expl_names[expl_name]), end='')\n",
    "    print('\\\\\\\\ \\\\midrule')\n",
    "    # print('\\\\multirow{3}{*}{' + dataset_names[dataset_name] + '} & Accuracy $\\\\uparrow$ ', end='')\n",
    "    # accuracy_mean_max = max([results_all[expl_name]['accuracy_mean'] for expl_name in expl_names_list if expl_name in results_all])\n",
    "    # for expl_name in expl_names_list:\n",
    "    #     if expl_name in results_all:\n",
    "    #         if results_all[expl_name]['accuracy_mean'] == accuracy_mean_max:\n",
    "    #             print('& \\\\textbf{{{:.4f}}} '.format(results_all[expl_name]['accuracy_mean']), end='')\n",
    "    #         else:\n",
    "    #             print('& {:.4f} '.format(results_all[expl_name]['accuracy_mean']), end='')\n",
    "    #     else:\n",
    "    #         print(' & ', end='')\n",
    "    print('\\\\\\\\')\n",
    "    for r_i, result_name in enumerate(result_names_minmax):\n",
    "        best = result_names_minmax[result_name]\n",
    "        result_name_display = ' '.join(result_name.split('_'))\n",
    "        if best == min:\n",
    "            print(f' & {result_name_display} $\\\\downarrow$', end='')\n",
    "        else:\n",
    "            print(f' & {result_name_display} $\\\\uparrow$', end='')\n",
    "        score_mean_best = best([results_all[expl_name][result_name] \\\n",
    "                                    for expl_name in expl_names_list if expl_name in results_all])\n",
    "        for expl_name in expl_names_list:\n",
    "            # if expl_name == 'sop' and result_name in sop_result_name_swap:\n",
    "            #     result_name_use = sop_result_name_swap[result_name]\n",
    "            # else:\n",
    "            #     result_name_use = result_name\n",
    "            if expl_name in results_all:\n",
    "                result_val = results_all[expl_name][result_name]\n",
    "                \n",
    "                if result_val == score_mean_best:\n",
    "                    if round(result_val, 4) == 0:\n",
    "                        result_val = abs(result_val)\n",
    "                    print('& \\\\textbf{{{:.4f}}} '.format(result_val), end='')\n",
    "                else:\n",
    "                    if round(result_val, 4) == 0:\n",
    "                        result_val = abs(result_val)\n",
    "                    print('& {:.4f} '.format(result_val), end='')\n",
    "            else:\n",
    "                print(' & ', end='')\n",
    "        print('\\\\\\\\')\n",
    "    # print(' & Soft Fidelity Loss $\\\\downarrow$ ', end='')\n",
    "    # soft_fidelity_loss_min = min([results_all[expl_name]['soft_fidelity_loss_mean'] \\\n",
    "    #                               for expl_name in expl_names_list if expl_name in results_all])\n",
    "    # for expl_name in expl_names_list:\n",
    "    #     if expl_name in results_all:\n",
    "    #         if results_all[expl_name]['soft_fidelity_loss_mean'] == soft_fidelity_loss_min:\n",
    "    #             print('& \\\\textbf{{{:.4f}}} '.format(results_all[expl_name]['soft_fidelity_loss_mean']), end='')\n",
    "    #         else:\n",
    "    #             print('& {:.4f} '.format(results_all[expl_name]['soft_fidelity_loss_mean']), end='')\n",
    "    #     else:\n",
    "    #         print(' & ', end='')\n",
    "    # print('\\\\\\\\')\n",
    "    # print(' & NNZ $\\\\downarrow$ ', end='')\n",
    "    # nnz_mean_min = min([results_all[expl_name]['nnz_mean'] for expl_name in expl_names_list if expl_name in results_all])\n",
    "    # for expl_name in expl_names_list:\n",
    "    #     if expl_name in results_all:\n",
    "    #         if results_all[expl_name]['nnz_mean'] == nnz_mean_min:\n",
    "    #             print('& \\\\textbf{{{:.4f}}} '.format(results_all[expl_name]['nnz_mean']), end='')\n",
    "    #         else:\n",
    "    #             print('& {:.4f} '.format(results_all[expl_name]['nnz_mean']), end='')\n",
    "    #     else:\n",
    "    #         print(' & ', end='')\n",
    "    # print('\\\\\\\\')\n",
    "\n",
    "gen_latex_table(results_all_new, expl_names_all, expl_names_list, dataset_name, dataset_names)"
   ]
  },
  {
   "cell_type": "code",
   "execution_count": null,
   "id": "d3631e0c-10c0-41c3-bc0a-7ba9d0e7116d",
   "metadata": {},
   "outputs": [],
   "source": [
    "import matplotlib.pyplot as plt\n",
    "\n",
    "expl_names_all_fig = {\n",
    "    'lime': 'LIME',\n",
    "    'shap': 'SHAP',\n",
    "    'rise': 'RISE',\n",
    "    'gradcam': 'GC',\n",
    "    'intgrad': 'IG',\n",
    "    'archipelago': 'Arch',\n",
    "    'idg': 'IDG',\n",
    "    'pls': 'PLS',\n",
    "    'fresh': 'FRESH',\n",
    "    'sop': 'SOP'\n",
    "}\n",
    "\n",
    "import matplotlib.pyplot as plt\n",
    "fig, ax = plt.subplots(figsize=(2, 1.8))\n",
    "ind = list(range(len(preservation_scores)))\n",
    "bars = ax.barh(range(len(preservation_scores)), preservation_scores)\n",
    "ax.set_yticks(ind)\n",
    "ax.set_yticklabels([expl_names_all_fig[expl_name] for expl_name in expl_names_list])\n",
    "# Add numbers on top of the bars\n",
    "# for bar in bars:\n",
    "#     xval = bar.get_width()\n",
    "#     ax.text(xval, bar.get_y() + bar.get_height()/2, round(xval, 2), ha='right', va='center', fontsize=9)\n",
    "\n",
    "plt.xlabel('Preservation', fontsize=9)\n",
    "plt.xticks(fontsize=9)\n",
    "plt.yticks(fontsize=9)\n",
    "plt.tight_layout()\n",
    "plt.savefig('figs/preservation-imagenet.pdf', dpi=300, bbox_inches='tight', pad_inches=0)\n",
    "plt.show()\n",
    "\n",
    "# preservation_scores = [results_all_new[expl_name]['preservations_original_mean'] for expl_name in expl_names_list ]\n",
    "\n",
    "# fig, ax = plt.subplots(figsize=(2, 1.8))\n",
    "# ind = list(range(len(preservation_scores)))\n",
    "# bars = ax.bar(range(len(preservation_scores)), preservation_scores)\n",
    "# ax.set_xticks(ind)\n",
    "# ax.set_xticklabels([expl_names_all_fig[expl_name] for expl_name in expl_names_list ], rotation=45)\n",
    "# # Add numbers on top of the bars\n",
    "# for bar in bars:\n",
    "#     yval = bar.get_height()\n",
    "#     ax.text(bar.get_x() + bar.get_width()/2, yval, round(yval, 2), ha='center', va='bottom', fontsize=14)\n",
    "\n",
    "# plt.ylabel('Preservation', fontsize=14)\n",
    "# plt.xticks(fontsize=14)\n",
    "# plt.yticks(fontsize=14)\n",
    "# plt.savefig('figs/preservation-imagenet.pdf', dpi=300, bbox_inches='tight', pad_inches=0)\n",
    "# plt.show()"
   ]
  },
  {
   "cell_type": "code",
   "execution_count": 66,
   "id": "763eae50-d662-42f3-a40e-e96b542b856a",
   "metadata": {
    "tags": []
   },
   "outputs": [
    {
     "data": {
      "image/png": "[encoded data removed]",
      "text/plain": [
       "<Figure size 200x180 with 1 Axes>"
      ]
     },
     "metadata": {},
     "output_type": "display_data"
    }
   ],
   "source": [
    "import matplotlib.pyplot as plt\n",
    "\n",
    "ngroups_scores = [results_all[expl_name]['ngroups_mean'] \n",
    "                                for expl_name in expl_names_list if expl_name != 'idg']\n",
    "\n",
    "expl_names_all_fig = {\n",
    "    'lime': 'LIME',\n",
    "    'shap': 'SHAP',\n",
    "    'rise': 'RISE',\n",
    "    'gradcam': 'GC',\n",
    "    'intgrad': 'IG',\n",
    "    'archipelago': 'Arch',\n",
    "    'idg': 'IDG',\n",
    "    'pls': 'PLS',\n",
    "    'fresh': 'FRESH',\n",
    "    'sop': 'SOP'\n",
    "}\n",
    "\n",
    "import matplotlib.pyplot as plt\n",
    "fig, ax = plt.subplots(figsize=(2, 1.8))\n",
    "ind = list(range(len(ngroups_scores)))\n",
    "bars = ax.barh(range(len(ngroups_scores)), ngroups_scores)\n",
    "ax.set_yticks(ind)\n",
    "ax.set_yticklabels([expl_names_all_fig[expl_name] for expl_name in expl_names_list if expl_name != 'idg'])\n",
    "# Add numbers on top of the bars\n",
    "# for bar in bars:\n",
    "#     xval = bar.get_width()\n",
    "#     ax.text(xval, bar.get_y() + bar.get_height()/2, round(xval, 2), ha='right', va='center', fontsize=9)\n",
    "\n",
    "plt.xlabel('Num. of groups', fontsize=9)\n",
    "plt.xticks(fontsize=9)\n",
    "plt.yticks(fontsize=9)\n",
    "plt.tight_layout()\n",
    "plt.savefig('figs/ngroups-sst.pdf', dpi=300, bbox_inches='tight', pad_inches=0)\n",
    "plt.show()\n",
    "\n",
    "# fig, ax = plt.subplots()\n",
    "# ind = list(range(len(ngroups_scores)))\n",
    "# bars = ax.bar(range(len(ngroups_scores)), ngroups_scores)\n",
    "# ax.set_xticks(ind)\n",
    "# ax.set_xticklabels([expl_names_all[expl_name] for expl_name in expl_names_list if expl_name != 'idg'], rotation=45)\n",
    "# # Add numbers on top of the bars\n",
    "# for bar in bars:\n",
    "#     yval = bar.get_height()\n",
    "#     ax.text(bar.get_x() + bar.get_width()/2, yval, round(yval, 2), ha='center', va='bottom', fontsize=14)\n",
    "\n",
    "# plt.ylabel('Number of groups', fontsize=14)\n",
    "# plt.xticks(fontsize=14)\n",
    "# plt.yticks(fontsize=14)\n",
    "# plt.savefig('figs/ngroups-sst.pdf', dpi=300, bbox_inches='tight', pad_inches=0)\n",
    "# plt.show()"
   ]
  },
  {
   "cell_type": "code",
   "execution_count": 67,
   "id": "eddd1870-527b-4282-b8ab-964497c3cc4e",
   "metadata": {
    "tags": []
   },
   "outputs": [
    {
     "data": {
      "image/png": "[encoded data removed]",
      "text/plain": [
       "<Figure size 200x180 with 1 Axes>"
      ]
     },
     "metadata": {},
     "output_type": "display_data"
    }
   ],
   "source": [
    "import matplotlib.pyplot as plt\n",
    "\n",
    "nnzs_scores = [1 - results_all[expl_name]['nnzs_mean'] \n",
    "                                for expl_name in expl_names_list if expl_name != 'idg']\n",
    "\n",
    "import matplotlib.pyplot as plt\n",
    "fig, ax = plt.subplots(figsize=(2, 1.8))\n",
    "ind = list(range(len(nnzs_scores)))\n",
    "bars = ax.barh(range(len(nnzs_scores)), nnzs_scores)\n",
    "ax.set_yticks(ind)\n",
    "ax.set_yticklabels([expl_names_all_fig[expl_name] for expl_name in expl_names_list if expl_name != 'idg'])\n",
    "# Add numbers on top of the bars\n",
    "# for bar in bars:\n",
    "#     xval = bar.get_width()\n",
    "#     ax.text(xval, bar.get_y() + bar.get_height()/2, round(xval, 2), ha='right', va='center', fontsize=9)\n",
    "\n",
    "plt.xlabel('Sparsity', fontsize=9)\n",
    "plt.xticks(fontsize=9)\n",
    "plt.yticks(fontsize=9)\n",
    "plt.tight_layout()\n",
    "plt.savefig('figs/nnzs-sst.pdf', dpi=300, bbox_inches='tight', pad_inches=0)\n",
    "plt.show()\n",
    "\n",
    "# fig, ax = plt.subplots()\n",
    "# ind = list(range(len(nnzs_scores)))\n",
    "# bars = ax.bar(range(len(nnzs_scores)), nnzs_scores)\n",
    "# ax.set_xticks(ind)\n",
    "# ax.set_xticklabels([expl_names_all[expl_name] for expl_name in expl_names_list if expl_name != 'idg'], rotation=45)\n",
    "# # Add numbers on top of the bars\n",
    "# for bar in bars:\n",
    "#     yval = bar.get_height()\n",
    "#     ax.text(bar.get_x() + bar.get_width()/2, yval, round(yval, 2), ha='center', va='bottom', fontsize=14)\n",
    "\n",
    "# plt.ylabel('Number of Nonzeros', fontsize=14)\n",
    "# plt.xticks(fontsize=14)\n",
    "# plt.yticks(fontsize=14)\n",
    "# plt.savefig('figs/nnzs-sst.pdf', dpi=300, bbox_inches='tight', pad_inches=0)\n",
    "# plt.show()"
   ]
  },
  {
   "cell_type": "code",
   "execution_count": null,
   "id": "1924d748-6404-4cd1-9b7a-ec8b72e444e8",
   "metadata": {},
   "outputs": [],
   "source": [
    "import matplotlib.pyplot as plt\n",
    "import numpy as np\n",
    "\n",
    "metrics_show = {\n",
    "    'Predictive Performance - SST': expln_aggr_accuracies_scores,\n",
    "    'Preservation Check - ImageNet': preservation_scores,\n",
    "    'Density - SST': nnzs_scores,\n",
    "    'Number of Groups - SST': ngroups_scores\n",
    "}\n",
    "\n",
    "fig, axs = plt.subplots(figsize=(6.5, 2))\n",
    "\n",
    "metric_names = list(metrics_show.keys())\n",
    "all_scores = np.array([metrics_show[k] for k in metric_names])\n",
    "all_scores.T\n",
    "\n",
    "\n",
    "# Plotting\n",
    "bars1 = ax.bar(ind - width, q1_means, width, label='Fragmentation')\n",
    "bars2 = ax.bar(ind, q2_means, width, label='Purity')\n",
    "bars3 = ax.bar(ind + width, q3_means, width, label='Visibility')\n",
    "\n",
    "# Add numbers on top of the bars\n",
    "for bars in [bars1, bars2, bars3]:\n",
    "    for bar in bars:\n",
    "        yval = bar.get_height()\n",
    "        ax.text(bar.get_x() + bar.get_width()/2, yval, round(yval, 2), ha='center', va='bottom', fontsize=8)\n",
    "\n",
    "ax.set_xticks(ind)\n",
    "ax.set_xticklabels([method_map[methods[i]] for i in method_idxs_show], rotation=45, fontsize=14)\n",
    "ax.set_ylabel('Score', fontsize=14)\n",
    "\n",
    "plt.legend(loc='lower left')"
   ]
  },
  {
   "cell_type": "code",
   "execution_count": 65,
   "id": "ec228de3-5106-4ac7-9879-219c08261706",
   "metadata": {
    "tags": []
   },
   "outputs": [
    {
     "name": "stdout",
     "output_type": "stream",
     "text": [
      "{'lime': 'sop_gg0.5_lime_results.json', 'shap': 'sop_gg0.5_shap_results.json', 'rise': 'sop_gg0.5_rise_results.json', 'intgrad': 'sop_gg0.5_intgrad_results.json', 'archipelago': 'sop_gg0.5_archipelago_results.json', 'pls': 'sop_gg0.5_pls_results.json', 'sop': 'sop_gg0.5_results.json'}\n"
     ]
    }
   ],
   "source": [
    "import json\n",
    "import sys\n",
    "import os\n",
    "\n",
    "exp_name = 'sst_m_1h_gg2.0_gs1.0'\n",
    "dataset_name = 'sst'\n",
    "results_dir = '../exps/{}/best/results'.format(exp_name)\n",
    "\n",
    "sop_explainer_name = 'sop_gg0.5'\n",
    "\n",
    "expl_names_all = {\n",
    "    'lime': 'LIME',\n",
    "    'shap': 'SHAP',\n",
    "    'rise': 'RISE',\n",
    "    'gradcam': 'Grad-CAM',\n",
    "    'intgrad': 'IntGrad',\n",
    "    'archipelago': 'Archi-pelago',\n",
    "    'idg': 'IDG',\n",
    "    'pls': 'PLS',\n",
    "    'fresh': 'FRESH',\n",
    "    'sop': 'SOP (ours)'\n",
    "}\n",
    "\n",
    "potential_filenames = {expl_name: f'{sop_explainer_name}_{expl_name}_results.json' for expl_name in expl_names_all}\n",
    "# if 'sop' not in potential_filenames:\n",
    "potential_filenames['sop'] = f'{sop_explainer_name}_results.json'\n",
    "    \n",
    "    # print(potential_filenames)\n",
    "\n",
    "results_all = {}\n",
    "filenames_all = {}\n",
    "for filename in os.listdir(results_dir):\n",
    "    for expl_name in potential_filenames:\n",
    "        filename = potential_filenames[expl_name]\n",
    "        if os.path.exists(os.path.join(results_dir, filename)):\n",
    "            \n",
    "    # if filename in potential_filenames:\n",
    "    # if filename.endswith(f'{sop_explainer_name}_results.json'):\n",
    "            with open(os.path.join(results_dir, filename), 'r') as f:\n",
    "                results = json.load(f)\n",
    "            # expl_name = filename.split('_')[0]\n",
    "            results_all[expl_name] = results\n",
    "            filenames_all[expl_name] = filename\n",
    "print(filenames_all)\n",
    "\n",
    "\n",
    "# expl_names_list = [k for k in ['lime', 'shap', 'rise', 'gradcam', 'intgrad', 'archipelago', 'fresh', 'sop'] if k in results_all]\n",
    "if dataset_name in ['imagenet']:\n",
    "    expl_names_list = ['lime', 'shap', 'rise', 'gradcam', 'intgrad', 'archipelago', 'fresh', 'sop']\n",
    "else:\n",
    "    expl_names_list = ['lime', 'shap', 'rise', 'intgrad', 'archipelago', 'idg', 'pls', 'fresh', 'sop']\n",
    "# expl_names = {k:expl_names_all[k] for k in results_all if k in results_all}\n",
    "\n",
    "dataset_names = {\n",
    "    'imagenet': 'ImageNet',\n",
    "    'multirc': 'MultiRC',\n",
    "    'sst': 'SST'\n",
    "}\n"
   ]
  },
  {
   "cell_type": "code",
   "execution_count": 10,
   "id": "10262297-2eaf-4bd0-b43f-8272beb843b3",
   "metadata": {
    "tags": []
   },
   "outputs": [
    {
     "name": "stdout",
     "output_type": "stream",
     "text": [
      "\\toprule\n",
      " & & LIME & SHAP & RISE & IntGrad & Archi-pelago & IDG & PLS & FRESH & SOP (ours) \\\\ \\midrule\n",
      "\\\\\n",
      " & accuracies mean $\\uparrow$& \\textbf{0.9128} & \\textbf{0.9128} & \\textbf{0.9128} & \\textbf{0.9128} & \\textbf{0.9128}  & & \\textbf{0.9128}  & & 0.8830 \\\\\n",
      " & pred agreements mean $\\uparrow$& \\textbf{1.0000} & \\textbf{1.0000} & \\textbf{1.0000} & \\textbf{1.0000} & \\textbf{1.0000}  & & \\textbf{1.0000}  & & 0.9083 \\\\\n",
      " & pred agreements soft mean $\\downarrow$& \\textbf{0.0000} & 0.0000 & \\textbf{0.0000} & \\textbf{0.0000} & \\textbf{0.0000}  & & 0.0000  & & 0.1713 \\\\\n",
      " & expln aggr fidelities mean $\\uparrow$& 0.4255 & 0.9197 & 0.9794 & 0.4908 & 0.5470  & & 0.5092  & & \\textbf{1.0000} \\\\\n",
      " & expln aggr fidelities soft mean $\\downarrow$& 3.6398 & 0.2968 & 0.0426 & 5.9459 & 2.8322  & & 2.2775  & & \\textbf{0.0000} \\\\\n",
      " & preservations mean $\\uparrow$& 0.0000 & 0.0000 & 0.0000 & 0.0000 & 0.0000  & & 0.0000  & & \\textbf{0.6778} \\\\\n",
      " & preservations original mean $\\uparrow$& 0.6628 & 0.9300 & \\textbf{0.9977} & 0.8532 & 0.4885  & & 0.9323  & & 0.7844 \\\\\n",
      " & preservations mean topk $\\uparrow$& 0.0000 & 0.0000 & 0.0000 & 0.0000 & 0.0000  & & 0.0000  & & \\textbf{0.8819} \\\\\n",
      " & preservations original mean topk $\\uparrow$& 0.5367 & 0.7271 & 0.6697 & 0.5539 & 0.7443  & & 0.6330  & & \\textbf{0.9805} \\\\\n",
      " & expln aggr accuracies mean $\\uparrow$& 0.4232 & 0.8853 & \\textbf{0.9174} & 0.4908 & 0.5470  & & 0.5092  & & 0.8830 \\\\\n",
      " & nnzs mean $\\downarrow$& 0.5109 & 0.9967 & 1.0000 & 0.9998 & 0.8153  & & \\textbf{0.1996}  & & 0.7310 \\\\\n",
      " & ngroups mean $\\downarrow$& 4.9427 & 13.9300 & 21.9759 & 11.2477 & 17.1858  & & \\textbf{2.2443}  & & 6.6938 \\\\\n",
      " & comps mean $\\uparrow$& 0.0000 & 0.0000 & 0.0000 & 0.0000 & 0.0000  & & 0.0000  & & \\textbf{0.2853} \\\\\n",
      " & suffs mean $\\downarrow$& \\textbf{0.0000} & \\textbf{0.0000} & \\textbf{0.0000} & \\textbf{0.0000} & \\textbf{0.0000}  & & \\textbf{0.0000}  & & 0.0255 \\\\\n",
      " & comps original mean $\\uparrow$& 0.2560 & \\textbf{0.4666} & 0.1482 & 0.1524 & 0.1944  & & 0.0921  & & 0.2838 \\\\\n",
      " & suffs original mean $\\downarrow$& 0.4358 & 0.2657 & 0.3119 & 0.4084 & 0.2639  & & 0.3562  & & \\textbf{-0.0084} \\\\\n"
     ]
    }
   ],
   "source": [
    "\n",
    "def gen_latex_table(results_all, expl_names, expl_names_list, dataset_name, dataset_names):\n",
    "    print('\\\\toprule')\n",
    "    print(' & ', end='')\n",
    "    for expl_name in expl_names_list:\n",
    "        print('& {} '.format(expl_names[expl_name]), end='')\n",
    "    print('\\\\\\\\ \\\\midrule')\n",
    "    # print('\\\\multirow{3}{*}{' + dataset_names[dataset_name] + '} & Accuracy $\\\\uparrow$ ', end='')\n",
    "    # accuracy_mean_max = max([results_all[expl_name]['accuracy_mean'] for expl_name in expl_names_list if expl_name in results_all])\n",
    "    # for expl_name in expl_names_list:\n",
    "    #     if expl_name in results_all:\n",
    "    #         if results_all[expl_name]['accuracy_mean'] == accuracy_mean_max:\n",
    "    #             print('& \\\\textbf{{{:.4f}}} '.format(results_all[expl_name]['accuracy_mean']), end='')\n",
    "    #         else:\n",
    "    #             print('& {:.4f} '.format(results_all[expl_name]['accuracy_mean']), end='')\n",
    "    #     else:\n",
    "    #         print(' & ', end='')\n",
    "    print('\\\\\\\\')\n",
    "    for r_i, result_name in enumerate(result_names_minmax):\n",
    "        best = result_names_minmax[result_name]\n",
    "        result_name_display = ' '.join(result_name.split('_'))\n",
    "        if best == min:\n",
    "            print(f' & {result_name_display} $\\\\downarrow$', end='')\n",
    "        else:\n",
    "            print(f' & {result_name_display} $\\\\uparrow$', end='')\n",
    "        fidelity_mean_best = best([results_all[expl_name][result_name] \\\n",
    "                                    for expl_name in expl_names_list if expl_name in results_all])\n",
    "        for expl_name in expl_names_list:\n",
    "            if expl_name in results_all:\n",
    "                result_val = results_all[expl_name][result_name]\n",
    "                \n",
    "                if result_val == fidelity_mean_best:\n",
    "                    if round(result_val, 4) == 0:\n",
    "                        result_val = abs(result_val)\n",
    "                    print('& \\\\textbf{{{:.4f}}} '.format(result_val), end='')\n",
    "                else:\n",
    "                    if round(result_val, 4) == 0:\n",
    "                        result_val = abs(result_val)\n",
    "                    print('& {:.4f} '.format(result_val), end='')\n",
    "            else:\n",
    "                print(' & ', end='')\n",
    "        print('\\\\\\\\')\n",
    "    # print(' & Soft Fidelity Loss $\\\\downarrow$ ', end='')\n",
    "    # soft_fidelity_loss_min = min([results_all[expl_name]['soft_fidelity_loss_mean'] \\\n",
    "    #                               for expl_name in expl_names_list if expl_name in results_all])\n",
    "    # for expl_name in expl_names_list:\n",
    "    #     if expl_name in results_all:\n",
    "    #         if results_all[expl_name]['soft_fidelity_loss_mean'] == soft_fidelity_loss_min:\n",
    "    #             print('& \\\\textbf{{{:.4f}}} '.format(results_all[expl_name]['soft_fidelity_loss_mean']), end='')\n",
    "    #         else:\n",
    "    #             print('& {:.4f} '.format(results_all[expl_name]['soft_fidelity_loss_mean']), end='')\n",
    "    #     else:\n",
    "    #         print(' & ', end='')\n",
    "    # print('\\\\\\\\')\n",
    "    # print(' & NNZ $\\\\downarrow$ ', end='')\n",
    "    # nnz_mean_min = min([results_all[expl_name]['nnz_mean'] for expl_name in expl_names_list if expl_name in results_all])\n",
    "    # for expl_name in expl_names_list:\n",
    "    #     if expl_name in results_all:\n",
    "    #         if results_all[expl_name]['nnz_mean'] == nnz_mean_min:\n",
    "    #             print('& \\\\textbf{{{:.4f}}} '.format(results_all[expl_name]['nnz_mean']), end='')\n",
    "    #         else:\n",
    "    #             print('& {:.4f} '.format(results_all[expl_name]['nnz_mean']), end='')\n",
    "    #     else:\n",
    "    #         print(' & ', end='')\n",
    "    # print('\\\\\\\\')\n",
    "\n",
    "gen_latex_table(results_all, expl_names_all, expl_names_list, dataset_name, dataset_names)"
   ]
  },
  {
   "cell_type": "code",
   "execution_count": 32,
   "id": "c89223dc-6319-4fce-9ca0-165196c80831",
   "metadata": {
    "tags": []
   },
   "outputs": [
    {
     "name": "stdout",
     "output_type": "stream",
     "text": [
      "{}\n"
     ]
    }
   ],
   "source": [
    "import json\n",
    "import sys\n",
    "import os\n",
    "\n",
    "exp_name = 'sst_m_1h_gg2.0_gs1.0'\n",
    "dataset_name = 'sst'\n",
    "results_dir = '../exps/{}/best/results'.format(exp_name)\n",
    "\n",
    "sop_explainer_name = 'sop_gg1.0'\n",
    "\n",
    "potential_filenames = {expl_name: f'{sop_explainer_name}_{expl_name}_results.json' for expl_name in expl_names_all}\n",
    "# if 'sop' not in potential_filenames:\n",
    "potential_filenames['sop'] = f'{sop_explainer_name}_results.json'\n",
    "    \n",
    "    # print(potential_filenames)\n",
    "\n",
    "results_all = {}\n",
    "filenames_all = {}\n",
    "for filename in os.listdir(results_dir):\n",
    "    for expl_name in potential_filenames:\n",
    "        filename = potential_filenames[expl_name]\n",
    "        if os.path.exists(os.path.join(results_dir, filename)):\n",
    "            \n",
    "    # if filename in potential_filenames:\n",
    "    # if filename.endswith(f'{sop_explainer_name}_results.json'):\n",
    "            with open(os.path.join(results_dir, filename), 'r') as f:\n",
    "                results = json.load(f)\n",
    "            # expl_name = filename.split('_')[0]\n",
    "            results_all[expl_name] = results\n",
    "            filenames_all[expl_name] = filename\n",
    "print(filenames_all)\n",
    "\n",
    "expl_names_all = {\n",
    "    'lime': 'LIME',\n",
    "    'shap': 'SHAP',\n",
    "    'rise': 'RISE',\n",
    "    'gradcam': 'Grad-CAM',\n",
    "    'intgrad': 'IntGrad',\n",
    "    'archipelago': 'Archi-pelago',\n",
    "    'idg': 'IDG',\n",
    "    'pls': 'PLS',\n",
    "    'fresh': 'FRESH',\n",
    "    'sop': 'SOP (ours)'\n",
    "}\n",
    "# expl_names_list = [k for k in ['lime', 'shap', 'rise', 'gradcam', 'intgrad', 'archipelago', 'fresh', 'sop'] if k in results_all]\n",
    "if dataset_name in ['imagenet']:\n",
    "    expl_names_list = ['lime', 'shap', 'rise', 'gradcam', 'intgrad', 'archipelago', 'fresh', 'sop']\n",
    "else:\n",
    "    expl_names_list = ['lime', 'shap', 'rise', 'intgrad', 'archipelago', 'idg', 'pls', 'fresh', 'sop']\n",
    "# expl_names = {k:expl_names_all[k] for k in results_all if k in results_all}\n",
    "\n",
    "dataset_names = {\n",
    "    'imagenet': 'ImageNet',\n",
    "    'multirc': 'MultiRC',\n",
    "    'sst': 'SST'\n",
    "}\n"
   ]
  },
  {
   "cell_type": "code",
   "execution_count": null,
   "id": "d95c9fa1-de4a-4ff7-b0eb-ed584459d1e6",
   "metadata": {},
   "outputs": [],
   "source": []
  }
 ],
 "metadata": {
  "kernelspec": {
   "display_name": "Python 3 (ipykernel)",
   "language": "python",
   "name": "python3"
  },
  "language_info": {
   "codemirror_mode": {
    "name": "ipython",
    "version": 3
   },
   "file_extension": ".py",
   "mimetype": "text/x-python",
   "name": "python",
   "nbconvert_exporter": "python",
   "pygments_lexer": "ipython3",
   "version": "3.10.10"
  }
 },
 "nbformat": 4,
 "nbformat_minor": 5
}
