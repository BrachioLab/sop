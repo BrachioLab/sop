{
 "cells": [
  {
   "cell_type": "code",
   "execution_count": 3,
   "id": "8902f416-1123-485e-8308-67b2ff4b254e",
   "metadata": {
    "tags": []
   },
   "outputs": [
    {
     "name": "stderr",
     "output_type": "stream",
     "text": [
      "/opt/conda/envs/rapids/lib/python3.10/site-packages/torchvision/datapoints/__init__.py:12: UserWarning: The torchvision.datapoints and torchvision.transforms.v2 namespaces are still Beta. While we do not expect major breaking changes, some APIs may still change according to user feedback. Please submit any feedback you may have in this issue: https://github.com/pytorch/vision/issues/6753, and you can also check out https://github.com/pytorch/vision/issues/7319 to learn more about the APIs that we suspect might involve future changes. You can silence this warning by calling torchvision.disable_beta_transforms_warning().\n",
      "  warnings.warn(_BETA_TRANSFORMS_WARNING)\n",
      "/opt/conda/envs/rapids/lib/python3.10/site-packages/torchvision/transforms/v2/__init__.py:54: UserWarning: The torchvision.datapoints and torchvision.transforms.v2 namespaces are still Beta. While we do not expect major breaking changes, some APIs may still change according to user feedback. Please submit any feedback you may have in this issue: https://github.com/pytorch/vision/issues/6753, and you can also check out https://github.com/pytorch/vision/issues/7319 to learn more about the APIs that we suspect might involve future changes. You can silence this warning by calling torchvision.disable_beta_transforms_warning().\n",
      "  warnings.warn(_BETA_TRANSFORMS_WARNING)\n"
     ]
    },
    {
     "data": {
      "text/plain": [
       "{'dataset': {'name': 'imagenet_s',\n",
       "  'root': '/shared_data0/weiqiuy/datasets/imagenet'},\n",
       " 'training': {'batch_size': 16,\n",
       "  'num_epochs': 20,\n",
       "  'mask_batch_size': 64,\n",
       "  'optimizer': {'name': 'adamw', 'lr': 5e-06, 'weight_decay': 0.01}},\n",
       " 'evaluation': {'split': 'val', 'num_data': 1, 'batch_size': 16},\n",
       " 'model': {'type': 'vit',\n",
       "  'base': 'google/vit-base-patch16-224',\n",
       "  'sop': '/shared_data0/weiqiuy/sop/exps/imagenet_lr5e-06_tgtnnz0.2_gg0.0600_gs0.0100_ft_identify_fixk_scratch_ks3/best',\n",
       "  'num_classes': 1000}}"
      ]
     },
     "execution_count": 3,
     "metadata": {},
     "output_type": "execute_result"
    }
   ],
   "source": [
    "import os\n",
    "import torch\n",
    "import sys\n",
    "sys.path.append('../../lib/exlib/src')\n",
    "\n",
    "import sys\n",
    "sys.path.append('../../src')\n",
    "import sop\n",
    "\n",
    "device = torch.device('cuda' if torch.cuda.is_available() else 'cpu')\n",
    "sop.utils.seed_all(42)\n",
    "\n",
    "# config\n",
    "exp_config = sop.ImageNetConfig()\n",
    "val_config = exp_config.get_config('val_sm')\n",
    "val_config['evaluation']['batch_size'] = 16\n",
    "val_config"
   ]
  },
  {
   "cell_type": "code",
   "execution_count": 4,
   "id": "0303f1c9-6a33-4980-96fd-5ba3ca694226",
   "metadata": {
    "tags": []
   },
   "outputs": [
    {
     "name": "stdout",
     "output_type": "stream",
     "text": [
      "projection layer is not frozen\n",
      "projection layer is not frozen\n",
      "Loaded step 40100\n"
     ]
    }
   ],
   "source": [
    "backbone_model, original_model, processor, backbone_config, model, config = sop.tasks.imagenet.get_model(val_config['model']['type'],\n",
    "                                                                 backbone_model_name=val_config['model']['base'],\n",
    "                                                                 backbone_processor_name=val_config['model']['base'],\n",
    "                                                                 sop_model_name=val_config['model']['sop'], eval_mode=True\n",
    "                                                                                                        )\n",
    "\n",
    "backbone_model = backbone_model.to(device)\n",
    "original_model = original_model.to(device)\n",
    "model = model.to(device)"
   ]
  },
  {
   "cell_type": "code",
   "execution_count": 4,
   "id": "7a84021c-cf3e-4f29-a634-6dca7f935a22",
   "metadata": {
    "tags": []
   },
   "outputs": [],
   "source": [
    "methods = [\n",
    "    'shap_20',\n",
    "    'rise_20',\n",
    "    'lime_20',\n",
    "    'sop',\n",
    "    'fullgrad',\n",
    "    'gradcam',\n",
    "    'intgrad',\n",
    "    'attn',\n",
    "    'archipelago',\n",
    "    'mfaba',\n",
    "    'agi',\n",
    "    'ampe',\n",
    "    'bcos',\n",
    "    'xdnn',\n",
    "    'bagnet',\n",
    "]"
   ]
  },
  {
   "cell_type": "code",
   "execution_count": 6,
   "id": "3c6f2c3f-6d4a-4619-99c8-450001ed2c08",
   "metadata": {
    "tags": []
   },
   "outputs": [],
   "source": [
    "from sop.metrics import get_acc"
   ]
  },
  {
   "cell_type": "code",
   "execution_count": 11,
   "id": "62cc9eb6-bef0-41c5-9972-172230b10a3f",
   "metadata": {
    "tags": []
   },
   "outputs": [
    {
     "data": {
      "application/vnd.jupyter.widget-view+json": {
       "model_id": "17c521cf25e2416990048c0d2a6ef1a0",
       "version_major": 2,
       "version_minor": 0
      },
      "text/plain": [
       "  0%|          | 0/1001 [00:00<?, ?it/s]"
      ]
     },
     "metadata": {},
     "output_type": "display_data"
    },
    {
     "name": "stdout",
     "output_type": "stream",
     "text": [
      "Loaded 100 images and 100 classes\n"
     ]
    }
   ],
   "source": [
    "from sop.tasks.images.imagenet import get_explainer\n",
    "\n",
    "debug = True\n",
    "k = 0.2\n",
    "\n",
    "# method = 'lime_20'\n",
    "# explainer_name = method.split('_')[0]\n",
    "method = 'shap_20'\n",
    "\n",
    "if method == 'sop':\n",
    "    explainer = model\n",
    "else:\n",
    "    explainer = get_explainer(original_model, backbone_model, method.split('_')[0], device)\n",
    "    \n",
    "method_list = method.split('_')\n",
    "explainer_name = method_list[0]\n",
    "\n",
    "if len(method_list) == 2:\n",
    "    suffix = f'_{method_list[1]}'\n",
    "else:\n",
    "    suffix = ''\n",
    "\n",
    "if method != 'sop':\n",
    "    ATTR_VAL_DATA_DIR = f'/shared_data0/weiqiuy/sop/exps/imagenet_vit_1/attributions_seg/{explainer_name}_1_pred{suffix}/val'\n",
    "else:\n",
    "    ATTR_VAL_DATA_DIR = None\n",
    "    \n",
    "val_dataset, val_dataloader = sop.tasks.imagenet.get_dataset(val_config['dataset']['name'], \n",
    "                                          split=val_config['evaluation']['split'], \n",
    "                                          num_data=val_config['evaluation']['num_data'],\n",
    "                                          batch_size=val_config['evaluation']['batch_size'],\n",
    "                                                        attr_dir=ATTR_VAL_DATA_DIR,\n",
    "                                          processor=processor, debug=debug)"
   ]
  },
  {
   "cell_type": "code",
   "execution_count": 12,
   "id": "61dcd648-1d27-4f22-9a20-92cee4b2d2cb",
   "metadata": {
    "tags": []
   },
   "outputs": [
    {
     "data": {
      "application/vnd.jupyter.widget-view+json": {
       "model_id": "49206dcd843e4bb38da30da67c52d7ff",
       "version_major": 2,
       "version_minor": 0
      },
      "text/plain": [
       "  0%|          | 0/10 [00:00<?, ?it/s]"
      ]
     },
     "metadata": {},
     "output_type": "display_data"
    },
    {
     "data": {
      "application/vnd.jupyter.widget-view+json": {
       "model_id": "9708592e55364a9aaea1b3955bee26f6",
       "version_major": 2,
       "version_minor": 0
      },
      "text/plain": [
       "  0%|          | 0/7 [00:00<?, ?it/s]"
      ]
     },
     "metadata": {},
     "output_type": "display_data"
    }
   ],
   "source": [
    "import numpy as np\n",
    "from tqdm.auto import tqdm\n",
    "\n",
    "results_all = {}\n",
    "for k in tqdm(np.linspace(0.1, 1, 10)):\n",
    "    results = get_acc(val_dataloader, explainer, method, device, k=k, eval_all=False)\n",
    "    results_all[k] = results\n",
    "    break"
   ]
  },
  {
   "cell_type": "code",
   "execution_count": 14,
   "id": "e4b68cae-101f-479e-b518-2df8f66993bc",
   "metadata": {
    "tags": []
   },
   "outputs": [],
   "source": [
    "# save_dir = f'/shared_data0/weiqiuy/sop/results/sparsity/{val_config[\"dataset\"][\"name\"]}/'\n",
    "# os.makedirs(save_dir, exist_ok=True)\n",
    "\n",
    "# results_path = f'{save_dir}/{method}.pt'\n",
    "\n",
    "# torch.save(results, results_path)"
   ]
  },
  {
   "cell_type": "markdown",
   "id": "c6f7ed56-414d-42bc-bc27-f275d3129a07",
   "metadata": {},
   "source": [
    "# Load"
   ]
  },
  {
   "cell_type": "code",
   "execution_count": 1,
   "id": "a207f05c-d106-477f-adf9-2d550fa98419",
   "metadata": {
    "tags": []
   },
   "outputs": [],
   "source": [
    "methods = [\n",
    "    'shap_20',\n",
    "    'rise_20',\n",
    "    'lime_20',\n",
    "    'sop',\n",
    "    'fullgrad',\n",
    "    'gradcam',\n",
    "    'intgrad',\n",
    "    'attn',\n",
    "    'archipelago',\n",
    "    'mfaba',\n",
    "    'agi',\n",
    "    'ampe',\n",
    "    'bcos',\n",
    "    'xdnn',\n",
    "    'bagnet',\n",
    "]"
   ]
  },
  {
   "cell_type": "code",
   "execution_count": 7,
   "id": "af355284-edaa-4bd0-ac5e-2b4e9a34d151",
   "metadata": {
    "tags": []
   },
   "outputs": [],
   "source": [
    "results_all = {}\n",
    "for method in methods:\n",
    "    save_dir = f'/shared_data0/weiqiuy/sop/results/sparsity/{val_config[\"dataset\"][\"name\"]}/'\n",
    "    results_path = f'{save_dir}/{method}.pt'\n",
    "    results = torch.load(results_path)\n",
    "    results_all[method] = results"
   ]
  },
  {
   "cell_type": "code",
   "execution_count": 19,
   "id": "7ab330bf-b864-45d7-835f-c4d8ce4d3c16",
   "metadata": {
    "tags": []
   },
   "outputs": [
    {
     "data": {
      "text/plain": [
       "dict_keys([0.1, 0.2, 0.30000000000000004, 0.4, 0.5, 0.6, 0.7000000000000001, 0.8, 0.9, 1.0])"
      ]
     },
     "execution_count": 19,
     "metadata": {},
     "output_type": "execute_result"
    }
   ],
   "source": [
    "results_all[method].keys()"
   ]
  },
  {
   "cell_type": "code",
   "execution_count": 25,
   "id": "9d4f5cb5-f81c-45f1-85c1-f5c707be6c73",
   "metadata": {
    "tags": []
   },
   "outputs": [
    {
     "data": {
      "text/plain": [
       "dict_keys(['shap_20', 'rise_20', 'lime_20', 'sop', 'fullgrad', 'gradcam', 'intgrad', 'attn', 'archipelago', 'mfaba', 'agi', 'ampe', 'bcos', 'xdnn', 'bagnet'])"
      ]
     },
     "execution_count": 25,
     "metadata": {},
     "output_type": "execute_result"
    }
   ],
   "source": [
    "results_all.keys()"
   ]
  },
  {
   "cell_type": "code",
   "execution_count": 47,
   "id": "6429740d-23f0-43a6-ae8a-ed01836758d0",
   "metadata": {
    "tags": []
   },
   "outputs": [
    {
     "data": {
      "image/png": "[encoded data removed]",
      "text/plain": [
       "<Figure size 260x200 with 1 Axes>"
      ]
     },
     "metadata": {},
     "output_type": "display_data"
    }
   ],
   "source": [
    "# Acc plot\n",
    "import numpy as np\n",
    "import matplotlib.pyplot as plt\n",
    "\n",
    "import matplotlib.cm as cm\n",
    "\n",
    "plt.rcParams.update({\n",
    "    'font.size': 9,\n",
    "    # 'font.family': [] #'Times New Roman'\n",
    "})  # Set a default font size\n",
    "\n",
    "\n",
    "name_mapping = {\n",
    "    'lime_20': 'LIME-F',\n",
    "    'shap_20': 'SHAP-F',\n",
    "    'intgrad': 'IG-F',\n",
    "    'gradcam': 'GC-F',\n",
    "    'fullgrad': 'FG-F',\n",
    "    'rise_20': 'RISE-F',\n",
    "    'archipelago': 'Archi-F',\n",
    "    'mfaba': 'MFABA-F',\n",
    "    'agi': 'AGI-F',\n",
    "    'ampe': 'AMPE-F',\n",
    "    'bcos': 'BCos-F',\n",
    "    'xdnn': 'XDNN',\n",
    "    'bagnet': 'BagNet',\n",
    "    'attn': 'FRESH',\n",
    "    'sop': 'SOP',\n",
    "}\n",
    "\n",
    "# Data provided by the user\n",
    "data = {key: results_all[key] for key in name_mapping}\n",
    "\n",
    "# X-axis for the plot (assuming these are the points of interest or epochs)\n",
    "# x = list(range(1, 11))\n",
    "x = np.linspace(0.1, 1, 10)\n",
    "\n",
    "colors_all = cm.get_cmap('tab20')  # The second argument specifies how many discrete colors to generate\n",
    "# hatches_all = ['///', '\\\\\\\\\\\\', '---', '++++', 'xxxx', 'oo', 'OO', '...', '**', '\\\\\\\\\\\\...', '']\n",
    "# hatches_all = ['///', '\\\\\\\\\\\\', '---', '++++', 'xxxx', 'oo','...', '**', '']\n",
    "\n",
    "# # # Generate colors from the colormap\n",
    "colors = [colors_all(i) for i in range(len(name_mapping))]  # tab10.N is 10\n",
    "# hatches = [hatches_all[i] for i in range(len(name_mapping))]\n",
    "\n",
    "# Assigning different line styles to each line for better differentiation\n",
    "# line_styles = ['--', '-.', ':', (0, (3, 5, 1, 5)), (0, (3, 1, 1, 1, 1, 1)), (0, (5, 10)), (0, (5, 5)), (0, (3, 10, 1, 10)), '-']\n",
    "# line_styles = ['-'] * len(colors)\n",
    "line_styles = [\n",
    "    '--',                   # Dashed line\n",
    "    '-.',                   # Dash-dot line\n",
    "    ':',                    # Dotted line\n",
    "    (0, (5, 10)),           # Long dashed line\n",
    "    (0, (3, 5, 1, 5)),      # Dash-dot-dot line\n",
    "    (0, (5, 5)),            # Densely dashed line\n",
    "    (0, (3, 1, 1, 1)),      # Densely dash-dot line\n",
    "    (0, (3, 10, 1, 10)),    # Loosely dash-dot line\n",
    "    (0, (1, 1)),            # Densely dotted line\n",
    "    (0, (1, 10)),           # Loosely dotted line\n",
    "    (0, (3, 5, 1, 5, 1, 5)),  # Dash-dot-dot-dot line\n",
    "    (0, (5, 1)),            # Densely dashed line (alternative)\n",
    "    (0, (3, 1, 1, 1, 1, 1)),  # Densely dash-dot-dot line\n",
    "    (0, (10, 5)),            # Loosely dashed line (alternative)\n",
    "    '-',                    # Solid line\n",
    "]\n",
    "\n",
    "# Plotting with updated line styles\n",
    "plt.figure(figsize=(2.6, 2))  # Adjusted for better visualization\n",
    "for (key, values), style, color in zip(data.items(), line_styles, colors):\n",
    "    # print(values)\n",
    "    # print(list(range(len(values) - 1, -1, -1)))\n",
    "    # print(list(values.values()))\n",
    "    # print(key)\n",
    "    plt.plot([1 - xi for xi in x], [1 - list(values.values())[i]['acc'] for i in range(len(values))], label=name_mapping[key], linestyle=style, color=color)\n",
    "\n",
    "    # plt.plot(x, [1 - list(values.values())[i] for i in range(len(values) - 1, -1, -1)], label=name_mapping[key], linestyle=style, color=color)\n",
    "\n",
    "plt.title('ImageNet - VisionTransformer')\n",
    "plt.xlabel('Sparsity')\n",
    "plt.ylabel('Error')\n",
    "# plt.legend(loc='upper left', bbox_to_anchor=(0.5, -0.15), ncol=3)\n",
    "legend = plt.legend(title=\"Method\", bbox_to_anchor=(1.05, 1), loc='upper left',  ncol=2,\n",
    "                   labelspacing=0.2, handlelength=2, handletextpad=0.5, \n",
    "                   handleheight=0.5, borderpad=0.5)\n",
    "# plt.legend(title=\"Method\", bbox_to_anchor=(1.05, 1), loc='upper left', ncol=2,\n",
    "#            labelspacing=0.2, handlelength=1, handletextpad=0.5, \n",
    "#            handleheight=0.5, borderpad=0.5)\n",
    "plt.grid(True)\n",
    "plt.savefig('imagenet_figs/acc_sparsity_imagenet.pdf', dpi=300, bbox_inches='tight', pad_inches=0)\n",
    "plt.show()\n"
   ]
  },
  {
   "cell_type": "code",
   "execution_count": 16,
   "id": "d3e6cbf2-d2ef-4a18-8ad7-c4c872997350",
   "metadata": {
    "tags": []
   },
   "outputs": [
    {
     "data": {
      "text/plain": [
       "('/shared_data0/weiqiuy/sop/results/sparsity/imagenet_s/',\n",
       " '/shared_data0/weiqiuy/sop/results/sparsity/imagenet_s//shap_20.pt')"
      ]
     },
     "execution_count": 16,
     "metadata": {},
     "output_type": "execute_result"
    }
   ],
   "source": [
    "save_dir, results_path"
   ]
  },
  {
   "cell_type": "code",
   "execution_count": 17,
   "id": "0274a380-d4c7-4fab-8855-d0e3fd3ca0cc",
   "metadata": {
    "tags": []
   },
   "outputs": [],
   "source": [
    "data = torch.load(results_path)"
   ]
  },
  {
   "cell_type": "code",
   "execution_count": 18,
   "id": "502447a1-d074-42b0-ac34-6da29ed2ac1d",
   "metadata": {
    "tags": []
   },
   "outputs": [
    {
     "data": {
      "text/plain": [
       "{'acc': 0.5625,\n",
       " 'corrects': [False,\n",
       "  False,\n",
       "  False,\n",
       "  True,\n",
       "  False,\n",
       "  True,\n",
       "  False,\n",
       "  True,\n",
       "  True,\n",
       "  False,\n",
       "  True,\n",
       "  True,\n",
       "  True,\n",
       "  True,\n",
       "  True,\n",
       "  False]}"
      ]
     },
     "execution_count": 18,
     "metadata": {},
     "output_type": "execute_result"
    }
   ],
   "source": [
    "data"
   ]
  },
  {
   "cell_type": "code",
   "execution_count": null,
   "id": "640db865-7a2e-42f7-a716-c45568252793",
   "metadata": {},
   "outputs": [],
   "source": []
  }
 ],
 "metadata": {
  "kernelspec": {
   "display_name": "Python 3 (ipykernel)",
   "language": "python",
   "name": "python3"
  },
  "language_info": {
   "codemirror_mode": {
    "name": "ipython",
    "version": 3
   },
   "file_extension": ".py",
   "mimetype": "text/x-python",
   "name": "python",
   "nbconvert_exporter": "python",
   "pygments_lexer": "ipython3",
   "version": "3.10.10"
  }
 },
 "nbformat": 4,
 "nbformat_minor": 5
}
