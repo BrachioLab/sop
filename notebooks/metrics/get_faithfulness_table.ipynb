{
 "cells": [
  {
   "cell_type": "code",
   "execution_count": 45,
   "id": "d068b8b4-b1f1-44e0-9d7f-50f0142d7464",
   "metadata": {
    "tags": []
   },
   "outputs": [],
   "source": [
    "# methods = [\n",
    "#     'lime_20', # pert\n",
    "#     'shap_20', # pert\n",
    "#     'intgrad', # grad\n",
    "#     'gradcam', # grad\n",
    "#     'fullgrad', # grad\n",
    "#     'rise_20', # pert\n",
    "#     'archipelago', # pert?\n",
    "#     'mfaba', # attak with grad\n",
    "#     'agi', # attack with grad\n",
    "#     'ampe', # attack\n",
    "#     'bcos', # \n",
    "#     'xdnn', # gradient x input\n",
    "#     'bagnet', # by construction\n",
    "#     'attn', # by construction\n",
    "#     'sop', # by construction\n",
    "# ]\n",
    "\n",
    "name_mapping = {\n",
    "    'lime': {'name': 'LIME', 'category': 'Post Hoc'},\n",
    "    'shap': {'name': 'SHAP', 'category': 'Post Hoc'},\n",
    "    'rise': {'name': 'RISE', 'category': 'Post Hoc'},\n",
    "    'lime_20': {'name': 'LIME', 'category': 'Post Hoc'}, # pert\n",
    "    'shap_20': {'name': 'SHAP', 'category': 'Post Hoc'}, # pert\n",
    "    'intgrad': {'name': 'IG', 'category': 'Post Hoc'}, # grad\n",
    "    'gradcam': {'name': 'GC', 'category': 'Post Hoc'}, # grad\n",
    "    'fullgrad': {'name': 'FG', 'category': 'Post Hoc'}, # grad\n",
    "    'rise_20': {'name': 'RISE', 'category': 'Post Hoc'}, # pert\n",
    "    'archipelago': {'name': 'Archi.', 'category': 'Post Hoc'}, # pert?\n",
    "    'mfaba': {'name': 'MFABA', 'category': 'Post Hoc'}, # attak with grad\n",
    "    'agi': {'name': 'AGI', 'category': 'Post Hoc'}, # attack with grad\n",
    "    'ampe': {'name': 'AMPE', 'category': 'Post Hoc'}, # attack\n",
    "    'bcos': {'name': 'BCos', 'category': 'Post Hoc'}, # \n",
    "    'xdnn': {'name': 'XDNN', 'category': 'Post Hoc'}, # gradient x input\n",
    "    'bagnet': {'name': 'BagNet', 'category': 'Faithful'}, # by construction\n",
    "    'attn': {'name': 'FRESH', 'category': 'Faithful'}, # by construction\n",
    "    'sop': {'name': 'SOP', 'category': 'Faithful'}, # by construction\n",
    "}"
   ]
  },
  {
   "cell_type": "code",
   "execution_count": 4,
   "id": "b864580c-4295-4411-a7d9-31d4a8a074db",
   "metadata": {
    "tags": []
   },
   "outputs": [],
   "source": [
    "metrics = {\n",
    "    'fid': 'fids_dict.pt',\n",
    "    'ins': 'inss_dict.pt',\n",
    "    'del': 'dels_dict.pt'\n",
    "}"
   ]
  },
  {
   "cell_type": "code",
   "execution_count": 12,
   "id": "9fcb57fb-6c8c-4d65-899f-ea3c3f1c6c6a",
   "metadata": {
    "tags": []
   },
   "outputs": [],
   "source": [
    "import random\n",
    "import numpy as np\n",
    "\n",
    "def bootstrap(data_list, num_bootstrap=4, num_samples=None, seed=0):\n",
    "    if num_samples is None:\n",
    "        num_samples = len(data_list)\n",
    "    means = []\n",
    "    random.seed(seed)\n",
    "    for i in range(num_bootstrap):\n",
    "        exp_idxs = random.choices(list(range(num_samples)), k=num_samples)\n",
    "        means.append(np.mean([data_list[di] for di in exp_idxs]))\n",
    "    return np.std(means)"
   ]
  },
  {
   "cell_type": "code",
   "execution_count": 47,
   "id": "d0537549-f010-4361-ba3b-5fa4b5d6ff0f",
   "metadata": {
    "tags": []
   },
   "outputs": [],
   "source": [
    "import torch\n",
    "from collections import defaultdict\n",
    "import numpy as np\n",
    "\n",
    "data = defaultdict(dict)\n",
    "\n",
    "for metric in metrics:\n",
    "    metric_data = torch.load(metrics[metric])\n",
    "    for k in metric_data:\n",
    "        # print(metric_data[k])\n",
    "        metric_data_k = metric_data[k]\n",
    "        if isinstance(metric_data_k, torch.Tensor):\n",
    "            metric_data_k = metric_data_k.tolist()\n",
    "        metric_mean = np.mean(metric_data_k)\n",
    "        metric_std = bootstrap(metric_data_k)\n",
    "        \n",
    "        data[name_mapping[k]['name']][metric] = {\n",
    "            'mean': metric_mean,\n",
    "            'std': metric_std\n",
    "        }"
   ]
  },
  {
   "cell_type": "code",
   "execution_count": 48,
   "id": "6be2b996-70cc-452b-a4e1-b8f659c55295",
   "metadata": {
    "tags": []
   },
   "outputs": [],
   "source": [
    "data['SOP']['fid'] = {'mean': 0, 'std': 0}\n",
    "data['FRESH']['fid'] = {'mean': 0, 'std': 0}"
   ]
  },
  {
   "cell_type": "code",
   "execution_count": 49,
   "id": "f34f1c05-cc65-48ae-aecf-bf9b94723929",
   "metadata": {
    "tags": []
   },
   "outputs": [
    {
     "name": "stdout",
     "output_type": "stream",
     "text": [
      "\\begin{tabularx}{\\textwidth}{c|c|*{3}{>{\\centering\\arraybackslash}X}}\n",
      "\\toprule\n",
      "\\multirow{2}{*}{Category} & \\multirow{2}{*}{Method} & \\multicolumn{3}{c}{\\textbf{ImageNet}} \\\\\n",
      "& & Fid.$\\downarrow$ & Ins.$\\uparrow$ & Del.$\\downarrow$ \\\\\n",
      "\\midrule\n",
      "\\multirow{15}{*}{Post Hoc} & LIME & 3.866 $\\pm$ 0.244 & 0.859 $\\pm$ 0.005 & 0.476 $\\pm$ 0.004 \\\\\n",
      "& SHAP & 0.015 $\\pm$ 0.006 & \\textit{0.878 $\\pm$ 0.007} & 0.421 $\\pm$ 0.008 \\\\\n",
      "& RISE & 0.884 $\\pm$ 0.533 & 0.635 $\\pm$ 0.007 & 0.708 $\\pm$ 0.003 \\\\\n",
      "& LIME & 3.866 $\\pm$ 0.244 & 0.859 $\\pm$ 0.005 & 0.476 $\\pm$ 0.004 \\\\\n",
      "& SHAP & 0.015 $\\pm$ 0.006 & \\textit{0.878 $\\pm$ 0.007} & 0.421 $\\pm$ 0.008 \\\\\n",
      "& IG & 7.161 $\\pm$ 0.212 & 0.661 $\\pm$ 0.006 & 0.664 $\\pm$ 0.008 \\\\\n",
      "& GC & 10.406 $\\pm$ 1.098 & 0.817 $\\pm$ 0.007 & 0.416 $\\pm$ 0.007 \\\\\n",
      "& FG & 13.567 $\\pm$ 0.158 & 0.805 $\\pm$ 0.006 & 0.430 $\\pm$ 0.004 \\\\\n",
      "& RISE & 0.884 $\\pm$ 0.533 & 0.635 $\\pm$ 0.007 & 0.708 $\\pm$ 0.003 \\\\\n",
      "& Archi. & 10.850 $\\pm$ 0.354 & 0.719 $\\pm$ 0.004 & 0.548 $\\pm$ 0.004 \\\\\n",
      "& MFABA & 6.674 $\\pm$ 0.166 & 0.720 $\\pm$ 0.005 & 0.547 $\\pm$ 0.010 \\\\\n",
      "& AGI & 5.416 $\\pm$ 0.549 & 0.781 $\\pm$ 0.007 & 0.509 $\\pm$ 0.007 \\\\\n",
      "& AMPE & 13.671 $\\pm$ 0.326 & 0.723 $\\pm$ 0.006 & 0.581 $\\pm$ 0.005 \\\\\n",
      "& BCos & 13.372 $\\pm$ 0.373 & 0.102 $\\pm$ 0.000 & \\textbf{0.102 $\\pm$ 0.000} \\\\\n",
      "& XDNN & \\textit{0.000 $\\pm$ 0.000} & 0.251 $\\pm$ 0.007 & 0.210 $\\pm$ 0.003 \\\\\n",
      "\\midrule\n",
      "\\multirow{3}{*}{Faithful} & BagNet & \\textbf{0.000 $\\pm$ 0.000} & 0.626 $\\pm$ 0.014 & 0.595 $\\pm$ 0.009 \\\\\n",
      "& FRESH & \\textbf{0.000 $\\pm$ 0.000} & 0.759 $\\pm$ 0.003 & 0.417 $\\pm$ 0.004 \\\\\n",
      "& SOP & \\textbf{0.000 $\\pm$ 0.000} & \\textbf{0.930 $\\pm$ 0.003} & \\textit{0.109 $\\pm$ 0.000} \\\\\n",
      "\\bottomrule\n",
      "\\end{tabularx}\n"
     ]
    }
   ],
   "source": [
    "import numpy as np\n",
    "\n",
    "def format_value(value, std, bold=False, italic=False):\n",
    "    if value is None or np.isnan(value):\n",
    "        return '-'\n",
    "    formatted = f\"{value:.3f} $\\\\pm$ {std:.3f}\"\n",
    "    if bold:\n",
    "        formatted = f\"\\\\textbf{{{formatted}}}\"\n",
    "    elif italic:\n",
    "        formatted = f\"\\\\textit{{{formatted}}}\"\n",
    "    return formatted\n",
    "\n",
    "def print_table(data, name_mapping):\n",
    "    print(\"\\\\begin{tabularx}{\\\\textwidth}{c|c|*{3}{>{\\\\centering\\\\arraybackslash}X}}\")\n",
    "    print(\"\\\\toprule\")\n",
    "    print(\"\\\\multirow{2}{*}{Category} & \\\\multirow{2}{*}{Method} & \\\\multicolumn{3}{c}{\\\\textbf{ImageNet}} \\\\\\\\\")\n",
    "    print(\"& & Fid.$\\\\downarrow$ & Ins.$\\\\uparrow$ & Del.$\\\\downarrow$ \\\\\\\\\")\n",
    "    print(\"\\\\midrule\")\n",
    "\n",
    "    categories = ['Post Hoc', 'Faithful']\n",
    "    metrics = ['fid', 'ins', 'del']\n",
    "\n",
    "    all_values = []\n",
    "    for category in categories:\n",
    "        methods = [v['name'] for k, v in name_mapping.items() if v['category'] == category]\n",
    "        for method in methods:\n",
    "            values = []\n",
    "            for metric in metrics:\n",
    "                if method in data and metric in data[method] and data[method][metric] is not None:\n",
    "                    mean = round(data[method][metric]['mean'], 6)\n",
    "                    std = round(data[method][metric]['std'], 6)\n",
    "                    values.append((mean, std))\n",
    "                else:\n",
    "                    values.append(None)\n",
    "            all_values.append((category, method, values))\n",
    "\n",
    "    # Determine best and second-best values for each column\n",
    "    best_values = [min((v[0] for _, _, row in all_values for v in [row[0]] if v is not None), default=None),\n",
    "                   max((v[0] for _, _, row in all_values for v in [row[1]] if v is not None), default=None),\n",
    "                   min((v[0] for _, _, row in all_values for v in [row[2]] if v is not None), default=None)]\n",
    "    \n",
    "    second_best_values = [sorted(set(v[0] for _, _, row in all_values for v in [row[0]] if v is not None))[1] if len(set(v[0] for _, _, row in all_values for v in [row[0]] if v is not None)) > 1 else None,\n",
    "                          sorted(set(v[0] for _, _, row in all_values for v in [row[1]] if v is not None), reverse=True)[1] if len(set(v[0] for _, _, row in all_values for v in [row[1]] if v is not None)) > 1 else None,\n",
    "                          sorted(set(v[0] for _, _, row in all_values for v in [row[2]] if v is not None))[1] if len(set(v[0] for _, _, row in all_values for v in [row[2]] if v is not None)) > 1 else None]\n",
    "\n",
    "    current_category = None\n",
    "    for category, method, values in all_values:\n",
    "        if category != current_category:\n",
    "            if current_category is not None:\n",
    "                print(\"\\\\midrule\")\n",
    "            print(f\"\\\\multirow{{{len([m for c, m, _ in all_values if c == category])}}}{{*}}{{{category}}} & \", end=\"\")\n",
    "            current_category = category\n",
    "        else:\n",
    "            print(\"& \", end=\"\")\n",
    "\n",
    "        formatted_values = []\n",
    "        for i, value in enumerate(values):\n",
    "            if value is not None:\n",
    "                is_best = value[0] == best_values[i]\n",
    "                is_second_best = value[0] == second_best_values[i]\n",
    "                formatted_values.append(format_value(value[0], value[1], bold=is_best, italic=is_second_best))\n",
    "            else:\n",
    "                formatted_values.append('-')\n",
    "\n",
    "        print(f\"{method} & {' & '.join(formatted_values)} \\\\\\\\\")\n",
    "\n",
    "    print(\"\\\\bottomrule\")\n",
    "    print(\"\\\\end{tabularx}\")\n",
    "\n",
    "# Your data dictionary and name_mapping remain the same\n",
    "# ...\n",
    "\n",
    "print_table(data, name_mapping)"
   ]
  },
  {
   "cell_type": "code",
   "execution_count": null,
   "id": "be3c7fab-9f97-42ff-bb04-bba635e4b69c",
   "metadata": {},
   "outputs": [],
   "source": []
  },
  {
   "cell_type": "code",
   "execution_count": null,
   "id": "7bb80e41-23e4-49e1-b230-92d6a7278a27",
   "metadata": {},
   "outputs": [],
   "source": []
  }
 ],
 "metadata": {
  "kernelspec": {
   "display_name": "Python 3 (ipykernel)",
   "language": "python",
   "name": "python3"
  },
  "language_info": {
   "codemirror_mode": {
    "name": "ipython",
    "version": 3
   },
   "file_extension": ".py",
   "mimetype": "text/x-python",
   "name": "python",
   "nbconvert_exporter": "python",
   "pygments_lexer": "ipython3",
   "version": "3.10.10"
  }
 },
 "nbformat": 4,
 "nbformat_minor": 5
}
