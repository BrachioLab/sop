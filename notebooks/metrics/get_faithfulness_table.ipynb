{
 "cells": [
  {
   "cell_type": "code",
   "execution_count": 1,
   "id": "048e5fb6-62ec-4c9d-bc23-00d2c22509bc",
   "metadata": {
    "tags": []
   },
   "outputs": [],
   "source": [
    "# methods = [\n",
    "#     'lime_20', # pert\n",
    "#     'shap_20', # pert\n",
    "#     'intgrad', # grad\n",
    "#     'gradcam', # grad\n",
    "#     'fullgrad', # grad\n",
    "#     'rise_20', # pert\n",
    "#     'archipelago', # pert?\n",
    "#     'mfaba', # attak with grad\n",
    "#     'agi', # attack with grad\n",
    "#     'ampe', # attack\n",
    "#     'bcos', # \n",
    "#     'xdnn', # gradient x input\n",
    "#     'bagnet', # by construction\n",
    "#     'attn', # by construction\n",
    "#     'sop', # by construction\n",
    "# ]\n",
    "\n",
    "name_mapping = {\n",
    "    'lime': {'name': 'LIME', 'category': 'Post Hoc'},\n",
    "    'shap': {'name': 'SHAP', 'category': 'Post Hoc'},\n",
    "    'rise': {'name': 'RISE', 'category': 'Post Hoc'},\n",
    "    'lime_20': {'name': 'LIME', 'category': 'Post Hoc'}, # pert\n",
    "    'shap_20': {'name': 'SHAP', 'category': 'Post Hoc'}, # pert\n",
    "    'intgrad': {'name': 'IG', 'category': 'Post Hoc'}, # grad\n",
    "    'gradcam': {'name': 'GC', 'category': 'Post Hoc'}, # grad\n",
    "    'fullgrad': {'name': 'FG', 'category': 'Post Hoc'}, # grad\n",
    "    'rise_20': {'name': 'RISE', 'category': 'Post Hoc'}, # pert\n",
    "    'archipelago': {'name': 'Archi.', 'category': 'Post Hoc'}, # pert?\n",
    "    'mfaba': {'name': 'MFABA', 'category': 'Post Hoc'}, # attak with grad\n",
    "    'agi': {'name': 'AGI', 'category': 'Post Hoc'}, # attack with grad\n",
    "    'ampe': {'name': 'AMPE', 'category': 'Post Hoc'}, # attack\n",
    "    'bcos': {'name': 'BCos', 'category': 'Post Hoc'}, # \n",
    "    'xdnn': {'name': 'XDNN', 'category': 'Post Hoc'}, # gradient x input\n",
    "    'bagnet': {'name': 'BagNet', 'category': 'Faithful'}, # by construction\n",
    "    'attn': {'name': 'FRESH', 'category': 'Faithful'}, # by construction\n",
    "    'sop': {'name': 'SOP', 'category': 'Faithful'}, # by construction\n",
    "}"
   ]
  },
  {
   "cell_type": "markdown",
   "id": "e306a860-2ffd-46c5-a8f6-8934f8767574",
   "metadata": {},
   "source": [
    "# Faithfulness Table"
   ]
  },
  {
   "cell_type": "code",
   "execution_count": 2,
   "id": "b864580c-4295-4411-a7d9-31d4a8a074db",
   "metadata": {
    "tags": []
   },
   "outputs": [],
   "source": [
    "metrics = {\n",
    "    'fid': 'fids_dict.pt',\n",
    "    'ins': 'inss_dict.pt',\n",
    "    'del': 'dels_dict.pt'\n",
    "}"
   ]
  },
  {
   "cell_type": "code",
   "execution_count": 4,
   "id": "9fcb57fb-6c8c-4d65-899f-ea3c3f1c6c6a",
   "metadata": {
    "tags": []
   },
   "outputs": [],
   "source": [
    "import random\n",
    "import numpy as np\n",
    "\n",
    "def bootstrap(data_list, num_bootstrap=4, num_samples=None, seed=0):\n",
    "    if num_samples is None:\n",
    "        num_samples = len(data_list)\n",
    "    means = []\n",
    "    random.seed(seed)\n",
    "    for i in range(num_bootstrap):\n",
    "        exp_idxs = random.choices(list(range(num_samples)), k=num_samples)\n",
    "        means.append(np.mean([data_list[di] for di in exp_idxs]))\n",
    "    return np.std(means)"
   ]
  },
  {
   "cell_type": "code",
   "execution_count": 4,
   "id": "d0537549-f010-4361-ba3b-5fa4b5d6ff0f",
   "metadata": {
    "tags": []
   },
   "outputs": [],
   "source": [
    "import torch\n",
    "from collections import defaultdict\n",
    "import numpy as np\n",
    "\n",
    "data = defaultdict(dict)\n",
    "\n",
    "for metric in metrics:\n",
    "    metric_data = torch.load(metrics[metric])\n",
    "    for k in metric_data:\n",
    "        # print(metric_data[k])\n",
    "        metric_data_k = metric_data[k]\n",
    "        if isinstance(metric_data_k, torch.Tensor):\n",
    "            metric_data_k = metric_data_k.tolist()\n",
    "        metric_mean = np.mean(metric_data_k)\n",
    "        metric_std = bootstrap(metric_data_k)\n",
    "        \n",
    "        data[name_mapping[k]['name']][metric] = {\n",
    "            'mean': metric_mean,\n",
    "            'std': metric_std\n",
    "        }"
   ]
  },
  {
   "cell_type": "code",
   "execution_count": 5,
   "id": "6be2b996-70cc-452b-a4e1-b8f659c55295",
   "metadata": {
    "tags": []
   },
   "outputs": [],
   "source": [
    "data['SOP']['fid'] = {'mean': 0, 'std': 0}\n",
    "data['FRESH']['fid'] = {'mean': 0, 'std': 0}"
   ]
  },
  {
   "cell_type": "code",
   "execution_count": 6,
   "id": "2f899662-4d6f-4906-aaf3-3d8344869e78",
   "metadata": {
    "tags": []
   },
   "outputs": [
    {
     "data": {
      "text/plain": [
       "defaultdict(dict,\n",
       "            {'LIME': {'fid': {'mean': 3.8659593040449547,\n",
       "               'std': 0.24447320699391215},\n",
       "              'ins': {'mean': 0.8594826424045171,\n",
       "               'std': 0.0047404675164642385},\n",
       "              'del': {'mean': 0.4759477342731027,\n",
       "               'std': 0.0044879419120097755}},\n",
       "             'SHAP': {'fid': {'mean': 0.015066511677321157,\n",
       "               'std': 0.0055835503101662205},\n",
       "              'ins': {'mean': 0.8781494490159503, 'std': 0.00675367555679661},\n",
       "              'del': {'mean': 0.4211493296650733,\n",
       "               'std': 0.007620442914370582}},\n",
       "             'RISE': {'fid': {'mean': 0.8835330924589653,\n",
       "               'std': 0.5331996520981681},\n",
       "              'ins': {'mean': 0.6352594335778282,\n",
       "               'std': 0.0074599545546029464},\n",
       "              'del': {'mean': 0.7078599741135145,\n",
       "               'std': 0.0032852447086318634}},\n",
       "             'IG': {'fid': {'mean': 7.161289486885071,\n",
       "               'std': 0.21186511951130466},\n",
       "              'ins': {'mean': 0.6605047676880771, 'std': 0.005709366917825922},\n",
       "              'del': {'mean': 0.6637644381598764,\n",
       "               'std': 0.007872170570633878}},\n",
       "             'GC': {'fid': {'mean': 10.406403705238482,\n",
       "               'std': 1.0978122138216353},\n",
       "              'ins': {'mean': 0.8173424777666206,\n",
       "               'std': 0.0074310503017438745},\n",
       "              'del': {'mean': 0.4155723768524423,\n",
       "               'std': 0.0066543870374291235}},\n",
       "             'Archi.': {'fid': {'mean': 10.850021804536228,\n",
       "               'std': 0.3538642050955011},\n",
       "              'ins': {'mean': 0.7187009322539243,\n",
       "               'std': 0.0036562620680036717},\n",
       "              'del': {'mean': 0.548131956821885, 'std': 0.004185139606819867}},\n",
       "             'FG': {'fid': {'mean': 13.56747115790844,\n",
       "               'std': 0.15792817867485517},\n",
       "              'ins': {'mean': 0.8051354604875227, 'std': 0.005874145273342779},\n",
       "              'del': {'mean': 0.43027212324771347,\n",
       "               'std': 0.004473701611854802}},\n",
       "             'MFABA': {'fid': {'mean': 6.673640100639314,\n",
       "               'std': 0.16586381671296135},\n",
       "              'ins': {'mean': 0.7202281690683865, 'std': 0.005383361975662826},\n",
       "              'del': {'mean': 0.5466360445832881,\n",
       "               'std': 0.009746864743647221}},\n",
       "             'AGI': {'fid': {'mean': 5.415879038769053,\n",
       "               'std': 0.5494478242718213},\n",
       "              'ins': {'mean': 0.7811045738491488, 'std': 0.006634323247085549},\n",
       "              'del': {'mean': 0.5091109386202796,\n",
       "               'std': 0.0069335338523162145}},\n",
       "             'AMPE': {'fid': {'mean': 13.670511112213134,\n",
       "               'std': 0.32588652284694813},\n",
       "              'ins': {'mean': 0.7234426172037536, 'std': 0.006371603622017372},\n",
       "              'del': {'mean': 0.5809504300499239,\n",
       "               'std': 0.004558024303053123}},\n",
       "             'BCos': {'fid': {'mean': 13.371791742355562,\n",
       "               'std': 0.3728135637535913},\n",
       "              'ins': {'mean': 0.30830641975092515,\n",
       "               'std': 0.004690037375351503},\n",
       "              'del': {'mean': 0.3391921275119559, 'std': 0.00868780585066527}},\n",
       "             'XDNN': {'fid': {'mean': 9.024063592123505e-07,\n",
       "               'std': 4.07438284094793e-07},\n",
       "              'ins': {'mean': 0.25094140601082926,\n",
       "               'std': 0.006953914936172656},\n",
       "              'del': {'mean': 0.2101482404597633,\n",
       "               'std': 0.003187703266948261}},\n",
       "             'BagNet': {'fid': {'mean': 7.588969310745597e-09,\n",
       "               'std': 5.581192154281644e-09},\n",
       "              'ins': {'mean': 0.6264807908463602, 'std': 0.014172917307950965},\n",
       "              'del': {'mean': 0.5946418239662056,\n",
       "               'std': 0.008635723889618887}},\n",
       "             'SOP': {'ins': {'mean': 0.930032776511611,\n",
       "               'std': 0.003435620469463416},\n",
       "              'del': {'mean': 0.10858881190715157,\n",
       "               'std': 0.00010518287199224177},\n",
       "              'fid': {'mean': 0, 'std': 0}},\n",
       "             'FRESH': {'ins': {'mean': 0.758708539975525,\n",
       "               'std': 0.002538985024177587},\n",
       "              'del': {'mean': 0.4173078415048209,\n",
       "               'std': 0.0044469323925970155},\n",
       "              'fid': {'mean': 0, 'std': 0}}})"
      ]
     },
     "execution_count": 6,
     "metadata": {},
     "output_type": "execute_result"
    }
   ],
   "source": [
    "data"
   ]
  },
  {
   "cell_type": "code",
   "execution_count": 10,
   "id": "9b9e847f-b0d6-4b6f-8fa4-6c4672609bbf",
   "metadata": {
    "tags": []
   },
   "outputs": [
    {
     "name": "stdout",
     "output_type": "stream",
     "text": [
      "\\begin{tabular}{c|c}\n",
      "\\toprule\n",
      "Method & Fidelity$\\downarrow$ \\\\\n",
      "\\midrule\n",
      "XDNN & \\textbf{0.000 $\\pm$ 0.000} \\\\\n",
      "SHAP & \\textit{0.015 $\\pm$ 0.006} \\\\\n",
      "SHAP & \\textit{0.015 $\\pm$ 0.006} \\\\\n",
      "RISE & 0.884 $\\pm$ 0.533 \\\\\n",
      "RISE & 0.884 $\\pm$ 0.533 \\\\\n",
      "LIME & 3.866 $\\pm$ 0.244 \\\\\n",
      "LIME & 3.866 $\\pm$ 0.244 \\\\\n",
      "AGI & 5.416 $\\pm$ 0.549 \\\\\n",
      "MFABA & 6.674 $\\pm$ 0.166 \\\\\n",
      "IG & 7.161 $\\pm$ 0.212 \\\\\n",
      "GC & 10.406 $\\pm$ 1.098 \\\\\n",
      "Archi. & 10.850 $\\pm$ 0.354 \\\\\n",
      "BCos & 13.372 $\\pm$ 0.373 \\\\\n",
      "FG & 13.567 $\\pm$ 0.158 \\\\\n",
      "AMPE & 13.671 $\\pm$ 0.326 \\\\\n",
      "\\bottomrule\n",
      "\\end{tabular}\n"
     ]
    }
   ],
   "source": [
    "import numpy as np\n",
    "\n",
    "def format_value(value, std, bold=False, italic=False):\n",
    "    if value is None or np.isnan(value):\n",
    "        return '-'\n",
    "    formatted = f\"{value:.3f} $\\\\pm$ {std:.3f}\"\n",
    "    if bold:\n",
    "        formatted = f\"\\\\textbf{{{formatted}}}\"\n",
    "    elif italic:\n",
    "        formatted = f\"\\\\textit{{{formatted}}}\"\n",
    "    return formatted\n",
    "\n",
    "def print_table(data, name_mapping):\n",
    "    print(\"\\\\begin{tabular}{c|c}\")\n",
    "    print(\"\\\\toprule\")\n",
    "    print(\"Method & Fidelity$\\\\downarrow$ \\\\\\\\\")\n",
    "    print(\"\\\\midrule\")\n",
    "\n",
    "    post_hoc_methods = [v['name'] for k, v in name_mapping.items() if v['category'] == 'Post Hoc']\n",
    "    fidelity_scores = []\n",
    "\n",
    "    for method in post_hoc_methods:\n",
    "        if method in data and 'fid' in data[method] and data[method]['fid'] is not None:\n",
    "            mean = round(data[method]['fid']['mean'], 6)\n",
    "            std = round(data[method]['fid']['std'], 6)\n",
    "            fidelity_scores.append((method, mean, std))\n",
    "\n",
    "    # Sort by fidelity score (lower is better)\n",
    "    fidelity_scores.sort(key=lambda x: x[1])\n",
    "\n",
    "    # Determine best and second-best values\n",
    "    best_value = fidelity_scores[0][1]\n",
    "    second_best_value = fidelity_scores[1][1] if len(fidelity_scores) > 1 else None\n",
    "\n",
    "    for method, mean, std in fidelity_scores:\n",
    "        is_best = mean == best_value\n",
    "        is_second_best = mean == second_best_value\n",
    "        formatted_value = format_value(mean, std, bold=is_best, italic=is_second_best)\n",
    "        print(f\"{method} & {formatted_value} \\\\\\\\\")\n",
    "\n",
    "    print(\"\\\\bottomrule\")\n",
    "    print(\"\\\\end{tabular}\")\n",
    "\n",
    "# Call the function\n",
    "print_table(data, name_mapping)"
   ]
  },
  {
   "cell_type": "code",
   "execution_count": 8,
   "id": "43a59e21-4382-4f48-b77c-368807d33089",
   "metadata": {
    "tags": []
   },
   "outputs": [
    {
     "name": "stdout",
     "output_type": "stream",
     "text": [
      "\\begin{tabularx}{\\textwidth}{c|c|*{3}{>{\\centering\\arraybackslash}X}}\n",
      "\\toprule\n",
      "\\multirow{2}{*}{Category} & \\multirow{2}{*}{Method} & \\multicolumn{3}{c}{\\textbf{ImageNet}} \\\\\n",
      "& & Fid.$\\downarrow$ & Ins.$\\uparrow$ & Del.$\\downarrow$ \\\\\n",
      "\\midrule\n",
      "\\multirow{13}{*}{Post Hoc} & LIME & - & 0.815 $\\pm$ 0.005 & 0.428 $\\pm$ 0.004 \\\\\n",
      "& SHAP & - & \\textit{0.831 $\\pm$ 0.006} & 0.373 $\\pm$ 0.008 \\\\\n",
      "& RISE & - & 0.590 $\\pm$ 0.008 & 0.661 $\\pm$ 0.004 \\\\\n",
      "& IG & - & 0.611 $\\pm$ 0.006 & 0.617 $\\pm$ 0.008 \\\\\n",
      "& GC & - & 0.772 $\\pm$ 0.007 & 0.366 $\\pm$ 0.007 \\\\\n",
      "& FG & - & 0.759 $\\pm$ 0.005 & 0.383 $\\pm$ 0.004 \\\\\n",
      "& RISE & - & 0.590 $\\pm$ 0.008 & 0.661 $\\pm$ 0.004 \\\\\n",
      "& Archi. & - & 0.676 $\\pm$ 0.003 & 0.501 $\\pm$ 0.004 \\\\\n",
      "& MFABA & - & 0.674 $\\pm$ 0.006 & 0.499 $\\pm$ 0.010 \\\\\n",
      "& AGI & - & 0.735 $\\pm$ 0.006 & 0.462 $\\pm$ 0.008 \\\\\n",
      "& AMPE & - & 0.675 $\\pm$ 0.007 & 0.534 $\\pm$ 0.005 \\\\\n",
      "& BCos & - & 0.257 $\\pm$ 0.005 & 0.288 $\\pm$ 0.008 \\\\\n",
      "& XDNN & - & 0.199 $\\pm$ 0.007 & \\textit{0.156 $\\pm$ 0.003} \\\\\n",
      "\\midrule\n",
      "\\multirow{3}{*}{Faithful} & BagNet & - & 0.560 $\\pm$ 0.006 & 0.417 $\\pm$ 0.007 \\\\\n",
      "& FRESH & - & 0.713 $\\pm$ 0.002 & 0.369 $\\pm$ 0.004 \\\\\n",
      "& SOP & - & \\textbf{0.890 $\\pm$ 0.004} & \\textbf{0.014 $\\pm$ 0.000} \\\\\n",
      "\\bottomrule\n",
      "\\end{tabularx}\n"
     ]
    }
   ],
   "source": [
    "# small\n",
    "import sys\n",
    "\n",
    "sys.path.append('/shared_data0/weiqiuy/exlib/src')\n",
    "sys.path.append('/shared_data0/weiqiuy/sop/src')\n",
    "from sop.utils import bootstrap\n",
    "\n",
    "metrics = {\n",
    "    'ins': 'inss_dict_small.pt',\n",
    "    'del': 'dels_dict_small.pt'\n",
    "}\n",
    "\n",
    "import torch\n",
    "from collections import defaultdict\n",
    "import numpy as np\n",
    "\n",
    "def get_ins_del_table(metrics):\n",
    "    \n",
    "    \n",
    "    name_mapping = {\n",
    "        # 'lime': {'name': 'LIME', 'category': 'Post Hoc'},\n",
    "        # 'shap': {'name': 'SHAP', 'category': 'Post Hoc'},\n",
    "       \n",
    "        'lime_20': {'name': 'LIME', 'category': 'Post Hoc'}, # pert\n",
    "        'shap_20': {'name': 'SHAP', 'category': 'Post Hoc'}, # pert\n",
    "         'rise': {'name': 'RISE', 'category': 'Post Hoc'},\n",
    "        'intgrad': {'name': 'IG', 'category': 'Post Hoc'}, # grad\n",
    "        'gradcam': {'name': 'GC', 'category': 'Post Hoc'}, # grad\n",
    "        'fullgrad': {'name': 'FG', 'category': 'Post Hoc'}, # grad\n",
    "        'rise_20': {'name': 'RISE', 'category': 'Post Hoc'}, # pert\n",
    "        'archipelago': {'name': 'Archi.', 'category': 'Post Hoc'}, # pert?\n",
    "        'mfaba': {'name': 'MFABA', 'category': 'Post Hoc'}, # attak with grad\n",
    "        'agi': {'name': 'AGI', 'category': 'Post Hoc'}, # attack with grad\n",
    "        'ampe': {'name': 'AMPE', 'category': 'Post Hoc'}, # attack\n",
    "        'bcos': {'name': 'BCos', 'category': 'Post Hoc'}, # \n",
    "        'xdnn': {'name': 'XDNN', 'category': 'Post Hoc'}, # gradient x input\n",
    "        'bagnet': {'name': 'BagNet', 'category': 'Faithful'}, # by construction\n",
    "        'attn': {'name': 'FRESH', 'category': 'Faithful'}, # by construction\n",
    "        'sop': {'name': 'SOP', 'category': 'Faithful'}, # by construction\n",
    "    }\n",
    "    \n",
    "    data = defaultdict(dict)\n",
    "\n",
    "    for metric in metrics:\n",
    "        metric_data = torch.load(metrics[metric])\n",
    "        for k in metric_data:\n",
    "            # print(metric_data[k])\n",
    "            metric_data_k = metric_data[k]\n",
    "            if isinstance(metric_data_k, torch.Tensor):\n",
    "                metric_data_k = metric_data_k.tolist()\n",
    "            metric_mean = np.mean(metric_data_k)\n",
    "            metric_std = bootstrap(metric_data_k)\n",
    "\n",
    "            data[name_mapping[k]['name']][metric] = {\n",
    "                'mean': metric_mean,\n",
    "                'std': metric_std\n",
    "            }\n",
    "\n",
    "\n",
    "    def format_value(value, std, bold=False, italic=False):\n",
    "        if value is None or np.isnan(value):\n",
    "            return '-'\n",
    "        formatted = f\"{value:.3f} $\\\\pm$ {std:.3f}\"\n",
    "        if bold:\n",
    "            formatted = f\"\\\\textbf{{{formatted}}}\"\n",
    "        elif italic:\n",
    "            formatted = f\"\\\\textit{{{formatted}}}\"\n",
    "        return formatted\n",
    "\n",
    "    def print_table(data, name_mapping):\n",
    "        print(\"\\\\begin{tabularx}{\\\\textwidth}{c|c|*{3}{>{\\\\centering\\\\arraybackslash}X}}\")\n",
    "        print(\"\\\\toprule\")\n",
    "        print(\"\\\\multirow{2}{*}{Category} & \\\\multirow{2}{*}{Method} & \\\\multicolumn{3}{c}{\\\\textbf{ImageNet}} \\\\\\\\\")\n",
    "        print(\"& & Fid.$\\\\downarrow$ & Ins.$\\\\uparrow$ & Del.$\\\\downarrow$ \\\\\\\\\")\n",
    "        print(\"\\\\midrule\")\n",
    "\n",
    "        categories = ['Post Hoc', 'Faithful']\n",
    "        metrics = ['fid', 'ins', 'del']\n",
    "\n",
    "        all_values = []\n",
    "        for category in categories:\n",
    "            methods = [v['name'] for k, v in name_mapping.items() if v['category'] == category]\n",
    "            for method in methods:\n",
    "                values = []\n",
    "                for metric in metrics:\n",
    "                    if method in data and metric in data[method] and data[method][metric] is not None:\n",
    "                        mean = round(data[method][metric]['mean'], 6)\n",
    "                        std = round(data[method][metric]['std'], 6)\n",
    "                        values.append((mean, std))\n",
    "                    else:\n",
    "                        values.append(None)\n",
    "                all_values.append((category, method, values))\n",
    "\n",
    "        # Determine best and second-best values for each column\n",
    "        best_values = [min((v[0] for _, _, row in all_values for v in [row[0]] if v is not None), default=None),\n",
    "                       max((v[0] for _, _, row in all_values for v in [row[1]] if v is not None), default=None),\n",
    "                       min((v[0] for _, _, row in all_values for v in [row[2]] if v is not None), default=None)]\n",
    "\n",
    "        second_best_values = [sorted(set(v[0] for _, _, row in all_values for v in [row[0]] if v is not None))[1] if len(set(v[0] for _, _, row in all_values for v in [row[0]] if v is not None)) > 1 else None,\n",
    "                              sorted(set(v[0] for _, _, row in all_values for v in [row[1]] if v is not None), reverse=True)[1] if len(set(v[0] for _, _, row in all_values for v in [row[1]] if v is not None)) > 1 else None,\n",
    "                              sorted(set(v[0] for _, _, row in all_values for v in [row[2]] if v is not None))[1] if len(set(v[0] for _, _, row in all_values for v in [row[2]] if v is not None)) > 1 else None]\n",
    "\n",
    "        current_category = None\n",
    "        for category, method, values in all_values:\n",
    "            if category != current_category:\n",
    "                if current_category is not None:\n",
    "                    print(\"\\\\midrule\")\n",
    "                print(f\"\\\\multirow{{{len([m for c, m, _ in all_values if c == category])}}}{{*}}{{{category}}} & \", end=\"\")\n",
    "                current_category = category\n",
    "            else:\n",
    "                print(\"& \", end=\"\")\n",
    "\n",
    "            formatted_values = []\n",
    "            for i, value in enumerate(values):\n",
    "                if value is not None:\n",
    "                    is_best = value[0] == best_values[i]\n",
    "                    is_second_best = value[0] == second_best_values[i]\n",
    "                    formatted_values.append(format_value(value[0], value[1], bold=is_best, italic=is_second_best))\n",
    "                else:\n",
    "                    formatted_values.append('-')\n",
    "\n",
    "            print(f\"{method} & {' & '.join(formatted_values)} \\\\\\\\\")\n",
    "\n",
    "        print(\"\\\\bottomrule\")\n",
    "        print(\"\\\\end{tabularx}\")\n",
    "\n",
    "    # Your data dictionary and name_mapping remain the same\n",
    "    # ...\n",
    "\n",
    "    print_table(data, name_mapping)\n",
    "get_ins_del_table(metrics)"
   ]
  },
  {
   "cell_type": "code",
   "execution_count": 9,
   "id": "85e6c74d-e650-46f2-9cef-6b876adaba04",
   "metadata": {
    "tags": []
   },
   "outputs": [
    {
     "name": "stdout",
     "output_type": "stream",
     "text": [
      "\\begin{tabularx}{\\textwidth}{c|c|*{3}{>{\\centering\\arraybackslash}X}}\n",
      "\\toprule\n",
      "\\multirow{2}{*}{Category} & \\multirow{2}{*}{Method} & \\multicolumn{3}{c}{\\textbf{ImageNet}} \\\\\n",
      "& & Fid.$\\downarrow$ & Ins.$\\uparrow$ & Del.$\\downarrow$ \\\\\n",
      "\\midrule\n",
      "\\multirow{13}{*}{Post Hoc} & LIME & - & 0.797 $\\pm$ 0.007 & 0.555 $\\pm$ 0.023 \\\\\n",
      "& SHAP & - & \\textit{0.909 $\\pm$ 0.018} & 0.524 $\\pm$ 0.023 \\\\\n",
      "& RISE & - & 0.652 $\\pm$ 0.043 & 0.776 $\\pm$ 0.019 \\\\\n",
      "& IG & - & 0.679 $\\pm$ 0.030 & 0.786 $\\pm$ 0.059 \\\\\n",
      "& GC & - & 0.789 $\\pm$ 0.021 & 0.540 $\\pm$ 0.031 \\\\\n",
      "& FG & - & 0.830 $\\pm$ 0.029 & 0.447 $\\pm$ 0.026 \\\\\n",
      "& RISE & - & 0.652 $\\pm$ 0.043 & 0.776 $\\pm$ 0.019 \\\\\n",
      "& Archi. & - & 0.824 $\\pm$ 0.058 & 0.608 $\\pm$ 0.025 \\\\\n",
      "& MFABA & - & 0.855 $\\pm$ 0.048 & 0.610 $\\pm$ 0.085 \\\\\n",
      "& AGI & - & 0.875 $\\pm$ 0.048 & 0.585 $\\pm$ 0.050 \\\\\n",
      "& AMPE & - & 0.738 $\\pm$ 0.078 & 0.645 $\\pm$ 0.041 \\\\\n",
      "& BCos & - & 0.574 $\\pm$ 0.175 & 0.380 $\\pm$ 0.032 \\\\\n",
      "& XDNN & - & 0.245 $\\pm$ 0.038 & 0.254 $\\pm$ 0.044 \\\\\n",
      "\\midrule\n",
      "\\multirow{3}{*}{Faithful} & BagNet & - & 0.878 $\\pm$ 0.023 & \\textit{0.228 $\\pm$ 0.022} \\\\\n",
      "& FRESH & - & 0.746 $\\pm$ 0.033 & 0.512 $\\pm$ 0.046 \\\\\n",
      "& SOP & - & \\textbf{0.910 $\\pm$ 0.010} & \\textbf{0.106 $\\pm$ 0.000} \\\\\n",
      "\\bottomrule\n",
      "\\end{tabularx}\n"
     ]
    }
   ],
   "source": [
    "metrics_hist = {\n",
    "    'ins': 'inss_hist_dict.pt',\n",
    "    'del': 'dels_hist_dict.pt'\n",
    "}\n",
    "get_ins_del_table(metrics_hist)"
   ]
  },
  {
   "cell_type": "code",
   "execution_count": 27,
   "id": "f34f1c05-cc65-48ae-aecf-bf9b94723929",
   "metadata": {
    "tags": []
   },
   "outputs": [
    {
     "name": "stdout",
     "output_type": "stream",
     "text": [
      "\\begin{tabularx}{\\textwidth}{c|c|*{3}{>{\\centering\\arraybackslash}X}}\n",
      "\\toprule\n",
      "\\multirow{2}{*}{Category} & \\multirow{2}{*}{Method} & \\multicolumn{3}{c}{\\textbf{ImageNet}} \\\\\n",
      "& & Fid.$\\downarrow$ & Ins.$\\uparrow$ & Del.$\\downarrow$ \\\\\n",
      "\\midrule\n",
      "\\multirow{15}{*}{Post Hoc} & LIME & 3.866 $\\pm$ 0.244 & 0.859 $\\pm$ 0.005 & 0.476 $\\pm$ 0.004 \\\\\n",
      "& SHAP & 0.015 $\\pm$ 0.006 & \\textit{0.878 $\\pm$ 0.007} & 0.421 $\\pm$ 0.008 \\\\\n",
      "& RISE & 0.884 $\\pm$ 0.533 & 0.635 $\\pm$ 0.007 & 0.708 $\\pm$ 0.003 \\\\\n",
      "& LIME & 3.866 $\\pm$ 0.244 & 0.859 $\\pm$ 0.005 & 0.476 $\\pm$ 0.004 \\\\\n",
      "& SHAP & 0.015 $\\pm$ 0.006 & \\textit{0.878 $\\pm$ 0.007} & 0.421 $\\pm$ 0.008 \\\\\n",
      "& IG & 7.161 $\\pm$ 0.212 & 0.661 $\\pm$ 0.006 & 0.664 $\\pm$ 0.008 \\\\\n",
      "& GC & 10.406 $\\pm$ 1.098 & 0.817 $\\pm$ 0.007 & 0.416 $\\pm$ 0.007 \\\\\n",
      "& FG & 13.567 $\\pm$ 0.158 & 0.805 $\\pm$ 0.006 & 0.430 $\\pm$ 0.004 \\\\\n",
      "& RISE & 0.884 $\\pm$ 0.533 & 0.635 $\\pm$ 0.007 & 0.708 $\\pm$ 0.003 \\\\\n",
      "& Archi. & 10.850 $\\pm$ 0.354 & 0.719 $\\pm$ 0.004 & 0.548 $\\pm$ 0.004 \\\\\n",
      "& MFABA & 6.674 $\\pm$ 0.166 & 0.720 $\\pm$ 0.005 & 0.547 $\\pm$ 0.010 \\\\\n",
      "& AGI & 5.416 $\\pm$ 0.549 & 0.781 $\\pm$ 0.007 & 0.509 $\\pm$ 0.007 \\\\\n",
      "& AMPE & 13.671 $\\pm$ 0.326 & 0.723 $\\pm$ 0.006 & 0.581 $\\pm$ 0.005 \\\\\n",
      "& BCos & 13.372 $\\pm$ 0.373 & 0.308 $\\pm$ 0.005 & 0.339 $\\pm$ 0.009 \\\\\n",
      "& XDNN & \\textit{0.000 $\\pm$ 0.000} & 0.251 $\\pm$ 0.007 & \\textit{0.210 $\\pm$ 0.003} \\\\\n",
      "\\midrule\n",
      "\\multirow{3}{*}{Faithful} & BagNet & \\textbf{0.000 $\\pm$ 0.000} & 0.626 $\\pm$ 0.014 & 0.595 $\\pm$ 0.009 \\\\\n",
      "& FRESH & \\textbf{0.000 $\\pm$ 0.000} & 0.759 $\\pm$ 0.003 & 0.417 $\\pm$ 0.004 \\\\\n",
      "& SOP & \\textbf{0.000 $\\pm$ 0.000} & \\textbf{0.930 $\\pm$ 0.003} & \\textbf{0.109 $\\pm$ 0.000} \\\\\n",
      "\\bottomrule\n",
      "\\end{tabularx}\n"
     ]
    }
   ],
   "source": [
    "import numpy as np\n",
    "\n",
    "def format_value(value, std, bold=False, italic=False):\n",
    "    if value is None or np.isnan(value):\n",
    "        return '-'\n",
    "    formatted = f\"{value:.3f} $\\\\pm$ {std:.3f}\"\n",
    "    if bold:\n",
    "        formatted = f\"\\\\textbf{{{formatted}}}\"\n",
    "    elif italic:\n",
    "        formatted = f\"\\\\textit{{{formatted}}}\"\n",
    "    return formatted\n",
    "\n",
    "def print_table(data, name_mapping):\n",
    "    print(\"\\\\begin{tabularx}{\\\\textwidth}{c|c|*{3}{>{\\\\centering\\\\arraybackslash}X}}\")\n",
    "    print(\"\\\\toprule\")\n",
    "    print(\"\\\\multirow{2}{*}{Category} & \\\\multirow{2}{*}{Method} & \\\\multicolumn{3}{c}{\\\\textbf{ImageNet}} \\\\\\\\\")\n",
    "    print(\"& & Fid.$\\\\downarrow$ & Ins.$\\\\uparrow$ & Del.$\\\\downarrow$ \\\\\\\\\")\n",
    "    print(\"\\\\midrule\")\n",
    "\n",
    "    categories = ['Post Hoc', 'Faithful']\n",
    "    metrics = ['fid', 'ins', 'del']\n",
    "\n",
    "    all_values = []\n",
    "    for category in categories:\n",
    "        methods = [v['name'] for k, v in name_mapping.items() if v['category'] == category]\n",
    "        for method in methods:\n",
    "            values = []\n",
    "            for metric in metrics:\n",
    "                if method in data and metric in data[method] and data[method][metric] is not None:\n",
    "                    mean = round(data[method][metric]['mean'], 6)\n",
    "                    std = round(data[method][metric]['std'], 6)\n",
    "                    values.append((mean, std))\n",
    "                else:\n",
    "                    values.append(None)\n",
    "            all_values.append((category, method, values))\n",
    "\n",
    "    # Determine best and second-best values for each column\n",
    "    best_values = [min((v[0] for _, _, row in all_values for v in [row[0]] if v is not None), default=None),\n",
    "                   max((v[0] for _, _, row in all_values for v in [row[1]] if v is not None), default=None),\n",
    "                   min((v[0] for _, _, row in all_values for v in [row[2]] if v is not None), default=None)]\n",
    "    \n",
    "    second_best_values = [sorted(set(v[0] for _, _, row in all_values for v in [row[0]] if v is not None))[1] if len(set(v[0] for _, _, row in all_values for v in [row[0]] if v is not None)) > 1 else None,\n",
    "                          sorted(set(v[0] for _, _, row in all_values for v in [row[1]] if v is not None), reverse=True)[1] if len(set(v[0] for _, _, row in all_values for v in [row[1]] if v is not None)) > 1 else None,\n",
    "                          sorted(set(v[0] for _, _, row in all_values for v in [row[2]] if v is not None))[1] if len(set(v[0] for _, _, row in all_values for v in [row[2]] if v is not None)) > 1 else None]\n",
    "\n",
    "    current_category = None\n",
    "    for category, method, values in all_values:\n",
    "        if category != current_category:\n",
    "            if current_category is not None:\n",
    "                print(\"\\\\midrule\")\n",
    "            print(f\"\\\\multirow{{{len([m for c, m, _ in all_values if c == category])}}}{{*}}{{{category}}} & \", end=\"\")\n",
    "            current_category = category\n",
    "        else:\n",
    "            print(\"& \", end=\"\")\n",
    "\n",
    "        formatted_values = []\n",
    "        for i, value in enumerate(values):\n",
    "            if value is not None:\n",
    "                is_best = value[0] == best_values[i]\n",
    "                is_second_best = value[0] == second_best_values[i]\n",
    "                formatted_values.append(format_value(value[0], value[1], bold=is_best, italic=is_second_best))\n",
    "            else:\n",
    "                formatted_values.append('-')\n",
    "\n",
    "        print(f\"{method} & {' & '.join(formatted_values)} \\\\\\\\\")\n",
    "\n",
    "    print(\"\\\\bottomrule\")\n",
    "    print(\"\\\\end{tabularx}\")\n",
    "\n",
    "# Your data dictionary and name_mapping remain the same\n",
    "# ...\n",
    "\n",
    "print_table(data, name_mapping)"
   ]
  },
  {
   "cell_type": "markdown",
   "id": "d7486404-2403-4054-9c0a-a5fd3248e098",
   "metadata": {},
   "source": [
    "# Sparsity"
   ]
  },
  {
   "cell_type": "code",
   "execution_count": 11,
   "id": "7e6acb45-79ca-4cce-b33d-9b6e91893301",
   "metadata": {
    "tags": []
   },
   "outputs": [],
   "source": [
    "name_mapping = {\n",
    "    # 'lime': {'name': 'LIME', 'category': 'Post Hoc'},\n",
    "    # 'shap': {'name': 'SHAP', 'category': 'Post Hoc'},\n",
    "    # 'rise': {'name': 'RISE', 'category': 'Post Hoc'},\n",
    "    'lime_20': {'name': 'LIME', 'category': 'Post Hoc'}, # pert\n",
    "    'shap_20': {'name': 'SHAP', 'category': 'Post Hoc'}, # pert\n",
    "    'intgrad': {'name': 'IG', 'category': 'Post Hoc'}, # grad\n",
    "    'gradcam': {'name': 'GC', 'category': 'Post Hoc'}, # grad\n",
    "    'fullgrad': {'name': 'FG', 'category': 'Post Hoc'}, # grad\n",
    "    'rise_20': {'name': 'RISE', 'category': 'Post Hoc'}, # pert\n",
    "    'archipelago': {'name': 'Archi.', 'category': 'Post Hoc'}, # pert?\n",
    "    'mfaba': {'name': 'MFABA', 'category': 'Post Hoc'}, # attak with grad\n",
    "    'agi': {'name': 'AGI', 'category': 'Post Hoc'}, # attack with grad\n",
    "    'ampe': {'name': 'AMPE', 'category': 'Post Hoc'}, # attack\n",
    "    'bcos': {'name': 'BCos', 'category': 'Post Hoc'}, # \n",
    "    'xdnn': {'name': 'XDNN', 'category': 'Post Hoc'}, # gradient x input\n",
    "    'bagnet': {'name': 'BagNet', 'category': 'Faithful'}, # by construction\n",
    "    'attn': {'name': 'FRESH', 'category': 'Faithful'}, # by construction\n",
    "    'sop': {'name': 'SOP', 'category': 'Faithful'}, # by construction\n",
    "}"
   ]
  },
  {
   "cell_type": "code",
   "execution_count": 12,
   "id": "7bb80e41-23e4-49e1-b230-92d6a7278a27",
   "metadata": {},
   "outputs": [],
   "source": [
    "dirname = '/shared_data0/weiqiuy/sop/results/sparsity/imagenet_s'"
   ]
  },
  {
   "cell_type": "code",
   "execution_count": 13,
   "id": "a7b3586f-66a9-4a19-b718-6ddbbd6ffc14",
   "metadata": {
    "tags": []
   },
   "outputs": [
    {
     "data": {
      "text/plain": [
       "'/shared_data0/weiqiuy/sop/results/sparsity/imagenet_s/lime_20.pt'"
      ]
     },
     "execution_count": 13,
     "metadata": {},
     "output_type": "execute_result"
    }
   ],
   "source": [
    "import os\n",
    "\n",
    "# for filename in os.listdir(dirname):\n",
    "for method in name_mapping:\n",
    "    filename = f'{method}.pt'\n",
    "    break\n",
    "    \n",
    "filepath = os.path.join(dirname, filename)\n",
    "filepath"
   ]
  },
  {
   "cell_type": "code",
   "execution_count": 14,
   "id": "a06b37ea-9820-499b-a370-e46dc67a17c7",
   "metadata": {
    "tags": []
   },
   "outputs": [],
   "source": [
    "import torch\n",
    "\n",
    "data = torch.load(filepath)"
   ]
  },
  {
   "cell_type": "code",
   "execution_count": 15,
   "id": "3d7407a8-ad05-4123-80e1-cbd83acc9ba0",
   "metadata": {
    "tags": []
   },
   "outputs": [
    {
     "data": {
      "text/plain": [
       "2"
      ]
     },
     "execution_count": 15,
     "metadata": {},
     "output_type": "execute_result"
    }
   ],
   "source": [
    "len(data)"
   ]
  },
  {
   "cell_type": "code",
   "execution_count": 7,
   "id": "df5611b0-a6da-4897-b31e-5d2ae90c07bd",
   "metadata": {
    "tags": []
   },
   "outputs": [
    {
     "ename": "KeyError",
     "evalue": "0",
     "output_type": "error",
     "traceback": [
      "\u001b[0;31m---------------------------------------------------------------------------\u001b[0m",
      "\u001b[0;31mKeyError\u001b[0m                                  Traceback (most recent call last)",
      "\u001b[0;32m/tmp/ipykernel_17523/1743741225.py\u001b[0m in \u001b[0;36m<module>\u001b[0;34m\u001b[0m\n\u001b[0;32m----> 1\u001b[0;31m \u001b[0mdata\u001b[0m\u001b[0;34m[\u001b[0m\u001b[0;36m0\u001b[0m\u001b[0;34m]\u001b[0m\u001b[0;34m\u001b[0m\u001b[0;34m\u001b[0m\u001b[0m\n\u001b[0m",
      "\u001b[0;31mKeyError\u001b[0m: 0"
     ]
    }
   ],
   "source": []
  },
  {
   "cell_type": "code",
   "execution_count": null,
   "id": "58056229-c25f-428b-bb8e-c6d08113dd06",
   "metadata": {},
   "outputs": [],
   "source": []
  }
 ],
 "metadata": {
  "kernelspec": {
   "display_name": "Python 3 (ipykernel)",
   "language": "python",
   "name": "python3"
  },
  "language_info": {
   "codemirror_mode": {
    "name": "ipython",
    "version": 3
   },
   "file_extension": ".py",
   "mimetype": "text/x-python",
   "name": "python",
   "nbconvert_exporter": "python",
   "pygments_lexer": "ipython3",
   "version": "3.10.10"
  }
 },
 "nbformat": 4,
 "nbformat_minor": 5
}
