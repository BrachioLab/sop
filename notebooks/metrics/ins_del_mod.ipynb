{
 "cells": [
  {
   "cell_type": "markdown",
   "id": "912cf0a4-8a01-4268-af5d-116ba99da18e",
   "metadata": {
    "tags": []
   },
   "source": [
    "# Save ins del"
   ]
  },
  {
   "cell_type": "code",
   "execution_count": 1,
   "id": "f9a09585-43de-4080-8030-f74fe225e231",
   "metadata": {
    "tags": []
   },
   "outputs": [
    {
     "name": "stderr",
     "output_type": "stream",
     "text": [
      "/opt/conda/envs/rapids/lib/python3.10/site-packages/torchvision/datapoints/__init__.py:12: UserWarning: The torchvision.datapoints and torchvision.transforms.v2 namespaces are still Beta. While we do not expect major breaking changes, some APIs may still change according to user feedback. Please submit any feedback you may have in this issue: https://github.com/pytorch/vision/issues/6753, and you can also check out https://github.com/pytorch/vision/issues/7319 to learn more about the APIs that we suspect might involve future changes. You can silence this warning by calling torchvision.disable_beta_transforms_warning().\n",
      "  warnings.warn(_BETA_TRANSFORMS_WARNING)\n",
      "/opt/conda/envs/rapids/lib/python3.10/site-packages/torchvision/transforms/v2/__init__.py:54: UserWarning: The torchvision.datapoints and torchvision.transforms.v2 namespaces are still Beta. While we do not expect major breaking changes, some APIs may still change according to user feedback. Please submit any feedback you may have in this issue: https://github.com/pytorch/vision/issues/6753, and you can also check out https://github.com/pytorch/vision/issues/7319 to learn more about the APIs that we suspect might involve future changes. You can silence this warning by calling torchvision.disable_beta_transforms_warning().\n",
      "  warnings.warn(_BETA_TRANSFORMS_WARNING)\n"
     ]
    },
    {
     "data": {
      "text/plain": [
       "{'dataset': {'name': 'imagenet_s',\n",
       "  'root': '/shared_data0/weiqiuy/datasets/imagenet'},\n",
       " 'training': {'batch_size': 16,\n",
       "  'num_epochs': 20,\n",
       "  'mask_batch_size': 64,\n",
       "  'optimizer': {'name': 'adamw', 'lr': 5e-06, 'weight_decay': 0.01}},\n",
       " 'evaluation': {'split': 'val', 'num_data': 1, 'batch_size': 16},\n",
       " 'model': {'type': 'vit',\n",
       "  'base': 'google/vit-base-patch16-224',\n",
       "  'sop': '/shared_data0/weiqiuy/sop/exps/imagenet_lr5e-06_tgtnnz0.2_gg0.0600_gs0.0100_ft_identify_fixk_scratch_ks3/best',\n",
       "  'num_classes': 1000}}"
      ]
     },
     "execution_count": 1,
     "metadata": {},
     "output_type": "execute_result"
    }
   ],
   "source": [
    "import os\n",
    "import torch\n",
    "import sys\n",
    "sys.path.append('../../lib/exlib/src')\n",
    "\n",
    "import sys\n",
    "sys.path.append('../../src')\n",
    "import sop\n",
    "\n",
    "device = torch.device('cuda' if torch.cuda.is_available() else 'cpu')\n",
    "sop.utils.seed_all(42)\n",
    "\n",
    "# config\n",
    "exp_config = sop.ImageNetConfig()\n",
    "val_config = exp_config.get_config('val_sm')\n",
    "val_config['evaluation']['batch_size'] = 16\n",
    "val_config"
   ]
  },
  {
   "cell_type": "code",
   "execution_count": 2,
   "id": "49f3ad36-6249-42e5-98e1-3df5a519df62",
   "metadata": {
    "tags": []
   },
   "outputs": [
    {
     "name": "stdout",
     "output_type": "stream",
     "text": [
      "projection layer is not frozen\n",
      "projection layer is not frozen\n",
      "Loaded step 40100\n"
     ]
    }
   ],
   "source": [
    "# model\n",
    "backbone_model, processor, backbone_config = sop.utils.imagenet_utils.get_model(val_config['model']['type'],\n",
    "                                                                 backbone_model_name=val_config['model']['base'],\n",
    "                                                                 backbone_processor_name=val_config['model']['base'],\n",
    "                                                                )\n",
    "backbone_model = backbone_model.to(device)\n",
    "\n",
    "# get wrapped original model\n",
    "from sop.utils.imagenet_utils import WrappedModel\n",
    "\n",
    "original_model = WrappedModel(backbone_model, output_type='logits')\n",
    "original_model = original_model.to(device)\n",
    "original_model.eval();\n",
    "\n",
    "# config\n",
    "from exlib.modules.sop import SOPConfig, get_chained_attr\n",
    "\n",
    "config = SOPConfig(os.path.join(val_config['model']['sop'], 'config.json'))\n",
    "\n",
    "# config.group_sel_scale = 0.05\n",
    "\n",
    "config.__dict__.update(backbone_config.__dict__)\n",
    "config.num_labels = len(backbone_config.id2label)\n",
    "\n",
    "# get sop model\n",
    "from sop.utils.imagenet_utils import get_model, get_wrapped_models\n",
    "\n",
    "wrapped_backbone_model, class_weights, projection_layer = get_wrapped_models(\n",
    "    backbone_model,\n",
    "    config\n",
    ")\n",
    "wrapped_backbone_model = wrapped_backbone_model.to(device)\n",
    "wrapped_backbone_model.eval();\n",
    "class_weights = class_weights.to(device)\n",
    "projection_layer = projection_layer.to(device)\n",
    "\n",
    "# sop\n",
    "from exlib.modules.sop import SOPImageCls4\n",
    "\n",
    "model = SOPImageCls4(config, wrapped_backbone_model, \n",
    "                     class_weights=class_weights, \n",
    "                     projection_layer=projection_layer)\n",
    "state_dict = torch.load(os.path.join(val_config['model']['sop'], \n",
    "                                     'checkpoint.pth'))\n",
    "print('Loaded step', state_dict['step'])\n",
    "model.load_state_dict(state_dict['model'], strict=False)\n",
    "model = model.to(device)\n",
    "model.eval();"
   ]
  },
  {
   "cell_type": "code",
   "execution_count": 3,
   "id": "adc93f3d-2a04-4a7b-aa68-96918dd6f442",
   "metadata": {
    "tags": []
   },
   "outputs": [
    {
     "data": {
      "text/plain": [
       "'/shared_data0/weiqiuy/sop/exps/imagenet_lr5e-06_tgtnnz0.2_gg0.0600_gs0.0100_ft_identify_fixk_scratch_ks3/best'"
      ]
     },
     "execution_count": 3,
     "metadata": {},
     "output_type": "execute_result"
    }
   ],
   "source": [
    "val_config['model']['sop']"
   ]
  },
  {
   "cell_type": "code",
   "execution_count": 4,
   "id": "8a6141a7-3b0a-4664-aa7f-496138d982c2",
   "metadata": {
    "tags": []
   },
   "outputs": [],
   "source": [
    "methods = [\n",
    "    'shap_20',\n",
    "    'rise_20',\n",
    "    'lime_20',\n",
    "    'sop',\n",
    "    'fullgrad',\n",
    "    'gradcam',\n",
    "    'intgrad',\n",
    "    'attn',\n",
    "    'archipelago',\n",
    "    'mfaba',\n",
    "    'agi',\n",
    "    'ampe',\n",
    "    'bcos',\n",
    "    'xdnn',\n",
    "    'bagnet',\n",
    "]"
   ]
  },
  {
   "cell_type": "code",
   "execution_count": 5,
   "id": "1c158e32-409b-4c3f-a253-fcde58527d52",
   "metadata": {
    "tags": []
   },
   "outputs": [],
   "source": [
    "from sop.metrics import get_ins_del_perc"
   ]
  },
  {
   "cell_type": "code",
   "execution_count": 6,
   "id": "6ea7cb18-6f19-4d33-a99f-f4b5980aac2d",
   "metadata": {
    "tags": []
   },
   "outputs": [],
   "source": [
    "# method = 'shap_20'\n",
    "method = 'bcos'"
   ]
  },
  {
   "cell_type": "markdown",
   "id": "a4bc8242-04b3-47ba-960c-7b3357318f68",
   "metadata": {},
   "source": [
    "# get results example"
   ]
  },
  {
   "cell_type": "code",
   "execution_count": 7,
   "id": "0c67d73c-d5c4-4ba4-aaf5-56d4426ff268",
   "metadata": {
    "tags": []
   },
   "outputs": [
    {
     "name": "stdout",
     "output_type": "stream",
     "text": [
      "bcos\n"
     ]
    },
    {
     "name": "stderr",
     "output_type": "stream",
     "text": [
      "Using cache found in /home/runai-home/.cache/torch/hub/B-cos_B-cos-v2_main\n"
     ]
    },
    {
     "data": {
      "application/vnd.jupyter.widget-view+json": {
       "model_id": "ff45c7b246a7472db5a5d638bb11861a",
       "version_major": 2,
       "version_minor": 0
      },
      "text/plain": [
       "  0%|          | 0/1001 [00:00<?, ?it/s]"
      ]
     },
     "metadata": {},
     "output_type": "display_data"
    },
    {
     "name": "stdout",
     "output_type": "stream",
     "text": [
      "Loaded 100 images and 100 classes\n"
     ]
    },
    {
     "data": {
      "application/vnd.jupyter.widget-view+json": {
       "model_id": "e50060fd6164480ca3da211ddddd091c",
       "version_major": 2,
       "version_minor": 0
      },
      "text/plain": [
       "  0%|          | 0/7 [00:00<?, ?it/s]"
      ]
     },
     "metadata": {},
     "output_type": "display_data"
    },
    {
     "name": "stdout",
     "output_type": "stream",
     "text": [
      "0.10202303862794221\n"
     ]
    }
   ],
   "source": [
    "# results_ins = {}\n",
    "# for method in methods:\n",
    "results_ins = get_ins_del_perc(val_config, original_model, backbone_model, model, processor,\n",
    "                     method, debug=True)"
   ]
  },
  {
   "cell_type": "code",
   "execution_count": 8,
   "id": "f1486c92-86a5-4e4b-b0c6-0045afd4004f",
   "metadata": {
    "tags": []
   },
   "outputs": [
    {
     "name": "stdout",
     "output_type": "stream",
     "text": [
      "bcos\n"
     ]
    },
    {
     "name": "stderr",
     "output_type": "stream",
     "text": [
      "Using cache found in /home/runai-home/.cache/torch/hub/B-cos_B-cos-v2_main\n"
     ]
    },
    {
     "data": {
      "application/vnd.jupyter.widget-view+json": {
       "model_id": "499acf9eb2994f6ea53beed8f424b380",
       "version_major": 2,
       "version_minor": 0
      },
      "text/plain": [
       "  0%|          | 0/1001 [00:00<?, ?it/s]"
      ]
     },
     "metadata": {},
     "output_type": "display_data"
    },
    {
     "name": "stdout",
     "output_type": "stream",
     "text": [
      "Loaded 100 images and 100 classes\n"
     ]
    },
    {
     "data": {
      "application/vnd.jupyter.widget-view+json": {
       "model_id": "92dece6c3b7d44b3b36f6f251a522c75",
       "version_major": 2,
       "version_minor": 0
      },
      "text/plain": [
       "  0%|          | 0/7 [00:00<?, ?it/s]"
      ]
     },
     "metadata": {},
     "output_type": "display_data"
    },
    {
     "name": "stdout",
     "output_type": "stream",
     "text": [
      "0.1019855188461131\n"
     ]
    }
   ],
   "source": [
    "results_del = get_ins_del_perc(val_config, original_model, backbone_model, model, processor,\n",
    "                     method, debug=True, deletion=True)"
   ]
  },
  {
   "cell_type": "code",
   "execution_count": null,
   "id": "db4a49f2-5c68-45e9-9098-1c5259d626c3",
   "metadata": {},
   "outputs": [],
   "source": []
  },
  {
   "cell_type": "markdown",
   "id": "c6c5c418-475e-4076-bd8c-a793d9b1f3d3",
   "metadata": {},
   "source": [
    "# Results"
   ]
  },
  {
   "cell_type": "code",
   "execution_count": 22,
   "id": "37ab9f05-3f62-489d-b022-3ea9037bf132",
   "metadata": {
    "tags": []
   },
   "outputs": [],
   "source": [
    "methods = [\n",
    "    'shap_20',\n",
    "    'rise_20',\n",
    "    'lime_20',\n",
    "    'sop',\n",
    "    'fullgrad',\n",
    "    'gradcam',\n",
    "    'intgrad',\n",
    "    'attn',\n",
    "    'archipelago',\n",
    "    'mfaba',\n",
    "    'agi',\n",
    "    'ampe',\n",
    "    'bcos',\n",
    "    'xdnn',\n",
    "    'bagnet',\n",
    "]"
   ]
  },
  {
   "cell_type": "code",
   "execution_count": 23,
   "id": "9c35cb71-c1eb-4dfd-b288-657804bada3e",
   "metadata": {
    "tags": []
   },
   "outputs": [
    {
     "name": "stdout",
     "output_type": "stream",
     "text": [
      "shap_20 ins 0.8781494490159503 del 0.4211493296650733\n",
      "rise_20 ins 0.6352594335778282 del 0.7078599741135145\n",
      "lime_20 ins 0.8594826424045171 del 0.4759477342731027\n",
      "sop ins 0.930032776511611 del 0.10858881190715157\n",
      "fullgrad ins 0.8051354604875227 del 0.43027212324771347\n",
      "gradcam ins 0.8173424777666206 del 0.4155723768524423\n",
      "intgrad ins 0.6605047676880771 del 0.6637644381598764\n",
      "attn ins 0.758708539975525 del 0.4173078415048209\n",
      "archipelago ins 0.7187009322539243 del 0.548131956821885\n",
      "mfaba ins 0.7202281690683865 del 0.5466360445832881\n",
      "agi ins 0.7811045738491488 del 0.5091109386202796\n",
      "ampe ins 0.7234426172037536 del 0.5809504300499239\n",
      "bcos ins 0.30830641975092515 del 0.3391921275119559\n",
      "xdnn ins 0.25094140601082926 del 0.2101482404597633\n",
      "bagnet ins 0.6264807908463602 del 0.5946418239662056\n",
      "raw\n",
      "shap_20 ins 0.7777502358646838 del 0.3876450827266206\n",
      "rise_20 ins 0.5705529338162356 del 0.6423300426226348\n",
      "lime_20 ins 0.758227471600695 del 0.43678511113994495\n",
      "sop ins 0.8118536885953442 del 0.09570955311103245\n",
      "fullgrad ins 0.7203847053030078 del 0.3933293319654867\n",
      "gradcam ins 0.7196757307557857 del 0.3820301635875909\n",
      "intgrad ins 0.5990271646270003 del 0.6002629560401199\n",
      "attn ins 0.6854369145208996 del 0.3759319998062458\n",
      "archipelago ins 0.6486622016325642 del 0.4990754870138454\n",
      "mfaba ins 0.6512830863940865 del 0.4907081948291263\n",
      "agi ins 0.7033344966960388 del 0.46496674886137507\n",
      "ampe ins 0.6559753259096671 del 0.5299608420369837\n",
      "bcos ins 0.22690449609148586 del 0.24392565470052047\n",
      "xdnn ins 0.23284890605856273 del 0.1954176968857403\n",
      "bagnet ins 0.40840096188240693 del 0.37896066828762226\n"
     ]
    }
   ],
   "source": [
    "import torch\n",
    "import numpy as np\n",
    "\n",
    "inss_dict = {}\n",
    "dels_dict = {}\n",
    "inss_dict_all = {}\n",
    "dels_dict_all = {}\n",
    "\n",
    "for method in methods:\n",
    "    data = torch.load(f'/shared_data0/weiqiuy/sop/results/ins_del/imagenet_s/{method}.pt')\n",
    "    print(method, 'ins', np.mean(data['ins']['scores_perc']), \n",
    "          'del', np.mean(data['del']['scores_perc']))\n",
    "    inss_dict[method] = data['ins']['scores_perc']\n",
    "    dels_dict[method] = data['del']['scores_perc']\n",
    "    inss_dict_all[method] = data['ins']\n",
    "    dels_dict_all[method] = data['del']\n",
    "\n",
    "print('raw')\n",
    "for method in methods:\n",
    "    print(method, 'ins', np.mean(inss_dict_all[method]['scores_mean']), 'del', np.mean(dels_dict_all[method]['scores_mean']))"
   ]
  },
  {
   "cell_type": "code",
   "execution_count": 24,
   "id": "c4e4f034-a976-467b-b296-0e5466a0ab68",
   "metadata": {
    "tags": []
   },
   "outputs": [
    {
     "data": {
      "text/plain": [
       "[[0.07356344163417816,\n",
       "  0.9061827659606934,\n",
       "  0.8340227007865906,\n",
       "  0.4888898730278015,\n",
       "  0.5496814250946045,\n",
       "  0.41891661286354065,\n",
       "  0.7974211573600769,\n",
       "  0.8425856828689575,\n",
       "  0.8774040341377258,\n",
       "  0.843177855014801],\n",
       " [0.02947884052991867,\n",
       "  0.014348462224006653,\n",
       "  0.2233007550239563,\n",
       "  0.9688506126403809,\n",
       "  0.9742243885993958,\n",
       "  0.971966564655304,\n",
       "  0.979910135269165,\n",
       "  0.9558345675468445,\n",
       "  0.9776061773300171,\n",
       "  0.9888867735862732]]"
      ]
     },
     "execution_count": 24,
     "metadata": {},
     "output_type": "execute_result"
    }
   ],
   "source": [
    "inss_dict_all['shap_20']['scores_curve'][:2]"
   ]
  },
  {
   "cell_type": "code",
   "execution_count": null,
   "id": "282ca9da-cc4d-42f1-9e29-b9ea983826b6",
   "metadata": {},
   "outputs": [],
   "source": [
    "inss_dict_all['shap_20']['scores_curve'][:2]"
   ]
  },
  {
   "cell_type": "code",
   "execution_count": 12,
   "id": "7fdda8c0-76f4-498b-98cf-45af0985f928",
   "metadata": {
    "tags": []
   },
   "outputs": [],
   "source": [
    "torch.save(inss_dict, 'inss_dict.pt')\n",
    "torch.save(dels_dict, 'dels_dict.pt')"
   ]
  },
  {
   "cell_type": "markdown",
   "id": "9a0ec929-c7ee-43e4-8af2-036dd4a3e076",
   "metadata": {},
   "source": [
    "### Large Hist Occl"
   ]
  },
  {
   "cell_type": "code",
   "execution_count": 32,
   "id": "c850ac9d-9ce7-4683-9f4b-fd38b0c99628",
   "metadata": {
    "tags": []
   },
   "outputs": [
    {
     "name": "stdout",
     "output_type": "stream",
     "text": [
      "shap_20 ins 0.9090477068151823 del 0.5242333252455312\n",
      "rise_20 ins 0.6522316493111873 del 0.7755477834332745\n",
      "lime_20 ins 0.7973775729575634 del 0.5548230550443558\n",
      "sop ins 0.9100916063157916 del 0.1060973498770427\n",
      "fullgrad ins 0.8301797727997302 del 0.4474515193911799\n",
      "gradcam ins 0.7893102530945424 del 0.5403505655021642\n",
      "intgrad ins 0.6787142902324547 del 0.7862346459979908\n",
      "attn ins 0.745999375443722 del 0.5123231912686607\n",
      "archipelago ins 0.8240276518955131 del 0.6075639270212139\n",
      "mfaba ins 0.855008472434621 del 0.6098628665440533\n",
      "agi ins 0.8751735294402224 del 0.5850443297345087\n",
      "ampe ins 0.7378990384990791 del 0.644818024263846\n",
      "bcos ins 0.5738050214930966 del 0.3803110783321334\n",
      "xdnn ins 0.24453277223487846 del 0.2543259058470084\n",
      "bagnet ins 0.8784463088637628 del 0.22841799392230477\n"
     ]
    }
   ],
   "source": [
    "methods = [\n",
    "    'shap_20',\n",
    "    'rise_20',\n",
    "    'lime_20',\n",
    "    'sop',\n",
    "    'fullgrad',\n",
    "    'gradcam',\n",
    "    'intgrad',\n",
    "    'attn',\n",
    "    'archipelago',\n",
    "    'mfaba',\n",
    "    'agi',\n",
    "    'ampe',\n",
    "    'bcos',\n",
    "    'xdnn',\n",
    "    'bagnet',\n",
    "]\n",
    "\n",
    "import torch\n",
    "import numpy as np\n",
    "\n",
    "inss_dict = {}\n",
    "dels_dict = {}\n",
    "inss_dict_all = {}\n",
    "dels_dict_all = {}\n",
    "\n",
    "for method in methods:\n",
    "    data = torch.load(f'/shared_data0/weiqiuy/sop/results/ins_del_large_histogram_debug/imagenet_s/{method}.pt')\n",
    "    print(method, 'ins', np.mean(data['ins']['scores_perc']), \n",
    "          'del', np.mean(data['del']['scores_perc']))\n",
    "    inss_dict[method] = data['ins']['scores_perc']\n",
    "    dels_dict[method] = data['del']['scores_perc']\n",
    "    inss_dict_all[method] = data['ins']\n",
    "    dels_dict_all[method] = data['del']\n",
    "    "
   ]
  },
  {
   "cell_type": "code",
   "execution_count": 33,
   "id": "d4cd43a5-6adc-48de-b870-83bc14c36942",
   "metadata": {
    "tags": []
   },
   "outputs": [],
   "source": [
    "torch.save(inss_dict, 'inss_hist_dict.pt')\n",
    "torch.save(dels_dict, 'dels_hist_dict.pt')"
   ]
  },
  {
   "cell_type": "code",
   "execution_count": 34,
   "id": "57b0849d-2031-4f00-b3b3-ee88e8f27011",
   "metadata": {
    "tags": []
   },
   "outputs": [
    {
     "name": "stdout",
     "output_type": "stream",
     "text": [
      "shap_20 ins 0.8426726572215557 del 0.4802574971690774\n",
      "rise_20 ins 0.6013469230383635 del 0.7208185009658337\n",
      "lime_20 ins 0.7479649148881435 del 0.5133805638179183\n",
      "sop ins 0.8438711427152157 del 0.09831391624175012\n",
      "fullgrad ins 0.7721795029938221 del 0.4144583363085985\n",
      "gradcam ins 0.7288615927100182 del 0.5039183814078569\n",
      "intgrad ins 0.6440981850028038 del 0.7145667709410191\n",
      "attn ins 0.6921353712677956 del 0.47231785394251347\n",
      "archipelago ins 0.75935916043818 del 0.5744437742978334\n",
      "mfaba ins 0.7847012337297201 del 0.5560737634077668\n",
      "agi ins 0.8078820109367371 del 0.5360831823199987\n",
      "ampe ins 0.6852656919509172 del 0.607300833798945\n",
      "bcos ins 0.317127896938473 del 0.32439465972129256\n",
      "xdnn ins 0.20367704692762345 del 0.21585789590608329\n",
      "bagnet ins 0.7307594064623117 del 0.1913893222808838\n"
     ]
    }
   ],
   "source": [
    "for method in methods:\n",
    "    print(method, 'ins', np.mean(inss_dict_all[method]['scores_mean']), 'del', np.mean(dels_dict_all[method]['scores_mean']))"
   ]
  },
  {
   "cell_type": "markdown",
   "id": "2449013f-17c9-49d0-9d64-cfc1e6c2939b",
   "metadata": {},
   "source": [
    "## small interval"
   ]
  },
  {
   "cell_type": "code",
   "execution_count": 8,
   "id": "48ec7109-e640-435a-9c91-0e9298ebe4e9",
   "metadata": {
    "tags": []
   },
   "outputs": [
    {
     "name": "stdout",
     "output_type": "stream",
     "text": [
      "shap_20 ins 0.8312070952404175 del 0.3733931121679125\n",
      "rise_20 ins 0.5899226568161582 del 0.6611914735527733\n",
      "lime_20 ins 0.8145335845466602 del 0.42845437629875194\n",
      "sop ins 0.8901901208995272 del 0.014490387549300869\n",
      "fullgrad ins 0.7587626972517474 del 0.3826255156005049\n",
      "gradcam ins 0.7723649433324549 del 0.36643512528295297\n",
      "intgrad ins 0.6114684528454964 del 0.6166266954599398\n",
      "attn ins 0.7130465605043645 del 0.3685864494690246\n",
      "archipelago ins 0.6756304067388763 del 0.5012640385330499\n",
      "mfaba ins 0.673658075803686 del 0.4988031737817251\n",
      "agi ins 0.7345093027277142 del 0.4615287586620554\n",
      "ampe ins 0.6750267081695036 del 0.5342484187978722\n",
      "bcos ins 0.25739621524825496 del 0.2879965464794855\n",
      "xdnn ins 0.19897524429870847 del 0.1555251473329159\n",
      "bagnet ins 0.5600991198055395 del 0.4173262493706358\n"
     ]
    }
   ],
   "source": [
    "import torch\n",
    "import numpy as np\n",
    "\n",
    "inss_dict = {}\n",
    "dels_dict = {}\n",
    "\n",
    "for method in methods:\n",
    "    data = torch.load(f'/shared_data0/weiqiuy/sop/results/ins_del_small/imagenet_s/{method}.pt')\n",
    "    print(method, 'ins', np.mean(data['ins']['scores_perc']), \n",
    "          'del', np.mean(data['del']['scores_perc']))\n",
    "    inss_dict[method] = data['ins']['scores_perc']\n",
    "    dels_dict[method] = data['del']['scores_perc']\n",
    "    "
   ]
  },
  {
   "cell_type": "code",
   "execution_count": 9,
   "id": "e5850f3a-92cd-4478-9747-83daa0500fce",
   "metadata": {
    "tags": []
   },
   "outputs": [],
   "source": [
    "torch.save(inss_dict, 'inss_dict_small.pt')\n",
    "torch.save(dels_dict, 'dels_dict_small.pt')"
   ]
  },
  {
   "cell_type": "code",
   "execution_count": 5,
   "id": "ce9d6523-e921-4dcb-8960-f03995dc839c",
   "metadata": {
    "tags": []
   },
   "outputs": [],
   "source": [
    "data = torch.load(f'/shared_data0/weiqiuy/sop/results/ins_del_small/imagenet_s/sop.pt')"
   ]
  },
  {
   "cell_type": "code",
   "execution_count": null,
   "id": "0cab11e7-33f7-4b01-a397-9b2553c7a676",
   "metadata": {},
   "outputs": [],
   "source": []
  },
  {
   "cell_type": "code",
   "execution_count": null,
   "id": "cba7c3a6-b6ba-490e-9305-c8c0d5aaa6ff",
   "metadata": {},
   "outputs": [],
   "source": []
  },
  {
   "cell_type": "code",
   "execution_count": 18,
   "id": "5349de0a-68be-4756-8c2c-d1e22a11959c",
   "metadata": {
    "tags": []
   },
   "outputs": [],
   "source": [
    "data = torch.load('/shared_data0/weiqiuy/sop/results/ins_del/imagenet_s/lime_20.pt')"
   ]
  },
  {
   "cell_type": "code",
   "execution_count": 19,
   "id": "df1bc832-bba2-4d5d-afd2-5608c56ccce7",
   "metadata": {
    "tags": []
   },
   "outputs": [
    {
     "data": {
      "text/plain": [
       "(dict_keys(['ins', 'del']),\n",
       " dict_keys(['scores_mean', 'scores_curve', 'scores_curve_perc']),\n",
       " [0.30941758659424384,\n",
       "  0.5342400458198,\n",
       "  0.7519785941593089,\n",
       "  0.5726131650617945,\n",
       "  0.982614019327433,\n",
       "  0.893907126682252,\n",
       "  0.8472534268134003,\n",
       "  0.9473662766869041,\n",
       "  0.8753398389306111,\n",
       "  0.9279017636587231])"
      ]
     },
     "execution_count": 19,
     "metadata": {},
     "output_type": "execute_result"
    }
   ],
   "source": [
    "data.keys(), data['ins'].keys(), data['ins']['scores_curve_perc'][:10]"
   ]
  },
  {
   "cell_type": "code",
   "execution_count": 22,
   "id": "efc04aad-5493-4053-bcf2-5f40ef76e6bd",
   "metadata": {
    "tags": []
   },
   "outputs": [
    {
     "data": {
      "text/plain": [
       "0.8209578853120209"
      ]
     },
     "execution_count": 22,
     "metadata": {},
     "output_type": "execute_result"
    }
   ],
   "source": [
    "import numpy as np\n",
    "\n",
    "np.mean(data['ins']['scores_curve_perc'])"
   ]
  },
  {
   "cell_type": "code",
   "execution_count": null,
   "id": "576d860e-a830-47f6-8bae-748a860b4862",
   "metadata": {},
   "outputs": [],
   "source": [
    "for k in results_ins['scores_curve_perc']:\n",
    "    print(k, np.mean(results_ins['scores_curve_perc'][k]))"
   ]
  },
  {
   "cell_type": "code",
   "execution_count": null,
   "id": "f880a784-5599-4868-85c6-6a89a07d0ba3",
   "metadata": {
    "tags": []
   },
   "outputs": [],
   "source": [
    "results_del = []\n",
    "for explainer_name in methods:\n",
    "    results_del[method] = get_ins_del_perc(val_config, original_model, backbone_model, model, processor,\n",
    "                     explainer_name, debug=True, deletion=True)"
   ]
  },
  {
   "cell_type": "code",
   "execution_count": null,
   "id": "566269c5-976d-496c-8af1-15a8d885193e",
   "metadata": {
    "tags": []
   },
   "outputs": [],
   "source": [
    "for k in results_del['scores_curve_perc']:\n",
    "    print(k, np.mean(results_del['scores_curve_perc'][k]))"
   ]
  },
  {
   "cell_type": "code",
   "execution_count": null,
   "id": "f10b0227-0827-43e8-a903-3d179242a79d",
   "metadata": {},
   "outputs": [],
   "source": []
  },
  {
   "cell_type": "code",
   "execution_count": null,
   "id": "78b242d3-3f07-46df-a677-fab8eb50a1f5",
   "metadata": {},
   "outputs": [],
   "source": []
  },
  {
   "cell_type": "code",
   "execution_count": null,
   "id": "beee8884-ab1e-43cf-bea5-81e7cee5b13b",
   "metadata": {},
   "outputs": [],
   "source": []
  },
  {
   "cell_type": "code",
   "execution_count": null,
   "id": "7a95e529-d540-49c7-b773-053f88cfece9",
   "metadata": {},
   "outputs": [],
   "source": []
  },
  {
   "cell_type": "markdown",
   "id": "ac30b4e9-5529-4e49-8bc1-4e9108ee36ca",
   "metadata": {},
   "source": [
    "# Accuracy"
   ]
  },
  {
   "cell_type": "code",
   "execution_count": 9,
   "id": "b3f9fce9-2bb9-4404-b904-0acd9ea8d4ee",
   "metadata": {
    "tags": []
   },
   "outputs": [],
   "source": [
    "def get_acc(explainer_name, suffix='', debug=False):\n",
    "    method = explainer_name.split('_')[0]\n",
    "    if explainer_name == 'bagnet':\n",
    "        ATTR_VAL_DATA_DIR = None\n",
    "    else:\n",
    "        ATTR_VAL_DATA_DIR = f'/shared_data0/weiqiuy/sop/exps/imagenet_vit_1/attributions_seg/{explainer_name.replace(\"-s\", \"\")}_1_pred{suffix}/val'\n",
    "\n",
    "    explainer = sop.utils.get_explainer(original_model, backbone_model, method.split('_')[0], device)\n",
    "\n",
    "    val_dataset, val_dataloader = sop.utils.get_dataset(val_config['dataset']['name'], \n",
    "                                          split=val_config['evaluation']['split'], \n",
    "                                          num_data=val_config['evaluation']['num_data'],\n",
    "                                          batch_size=val_config['evaluation']['batch_size'],\n",
    "                                                        attr_dir=ATTR_VAL_DATA_DIR,\n",
    "                                          processor=processor, debug=debug)\n",
    "\n",
    "    corrects = []\n",
    "    for bi, batch in tqdm(enumerate(val_dataloader), total=len(val_dataloader)):\n",
    "        if debug and bi >= 3:\n",
    "            break\n",
    "        # if bi != len(val_dataloader) - 1:\n",
    "        #     continue\n",
    "        if len(batch) == 5:\n",
    "            inputs, labels, segs, attrs, idxs = batch\n",
    "        else:\n",
    "            inputs, labels, segs, idxs = batch\n",
    "            attrs = None\n",
    "        inputs, labels, segs = inputs.to(device), labels.to(device), segs.to(device)\n",
    "\n",
    "        inputs_norm = inputs\n",
    "        # inputs_norm = (inputs_norm + 1) / 2\n",
    "        inputs_norm = explainer.preprocess(inputs_norm)\n",
    "        print('inputs_norm', inputs_norm.shape)\n",
    "        # inputs_norm = (inputs_norm + 1) / 2\n",
    "        outputs = explainer.model(inputs_norm)\n",
    "        probs = outputs.softmax(-1)\n",
    "        preds = probs.argmax(-1)\n",
    "        print(preds, labels, preds == labels)\n",
    "        corrects.extend((preds == labels).cpu().tolist())\n",
    "    print(sum(corrects) / len(corrects))"
   ]
  },
  {
   "cell_type": "code",
   "execution_count": 11,
   "id": "a7f45f67-1dbf-4dd9-83a3-468b6aee0123",
   "metadata": {
    "tags": []
   },
   "outputs": [
    {
     "name": "stderr",
     "output_type": "stream",
     "text": [
      "Using cache found in /home/runai-home/.cache/torch/hub/B-cos_B-cos-v2_main\n"
     ]
    },
    {
     "data": {
      "application/vnd.jupyter.widget-view+json": {
       "model_id": "b9692244841d4f96b2b1ab395464479c",
       "version_major": 2,
       "version_minor": 0
      },
      "text/plain": [
       "  0%|          | 0/1001 [00:00<?, ?it/s]"
      ]
     },
     "metadata": {},
     "output_type": "display_data"
    },
    {
     "name": "stdout",
     "output_type": "stream",
     "text": [
      "Loaded 100 images and 100 classes\n"
     ]
    },
    {
     "data": {
      "application/vnd.jupyter.widget-view+json": {
       "model_id": "8cf9827d3d254417bcfd01d5e88c8e6c",
       "version_major": 2,
       "version_minor": 0
      },
      "text/plain": [
       "  0%|          | 0/100 [00:00<?, ?it/s]"
      ]
     },
     "metadata": {},
     "output_type": "display_data"
    },
    {
     "name": "stdout",
     "output_type": "stream",
     "text": [
      "inputs_norm torch.Size([1, 6, 224, 224])\n",
      "tensor([0], device='cuda:0') tensor([0], device='cuda:0') tensor([True], device='cuda:0')\n",
      "inputs_norm torch.Size([1, 6, 224, 224])\n",
      "tensor([1], device='cuda:0') tensor([1], device='cuda:0') tensor([True], device='cuda:0')\n",
      "inputs_norm torch.Size([1, 6, 224, 224])\n",
      "tensor([2], device='cuda:0') tensor([2], device='cuda:0') tensor([True], device='cuda:0')\n",
      "1.0\n"
     ]
    }
   ],
   "source": [
    "get_acc('bcos', debug=True)"
   ]
  },
  {
   "cell_type": "code",
   "execution_count": null,
   "id": "3d1d635a-fc01-4a06-9419-d8fc62b2a4a5",
   "metadata": {},
   "outputs": [],
   "source": []
  }
 ],
 "metadata": {
  "kernelspec": {
   "display_name": "Python 3 (ipykernel)",
   "language": "python",
   "name": "python3"
  },
  "language_info": {
   "codemirror_mode": {
    "name": "ipython",
    "version": 3
   },
   "file_extension": ".py",
   "mimetype": "text/x-python",
   "name": "python",
   "nbconvert_exporter": "python",
   "pygments_lexer": "ipython3",
   "version": "3.10.10"
  }
 },
 "nbformat": 4,
 "nbformat_minor": 5
}
